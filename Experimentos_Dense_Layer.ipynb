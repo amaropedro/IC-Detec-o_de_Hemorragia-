{
  "cells": [
    {
      "cell_type": "markdown",
      "metadata": {
        "id": "Hdc5N7gp_jyz"
      },
      "source": [
        "#Experimentos de dropout\n",
        "Com **512, 1024** [N]euronios. **1, 2, 3** [L]ayers. **Sem, All, 1 Last Dense 1 e Last CNN, Só All Dense, Só Last Dense, Só All CNN, Só Last CNN** [D]ropout.\n",
        "\n",
        "Parametros:\n",
        "* Batch\t64\n",
        "* epocas\t100\n",
        "* LR\t1,00E-05\n",
        "* Optimizer\tAdam\n",
        "\n",
        "Parametros Early Stopping:\n",
        "* Monitor\tval_auc\n",
        "* Min_delta\t0\n",
        "* Patience\t5\n",
        "* verbose\t1\n",
        "* mode\tauto\n",
        "* baseline\tnone\n",
        "* restore_best_weights\tTrue"
      ]
    },
    {
      "cell_type": "markdown",
      "metadata": {
        "id": "kh6HufBFBOQW"
      },
      "source": [
        "# Imports e Installs"
      ]
    },
    {
      "cell_type": "code",
      "execution_count": null,
      "metadata": {
        "colab": {
          "base_uri": "https://localhost:8080/"
        },
        "id": "dBxew98D_f3d",
        "outputId": "be83f296-3fd5-491d-92aa-6bd2aa573b8e"
      },
      "outputs": [
        {
          "output_type": "stream",
          "name": "stdout",
          "text": [
            "Looking in indexes: https://pypi.org/simple, https://us-python.pkg.dev/colab-wheels/public/simple/\n",
            "Collecting pydicom\n",
            "  Downloading pydicom-2.3.0-py3-none-any.whl (2.0 MB)\n",
            "\u001b[K     |████████████████████████████████| 2.0 MB 30.4 MB/s \n",
            "\u001b[?25hInstalling collected packages: pydicom\n",
            "Successfully installed pydicom-2.3.0\n"
          ]
        }
      ],
      "source": [
        "import keras\n",
        "from keras.models import Sequential\n",
        "from keras.layers import Dense, Dropout, Activation, Flatten, Rescaling\n",
        "from keras.layers import Conv2D, MaxPooling2D\n",
        "from tensorflow.keras import optimizers\n",
        "from tensorflow.keras.utils import image_dataset_from_directory\n",
        "from tensorflow.keras.callbacks import TensorBoard\n",
        "\n",
        "!pip install pydicom\n",
        "import numpy as np\n",
        "import pydicom\n",
        "from PIL import Image\n",
        "import os\n",
        "\n",
        "import matplotlib.pyplot as plt\n",
        "%matplotlib inline\n",
        "\n",
        "import pickle\n",
        "import cv2"
      ]
    },
    {
      "cell_type": "code",
      "execution_count": null,
      "metadata": {
        "colab": {
          "base_uri": "https://localhost:8080/"
        },
        "id": "4QiRom9VBXyO",
        "outputId": "bd0a8a98-38c6-48f7-be7b-51ec6d95689c"
      },
      "outputs": [
        {
          "output_type": "stream",
          "name": "stdout",
          "text": [
            "Mounted at /content/gdrive\n"
          ]
        }
      ],
      "source": [
        "from google.colab import drive\n",
        "drive.mount('/content/gdrive')"
      ]
    },
    {
      "cell_type": "code",
      "execution_count": null,
      "metadata": {
        "id": "jMgO-lGHBZjo"
      },
      "outputs": [],
      "source": [
        "!mkdir ~/.kaggle\n",
        "! cp kaggle.json ~/.kaggle/\n",
        "!chmod 600 /root/.kaggle/kaggle.json"
      ]
    },
    {
      "cell_type": "markdown",
      "metadata": {
        "id": "mhDRQJZjBsfu"
      },
      "source": [
        "# Ajustando o DS"
      ]
    },
    {
      "cell_type": "markdown",
      "metadata": {
        "id": "k7yjVCRxBvcy"
      },
      "source": [
        "## Baixando o DS"
      ]
    },
    {
      "cell_type": "code",
      "execution_count": null,
      "metadata": {
        "colab": {
          "base_uri": "https://localhost:8080/"
        },
        "id": "BL-zCU80wu8Q",
        "outputId": "9788817a-43d4-474f-c67d-51303b54c97d"
      },
      "outputs": [
        {
          "output_type": "stream",
          "name": "stdout",
          "text": [
            "Downloading smaller-rsna-ds-train-test.zip to /content\n",
            "100% 7.25G/7.25G [03:15<00:00, 59.5MB/s]\n",
            "100% 7.25G/7.25G [03:15<00:00, 39.8MB/s]\n"
          ]
        }
      ],
      "source": [
        "!kaggle datasets download -d pedroamaro/smaller-rsna-ds-train-test"
      ]
    },
    {
      "cell_type": "code",
      "execution_count": null,
      "metadata": {
        "colab": {
          "base_uri": "https://localhost:8080/"
        },
        "id": "ZBNQnYz-0EWs",
        "outputId": "04890bf0-58ca-4eb9-9230-36979382b39a"
      },
      "outputs": [
        {
          "output_type": "stream",
          "name": "stdout",
          "text": [
            ". . . . . . . . . . . . . . . . . . . . . . . . . . . . . . . . . . . "
          ]
        }
      ],
      "source": [
        "!unzip /content/smaller-rsna-ds-train-test.zip | awk 'BEGIN {ORS=\" \"} {if(NR%1000==0)print \".\"}'\n",
        "!rm /content/smaller-rsna-ds-train-test.zip"
      ]
    },
    {
      "cell_type": "code",
      "execution_count": null,
      "metadata": {
        "colab": {
          "base_uri": "https://localhost:8080/"
        },
        "id": "RPKduTwuNeAR",
        "outputId": "b0c81415-add6-4544-f6c6-12f1c6d125a6"
      },
      "outputs": [
        {
          "output_type": "stream",
          "name": "stdout",
          "text": [
            "Numero de imagens: NO\n",
            "20047\n",
            "Numero de imagens: YES\n",
            "3287\n"
          ]
        }
      ],
      "source": [
        "print('Numero de imagens: NO')\n",
        "!ls /content/small_rsna_ds_train/no | wc -l\n",
        "print('Numero de imagens: YES')\n",
        "!ls /content/small_rsna_ds_train/yes | wc -l"
      ]
    },
    {
      "cell_type": "markdown",
      "metadata": {
        "id": "Q4Rp5hVzN0f0"
      },
      "source": [
        "## Salvando como JPG e aplicando full windowing"
      ]
    },
    {
      "cell_type": "code",
      "execution_count": null,
      "metadata": {
        "id": "-0YUsQ5a9uok"
      },
      "outputs": [],
      "source": [
        "!mkdir small_rsna_ds_as_jpg\n",
        "!mkdir /content/small_rsna_ds_as_jpg/no\n",
        "!mkdir /content/small_rsna_ds_as_jpg/yes\n",
        "\n",
        "!mkdir test_as_jpg\n",
        "!mkdir test_as_jpg/no\n",
        "!mkdir test_as_jpg/yes"
      ]
    },
    {
      "cell_type": "code",
      "execution_count": null,
      "metadata": {
        "id": "bPDf68wT9ykv"
      },
      "outputs": [],
      "source": [
        "def segment_circle(windowed):\n",
        "    original = windowed.copy().astype(\"uint8\")\n",
        "    mask = np.zeros(original.shape, dtype=np.uint8)\n",
        "    gray = original\n",
        "    thresh = cv2.threshold(gray, 0, 255, cv2.THRESH_BINARY + cv2.THRESH_OTSU)[1]\n",
        "    kernel = cv2.getStructuringElement(cv2.MORPH_ELLIPSE, (5,5))\n",
        "    close = cv2.morphologyEx(thresh, cv2.MORPH_CLOSE, kernel, iterations=5)\n",
        "    cnts = cv2.findContours(close, cv2.RETR_TREE, cv2.CHAIN_APPROX_SIMPLE)\n",
        "    cnts = cnts[0] if len(cnts) == 2 else cnts[1]\n",
        "    for c in cnts:\n",
        "        peri = cv2.arcLength(c, True)\n",
        "        approx = cv2.approxPolyDP(c, 0.04 * peri, True)\n",
        "        area = cv2.contourArea(c)\n",
        "        if len(approx) > 4 and area > 10000 and area < 500000:\n",
        "            ((x, y), r) = cv2.minEnclosingCircle(c)\n",
        "            cv2.circle(mask, (int(x), int(y)), int(r), (255, 255, 255), -1)\n",
        "            cv2.circle(original, (int(x), int(y)), int(r), (36, 255, 12), 0)\n",
        "    x,y,w,h = cv2.boundingRect(mask)\n",
        "    mask_ROI = mask[y:y+h, x:x+w]\n",
        "    image_ROI = original[y:y+h, x:x+w]\n",
        "    result = cv2.bitwise_and(image_ROI, image_ROI, mask=mask_ROI)\n",
        "    return result, (x, y, w, h)\n",
        "\n",
        "def correct_dcm(dcm):\n",
        "    x = dcm.pixel_array + 1000\n",
        "    px_mode = 4096\n",
        "    x[x>=px_mode] = x[x>=px_mode] - px_mode\n",
        "    dcm.PixelData = x.tobytes()\n",
        "    dcm.RescaleIntercept = -1000\n",
        "\n",
        "def window_image(img, window_center, window_width):\n",
        "    img_min = window_center - window_width // 2\n",
        "    img_max = window_center + window_width // 2\n",
        "    img = np.clip(img, img_min, img_max)\n",
        "    return img\n",
        "\n",
        "\n",
        "def preprocess_and_segment(path, make_correct=True):    \n",
        "    dcm = pydicom.dcmread(path)\n",
        "    if make_correct and (dcm.BitsStored == 12) and (dcm.PixelRepresentation == 0) and (int(dcm.RescaleIntercept) > -100):\n",
        "        correct_dcm(dcm)\n",
        "\n",
        "    sample = dcm.pixel_array.astype(\"float32\") * dcm.RescaleSlope + dcm.RescaleIntercept\n",
        "\n",
        "    brain_window = window_image(sample, 40, 80)\n",
        "    dural_window = window_image(sample, 80, 200)\n",
        "    bone_window = window_image(sample, 600, 2800)\n",
        "\n",
        "    brain_window, (x,y,w,h) = segment_circle(brain_window)\n",
        "    if brain_window is None:\n",
        "        return np.zeros((512, 512, 3))\n",
        "    dural_window = dural_window[y:y+h, x:x+w]\n",
        "    bone_window = bone_window[y:y+h, x:x+w]\n",
        "    \n",
        "    brain_window = (brain_window - (0.)) / 80.\n",
        "    dural_window = (dural_window - (-20.)) / 200.\n",
        "    bone_window = (bone_window - (-1200.)) / 2800.\n",
        "    img_3ch = np.dstack([brain_window, dural_window, bone_window]).astype(\"float32\")\n",
        "\n",
        "    return img_3ch\n",
        "\n",
        "\n",
        "def save_W_as_jpg(path, id, dest_folder):\n",
        "\n",
        "  im_3ch = preprocess_and_segment(path)\n",
        "\n",
        "  im = window_image(im_3ch, 40, 80)\n",
        "\n",
        "  rescaled_im = (np.maximum(im, 0)/im.max())*255.0\n",
        "  final_im = np.uint8(rescaled_im)\n",
        "\n",
        "  final_im = Image.fromarray(final_im)\n",
        "  final_im.save(dest_folder+id+'.jpg')"
      ]
    },
    {
      "cell_type": "markdown",
      "metadata": {
        "id": "qQBZgCOkP758"
      },
      "source": [
        "### Para o conjunto Train"
      ]
    },
    {
      "cell_type": "code",
      "execution_count": null,
      "metadata": {
        "colab": {
          "base_uri": "https://localhost:8080/"
        },
        "id": "XUcLXxQt9z5b",
        "outputId": "a4e555a1-db5b-46e1-8f4d-5dc1c073115a"
      },
      "outputs": [
        {
          "output_type": "stream",
          "name": "stderr",
          "text": [
            "/usr/local/lib/python3.7/dist-packages/ipykernel_launcher.py:69: RuntimeWarning: invalid value encountered in true_divide\n"
          ]
        }
      ],
      "source": [
        "train_path = \"/content/small_rsna_ds_train/yes/\"\n",
        "folder = os.listdir(\"/content/small_rsna_ds_train/yes/\")\n",
        "dest_folder = \"/content/small_rsna_ds_as_jpg/yes/\"\n",
        "\n",
        "for id_ in folder:\n",
        "  img_id = id_[:12]\n",
        "  save_W_as_jpg(train_path + f\"{id_}\", img_id, dest_folder)"
      ]
    },
    {
      "cell_type": "code",
      "execution_count": null,
      "metadata": {
        "id": "rOjiLkNp91hy",
        "colab": {
          "base_uri": "https://localhost:8080/"
        },
        "outputId": "2cb4e749-c3cd-46de-afcd-e07d274aae85"
      },
      "outputs": [
        {
          "output_type": "stream",
          "name": "stderr",
          "text": [
            "/usr/local/lib/python3.7/dist-packages/ipykernel_launcher.py:69: RuntimeWarning: invalid value encountered in true_divide\n"
          ]
        }
      ],
      "source": [
        "train_path = \"/content/small_rsna_ds_train/no/\"\n",
        "folder = os.listdir(\"/content/small_rsna_ds_train/no/\")\n",
        "dest_folder = \"/content/small_rsna_ds_as_jpg/no/\"\n",
        "\n",
        "for id_ in folder:\n",
        "  img_id = id_[:12]\n",
        "  save_W_as_jpg(train_path + f\"{id_}\", img_id, dest_folder)"
      ]
    },
    {
      "cell_type": "code",
      "execution_count": null,
      "metadata": {
        "id": "685g4iwg-6ow",
        "colab": {
          "base_uri": "https://localhost:8080/"
        },
        "outputId": "316e2ad5-b4d6-4a99-e02d-f71902fe52f1"
      },
      "outputs": [
        {
          "output_type": "stream",
          "name": "stdout",
          "text": [
            "Numero de imagens: NO\n",
            "20047\n",
            "Numero de imagens: YES\n",
            "3287\n"
          ]
        }
      ],
      "source": [
        "print('Numero de imagens: NO')\n",
        "!ls /content/small_rsna_ds_as_jpg/no/ | wc -l\n",
        "print('Numero de imagens: YES')\n",
        "!ls /content/small_rsna_ds_as_jpg/yes/ | wc -l"
      ]
    },
    {
      "cell_type": "markdown",
      "metadata": {
        "id": "zIJjWox-P_Xk"
      },
      "source": [
        "### Para o conjunto Test"
      ]
    },
    {
      "cell_type": "code",
      "execution_count": null,
      "metadata": {
        "id": "FoGysyXiQDJ1",
        "colab": {
          "base_uri": "https://localhost:8080/"
        },
        "outputId": "788c84fe-f64e-4415-9c6e-eecf45fc215b"
      },
      "outputs": [
        {
          "output_type": "stream",
          "name": "stderr",
          "text": [
            "/usr/local/lib/python3.7/dist-packages/ipykernel_launcher.py:69: RuntimeWarning: invalid value encountered in true_divide\n"
          ]
        }
      ],
      "source": [
        "train_path = \"/content/small_rsna_ds_test/yes/\"\n",
        "folder = os.listdir(\"/content/small_rsna_ds_test/yes/\")\n",
        "dest_folder = \"/content/test_as_jpg/yes/\"\n",
        "\n",
        "for id_ in folder:\n",
        "  img_id = id_[:12]\n",
        "  save_W_as_jpg(train_path + f\"{id_}\", img_id, dest_folder)"
      ]
    },
    {
      "cell_type": "code",
      "execution_count": null,
      "metadata": {
        "id": "fnjReU73QDJ2",
        "colab": {
          "base_uri": "https://localhost:8080/"
        },
        "outputId": "c0b6a6d2-5810-4993-ddc6-831b87501816"
      },
      "outputs": [
        {
          "output_type": "stream",
          "name": "stderr",
          "text": [
            "/usr/local/lib/python3.7/dist-packages/ipykernel_launcher.py:69: RuntimeWarning: invalid value encountered in true_divide\n"
          ]
        }
      ],
      "source": [
        "train_path = \"/content/small_rsna_ds_test/no/\"\n",
        "folder = os.listdir(\"/content/small_rsna_ds_test/no/\")\n",
        "dest_folder = \"/content/test_as_jpg/no/\"\n",
        "\n",
        "for id_ in folder:\n",
        "  img_id = id_[:12]\n",
        "  save_W_as_jpg(train_path + f\"{id_}\", img_id, dest_folder)"
      ]
    },
    {
      "cell_type": "code",
      "execution_count": null,
      "metadata": {
        "id": "MLeecKqrQDJ2",
        "colab": {
          "base_uri": "https://localhost:8080/"
        },
        "outputId": "cd5aa7c2-d50f-4968-c84a-4bbf4539bff7"
      },
      "outputs": [
        {
          "output_type": "stream",
          "name": "stdout",
          "text": [
            "Numero de imagens: NO\n",
            "10022\n",
            "Numero de imagens: YES\n",
            "1643\n"
          ]
        }
      ],
      "source": [
        "print('Numero de imagens: NO')\n",
        "!ls /content/test_as_jpg/no/ | wc -l\n",
        "print('Numero de imagens: YES')\n",
        "!ls /content/test_as_jpg/yes/ | wc -l"
      ]
    },
    {
      "cell_type": "markdown",
      "metadata": {
        "id": "1vLx4FnN9pTL"
      },
      "source": [
        "# Carregando o dataset"
      ]
    },
    {
      "cell_type": "code",
      "execution_count": null,
      "metadata": {
        "id": "Y9-K7AMD10NK",
        "colab": {
          "base_uri": "https://localhost:8080/"
        },
        "outputId": "d7d6f399-bbaf-4f27-c659-8ef120c07351"
      },
      "outputs": [
        {
          "output_type": "stream",
          "name": "stdout",
          "text": [
            "Found 23334 files belonging to 2 classes.\n",
            "Using 15556 files for training.\n"
          ]
        }
      ],
      "source": [
        "train_data = image_dataset_from_directory(\n",
        "    \"/content/small_rsna_ds_as_jpg\",\n",
        "     labels='inferred',\n",
        "     validation_split=1/3,\n",
        "     subset=\"training\",\n",
        "     seed=123,\n",
        "     batch_size = 64,\n",
        "     color_mode = \"rgb\"\n",
        "     )"
      ]
    },
    {
      "cell_type": "code",
      "execution_count": null,
      "metadata": {
        "id": "1tdF_VgO425w",
        "colab": {
          "base_uri": "https://localhost:8080/"
        },
        "outputId": "6103759e-fe6c-43c5-e019-733bb247d38d"
      },
      "outputs": [
        {
          "output_type": "stream",
          "name": "stdout",
          "text": [
            "Found 23334 files belonging to 2 classes.\n",
            "Using 7778 files for validation.\n"
          ]
        }
      ],
      "source": [
        "val_data = image_dataset_from_directory(\n",
        "    \"/content/small_rsna_ds_as_jpg\",\n",
        "     labels='inferred',\n",
        "     validation_split=1/3,\n",
        "     subset=\"validation\",\n",
        "     seed=123,\n",
        "     batch_size = 64,\n",
        "     color_mode = \"rgb\"\n",
        ")"
      ]
    },
    {
      "cell_type": "code",
      "execution_count": null,
      "metadata": {
        "id": "co1kN22wQxHE",
        "colab": {
          "base_uri": "https://localhost:8080/"
        },
        "outputId": "e4d1dfd2-d3a6-4cc2-d24e-b536e288e18f"
      },
      "outputs": [
        {
          "output_type": "stream",
          "name": "stdout",
          "text": [
            "Found 11665 files belonging to 2 classes.\n"
          ]
        }
      ],
      "source": [
        "test_data = image_dataset_from_directory(\n",
        "    \"/content/test_as_jpg\",\n",
        "     labels='inferred',\n",
        "     label_mode=\"int\",\n",
        "     batch_size = 64,\n",
        "     color_mode = \"rgb\"\n",
        "     )"
      ]
    },
    {
      "cell_type": "code",
      "execution_count": null,
      "metadata": {
        "id": "QV4OSt9S20R3"
      },
      "outputs": [],
      "source": [
        "class_names = train_data.class_names"
      ]
    },
    {
      "cell_type": "markdown",
      "metadata": {
        "id": "9F0cjcFhC6wf"
      },
      "source": [
        "## Normalizando e Pegando o tamanho de entrada"
      ]
    },
    {
      "cell_type": "code",
      "execution_count": null,
      "metadata": {
        "id": "2VNwEKeA8MGV",
        "colab": {
          "base_uri": "https://localhost:8080/"
        },
        "outputId": "8ef8f461-146a-48b2-abd6-91ec70ef4a1b"
      },
      "outputs": [
        {
          "output_type": "stream",
          "name": "stdout",
          "text": [
            "(64, 256, 256, 3)\n",
            "(64,)\n"
          ]
        }
      ],
      "source": [
        "for image_batch, labels_batch in train_data:\n",
        "  print(image_batch.shape)\n",
        "  print(labels_batch.shape)\n",
        "  break"
      ]
    },
    {
      "cell_type": "code",
      "execution_count": null,
      "metadata": {
        "id": "rWyT6SWbCpKK",
        "colab": {
          "base_uri": "https://localhost:8080/"
        },
        "outputId": "5dfe450e-7d9d-4e35-d2db-e88449693da7"
      },
      "outputs": [
        {
          "output_type": "stream",
          "name": "stdout",
          "text": [
            "0.0 1.0\n"
          ]
        }
      ],
      "source": [
        "normalization_layer = Rescaling(1./255)\n",
        "\n",
        "normalized_data = train_data.map(lambda x, y: (normalization_layer(x), y))\n",
        "image_batch, labels_batch = next(iter(normalized_data))\n",
        "first_image = image_batch[0]\n",
        "# Notice the pixel values are now in `[0,1]`.\n",
        "print(np.min(first_image), np.max(first_image))"
      ]
    },
    {
      "cell_type": "markdown",
      "metadata": {
        "id": "3MJEiwt0DLrs"
      },
      "source": [
        "# Experimentos"
      ]
    },
    {
      "cell_type": "markdown",
      "metadata": {
        "id": "NdjrZ3K5DvnC"
      },
      "source": [
        "## N = 512 [OK]"
      ]
    },
    {
      "cell_type": "code",
      "execution_count": null,
      "metadata": {
        "id": "P44S80iIDyRM"
      },
      "outputs": [],
      "source": [
        "N = 512"
      ]
    },
    {
      "cell_type": "markdown",
      "metadata": {
        "id": "QAjky1wbKqh_"
      },
      "source": [
        "### L = 1 [OK]"
      ]
    },
    {
      "cell_type": "markdown",
      "metadata": {
        "id": "3k2OlF4yT5e0"
      },
      "source": [
        "#### D = 0 [OK]"
      ]
    },
    {
      "cell_type": "code",
      "execution_count": null,
      "metadata": {
        "id": "CA957PZrWiLa"
      },
      "outputs": [],
      "source": [
        "NAME = \"N512-L1-D0\"\n",
        "keras.backend.clear_session()"
      ]
    },
    {
      "cell_type": "code",
      "execution_count": null,
      "metadata": {
        "colab": {
          "base_uri": "https://localhost:8080/"
        },
        "id": "5PXnb8opT4rO",
        "outputId": "2059d280-af1c-4858-9bdc-f5d2d4652b74"
      },
      "outputs": [
        {
          "name": "stdout",
          "output_type": "stream",
          "text": [
            "Model: \"sequential\"\n",
            "_________________________________________________________________\n",
            " Layer (type)                Output Shape              Param #   \n",
            "=================================================================\n",
            " conv2d (Conv2D)             (None, 256, 256, 32)      896       \n",
            "                                                                 \n",
            " conv2d_1 (Conv2D)           (None, 128, 128, 32)      9248      \n",
            "                                                                 \n",
            " conv2d_2 (Conv2D)           (None, 64, 64, 64)        18496     \n",
            "                                                                 \n",
            " max_pooling2d (MaxPooling2D  (None, 32, 32, 64)       0         \n",
            " )                                                               \n",
            "                                                                 \n",
            " dense (Dense)               (None, 32, 32, 128)       8320      \n",
            "                                                                 \n",
            " flatten (Flatten)           (None, 131072)            0         \n",
            "                                                                 \n",
            " dense_1 (Dense)             (None, 512)               67109376  \n",
            "                                                                 \n",
            " dense_2 (Dense)             (None, 1)                 513       \n",
            "                                                                 \n",
            "=================================================================\n",
            "Total params: 67,146,849\n",
            "Trainable params: 67,146,849\n",
            "Non-trainable params: 0\n",
            "_________________________________________________________________\n"
          ]
        }
      ],
      "source": [
        "ins = image_batch.shape[1:]\n",
        "\n",
        "model = Sequential()\n",
        "\n",
        "model.add(Conv2D(32, (3,3), padding=\"same\", activation=\"relu\", input_shape=ins))\n",
        "\n",
        "model.add(Conv2D(32, (3,3), padding=\"same\", strides = (2,2), activation=\"relu\"))\n",
        "\n",
        "model.add(Conv2D(64, (3,3), padding=\"same\", strides = (2,2), activation=\"relu\"))\n",
        "\n",
        "model.add(MaxPooling2D(pool_size=(2, 2)))\n",
        "\n",
        "model.add(Dense(128, activation=\"relu\"))\n",
        "\n",
        "model.add(Flatten())\n",
        "\n",
        "model.add(Dense(N, activation=\"relu\"))\n",
        "\n",
        "model.add(Dense(1, activation=\"sigmoid\"))\n",
        "\n",
        "model.summary()"
      ]
    },
    {
      "cell_type": "code",
      "execution_count": null,
      "metadata": {
        "id": "OXw2jNSpE1G-"
      },
      "outputs": [],
      "source": [
        "tensorboard = TensorBoard(log_dir=\"/content/gdrive/MyDrive/Dense Experiments/Logs/{}\".format(NAME))"
      ]
    },
    {
      "cell_type": "code",
      "execution_count": null,
      "metadata": {
        "id": "kxEJDCaJWCTx"
      },
      "outputs": [],
      "source": [
        "model.compile(loss='binary_crossentropy', optimizer=optimizers.Adam(learning_rate=0.00001), metrics=[keras.metrics.AUC(), 'accuracy'])"
      ]
    },
    {
      "cell_type": "code",
      "execution_count": null,
      "metadata": {
        "colab": {
          "base_uri": "https://localhost:8080/"
        },
        "id": "VQaW9xjtWIMx",
        "outputId": "15aa4cc5-0e9f-4308-d3aa-d40cb6edda53"
      },
      "outputs": [
        {
          "name": "stdout",
          "output_type": "stream",
          "text": [
            "Epoch 1/100\n",
            "244/244 [==============================] - 75s 246ms/step - loss: 1.4177 - auc: 0.6011 - accuracy: 0.8145 - val_loss: 0.8785 - val_auc: 0.7520 - val_accuracy: 0.6305\n",
            "Epoch 2/100\n",
            "244/244 [==============================] - 60s 241ms/step - loss: 0.4418 - auc: 0.7290 - accuracy: 0.8429 - val_loss: 0.4296 - val_auc: 0.7387 - val_accuracy: 0.8631\n",
            "Epoch 3/100\n",
            "244/244 [==============================] - 64s 259ms/step - loss: 0.3736 - auc: 0.7848 - accuracy: 0.8594 - val_loss: 0.4378 - val_auc: 0.7826 - val_accuracy: 0.7948\n",
            "Epoch 4/100\n",
            "244/244 [==============================] - 60s 243ms/step - loss: 0.3432 - auc: 0.8108 - accuracy: 0.8687 - val_loss: 0.7476 - val_auc: 0.7907 - val_accuracy: 0.6520\n",
            "Epoch 5/100\n",
            "244/244 [==============================] - 61s 246ms/step - loss: 0.3459 - auc: 0.8182 - accuracy: 0.8707 - val_loss: 0.3974 - val_auc: 0.7982 - val_accuracy: 0.8277\n",
            "Epoch 6/100\n",
            "244/244 [==============================] - 60s 245ms/step - loss: 0.2813 - auc: 0.8645 - accuracy: 0.8916 - val_loss: 0.4487 - val_auc: 0.7464 - val_accuracy: 0.8665\n",
            "Epoch 7/100\n",
            "244/244 [==============================] - 67s 270ms/step - loss: 0.2456 - auc: 0.8919 - accuracy: 0.9073 - val_loss: 0.4111 - val_auc: 0.7583 - val_accuracy: 0.8692\n",
            "Epoch 8/100\n",
            "244/244 [==============================] - 60s 245ms/step - loss: 0.2405 - auc: 0.8986 - accuracy: 0.9076 - val_loss: 0.5495 - val_auc: 0.7065 - val_accuracy: 0.8645\n",
            "Epoch 9/100\n",
            "244/244 [==============================] - 63s 256ms/step - loss: 0.2291 - auc: 0.9074 - accuracy: 0.9139 - val_loss: 0.6795 - val_auc: 0.8017 - val_accuracy: 0.7002\n",
            "Epoch 10/100\n",
            "244/244 [==============================] - 62s 252ms/step - loss: 0.2054 - auc: 0.9244 - accuracy: 0.9269 - val_loss: 0.4568 - val_auc: 0.7497 - val_accuracy: 0.8681\n",
            "Epoch 11/100\n",
            "244/244 [==============================] - 68s 275ms/step - loss: 0.1819 - auc: 0.9401 - accuracy: 0.9337 - val_loss: 0.3914 - val_auc: 0.7838 - val_accuracy: 0.8681\n",
            "Epoch 12/100\n",
            "244/244 [==============================] - 60s 243ms/step - loss: 0.1838 - auc: 0.9389 - accuracy: 0.9313 - val_loss: 0.4710 - val_auc: 0.7494 - val_accuracy: 0.8692\n",
            "Epoch 13/100\n",
            "244/244 [==============================] - 63s 255ms/step - loss: 0.1729 - auc: 0.9448 - accuracy: 0.9380 - val_loss: 0.4074 - val_auc: 0.7825 - val_accuracy: 0.8620\n",
            "Epoch 14/100\n",
            "243/244 [============================>.] - ETA: 0s - loss: 0.1577 - auc: 0.9533 - accuracy: 0.9450Restoring model weights from the end of the best epoch: 9.\n",
            "244/244 [==============================] - 65s 262ms/step - loss: 0.1576 - auc: 0.9533 - accuracy: 0.9450 - val_loss: 0.4276 - val_auc: 0.7693 - val_accuracy: 0.8718\n",
            "Epoch 14: early stopping\n"
          ]
        }
      ],
      "source": [
        "run_hist = model.fit(train_data, validation_data=val_data, epochs=100, \n",
        "  callbacks=[tensorboard,\n",
        "              keras.callbacks.EarlyStopping(\n",
        "                  monitor=\"val_auc\",\n",
        "                  min_delta=0,\n",
        "                  patience=5,\n",
        "                  verbose=1,\n",
        "                  mode=\"auto\",\n",
        "                  baseline=None,\n",
        "                  restore_best_weights=True,\n",
        "              )])"
      ]
    },
    {
      "cell_type": "code",
      "execution_count": null,
      "metadata": {
        "colab": {
          "base_uri": "https://localhost:8080/",
          "height": 235
        },
        "id": "jTG0vUtGc-Qw",
        "outputId": "fb2501d7-cb4f-4443-adaf-1b70a38781e3"
      },
      "outputs": [
        {
          "name": "stdout",
          "output_type": "stream",
          "text": [
            "183/183 [==============================] - 22s 112ms/step - loss: 0.6986 - auc: 0.7940 - accuracy: 0.6905\n",
            "[0.698626697063446, 0.7940026521682739, 0.6905272006988525]\n"
          ]
        },
        {
          "ename": "AttributeError",
          "evalue": "ignored",
          "output_type": "error",
          "traceback": [
            "\u001b[0;31m---------------------------------------------------------------------------\u001b[0m",
            "\u001b[0;31mAttributeError\u001b[0m                            Traceback (most recent call last)",
            "\u001b[0;32m<ipython-input-35-0efb7a139988>\u001b[0m in \u001b[0;36m<module>\u001b[0;34m()\u001b[0m\n\u001b[1;32m      3\u001b[0m \u001b[0;34m\u001b[0m\u001b[0m\n\u001b[1;32m      4\u001b[0m \u001b[0mpickle\u001b[0m \u001b[0;34m=\u001b[0m \u001b[0mopen\u001b[0m\u001b[0;34m(\u001b[0m\u001b[0;34m'/content/gdrive/MyDrive/Dense Experiments/Results/{}.pkl'\u001b[0m\u001b[0;34m.\u001b[0m\u001b[0mformat\u001b[0m\u001b[0;34m(\u001b[0m\u001b[0mNAME\u001b[0m\u001b[0;34m)\u001b[0m\u001b[0;34m,\u001b[0m \u001b[0;34m'wb'\u001b[0m\u001b[0;34m)\u001b[0m\u001b[0;34m\u001b[0m\u001b[0;34m\u001b[0m\u001b[0m\n\u001b[0;32m----> 5\u001b[0;31m \u001b[0mpickle\u001b[0m\u001b[0;34m.\u001b[0m\u001b[0mdump\u001b[0m\u001b[0;34m(\u001b[0m\u001b[0mresults\u001b[0m\u001b[0;34m,\u001b[0m \u001b[0mpickle\u001b[0m\u001b[0;34m)\u001b[0m\u001b[0;34m\u001b[0m\u001b[0;34m\u001b[0m\u001b[0m\n\u001b[0m",
            "\u001b[0;31mAttributeError\u001b[0m: '_io.BufferedWriter' object has no attribute 'dump'"
          ]
        }
      ],
      "source": [
        "results = model.evaluate(test_data)\n",
        "print(results)\n",
        "\n",
        "results_pkl = open('/content/gdrive/MyDrive/Dense Experiments/Results/{}.pkl'.format(NAME), 'wb')\n",
        "pickle.dump(results, results_pkl)"
      ]
    },
    {
      "cell_type": "code",
      "execution_count": null,
      "metadata": {
        "id": "zN-HEkoiSXF9"
      },
      "outputs": [],
      "source": [
        "results_pkl = open('/content/gdrive/MyDrive/Dense Experiments/Results/{}.pkl'.format(NAME), 'wb')\n",
        "pickle.dump(results, results_pkl)"
      ]
    },
    {
      "cell_type": "markdown",
      "metadata": {
        "id": "iHx0deOUK1bG"
      },
      "source": [
        "#### D = 1 [OK]"
      ]
    },
    {
      "cell_type": "code",
      "execution_count": null,
      "metadata": {
        "id": "Lkpq12PqK1bG"
      },
      "outputs": [],
      "source": [
        "NAME = \"N512-L1-D1\"\n",
        "keras.backend.clear_session()"
      ]
    },
    {
      "cell_type": "code",
      "execution_count": null,
      "metadata": {
        "colab": {
          "base_uri": "https://localhost:8080/"
        },
        "id": "tKfazQyBK1bG",
        "outputId": "88c452f0-bcf2-42fc-c57a-f8958e466cd3"
      },
      "outputs": [
        {
          "name": "stdout",
          "output_type": "stream",
          "text": [
            "Model: \"sequential\"\n",
            "_________________________________________________________________\n",
            " Layer (type)                Output Shape              Param #   \n",
            "=================================================================\n",
            " conv2d (Conv2D)             (None, 256, 256, 32)      896       \n",
            "                                                                 \n",
            " dropout (Dropout)           (None, 256, 256, 32)      0         \n",
            "                                                                 \n",
            " conv2d_1 (Conv2D)           (None, 128, 128, 32)      9248      \n",
            "                                                                 \n",
            " dropout_1 (Dropout)         (None, 128, 128, 32)      0         \n",
            "                                                                 \n",
            " conv2d_2 (Conv2D)           (None, 64, 64, 64)        18496     \n",
            "                                                                 \n",
            " dropout_2 (Dropout)         (None, 64, 64, 64)        0         \n",
            "                                                                 \n",
            " max_pooling2d (MaxPooling2D  (None, 32, 32, 64)       0         \n",
            " )                                                               \n",
            "                                                                 \n",
            " dense (Dense)               (None, 32, 32, 128)       8320      \n",
            "                                                                 \n",
            " flatten (Flatten)           (None, 131072)            0         \n",
            "                                                                 \n",
            " dense_1 (Dense)             (None, 512)               67109376  \n",
            "                                                                 \n",
            " dropout_3 (Dropout)         (None, 512)               0         \n",
            "                                                                 \n",
            " dense_2 (Dense)             (None, 1)                 513       \n",
            "                                                                 \n",
            "=================================================================\n",
            "Total params: 67,146,849\n",
            "Trainable params: 67,146,849\n",
            "Non-trainable params: 0\n",
            "_________________________________________________________________\n"
          ]
        }
      ],
      "source": [
        "ins = image_batch.shape[1:]\n",
        "\n",
        "model = Sequential()\n",
        "\n",
        "model.add(Conv2D(32, (3,3), padding=\"same\", activation=\"relu\", input_shape=ins))\n",
        "\n",
        "model.add(Dropout(0.1))\n",
        "\n",
        "model.add(Conv2D(32, (3,3), padding=\"same\", strides = (2,2), activation=\"relu\"))\n",
        "\n",
        "model.add(Dropout(0.1))\n",
        "\n",
        "model.add(Conv2D(64, (3,3), padding=\"same\", strides = (2,2), activation=\"relu\"))\n",
        "\n",
        "model.add(Dropout(0.1))\n",
        "\n",
        "model.add(MaxPooling2D(pool_size=(2, 2)))\n",
        "\n",
        "model.add(Dense(128, activation=\"relu\"))\n",
        "\n",
        "model.add(Flatten())\n",
        "\n",
        "model.add(Dense(N, activation=\"relu\"))\n",
        "\n",
        "model.add(Dropout(0.5))\n",
        "\n",
        "model.add(Dense(1, activation=\"sigmoid\"))\n",
        "\n",
        "model.summary()"
      ]
    },
    {
      "cell_type": "code",
      "execution_count": null,
      "metadata": {
        "id": "ahgL4uAiK1bG"
      },
      "outputs": [],
      "source": [
        "tensorboard = TensorBoard(log_dir=\"/content/gdrive/MyDrive/Dense Experiments/Logs/{}\".format(NAME))"
      ]
    },
    {
      "cell_type": "code",
      "execution_count": null,
      "metadata": {
        "id": "ojv8o-xJK1bG"
      },
      "outputs": [],
      "source": [
        "model.compile(loss='binary_crossentropy', optimizer=optimizers.Adam(learning_rate=0.00001), metrics=[keras.metrics.AUC(), 'accuracy'])"
      ]
    },
    {
      "cell_type": "code",
      "execution_count": null,
      "metadata": {
        "colab": {
          "base_uri": "https://localhost:8080/"
        },
        "id": "gQxx4GZWK1bH",
        "outputId": "50ca0f06-7e51-4b43-b184-4fbdb410d386"
      },
      "outputs": [
        {
          "name": "stdout",
          "output_type": "stream",
          "text": [
            "Epoch 1/100\n",
            "244/244 [==============================] - 77s 307ms/step - loss: 1.0723 - auc: 0.5539 - accuracy: 0.8289 - val_loss: 0.3900 - val_auc: 0.7488 - val_accuracy: 0.8579\n",
            "Epoch 2/100\n",
            "244/244 [==============================] - 72s 295ms/step - loss: 0.3857 - auc: 0.6899 - accuracy: 0.8573 - val_loss: 0.3594 - val_auc: 0.7613 - val_accuracy: 0.8582\n",
            "Epoch 3/100\n",
            "244/244 [==============================] - 74s 299ms/step - loss: 0.3758 - auc: 0.7150 - accuracy: 0.8580 - val_loss: 0.3778 - val_auc: 0.7726 - val_accuracy: 0.8583\n",
            "Epoch 4/100\n",
            "244/244 [==============================] - 70s 284ms/step - loss: 0.3688 - auc: 0.7266 - accuracy: 0.8588 - val_loss: 0.3680 - val_auc: 0.7769 - val_accuracy: 0.8583\n",
            "Epoch 5/100\n",
            "244/244 [==============================] - 77s 314ms/step - loss: 0.3647 - auc: 0.7345 - accuracy: 0.8590 - val_loss: 0.3530 - val_auc: 0.7838 - val_accuracy: 0.8582\n",
            "Epoch 6/100\n",
            "244/244 [==============================] - 70s 283ms/step - loss: 0.3602 - auc: 0.7464 - accuracy: 0.8607 - val_loss: 0.3571 - val_auc: 0.7897 - val_accuracy: 0.8587\n",
            "Epoch 7/100\n",
            "244/244 [==============================] - 70s 282ms/step - loss: 0.3562 - auc: 0.7541 - accuracy: 0.8588 - val_loss: 0.3521 - val_auc: 0.7872 - val_accuracy: 0.8583\n",
            "Epoch 8/100\n",
            "244/244 [==============================] - 70s 282ms/step - loss: 0.3516 - auc: 0.7620 - accuracy: 0.8597 - val_loss: 0.3446 - val_auc: 0.7949 - val_accuracy: 0.8582\n",
            "Epoch 9/100\n",
            "244/244 [==============================] - 71s 288ms/step - loss: 0.3518 - auc: 0.7637 - accuracy: 0.8597 - val_loss: 0.3421 - val_auc: 0.7930 - val_accuracy: 0.8586\n",
            "Epoch 10/100\n",
            "244/244 [==============================] - 69s 280ms/step - loss: 0.3512 - auc: 0.7638 - accuracy: 0.8604 - val_loss: 0.3428 - val_auc: 0.7977 - val_accuracy: 0.8584\n",
            "Epoch 11/100\n",
            "244/244 [==============================] - 70s 282ms/step - loss: 0.3531 - auc: 0.7593 - accuracy: 0.8607 - val_loss: 0.3587 - val_auc: 0.7962 - val_accuracy: 0.8591\n",
            "Epoch 12/100\n",
            "244/244 [==============================] - 70s 282ms/step - loss: 0.3559 - auc: 0.7560 - accuracy: 0.8604 - val_loss: 0.3448 - val_auc: 0.7980 - val_accuracy: 0.8627\n",
            "Epoch 13/100\n",
            "244/244 [==============================] - 69s 282ms/step - loss: 0.3457 - auc: 0.7740 - accuracy: 0.8603 - val_loss: 0.3371 - val_auc: 0.8001 - val_accuracy: 0.8584\n",
            "Epoch 14/100\n",
            "244/244 [==============================] - 69s 282ms/step - loss: 0.3383 - auc: 0.7876 - accuracy: 0.8623 - val_loss: 0.3364 - val_auc: 0.8015 - val_accuracy: 0.8619\n",
            "Epoch 15/100\n",
            "244/244 [==============================] - 69s 282ms/step - loss: 0.3401 - auc: 0.7837 - accuracy: 0.8624 - val_loss: 0.3360 - val_auc: 0.7999 - val_accuracy: 0.8635\n",
            "Epoch 16/100\n",
            "244/244 [==============================] - 69s 280ms/step - loss: 0.3378 - auc: 0.7877 - accuracy: 0.8626 - val_loss: 0.3510 - val_auc: 0.7964 - val_accuracy: 0.8640\n",
            "Epoch 17/100\n",
            "244/244 [==============================] - 69s 281ms/step - loss: 0.3359 - auc: 0.7929 - accuracy: 0.8627 - val_loss: 0.3342 - val_auc: 0.8006 - val_accuracy: 0.8610\n",
            "Epoch 18/100\n",
            "244/244 [==============================] - 70s 281ms/step - loss: 0.3344 - auc: 0.7929 - accuracy: 0.8635 - val_loss: 0.3468 - val_auc: 0.7978 - val_accuracy: 0.8659\n",
            "Epoch 19/100\n",
            "244/244 [==============================] - 70s 283ms/step - loss: 0.3297 - auc: 0.8009 - accuracy: 0.8634 - val_loss: 0.3372 - val_auc: 0.8017 - val_accuracy: 0.8641\n",
            "Epoch 20/100\n",
            "244/244 [==============================] - 69s 281ms/step - loss: 0.3303 - auc: 0.8009 - accuracy: 0.8650 - val_loss: 0.3311 - val_auc: 0.8062 - val_accuracy: 0.8656\n",
            "Epoch 21/100\n",
            "244/244 [==============================] - 69s 281ms/step - loss: 0.3303 - auc: 0.8008 - accuracy: 0.8658 - val_loss: 0.3310 - val_auc: 0.8028 - val_accuracy: 0.8644\n",
            "Epoch 22/100\n",
            "244/244 [==============================] - 70s 286ms/step - loss: 0.3266 - auc: 0.8061 - accuracy: 0.8679 - val_loss: 0.3318 - val_auc: 0.8048 - val_accuracy: 0.8673\n",
            "Epoch 23/100\n",
            "244/244 [==============================] - 69s 280ms/step - loss: 0.3241 - auc: 0.8105 - accuracy: 0.8671 - val_loss: 0.3342 - val_auc: 0.8060 - val_accuracy: 0.8677\n",
            "Epoch 24/100\n",
            "244/244 [==============================] - 69s 280ms/step - loss: 0.3203 - auc: 0.8158 - accuracy: 0.8696 - val_loss: 0.3300 - val_auc: 0.8079 - val_accuracy: 0.8668\n",
            "Epoch 25/100\n",
            "244/244 [==============================] - 69s 280ms/step - loss: 0.3204 - auc: 0.8153 - accuracy: 0.8676 - val_loss: 0.3284 - val_auc: 0.8070 - val_accuracy: 0.8658\n",
            "Epoch 26/100\n",
            "244/244 [==============================] - 69s 281ms/step - loss: 0.3208 - auc: 0.8151 - accuracy: 0.8677 - val_loss: 0.3322 - val_auc: 0.8037 - val_accuracy: 0.8649\n",
            "Epoch 27/100\n",
            "244/244 [==============================] - 69s 281ms/step - loss: 0.3163 - auc: 0.8200 - accuracy: 0.8696 - val_loss: 0.3318 - val_auc: 0.8065 - val_accuracy: 0.8682\n",
            "Epoch 28/100\n",
            "244/244 [==============================] - 69s 281ms/step - loss: 0.3170 - auc: 0.8189 - accuracy: 0.8692 - val_loss: 0.3323 - val_auc: 0.8070 - val_accuracy: 0.8677\n",
            "Epoch 29/100\n",
            "243/244 [============================>.] - ETA: 0s - loss: 0.3138 - auc: 0.8245 - accuracy: 0.8699Restoring model weights from the end of the best epoch: 24.\n",
            "244/244 [==============================] - 69s 280ms/step - loss: 0.3138 - auc: 0.8246 - accuracy: 0.8699 - val_loss: 0.3269 - val_auc: 0.8069 - val_accuracy: 0.8674\n",
            "Epoch 29: early stopping\n"
          ]
        }
      ],
      "source": [
        "run_hist = model.fit(train_data, validation_data=val_data, epochs=100, \n",
        "  callbacks=[tensorboard,\n",
        "              keras.callbacks.EarlyStopping(\n",
        "                  monitor=\"val_auc\",\n",
        "                  min_delta=0,\n",
        "                  patience=5,\n",
        "                  verbose=1,\n",
        "                  mode=\"auto\",\n",
        "                  baseline=None,\n",
        "                  restore_best_weights=True,\n",
        "              )])"
      ]
    },
    {
      "cell_type": "code",
      "execution_count": null,
      "metadata": {
        "colab": {
          "base_uri": "https://localhost:8080/",
          "height": 235
        },
        "id": "mEcvv9cETb_3",
        "outputId": "7906c3b9-9109-4a17-8e5d-b16608674a93"
      },
      "outputs": [
        {
          "name": "stdout",
          "output_type": "stream",
          "text": [
            "183/183 [==============================] - 21s 113ms/step - loss: 0.3355 - auc: 0.7972 - accuracy: 0.8660\n",
            "[0.3355242609977722, 0.7971541881561279, 0.8660094141960144]\n"
          ]
        },
        {
          "ename": "AttributeError",
          "evalue": "ignored",
          "output_type": "error",
          "traceback": [
            "\u001b[0;31m---------------------------------------------------------------------------\u001b[0m",
            "\u001b[0;31mAttributeError\u001b[0m                            Traceback (most recent call last)",
            "\u001b[0;32m<ipython-input-46-3d80a7b21d40>\u001b[0m in \u001b[0;36m<module>\u001b[0;34m()\u001b[0m\n\u001b[1;32m      3\u001b[0m \u001b[0;34m\u001b[0m\u001b[0m\n\u001b[1;32m      4\u001b[0m \u001b[0mresults_pkl\u001b[0m \u001b[0;34m=\u001b[0m \u001b[0mopen\u001b[0m\u001b[0;34m(\u001b[0m\u001b[0;34m'/content/gdrive/MyDrive/Dense Experiments/Results/{}.pkl'\u001b[0m\u001b[0;34m.\u001b[0m\u001b[0mformat\u001b[0m\u001b[0;34m(\u001b[0m\u001b[0mNAME\u001b[0m\u001b[0;34m)\u001b[0m\u001b[0;34m,\u001b[0m \u001b[0;34m'wb'\u001b[0m\u001b[0;34m)\u001b[0m\u001b[0;34m\u001b[0m\u001b[0;34m\u001b[0m\u001b[0m\n\u001b[0;32m----> 5\u001b[0;31m \u001b[0mpickle\u001b[0m\u001b[0;34m.\u001b[0m\u001b[0mdump\u001b[0m\u001b[0;34m(\u001b[0m\u001b[0mresults\u001b[0m\u001b[0;34m,\u001b[0m \u001b[0mresults_pkl\u001b[0m\u001b[0;34m)\u001b[0m\u001b[0;34m\u001b[0m\u001b[0;34m\u001b[0m\u001b[0m\n\u001b[0m",
            "\u001b[0;31mAttributeError\u001b[0m: '_io.BufferedWriter' object has no attribute 'dump'"
          ]
        }
      ],
      "source": [
        "results = model.evaluate(test_data)\n",
        "print(results)\n",
        "\n",
        "results_pkl = open('/content/gdrive/MyDrive/Dense Experiments/Results/{}.pkl'.format(NAME), 'wb')\n",
        "pickle.dump(results, results_pkl)"
      ]
    },
    {
      "cell_type": "code",
      "execution_count": null,
      "metadata": {
        "id": "rqUA0atocfNl"
      },
      "outputs": [],
      "source": [
        "import pickle\n",
        "results_pkl = open('/content/gdrive/MyDrive/Dense Experiments/Results/{}.pkl'.format(NAME), 'wb')\n",
        "pickle.dump(results, results_pkl)"
      ]
    },
    {
      "cell_type": "markdown",
      "metadata": {
        "id": "OG3jcENYMcXN"
      },
      "source": [
        "#### D = 2 [OK]"
      ]
    },
    {
      "cell_type": "code",
      "execution_count": null,
      "metadata": {
        "id": "96zq-58TMcXN"
      },
      "outputs": [],
      "source": [
        "NAME = \"N512-L1-D2\"\n",
        "keras.backend.clear_session()"
      ]
    },
    {
      "cell_type": "code",
      "execution_count": null,
      "metadata": {
        "colab": {
          "base_uri": "https://localhost:8080/"
        },
        "id": "NUetC7JeMcXN",
        "outputId": "24431bc7-98a8-4017-d138-31f378103d1e"
      },
      "outputs": [
        {
          "name": "stdout",
          "output_type": "stream",
          "text": [
            "Model: \"sequential\"\n",
            "_________________________________________________________________\n",
            " Layer (type)                Output Shape              Param #   \n",
            "=================================================================\n",
            " conv2d (Conv2D)             (None, 256, 256, 32)      896       \n",
            "                                                                 \n",
            " conv2d_1 (Conv2D)           (None, 128, 128, 32)      9248      \n",
            "                                                                 \n",
            " conv2d_2 (Conv2D)           (None, 64, 64, 64)        18496     \n",
            "                                                                 \n",
            " dropout (Dropout)           (None, 64, 64, 64)        0         \n",
            "                                                                 \n",
            " max_pooling2d (MaxPooling2D  (None, 32, 32, 64)       0         \n",
            " )                                                               \n",
            "                                                                 \n",
            " dense (Dense)               (None, 32, 32, 128)       8320      \n",
            "                                                                 \n",
            " flatten (Flatten)           (None, 131072)            0         \n",
            "                                                                 \n",
            " dense_1 (Dense)             (None, 512)               67109376  \n",
            "                                                                 \n",
            " dropout_1 (Dropout)         (None, 512)               0         \n",
            "                                                                 \n",
            " dense_2 (Dense)             (None, 1)                 513       \n",
            "                                                                 \n",
            "=================================================================\n",
            "Total params: 67,146,849\n",
            "Trainable params: 67,146,849\n",
            "Non-trainable params: 0\n",
            "_________________________________________________________________\n"
          ]
        }
      ],
      "source": [
        "ins = image_batch.shape[1:]\n",
        "\n",
        "model = Sequential()\n",
        "\n",
        "model.add(Conv2D(32, (3,3), padding=\"same\", activation=\"relu\", input_shape=ins))\n",
        "\n",
        "model.add(Conv2D(32, (3,3), padding=\"same\", strides = (2,2), activation=\"relu\"))\n",
        "\n",
        "model.add(Conv2D(64, (3,3), padding=\"same\", strides = (2,2), activation=\"relu\"))\n",
        "\n",
        "model.add(Dropout(0.1))\n",
        "\n",
        "model.add(MaxPooling2D(pool_size=(2, 2)))\n",
        "\n",
        "model.add(Dense(128, activation=\"relu\"))\n",
        "\n",
        "model.add(Flatten())\n",
        "\n",
        "model.add(Dense(N, activation=\"relu\"))\n",
        "\n",
        "model.add(Dropout(0.5))\n",
        "\n",
        "model.add(Dense(1, activation=\"sigmoid\"))\n",
        "\n",
        "model.summary()"
      ]
    },
    {
      "cell_type": "code",
      "execution_count": null,
      "metadata": {
        "id": "vACp-ap-McXN"
      },
      "outputs": [],
      "source": [
        "tensorboard = TensorBoard(log_dir=\"/content/gdrive/MyDrive/Dense Experiments/Logs/{}\".format(NAME))"
      ]
    },
    {
      "cell_type": "code",
      "execution_count": null,
      "metadata": {
        "id": "Rc4IEYG8McXN"
      },
      "outputs": [],
      "source": [
        "model.compile(loss='binary_crossentropy', optimizer=optimizers.Adam(learning_rate=0.00001), metrics=[keras.metrics.AUC(), 'accuracy'])"
      ]
    },
    {
      "cell_type": "code",
      "execution_count": null,
      "metadata": {
        "colab": {
          "base_uri": "https://localhost:8080/"
        },
        "id": "RJ2q_fx4McXN",
        "outputId": "04b049e2-f4ac-4e1e-ecc9-5b218b2cc662"
      },
      "outputs": [
        {
          "name": "stdout",
          "output_type": "stream",
          "text": [
            "Epoch 1/100\n",
            "244/244 [==============================] - 62s 246ms/step - loss: 1.3198 - auc: 0.5556 - accuracy: 0.8293 - val_loss: 0.3654 - val_auc: 0.7477 - val_accuracy: 0.8582\n",
            "Epoch 2/100\n",
            "244/244 [==============================] - 61s 246ms/step - loss: 0.3722 - auc: 0.7191 - accuracy: 0.8583 - val_loss: 0.3518 - val_auc: 0.7653 - val_accuracy: 0.8583\n",
            "Epoch 3/100\n",
            "244/244 [==============================] - 61s 248ms/step - loss: 0.3616 - auc: 0.7415 - accuracy: 0.8588 - val_loss: 0.3529 - val_auc: 0.7826 - val_accuracy: 0.8592\n",
            "Epoch 4/100\n",
            "244/244 [==============================] - 59s 240ms/step - loss: 0.3543 - auc: 0.7560 - accuracy: 0.8608 - val_loss: 0.3456 - val_auc: 0.7805 - val_accuracy: 0.8595\n",
            "Epoch 5/100\n",
            "244/244 [==============================] - 60s 241ms/step - loss: 0.3505 - auc: 0.7635 - accuracy: 0.8618 - val_loss: 0.3401 - val_auc: 0.7938 - val_accuracy: 0.8587\n",
            "Epoch 6/100\n",
            "244/244 [==============================] - 60s 242ms/step - loss: 0.3472 - auc: 0.7704 - accuracy: 0.8606 - val_loss: 0.3428 - val_auc: 0.7903 - val_accuracy: 0.8602\n",
            "Epoch 7/100\n",
            "244/244 [==============================] - 60s 243ms/step - loss: 0.3462 - auc: 0.7747 - accuracy: 0.8622 - val_loss: 0.3378 - val_auc: 0.7970 - val_accuracy: 0.8595\n",
            "Epoch 8/100\n",
            "244/244 [==============================] - 60s 243ms/step - loss: 0.3386 - auc: 0.7842 - accuracy: 0.8652 - val_loss: 0.3362 - val_auc: 0.7975 - val_accuracy: 0.8601\n",
            "Epoch 9/100\n",
            "244/244 [==============================] - 60s 242ms/step - loss: 0.3362 - auc: 0.7909 - accuracy: 0.8651 - val_loss: 0.3373 - val_auc: 0.7946 - val_accuracy: 0.8597\n",
            "Epoch 10/100\n",
            "244/244 [==============================] - 60s 243ms/step - loss: 0.3319 - auc: 0.7970 - accuracy: 0.8657 - val_loss: 0.3331 - val_auc: 0.8011 - val_accuracy: 0.8610\n",
            "Epoch 11/100\n",
            "244/244 [==============================] - 60s 245ms/step - loss: 0.3230 - auc: 0.8101 - accuracy: 0.8687 - val_loss: 0.3314 - val_auc: 0.8035 - val_accuracy: 0.8611\n",
            "Epoch 12/100\n",
            "244/244 [==============================] - 60s 242ms/step - loss: 0.3190 - auc: 0.8142 - accuracy: 0.8716 - val_loss: 0.3365 - val_auc: 0.8064 - val_accuracy: 0.8664\n",
            "Epoch 13/100\n",
            "244/244 [==============================] - 60s 243ms/step - loss: 0.3166 - auc: 0.8191 - accuracy: 0.8727 - val_loss: 0.3505 - val_auc: 0.8017 - val_accuracy: 0.8563\n",
            "Epoch 14/100\n",
            "244/244 [==============================] - 60s 244ms/step - loss: 0.3146 - auc: 0.8226 - accuracy: 0.8723 - val_loss: 0.3353 - val_auc: 0.8100 - val_accuracy: 0.8683\n",
            "Epoch 15/100\n",
            "244/244 [==============================] - 60s 243ms/step - loss: 0.3078 - auc: 0.8300 - accuracy: 0.8758 - val_loss: 0.3287 - val_auc: 0.8083 - val_accuracy: 0.8656\n",
            "Epoch 16/100\n",
            "244/244 [==============================] - 60s 243ms/step - loss: 0.3043 - auc: 0.8342 - accuracy: 0.8788 - val_loss: 0.3265 - val_auc: 0.8119 - val_accuracy: 0.8651\n",
            "Epoch 17/100\n",
            "244/244 [==============================] - 61s 245ms/step - loss: 0.2961 - auc: 0.8443 - accuracy: 0.8808 - val_loss: 0.3247 - val_auc: 0.8151 - val_accuracy: 0.8689\n",
            "Epoch 18/100\n",
            "244/244 [==============================] - 61s 248ms/step - loss: 0.2932 - auc: 0.8499 - accuracy: 0.8842 - val_loss: 0.3261 - val_auc: 0.8159 - val_accuracy: 0.8716\n",
            "Epoch 19/100\n",
            "244/244 [==============================] - 61s 248ms/step - loss: 0.2860 - auc: 0.8563 - accuracy: 0.8876 - val_loss: 0.3221 - val_auc: 0.8140 - val_accuracy: 0.8710\n",
            "Epoch 20/100\n",
            "244/244 [==============================] - 60s 242ms/step - loss: 0.2804 - auc: 0.8633 - accuracy: 0.8881 - val_loss: 0.3219 - val_auc: 0.8156 - val_accuracy: 0.8690\n",
            "Epoch 21/100\n",
            "244/244 [==============================] - 60s 242ms/step - loss: 0.2716 - auc: 0.8718 - accuracy: 0.8943 - val_loss: 0.3301 - val_auc: 0.8094 - val_accuracy: 0.8692\n",
            "Epoch 22/100\n",
            "244/244 [==============================] - 60s 243ms/step - loss: 0.2643 - auc: 0.8798 - accuracy: 0.8965 - val_loss: 0.3244 - val_auc: 0.8147 - val_accuracy: 0.8726\n",
            "Epoch 23/100\n",
            "244/244 [==============================] - 60s 243ms/step - loss: 0.2622 - auc: 0.8822 - accuracy: 0.8965 - val_loss: 0.3214 - val_auc: 0.8178 - val_accuracy: 0.8708\n",
            "Epoch 24/100\n",
            "244/244 [==============================] - 60s 244ms/step - loss: 0.2590 - auc: 0.8851 - accuracy: 0.9003 - val_loss: 0.3201 - val_auc: 0.8199 - val_accuracy: 0.8739\n",
            "Epoch 25/100\n",
            "244/244 [==============================] - 60s 242ms/step - loss: 0.2492 - auc: 0.8936 - accuracy: 0.9042 - val_loss: 0.3573 - val_auc: 0.8041 - val_accuracy: 0.8690\n",
            "Epoch 26/100\n",
            "244/244 [==============================] - 60s 243ms/step - loss: 0.2467 - auc: 0.8952 - accuracy: 0.9058 - val_loss: 0.3260 - val_auc: 0.8129 - val_accuracy: 0.8744\n",
            "Epoch 27/100\n",
            "244/244 [==============================] - 60s 243ms/step - loss: 0.2347 - auc: 0.9059 - accuracy: 0.9089 - val_loss: 0.3449 - val_auc: 0.8060 - val_accuracy: 0.8730\n",
            "Epoch 28/100\n",
            "244/244 [==============================] - 60s 242ms/step - loss: 0.2328 - auc: 0.9077 - accuracy: 0.9103 - val_loss: 0.3234 - val_auc: 0.8180 - val_accuracy: 0.8752\n",
            "Epoch 29/100\n",
            "243/244 [============================>.] - ETA: 0s - loss: 0.2256 - auc: 0.9154 - accuracy: 0.9149Restoring model weights from the end of the best epoch: 24.\n",
            "244/244 [==============================] - 60s 244ms/step - loss: 0.2256 - auc: 0.9154 - accuracy: 0.9149 - val_loss: 0.3349 - val_auc: 0.8137 - val_accuracy: 0.8754\n",
            "Epoch 29: early stopping\n"
          ]
        }
      ],
      "source": [
        "run_hist = model.fit(train_data, validation_data=val_data, epochs=100, \n",
        "  callbacks=[tensorboard,\n",
        "              keras.callbacks.EarlyStopping(\n",
        "                  monitor=\"val_auc\",\n",
        "                  min_delta=0,\n",
        "                  patience=5,\n",
        "                  verbose=1,\n",
        "                  mode=\"auto\",\n",
        "                  baseline=None,\n",
        "                  restore_best_weights=True,\n",
        "              )])"
      ]
    },
    {
      "cell_type": "code",
      "execution_count": null,
      "metadata": {
        "colab": {
          "base_uri": "https://localhost:8080/"
        },
        "id": "p7QpBLR6McXN",
        "outputId": "37406c2f-12e6-4df5-afc1-a377fa4b6b29"
      },
      "outputs": [
        {
          "name": "stdout",
          "output_type": "stream",
          "text": [
            "183/183 [==============================] - 20s 104ms/step - loss: 0.3285 - auc: 0.8093 - accuracy: 0.8701\n",
            "[0.3284884989261627, 0.8093360066413879, 0.8701242804527283]\n"
          ]
        }
      ],
      "source": [
        "results = model.evaluate(test_data)\n",
        "print(results)"
      ]
    },
    {
      "cell_type": "code",
      "execution_count": null,
      "metadata": {
        "id": "A7a8ziu3cwRg"
      },
      "outputs": [],
      "source": [
        "results_pkl = open('/content/gdrive/MyDrive/Dense Experiments/Results/{}.pkl'.format(NAME), 'wb')\n",
        "pickle.dump(results, results_pkl)"
      ]
    },
    {
      "cell_type": "markdown",
      "metadata": {
        "id": "XeMyU1i-Mvf9"
      },
      "source": [
        "#### D = 3 [OK]"
      ]
    },
    {
      "cell_type": "code",
      "execution_count": null,
      "metadata": {
        "id": "5bZBjT1gMvf9"
      },
      "outputs": [],
      "source": [
        "NAME = \"N512-L1-D3\"\n",
        "keras.backend.clear_session()"
      ]
    },
    {
      "cell_type": "code",
      "execution_count": null,
      "metadata": {
        "colab": {
          "base_uri": "https://localhost:8080/"
        },
        "id": "wAP3a4GYMvf9",
        "outputId": "6a010142-c675-4b07-c3a5-7472d08050ab"
      },
      "outputs": [
        {
          "name": "stdout",
          "output_type": "stream",
          "text": [
            "Model: \"sequential\"\n",
            "_________________________________________________________________\n",
            " Layer (type)                Output Shape              Param #   \n",
            "=================================================================\n",
            " conv2d (Conv2D)             (None, 256, 256, 32)      896       \n",
            "                                                                 \n",
            " conv2d_1 (Conv2D)           (None, 128, 128, 32)      9248      \n",
            "                                                                 \n",
            " conv2d_2 (Conv2D)           (None, 64, 64, 64)        18496     \n",
            "                                                                 \n",
            " max_pooling2d (MaxPooling2D  (None, 32, 32, 64)       0         \n",
            " )                                                               \n",
            "                                                                 \n",
            " dense (Dense)               (None, 32, 32, 128)       8320      \n",
            "                                                                 \n",
            " flatten (Flatten)           (None, 131072)            0         \n",
            "                                                                 \n",
            " dense_1 (Dense)             (None, 512)               67109376  \n",
            "                                                                 \n",
            " dropout (Dropout)           (None, 512)               0         \n",
            "                                                                 \n",
            " dense_2 (Dense)             (None, 1)                 513       \n",
            "                                                                 \n",
            "=================================================================\n",
            "Total params: 67,146,849\n",
            "Trainable params: 67,146,849\n",
            "Non-trainable params: 0\n",
            "_________________________________________________________________\n"
          ]
        }
      ],
      "source": [
        "ins = image_batch.shape[1:]\n",
        "\n",
        "model = Sequential()\n",
        "\n",
        "model.add(Conv2D(32, (3,3), padding=\"same\", activation=\"relu\", input_shape=ins))\n",
        "\n",
        "model.add(Conv2D(32, (3,3), padding=\"same\", strides = (2,2), activation=\"relu\"))\n",
        "\n",
        "model.add(Conv2D(64, (3,3), padding=\"same\", strides = (2,2), activation=\"relu\"))\n",
        "\n",
        "model.add(MaxPooling2D(pool_size=(2, 2)))\n",
        "\n",
        "model.add(Dense(128, activation=\"relu\"))\n",
        "\n",
        "model.add(Flatten())\n",
        "\n",
        "model.add(Dense(N, activation=\"relu\"))\n",
        "\n",
        "model.add(Dropout(0.5))\n",
        "\n",
        "model.add(Dense(1, activation=\"sigmoid\"))\n",
        "\n",
        "model.summary()"
      ]
    },
    {
      "cell_type": "code",
      "execution_count": null,
      "metadata": {
        "id": "QP3oD6s8Mvf9"
      },
      "outputs": [],
      "source": [
        "tensorboard = TensorBoard(log_dir=\"/content/gdrive/MyDrive/Dense Experiments/Logs/{}\".format(NAME))"
      ]
    },
    {
      "cell_type": "code",
      "execution_count": null,
      "metadata": {
        "id": "1xBdXxZsMvf9"
      },
      "outputs": [],
      "source": [
        "model.compile(loss='binary_crossentropy', optimizer=optimizers.Adam(learning_rate=0.00001), metrics=[keras.metrics.AUC(), 'accuracy'])"
      ]
    },
    {
      "cell_type": "code",
      "execution_count": null,
      "metadata": {
        "colab": {
          "base_uri": "https://localhost:8080/"
        },
        "id": "04IO-3M1Mvf9",
        "outputId": "5c9dcc76-4a25-48e3-f21f-1828e3b2904c"
      },
      "outputs": [
        {
          "name": "stdout",
          "output_type": "stream",
          "text": [
            "Epoch 1/100\n",
            "244/244 [==============================] - 72s 231ms/step - loss: 0.8522 - auc: 0.5784 - accuracy: 0.8348 - val_loss: 0.3597 - val_auc: 0.7525 - val_accuracy: 0.8581\n",
            "Epoch 2/100\n",
            "244/244 [==============================] - 56s 227ms/step - loss: 0.3672 - auc: 0.7314 - accuracy: 0.8581 - val_loss: 0.3456 - val_auc: 0.7817 - val_accuracy: 0.8582\n",
            "Epoch 3/100\n",
            "244/244 [==============================] - 56s 229ms/step - loss: 0.3575 - auc: 0.7502 - accuracy: 0.8595 - val_loss: 0.3536 - val_auc: 0.7858 - val_accuracy: 0.8581\n",
            "Epoch 4/100\n",
            "244/244 [==============================] - 57s 231ms/step - loss: 0.3539 - auc: 0.7598 - accuracy: 0.8604 - val_loss: 0.3367 - val_auc: 0.7982 - val_accuracy: 0.8623\n",
            "Epoch 5/100\n",
            "244/244 [==============================] - 57s 232ms/step - loss: 0.3445 - auc: 0.7741 - accuracy: 0.8637 - val_loss: 0.3342 - val_auc: 0.8005 - val_accuracy: 0.8606\n",
            "Epoch 6/100\n",
            "244/244 [==============================] - 57s 230ms/step - loss: 0.3388 - auc: 0.7835 - accuracy: 0.8645 - val_loss: 0.3329 - val_auc: 0.8003 - val_accuracy: 0.8631\n",
            "Epoch 7/100\n",
            "244/244 [==============================] - 57s 230ms/step - loss: 0.3315 - auc: 0.7972 - accuracy: 0.8653 - val_loss: 0.3352 - val_auc: 0.8035 - val_accuracy: 0.8602\n",
            "Epoch 8/100\n",
            "244/244 [==============================] - 57s 231ms/step - loss: 0.3245 - auc: 0.8062 - accuracy: 0.8683 - val_loss: 0.3422 - val_auc: 0.8022 - val_accuracy: 0.8591\n",
            "Epoch 9/100\n",
            "244/244 [==============================] - 57s 230ms/step - loss: 0.3196 - auc: 0.8149 - accuracy: 0.8696 - val_loss: 0.3263 - val_auc: 0.8099 - val_accuracy: 0.8654\n",
            "Epoch 10/100\n",
            "244/244 [==============================] - 57s 233ms/step - loss: 0.3227 - auc: 0.8092 - accuracy: 0.8709 - val_loss: 0.3232 - val_auc: 0.8137 - val_accuracy: 0.8694\n",
            "Epoch 11/100\n",
            "244/244 [==============================] - 57s 231ms/step - loss: 0.3077 - auc: 0.8327 - accuracy: 0.8752 - val_loss: 0.3290 - val_auc: 0.8098 - val_accuracy: 0.8653\n",
            "Epoch 12/100\n",
            "244/244 [==============================] - 57s 230ms/step - loss: 0.3002 - auc: 0.8395 - accuracy: 0.8813 - val_loss: 0.3220 - val_auc: 0.8154 - val_accuracy: 0.8732\n",
            "Epoch 13/100\n",
            "244/244 [==============================] - 57s 230ms/step - loss: 0.2932 - auc: 0.8475 - accuracy: 0.8823 - val_loss: 0.3196 - val_auc: 0.8142 - val_accuracy: 0.8728\n",
            "Epoch 14/100\n",
            "244/244 [==============================] - 57s 232ms/step - loss: 0.2869 - auc: 0.8555 - accuracy: 0.8851 - val_loss: 0.3199 - val_auc: 0.8162 - val_accuracy: 0.8739\n",
            "Epoch 15/100\n",
            "244/244 [==============================] - 57s 232ms/step - loss: 0.2819 - auc: 0.8616 - accuracy: 0.8889 - val_loss: 0.3207 - val_auc: 0.8187 - val_accuracy: 0.8761\n",
            "Epoch 16/100\n",
            "244/244 [==============================] - 57s 231ms/step - loss: 0.2755 - auc: 0.8685 - accuracy: 0.8913 - val_loss: 0.3175 - val_auc: 0.8222 - val_accuracy: 0.8748\n",
            "Epoch 17/100\n",
            "244/244 [==============================] - 57s 230ms/step - loss: 0.2656 - auc: 0.8785 - accuracy: 0.8968 - val_loss: 0.3360 - val_auc: 0.8122 - val_accuracy: 0.8713\n",
            "Epoch 18/100\n",
            "244/244 [==============================] - 57s 231ms/step - loss: 0.2560 - auc: 0.8885 - accuracy: 0.9001 - val_loss: 0.3187 - val_auc: 0.8224 - val_accuracy: 0.8719\n",
            "Epoch 19/100\n",
            "244/244 [==============================] - 57s 231ms/step - loss: 0.2478 - auc: 0.8949 - accuracy: 0.9029 - val_loss: 0.3201 - val_auc: 0.8246 - val_accuracy: 0.8770\n",
            "Epoch 20/100\n",
            "244/244 [==============================] - 57s 229ms/step - loss: 0.2390 - auc: 0.9018 - accuracy: 0.9085 - val_loss: 0.3423 - val_auc: 0.8163 - val_accuracy: 0.8763\n",
            "Epoch 21/100\n",
            "244/244 [==============================] - 57s 233ms/step - loss: 0.2333 - auc: 0.9072 - accuracy: 0.9108 - val_loss: 0.3250 - val_auc: 0.8191 - val_accuracy: 0.8766\n",
            "Epoch 22/100\n",
            "244/244 [==============================] - 57s 233ms/step - loss: 0.2231 - auc: 0.9129 - accuracy: 0.9184 - val_loss: 0.3203 - val_auc: 0.8207 - val_accuracy: 0.8779\n",
            "Epoch 23/100\n",
            "244/244 [==============================] - 57s 230ms/step - loss: 0.2193 - auc: 0.9176 - accuracy: 0.9178 - val_loss: 0.3223 - val_auc: 0.8223 - val_accuracy: 0.8788\n",
            "Epoch 24/100\n",
            "243/244 [============================>.] - ETA: 0s - loss: 0.2205 - auc: 0.9162 - accuracy: 0.9174Restoring model weights from the end of the best epoch: 19.\n",
            "244/244 [==============================] - 57s 230ms/step - loss: 0.2204 - auc: 0.9162 - accuracy: 0.9175 - val_loss: 0.3386 - val_auc: 0.8164 - val_accuracy: 0.8775\n",
            "Epoch 24: early stopping\n"
          ]
        }
      ],
      "source": [
        "run_hist = model.fit(train_data, validation_data=val_data, epochs=100, \n",
        "  callbacks=[tensorboard,\n",
        "              keras.callbacks.EarlyStopping(\n",
        "                  monitor=\"val_auc\",\n",
        "                  min_delta=0,\n",
        "                  patience=5,\n",
        "                  verbose=1,\n",
        "                  mode=\"auto\",\n",
        "                  baseline=None,\n",
        "                  restore_best_weights=True,\n",
        "              )])"
      ]
    },
    {
      "cell_type": "code",
      "execution_count": null,
      "metadata": {
        "colab": {
          "base_uri": "https://localhost:8080/"
        },
        "id": "GuZIil6PMvf9",
        "outputId": "daf6132d-c661-4f50-cd1d-700ed4211848"
      },
      "outputs": [
        {
          "name": "stdout",
          "output_type": "stream",
          "text": [
            "183/183 [==============================] - 21s 110ms/step - loss: 0.3264 - auc: 0.8136 - accuracy: 0.8753\n",
            "[0.3264344036579132, 0.8135601878166199, 0.8752679228782654]\n"
          ]
        }
      ],
      "source": [
        "results = model.evaluate(test_data)\n",
        "print(results)"
      ]
    },
    {
      "cell_type": "code",
      "execution_count": null,
      "metadata": {
        "id": "z8vktxQuAqkq"
      },
      "outputs": [],
      "source": [
        "results_pkl = open('/content/gdrive/MyDrive/Dense Experiments/Results/{}.pkl'.format(NAME), 'wb')\n",
        "pickle.dump(results, results_pkl)"
      ]
    },
    {
      "cell_type": "markdown",
      "metadata": {
        "id": "B6v_vVzaNDsm"
      },
      "source": [
        "#### D = 4 [OK]"
      ]
    },
    {
      "cell_type": "code",
      "execution_count": null,
      "metadata": {
        "id": "M-r7hdxFNDsm"
      },
      "outputs": [],
      "source": [
        "NAME = \"N512-L1-D4\"\n",
        "keras.backend.clear_session()"
      ]
    },
    {
      "cell_type": "code",
      "execution_count": null,
      "metadata": {
        "colab": {
          "base_uri": "https://localhost:8080/"
        },
        "id": "7_ERiwkfNDsm",
        "outputId": "90849428-aef9-4b9f-91d5-7a12e53bad45"
      },
      "outputs": [
        {
          "name": "stdout",
          "output_type": "stream",
          "text": [
            "Model: \"sequential\"\n",
            "_________________________________________________________________\n",
            " Layer (type)                Output Shape              Param #   \n",
            "=================================================================\n",
            " conv2d (Conv2D)             (None, 256, 256, 32)      896       \n",
            "                                                                 \n",
            " conv2d_1 (Conv2D)           (None, 128, 128, 32)      9248      \n",
            "                                                                 \n",
            " conv2d_2 (Conv2D)           (None, 64, 64, 64)        18496     \n",
            "                                                                 \n",
            " max_pooling2d (MaxPooling2D  (None, 32, 32, 64)       0         \n",
            " )                                                               \n",
            "                                                                 \n",
            " dense (Dense)               (None, 32, 32, 128)       8320      \n",
            "                                                                 \n",
            " flatten (Flatten)           (None, 131072)            0         \n",
            "                                                                 \n",
            " dense_1 (Dense)             (None, 512)               67109376  \n",
            "                                                                 \n",
            " dropout (Dropout)           (None, 512)               0         \n",
            "                                                                 \n",
            " dense_2 (Dense)             (None, 1)                 513       \n",
            "                                                                 \n",
            "=================================================================\n",
            "Total params: 67,146,849\n",
            "Trainable params: 67,146,849\n",
            "Non-trainable params: 0\n",
            "_________________________________________________________________\n"
          ]
        }
      ],
      "source": [
        "ins = image_batch.shape[1:]\n",
        "\n",
        "model = Sequential()\n",
        "\n",
        "model.add(Conv2D(32, (3,3), padding=\"same\", activation=\"relu\", input_shape=ins))\n",
        "\n",
        "model.add(Conv2D(32, (3,3), padding=\"same\", strides = (2,2), activation=\"relu\"))\n",
        "\n",
        "model.add(Conv2D(64, (3,3), padding=\"same\", strides = (2,2), activation=\"relu\"))\n",
        "\n",
        "model.add(MaxPooling2D(pool_size=(2, 2)))\n",
        "\n",
        "model.add(Dense(128, activation=\"relu\"))\n",
        "\n",
        "model.add(Flatten())\n",
        "\n",
        "model.add(Dense(N, activation=\"relu\"))\n",
        "\n",
        "model.add(Dropout(0.5))\n",
        "\n",
        "model.add(Dense(1, activation=\"sigmoid\"))\n",
        "\n",
        "model.summary()"
      ]
    },
    {
      "cell_type": "code",
      "execution_count": null,
      "metadata": {
        "id": "5V2h6V8-NDsm"
      },
      "outputs": [],
      "source": [
        "tensorboard = TensorBoard(log_dir=\"/content/gdrive/MyDrive/Dense Experiments/Logs/{}\".format(NAME))"
      ]
    },
    {
      "cell_type": "code",
      "execution_count": null,
      "metadata": {
        "id": "U0hzFAz3NDsm"
      },
      "outputs": [],
      "source": [
        "model.compile(loss='binary_crossentropy', optimizer=optimizers.Adam(learning_rate=0.00001), metrics=[keras.metrics.AUC(), 'accuracy'])"
      ]
    },
    {
      "cell_type": "code",
      "execution_count": null,
      "metadata": {
        "colab": {
          "base_uri": "https://localhost:8080/"
        },
        "id": "e9N-v7CzNDsm",
        "outputId": "67af8080-46de-415d-b2b1-0df4f81469ea"
      },
      "outputs": [
        {
          "name": "stdout",
          "output_type": "stream",
          "text": [
            "Epoch 1/100\n",
            "244/244 [==============================] - 60s 237ms/step - loss: 1.0176 - auc: 0.5830 - accuracy: 0.8388 - val_loss: 0.3538 - val_auc: 0.7652 - val_accuracy: 0.8575\n",
            "Epoch 2/100\n",
            "244/244 [==============================] - 57s 233ms/step - loss: 0.3661 - auc: 0.7323 - accuracy: 0.8592 - val_loss: 0.3459 - val_auc: 0.7866 - val_accuracy: 0.8579\n",
            "Epoch 3/100\n",
            "244/244 [==============================] - 58s 235ms/step - loss: 0.3589 - auc: 0.7452 - accuracy: 0.8579 - val_loss: 0.3446 - val_auc: 0.7878 - val_accuracy: 0.8581\n",
            "Epoch 4/100\n",
            "244/244 [==============================] - 57s 230ms/step - loss: 0.3518 - auc: 0.7622 - accuracy: 0.8596 - val_loss: 0.3421 - val_auc: 0.7889 - val_accuracy: 0.8581\n",
            "Epoch 5/100\n",
            "244/244 [==============================] - 57s 229ms/step - loss: 0.3429 - auc: 0.7788 - accuracy: 0.8613 - val_loss: 0.3587 - val_auc: 0.7851 - val_accuracy: 0.8582\n",
            "Epoch 6/100\n",
            "244/244 [==============================] - 57s 232ms/step - loss: 0.3436 - auc: 0.7767 - accuracy: 0.8615 - val_loss: 0.3353 - val_auc: 0.7968 - val_accuracy: 0.8584\n",
            "Epoch 7/100\n",
            "244/244 [==============================] - 57s 232ms/step - loss: 0.3383 - auc: 0.7882 - accuracy: 0.8608 - val_loss: 0.3624 - val_auc: 0.7795 - val_accuracy: 0.8581\n",
            "Epoch 8/100\n",
            "244/244 [==============================] - 57s 230ms/step - loss: 0.3340 - auc: 0.7932 - accuracy: 0.8635 - val_loss: 0.3326 - val_auc: 0.8047 - val_accuracy: 0.8600\n",
            "Epoch 9/100\n",
            "244/244 [==============================] - 57s 231ms/step - loss: 0.3304 - auc: 0.8008 - accuracy: 0.8647 - val_loss: 0.3324 - val_auc: 0.8023 - val_accuracy: 0.8586\n",
            "Epoch 10/100\n",
            "244/244 [==============================] - 57s 232ms/step - loss: 0.3259 - auc: 0.8074 - accuracy: 0.8649 - val_loss: 0.3279 - val_auc: 0.8070 - val_accuracy: 0.8636\n",
            "Epoch 11/100\n",
            "244/244 [==============================] - 57s 229ms/step - loss: 0.3187 - auc: 0.8171 - accuracy: 0.8683 - val_loss: 0.3384 - val_auc: 0.8036 - val_accuracy: 0.8604\n",
            "Epoch 12/100\n",
            "244/244 [==============================] - 57s 230ms/step - loss: 0.3146 - auc: 0.8218 - accuracy: 0.8706 - val_loss: 0.3341 - val_auc: 0.8055 - val_accuracy: 0.8637\n",
            "Epoch 13/100\n",
            "244/244 [==============================] - 58s 232ms/step - loss: 0.3096 - auc: 0.8304 - accuracy: 0.8716 - val_loss: 0.3270 - val_auc: 0.8118 - val_accuracy: 0.8654\n",
            "Epoch 14/100\n",
            "244/244 [==============================] - 57s 232ms/step - loss: 0.2987 - auc: 0.8464 - accuracy: 0.8763 - val_loss: 0.3246 - val_auc: 0.8173 - val_accuracy: 0.8714\n",
            "Epoch 15/100\n",
            "244/244 [==============================] - 57s 230ms/step - loss: 0.2995 - auc: 0.8435 - accuracy: 0.8778 - val_loss: 0.3193 - val_auc: 0.8179 - val_accuracy: 0.8683\n",
            "Epoch 16/100\n",
            "244/244 [==============================] - 57s 231ms/step - loss: 0.2921 - auc: 0.8520 - accuracy: 0.8818 - val_loss: 0.3223 - val_auc: 0.8187 - val_accuracy: 0.8695\n",
            "Epoch 17/100\n",
            "244/244 [==============================] - 57s 233ms/step - loss: 0.2857 - auc: 0.8583 - accuracy: 0.8838 - val_loss: 0.3189 - val_auc: 0.8200 - val_accuracy: 0.8727\n",
            "Epoch 18/100\n",
            "244/244 [==============================] - 57s 232ms/step - loss: 0.2888 - auc: 0.8551 - accuracy: 0.8851 - val_loss: 0.3192 - val_auc: 0.8193 - val_accuracy: 0.8727\n",
            "Epoch 19/100\n",
            "244/244 [==============================] - 57s 230ms/step - loss: 0.2800 - auc: 0.8673 - accuracy: 0.8857 - val_loss: 0.3262 - val_auc: 0.8152 - val_accuracy: 0.8690\n",
            "Epoch 20/100\n",
            "244/244 [==============================] - 57s 231ms/step - loss: 0.2705 - auc: 0.8762 - accuracy: 0.8903 - val_loss: 0.3289 - val_auc: 0.8161 - val_accuracy: 0.8716\n",
            "Epoch 21/100\n",
            "244/244 [==============================] - 57s 231ms/step - loss: 0.2628 - auc: 0.8838 - accuracy: 0.8949 - val_loss: 0.3309 - val_auc: 0.8096 - val_accuracy: 0.8705\n",
            "Epoch 22/100\n",
            "243/244 [============================>.] - ETA: 0s - loss: 0.2558 - auc: 0.8890 - accuracy: 0.8990Restoring model weights from the end of the best epoch: 17.\n",
            "244/244 [==============================] - 58s 236ms/step - loss: 0.2557 - auc: 0.8890 - accuracy: 0.8990 - val_loss: 0.3242 - val_auc: 0.8197 - val_accuracy: 0.8734\n",
            "Epoch 22: early stopping\n"
          ]
        }
      ],
      "source": [
        "run_hist = model.fit(train_data, validation_data=val_data, epochs=100, \n",
        "  callbacks=[tensorboard,\n",
        "              keras.callbacks.EarlyStopping(\n",
        "                  monitor=\"val_auc\",\n",
        "                  min_delta=0,\n",
        "                  patience=5,\n",
        "                  verbose=1,\n",
        "                  mode=\"auto\",\n",
        "                  baseline=None,\n",
        "                  restore_best_weights=True,\n",
        "              )])"
      ]
    },
    {
      "cell_type": "code",
      "execution_count": null,
      "metadata": {
        "colab": {
          "base_uri": "https://localhost:8080/"
        },
        "id": "_vTrLl60NDsm",
        "outputId": "6bd8d141-b1d8-4067-8623-a255f434084f"
      },
      "outputs": [
        {
          "name": "stdout",
          "output_type": "stream",
          "text": [
            "183/183 [==============================] - 18s 97ms/step - loss: 0.3246 - auc: 0.8087 - accuracy: 0.8731\n",
            "[0.32456985116004944, 0.808731198310852, 0.8731247186660767]\n"
          ]
        }
      ],
      "source": [
        "results = model.evaluate(test_data)\n",
        "print(results)\n",
        "\n",
        "results_pkl = open('/content/gdrive/MyDrive/Dense Experiments/Results/{}.pkl'.format(NAME), 'wb')\n",
        "pickle.dump(results, results_pkl)"
      ]
    },
    {
      "cell_type": "code",
      "execution_count": null,
      "metadata": {
        "id": "PpNECdV3Sqgm"
      },
      "outputs": [],
      "source": [
        "results_pkl = open('/content/gdrive/MyDrive/Dense Experiments/Results/{}.pkl'.format(NAME), 'wb')\n",
        "pickle.dump(results, results_pkl)"
      ]
    },
    {
      "cell_type": "markdown",
      "metadata": {
        "id": "zd9LR2MHNIY1"
      },
      "source": [
        "#### D = 5 [OK]"
      ]
    },
    {
      "cell_type": "code",
      "execution_count": null,
      "metadata": {
        "id": "9OzjRwG8NIY2"
      },
      "outputs": [],
      "source": [
        "NAME = \"N512-L1-D5\"\n",
        "keras.backend.clear_session()"
      ]
    },
    {
      "cell_type": "code",
      "execution_count": null,
      "metadata": {
        "colab": {
          "base_uri": "https://localhost:8080/"
        },
        "id": "h_84BQq_NIY2",
        "outputId": "1b2afd4c-1362-4443-8474-9debe32786cc"
      },
      "outputs": [
        {
          "name": "stdout",
          "output_type": "stream",
          "text": [
            "Model: \"sequential\"\n",
            "_________________________________________________________________\n",
            " Layer (type)                Output Shape              Param #   \n",
            "=================================================================\n",
            " conv2d (Conv2D)             (None, 256, 256, 32)      896       \n",
            "                                                                 \n",
            " dropout (Dropout)           (None, 256, 256, 32)      0         \n",
            "                                                                 \n",
            " conv2d_1 (Conv2D)           (None, 128, 128, 32)      9248      \n",
            "                                                                 \n",
            " dropout_1 (Dropout)         (None, 128, 128, 32)      0         \n",
            "                                                                 \n",
            " conv2d_2 (Conv2D)           (None, 64, 64, 64)        18496     \n",
            "                                                                 \n",
            " dropout_2 (Dropout)         (None, 64, 64, 64)        0         \n",
            "                                                                 \n",
            " max_pooling2d (MaxPooling2D  (None, 32, 32, 64)       0         \n",
            " )                                                               \n",
            "                                                                 \n",
            " dense (Dense)               (None, 32, 32, 128)       8320      \n",
            "                                                                 \n",
            " flatten (Flatten)           (None, 131072)            0         \n",
            "                                                                 \n",
            " dense_1 (Dense)             (None, 512)               67109376  \n",
            "                                                                 \n",
            " dense_2 (Dense)             (None, 1)                 513       \n",
            "                                                                 \n",
            "=================================================================\n",
            "Total params: 67,146,849\n",
            "Trainable params: 67,146,849\n",
            "Non-trainable params: 0\n",
            "_________________________________________________________________\n"
          ]
        }
      ],
      "source": [
        "ins = image_batch.shape[1:]\n",
        "\n",
        "model = Sequential()\n",
        "\n",
        "model.add(Conv2D(32, (3,3), padding=\"same\", activation=\"relu\", input_shape=ins))\n",
        "\n",
        "model.add(Dropout(0.1))\n",
        "\n",
        "model.add(Conv2D(32, (3,3), padding=\"same\", strides = (2,2), activation=\"relu\"))\n",
        "\n",
        "model.add(Dropout(0.1))\n",
        "\n",
        "model.add(Conv2D(64, (3,3), padding=\"same\", strides = (2,2), activation=\"relu\"))\n",
        "\n",
        "model.add(Dropout(0.1))\n",
        "\n",
        "model.add(MaxPooling2D(pool_size=(2, 2)))\n",
        "\n",
        "model.add(Dense(128, activation=\"relu\"))\n",
        "\n",
        "model.add(Flatten())\n",
        "\n",
        "model.add(Dense(N, activation=\"relu\"))\n",
        "\n",
        "model.add(Dense(1, activation=\"sigmoid\"))\n",
        "\n",
        "model.summary()"
      ]
    },
    {
      "cell_type": "code",
      "execution_count": null,
      "metadata": {
        "id": "FLJyEhbdNIY2"
      },
      "outputs": [],
      "source": [
        "tensorboard = TensorBoard(log_dir=\"/content/gdrive/MyDrive/Dense Experiments/Logs/{}\".format(NAME))"
      ]
    },
    {
      "cell_type": "code",
      "execution_count": null,
      "metadata": {
        "id": "LSYtfI3KNIY2"
      },
      "outputs": [],
      "source": [
        "model.compile(loss='binary_crossentropy', optimizer=optimizers.Adam(learning_rate=0.00001), metrics=[keras.metrics.AUC(), 'accuracy'])"
      ]
    },
    {
      "cell_type": "code",
      "execution_count": null,
      "metadata": {
        "colab": {
          "base_uri": "https://localhost:8080/"
        },
        "id": "ZCneNQG2NIY2",
        "outputId": "ba5bf048-abcb-4499-a03c-f65c534ad51f"
      },
      "outputs": [
        {
          "name": "stdout",
          "output_type": "stream",
          "text": [
            "Epoch 1/100\n",
            "244/244 [==============================] - 68s 274ms/step - loss: 2.1043 - auc: 0.5519 - accuracy: 0.8010 - val_loss: 0.4299 - val_auc: 0.6693 - val_accuracy: 0.8547\n",
            "Epoch 2/100\n",
            "244/244 [==============================] - 68s 278ms/step - loss: 0.5557 - auc: 0.6376 - accuracy: 0.8192 - val_loss: 0.4495 - val_auc: 0.6752 - val_accuracy: 0.8586\n",
            "Epoch 3/100\n",
            "244/244 [==============================] - 67s 273ms/step - loss: 0.5246 - auc: 0.6666 - accuracy: 0.8208 - val_loss: 0.3840 - val_auc: 0.7385 - val_accuracy: 0.8345\n",
            "Epoch 4/100\n",
            "244/244 [==============================] - 67s 272ms/step - loss: 0.4862 - auc: 0.6834 - accuracy: 0.8264 - val_loss: 0.3602 - val_auc: 0.7554 - val_accuracy: 0.8601\n",
            "Epoch 5/100\n",
            "244/244 [==============================] - 67s 274ms/step - loss: 0.4258 - auc: 0.7191 - accuracy: 0.8363 - val_loss: 0.3528 - val_auc: 0.7791 - val_accuracy: 0.8560\n",
            "Epoch 6/100\n",
            "244/244 [==============================] - 67s 274ms/step - loss: 0.4159 - auc: 0.7188 - accuracy: 0.8401 - val_loss: 0.3695 - val_auc: 0.7426 - val_accuracy: 0.8586\n",
            "Epoch 7/100\n",
            "244/244 [==============================] - 67s 271ms/step - loss: 0.4103 - auc: 0.7291 - accuracy: 0.8418 - val_loss: 0.4632 - val_auc: 0.7044 - val_accuracy: 0.8581\n",
            "Epoch 8/100\n",
            "244/244 [==============================] - 67s 273ms/step - loss: 0.3875 - auc: 0.7414 - accuracy: 0.8486 - val_loss: 0.3766 - val_auc: 0.7770 - val_accuracy: 0.8440\n",
            "Epoch 9/100\n",
            "244/244 [==============================] - 67s 272ms/step - loss: 0.3732 - auc: 0.7555 - accuracy: 0.8505 - val_loss: 0.3933 - val_auc: 0.7835 - val_accuracy: 0.8305\n",
            "Epoch 10/100\n",
            "244/244 [==============================] - 67s 272ms/step - loss: 0.3757 - auc: 0.7579 - accuracy: 0.8511 - val_loss: 0.3447 - val_auc: 0.7847 - val_accuracy: 0.8649\n",
            "Epoch 11/100\n",
            "244/244 [==============================] - 67s 273ms/step - loss: 0.3556 - auc: 0.7707 - accuracy: 0.8577 - val_loss: 0.3442 - val_auc: 0.7885 - val_accuracy: 0.8635\n",
            "Epoch 12/100\n",
            "244/244 [==============================] - 67s 272ms/step - loss: 0.3609 - auc: 0.7626 - accuracy: 0.8573 - val_loss: 0.4443 - val_auc: 0.7758 - val_accuracy: 0.7908\n",
            "Epoch 13/100\n",
            "244/244 [==============================] - 76s 309ms/step - loss: 0.3486 - auc: 0.7809 - accuracy: 0.8583 - val_loss: 0.4456 - val_auc: 0.7800 - val_accuracy: 0.7877\n",
            "Epoch 14/100\n",
            "244/244 [==============================] - 67s 271ms/step - loss: 0.3446 - auc: 0.7860 - accuracy: 0.8617 - val_loss: 0.4045 - val_auc: 0.7882 - val_accuracy: 0.8241\n",
            "Epoch 15/100\n",
            "244/244 [==============================] - 67s 272ms/step - loss: 0.3313 - auc: 0.7998 - accuracy: 0.8659 - val_loss: 0.3341 - val_auc: 0.7939 - val_accuracy: 0.8653\n",
            "Epoch 16/100\n",
            "244/244 [==============================] - 67s 272ms/step - loss: 0.3318 - auc: 0.8013 - accuracy: 0.8681 - val_loss: 0.3355 - val_auc: 0.7888 - val_accuracy: 0.8660\n",
            "Epoch 17/100\n",
            "244/244 [==============================] - 67s 273ms/step - loss: 0.3198 - auc: 0.8119 - accuracy: 0.8728 - val_loss: 0.3500 - val_auc: 0.7685 - val_accuracy: 0.8610\n",
            "Epoch 18/100\n",
            "244/244 [==============================] - 68s 278ms/step - loss: 0.3180 - auc: 0.8148 - accuracy: 0.8755 - val_loss: 0.3370 - val_auc: 0.7850 - val_accuracy: 0.8664\n",
            "Epoch 19/100\n",
            "244/244 [==============================] - 66s 270ms/step - loss: 0.3032 - auc: 0.8325 - accuracy: 0.8794 - val_loss: 0.3360 - val_auc: 0.7898 - val_accuracy: 0.8651\n",
            "Epoch 20/100\n",
            "244/244 [==============================] - 68s 274ms/step - loss: 0.3084 - auc: 0.8280 - accuracy: 0.8772 - val_loss: 0.3353 - val_auc: 0.7963 - val_accuracy: 0.8649\n",
            "Epoch 21/100\n",
            "244/244 [==============================] - 67s 271ms/step - loss: 0.2995 - auc: 0.8368 - accuracy: 0.8808 - val_loss: 0.3700 - val_auc: 0.7707 - val_accuracy: 0.8627\n",
            "Epoch 22/100\n",
            "244/244 [==============================] - 69s 278ms/step - loss: 0.2958 - auc: 0.8406 - accuracy: 0.8834 - val_loss: 0.4299 - val_auc: 0.7308 - val_accuracy: 0.8595\n",
            "Epoch 23/100\n",
            "244/244 [==============================] - 67s 272ms/step - loss: 0.2975 - auc: 0.8394 - accuracy: 0.8840 - val_loss: 0.3624 - val_auc: 0.7768 - val_accuracy: 0.8642\n",
            "Epoch 24/100\n",
            "244/244 [==============================] - 68s 272ms/step - loss: 0.2878 - auc: 0.8515 - accuracy: 0.8862 - val_loss: 0.3525 - val_auc: 0.7757 - val_accuracy: 0.8646\n",
            "Epoch 25/100\n",
            "243/244 [============================>.] - ETA: 0s - loss: 0.2871 - auc: 0.8528 - accuracy: 0.8879Restoring model weights from the end of the best epoch: 20.\n",
            "244/244 [==============================] - 67s 272ms/step - loss: 0.2873 - auc: 0.8527 - accuracy: 0.8878 - val_loss: 0.3829 - val_auc: 0.7576 - val_accuracy: 0.8626\n",
            "Epoch 25: early stopping\n"
          ]
        }
      ],
      "source": [
        "run_hist = model.fit(train_data, validation_data=val_data, epochs=100, \n",
        "  callbacks=[tensorboard,\n",
        "              keras.callbacks.EarlyStopping(\n",
        "                  monitor=\"val_auc\",\n",
        "                  min_delta=0,\n",
        "                  patience=5,\n",
        "                  verbose=1,\n",
        "                  mode=\"auto\",\n",
        "                  baseline=None,\n",
        "                  restore_best_weights=True,\n",
        "              )])"
      ]
    },
    {
      "cell_type": "code",
      "execution_count": null,
      "metadata": {
        "colab": {
          "base_uri": "https://localhost:8080/"
        },
        "id": "GOBaEiF1NIY2",
        "outputId": "8713e167-470e-48b3-c106-fd74852a4e36"
      },
      "outputs": [
        {
          "name": "stdout",
          "output_type": "stream",
          "text": [
            "183/183 [==============================] - 18s 98ms/step - loss: 0.3408 - auc: 0.7831 - accuracy: 0.8657\n",
            "[0.340798020362854, 0.783123254776001, 0.8656665086746216]\n"
          ]
        }
      ],
      "source": [
        "results = model.evaluate(test_data)\n",
        "print(results)\n",
        "\n",
        "results_pkl = open('/content/gdrive/MyDrive/Dense Experiments/Results/{}.pkl'.format(NAME), 'wb')\n",
        "pickle.dump(results, results_pkl)"
      ]
    },
    {
      "cell_type": "code",
      "execution_count": null,
      "metadata": {
        "id": "W-UE7qipj5R8"
      },
      "outputs": [],
      "source": [
        "results_pkl = open('/content/gdrive/MyDrive/Dense Experiments/Results/{}.pkl'.format(NAME), 'wb')\n",
        "pickle.dump(results, results_pkl)"
      ]
    },
    {
      "cell_type": "markdown",
      "metadata": {
        "id": "r1XLoA-MNQeE"
      },
      "source": [
        "#### D = 6 [OK]"
      ]
    },
    {
      "cell_type": "code",
      "execution_count": null,
      "metadata": {
        "id": "LIRgTY2lNQeE"
      },
      "outputs": [],
      "source": [
        "NAME = \"N512-L1-D6\"\n",
        "keras.backend.clear_session()"
      ]
    },
    {
      "cell_type": "code",
      "execution_count": null,
      "metadata": {
        "colab": {
          "base_uri": "https://localhost:8080/"
        },
        "id": "Vz84gA6WNQeF",
        "outputId": "9500e546-f0cc-42fc-9595-1ea59935d073"
      },
      "outputs": [
        {
          "name": "stdout",
          "output_type": "stream",
          "text": [
            "Model: \"sequential\"\n",
            "_________________________________________________________________\n",
            " Layer (type)                Output Shape              Param #   \n",
            "=================================================================\n",
            " conv2d (Conv2D)             (None, 256, 256, 32)      896       \n",
            "                                                                 \n",
            " conv2d_1 (Conv2D)           (None, 128, 128, 32)      9248      \n",
            "                                                                 \n",
            " conv2d_2 (Conv2D)           (None, 64, 64, 64)        18496     \n",
            "                                                                 \n",
            " dropout (Dropout)           (None, 64, 64, 64)        0         \n",
            "                                                                 \n",
            " max_pooling2d (MaxPooling2D  (None, 32, 32, 64)       0         \n",
            " )                                                               \n",
            "                                                                 \n",
            " dense (Dense)               (None, 32, 32, 128)       8320      \n",
            "                                                                 \n",
            " flatten (Flatten)           (None, 131072)            0         \n",
            "                                                                 \n",
            " dense_1 (Dense)             (None, 512)               67109376  \n",
            "                                                                 \n",
            " dense_2 (Dense)             (None, 1)                 513       \n",
            "                                                                 \n",
            "=================================================================\n",
            "Total params: 67,146,849\n",
            "Trainable params: 67,146,849\n",
            "Non-trainable params: 0\n",
            "_________________________________________________________________\n"
          ]
        }
      ],
      "source": [
        "ins = image_batch.shape[1:]\n",
        "\n",
        "model = Sequential()\n",
        "\n",
        "model.add(Conv2D(32, (3,3), padding=\"same\", activation=\"relu\", input_shape=ins))\n",
        "\n",
        "model.add(Conv2D(32, (3,3), padding=\"same\", strides = (2,2), activation=\"relu\"))\n",
        "\n",
        "model.add(Conv2D(64, (3,3), padding=\"same\", strides = (2,2), activation=\"relu\"))\n",
        "\n",
        "model.add(Dropout(0.1))\n",
        "\n",
        "model.add(MaxPooling2D(pool_size=(2, 2)))\n",
        "\n",
        "model.add(Dense(128, activation=\"relu\"))\n",
        "\n",
        "model.add(Flatten())\n",
        "\n",
        "model.add(Dense(N, activation=\"relu\"))\n",
        "\n",
        "model.add(Dense(1, activation=\"sigmoid\"))\n",
        "\n",
        "model.summary()"
      ]
    },
    {
      "cell_type": "code",
      "execution_count": null,
      "metadata": {
        "id": "5QQU4RkMNQeF"
      },
      "outputs": [],
      "source": [
        "tensorboard = TensorBoard(log_dir=\"/content/gdrive/MyDrive/Dense Experiments/Logs/{}\".format(NAME))"
      ]
    },
    {
      "cell_type": "code",
      "execution_count": null,
      "metadata": {
        "id": "C2dCdFmVNQeF"
      },
      "outputs": [],
      "source": [
        "model.compile(loss='binary_crossentropy', optimizer=optimizers.Adam(learning_rate=0.00001), metrics=[keras.metrics.AUC(), 'accuracy'])"
      ]
    },
    {
      "cell_type": "code",
      "execution_count": null,
      "metadata": {
        "colab": {
          "base_uri": "https://localhost:8080/"
        },
        "id": "BUAt4eb0NQeF",
        "outputId": "15a40223-0bd7-4439-d608-e25ae26a4064"
      },
      "outputs": [
        {
          "name": "stdout",
          "output_type": "stream",
          "text": [
            "Epoch 1/100\n",
            "244/244 [==============================] - 58s 234ms/step - loss: 1.3578 - auc: 0.5996 - accuracy: 0.8213 - val_loss: 0.3713 - val_auc: 0.7438 - val_accuracy: 0.8494\n",
            "Epoch 2/100\n",
            "244/244 [==============================] - 58s 234ms/step - loss: 0.3894 - auc: 0.7362 - accuracy: 0.8442 - val_loss: 0.6298 - val_auc: 0.6400 - val_accuracy: 0.8581\n",
            "Epoch 3/100\n",
            "244/244 [==============================] - 59s 240ms/step - loss: 0.3702 - auc: 0.7624 - accuracy: 0.8544 - val_loss: 0.4579 - val_auc: 0.7168 - val_accuracy: 0.8590\n",
            "Epoch 4/100\n",
            "244/244 [==============================] - 58s 234ms/step - loss: 0.3184 - auc: 0.8185 - accuracy: 0.8721 - val_loss: 0.3933 - val_auc: 0.7591 - val_accuracy: 0.8631\n",
            "Epoch 5/100\n",
            "244/244 [==============================] - 58s 236ms/step - loss: 0.2962 - auc: 0.8448 - accuracy: 0.8811 - val_loss: 0.3786 - val_auc: 0.7644 - val_accuracy: 0.8660\n",
            "Epoch 6/100\n",
            "244/244 [==============================] - 67s 272ms/step - loss: 0.2784 - auc: 0.8604 - accuracy: 0.8903 - val_loss: 0.3417 - val_auc: 0.7886 - val_accuracy: 0.8683\n",
            "Epoch 7/100\n",
            "244/244 [==============================] - 58s 236ms/step - loss: 0.2536 - auc: 0.8873 - accuracy: 0.9022 - val_loss: 0.3365 - val_auc: 0.7962 - val_accuracy: 0.8691\n",
            "Epoch 8/100\n",
            "244/244 [==============================] - 58s 236ms/step - loss: 0.2526 - auc: 0.8863 - accuracy: 0.9023 - val_loss: 0.3359 - val_auc: 0.7953 - val_accuracy: 0.8691\n",
            "Epoch 9/100\n",
            "244/244 [==============================] - 58s 236ms/step - loss: 0.2185 - auc: 0.9165 - accuracy: 0.9189 - val_loss: 0.3531 - val_auc: 0.7760 - val_accuracy: 0.8650\n",
            "Epoch 10/100\n",
            "244/244 [==============================] - 59s 241ms/step - loss: 0.1951 - auc: 0.9345 - accuracy: 0.9304 - val_loss: 0.3496 - val_auc: 0.7887 - val_accuracy: 0.8709\n",
            "Epoch 11/100\n",
            "244/244 [==============================] - 58s 234ms/step - loss: 0.1865 - auc: 0.9400 - accuracy: 0.9324 - val_loss: 0.3857 - val_auc: 0.7764 - val_accuracy: 0.8716\n",
            "Epoch 12/100\n",
            "244/244 [==============================] - 58s 236ms/step - loss: 0.1771 - auc: 0.9459 - accuracy: 0.9369 - val_loss: 0.3483 - val_auc: 0.8009 - val_accuracy: 0.8631\n",
            "Epoch 13/100\n",
            "244/244 [==============================] - 58s 237ms/step - loss: 0.1757 - auc: 0.9451 - accuracy: 0.9385 - val_loss: 0.3798 - val_auc: 0.7770 - val_accuracy: 0.8731\n",
            "Epoch 14/100\n",
            "244/244 [==============================] - 58s 236ms/step - loss: 0.1392 - auc: 0.9657 - accuracy: 0.9554 - val_loss: 0.4865 - val_auc: 0.8106 - val_accuracy: 0.7726\n",
            "Epoch 15/100\n",
            "244/244 [==============================] - 58s 234ms/step - loss: 0.1418 - auc: 0.9634 - accuracy: 0.9537 - val_loss: 0.3589 - val_auc: 0.7957 - val_accuracy: 0.8674\n",
            "Epoch 16/100\n",
            "244/244 [==============================] - 58s 236ms/step - loss: 0.1276 - auc: 0.9697 - accuracy: 0.9601 - val_loss: 0.3764 - val_auc: 0.7841 - val_accuracy: 0.8645\n",
            "Epoch 17/100\n",
            "244/244 [==============================] - 58s 234ms/step - loss: 0.1128 - auc: 0.9750 - accuracy: 0.9691 - val_loss: 0.3906 - val_auc: 0.8062 - val_accuracy: 0.8403\n",
            "Epoch 18/100\n",
            "244/244 [==============================] - 58s 235ms/step - loss: 0.1100 - auc: 0.9764 - accuracy: 0.9679 - val_loss: 0.3735 - val_auc: 0.7911 - val_accuracy: 0.8672\n",
            "Epoch 19/100\n",
            "243/244 [============================>.] - ETA: 0s - loss: 0.0966 - auc: 0.9806 - accuracy: 0.9748Restoring model weights from the end of the best epoch: 14.\n",
            "244/244 [==============================] - 58s 236ms/step - loss: 0.0966 - auc: 0.9806 - accuracy: 0.9748 - val_loss: 0.3989 - val_auc: 0.8052 - val_accuracy: 0.8476\n",
            "Epoch 19: early stopping\n"
          ]
        }
      ],
      "source": [
        "run_hist = model.fit(train_data, validation_data=val_data, epochs=100, \n",
        "  callbacks=[tensorboard,\n",
        "              keras.callbacks.EarlyStopping(\n",
        "                  monitor=\"val_auc\",\n",
        "                  min_delta=0,\n",
        "                  patience=5,\n",
        "                  verbose=1,\n",
        "                  mode=\"auto\",\n",
        "                  baseline=None,\n",
        "                  restore_best_weights=True,\n",
        "              )])"
      ]
    },
    {
      "cell_type": "code",
      "execution_count": null,
      "metadata": {
        "colab": {
          "base_uri": "https://localhost:8080/"
        },
        "id": "dOdd0pv4NQeF",
        "outputId": "5330505b-a540-4376-dc8c-e94497d107c4"
      },
      "outputs": [
        {
          "name": "stdout",
          "output_type": "stream",
          "text": [
            "183/183 [==============================] - 19s 98ms/step - loss: 0.4957 - auc: 0.8080 - accuracy: 0.7697\n",
            "[0.49569642543792725, 0.8080277442932129, 0.769652783870697]\n"
          ]
        }
      ],
      "source": [
        "results = model.evaluate(test_data)\n",
        "print(results)\n",
        "\n",
        "results_pkl = open('/content/gdrive/MyDrive/Dense Experiments/Results/{}.pkl'.format(NAME), 'wb')\n",
        "pickle.dump(results, results_pkl)"
      ]
    },
    {
      "cell_type": "code",
      "execution_count": null,
      "metadata": {
        "id": "w-YWZJRWqT3L"
      },
      "outputs": [],
      "source": [
        "results_pkl = open('/content/gdrive/MyDrive/Dense Experiments/Results/{}.pkl'.format(NAME), 'wb')\n",
        "pickle.dump(results, results_pkl)"
      ]
    },
    {
      "cell_type": "markdown",
      "metadata": {
        "id": "96za8p_8Nzwt"
      },
      "source": [
        "### L = 2 [OK]"
      ]
    },
    {
      "cell_type": "markdown",
      "metadata": {
        "id": "xI0aOpy2Nzwt"
      },
      "source": [
        "#### D = 0 [OK]"
      ]
    },
    {
      "cell_type": "code",
      "execution_count": null,
      "metadata": {
        "id": "G9uiuIhgNzwt"
      },
      "outputs": [],
      "source": [
        "NAME = \"N512-L2-D0\"\n",
        "keras.backend.clear_session()"
      ]
    },
    {
      "cell_type": "code",
      "execution_count": null,
      "metadata": {
        "colab": {
          "base_uri": "https://localhost:8080/"
        },
        "id": "XclCzWN2Nzwt",
        "outputId": "9fc3bdde-616a-44c4-ce68-30bce076d43c"
      },
      "outputs": [
        {
          "name": "stdout",
          "output_type": "stream",
          "text": [
            "Model: \"sequential\"\n",
            "_________________________________________________________________\n",
            " Layer (type)                Output Shape              Param #   \n",
            "=================================================================\n",
            " conv2d (Conv2D)             (None, 256, 256, 32)      896       \n",
            "                                                                 \n",
            " conv2d_1 (Conv2D)           (None, 128, 128, 32)      9248      \n",
            "                                                                 \n",
            " conv2d_2 (Conv2D)           (None, 64, 64, 64)        18496     \n",
            "                                                                 \n",
            " max_pooling2d (MaxPooling2D  (None, 32, 32, 64)       0         \n",
            " )                                                               \n",
            "                                                                 \n",
            " dense (Dense)               (None, 32, 32, 128)       8320      \n",
            "                                                                 \n",
            " flatten (Flatten)           (None, 131072)            0         \n",
            "                                                                 \n",
            " dense_1 (Dense)             (None, 512)               67109376  \n",
            "                                                                 \n",
            " dense_2 (Dense)             (None, 512)               262656    \n",
            "                                                                 \n",
            " dense_3 (Dense)             (None, 1)                 513       \n",
            "                                                                 \n",
            "=================================================================\n",
            "Total params: 67,409,505\n",
            "Trainable params: 67,409,505\n",
            "Non-trainable params: 0\n",
            "_________________________________________________________________\n"
          ]
        }
      ],
      "source": [
        "ins = image_batch.shape[1:]\n",
        "\n",
        "model = Sequential()\n",
        "\n",
        "model.add(Conv2D(32, (3,3), padding=\"same\", activation=\"relu\", input_shape=ins))\n",
        "\n",
        "model.add(Conv2D(32, (3,3), padding=\"same\", strides = (2,2), activation=\"relu\"))\n",
        "\n",
        "model.add(Conv2D(64, (3,3), padding=\"same\", strides = (2,2), activation=\"relu\"))\n",
        "\n",
        "model.add(MaxPooling2D(pool_size=(2, 2)))\n",
        "\n",
        "model.add(Dense(128, activation=\"relu\"))\n",
        "\n",
        "model.add(Flatten())\n",
        "\n",
        "model.add(Dense(N, activation=\"relu\"))\n",
        "\n",
        "model.add(Dense(N, activation=\"relu\"))\n",
        "\n",
        "model.add(Dense(1, activation=\"sigmoid\"))\n",
        "\n",
        "model.summary()"
      ]
    },
    {
      "cell_type": "code",
      "execution_count": null,
      "metadata": {
        "id": "nMK_uReFNzwt"
      },
      "outputs": [],
      "source": [
        "tensorboard = TensorBoard(log_dir=\"/content/gdrive/MyDrive/Dense Experiments/Logs/{}\".format(NAME))"
      ]
    },
    {
      "cell_type": "code",
      "execution_count": null,
      "metadata": {
        "id": "NbjWnClbNzwt"
      },
      "outputs": [],
      "source": [
        "model.compile(loss='binary_crossentropy', optimizer=optimizers.Adam(learning_rate=0.00001), metrics=[keras.metrics.AUC(), 'accuracy'])"
      ]
    },
    {
      "cell_type": "code",
      "execution_count": null,
      "metadata": {
        "colab": {
          "base_uri": "https://localhost:8080/"
        },
        "id": "nGrO9nsXNzwt",
        "outputId": "2f61db17-e68e-474a-cf70-7ee65d09fcb8"
      },
      "outputs": [
        {
          "name": "stdout",
          "output_type": "stream",
          "text": [
            "Epoch 1/100\n",
            "244/244 [==============================] - 60s 240ms/step - loss: 0.5729 - auc: 0.6147 - accuracy: 0.8372 - val_loss: 0.3576 - val_auc: 0.7499 - val_accuracy: 0.8596\n",
            "Epoch 2/100\n",
            "244/244 [==============================] - 58s 235ms/step - loss: 0.3563 - auc: 0.7628 - accuracy: 0.8572 - val_loss: 0.3469 - val_auc: 0.7746 - val_accuracy: 0.8570\n",
            "Epoch 3/100\n",
            "244/244 [==============================] - 57s 231ms/step - loss: 0.3244 - auc: 0.8056 - accuracy: 0.8712 - val_loss: 0.3981 - val_auc: 0.7853 - val_accuracy: 0.8186\n",
            "Epoch 4/100\n",
            "244/244 [==============================] - 57s 232ms/step - loss: 0.3229 - auc: 0.8092 - accuracy: 0.8716 - val_loss: 0.3849 - val_auc: 0.7740 - val_accuracy: 0.8629\n",
            "Epoch 5/100\n",
            "244/244 [==============================] - 57s 232ms/step - loss: 0.3023 - auc: 0.8346 - accuracy: 0.8804 - val_loss: 0.3531 - val_auc: 0.7857 - val_accuracy: 0.8636\n",
            "Epoch 6/100\n",
            "244/244 [==============================] - 58s 234ms/step - loss: 0.2875 - auc: 0.8520 - accuracy: 0.8863 - val_loss: 0.4319 - val_auc: 0.7948 - val_accuracy: 0.7876\n",
            "Epoch 7/100\n",
            "244/244 [==============================] - 58s 234ms/step - loss: 0.2702 - auc: 0.8688 - accuracy: 0.8943 - val_loss: 0.3625 - val_auc: 0.7855 - val_accuracy: 0.8667\n",
            "Epoch 8/100\n",
            "244/244 [==============================] - 58s 236ms/step - loss: 0.2364 - auc: 0.9006 - accuracy: 0.9110 - val_loss: 0.3829 - val_auc: 0.7756 - val_accuracy: 0.8658\n",
            "Epoch 9/100\n",
            "244/244 [==============================] - 58s 234ms/step - loss: 0.2234 - auc: 0.9130 - accuracy: 0.9148 - val_loss: 0.3983 - val_auc: 0.8073 - val_accuracy: 0.8165\n",
            "Epoch 10/100\n",
            "244/244 [==============================] - 58s 233ms/step - loss: 0.2078 - auc: 0.9238 - accuracy: 0.9229 - val_loss: 0.3605 - val_auc: 0.7902 - val_accuracy: 0.8682\n",
            "Epoch 11/100\n",
            "244/244 [==============================] - 58s 233ms/step - loss: 0.1851 - auc: 0.9393 - accuracy: 0.9339 - val_loss: 0.3759 - val_auc: 0.7999 - val_accuracy: 0.8475\n",
            "Epoch 12/100\n",
            "244/244 [==============================] - 58s 234ms/step - loss: 0.1642 - auc: 0.9514 - accuracy: 0.9450 - val_loss: 0.3748 - val_auc: 0.7870 - val_accuracy: 0.8710\n",
            "Epoch 13/100\n",
            "244/244 [==============================] - 58s 236ms/step - loss: 0.1523 - auc: 0.9573 - accuracy: 0.9488 - val_loss: 0.5109 - val_auc: 0.7303 - val_accuracy: 0.8672\n",
            "Epoch 14/100\n",
            "243/244 [============================>.] - ETA: 0s - loss: 0.1429 - auc: 0.9602 - accuracy: 0.9522Restoring model weights from the end of the best epoch: 9.\n",
            "244/244 [==============================] - 58s 235ms/step - loss: 0.1430 - auc: 0.9602 - accuracy: 0.9521 - val_loss: 0.6523 - val_auc: 0.7977 - val_accuracy: 0.7229\n",
            "Epoch 14: early stopping\n"
          ]
        }
      ],
      "source": [
        "run_hist = model.fit(train_data, validation_data=val_data, epochs=100, \n",
        "  callbacks=[tensorboard,\n",
        "              keras.callbacks.EarlyStopping(\n",
        "                  monitor=\"val_auc\",\n",
        "                  min_delta=0,\n",
        "                  patience=5,\n",
        "                  verbose=1,\n",
        "                  mode=\"auto\",\n",
        "                  baseline=None,\n",
        "                  restore_best_weights=True,\n",
        "              )])"
      ]
    },
    {
      "cell_type": "code",
      "execution_count": null,
      "metadata": {
        "colab": {
          "base_uri": "https://localhost:8080/"
        },
        "id": "n46MuXkQNzwu",
        "outputId": "ae48b85a-ebd8-4892-b8fa-5da8200235e6"
      },
      "outputs": [
        {
          "name": "stdout",
          "output_type": "stream",
          "text": [
            "183/183 [==============================] - 19s 99ms/step - loss: 0.4127 - auc: 0.7963 - accuracy: 0.8076\n",
            "[0.41273799538612366, 0.7962908148765564, 0.8076296448707581]\n"
          ]
        }
      ],
      "source": [
        "results = model.evaluate(test_data)\n",
        "print(results)\n",
        "\n",
        "results_pkl = open('/content/gdrive/MyDrive/Dense Experiments/Results/{}.pkl'.format(NAME), 'wb')\n",
        "pickle.dump(results, results_pkl)"
      ]
    },
    {
      "cell_type": "code",
      "execution_count": null,
      "metadata": {
        "id": "R97gOQSJvEBf"
      },
      "outputs": [],
      "source": [
        "results_pkl = open('/content/gdrive/MyDrive/Dense Experiments/Results/{}.pkl'.format(NAME), 'wb')\n",
        "pickle.dump(results, results_pkl)"
      ]
    },
    {
      "cell_type": "markdown",
      "metadata": {
        "id": "wC8NOYNgNzwu"
      },
      "source": [
        "#### D = 1 [OK]"
      ]
    },
    {
      "cell_type": "code",
      "execution_count": null,
      "metadata": {
        "id": "RrpK5jnjNzwu"
      },
      "outputs": [],
      "source": [
        "NAME = \"N512-L2-D1\"\n",
        "keras.backend.clear_session()"
      ]
    },
    {
      "cell_type": "code",
      "execution_count": null,
      "metadata": {
        "id": "RAvSvs6ANzwu",
        "colab": {
          "base_uri": "https://localhost:8080/"
        },
        "outputId": "f8c89a15-49c1-44d9-9854-250c075848ef"
      },
      "outputs": [
        {
          "output_type": "stream",
          "name": "stdout",
          "text": [
            "Model: \"sequential\"\n",
            "_________________________________________________________________\n",
            " Layer (type)                Output Shape              Param #   \n",
            "=================================================================\n",
            " conv2d (Conv2D)             (None, 256, 256, 32)      896       \n",
            "                                                                 \n",
            " dropout (Dropout)           (None, 256, 256, 32)      0         \n",
            "                                                                 \n",
            " conv2d_1 (Conv2D)           (None, 128, 128, 32)      9248      \n",
            "                                                                 \n",
            " dropout_1 (Dropout)         (None, 128, 128, 32)      0         \n",
            "                                                                 \n",
            " conv2d_2 (Conv2D)           (None, 64, 64, 64)        18496     \n",
            "                                                                 \n",
            " dropout_2 (Dropout)         (None, 64, 64, 64)        0         \n",
            "                                                                 \n",
            " max_pooling2d (MaxPooling2D  (None, 32, 32, 64)       0         \n",
            " )                                                               \n",
            "                                                                 \n",
            " dense (Dense)               (None, 32, 32, 128)       8320      \n",
            "                                                                 \n",
            " flatten (Flatten)           (None, 131072)            0         \n",
            "                                                                 \n",
            " dense_1 (Dense)             (None, 512)               67109376  \n",
            "                                                                 \n",
            " dropout_3 (Dropout)         (None, 512)               0         \n",
            "                                                                 \n",
            " dense_2 (Dense)             (None, 512)               262656    \n",
            "                                                                 \n",
            " dropout_4 (Dropout)         (None, 512)               0         \n",
            "                                                                 \n",
            " dense_3 (Dense)             (None, 1)                 513       \n",
            "                                                                 \n",
            "=================================================================\n",
            "Total params: 67,409,505\n",
            "Trainable params: 67,409,505\n",
            "Non-trainable params: 0\n",
            "_________________________________________________________________\n"
          ]
        }
      ],
      "source": [
        "ins = image_batch.shape[1:]\n",
        "\n",
        "model = Sequential()\n",
        "\n",
        "model.add(Conv2D(32, (3,3), padding=\"same\", activation=\"relu\", input_shape=ins))\n",
        "\n",
        "model.add(Dropout(0.1))\n",
        "\n",
        "model.add(Conv2D(32, (3,3), padding=\"same\", strides = (2,2), activation=\"relu\"))\n",
        "\n",
        "model.add(Dropout(0.1))\n",
        "\n",
        "model.add(Conv2D(64, (3,3), padding=\"same\", strides = (2,2), activation=\"relu\"))\n",
        "\n",
        "model.add(Dropout(0.1))\n",
        "\n",
        "model.add(MaxPooling2D(pool_size=(2, 2)))\n",
        "\n",
        "model.add(Dense(128, activation=\"relu\"))\n",
        "\n",
        "model.add(Flatten())\n",
        "\n",
        "model.add(Dense(N, activation=\"relu\"))\n",
        "\n",
        "model.add(Dropout(0.5))\n",
        "\n",
        "model.add(Dense(N, activation=\"relu\"))\n",
        "\n",
        "model.add(Dropout(0.5))\n",
        "\n",
        "model.add(Dense(1, activation=\"sigmoid\"))\n",
        "\n",
        "model.summary()"
      ]
    },
    {
      "cell_type": "code",
      "execution_count": null,
      "metadata": {
        "id": "wWLh8UlWNzwu"
      },
      "outputs": [],
      "source": [
        "tensorboard = TensorBoard(log_dir=\"/content/gdrive/MyDrive/Dense Experiments/Logs/{}\".format(NAME))"
      ]
    },
    {
      "cell_type": "code",
      "execution_count": null,
      "metadata": {
        "id": "NtLhO2dYNzwu"
      },
      "outputs": [],
      "source": [
        "model.compile(loss='binary_crossentropy', optimizer=optimizers.Adam(learning_rate=0.00001), metrics=[keras.metrics.AUC(), 'accuracy'])"
      ]
    },
    {
      "cell_type": "code",
      "execution_count": null,
      "metadata": {
        "id": "E2Sbv4OwNzwu",
        "colab": {
          "base_uri": "https://localhost:8080/"
        },
        "outputId": "f6831d08-eaea-4094-da78-193e253d2fc3"
      },
      "outputs": [
        {
          "output_type": "stream",
          "name": "stdout",
          "text": [
            "Epoch 1/100\n",
            "244/244 [==============================] - 72s 274ms/step - loss: 1.4529 - auc: 0.5321 - accuracy: 0.7981 - val_loss: 0.3998 - val_auc: 0.6970 - val_accuracy: 0.8579\n",
            "Epoch 2/100\n",
            "244/244 [==============================] - 66s 268ms/step - loss: 0.4917 - auc: 0.6268 - accuracy: 0.8325 - val_loss: 0.3700 - val_auc: 0.7329 - val_accuracy: 0.8578\n",
            "Epoch 3/100\n",
            "244/244 [==============================] - 67s 273ms/step - loss: 0.4847 - auc: 0.6329 - accuracy: 0.8366 - val_loss: 0.3850 - val_auc: 0.7338 - val_accuracy: 0.8581\n",
            "Epoch 4/100\n",
            "244/244 [==============================] - 67s 271ms/step - loss: 0.4871 - auc: 0.6411 - accuracy: 0.8381 - val_loss: 0.3826 - val_auc: 0.7391 - val_accuracy: 0.8581\n",
            "244/244 [==============================] - 66s 268ms/step - loss: 0.4672 - auc: 0.6584 - accuracy: 0.8485 - val_loss: 0.3847 - val_auc: 0.7409 - val_accuracy: 0.8581\n",
            "Epoch 6/100\n",
            "244/244 [==============================] - 67s 272ms/step - loss: 0.4733 - auc: 0.6369 - accuracy: 0.8507 - val_loss: 0.3553 - val_auc: 0.7566 - val_accuracy: 0.8581\n",
            "Epoch 7/100\n",
            "244/244 [==============================] - 68s 276ms/step - loss: 0.4826 - auc: 0.6244 - accuracy: 0.8476 - val_loss: 0.3801 - val_auc: 0.7451 - val_accuracy: 0.8581\n",
            "Epoch 8/100\n",
            "244/244 [==============================] - 67s 271ms/step - loss: 0.4618 - auc: 0.6499 - accuracy: 0.8519 - val_loss: 0.3599 - val_auc: 0.7610 - val_accuracy: 0.8581\n",
            "Epoch 9/100\n",
            "244/244 [==============================] - 67s 272ms/step - loss: 0.4574 - auc: 0.6518 - accuracy: 0.8532 - val_loss: 0.4839 - val_auc: 0.6604 - val_accuracy: 0.8581\n",
            "Epoch 10/100\n",
            "244/244 [==============================] - 67s 270ms/step - loss: 0.4973 - auc: 0.5961 - accuracy: 0.8527 - val_loss: 0.4211 - val_auc: 0.7000 - val_accuracy: 0.8581\n",
            "Epoch 11/100\n",
            "244/244 [==============================] - 67s 271ms/step - loss: 0.4623 - auc: 0.6317 - accuracy: 0.8523 - val_loss: 0.3550 - val_auc: 0.7557 - val_accuracy: 0.8581\n",
            "Epoch 12/100\n",
            "244/244 [==============================] - 67s 271ms/step - loss: 0.4424 - auc: 0.6582 - accuracy: 0.8566 - val_loss: 0.3587 - val_auc: 0.7541 - val_accuracy: 0.8581\n",
            "Epoch 13/100\n",
            "244/244 [==============================] - 67s 270ms/step - loss: 0.4286 - auc: 0.6739 - accuracy: 0.8558 - val_loss: 0.3582 - val_auc: 0.7611 - val_accuracy: 0.8581\n",
            "Epoch 14/100\n",
            "244/244 [==============================] - 67s 271ms/step - loss: 0.4249 - auc: 0.6748 - accuracy: 0.8572 - val_loss: 0.3512 - val_auc: 0.7683 - val_accuracy: 0.8581\n",
            "Epoch 15/100\n",
            "244/244 [==============================] - 67s 273ms/step - loss: 0.4206 - auc: 0.6766 - accuracy: 0.8560 - val_loss: 0.3474 - val_auc: 0.7756 - val_accuracy: 0.8581\n",
            "Epoch 16/100\n",
            "244/244 [==============================] - 67s 272ms/step - loss: 0.4054 - auc: 0.7016 - accuracy: 0.8578 - val_loss: 0.3697 - val_auc: 0.7571 - val_accuracy: 0.8581\n",
            "Epoch 17/100\n",
            "244/244 [==============================] - 67s 272ms/step - loss: 0.4094 - auc: 0.6883 - accuracy: 0.8581 - val_loss: 0.3595 - val_auc: 0.7625 - val_accuracy: 0.8581\n",
            "Epoch 18/100\n",
            "244/244 [==============================] - 68s 277ms/step - loss: 0.4020 - auc: 0.6949 - accuracy: 0.8582 - val_loss: 0.3498 - val_auc: 0.7702 - val_accuracy: 0.8581\n",
            "Epoch 19/100\n",
            "244/244 [==============================] - 67s 271ms/step - loss: 0.3961 - auc: 0.7019 - accuracy: 0.8584 - val_loss: 0.3488 - val_auc: 0.7720 - val_accuracy: 0.8581\n",
            "Epoch 20/100\n",
            "243/244 [============================>.] - ETA: 0s - loss: 0.3969 - auc: 0.7007 - accuracy: 0.8587Restoring model weights from the end of the best epoch: 15.\n",
            "244/244 [==============================] - 67s 273ms/step - loss: 0.3969 - auc: 0.7007 - accuracy: 0.8588 - val_loss: 0.3547 - val_auc: 0.7683 - val_accuracy: 0.8581\n",
            "Epoch 20: early stopping\n"
          ]
        }
      ],
      "source": [
        "run_hist = model.fit(train_data, validation_data=val_data, epochs=100, \n",
        "  callbacks=[tensorboard,\n",
        "              keras.callbacks.EarlyStopping(\n",
        "                  monitor=\"val_auc\",\n",
        "                  min_delta=0,\n",
        "                  patience=5,\n",
        "                  verbose=1,\n",
        "                  mode=\"auto\",\n",
        "                  baseline=None,\n",
        "                  restore_best_weights=True,\n",
        "              )])"
      ]
    },
    {
      "cell_type": "code",
      "execution_count": null,
      "metadata": {
        "id": "o9LoictrNzwu",
        "colab": {
          "base_uri": "https://localhost:8080/"
        },
        "outputId": "fa48d28b-448f-430e-eb6d-b2f69757851a"
      },
      "outputs": [
        {
          "output_type": "stream",
          "name": "stdout",
          "text": [
            "183/183 [==============================] - 23s 117ms/step - loss: 0.3531 - auc: 0.7610 - accuracy: 0.8592\n",
            "[0.3531126081943512, 0.760989248752594, 0.859151303768158]\n"
          ]
        }
      ],
      "source": [
        "results = model.evaluate(test_data)\n",
        "print(results)\n",
        "\n",
        "results_pkl = open('/content/gdrive/MyDrive/Dense Experiments/Results/{}.pkl'.format(NAME), 'wb')\n",
        "pickle.dump(results, results_pkl)"
      ]
    },
    {
      "cell_type": "code",
      "source": [
        "results_pkl = open('/content/gdrive/MyDrive/Dense Experiments/Results/{}.pkl'.format(NAME), 'wb')\n",
        "pickle.dump(results, results_pkl)"
      ],
      "metadata": {
        "id": "fZVRTf4i9w_G"
      },
      "execution_count": null,
      "outputs": []
    },
    {
      "cell_type": "markdown",
      "metadata": {
        "id": "b596R3STNzwu"
      },
      "source": [
        "#### D = 2 [OK]"
      ]
    },
    {
      "cell_type": "code",
      "execution_count": null,
      "metadata": {
        "id": "1VqiqTseNzwu"
      },
      "outputs": [],
      "source": [
        "NAME = \"N512-L2-D2\"\n",
        "keras.backend.clear_session()"
      ]
    },
    {
      "cell_type": "code",
      "execution_count": null,
      "metadata": {
        "id": "9i9POM46Nzwu",
        "colab": {
          "base_uri": "https://localhost:8080/"
        },
        "outputId": "df468770-8270-4b89-c41f-4538083f1fa5"
      },
      "outputs": [
        {
          "output_type": "stream",
          "name": "stdout",
          "text": [
            "Model: \"sequential\"\n",
            "_________________________________________________________________\n",
            " Layer (type)                Output Shape              Param #   \n",
            "=================================================================\n",
            " conv2d (Conv2D)             (None, 256, 256, 32)      896       \n",
            "                                                                 \n",
            " conv2d_1 (Conv2D)           (None, 128, 128, 32)      9248      \n",
            "                                                                 \n",
            " conv2d_2 (Conv2D)           (None, 64, 64, 64)        18496     \n",
            "                                                                 \n",
            " dropout (Dropout)           (None, 64, 64, 64)        0         \n",
            "                                                                 \n",
            " max_pooling2d (MaxPooling2D  (None, 32, 32, 64)       0         \n",
            " )                                                               \n",
            "                                                                 \n",
            " dense (Dense)               (None, 32, 32, 128)       8320      \n",
            "                                                                 \n",
            " flatten (Flatten)           (None, 131072)            0         \n",
            "                                                                 \n",
            " dense_1 (Dense)             (None, 512)               67109376  \n",
            "                                                                 \n",
            " dense_2 (Dense)             (None, 512)               262656    \n",
            "                                                                 \n",
            " dropout_1 (Dropout)         (None, 512)               0         \n",
            "                                                                 \n",
            " dense_3 (Dense)             (None, 1)                 513       \n",
            "                                                                 \n",
            "=================================================================\n",
            "Total params: 67,409,505\n",
            "Trainable params: 67,409,505\n",
            "Non-trainable params: 0\n",
            "_________________________________________________________________\n"
          ]
        }
      ],
      "source": [
        "ins = image_batch.shape[1:]\n",
        "\n",
        "model = Sequential()\n",
        "\n",
        "model.add(Conv2D(32, (3,3), padding=\"same\", activation=\"relu\", input_shape=ins))\n",
        "\n",
        "model.add(Conv2D(32, (3,3), padding=\"same\", strides = (2,2), activation=\"relu\"))\n",
        "\n",
        "model.add(Conv2D(64, (3,3), padding=\"same\", strides = (2,2), activation=\"relu\"))\n",
        "\n",
        "model.add(Dropout(0.1))\n",
        "\n",
        "model.add(MaxPooling2D(pool_size=(2, 2)))\n",
        "\n",
        "model.add(Dense(128, activation=\"relu\"))\n",
        "\n",
        "model.add(Flatten())\n",
        "\n",
        "model.add(Dense(N, activation=\"relu\"))\n",
        "\n",
        "model.add(Dense(N, activation=\"relu\"))\n",
        "\n",
        "model.add(Dropout(0.5))\n",
        "\n",
        "model.add(Dense(1, activation=\"sigmoid\"))\n",
        "\n",
        "model.summary()"
      ]
    },
    {
      "cell_type": "code",
      "execution_count": null,
      "metadata": {
        "id": "URKxGnjQNzwu"
      },
      "outputs": [],
      "source": [
        "tensorboard = TensorBoard(log_dir=\"/content/gdrive/MyDrive/Dense Experiments/Logs/{}\".format(NAME))"
      ]
    },
    {
      "cell_type": "code",
      "execution_count": null,
      "metadata": {
        "id": "SjQ8G_lsNzwu"
      },
      "outputs": [],
      "source": [
        "model.compile(loss='binary_crossentropy', optimizer=optimizers.Adam(learning_rate=0.00001), metrics=[keras.metrics.AUC(), 'accuracy'])"
      ]
    },
    {
      "cell_type": "code",
      "execution_count": null,
      "metadata": {
        "id": "SnyReESMNzwu",
        "colab": {
          "base_uri": "https://localhost:8080/"
        },
        "outputId": "5485a9d8-a716-4cd5-e63c-ba9c97257a2d"
      },
      "outputs": [
        {
          "output_type": "stream",
          "name": "stdout",
          "text": [
            "Epoch 1/100\n",
            "244/244 [==============================] - 61s 242ms/step - loss: 0.8784 - auc: 0.5460 - accuracy: 0.8124 - val_loss: 0.3817 - val_auc: 0.7399 - val_accuracy: 0.8565\n",
            "Epoch 2/100\n",
            "244/244 [==============================] - 58s 235ms/step - loss: 0.3872 - auc: 0.7004 - accuracy: 0.8547 - val_loss: 0.3550 - val_auc: 0.7640 - val_accuracy: 0.8578\n",
            "Epoch 3/100\n",
            "244/244 [==============================] - 58s 235ms/step - loss: 0.3670 - auc: 0.7433 - accuracy: 0.8545 - val_loss: 0.3534 - val_auc: 0.7774 - val_accuracy: 0.8581\n",
            "Epoch 4/100\n",
            "244/244 [==============================] - 58s 236ms/step - loss: 0.3554 - auc: 0.7596 - accuracy: 0.8584 - val_loss: 0.3548 - val_auc: 0.7917 - val_accuracy: 0.8588\n",
            "Epoch 5/100\n",
            "244/244 [==============================] - 58s 236ms/step - loss: 0.3864 - auc: 0.7082 - accuracy: 0.8540 - val_loss: 0.3658 - val_auc: 0.7736 - val_accuracy: 0.8583\n",
            "Epoch 6/100\n",
            "244/244 [==============================] - 58s 234ms/step - loss: 0.3580 - auc: 0.7540 - accuracy: 0.8575 - val_loss: 0.3416 - val_auc: 0.7833 - val_accuracy: 0.8577\n",
            "Epoch 7/100\n",
            "244/244 [==============================] - 58s 236ms/step - loss: 0.3481 - auc: 0.7715 - accuracy: 0.8589 - val_loss: 0.3411 - val_auc: 0.7903 - val_accuracy: 0.8582\n",
            "Epoch 8/100\n",
            "244/244 [==============================] - 58s 236ms/step - loss: 0.3336 - auc: 0.7970 - accuracy: 0.8604 - val_loss: 0.3412 - val_auc: 0.8012 - val_accuracy: 0.8583\n",
            "Epoch 9/100\n",
            "244/244 [==============================] - 58s 235ms/step - loss: 0.3263 - auc: 0.8086 - accuracy: 0.8606 - val_loss: 0.3437 - val_auc: 0.7897 - val_accuracy: 0.8584\n",
            "Epoch 10/100\n",
            "244/244 [==============================] - 58s 236ms/step - loss: 0.3187 - auc: 0.8197 - accuracy: 0.8602 - val_loss: 0.3364 - val_auc: 0.7900 - val_accuracy: 0.8581\n",
            "Epoch 11/100\n",
            "244/244 [==============================] - 58s 236ms/step - loss: 0.3086 - auc: 0.8369 - accuracy: 0.8597 - val_loss: 0.3283 - val_auc: 0.8060 - val_accuracy: 0.8581\n",
            "Epoch 12/100\n",
            "244/244 [==============================] - 58s 234ms/step - loss: 0.3046 - auc: 0.8420 - accuracy: 0.8596 - val_loss: 0.3350 - val_auc: 0.8101 - val_accuracy: 0.8581\n",
            "Epoch 13/100\n",
            "244/244 [==============================] - 59s 238ms/step - loss: 0.2982 - auc: 0.8508 - accuracy: 0.8602 - val_loss: 0.3459 - val_auc: 0.7837 - val_accuracy: 0.8581\n",
            "Epoch 14/100\n",
            "244/244 [==============================] - 59s 238ms/step - loss: 0.2891 - auc: 0.8632 - accuracy: 0.8597 - val_loss: 0.3277 - val_auc: 0.8094 - val_accuracy: 0.8581\n",
            "Epoch 15/100\n",
            "244/244 [==============================] - 58s 235ms/step - loss: 0.2842 - auc: 0.8705 - accuracy: 0.8598 - val_loss: 0.3275 - val_auc: 0.8073 - val_accuracy: 0.8581\n",
            "Epoch 16/100\n",
            "244/244 [==============================] - 58s 237ms/step - loss: 0.2820 - auc: 0.8725 - accuracy: 0.8602 - val_loss: 0.3281 - val_auc: 0.8086 - val_accuracy: 0.8581\n",
            "Epoch 17/100\n",
            "243/244 [============================>.] - ETA: 0s - loss: 0.2734 - auc: 0.8825 - accuracy: 0.8822Restoring model weights from the end of the best epoch: 12.\n",
            "244/244 [==============================] - 58s 237ms/step - loss: 0.2734 - auc: 0.8825 - accuracy: 0.8822 - val_loss: 0.3332 - val_auc: 0.8044 - val_accuracy: 0.8719\n",
            "Epoch 17: early stopping\n"
          ]
        }
      ],
      "source": [
        "run_hist = model.fit(train_data, validation_data=val_data, epochs=100, \n",
        "  callbacks=[tensorboard,\n",
        "              keras.callbacks.EarlyStopping(\n",
        "                  monitor=\"val_auc\",\n",
        "                  min_delta=0,\n",
        "                  patience=5,\n",
        "                  verbose=1,\n",
        "                  mode=\"auto\",\n",
        "                  baseline=None,\n",
        "                  restore_best_weights=True,\n",
        "              )])"
      ]
    },
    {
      "cell_type": "code",
      "execution_count": null,
      "metadata": {
        "id": "GsVVn4xUNzwu",
        "colab": {
          "base_uri": "https://localhost:8080/"
        },
        "outputId": "a375d1c9-fe1f-4ac2-e5c6-97ac369af53e"
      },
      "outputs": [
        {
          "output_type": "stream",
          "name": "stdout",
          "text": [
            "183/183 [==============================] - 19s 101ms/step - loss: 0.3370 - auc: 0.8059 - accuracy: 0.8592\n",
            "[0.3370477855205536, 0.805869996547699, 0.859151303768158]\n"
          ]
        }
      ],
      "source": [
        "results = model.evaluate(test_data)\n",
        "print(results)\n",
        "\n",
        "results_pkl = open('/content/gdrive/MyDrive/Dense Experiments/Results/{}.pkl'.format(NAME), 'wb')\n",
        "pickle.dump(results, results_pkl)"
      ]
    },
    {
      "cell_type": "code",
      "source": [
        "results_pkl = open('/content/gdrive/MyDrive/Dense Experiments/Results/{}.pkl'.format(NAME), 'wb')\n",
        "pickle.dump(results, results_pkl)"
      ],
      "metadata": {
        "id": "YFNqMS75C57s"
      },
      "execution_count": null,
      "outputs": []
    },
    {
      "cell_type": "markdown",
      "metadata": {
        "id": "kIrOfEUjNzwu"
      },
      "source": [
        "#### D = 3 [OK]"
      ]
    },
    {
      "cell_type": "code",
      "execution_count": null,
      "metadata": {
        "id": "1ZdUyU6cNzwu"
      },
      "outputs": [],
      "source": [
        "NAME = \"N512-L2-D3\"\n",
        "keras.backend.clear_session()"
      ]
    },
    {
      "cell_type": "code",
      "execution_count": null,
      "metadata": {
        "id": "q74QN7H7Nzwu",
        "colab": {
          "base_uri": "https://localhost:8080/"
        },
        "outputId": "7cb8175b-e982-48ce-c0f7-195d1d546149"
      },
      "outputs": [
        {
          "output_type": "stream",
          "name": "stdout",
          "text": [
            "Model: \"sequential\"\n",
            "_________________________________________________________________\n",
            " Layer (type)                Output Shape              Param #   \n",
            "=================================================================\n",
            " conv2d (Conv2D)             (None, 256, 256, 32)      896       \n",
            "                                                                 \n",
            " conv2d_1 (Conv2D)           (None, 128, 128, 32)      9248      \n",
            "                                                                 \n",
            " conv2d_2 (Conv2D)           (None, 64, 64, 64)        18496     \n",
            "                                                                 \n",
            " max_pooling2d (MaxPooling2D  (None, 32, 32, 64)       0         \n",
            " )                                                               \n",
            "                                                                 \n",
            " dense (Dense)               (None, 32, 32, 128)       8320      \n",
            "                                                                 \n",
            " flatten (Flatten)           (None, 131072)            0         \n",
            "                                                                 \n",
            " dense_1 (Dense)             (None, 512)               67109376  \n",
            "                                                                 \n",
            " dropout (Dropout)           (None, 512)               0         \n",
            "                                                                 \n",
            " dense_2 (Dense)             (None, 512)               262656    \n",
            "                                                                 \n",
            " dropout_1 (Dropout)         (None, 512)               0         \n",
            "                                                                 \n",
            " dense_3 (Dense)             (None, 1)                 513       \n",
            "                                                                 \n",
            "=================================================================\n",
            "Total params: 67,409,505\n",
            "Trainable params: 67,409,505\n",
            "Non-trainable params: 0\n",
            "_________________________________________________________________\n"
          ]
        }
      ],
      "source": [
        "ins = image_batch.shape[1:]\n",
        "\n",
        "model = Sequential()\n",
        "\n",
        "model.add(Conv2D(32, (3,3), padding=\"same\", activation=\"relu\", input_shape=ins))\n",
        "\n",
        "model.add(Conv2D(32, (3,3), padding=\"same\", strides = (2,2), activation=\"relu\"))\n",
        "\n",
        "model.add(Conv2D(64, (3,3), padding=\"same\", strides = (2,2), activation=\"relu\"))\n",
        "\n",
        "model.add(MaxPooling2D(pool_size=(2, 2)))\n",
        "\n",
        "model.add(Dense(128, activation=\"relu\"))\n",
        "\n",
        "model.add(Flatten())\n",
        "\n",
        "model.add(Dense(N, activation=\"relu\"))\n",
        "\n",
        "model.add(Dropout(0.5))\n",
        "\n",
        "model.add(Dense(N, activation=\"relu\"))\n",
        "\n",
        "model.add(Dropout(0.5))\n",
        "\n",
        "model.add(Dense(1, activation=\"sigmoid\"))\n",
        "\n",
        "model.summary()"
      ]
    },
    {
      "cell_type": "code",
      "execution_count": null,
      "metadata": {
        "id": "MDw9mCotNzwu"
      },
      "outputs": [],
      "source": [
        "tensorboard = TensorBoard(log_dir=\"/content/gdrive/MyDrive/Dense Experiments/Logs/{}\".format(NAME))"
      ]
    },
    {
      "cell_type": "code",
      "execution_count": null,
      "metadata": {
        "id": "xqJsQSRuNzwv"
      },
      "outputs": [],
      "source": [
        "model.compile(loss='binary_crossentropy', optimizer=optimizers.Adam(learning_rate=0.00001), metrics=[keras.metrics.AUC(), 'accuracy'])"
      ]
    },
    {
      "cell_type": "code",
      "execution_count": null,
      "metadata": {
        "id": "8op9sJmfNzwv",
        "colab": {
          "base_uri": "https://localhost:8080/"
        },
        "outputId": "c68822cc-b2f4-4e5b-815a-5db746cda9bb"
      },
      "outputs": [
        {
          "output_type": "stream",
          "name": "stdout",
          "text": [
            "Epoch 1/100\n",
            "244/244 [==============================] - 58s 233ms/step - loss: 0.8075 - auc: 0.5481 - accuracy: 0.8177 - val_loss: 0.3998 - val_auc: 0.7314 - val_accuracy: 0.8581\n",
            "Epoch 2/100\n",
            "244/244 [==============================] - 57s 233ms/step - loss: 0.4472 - auc: 0.6494 - accuracy: 0.8372 - val_loss: 0.3795 - val_auc: 0.7374 - val_accuracy: 0.8581\n",
            "Epoch 3/100\n",
            "244/244 [==============================] - 57s 231ms/step - loss: 0.4299 - auc: 0.6671 - accuracy: 0.8477 - val_loss: 0.3963 - val_auc: 0.7585 - val_accuracy: 0.8581\n",
            "Epoch 4/100\n",
            "244/244 [==============================] - 57s 233ms/step - loss: 0.4224 - auc: 0.6888 - accuracy: 0.8511 - val_loss: 0.3523 - val_auc: 0.7690 - val_accuracy: 0.8581\n",
            "Epoch 5/100\n",
            "244/244 [==============================] - 57s 230ms/step - loss: 0.4141 - auc: 0.6929 - accuracy: 0.8530 - val_loss: 0.3665 - val_auc: 0.7758 - val_accuracy: 0.8581\n",
            "Epoch 6/100\n",
            "244/244 [==============================] - 57s 230ms/step - loss: 0.3937 - auc: 0.7232 - accuracy: 0.8557 - val_loss: 0.3587 - val_auc: 0.7870 - val_accuracy: 0.8582\n",
            "Epoch 7/100\n",
            "244/244 [==============================] - 65s 264ms/step - loss: 0.3800 - auc: 0.7393 - accuracy: 0.8570 - val_loss: 0.3419 - val_auc: 0.7883 - val_accuracy: 0.8581\n",
            "Epoch 8/100\n",
            "244/244 [==============================] - 57s 232ms/step - loss: 0.3767 - auc: 0.7390 - accuracy: 0.8572 - val_loss: 0.3402 - val_auc: 0.7887 - val_accuracy: 0.8581\n",
            "Epoch 9/100\n",
            "244/244 [==============================] - 66s 267ms/step - loss: 0.3714 - auc: 0.7499 - accuracy: 0.8583 - val_loss: 0.3429 - val_auc: 0.7900 - val_accuracy: 0.8581\n",
            "Epoch 10/100\n",
            "244/244 [==============================] - 58s 233ms/step - loss: 0.3730 - auc: 0.7465 - accuracy: 0.8577 - val_loss: 0.3468 - val_auc: 0.7855 - val_accuracy: 0.8581\n",
            "Epoch 11/100\n",
            "244/244 [==============================] - 57s 230ms/step - loss: 0.3579 - auc: 0.7691 - accuracy: 0.8588 - val_loss: 0.3371 - val_auc: 0.7972 - val_accuracy: 0.8581\n",
            "Epoch 12/100\n",
            "244/244 [==============================] - 57s 232ms/step - loss: 0.3484 - auc: 0.7815 - accuracy: 0.8596 - val_loss: 0.3378 - val_auc: 0.7998 - val_accuracy: 0.8581\n",
            "Epoch 13/100\n",
            "244/244 [==============================] - 58s 236ms/step - loss: 0.3578 - auc: 0.7654 - accuracy: 0.8594 - val_loss: 0.3378 - val_auc: 0.7970 - val_accuracy: 0.8581\n",
            "Epoch 14/100\n",
            "244/244 [==============================] - 57s 231ms/step - loss: 0.3456 - auc: 0.7823 - accuracy: 0.8595 - val_loss: 0.3425 - val_auc: 0.7924 - val_accuracy: 0.8581\n",
            "Epoch 15/100\n",
            "244/244 [==============================] - 58s 236ms/step - loss: 0.3440 - auc: 0.7865 - accuracy: 0.8588 - val_loss: 0.3495 - val_auc: 0.7951 - val_accuracy: 0.8581\n",
            "Epoch 16/100\n",
            "244/244 [==============================] - 57s 232ms/step - loss: 0.3334 - auc: 0.8027 - accuracy: 0.8593 - val_loss: 0.3378 - val_auc: 0.8003 - val_accuracy: 0.8581\n",
            "Epoch 17/100\n",
            "244/244 [==============================] - 57s 230ms/step - loss: 0.3225 - auc: 0.8167 - accuracy: 0.8595 - val_loss: 0.3389 - val_auc: 0.7992 - val_accuracy: 0.8581\n",
            "Epoch 18/100\n",
            "244/244 [==============================] - 58s 233ms/step - loss: 0.3297 - auc: 0.8062 - accuracy: 0.8593 - val_loss: 0.3385 - val_auc: 0.8039 - val_accuracy: 0.8582\n",
            "Epoch 19/100\n",
            "244/244 [==============================] - 56s 228ms/step - loss: 0.3171 - auc: 0.8237 - accuracy: 0.8598 - val_loss: 0.3350 - val_auc: 0.8059 - val_accuracy: 0.8581\n",
            "Epoch 20/100\n",
            "244/244 [==============================] - 65s 265ms/step - loss: 0.3259 - auc: 0.8110 - accuracy: 0.8599 - val_loss: 0.3330 - val_auc: 0.8055 - val_accuracy: 0.8583\n",
            "Epoch 21/100\n",
            "244/244 [==============================] - 58s 234ms/step - loss: 0.3252 - auc: 0.8115 - accuracy: 0.8595 - val_loss: 0.3355 - val_auc: 0.8055 - val_accuracy: 0.8581\n",
            "Epoch 22/100\n",
            "244/244 [==============================] - 57s 230ms/step - loss: 0.3352 - auc: 0.7946 - accuracy: 0.8591 - val_loss: 0.3334 - val_auc: 0.8069 - val_accuracy: 0.8588\n",
            "Epoch 23/100\n",
            "244/244 [==============================] - 57s 232ms/step - loss: 0.3148 - auc: 0.8260 - accuracy: 0.8597 - val_loss: 0.3346 - val_auc: 0.8082 - val_accuracy: 0.8581\n",
            "Epoch 24/100\n",
            "244/244 [==============================] - 57s 231ms/step - loss: 0.3065 - auc: 0.8375 - accuracy: 0.8599 - val_loss: 0.3433 - val_auc: 0.8017 - val_accuracy: 0.8581\n",
            "Epoch 25/100\n",
            "244/244 [==============================] - 58s 234ms/step - loss: 0.3039 - auc: 0.8395 - accuracy: 0.8602 - val_loss: 0.3391 - val_auc: 0.8065 - val_accuracy: 0.8588\n",
            "Epoch 26/100\n",
            "244/244 [==============================] - 57s 231ms/step - loss: 0.2977 - auc: 0.8482 - accuracy: 0.8602 - val_loss: 0.3415 - val_auc: 0.8041 - val_accuracy: 0.8604\n",
            "Epoch 27/100\n",
            "244/244 [==============================] - 57s 232ms/step - loss: 0.2839 - auc: 0.8719 - accuracy: 0.8602 - val_loss: 0.3371 - val_auc: 0.8096 - val_accuracy: 0.8579\n",
            "Epoch 28/100\n",
            "244/244 [==============================] - 57s 232ms/step - loss: 0.2786 - auc: 0.8750 - accuracy: 0.8606 - val_loss: 0.3487 - val_auc: 0.7971 - val_accuracy: 0.8599\n",
            "Epoch 29/100\n",
            "244/244 [==============================] - 58s 235ms/step - loss: 0.2854 - auc: 0.8665 - accuracy: 0.8607 - val_loss: 0.3600 - val_auc: 0.7989 - val_accuracy: 0.8604\n",
            "Epoch 30/100\n",
            "244/244 [==============================] - 57s 230ms/step - loss: 0.2768 - auc: 0.8790 - accuracy: 0.8611 - val_loss: 0.3391 - val_auc: 0.8088 - val_accuracy: 0.8588\n",
            "Epoch 31/100\n",
            "244/244 [==============================] - 57s 231ms/step - loss: 0.2626 - auc: 0.8961 - accuracy: 0.8613 - val_loss: 0.3616 - val_auc: 0.7980 - val_accuracy: 0.8604\n",
            "Epoch 32/100\n",
            "243/244 [============================>.] - ETA: 0s - loss: 0.2584 - auc: 0.8990 - accuracy: 0.8641Restoring model weights from the end of the best epoch: 27.\n",
            "244/244 [==============================] - 58s 236ms/step - loss: 0.2583 - auc: 0.8990 - accuracy: 0.8642 - val_loss: 0.3570 - val_auc: 0.8018 - val_accuracy: 0.8623\n",
            "Epoch 32: early stopping\n"
          ]
        }
      ],
      "source": [
        "run_hist = model.fit(train_data, validation_data=val_data, epochs=100, \n",
        "  callbacks=[tensorboard,\n",
        "              keras.callbacks.EarlyStopping(\n",
        "                  monitor=\"val_auc\",\n",
        "                  min_delta=0,\n",
        "                  patience=5,\n",
        "                  verbose=1,\n",
        "                  mode=\"auto\",\n",
        "                  baseline=None,\n",
        "                  restore_best_weights=True,\n",
        "              )])"
      ]
    },
    {
      "cell_type": "code",
      "execution_count": null,
      "metadata": {
        "id": "lZHab045Nzwv",
        "colab": {
          "base_uri": "https://localhost:8080/"
        },
        "outputId": "0cf4ed62-fa05-4ae2-bb81-c996e33bb27c"
      },
      "outputs": [
        {
          "output_type": "stream",
          "name": "stdout",
          "text": [
            "183/183 [==============================] - 19s 98ms/step - loss: 0.3428 - auc: 0.7982 - accuracy: 0.8592\n",
            "[0.34282225370407104, 0.7981623411178589, 0.859151303768158]\n"
          ]
        }
      ],
      "source": [
        "results = model.evaluate(test_data)\n",
        "print(results)\n",
        "\n",
        "results_pkl = open('/content/gdrive/MyDrive/Dense Experiments/Results/{}.pkl'.format(NAME), 'wb')\n",
        "pickle.dump(results, results_pkl)"
      ]
    },
    {
      "cell_type": "code",
      "source": [
        "results_pkl = open('/content/gdrive/MyDrive/Dense Experiments/Results/{}.pkl'.format(NAME), 'wb')\n",
        "pickle.dump(results, results_pkl)"
      ],
      "metadata": {
        "id": "RzsR-acrRLdZ"
      },
      "execution_count": null,
      "outputs": []
    },
    {
      "cell_type": "markdown",
      "metadata": {
        "id": "agnsADXXNzwv"
      },
      "source": [
        "#### D = 4 [OK]"
      ]
    },
    {
      "cell_type": "code",
      "execution_count": null,
      "metadata": {
        "id": "4XgckuKYNzwv"
      },
      "outputs": [],
      "source": [
        "NAME = \"N512-L2-D4\"\n",
        "keras.backend.clear_session()"
      ]
    },
    {
      "cell_type": "code",
      "execution_count": null,
      "metadata": {
        "id": "kug4lSzwNzwv",
        "colab": {
          "base_uri": "https://localhost:8080/"
        },
        "outputId": "96b072a3-fc00-4991-a14c-a2c9137ef09f"
      },
      "outputs": [
        {
          "output_type": "stream",
          "name": "stdout",
          "text": [
            "Model: \"sequential\"\n",
            "_________________________________________________________________\n",
            " Layer (type)                Output Shape              Param #   \n",
            "=================================================================\n",
            " conv2d (Conv2D)             (None, 256, 256, 32)      896       \n",
            "                                                                 \n",
            " conv2d_1 (Conv2D)           (None, 128, 128, 32)      9248      \n",
            "                                                                 \n",
            " conv2d_2 (Conv2D)           (None, 64, 64, 64)        18496     \n",
            "                                                                 \n",
            " max_pooling2d (MaxPooling2D  (None, 32, 32, 64)       0         \n",
            " )                                                               \n",
            "                                                                 \n",
            " dense (Dense)               (None, 32, 32, 128)       8320      \n",
            "                                                                 \n",
            " flatten (Flatten)           (None, 131072)            0         \n",
            "                                                                 \n",
            " dense_1 (Dense)             (None, 512)               67109376  \n",
            "                                                                 \n",
            " dense_2 (Dense)             (None, 512)               262656    \n",
            "                                                                 \n",
            " dropout (Dropout)           (None, 512)               0         \n",
            "                                                                 \n",
            " dense_3 (Dense)             (None, 1)                 513       \n",
            "                                                                 \n",
            "=================================================================\n",
            "Total params: 67,409,505\n",
            "Trainable params: 67,409,505\n",
            "Non-trainable params: 0\n",
            "_________________________________________________________________\n"
          ]
        }
      ],
      "source": [
        "ins = image_batch.shape[1:]\n",
        "\n",
        "model = Sequential()\n",
        "\n",
        "model.add(Conv2D(32, (3,3), padding=\"same\", activation=\"relu\", input_shape=ins))\n",
        "\n",
        "model.add(Conv2D(32, (3,3), padding=\"same\", strides = (2,2), activation=\"relu\"))\n",
        "\n",
        "model.add(Conv2D(64, (3,3), padding=\"same\", strides = (2,2), activation=\"relu\"))\n",
        "\n",
        "model.add(MaxPooling2D(pool_size=(2, 2)))\n",
        "\n",
        "model.add(Dense(128, activation=\"relu\"))\n",
        "\n",
        "model.add(Flatten())\n",
        "\n",
        "model.add(Dense(N, activation=\"relu\"))\n",
        "\n",
        "model.add(Dense(N, activation=\"relu\"))\n",
        "\n",
        "model.add(Dropout(0.5))\n",
        "\n",
        "model.add(Dense(1, activation=\"sigmoid\"))\n",
        "\n",
        "model.summary()"
      ]
    },
    {
      "cell_type": "code",
      "execution_count": null,
      "metadata": {
        "id": "Qr8umNT2Nzwv"
      },
      "outputs": [],
      "source": [
        "tensorboard = TensorBoard(log_dir=\"/content/gdrive/MyDrive/Dense Experiments/Logs/{}\".format(NAME))"
      ]
    },
    {
      "cell_type": "code",
      "execution_count": null,
      "metadata": {
        "id": "fHXjeF-xNzwv"
      },
      "outputs": [],
      "source": [
        "model.compile(loss='binary_crossentropy', optimizer=optimizers.Adam(learning_rate=0.00001), metrics=[keras.metrics.AUC(), 'accuracy'])"
      ]
    },
    {
      "cell_type": "code",
      "execution_count": null,
      "metadata": {
        "id": "IQk_M_UpNzwv",
        "colab": {
          "base_uri": "https://localhost:8080/"
        },
        "outputId": "a9c08e46-f0ae-4367-cc3d-d4ac550a95bb"
      },
      "outputs": [
        {
          "output_type": "stream",
          "name": "stdout",
          "text": [
            "Epoch 1/100\n",
            "244/244 [==============================] - 57s 225ms/step - loss: 0.9068 - auc: 0.5542 - accuracy: 0.8128 - val_loss: 0.3710 - val_auc: 0.7420 - val_accuracy: 0.8572\n",
            "Epoch 2/100\n",
            "244/244 [==============================] - 56s 227ms/step - loss: 0.3786 - auc: 0.7177 - accuracy: 0.8520 - val_loss: 0.3561 - val_auc: 0.7651 - val_accuracy: 0.8581\n",
            "Epoch 3/100\n",
            "244/244 [==============================] - 57s 230ms/step - loss: 0.3599 - auc: 0.7485 - accuracy: 0.8576 - val_loss: 0.3457 - val_auc: 0.7782 - val_accuracy: 0.8581\n",
            "Epoch 4/100\n",
            "244/244 [==============================] - 57s 230ms/step - loss: 0.3597 - auc: 0.7501 - accuracy: 0.8570 - val_loss: 0.3479 - val_auc: 0.7775 - val_accuracy: 0.8600\n",
            "Epoch 5/100\n",
            "244/244 [==============================] - 56s 229ms/step - loss: 0.3443 - auc: 0.7767 - accuracy: 0.8602 - val_loss: 0.3401 - val_auc: 0.7902 - val_accuracy: 0.8583\n",
            "Epoch 6/100\n",
            "244/244 [==============================] - 57s 231ms/step - loss: 0.3348 - auc: 0.7932 - accuracy: 0.8603 - val_loss: 0.3375 - val_auc: 0.7966 - val_accuracy: 0.8590\n",
            "Epoch 7/100\n",
            "244/244 [==============================] - 57s 230ms/step - loss: 0.3247 - auc: 0.8104 - accuracy: 0.8632 - val_loss: 0.3516 - val_auc: 0.7889 - val_accuracy: 0.8610\n",
            "Epoch 8/100\n",
            "244/244 [==============================] - 57s 233ms/step - loss: 0.3162 - auc: 0.8247 - accuracy: 0.8640 - val_loss: 0.3350 - val_auc: 0.7960 - val_accuracy: 0.8588\n",
            "Epoch 9/100\n",
            "244/244 [==============================] - 57s 230ms/step - loss: 0.3097 - auc: 0.8326 - accuracy: 0.8644 - val_loss: 0.3303 - val_auc: 0.8042 - val_accuracy: 0.8632\n",
            "Epoch 10/100\n",
            "244/244 [==============================] - 58s 234ms/step - loss: 0.2992 - auc: 0.8500 - accuracy: 0.8654 - val_loss: 0.3514 - val_auc: 0.7935 - val_accuracy: 0.8604\n",
            "Epoch 11/100\n",
            "244/244 [==============================] - 57s 231ms/step - loss: 0.2935 - auc: 0.8583 - accuracy: 0.8680 - val_loss: 0.3378 - val_auc: 0.7925 - val_accuracy: 0.8655\n",
            "Epoch 12/100\n",
            "244/244 [==============================] - 57s 231ms/step - loss: 0.2822 - auc: 0.8740 - accuracy: 0.8786 - val_loss: 0.3301 - val_auc: 0.8065 - val_accuracy: 0.8673\n",
            "Epoch 13/100\n",
            "244/244 [==============================] - 57s 231ms/step - loss: 0.2718 - auc: 0.8865 - accuracy: 0.8847 - val_loss: 0.3319 - val_auc: 0.8056 - val_accuracy: 0.8689\n",
            "Epoch 14/100\n",
            "244/244 [==============================] - 57s 230ms/step - loss: 0.2671 - auc: 0.8927 - accuracy: 0.8840 - val_loss: 0.3399 - val_auc: 0.8025 - val_accuracy: 0.8669\n",
            "Epoch 15/100\n",
            "244/244 [==============================] - 58s 234ms/step - loss: 0.2576 - auc: 0.9010 - accuracy: 0.8915 - val_loss: 0.3849 - val_auc: 0.7811 - val_accuracy: 0.8651\n",
            "Epoch 16/100\n",
            "244/244 [==============================] - 57s 230ms/step - loss: 0.2480 - auc: 0.9069 - accuracy: 0.8982 - val_loss: 0.3413 - val_auc: 0.8024 - val_accuracy: 0.8694\n",
            "Epoch 17/100\n",
            "243/244 [============================>.] - ETA: 0s - loss: 0.2620 - auc: 0.8931 - accuracy: 0.8917Restoring model weights from the end of the best epoch: 12.\n",
            "244/244 [==============================] - 57s 229ms/step - loss: 0.2619 - auc: 0.8931 - accuracy: 0.8917 - val_loss: 0.3418 - val_auc: 0.7995 - val_accuracy: 0.8654\n",
            "Epoch 17: early stopping\n"
          ]
        }
      ],
      "source": [
        "run_hist = model.fit(train_data, validation_data=val_data, epochs=100, \n",
        "  callbacks=[tensorboard,\n",
        "              keras.callbacks.EarlyStopping(\n",
        "                  monitor=\"val_auc\",\n",
        "                  min_delta=0,\n",
        "                  patience=5,\n",
        "                  verbose=1,\n",
        "                  mode=\"auto\",\n",
        "                  baseline=None,\n",
        "                  restore_best_weights=True,\n",
        "              )])"
      ]
    },
    {
      "cell_type": "code",
      "execution_count": null,
      "metadata": {
        "id": "vixO0c1-Nzwv",
        "colab": {
          "base_uri": "https://localhost:8080/"
        },
        "outputId": "128c5ef4-7d7a-4c78-9cbc-da47d549c320"
      },
      "outputs": [
        {
          "output_type": "stream",
          "name": "stdout",
          "text": [
            "183/183 [==============================] - 19s 98ms/step - loss: 0.3339 - auc: 0.7976 - accuracy: 0.8690\n",
            "[0.33392134308815, 0.7975985407829285, 0.8690098524093628]\n"
          ]
        }
      ],
      "source": [
        "results = model.evaluate(test_data)\n",
        "print(results)\n",
        "\n",
        "results_pkl = open('/content/gdrive/MyDrive/Dense Experiments/Results/{}.pkl'.format(NAME), 'wb')\n",
        "pickle.dump(results, results_pkl)"
      ]
    },
    {
      "cell_type": "code",
      "source": [
        "results_pkl = open('/content/gdrive/MyDrive/Dense Experiments/Results/{}.pkl'.format(NAME), 'wb')\n",
        "pickle.dump(results, results_pkl)"
      ],
      "metadata": {
        "id": "Yq3N44zPWJjK"
      },
      "execution_count": null,
      "outputs": []
    },
    {
      "cell_type": "markdown",
      "metadata": {
        "id": "QZwDIuT7Nzwv"
      },
      "source": [
        "#### D = 5 [OK]"
      ]
    },
    {
      "cell_type": "code",
      "execution_count": null,
      "metadata": {
        "id": "F2evadUzNzwv"
      },
      "outputs": [],
      "source": [
        "NAME = \"N512-L2-D5\"\n",
        "keras.backend.clear_session()"
      ]
    },
    {
      "cell_type": "code",
      "execution_count": null,
      "metadata": {
        "id": "unT7XTpDNzwv",
        "colab": {
          "base_uri": "https://localhost:8080/"
        },
        "outputId": "317f4960-9ffe-418a-e083-4a083c76e020"
      },
      "outputs": [
        {
          "output_type": "stream",
          "name": "stdout",
          "text": [
            "Model: \"sequential\"\n",
            "_________________________________________________________________\n",
            " Layer (type)                Output Shape              Param #   \n",
            "=================================================================\n",
            " conv2d (Conv2D)             (None, 256, 256, 32)      896       \n",
            "                                                                 \n",
            " dropout (Dropout)           (None, 256, 256, 32)      0         \n",
            "                                                                 \n",
            " conv2d_1 (Conv2D)           (None, 128, 128, 32)      9248      \n",
            "                                                                 \n",
            " dropout_1 (Dropout)         (None, 128, 128, 32)      0         \n",
            "                                                                 \n",
            " conv2d_2 (Conv2D)           (None, 64, 64, 64)        18496     \n",
            "                                                                 \n",
            " dropout_2 (Dropout)         (None, 64, 64, 64)        0         \n",
            "                                                                 \n",
            " max_pooling2d (MaxPooling2D  (None, 32, 32, 64)       0         \n",
            " )                                                               \n",
            "                                                                 \n",
            " dense (Dense)               (None, 32, 32, 128)       8320      \n",
            "                                                                 \n",
            " flatten (Flatten)           (None, 131072)            0         \n",
            "                                                                 \n",
            " dense_1 (Dense)             (None, 512)               67109376  \n",
            "                                                                 \n",
            " dense_2 (Dense)             (None, 512)               262656    \n",
            "                                                                 \n",
            " dense_3 (Dense)             (None, 1)                 513       \n",
            "                                                                 \n",
            "=================================================================\n",
            "Total params: 67,409,505\n",
            "Trainable params: 67,409,505\n",
            "Non-trainable params: 0\n",
            "_________________________________________________________________\n"
          ]
        }
      ],
      "source": [
        "ins = image_batch.shape[1:]\n",
        "\n",
        "model = Sequential()\n",
        "\n",
        "model.add(Conv2D(32, (3,3), padding=\"same\", activation=\"relu\", input_shape=ins))\n",
        "\n",
        "model.add(Dropout(0.1))\n",
        "\n",
        "model.add(Conv2D(32, (3,3), padding=\"same\", strides = (2,2), activation=\"relu\"))\n",
        "\n",
        "model.add(Dropout(0.1))\n",
        "\n",
        "model.add(Conv2D(64, (3,3), padding=\"same\", strides = (2,2), activation=\"relu\"))\n",
        "\n",
        "model.add(Dropout(0.1))\n",
        "\n",
        "model.add(MaxPooling2D(pool_size=(2, 2)))\n",
        "\n",
        "model.add(Dense(128, activation=\"relu\"))\n",
        "\n",
        "model.add(Flatten())\n",
        "\n",
        "model.add(Dense(N, activation=\"relu\"))\n",
        "\n",
        "model.add(Dense(N, activation=\"relu\"))\n",
        "\n",
        "model.add(Dense(1, activation=\"sigmoid\"))\n",
        "\n",
        "model.summary()"
      ]
    },
    {
      "cell_type": "code",
      "execution_count": null,
      "metadata": {
        "id": "EQM7fgVzNzwv"
      },
      "outputs": [],
      "source": [
        "tensorboard = TensorBoard(log_dir=\"/content/gdrive/MyDrive/Dense Experiments/Logs/{}\".format(NAME))"
      ]
    },
    {
      "cell_type": "code",
      "execution_count": null,
      "metadata": {
        "id": "Vb1pzrlLNzwv"
      },
      "outputs": [],
      "source": [
        "model.compile(loss='binary_crossentropy', optimizer=optimizers.Adam(learning_rate=0.00001), metrics=[keras.metrics.AUC(), 'accuracy'])"
      ]
    },
    {
      "cell_type": "code",
      "execution_count": null,
      "metadata": {
        "id": "LHnjrWOaNzwv",
        "colab": {
          "base_uri": "https://localhost:8080/"
        },
        "outputId": "31ce58d6-1959-44c7-dd24-aa3778b8723e"
      },
      "outputs": [
        {
          "output_type": "stream",
          "name": "stdout",
          "text": [
            "Epoch 1/100\n",
            "244/244 [==============================] - 68s 273ms/step - loss: 0.6799 - auc: 0.5931 - accuracy: 0.8266 - val_loss: 0.6012 - val_auc: 0.7490 - val_accuracy: 0.6481\n",
            "Epoch 2/100\n",
            "244/244 [==============================] - 67s 272ms/step - loss: 0.4034 - auc: 0.7053 - accuracy: 0.8411 - val_loss: 0.6863 - val_auc: 0.7307 - val_accuracy: 0.5582\n",
            "Epoch 3/100\n",
            "244/244 [==============================] - 67s 273ms/step - loss: 0.3805 - auc: 0.7361 - accuracy: 0.8463 - val_loss: 0.5560 - val_auc: 0.7654 - val_accuracy: 0.6758\n",
            "Epoch 4/100\n",
            "244/244 [==============================] - 68s 278ms/step - loss: 0.3656 - auc: 0.7526 - accuracy: 0.8527 - val_loss: 0.9051 - val_auc: 0.7468 - val_accuracy: 0.4317\n",
            "Epoch 5/100\n",
            "244/244 [==============================] - 69s 282ms/step - loss: 0.3832 - auc: 0.7335 - accuracy: 0.8457 - val_loss: 0.4066 - val_auc: 0.7654 - val_accuracy: 0.8394\n",
            "Epoch 6/100\n",
            "244/244 [==============================] - 68s 276ms/step - loss: 0.3419 - auc: 0.7806 - accuracy: 0.8627 - val_loss: 0.5766 - val_auc: 0.7601 - val_accuracy: 0.6539\n",
            "Epoch 7/100\n",
            "244/244 [==============================] - 68s 277ms/step - loss: 0.3336 - auc: 0.7927 - accuracy: 0.8663 - val_loss: 0.4608 - val_auc: 0.7728 - val_accuracy: 0.7897\n",
            "Epoch 8/100\n",
            "244/244 [==============================] - 67s 273ms/step - loss: 0.3330 - auc: 0.7950 - accuracy: 0.8641 - val_loss: 0.3692 - val_auc: 0.7660 - val_accuracy: 0.8520\n",
            "Epoch 9/100\n",
            "244/244 [==============================] - 68s 276ms/step - loss: 0.3322 - auc: 0.7944 - accuracy: 0.8680 - val_loss: 0.4613 - val_auc: 0.7730 - val_accuracy: 0.7872\n",
            "Epoch 10/100\n",
            "244/244 [==============================] - 68s 274ms/step - loss: 0.3209 - auc: 0.8111 - accuracy: 0.8702 - val_loss: 0.5404 - val_auc: 0.7592 - val_accuracy: 0.7051\n",
            "Epoch 11/100\n",
            "244/244 [==============================] - 68s 277ms/step - loss: 0.3237 - auc: 0.8074 - accuracy: 0.8705 - val_loss: 0.3438 - val_auc: 0.7906 - val_accuracy: 0.8662\n",
            "Epoch 12/100\n",
            "244/244 [==============================] - 68s 274ms/step - loss: 0.3128 - auc: 0.8226 - accuracy: 0.8736 - val_loss: 0.3555 - val_auc: 0.7582 - val_accuracy: 0.8578\n",
            "Epoch 13/100\n",
            "244/244 [==============================] - 67s 273ms/step - loss: 0.3066 - auc: 0.8279 - accuracy: 0.8778 - val_loss: 0.5537 - val_auc: 0.7718 - val_accuracy: 0.6869\n",
            "Epoch 14/100\n",
            "244/244 [==============================] - 68s 275ms/step - loss: 0.3044 - auc: 0.8345 - accuracy: 0.8762 - val_loss: 0.3388 - val_auc: 0.7946 - val_accuracy: 0.8650\n",
            "Epoch 15/100\n",
            "244/244 [==============================] - 68s 275ms/step - loss: 0.2990 - auc: 0.8386 - accuracy: 0.8818 - val_loss: 0.4461 - val_auc: 0.7559 - val_accuracy: 0.7936\n",
            "Epoch 16/100\n",
            "244/244 [==============================] - 68s 276ms/step - loss: 0.2999 - auc: 0.8372 - accuracy: 0.8806 - val_loss: 0.3538 - val_auc: 0.7949 - val_accuracy: 0.8581\n",
            "Epoch 17/100\n",
            "244/244 [==============================] - 67s 274ms/step - loss: 0.2881 - auc: 0.8521 - accuracy: 0.8826 - val_loss: 0.3857 - val_auc: 0.7477 - val_accuracy: 0.8610\n",
            "Epoch 18/100\n",
            "244/244 [==============================] - 68s 276ms/step - loss: 0.2873 - auc: 0.8533 - accuracy: 0.8856 - val_loss: 0.3982 - val_auc: 0.7763 - val_accuracy: 0.8271\n",
            "Epoch 19/100\n",
            "244/244 [==============================] - 67s 272ms/step - loss: 0.2793 - auc: 0.8623 - accuracy: 0.8887 - val_loss: 0.3686 - val_auc: 0.7869 - val_accuracy: 0.8447\n",
            "Epoch 20/100\n",
            "244/244 [==============================] - 67s 273ms/step - loss: 0.2715 - auc: 0.8699 - accuracy: 0.8952 - val_loss: 0.3526 - val_auc: 0.7826 - val_accuracy: 0.8529\n",
            "Epoch 21/100\n",
            "243/244 [============================>.] - ETA: 0s - loss: 0.2567 - auc: 0.8850 - accuracy: 0.8980Restoring model weights from the end of the best epoch: 16.\n",
            "244/244 [==============================] - 67s 273ms/step - loss: 0.2567 - auc: 0.8850 - accuracy: 0.8980 - val_loss: 0.3403 - val_auc: 0.7862 - val_accuracy: 0.8628\n",
            "Epoch 21: early stopping\n"
          ]
        }
      ],
      "source": [
        "run_hist = model.fit(train_data, validation_data=val_data, epochs=100, \n",
        "  callbacks=[tensorboard,\n",
        "              keras.callbacks.EarlyStopping(\n",
        "                  monitor=\"val_auc\",\n",
        "                  min_delta=0,\n",
        "                  patience=5,\n",
        "                  verbose=1,\n",
        "                  mode=\"auto\",\n",
        "                  baseline=None,\n",
        "                  restore_best_weights=True,\n",
        "              )])"
      ]
    },
    {
      "cell_type": "code",
      "execution_count": null,
      "metadata": {
        "id": "EUpBTJMSNzwv",
        "colab": {
          "base_uri": "https://localhost:8080/"
        },
        "outputId": "72bf267f-8f58-4d53-db70-e7d90c9a2f15"
      },
      "outputs": [
        {
          "output_type": "stream",
          "name": "stdout",
          "text": [
            "183/183 [==============================] - 19s 98ms/step - loss: 0.3558 - auc: 0.7945 - accuracy: 0.8588\n",
            "[0.35584476590156555, 0.7945382595062256, 0.8588083982467651]\n"
          ]
        }
      ],
      "source": [
        "results = model.evaluate(test_data)\n",
        "print(results)\n",
        "\n",
        "results_pkl = open('/content/gdrive/MyDrive/Dense Experiments/Results/{}.pkl'.format(NAME), 'wb')\n",
        "pickle.dump(results, results_pkl)"
      ]
    },
    {
      "cell_type": "code",
      "source": [
        "results_pkl = open('/content/gdrive/MyDrive/Dense Experiments/Results/{}.pkl'.format(NAME), 'wb')\n",
        "pickle.dump(results, results_pkl)"
      ],
      "metadata": {
        "id": "doGn3VbjdqjB"
      },
      "execution_count": null,
      "outputs": []
    },
    {
      "cell_type": "markdown",
      "metadata": {
        "id": "ZYgbexhONzwv"
      },
      "source": [
        "#### D = 6 [OK]"
      ]
    },
    {
      "cell_type": "code",
      "execution_count": null,
      "metadata": {
        "id": "Ob7-XOXMNzwv"
      },
      "outputs": [],
      "source": [
        "NAME = \"N512-L2-D6\"\n",
        "keras.backend.clear_session()"
      ]
    },
    {
      "cell_type": "code",
      "execution_count": null,
      "metadata": {
        "id": "wxwj5ui0Nzwv",
        "colab": {
          "base_uri": "https://localhost:8080/"
        },
        "outputId": "790acdf0-cbd0-4cb3-eb38-6b2bc5454e0d"
      },
      "outputs": [
        {
          "output_type": "stream",
          "name": "stdout",
          "text": [
            "Model: \"sequential\"\n",
            "_________________________________________________________________\n",
            " Layer (type)                Output Shape              Param #   \n",
            "=================================================================\n",
            " conv2d (Conv2D)             (None, 256, 256, 32)      896       \n",
            "                                                                 \n",
            " conv2d_1 (Conv2D)           (None, 128, 128, 32)      9248      \n",
            "                                                                 \n",
            " conv2d_2 (Conv2D)           (None, 64, 64, 64)        18496     \n",
            "                                                                 \n",
            " dropout (Dropout)           (None, 64, 64, 64)        0         \n",
            "                                                                 \n",
            " max_pooling2d (MaxPooling2D  (None, 32, 32, 64)       0         \n",
            " )                                                               \n",
            "                                                                 \n",
            " dense (Dense)               (None, 32, 32, 128)       8320      \n",
            "                                                                 \n",
            " flatten (Flatten)           (None, 131072)            0         \n",
            "                                                                 \n",
            " dense_1 (Dense)             (None, 512)               67109376  \n",
            "                                                                 \n",
            " dense_2 (Dense)             (None, 512)               262656    \n",
            "                                                                 \n",
            " dense_3 (Dense)             (None, 1)                 513       \n",
            "                                                                 \n",
            "=================================================================\n",
            "Total params: 67,409,505\n",
            "Trainable params: 67,409,505\n",
            "Non-trainable params: 0\n",
            "_________________________________________________________________\n"
          ]
        }
      ],
      "source": [
        "ins = image_batch.shape[1:]\n",
        "\n",
        "model = Sequential()\n",
        "\n",
        "model.add(Conv2D(32, (3,3), padding=\"same\", activation=\"relu\", input_shape=ins))\n",
        "\n",
        "model.add(Conv2D(32, (3,3), padding=\"same\", strides = (2,2), activation=\"relu\"))\n",
        "\n",
        "model.add(Conv2D(64, (3,3), padding=\"same\", strides = (2,2), activation=\"relu\"))\n",
        "\n",
        "model.add(Dropout(0.1))\n",
        "\n",
        "model.add(MaxPooling2D(pool_size=(2, 2)))\n",
        "\n",
        "model.add(Dense(128, activation=\"relu\"))\n",
        "\n",
        "model.add(Flatten())\n",
        "\n",
        "model.add(Dense(N, activation=\"relu\"))\n",
        "\n",
        "model.add(Dense(N, activation=\"relu\"))\n",
        "\n",
        "model.add(Dense(1, activation=\"sigmoid\"))\n",
        "\n",
        "model.summary()"
      ]
    },
    {
      "cell_type": "code",
      "execution_count": null,
      "metadata": {
        "id": "-LRzGXnQNzwv"
      },
      "outputs": [],
      "source": [
        "tensorboard = TensorBoard(log_dir=\"/content/gdrive/MyDrive/Dense Experiments/Logs/{}\".format(NAME))"
      ]
    },
    {
      "cell_type": "code",
      "execution_count": null,
      "metadata": {
        "id": "HKuFJIv8Nzww"
      },
      "outputs": [],
      "source": [
        "model.compile(loss='binary_crossentropy', optimizer=optimizers.Adam(learning_rate=0.00001), metrics=[keras.metrics.AUC(), 'accuracy'])"
      ]
    },
    {
      "cell_type": "code",
      "execution_count": null,
      "metadata": {
        "id": "GJT_1J1fNzww",
        "colab": {
          "base_uri": "https://localhost:8080/"
        },
        "outputId": "6661fb7a-1818-498d-c785-8f49b4735064"
      },
      "outputs": [
        {
          "output_type": "stream",
          "name": "stdout",
          "text": [
            "Epoch 1/100\n",
            "244/244 [==============================] - 58s 230ms/step - loss: 0.6932 - auc: 0.6147 - accuracy: 0.8302 - val_loss: 0.4832 - val_auc: 0.7743 - val_accuracy: 0.7483\n",
            "Epoch 2/100\n",
            "244/244 [==============================] - 57s 232ms/step - loss: 0.3663 - auc: 0.7511 - accuracy: 0.8563 - val_loss: 0.3514 - val_auc: 0.7723 - val_accuracy: 0.8629\n",
            "Epoch 3/100\n",
            "244/244 [==============================] - 59s 240ms/step - loss: 0.3358 - auc: 0.7918 - accuracy: 0.8649 - val_loss: 0.3679 - val_auc: 0.7896 - val_accuracy: 0.8426\n",
            "Epoch 4/100\n",
            "244/244 [==============================] - 57s 233ms/step - loss: 0.3180 - auc: 0.8147 - accuracy: 0.8736 - val_loss: 0.4065 - val_auc: 0.7421 - val_accuracy: 0.8600\n",
            "Epoch 5/100\n",
            "244/244 [==============================] - 58s 234ms/step - loss: 0.3057 - auc: 0.8327 - accuracy: 0.8786 - val_loss: 0.3948 - val_auc: 0.7989 - val_accuracy: 0.8194\n",
            "Epoch 6/100\n",
            "244/244 [==============================] - 59s 240ms/step - loss: 0.2846 - auc: 0.8545 - accuracy: 0.8892 - val_loss: 0.3250 - val_auc: 0.8104 - val_accuracy: 0.8672\n",
            "Epoch 7/100\n",
            "244/244 [==============================] - 58s 234ms/step - loss: 0.2681 - auc: 0.8720 - accuracy: 0.8959 - val_loss: 0.3730 - val_auc: 0.7819 - val_accuracy: 0.8653\n",
            "Epoch 8/100\n",
            "244/244 [==============================] - 58s 235ms/step - loss: 0.2462 - auc: 0.8934 - accuracy: 0.9054 - val_loss: 0.3925 - val_auc: 0.7645 - val_accuracy: 0.8665\n",
            "Epoch 9/100\n",
            "244/244 [==============================] - 58s 236ms/step - loss: 0.2250 - auc: 0.9108 - accuracy: 0.9158 - val_loss: 0.3571 - val_auc: 0.7927 - val_accuracy: 0.8619\n",
            "Epoch 10/100\n",
            "244/244 [==============================] - 58s 234ms/step - loss: 0.2218 - auc: 0.9131 - accuracy: 0.9154 - val_loss: 0.4539 - val_auc: 0.7483 - val_accuracy: 0.8660\n",
            "Epoch 11/100\n",
            "243/244 [============================>.] - ETA: 0s - loss: 0.2001 - auc: 0.9288 - accuracy: 0.9272Restoring model weights from the end of the best epoch: 6.\n",
            "244/244 [==============================] - 58s 235ms/step - loss: 0.2001 - auc: 0.9288 - accuracy: 0.9272 - val_loss: 0.3570 - val_auc: 0.7963 - val_accuracy: 0.8721\n",
            "Epoch 11: early stopping\n"
          ]
        }
      ],
      "source": [
        "run_hist = model.fit(train_data, validation_data=val_data, epochs=100, \n",
        "  callbacks=[tensorboard,\n",
        "              keras.callbacks.EarlyStopping(\n",
        "                  monitor=\"val_auc\",\n",
        "                  min_delta=0,\n",
        "                  patience=5,\n",
        "                  verbose=1,\n",
        "                  mode=\"auto\",\n",
        "                  baseline=None,\n",
        "                  restore_best_weights=True,\n",
        "              )])"
      ]
    },
    {
      "cell_type": "code",
      "execution_count": null,
      "metadata": {
        "id": "RzOp2egZNzww",
        "colab": {
          "base_uri": "https://localhost:8080/"
        },
        "outputId": "5c9718b8-2946-46b3-de37-c1255a2784c4"
      },
      "outputs": [
        {
          "output_type": "stream",
          "name": "stdout",
          "text": [
            "183/183 [==============================] - 19s 99ms/step - loss: 0.3342 - auc: 0.7975 - accuracy: 0.8658\n",
            "[0.334225594997406, 0.7974523305892944, 0.8658379912376404]\n"
          ]
        }
      ],
      "source": [
        "results = model.evaluate(test_data)\n",
        "print(results)\n",
        "\n",
        "results_pkl = open('/content/gdrive/MyDrive/Dense Experiments/Results/{}.pkl'.format(NAME), 'wb')\n",
        "pickle.dump(results, results_pkl)"
      ]
    },
    {
      "cell_type": "code",
      "source": [
        "results_pkl = open('/content/gdrive/MyDrive/Dense Experiments/Results/{}.pkl'.format(NAME), 'wb')\n",
        "pickle.dump(results, results_pkl)"
      ],
      "metadata": {
        "id": "PmhA5T8vhOED"
      },
      "execution_count": null,
      "outputs": []
    },
    {
      "cell_type": "markdown",
      "metadata": {
        "id": "qAoEL1QSO2Qk"
      },
      "source": [
        "### L = 3 [OK]"
      ]
    },
    {
      "cell_type": "markdown",
      "metadata": {
        "id": "pvGumU-HO2Qk"
      },
      "source": [
        "#### D = 0 [OK]"
      ]
    },
    {
      "cell_type": "code",
      "execution_count": null,
      "metadata": {
        "id": "1imwSJaXO2Qk"
      },
      "outputs": [],
      "source": [
        "NAME = \"N512-L3-D0\"\n",
        "keras.backend.clear_session()"
      ]
    },
    {
      "cell_type": "code",
      "execution_count": null,
      "metadata": {
        "id": "TBndE4S5O2Qk",
        "colab": {
          "base_uri": "https://localhost:8080/"
        },
        "outputId": "82f33654-4e11-43ae-c4c3-3155dd81876c"
      },
      "outputs": [
        {
          "output_type": "stream",
          "name": "stdout",
          "text": [
            "Model: \"sequential\"\n",
            "_________________________________________________________________\n",
            " Layer (type)                Output Shape              Param #   \n",
            "=================================================================\n",
            " conv2d (Conv2D)             (None, 256, 256, 32)      896       \n",
            "                                                                 \n",
            " conv2d_1 (Conv2D)           (None, 128, 128, 32)      9248      \n",
            "                                                                 \n",
            " conv2d_2 (Conv2D)           (None, 64, 64, 64)        18496     \n",
            "                                                                 \n",
            " max_pooling2d (MaxPooling2D  (None, 32, 32, 64)       0         \n",
            " )                                                               \n",
            "                                                                 \n",
            " dense (Dense)               (None, 32, 32, 128)       8320      \n",
            "                                                                 \n",
            " flatten (Flatten)           (None, 131072)            0         \n",
            "                                                                 \n",
            " dense_1 (Dense)             (None, 512)               67109376  \n",
            "                                                                 \n",
            " dense_2 (Dense)             (None, 512)               262656    \n",
            "                                                                 \n",
            " dense_3 (Dense)             (None, 512)               262656    \n",
            "                                                                 \n",
            " dense_4 (Dense)             (None, 1)                 513       \n",
            "                                                                 \n",
            "=================================================================\n",
            "Total params: 67,672,161\n",
            "Trainable params: 67,672,161\n",
            "Non-trainable params: 0\n",
            "_________________________________________________________________\n"
          ]
        }
      ],
      "source": [
        "ins = image_batch.shape[1:]\n",
        "\n",
        "model = Sequential()\n",
        "\n",
        "model.add(Conv2D(32, (3,3), padding=\"same\", activation=\"relu\", input_shape=ins))\n",
        "\n",
        "model.add(Conv2D(32, (3,3), padding=\"same\", strides = (2,2), activation=\"relu\"))\n",
        "\n",
        "model.add(Conv2D(64, (3,3), padding=\"same\", strides = (2,2), activation=\"relu\"))\n",
        "\n",
        "model.add(MaxPooling2D(pool_size=(2, 2)))\n",
        "\n",
        "model.add(Dense(128, activation=\"relu\"))\n",
        "\n",
        "model.add(Flatten())\n",
        "\n",
        "model.add(Dense(N, activation=\"relu\"))\n",
        "\n",
        "model.add(Dense(N, activation=\"relu\"))\n",
        "\n",
        "model.add(Dense(N, activation=\"relu\"))\n",
        "\n",
        "model.add(Dense(1, activation=\"sigmoid\"))\n",
        "\n",
        "model.summary()"
      ]
    },
    {
      "cell_type": "code",
      "execution_count": null,
      "metadata": {
        "id": "5Kb5gQeuO2Qk"
      },
      "outputs": [],
      "source": [
        "tensorboard = TensorBoard(log_dir=\"/content/gdrive/MyDrive/Dense Experiments/Logs/{}\".format(NAME))"
      ]
    },
    {
      "cell_type": "code",
      "execution_count": null,
      "metadata": {
        "id": "sXeywVxSO2Qk"
      },
      "outputs": [],
      "source": [
        "model.compile(loss='binary_crossentropy', optimizer=optimizers.Adam(learning_rate=0.00001), metrics=[keras.metrics.AUC(), 'accuracy'])"
      ]
    },
    {
      "cell_type": "code",
      "execution_count": null,
      "metadata": {
        "id": "vcE7qjR5O2Qk",
        "colab": {
          "base_uri": "https://localhost:8080/"
        },
        "outputId": "791943d3-6f85-4d9a-80fc-12d905067617"
      },
      "outputs": [
        {
          "output_type": "stream",
          "name": "stdout",
          "text": [
            "Epoch 1/100\n",
            "244/244 [==============================] - 82s 271ms/step - loss: 0.4950 - auc: 0.6255 - accuracy: 0.8388 - val_loss: 0.3647 - val_auc: 0.7815 - val_accuracy: 0.8547\n",
            "Epoch 2/100\n",
            "244/244 [==============================] - 58s 235ms/step - loss: 0.3629 - auc: 0.7516 - accuracy: 0.8538 - val_loss: 0.4011 - val_auc: 0.7598 - val_accuracy: 0.8590\n",
            "Epoch 3/100\n",
            "244/244 [==============================] - 58s 234ms/step - loss: 0.3329 - auc: 0.7943 - accuracy: 0.8671 - val_loss: 0.3958 - val_auc: 0.8017 - val_accuracy: 0.8101\n",
            "Epoch 4/100\n",
            "244/244 [==============================] - 58s 235ms/step - loss: 0.3126 - auc: 0.8211 - accuracy: 0.8768 - val_loss: 0.3360 - val_auc: 0.7933 - val_accuracy: 0.8687\n",
            "Epoch 5/100\n",
            "244/244 [==============================] - 58s 237ms/step - loss: 0.3043 - auc: 0.8324 - accuracy: 0.8788 - val_loss: 0.4370 - val_auc: 0.8063 - val_accuracy: 0.7816\n",
            "Epoch 6/100\n",
            "244/244 [==============================] - 58s 234ms/step - loss: 0.2926 - auc: 0.8491 - accuracy: 0.8847 - val_loss: 0.3216 - val_auc: 0.8125 - val_accuracy: 0.8757\n",
            "Epoch 7/100\n",
            "244/244 [==============================] - 60s 241ms/step - loss: 0.2728 - auc: 0.8666 - accuracy: 0.8923 - val_loss: 0.3344 - val_auc: 0.8122 - val_accuracy: 0.8653\n",
            "Epoch 8/100\n",
            "244/244 [==============================] - 58s 236ms/step - loss: 0.2425 - auc: 0.8996 - accuracy: 0.9063 - val_loss: 0.3569 - val_auc: 0.7956 - val_accuracy: 0.8727\n",
            "Epoch 9/100\n",
            "244/244 [==============================] - 58s 235ms/step - loss: 0.2266 - auc: 0.9097 - accuracy: 0.9155 - val_loss: 0.4666 - val_auc: 0.8092 - val_accuracy: 0.7758\n",
            "Epoch 10/100\n",
            "244/244 [==============================] - 58s 234ms/step - loss: 0.2144 - auc: 0.9192 - accuracy: 0.9184 - val_loss: 0.3903 - val_auc: 0.7861 - val_accuracy: 0.8732\n",
            "Epoch 11/100\n",
            "243/244 [============================>.] - ETA: 0s - loss: 0.1838 - auc: 0.9395 - accuracy: 0.9333Restoring model weights from the end of the best epoch: 6.\n",
            "244/244 [==============================] - 58s 236ms/step - loss: 0.1837 - auc: 0.9396 - accuracy: 0.9333 - val_loss: 0.4209 - val_auc: 0.7763 - val_accuracy: 0.8734\n",
            "Epoch 11: early stopping\n"
          ]
        }
      ],
      "source": [
        "run_hist = model.fit(train_data, validation_data=val_data, epochs=100, \n",
        "  callbacks=[tensorboard,\n",
        "              keras.callbacks.EarlyStopping(\n",
        "                  monitor=\"val_auc\",\n",
        "                  min_delta=0,\n",
        "                  patience=5,\n",
        "                  verbose=1,\n",
        "                  mode=\"auto\",\n",
        "                  baseline=None,\n",
        "                  restore_best_weights=True,\n",
        "              )])"
      ]
    },
    {
      "cell_type": "code",
      "execution_count": null,
      "metadata": {
        "id": "0050v-aMO2Qk",
        "colab": {
          "base_uri": "https://localhost:8080/"
        },
        "outputId": "2ff42dbe-3056-4956-c80d-90109e8e37ff"
      },
      "outputs": [
        {
          "output_type": "stream",
          "name": "stdout",
          "text": [
            "183/183 [==============================] - 21s 112ms/step - loss: 0.3268 - auc: 0.8064 - accuracy: 0.8709\n",
            "[0.32677069306373596, 0.8063855171203613, 0.8708958625793457]\n"
          ]
        }
      ],
      "source": [
        "results = model.evaluate(test_data)\n",
        "print(results)\n",
        "\n",
        "results_pkl = open('/content/gdrive/MyDrive/Dense Experiments/Results/{}.pkl'.format(NAME), 'wb')\n",
        "pickle.dump(results, results_pkl)"
      ]
    },
    {
      "cell_type": "code",
      "source": [
        "results_pkl = open('/content/gdrive/MyDrive/Dense Experiments/Results/{}.pkl'.format(NAME), 'wb')\n",
        "pickle.dump(results, results_pkl)"
      ],
      "metadata": {
        "id": "Z7nivImXLsPM"
      },
      "execution_count": null,
      "outputs": []
    },
    {
      "cell_type": "markdown",
      "metadata": {
        "id": "HcgWrBIMO2Ql"
      },
      "source": [
        "#### D = 1 [OK]"
      ]
    },
    {
      "cell_type": "code",
      "execution_count": null,
      "metadata": {
        "id": "8Htih1hoO2Ql"
      },
      "outputs": [],
      "source": [
        "NAME = \"N512-L3-D1\"\n",
        "keras.backend.clear_session()"
      ]
    },
    {
      "cell_type": "code",
      "execution_count": null,
      "metadata": {
        "id": "y2uy-_cuO2Ql",
        "colab": {
          "base_uri": "https://localhost:8080/"
        },
        "outputId": "327aa36f-c70f-4361-9c07-7eeda14004a3"
      },
      "outputs": [
        {
          "output_type": "stream",
          "name": "stdout",
          "text": [
            "Model: \"sequential\"\n",
            "_________________________________________________________________\n",
            " Layer (type)                Output Shape              Param #   \n",
            "=================================================================\n",
            " conv2d (Conv2D)             (None, 256, 256, 32)      896       \n",
            "                                                                 \n",
            " dropout (Dropout)           (None, 256, 256, 32)      0         \n",
            "                                                                 \n",
            " conv2d_1 (Conv2D)           (None, 128, 128, 32)      9248      \n",
            "                                                                 \n",
            " dropout_1 (Dropout)         (None, 128, 128, 32)      0         \n",
            "                                                                 \n",
            " conv2d_2 (Conv2D)           (None, 64, 64, 64)        18496     \n",
            "                                                                 \n",
            " dropout_2 (Dropout)         (None, 64, 64, 64)        0         \n",
            "                                                                 \n",
            " max_pooling2d (MaxPooling2D  (None, 32, 32, 64)       0         \n",
            " )                                                               \n",
            "                                                                 \n",
            " dense (Dense)               (None, 32, 32, 128)       8320      \n",
            "                                                                 \n",
            " flatten (Flatten)           (None, 131072)            0         \n",
            "                                                                 \n",
            " dense_1 (Dense)             (None, 512)               67109376  \n",
            "                                                                 \n",
            " dropout_3 (Dropout)         (None, 512)               0         \n",
            "                                                                 \n",
            " dense_2 (Dense)             (None, 512)               262656    \n",
            "                                                                 \n",
            " dropout_4 (Dropout)         (None, 512)               0         \n",
            "                                                                 \n",
            " dense_3 (Dense)             (None, 512)               262656    \n",
            "                                                                 \n",
            " dropout_5 (Dropout)         (None, 512)               0         \n",
            "                                                                 \n",
            " dense_4 (Dense)             (None, 1)                 513       \n",
            "                                                                 \n",
            "=================================================================\n",
            "Total params: 67,672,161\n",
            "Trainable params: 67,672,161\n",
            "Non-trainable params: 0\n",
            "_________________________________________________________________\n"
          ]
        }
      ],
      "source": [
        "ins = image_batch.shape[1:]\n",
        "\n",
        "model = Sequential()\n",
        "\n",
        "model.add(Conv2D(32, (3,3), padding=\"same\", activation=\"relu\", input_shape=ins))\n",
        "\n",
        "model.add(Dropout(0.1))\n",
        "\n",
        "model.add(Conv2D(32, (3,3), padding=\"same\", strides = (2,2), activation=\"relu\"))\n",
        "\n",
        "model.add(Dropout(0.1))\n",
        "\n",
        "model.add(Conv2D(64, (3,3), padding=\"same\", strides = (2,2), activation=\"relu\"))\n",
        "\n",
        "model.add(Dropout(0.1))\n",
        "\n",
        "model.add(MaxPooling2D(pool_size=(2, 2)))\n",
        "\n",
        "model.add(Dense(128, activation=\"relu\"))\n",
        "\n",
        "model.add(Flatten())\n",
        "\n",
        "model.add(Dense(N, activation=\"relu\"))\n",
        "\n",
        "model.add(Dropout(0.5))\n",
        "\n",
        "model.add(Dense(N, activation=\"relu\"))\n",
        "\n",
        "model.add(Dropout(0.5))\n",
        "\n",
        "model.add(Dense(N, activation=\"relu\"))\n",
        "\n",
        "model.add(Dropout(0.5))\n",
        "\n",
        "model.add(Dense(1, activation=\"sigmoid\"))\n",
        "\n",
        "model.summary()"
      ]
    },
    {
      "cell_type": "code",
      "execution_count": null,
      "metadata": {
        "id": "7KMJi5GVO2Ql"
      },
      "outputs": [],
      "source": [
        "tensorboard = TensorBoard(log_dir=\"/content/gdrive/MyDrive/Dense Experiments/Logs/{}\".format(NAME))"
      ]
    },
    {
      "cell_type": "code",
      "execution_count": null,
      "metadata": {
        "id": "LfCe5VhxO2Ql"
      },
      "outputs": [],
      "source": [
        "model.compile(loss='binary_crossentropy', optimizer=optimizers.Adam(learning_rate=0.00001), metrics=[keras.metrics.AUC(), 'accuracy'])"
      ]
    },
    {
      "cell_type": "code",
      "execution_count": null,
      "metadata": {
        "id": "uaCSfHcBO2Ql",
        "colab": {
          "base_uri": "https://localhost:8080/"
        },
        "outputId": "5fcb7d5b-8c63-4999-dfdb-a2c079dc1438"
      },
      "outputs": [
        {
          "output_type": "stream",
          "name": "stdout",
          "text": [
            "Epoch 1/100\n",
            "244/244 [==============================] - 73s 285ms/step - loss: 1.2899 - auc: 0.5270 - accuracy: 0.7536 - val_loss: 0.4853 - val_auc: 0.6803 - val_accuracy: 0.8572\n",
            "Epoch 2/100\n",
            "244/244 [==============================] - 69s 281ms/step - loss: 0.5127 - auc: 0.5970 - accuracy: 0.8058 - val_loss: 0.3840 - val_auc: 0.7371 - val_accuracy: 0.8581\n",
            "Epoch 3/100\n",
            "244/244 [==============================] - 68s 277ms/step - loss: 0.4625 - auc: 0.6441 - accuracy: 0.8381 - val_loss: 0.3976 - val_auc: 0.7437 - val_accuracy: 0.8581\n",
            "Epoch 4/100\n",
            "244/244 [==============================] - 68s 276ms/step - loss: 0.4470 - auc: 0.6571 - accuracy: 0.8468 - val_loss: 0.3746 - val_auc: 0.7522 - val_accuracy: 0.8581\n",
            "Epoch 5/100\n",
            "244/244 [==============================] - 68s 276ms/step - loss: 0.4334 - auc: 0.6735 - accuracy: 0.8501 - val_loss: 0.3636 - val_auc: 0.7686 - val_accuracy: 0.8581\n",
            "Epoch 6/100\n",
            "244/244 [==============================] - 68s 277ms/step - loss: 0.4182 - auc: 0.6884 - accuracy: 0.8538 - val_loss: 0.3625 - val_auc: 0.7694 - val_accuracy: 0.8581\n",
            "Epoch 7/100\n",
            "244/244 [==============================] - 68s 275ms/step - loss: 0.4216 - auc: 0.6881 - accuracy: 0.8557 - val_loss: 0.3590 - val_auc: 0.7620 - val_accuracy: 0.8581\n",
            "Epoch 8/100\n",
            "244/244 [==============================] - 68s 276ms/step - loss: 0.4226 - auc: 0.6871 - accuracy: 0.8561 - val_loss: 0.3540 - val_auc: 0.7815 - val_accuracy: 0.8581\n",
            "Epoch 9/100\n",
            "244/244 [==============================] - 68s 275ms/step - loss: 0.4017 - auc: 0.7085 - accuracy: 0.8578 - val_loss: 0.3816 - val_auc: 0.7612 - val_accuracy: 0.8581\n",
            "Epoch 10/100\n",
            "244/244 [==============================] - 67s 274ms/step - loss: 0.4085 - auc: 0.7023 - accuracy: 0.8568 - val_loss: 0.3642 - val_auc: 0.7739 - val_accuracy: 0.8581\n",
            "Epoch 11/100\n",
            "244/244 [==============================] - 68s 275ms/step - loss: 0.3989 - auc: 0.7111 - accuracy: 0.8581 - val_loss: 0.3475 - val_auc: 0.7857 - val_accuracy: 0.8581\n",
            "Epoch 12/100\n",
            "244/244 [==============================] - 69s 280ms/step - loss: 0.3865 - auc: 0.7235 - accuracy: 0.8588 - val_loss: 0.3530 - val_auc: 0.7839 - val_accuracy: 0.8581\n",
            "Epoch 13/100\n",
            "244/244 [==============================] - 69s 281ms/step - loss: 0.3863 - auc: 0.7224 - accuracy: 0.8590 - val_loss: 0.3605 - val_auc: 0.7808 - val_accuracy: 0.8581\n",
            "Epoch 14/100\n",
            "244/244 [==============================] - 69s 279ms/step - loss: 0.3924 - auc: 0.7080 - accuracy: 0.8585 - val_loss: 0.3707 - val_auc: 0.7738 - val_accuracy: 0.8581\n",
            "Epoch 15/100\n",
            "244/244 [==============================] - 68s 275ms/step - loss: 0.3853 - auc: 0.7205 - accuracy: 0.8588 - val_loss: 0.3574 - val_auc: 0.7816 - val_accuracy: 0.8581\n",
            "Epoch 16/100\n",
            "243/244 [============================>.] - ETA: 0s - loss: 0.3837 - auc: 0.7245 - accuracy: 0.8591Restoring model weights from the end of the best epoch: 11.\n",
            "244/244 [==============================] - 68s 275ms/step - loss: 0.3837 - auc: 0.7245 - accuracy: 0.8591 - val_loss: 0.3544 - val_auc: 0.7846 - val_accuracy: 0.8581\n",
            "Epoch 16: early stopping\n"
          ]
        }
      ],
      "source": [
        "run_hist = model.fit(train_data, validation_data=val_data, epochs=100, \n",
        "  callbacks=[tensorboard,\n",
        "              keras.callbacks.EarlyStopping(\n",
        "                  monitor=\"val_auc\",\n",
        "                  min_delta=0,\n",
        "                  patience=5,\n",
        "                  verbose=1,\n",
        "                  mode=\"auto\",\n",
        "                  baseline=None,\n",
        "                  restore_best_weights=True,\n",
        "              )])"
      ]
    },
    {
      "cell_type": "code",
      "execution_count": null,
      "metadata": {
        "id": "Qlwxol4WO2Ql",
        "colab": {
          "base_uri": "https://localhost:8080/"
        },
        "outputId": "e14f4f14-8592-4d87-8baa-7d51c53e176e"
      },
      "outputs": [
        {
          "output_type": "stream",
          "name": "stdout",
          "text": [
            "183/183 [==============================] - 19s 99ms/step - loss: 0.3557 - auc: 0.7686 - accuracy: 0.8592\n",
            "[0.35566288232803345, 0.7686297297477722, 0.859151303768158]\n"
          ]
        }
      ],
      "source": [
        "results = model.evaluate(test_data)\n",
        "print(results)\n",
        "\n",
        "results_pkl = open('/content/gdrive/MyDrive/Dense Experiments/Results/{}.pkl'.format(NAME), 'wb')\n",
        "pickle.dump(results, results_pkl)"
      ]
    },
    {
      "cell_type": "code",
      "source": [
        "results_pkl = open('/content/gdrive/MyDrive/Dense Experiments/Results/{}.pkl'.format(NAME), 'wb')\n",
        "pickle.dump(results, results_pkl)"
      ],
      "metadata": {
        "id": "LTG7K4d-QqFa"
      },
      "execution_count": null,
      "outputs": []
    },
    {
      "cell_type": "markdown",
      "metadata": {
        "id": "MrGz9IdWO2Ql"
      },
      "source": [
        "#### D = 2 [OK]"
      ]
    },
    {
      "cell_type": "code",
      "execution_count": null,
      "metadata": {
        "id": "gO7UCpf2O2Ql"
      },
      "outputs": [],
      "source": [
        "NAME = \"N512-L3-D2\"\n",
        "keras.backend.clear_session()"
      ]
    },
    {
      "cell_type": "code",
      "execution_count": null,
      "metadata": {
        "id": "yfw9emZwO2Ql",
        "colab": {
          "base_uri": "https://localhost:8080/"
        },
        "outputId": "2b204c86-7efd-43bd-dd94-85ff7abe438c"
      },
      "outputs": [
        {
          "output_type": "stream",
          "name": "stdout",
          "text": [
            "Model: \"sequential\"\n",
            "_________________________________________________________________\n",
            " Layer (type)                Output Shape              Param #   \n",
            "=================================================================\n",
            " conv2d (Conv2D)             (None, 256, 256, 32)      896       \n",
            "                                                                 \n",
            " conv2d_1 (Conv2D)           (None, 128, 128, 32)      9248      \n",
            "                                                                 \n",
            " conv2d_2 (Conv2D)           (None, 64, 64, 64)        18496     \n",
            "                                                                 \n",
            " dropout (Dropout)           (None, 64, 64, 64)        0         \n",
            "                                                                 \n",
            " max_pooling2d (MaxPooling2D  (None, 32, 32, 64)       0         \n",
            " )                                                               \n",
            "                                                                 \n",
            " dense (Dense)               (None, 32, 32, 128)       8320      \n",
            "                                                                 \n",
            " flatten (Flatten)           (None, 131072)            0         \n",
            "                                                                 \n",
            " dense_1 (Dense)             (None, 512)               67109376  \n",
            "                                                                 \n",
            " dense_2 (Dense)             (None, 512)               262656    \n",
            "                                                                 \n",
            " dense_3 (Dense)             (None, 512)               262656    \n",
            "                                                                 \n",
            " dropout_1 (Dropout)         (None, 512)               0         \n",
            "                                                                 \n",
            " dense_4 (Dense)             (None, 1)                 513       \n",
            "                                                                 \n",
            "=================================================================\n",
            "Total params: 67,672,161\n",
            "Trainable params: 67,672,161\n",
            "Non-trainable params: 0\n",
            "_________________________________________________________________\n"
          ]
        }
      ],
      "source": [
        "ins = image_batch.shape[1:]\n",
        "\n",
        "model = Sequential()\n",
        "\n",
        "model.add(Conv2D(32, (3,3), padding=\"same\", activation=\"relu\", input_shape=ins))\n",
        "\n",
        "model.add(Conv2D(32, (3,3), padding=\"same\", strides = (2,2), activation=\"relu\"))\n",
        "\n",
        "model.add(Conv2D(64, (3,3), padding=\"same\", strides = (2,2), activation=\"relu\"))\n",
        "\n",
        "model.add(Dropout(0.1))\n",
        "\n",
        "model.add(MaxPooling2D(pool_size=(2, 2)))\n",
        "\n",
        "model.add(Dense(128, activation=\"relu\"))\n",
        "\n",
        "model.add(Flatten())\n",
        "\n",
        "model.add(Dense(N, activation=\"relu\"))\n",
        "\n",
        "model.add(Dense(N, activation=\"relu\"))\n",
        "\n",
        "model.add(Dense(N, activation=\"relu\"))\n",
        "\n",
        "model.add(Dropout(0.5))\n",
        "\n",
        "model.add(Dense(1, activation=\"sigmoid\"))\n",
        "\n",
        "model.summary()"
      ]
    },
    {
      "cell_type": "code",
      "execution_count": null,
      "metadata": {
        "id": "XEMYMQtBO2Ql"
      },
      "outputs": [],
      "source": [
        "tensorboard = TensorBoard(log_dir=\"/content/gdrive/MyDrive/Dense Experiments/Logs/{}\".format(NAME))"
      ]
    },
    {
      "cell_type": "code",
      "execution_count": null,
      "metadata": {
        "id": "zbh3o8B9O2Ql"
      },
      "outputs": [],
      "source": [
        "model.compile(loss='binary_crossentropy', optimizer=optimizers.Adam(learning_rate=0.00001), metrics=[keras.metrics.AUC(), 'accuracy'])"
      ]
    },
    {
      "cell_type": "code",
      "execution_count": null,
      "metadata": {
        "id": "Gisv8G8MO2Ql",
        "colab": {
          "base_uri": "https://localhost:8080/"
        },
        "outputId": "03c63714-fb79-42bd-adb0-7bd0721e9fa8"
      },
      "outputs": [
        {
          "output_type": "stream",
          "name": "stdout",
          "text": [
            "Epoch 1/100\n",
            "244/244 [==============================] - 61s 243ms/step - loss: 0.5247 - auc: 0.5750 - accuracy: 0.8338 - val_loss: 0.3768 - val_auc: 0.6819 - val_accuracy: 0.8581\n",
            "Epoch 2/100\n",
            "244/244 [==============================] - 59s 239ms/step - loss: 0.3694 - auc: 0.7259 - accuracy: 0.8568 - val_loss: 0.3423 - val_auc: 0.7890 - val_accuracy: 0.8581\n",
            "Epoch 3/100\n",
            "244/244 [==============================] - 59s 240ms/step - loss: 0.3455 - auc: 0.7719 - accuracy: 0.8614 - val_loss: 0.3421 - val_auc: 0.7911 - val_accuracy: 0.8583\n",
            "Epoch 4/100\n",
            "244/244 [==============================] - 59s 237ms/step - loss: 0.3344 - auc: 0.7917 - accuracy: 0.8646 - val_loss: 0.3358 - val_auc: 0.8039 - val_accuracy: 0.8669\n",
            "Epoch 5/100\n",
            "244/244 [==============================] - 59s 238ms/step - loss: 0.3200 - auc: 0.8150 - accuracy: 0.8685 - val_loss: 0.3267 - val_auc: 0.8113 - val_accuracy: 0.8650\n",
            "Epoch 6/100\n",
            "244/244 [==============================] - 59s 239ms/step - loss: 0.3018 - auc: 0.8401 - accuracy: 0.8784 - val_loss: 0.3255 - val_auc: 0.8173 - val_accuracy: 0.8732\n",
            "Epoch 7/100\n",
            "244/244 [==============================] - 67s 274ms/step - loss: 0.2876 - auc: 0.8551 - accuracy: 0.8870 - val_loss: 0.3213 - val_auc: 0.8121 - val_accuracy: 0.8755\n",
            "Epoch 8/100\n",
            "244/244 [==============================] - 59s 238ms/step - loss: 0.2712 - auc: 0.8708 - accuracy: 0.8946 - val_loss: 0.3168 - val_auc: 0.8194 - val_accuracy: 0.8745\n",
            "Epoch 9/100\n",
            "244/244 [==============================] - 59s 238ms/step - loss: 0.2484 - auc: 0.8934 - accuracy: 0.9051 - val_loss: 0.3291 - val_auc: 0.8095 - val_accuracy: 0.8768\n",
            "Epoch 10/100\n",
            "244/244 [==============================] - 59s 239ms/step - loss: 0.2261 - auc: 0.9126 - accuracy: 0.9137 - val_loss: 0.3169 - val_auc: 0.8194 - val_accuracy: 0.8761\n",
            "Epoch 11/100\n",
            "244/244 [==============================] - 59s 240ms/step - loss: 0.2099 - auc: 0.9234 - accuracy: 0.9221 - val_loss: 0.3587 - val_auc: 0.8217 - val_accuracy: 0.8415\n",
            "Epoch 12/100\n",
            "244/244 [==============================] - 60s 244ms/step - loss: 0.1868 - auc: 0.9395 - accuracy: 0.9330 - val_loss: 0.3430 - val_auc: 0.8255 - val_accuracy: 0.8573\n",
            "Epoch 13/100\n",
            "244/244 [==============================] - 59s 240ms/step - loss: 0.1773 - auc: 0.9449 - accuracy: 0.9372 - val_loss: 0.3385 - val_auc: 0.8068 - val_accuracy: 0.8826\n",
            "Epoch 14/100\n",
            "244/244 [==============================] - 59s 239ms/step - loss: 0.1676 - auc: 0.9500 - accuracy: 0.9421 - val_loss: 0.3473 - val_auc: 0.8051 - val_accuracy: 0.8816\n",
            "Epoch 15/100\n",
            "244/244 [==============================] - 59s 241ms/step - loss: 0.1480 - auc: 0.9613 - accuracy: 0.9495 - val_loss: 0.3547 - val_auc: 0.8020 - val_accuracy: 0.8817\n",
            "Epoch 16/100\n",
            "244/244 [==============================] - 60s 242ms/step - loss: 0.1316 - auc: 0.9678 - accuracy: 0.9567 - val_loss: 0.3551 - val_auc: 0.8074 - val_accuracy: 0.8789\n",
            "Epoch 17/100\n",
            "243/244 [============================>.] - ETA: 0s - loss: 0.1196 - auc: 0.9717 - accuracy: 0.9628Restoring model weights from the end of the best epoch: 12.\n",
            "244/244 [==============================] - 59s 240ms/step - loss: 0.1195 - auc: 0.9717 - accuracy: 0.9628 - val_loss: 0.3802 - val_auc: 0.7927 - val_accuracy: 0.8797\n",
            "Epoch 17: early stopping\n"
          ]
        }
      ],
      "source": [
        "run_hist = model.fit(train_data, validation_data=val_data, epochs=100, \n",
        "  callbacks=[tensorboard,\n",
        "              keras.callbacks.EarlyStopping(\n",
        "                  monitor=\"val_auc\",\n",
        "                  min_delta=0,\n",
        "                  patience=5,\n",
        "                  verbose=1,\n",
        "                  mode=\"auto\",\n",
        "                  baseline=None,\n",
        "                  restore_best_weights=True,\n",
        "              )])"
      ]
    },
    {
      "cell_type": "code",
      "execution_count": null,
      "metadata": {
        "id": "tn5O8IAtO2Ql",
        "colab": {
          "base_uri": "https://localhost:8080/"
        },
        "outputId": "ae07c7d2-27cd-4002-81a6-286a08e8ca42"
      },
      "outputs": [
        {
          "output_type": "stream",
          "name": "stdout",
          "text": [
            "183/183 [==============================] - 19s 99ms/step - loss: 0.3521 - auc: 0.8189 - accuracy: 0.8541\n",
            "[0.35206112265586853, 0.8188831210136414, 0.8540934324264526]\n"
          ]
        }
      ],
      "source": [
        "results = model.evaluate(test_data)\n",
        "print(results)\n",
        "\n",
        "results_pkl = open('/content/gdrive/MyDrive/Dense Experiments/Results/{}.pkl'.format(NAME), 'wb')\n",
        "pickle.dump(results, results_pkl)"
      ]
    },
    {
      "cell_type": "code",
      "source": [
        "results_pkl = open('/content/gdrive/MyDrive/Dense Experiments/Results/{}.pkl'.format(NAME), 'wb')\n",
        "pickle.dump(results, results_pkl)"
      ],
      "metadata": {
        "id": "rIqFBxxmWLVM"
      },
      "execution_count": null,
      "outputs": []
    },
    {
      "cell_type": "markdown",
      "metadata": {
        "id": "9RybEGjqO2Ql"
      },
      "source": [
        "#### D = 3 [OK]"
      ]
    },
    {
      "cell_type": "code",
      "execution_count": null,
      "metadata": {
        "id": "ifrv7ZkzO2Ql"
      },
      "outputs": [],
      "source": [
        "NAME = \"N512-L3-D3\"\n",
        "keras.backend.clear_session()"
      ]
    },
    {
      "cell_type": "code",
      "execution_count": null,
      "metadata": {
        "id": "mZP6CSHjO2Qm",
        "colab": {
          "base_uri": "https://localhost:8080/"
        },
        "outputId": "95bc02e3-78db-4b10-9b04-d0530ead3551"
      },
      "outputs": [
        {
          "output_type": "stream",
          "name": "stdout",
          "text": [
            "Model: \"sequential\"\n",
            "_________________________________________________________________\n",
            " Layer (type)                Output Shape              Param #   \n",
            "=================================================================\n",
            " conv2d (Conv2D)             (None, 256, 256, 32)      896       \n",
            "                                                                 \n",
            " conv2d_1 (Conv2D)           (None, 128, 128, 32)      9248      \n",
            "                                                                 \n",
            " conv2d_2 (Conv2D)           (None, 64, 64, 64)        18496     \n",
            "                                                                 \n",
            " max_pooling2d (MaxPooling2D  (None, 32, 32, 64)       0         \n",
            " )                                                               \n",
            "                                                                 \n",
            " dense (Dense)               (None, 32, 32, 128)       8320      \n",
            "                                                                 \n",
            " flatten (Flatten)           (None, 131072)            0         \n",
            "                                                                 \n",
            " dense_1 (Dense)             (None, 512)               67109376  \n",
            "                                                                 \n",
            " dropout (Dropout)           (None, 512)               0         \n",
            "                                                                 \n",
            " dense_2 (Dense)             (None, 512)               262656    \n",
            "                                                                 \n",
            " dropout_1 (Dropout)         (None, 512)               0         \n",
            "                                                                 \n",
            " dense_3 (Dense)             (None, 512)               262656    \n",
            "                                                                 \n",
            " dropout_2 (Dropout)         (None, 512)               0         \n",
            "                                                                 \n",
            " dense_4 (Dense)             (None, 1)                 513       \n",
            "                                                                 \n",
            "=================================================================\n",
            "Total params: 67,672,161\n",
            "Trainable params: 67,672,161\n",
            "Non-trainable params: 0\n",
            "_________________________________________________________________\n"
          ]
        }
      ],
      "source": [
        "ins = image_batch.shape[1:]\n",
        "\n",
        "model = Sequential()\n",
        "\n",
        "model.add(Conv2D(32, (3,3), padding=\"same\", activation=\"relu\", input_shape=ins))\n",
        "\n",
        "model.add(Conv2D(32, (3,3), padding=\"same\", strides = (2,2), activation=\"relu\"))\n",
        "\n",
        "model.add(Conv2D(64, (3,3), padding=\"same\", strides = (2,2), activation=\"relu\"))\n",
        "\n",
        "model.add(MaxPooling2D(pool_size=(2, 2)))\n",
        "\n",
        "model.add(Dense(128, activation=\"relu\"))\n",
        "\n",
        "model.add(Flatten())\n",
        "\n",
        "model.add(Dense(N, activation=\"relu\"))\n",
        "\n",
        "model.add(Dropout(0.5))\n",
        "\n",
        "model.add(Dense(N, activation=\"relu\"))\n",
        "\n",
        "model.add(Dropout(0.5))\n",
        "\n",
        "model.add(Dense(N, activation=\"relu\"))\n",
        "\n",
        "model.add(Dropout(0.5))\n",
        "\n",
        "model.add(Dense(1, activation=\"sigmoid\"))\n",
        "\n",
        "model.summary()"
      ]
    },
    {
      "cell_type": "code",
      "execution_count": null,
      "metadata": {
        "id": "dk3yZVINO2Qm"
      },
      "outputs": [],
      "source": [
        "tensorboard = TensorBoard(log_dir=\"/content/gdrive/MyDrive/Dense Experiments/Logs/{}\".format(NAME))"
      ]
    },
    {
      "cell_type": "code",
      "execution_count": null,
      "metadata": {
        "id": "_I1aYqY1O2Qm"
      },
      "outputs": [],
      "source": [
        "model.compile(loss='binary_crossentropy', optimizer=optimizers.Adam(learning_rate=0.00001), metrics=[keras.metrics.AUC(), 'accuracy'])"
      ]
    },
    {
      "cell_type": "code",
      "execution_count": null,
      "metadata": {
        "id": "pxExXW8oO2Qm",
        "colab": {
          "base_uri": "https://localhost:8080/"
        },
        "outputId": "b5a5e093-113c-4ca9-a0df-16b43c7a4017"
      },
      "outputs": [
        {
          "output_type": "stream",
          "name": "stdout",
          "text": [
            "Epoch 1/100\n",
            "244/244 [==============================] - 60s 236ms/step - loss: 0.9955 - auc: 0.5359 - accuracy: 0.8093 - val_loss: 0.4081 - val_auc: 0.6047 - val_accuracy: 0.8581\n",
            "Epoch 2/100\n",
            "244/244 [==============================] - 59s 239ms/step - loss: 0.4732 - auc: 0.6126 - accuracy: 0.8352 - val_loss: 0.3691 - val_auc: 0.7494 - val_accuracy: 0.8581\n",
            "Epoch 3/100\n",
            "244/244 [==============================] - 58s 236ms/step - loss: 0.4401 - auc: 0.6620 - accuracy: 0.8480 - val_loss: 0.3574 - val_auc: 0.7579 - val_accuracy: 0.8584\n",
            "Epoch 4/100\n",
            "244/244 [==============================] - 58s 236ms/step - loss: 0.4225 - auc: 0.6808 - accuracy: 0.8540 - val_loss: 0.3731 - val_auc: 0.7602 - val_accuracy: 0.8581\n",
            "Epoch 5/100\n",
            "244/244 [==============================] - 59s 238ms/step - loss: 0.4244 - auc: 0.6834 - accuracy: 0.8552 - val_loss: 0.3516 - val_auc: 0.7687 - val_accuracy: 0.8581\n",
            "Epoch 6/100\n",
            "244/244 [==============================] - 58s 234ms/step - loss: 0.4010 - auc: 0.7096 - accuracy: 0.8559 - val_loss: 0.3521 - val_auc: 0.7691 - val_accuracy: 0.8581\n",
            "Epoch 7/100\n",
            "244/244 [==============================] - 58s 234ms/step - loss: 0.3946 - auc: 0.7145 - accuracy: 0.8563 - val_loss: 0.3522 - val_auc: 0.7680 - val_accuracy: 0.8581\n",
            "Epoch 8/100\n",
            "244/244 [==============================] - 58s 233ms/step - loss: 0.3873 - auc: 0.7269 - accuracy: 0.8591 - val_loss: 0.3468 - val_auc: 0.7765 - val_accuracy: 0.8581\n",
            "Epoch 9/100\n",
            "244/244 [==============================] - 58s 235ms/step - loss: 0.3772 - auc: 0.7385 - accuracy: 0.8589 - val_loss: 0.3530 - val_auc: 0.7823 - val_accuracy: 0.8581\n",
            "Epoch 10/100\n",
            "244/244 [==============================] - 58s 234ms/step - loss: 0.3636 - auc: 0.7550 - accuracy: 0.8588 - val_loss: 0.3460 - val_auc: 0.7852 - val_accuracy: 0.8581\n",
            "Epoch 11/100\n",
            "244/244 [==============================] - 58s 233ms/step - loss: 0.3568 - auc: 0.7649 - accuracy: 0.8594 - val_loss: 0.3515 - val_auc: 0.7845 - val_accuracy: 0.8581\n",
            "Epoch 12/100\n",
            "244/244 [==============================] - 59s 238ms/step - loss: 0.3725 - auc: 0.7402 - accuracy: 0.8594 - val_loss: 0.3468 - val_auc: 0.7821 - val_accuracy: 0.8581\n",
            "Epoch 13/100\n",
            "244/244 [==============================] - 58s 235ms/step - loss: 0.3707 - auc: 0.7435 - accuracy: 0.8592 - val_loss: 0.3443 - val_auc: 0.7874 - val_accuracy: 0.8581\n",
            "Epoch 14/100\n",
            "244/244 [==============================] - 58s 235ms/step - loss: 0.3566 - auc: 0.7647 - accuracy: 0.8597 - val_loss: 0.3551 - val_auc: 0.7783 - val_accuracy: 0.8581\n",
            "Epoch 15/100\n",
            "244/244 [==============================] - 66s 268ms/step - loss: 0.3485 - auc: 0.7758 - accuracy: 0.8596 - val_loss: 0.3447 - val_auc: 0.7918 - val_accuracy: 0.8581\n",
            "Epoch 16/100\n",
            "244/244 [==============================] - 58s 234ms/step - loss: 0.3484 - auc: 0.7730 - accuracy: 0.8597 - val_loss: 0.3385 - val_auc: 0.7942 - val_accuracy: 0.8581\n",
            "Epoch 17/100\n",
            "244/244 [==============================] - 58s 234ms/step - loss: 0.3377 - auc: 0.7895 - accuracy: 0.8595 - val_loss: 0.3439 - val_auc: 0.7888 - val_accuracy: 0.8581\n",
            "Epoch 18/100\n",
            "244/244 [==============================] - 58s 232ms/step - loss: 0.3308 - auc: 0.7984 - accuracy: 0.8597 - val_loss: 0.3371 - val_auc: 0.7951 - val_accuracy: 0.8581\n",
            "Epoch 19/100\n",
            "244/244 [==============================] - 66s 270ms/step - loss: 0.3240 - auc: 0.8113 - accuracy: 0.8597 - val_loss: 0.3394 - val_auc: 0.7976 - val_accuracy: 0.8581\n",
            "Epoch 20/100\n",
            "244/244 [==============================] - 59s 239ms/step - loss: 0.3156 - auc: 0.8241 - accuracy: 0.8597 - val_loss: 0.3455 - val_auc: 0.7913 - val_accuracy: 0.8581\n",
            "Epoch 21/100\n",
            "244/244 [==============================] - 58s 237ms/step - loss: 0.3105 - auc: 0.8302 - accuracy: 0.8597 - val_loss: 0.3373 - val_auc: 0.7972 - val_accuracy: 0.8581\n",
            "Epoch 22/100\n",
            "244/244 [==============================] - 58s 235ms/step - loss: 0.3057 - auc: 0.8376 - accuracy: 0.8597 - val_loss: 0.3367 - val_auc: 0.7981 - val_accuracy: 0.8581\n",
            "Epoch 23/100\n",
            "244/244 [==============================] - 58s 234ms/step - loss: 0.3047 - auc: 0.8399 - accuracy: 0.8597 - val_loss: 0.3422 - val_auc: 0.7959 - val_accuracy: 0.8581\n",
            "Epoch 24/100\n",
            "244/244 [==============================] - 57s 233ms/step - loss: 0.3059 - auc: 0.8376 - accuracy: 0.8597 - val_loss: 0.3515 - val_auc: 0.7854 - val_accuracy: 0.8581\n",
            "Epoch 25/100\n",
            "244/244 [==============================] - 57s 233ms/step - loss: 0.2962 - auc: 0.8505 - accuracy: 0.8597 - val_loss: 0.3483 - val_auc: 0.7957 - val_accuracy: 0.8581\n",
            "Epoch 26/100\n",
            "244/244 [==============================] - 57s 232ms/step - loss: 0.2932 - auc: 0.8533 - accuracy: 0.8597 - val_loss: 0.3462 - val_auc: 0.7960 - val_accuracy: 0.8581\n",
            "Epoch 27/100\n",
            "243/244 [============================>.] - ETA: 0s - loss: 0.2851 - auc: 0.8637 - accuracy: 0.8596Restoring model weights from the end of the best epoch: 22.\n",
            "244/244 [==============================] - 58s 233ms/step - loss: 0.2852 - auc: 0.8636 - accuracy: 0.8597 - val_loss: 0.3570 - val_auc: 0.7876 - val_accuracy: 0.8581\n",
            "Epoch 27: early stopping\n"
          ]
        }
      ],
      "source": [
        "run_hist = model.fit(train_data, validation_data=val_data, epochs=100, \n",
        "  callbacks=[tensorboard,\n",
        "              keras.callbacks.EarlyStopping(\n",
        "                  monitor=\"val_auc\",\n",
        "                  min_delta=0,\n",
        "                  patience=5,\n",
        "                  verbose=1,\n",
        "                  mode=\"auto\",\n",
        "                  baseline=None,\n",
        "                  restore_best_weights=True,\n",
        "              )])"
      ]
    },
    {
      "cell_type": "code",
      "execution_count": null,
      "metadata": {
        "id": "FoI5nsf4O2Qm",
        "colab": {
          "base_uri": "https://localhost:8080/"
        },
        "outputId": "d016083a-3044-4019-8dea-3b2be0516d0c"
      },
      "outputs": [
        {
          "output_type": "stream",
          "name": "stdout",
          "text": [
            "183/183 [==============================] - 19s 98ms/step - loss: 0.3389 - auc: 0.7918 - accuracy: 0.8592\n",
            "[0.3389175236225128, 0.7917983531951904, 0.859151303768158]\n"
          ]
        }
      ],
      "source": [
        "results = model.evaluate(test_data) \n",
        "print(results)\n",
        "\n",
        "results_pkl = open('/content/gdrive/MyDrive/Dense Experiments/Results/{}.pkl'.format(NAME), 'wb')\n",
        "pickle.dump(results, results_pkl)"
      ]
    },
    {
      "cell_type": "code",
      "source": [
        "results_pkl = open('/content/gdrive/MyDrive/Dense Experiments/Results/{}.pkl'.format(NAME), 'wb')\n",
        "pickle.dump(results, results_pkl)"
      ],
      "metadata": {
        "id": "UVdOD1wQf0sa"
      },
      "execution_count": null,
      "outputs": []
    },
    {
      "cell_type": "markdown",
      "metadata": {
        "id": "gq4WCV1aO2Qm"
      },
      "source": [
        "#### D = 4 [OK]"
      ]
    },
    {
      "cell_type": "code",
      "execution_count": null,
      "metadata": {
        "id": "BsFb1IZpO2Qm"
      },
      "outputs": [],
      "source": [
        "NAME = \"N512-L3-D4\"\n",
        "keras.backend.clear_session()"
      ]
    },
    {
      "cell_type": "code",
      "execution_count": null,
      "metadata": {
        "id": "NEiDLCPnO2Qm",
        "colab": {
          "base_uri": "https://localhost:8080/"
        },
        "outputId": "040d37dc-9a28-4b65-b64c-3cc5956dc7c4"
      },
      "outputs": [
        {
          "output_type": "stream",
          "name": "stdout",
          "text": [
            "Model: \"sequential\"\n",
            "_________________________________________________________________\n",
            " Layer (type)                Output Shape              Param #   \n",
            "=================================================================\n",
            " conv2d (Conv2D)             (None, 256, 256, 32)      896       \n",
            "                                                                 \n",
            " conv2d_1 (Conv2D)           (None, 128, 128, 32)      9248      \n",
            "                                                                 \n",
            " conv2d_2 (Conv2D)           (None, 64, 64, 64)        18496     \n",
            "                                                                 \n",
            " max_pooling2d (MaxPooling2D  (None, 32, 32, 64)       0         \n",
            " )                                                               \n",
            "                                                                 \n",
            " dense (Dense)               (None, 32, 32, 128)       8320      \n",
            "                                                                 \n",
            " flatten (Flatten)           (None, 131072)            0         \n",
            "                                                                 \n",
            " dense_1 (Dense)             (None, 512)               67109376  \n",
            "                                                                 \n",
            " dense_2 (Dense)             (None, 512)               262656    \n",
            "                                                                 \n",
            " dense_3 (Dense)             (None, 512)               262656    \n",
            "                                                                 \n",
            " dropout (Dropout)           (None, 512)               0         \n",
            "                                                                 \n",
            " dense_4 (Dense)             (None, 1)                 513       \n",
            "                                                                 \n",
            "=================================================================\n",
            "Total params: 67,672,161\n",
            "Trainable params: 67,672,161\n",
            "Non-trainable params: 0\n",
            "_________________________________________________________________\n"
          ]
        }
      ],
      "source": [
        "ins = image_batch.shape[1:]\n",
        "\n",
        "model = Sequential()\n",
        "\n",
        "model.add(Conv2D(32, (3,3), padding=\"same\", activation=\"relu\", input_shape=ins))\n",
        "\n",
        "model.add(Conv2D(32, (3,3), padding=\"same\", strides = (2,2), activation=\"relu\"))\n",
        "\n",
        "model.add(Conv2D(64, (3,3), padding=\"same\", strides = (2,2), activation=\"relu\"))\n",
        "\n",
        "model.add(MaxPooling2D(pool_size=(2, 2)))\n",
        "\n",
        "model.add(Dense(128, activation=\"relu\"))\n",
        "\n",
        "model.add(Flatten())\n",
        "\n",
        "model.add(Dense(N, activation=\"relu\"))\n",
        "\n",
        "model.add(Dense(N, activation=\"relu\"))\n",
        "\n",
        "model.add(Dense(N, activation=\"relu\"))\n",
        "\n",
        "model.add(Dropout(0.5))\n",
        "\n",
        "model.add(Dense(1, activation=\"sigmoid\"))\n",
        "\n",
        "model.summary()"
      ]
    },
    {
      "cell_type": "code",
      "execution_count": null,
      "metadata": {
        "id": "N5AfKYBSO2Qm"
      },
      "outputs": [],
      "source": [
        "tensorboard = TensorBoard(log_dir=\"/content/gdrive/MyDrive/Dense Experiments/Logs/{}\".format(NAME))"
      ]
    },
    {
      "cell_type": "code",
      "execution_count": null,
      "metadata": {
        "id": "IiH8XBhaO2Qm"
      },
      "outputs": [],
      "source": [
        "model.compile(loss='binary_crossentropy', optimizer=optimizers.Adam(learning_rate=0.00001), metrics=[keras.metrics.AUC(), 'accuracy'])"
      ]
    },
    {
      "cell_type": "code",
      "execution_count": null,
      "metadata": {
        "id": "nc9KHZIWO2Qm",
        "colab": {
          "base_uri": "https://localhost:8080/"
        },
        "outputId": "7bd7b958-9337-4930-82b9-2e40fa472523"
      },
      "outputs": [
        {
          "output_type": "stream",
          "name": "stdout",
          "text": [
            "Epoch 1/100\n",
            "244/244 [==============================] - 59s 237ms/step - loss: 0.7742 - auc: 0.5549 - accuracy: 0.8149 - val_loss: 0.3994 - val_auc: 0.6433 - val_accuracy: 0.8578\n",
            "Epoch 2/100\n",
            "244/244 [==============================] - 58s 236ms/step - loss: 0.3861 - auc: 0.7002 - accuracy: 0.8547 - val_loss: 0.3549 - val_auc: 0.7683 - val_accuracy: 0.8582\n",
            "Epoch 3/100\n",
            "244/244 [==============================] - 58s 237ms/step - loss: 0.3617 - auc: 0.7451 - accuracy: 0.8573 - val_loss: 0.3449 - val_auc: 0.7791 - val_accuracy: 0.8586\n",
            "Epoch 4/100\n",
            "244/244 [==============================] - 58s 234ms/step - loss: 0.3490 - auc: 0.7681 - accuracy: 0.8586 - val_loss: 0.3507 - val_auc: 0.7832 - val_accuracy: 0.8581\n",
            "Epoch 5/100\n",
            "244/244 [==============================] - 58s 237ms/step - loss: 0.3488 - auc: 0.7708 - accuracy: 0.8582 - val_loss: 0.3400 - val_auc: 0.7883 - val_accuracy: 0.8582\n",
            "Epoch 6/100\n",
            "244/244 [==============================] - 58s 236ms/step - loss: 0.3302 - auc: 0.8013 - accuracy: 0.8614 - val_loss: 0.3384 - val_auc: 0.7937 - val_accuracy: 0.8584\n",
            "Epoch 7/100\n",
            "244/244 [==============================] - 59s 238ms/step - loss: 0.3234 - auc: 0.8122 - accuracy: 0.8608 - val_loss: 0.3366 - val_auc: 0.7952 - val_accuracy: 0.8591\n",
            "Epoch 8/100\n",
            "244/244 [==============================] - 58s 235ms/step - loss: 0.3179 - auc: 0.8205 - accuracy: 0.8615 - val_loss: 0.3375 - val_auc: 0.7945 - val_accuracy: 0.8584\n",
            "Epoch 9/100\n",
            "244/244 [==============================] - 58s 236ms/step - loss: 0.3098 - auc: 0.8340 - accuracy: 0.8627 - val_loss: 0.3348 - val_auc: 0.8003 - val_accuracy: 0.8583\n",
            "Epoch 10/100\n",
            "244/244 [==============================] - 58s 236ms/step - loss: 0.3002 - auc: 0.8465 - accuracy: 0.8653 - val_loss: 0.3573 - val_auc: 0.7995 - val_accuracy: 0.8415\n",
            "Epoch 11/100\n",
            "244/244 [==============================] - 58s 236ms/step - loss: 0.2930 - auc: 0.8560 - accuracy: 0.8664 - val_loss: 0.3501 - val_auc: 0.7952 - val_accuracy: 0.8590\n",
            "Epoch 12/100\n",
            "244/244 [==============================] - 58s 236ms/step - loss: 0.2777 - auc: 0.8750 - accuracy: 0.8806 - val_loss: 0.3774 - val_auc: 0.7827 - val_accuracy: 0.8645\n",
            "Epoch 13/100\n",
            "244/244 [==============================] - 60s 241ms/step - loss: 0.2750 - auc: 0.8766 - accuracy: 0.8874 - val_loss: 0.3474 - val_auc: 0.8001 - val_accuracy: 0.8633\n",
            "Epoch 14/100\n",
            "244/244 [==============================] - 58s 236ms/step - loss: 0.2646 - auc: 0.8889 - accuracy: 0.8903 - val_loss: 0.3469 - val_auc: 0.8016 - val_accuracy: 0.8521\n",
            "Epoch 15/100\n",
            "244/244 [==============================] - 58s 236ms/step - loss: 0.2540 - auc: 0.8984 - accuracy: 0.8980 - val_loss: 0.3431 - val_auc: 0.7993 - val_accuracy: 0.8581\n",
            "Epoch 16/100\n",
            "244/244 [==============================] - 59s 239ms/step - loss: 0.2415 - auc: 0.9103 - accuracy: 0.9027 - val_loss: 0.3619 - val_auc: 0.7934 - val_accuracy: 0.8665\n",
            "Epoch 17/100\n",
            "244/244 [==============================] - 58s 235ms/step - loss: 0.2320 - auc: 0.9167 - accuracy: 0.9079 - val_loss: 0.3625 - val_auc: 0.7952 - val_accuracy: 0.8653\n",
            "Epoch 18/100\n",
            "244/244 [==============================] - 58s 236ms/step - loss: 0.2216 - auc: 0.9236 - accuracy: 0.9131 - val_loss: 0.3805 - val_auc: 0.7921 - val_accuracy: 0.8422\n",
            "Epoch 19/100\n",
            "243/244 [============================>.] - ETA: 0s - loss: 0.2115 - auc: 0.9282 - accuracy: 0.9180Restoring model weights from the end of the best epoch: 14.\n",
            "244/244 [==============================] - 59s 240ms/step - loss: 0.2117 - auc: 0.9281 - accuracy: 0.9179 - val_loss: 0.3630 - val_auc: 0.7915 - val_accuracy: 0.8449\n",
            "Epoch 19: early stopping\n"
          ]
        }
      ],
      "source": [
        "run_hist = model.fit(train_data, validation_data=val_data, epochs=100, \n",
        "  callbacks=[tensorboard,\n",
        "              keras.callbacks.EarlyStopping(\n",
        "                  monitor=\"val_auc\",\n",
        "                  min_delta=0,\n",
        "                  patience=5,\n",
        "                  verbose=1,\n",
        "                  mode=\"auto\",\n",
        "                  baseline=None,\n",
        "                  restore_best_weights=True,\n",
        "              )])"
      ]
    },
    {
      "cell_type": "code",
      "execution_count": null,
      "metadata": {
        "id": "bkzC_2L7O2Qm",
        "colab": {
          "base_uri": "https://localhost:8080/"
        },
        "outputId": "0099ff76-6d5c-4925-894b-f52a39d326c1"
      },
      "outputs": [
        {
          "output_type": "stream",
          "name": "stdout",
          "text": [
            "183/183 [==============================] - 19s 99ms/step - loss: 0.3540 - auc: 0.7903 - accuracy: 0.8509\n",
            "[0.3539787530899048, 0.7902542948722839, 0.8509215712547302]\n"
          ]
        }
      ],
      "source": [
        "results = model.evaluate(test_data)\n",
        "print(results)\n",
        "\n",
        "results_pkl = open('/content/gdrive/MyDrive/Dense Experiments/Results/{}.pkl'.format(NAME), 'wb')\n",
        "pickle.dump(results, results_pkl)"
      ]
    },
    {
      "cell_type": "code",
      "source": [
        "results_pkl = open('/content/gdrive/MyDrive/Dense Experiments/Results/{}.pkl'.format(NAME), 'wb')\n",
        "pickle.dump(results, results_pkl)"
      ],
      "metadata": {
        "id": "jLn1tcZYlwxJ"
      },
      "execution_count": null,
      "outputs": []
    },
    {
      "cell_type": "markdown",
      "metadata": {
        "id": "eUvbigpsO2Qm"
      },
      "source": [
        "#### D = 5 [OK]"
      ]
    },
    {
      "cell_type": "code",
      "execution_count": null,
      "metadata": {
        "id": "H7kLgYSRO2Qm"
      },
      "outputs": [],
      "source": [
        "NAME = \"N512-L3-D5\"\n",
        "keras.backend.clear_session()"
      ]
    },
    {
      "cell_type": "code",
      "execution_count": null,
      "metadata": {
        "id": "JvI3RcuIO2Qm",
        "colab": {
          "base_uri": "https://localhost:8080/"
        },
        "outputId": "8f07865d-be48-41c2-f8ea-f4754413eb88"
      },
      "outputs": [
        {
          "output_type": "stream",
          "name": "stdout",
          "text": [
            "Model: \"sequential\"\n",
            "_________________________________________________________________\n",
            " Layer (type)                Output Shape              Param #   \n",
            "=================================================================\n",
            " conv2d (Conv2D)             (None, 256, 256, 32)      896       \n",
            "                                                                 \n",
            " dropout (Dropout)           (None, 256, 256, 32)      0         \n",
            "                                                                 \n",
            " conv2d_1 (Conv2D)           (None, 128, 128, 32)      9248      \n",
            "                                                                 \n",
            " dropout_1 (Dropout)         (None, 128, 128, 32)      0         \n",
            "                                                                 \n",
            " conv2d_2 (Conv2D)           (None, 64, 64, 64)        18496     \n",
            "                                                                 \n",
            " dropout_2 (Dropout)         (None, 64, 64, 64)        0         \n",
            "                                                                 \n",
            " max_pooling2d (MaxPooling2D  (None, 32, 32, 64)       0         \n",
            " )                                                               \n",
            "                                                                 \n",
            " dense (Dense)               (None, 32, 32, 128)       8320      \n",
            "                                                                 \n",
            " flatten (Flatten)           (None, 131072)            0         \n",
            "                                                                 \n",
            " dense_1 (Dense)             (None, 512)               67109376  \n",
            "                                                                 \n",
            " dense_2 (Dense)             (None, 512)               262656    \n",
            "                                                                 \n",
            " dense_3 (Dense)             (None, 512)               262656    \n",
            "                                                                 \n",
            " dense_4 (Dense)             (None, 1)                 513       \n",
            "                                                                 \n",
            "=================================================================\n",
            "Total params: 67,672,161\n",
            "Trainable params: 67,672,161\n",
            "Non-trainable params: 0\n",
            "_________________________________________________________________\n"
          ]
        }
      ],
      "source": [
        "ins = image_batch.shape[1:]\n",
        "\n",
        "model = Sequential()\n",
        "\n",
        "model.add(Conv2D(32, (3,3), padding=\"same\", activation=\"relu\", input_shape=ins))\n",
        "\n",
        "model.add(Dropout(0.1))\n",
        "\n",
        "model.add(Conv2D(32, (3,3), padding=\"same\", strides = (2,2), activation=\"relu\"))\n",
        "\n",
        "model.add(Dropout(0.1))\n",
        "\n",
        "model.add(Conv2D(64, (3,3), padding=\"same\", strides = (2,2), activation=\"relu\"))\n",
        "\n",
        "model.add(Dropout(0.1))\n",
        "\n",
        "model.add(MaxPooling2D(pool_size=(2, 2)))\n",
        "\n",
        "model.add(Dense(128, activation=\"relu\"))\n",
        "\n",
        "model.add(Flatten())\n",
        "\n",
        "model.add(Dense(N, activation=\"relu\"))\n",
        "\n",
        "model.add(Dense(N, activation=\"relu\"))\n",
        "\n",
        "model.add(Dense(N, activation=\"relu\"))\n",
        "\n",
        "model.add(Dense(1, activation=\"sigmoid\"))\n",
        "\n",
        "model.summary()"
      ]
    },
    {
      "cell_type": "code",
      "execution_count": null,
      "metadata": {
        "id": "ISi7ZQhkO2Qm"
      },
      "outputs": [],
      "source": [
        "tensorboard = TensorBoard(log_dir=\"/content/gdrive/MyDrive/Dense Experiments/Logs/{}\".format(NAME))"
      ]
    },
    {
      "cell_type": "code",
      "execution_count": null,
      "metadata": {
        "id": "UP-raUeFO2Qm"
      },
      "outputs": [],
      "source": [
        "model.compile(loss='binary_crossentropy', optimizer=optimizers.Adam(learning_rate=0.00001), metrics=[keras.metrics.AUC(), 'accuracy'])"
      ]
    },
    {
      "cell_type": "code",
      "execution_count": null,
      "metadata": {
        "id": "887qAJipO2Qm",
        "colab": {
          "base_uri": "https://localhost:8080/"
        },
        "outputId": "9ed2917f-9c58-4c99-fa1d-1db4ba505ca2"
      },
      "outputs": [
        {
          "output_type": "stream",
          "name": "stdout",
          "text": [
            "Epoch 1/100\n",
            "244/244 [==============================] - 71s 283ms/step - loss: 0.5374 - auc: 0.5902 - accuracy: 0.8353 - val_loss: 0.3915 - val_auc: 0.7245 - val_accuracy: 0.8537\n",
            "Epoch 2/100\n",
            "244/244 [==============================] - 77s 313ms/step - loss: 0.3775 - auc: 0.7239 - accuracy: 0.8516 - val_loss: 0.4069 - val_auc: 0.7632 - val_accuracy: 0.8467\n",
            "Epoch 3/100\n",
            "244/244 [==============================] - 70s 284ms/step - loss: 0.3611 - auc: 0.7490 - accuracy: 0.8559 - val_loss: 0.3527 - val_auc: 0.7763 - val_accuracy: 0.8584\n",
            "Epoch 4/100\n",
            "244/244 [==============================] - 69s 279ms/step - loss: 0.3558 - auc: 0.7571 - accuracy: 0.8579 - val_loss: 0.4441 - val_auc: 0.7799 - val_accuracy: 0.8176\n",
            "Epoch 5/100\n",
            "244/244 [==============================] - 69s 279ms/step - loss: 0.3463 - auc: 0.7736 - accuracy: 0.8599 - val_loss: 0.5387 - val_auc: 0.7614 - val_accuracy: 0.7070\n",
            "Epoch 6/100\n",
            "244/244 [==============================] - 70s 283ms/step - loss: 0.3475 - auc: 0.7721 - accuracy: 0.8608 - val_loss: 0.3484 - val_auc: 0.7861 - val_accuracy: 0.8627\n",
            "Epoch 7/100\n",
            "244/244 [==============================] - 68s 277ms/step - loss: 0.3335 - auc: 0.7925 - accuracy: 0.8651 - val_loss: 0.3602 - val_auc: 0.7642 - val_accuracy: 0.8635\n",
            "Epoch 8/100\n",
            "244/244 [==============================] - 68s 276ms/step - loss: 0.3349 - auc: 0.7898 - accuracy: 0.8681 - val_loss: 0.6102 - val_auc: 0.7793 - val_accuracy: 0.6120\n",
            "Epoch 9/100\n",
            "244/244 [==============================] - 69s 280ms/step - loss: 0.3315 - auc: 0.7974 - accuracy: 0.8658 - val_loss: 0.3491 - val_auc: 0.7725 - val_accuracy: 0.8629\n",
            "Epoch 10/100\n",
            "244/244 [==============================] - 68s 276ms/step - loss: 0.3205 - auc: 0.8101 - accuracy: 0.8730 - val_loss: 0.4058 - val_auc: 0.7892 - val_accuracy: 0.8353\n",
            "Epoch 11/100\n",
            "244/244 [==============================] - 68s 277ms/step - loss: 0.3149 - auc: 0.8155 - accuracy: 0.8743 - val_loss: 0.3356 - val_auc: 0.8064 - val_accuracy: 0.8676\n",
            "Epoch 12/100\n",
            "244/244 [==============================] - 68s 277ms/step - loss: 0.3117 - auc: 0.8235 - accuracy: 0.8748 - val_loss: 0.3397 - val_auc: 0.7856 - val_accuracy: 0.8650\n",
            "Epoch 13/100\n",
            "244/244 [==============================] - 68s 276ms/step - loss: 0.3076 - auc: 0.8282 - accuracy: 0.8786 - val_loss: 0.4351 - val_auc: 0.7583 - val_accuracy: 0.8089\n",
            "Epoch 14/100\n",
            "244/244 [==============================] - 68s 276ms/step - loss: 0.3008 - auc: 0.8366 - accuracy: 0.8811 - val_loss: 0.3710 - val_auc: 0.7838 - val_accuracy: 0.8506\n",
            "Epoch 15/100\n",
            "244/244 [==============================] - 68s 276ms/step - loss: 0.2954 - auc: 0.8404 - accuracy: 0.8849 - val_loss: 0.4030 - val_auc: 0.7381 - val_accuracy: 0.8268\n",
            "Epoch 16/100\n",
            "243/244 [============================>.] - ETA: 0s - loss: 0.2837 - auc: 0.8559 - accuracy: 0.8875Restoring model weights from the end of the best epoch: 11.\n",
            "244/244 [==============================] - 68s 275ms/step - loss: 0.2836 - auc: 0.8559 - accuracy: 0.8876 - val_loss: 0.3508 - val_auc: 0.7790 - val_accuracy: 0.8570\n",
            "Epoch 16: early stopping\n"
          ]
        }
      ],
      "source": [
        "run_hist = model.fit(train_data, validation_data=val_data, epochs=100, \n",
        "  callbacks=[tensorboard,\n",
        "              keras.callbacks.EarlyStopping(\n",
        "                  monitor=\"val_auc\",\n",
        "                  min_delta=0,\n",
        "                  patience=5,\n",
        "                  verbose=1,\n",
        "                  mode=\"auto\",\n",
        "                  baseline=None,\n",
        "                  restore_best_weights=True,\n",
        "              )])"
      ]
    },
    {
      "cell_type": "code",
      "execution_count": null,
      "metadata": {
        "id": "-FOg0ATEO2Qm",
        "colab": {
          "base_uri": "https://localhost:8080/"
        },
        "outputId": "a57406ce-4766-4366-95a2-e4276be6e191"
      },
      "outputs": [
        {
          "output_type": "stream",
          "name": "stdout",
          "text": [
            "183/183 [==============================] - 19s 99ms/step - loss: 0.3408 - auc: 0.7942 - accuracy: 0.8668\n",
            "[0.34078672528266907, 0.7941610217094421, 0.8667809963226318]\n"
          ]
        }
      ],
      "source": [
        "results = model.evaluate(test_data)\n",
        "print(results)\n",
        "\n",
        "results_pkl = open('/content/gdrive/MyDrive/Dense Experiments/Results/{}.pkl'.format(NAME), 'wb')\n",
        "pickle.dump(results, results_pkl)"
      ]
    },
    {
      "cell_type": "code",
      "source": [
        "results_pkl = open('/content/gdrive/MyDrive/Dense Experiments/Results/{}.pkl'.format(NAME), 'wb')\n",
        "pickle.dump(results, results_pkl)"
      ],
      "metadata": {
        "id": "c5ljsUgrqu-w"
      },
      "execution_count": null,
      "outputs": []
    },
    {
      "cell_type": "markdown",
      "metadata": {
        "id": "5jHT4_5aO2Qm"
      },
      "source": [
        "#### D = 6 [OK]"
      ]
    },
    {
      "cell_type": "code",
      "execution_count": null,
      "metadata": {
        "id": "AJFAjtXrO2Qn"
      },
      "outputs": [],
      "source": [
        "NAME = \"N512-L3-D6\"\n",
        "keras.backend.clear_session()"
      ]
    },
    {
      "cell_type": "code",
      "execution_count": null,
      "metadata": {
        "id": "OyUUorUYO2Qn",
        "colab": {
          "base_uri": "https://localhost:8080/"
        },
        "outputId": "c5184b74-846b-4b77-980c-00e783d9dc84"
      },
      "outputs": [
        {
          "output_type": "stream",
          "name": "stdout",
          "text": [
            "Model: \"sequential\"\n",
            "_________________________________________________________________\n",
            " Layer (type)                Output Shape              Param #   \n",
            "=================================================================\n",
            " conv2d (Conv2D)             (None, 256, 256, 32)      896       \n",
            "                                                                 \n",
            " conv2d_1 (Conv2D)           (None, 128, 128, 32)      9248      \n",
            "                                                                 \n",
            " conv2d_2 (Conv2D)           (None, 64, 64, 64)        18496     \n",
            "                                                                 \n",
            " dropout (Dropout)           (None, 64, 64, 64)        0         \n",
            "                                                                 \n",
            " max_pooling2d (MaxPooling2D  (None, 32, 32, 64)       0         \n",
            " )                                                               \n",
            "                                                                 \n",
            " dense (Dense)               (None, 32, 32, 128)       8320      \n",
            "                                                                 \n",
            " flatten (Flatten)           (None, 131072)            0         \n",
            "                                                                 \n",
            " dense_1 (Dense)             (None, 512)               67109376  \n",
            "                                                                 \n",
            " dense_2 (Dense)             (None, 512)               262656    \n",
            "                                                                 \n",
            " dense_3 (Dense)             (None, 512)               262656    \n",
            "                                                                 \n",
            " dense_4 (Dense)             (None, 1)                 513       \n",
            "                                                                 \n",
            "=================================================================\n",
            "Total params: 67,672,161\n",
            "Trainable params: 67,672,161\n",
            "Non-trainable params: 0\n",
            "_________________________________________________________________\n"
          ]
        }
      ],
      "source": [
        "ins = image_batch.shape[1:]\n",
        "\n",
        "model = Sequential()\n",
        "\n",
        "model.add(Conv2D(32, (3,3), padding=\"same\", activation=\"relu\", input_shape=ins))\n",
        "\n",
        "model.add(Conv2D(32, (3,3), padding=\"same\", strides = (2,2), activation=\"relu\"))\n",
        "\n",
        "model.add(Conv2D(64, (3,3), padding=\"same\", strides = (2,2), activation=\"relu\"))\n",
        "\n",
        "model.add(Dropout(0.1))\n",
        "\n",
        "model.add(MaxPooling2D(pool_size=(2, 2)))\n",
        "\n",
        "model.add(Dense(128, activation=\"relu\"))\n",
        "\n",
        "model.add(Flatten())\n",
        "\n",
        "model.add(Dense(N, activation=\"relu\"))\n",
        "\n",
        "model.add(Dense(N, activation=\"relu\"))\n",
        "\n",
        "model.add(Dense(N, activation=\"relu\"))\n",
        "\n",
        "model.add(Dense(1, activation=\"sigmoid\"))\n",
        "\n",
        "model.summary()"
      ]
    },
    {
      "cell_type": "code",
      "execution_count": null,
      "metadata": {
        "id": "StKV7dhJO2Qn"
      },
      "outputs": [],
      "source": [
        "tensorboard = TensorBoard(log_dir=\"/content/gdrive/MyDrive/Dense Experiments/Logs/{}\".format(NAME))"
      ]
    },
    {
      "cell_type": "code",
      "execution_count": null,
      "metadata": {
        "id": "pWoAfrzpO2Qn"
      },
      "outputs": [],
      "source": [
        "model.compile(loss='binary_crossentropy', optimizer=optimizers.Adam(learning_rate=0.00001), metrics=[keras.metrics.AUC(), 'accuracy'])"
      ]
    },
    {
      "cell_type": "code",
      "execution_count": null,
      "metadata": {
        "id": "PzO6L6XrO2Qn",
        "colab": {
          "base_uri": "https://localhost:8080/"
        },
        "outputId": "861bad08-6f96-475c-f171-0d9236348713"
      },
      "outputs": [
        {
          "output_type": "stream",
          "name": "stdout",
          "text": [
            "Epoch 1/100\n",
            "244/244 [==============================] - 59s 237ms/step - loss: 0.4872 - auc: 0.6129 - accuracy: 0.8395 - val_loss: 0.4423 - val_auc: 0.7392 - val_accuracy: 0.8179\n",
            "Epoch 2/100\n",
            "244/244 [==============================] - 59s 240ms/step - loss: 0.3577 - auc: 0.7537 - accuracy: 0.8600 - val_loss: 0.3466 - val_auc: 0.7936 - val_accuracy: 0.8611\n",
            "Epoch 3/100\n",
            "244/244 [==============================] - 59s 240ms/step - loss: 0.3291 - auc: 0.7976 - accuracy: 0.8692 - val_loss: 0.3363 - val_auc: 0.8065 - val_accuracy: 0.8642\n",
            "Epoch 4/100\n",
            "244/244 [==============================] - 59s 238ms/step - loss: 0.3078 - auc: 0.8259 - accuracy: 0.8783 - val_loss: 0.3703 - val_auc: 0.7837 - val_accuracy: 0.8622\n",
            "Epoch 5/100\n",
            "244/244 [==============================] - 59s 239ms/step - loss: 0.2884 - auc: 0.8509 - accuracy: 0.8878 - val_loss: 0.3901 - val_auc: 0.8096 - val_accuracy: 0.8221\n",
            "Epoch 6/100\n",
            "244/244 [==============================] - 59s 240ms/step - loss: 0.2690 - auc: 0.8695 - accuracy: 0.8969 - val_loss: 0.3262 - val_auc: 0.8170 - val_accuracy: 0.8682\n",
            "Epoch 7/100\n",
            "244/244 [==============================] - 59s 240ms/step - loss: 0.2427 - auc: 0.8978 - accuracy: 0.9079 - val_loss: 0.3825 - val_auc: 0.7782 - val_accuracy: 0.8681\n",
            "Epoch 8/100\n",
            "244/244 [==============================] - 60s 243ms/step - loss: 0.2307 - auc: 0.9057 - accuracy: 0.9137 - val_loss: 0.3435 - val_auc: 0.7944 - val_accuracy: 0.8735\n",
            "Epoch 9/100\n",
            "244/244 [==============================] - 59s 239ms/step - loss: 0.2046 - auc: 0.9273 - accuracy: 0.9232 - val_loss: 0.3434 - val_auc: 0.8049 - val_accuracy: 0.8766\n",
            "Epoch 10/100\n",
            "244/244 [==============================] - 60s 244ms/step - loss: 0.1782 - auc: 0.9433 - accuracy: 0.9380 - val_loss: 0.3489 - val_auc: 0.8109 - val_accuracy: 0.8590\n",
            "Epoch 11/100\n",
            "243/244 [============================>.] - ETA: 0s - loss: 0.1559 - auc: 0.9553 - accuracy: 0.9471Restoring model weights from the end of the best epoch: 6.\n",
            "244/244 [==============================] - 59s 241ms/step - loss: 0.1558 - auc: 0.9553 - accuracy: 0.9472 - val_loss: 0.3434 - val_auc: 0.8058 - val_accuracy: 0.8771\n",
            "Epoch 11: early stopping\n"
          ]
        }
      ],
      "source": [
        "run_hist = model.fit(train_data, validation_data=val_data, epochs=100, \n",
        "  callbacks=[tensorboard,\n",
        "              keras.callbacks.EarlyStopping(\n",
        "                  monitor=\"val_auc\",\n",
        "                  min_delta=0,\n",
        "                  patience=5,\n",
        "                  verbose=1,\n",
        "                  mode=\"auto\",\n",
        "                  baseline=None,\n",
        "                  restore_best_weights=True,\n",
        "              )])"
      ]
    },
    {
      "cell_type": "code",
      "execution_count": null,
      "metadata": {
        "id": "Uy_g21utO2Qn",
        "colab": {
          "base_uri": "https://localhost:8080/"
        },
        "outputId": "16678985-0c71-4129-d464-7c7344c7715d"
      },
      "outputs": [
        {
          "output_type": "stream",
          "name": "stdout",
          "text": [
            "183/183 [==============================] - 21s 112ms/step - loss: 0.3347 - auc: 0.8046 - accuracy: 0.8633\n",
            "[0.3347075581550598, 0.8046112656593323, 0.8632661700248718]\n"
          ]
        }
      ],
      "source": [
        "results = model.evaluate(test_data)\n",
        "print(results)\n",
        "\n",
        "results_pkl = open('/content/gdrive/MyDrive/Dense Experiments/Results/{}.pkl'.format(NAME), 'wb')\n",
        "pickle.dump(results, results_pkl)"
      ]
    },
    {
      "cell_type": "code",
      "source": [
        "results_pkl = open('/content/gdrive/MyDrive/Dense Experiments/Results/{}.pkl'.format(NAME), 'wb')\n",
        "pickle.dump(results, results_pkl)"
      ],
      "metadata": {
        "id": "VylLTgwTtnKJ"
      },
      "execution_count": null,
      "outputs": []
    },
    {
      "cell_type": "markdown",
      "metadata": {
        "id": "N5pUMo5fv1D7"
      },
      "source": [
        "## N = 1024"
      ]
    },
    {
      "cell_type": "code",
      "execution_count": null,
      "metadata": {
        "id": "oZK5FuJev1D7"
      },
      "outputs": [],
      "source": [
        "N = 1024"
      ]
    },
    {
      "cell_type": "markdown",
      "metadata": {
        "id": "I6168_r0v1D7"
      },
      "source": [
        "### L = 1"
      ]
    },
    {
      "cell_type": "markdown",
      "metadata": {
        "id": "5yCdsWFMv1D7"
      },
      "source": [
        "#### D = 0 [OK]"
      ]
    },
    {
      "cell_type": "code",
      "execution_count": null,
      "metadata": {
        "id": "tqlHGe01v1D7"
      },
      "outputs": [],
      "source": [
        "NAME = \"N1024-L1-D0\"\n",
        "keras.backend.clear_session()"
      ]
    },
    {
      "cell_type": "code",
      "execution_count": null,
      "metadata": {
        "colab": {
          "base_uri": "https://localhost:8080/"
        },
        "outputId": "62b9a91d-1abb-4cfd-ae22-a4b66aad33c9",
        "id": "0UThiauIv1D8"
      },
      "outputs": [
        {
          "output_type": "stream",
          "name": "stdout",
          "text": [
            "Model: \"sequential\"\n",
            "_________________________________________________________________\n",
            " Layer (type)                Output Shape              Param #   \n",
            "=================================================================\n",
            " conv2d (Conv2D)             (None, 256, 256, 32)      896       \n",
            "                                                                 \n",
            " conv2d_1 (Conv2D)           (None, 128, 128, 32)      9248      \n",
            "                                                                 \n",
            " conv2d_2 (Conv2D)           (None, 64, 64, 64)        18496     \n",
            "                                                                 \n",
            " max_pooling2d (MaxPooling2D  (None, 32, 32, 64)       0         \n",
            " )                                                               \n",
            "                                                                 \n",
            " dense (Dense)               (None, 32, 32, 128)       8320      \n",
            "                                                                 \n",
            " flatten (Flatten)           (None, 131072)            0         \n",
            "                                                                 \n",
            " dense_1 (Dense)             (None, 1024)              134218752 \n",
            "                                                                 \n",
            " dense_2 (Dense)             (None, 1)                 1025      \n",
            "                                                                 \n",
            "=================================================================\n",
            "Total params: 134,256,737\n",
            "Trainable params: 134,256,737\n",
            "Non-trainable params: 0\n",
            "_________________________________________________________________\n"
          ]
        }
      ],
      "source": [
        "ins = image_batch.shape[1:]\n",
        "\n",
        "model = Sequential()\n",
        "\n",
        "model.add(Conv2D(32, (3,3), padding=\"same\", activation=\"relu\", input_shape=ins))\n",
        "\n",
        "model.add(Conv2D(32, (3,3), padding=\"same\", strides = (2,2), activation=\"relu\"))\n",
        "\n",
        "model.add(Conv2D(64, (3,3), padding=\"same\", strides = (2,2), activation=\"relu\"))\n",
        "\n",
        "model.add(MaxPooling2D(pool_size=(2, 2)))\n",
        "\n",
        "model.add(Dense(128, activation=\"relu\"))\n",
        "\n",
        "model.add(Flatten())\n",
        "\n",
        "model.add(Dense(N, activation=\"relu\"))\n",
        "\n",
        "model.add(Dense(1, activation=\"sigmoid\"))\n",
        "\n",
        "model.summary()"
      ]
    },
    {
      "cell_type": "code",
      "execution_count": null,
      "metadata": {
        "id": "3H9ieRBpv1D8"
      },
      "outputs": [],
      "source": [
        "tensorboard = TensorBoard(log_dir=\"/content/gdrive/MyDrive/Dense Experiments/Logs/{}\".format(NAME))"
      ]
    },
    {
      "cell_type": "code",
      "execution_count": null,
      "metadata": {
        "id": "f7OTUH_Sv1D8"
      },
      "outputs": [],
      "source": [
        "model.compile(loss='binary_crossentropy', optimizer=optimizers.Adam(learning_rate=0.00001), metrics=[keras.metrics.AUC(), 'accuracy'])"
      ]
    },
    {
      "cell_type": "code",
      "execution_count": null,
      "metadata": {
        "colab": {
          "base_uri": "https://localhost:8080/"
        },
        "outputId": "7bd52b1d-15df-42f8-cd26-5d19596ee1ac",
        "id": "k6oRhdzav1D8"
      },
      "outputs": [
        {
          "output_type": "stream",
          "name": "stdout",
          "text": [
            "Epoch 1/100\n",
            "244/244 [==============================] - 90s 303ms/step - loss: 1.6937 - auc: 0.6041 - accuracy: 0.8232 - val_loss: 0.4682 - val_auc: 0.6823 - val_accuracy: 0.8587\n",
            "Epoch 2/100\n",
            "244/244 [==============================] - 65s 261ms/step - loss: 0.4376 - auc: 0.7126 - accuracy: 0.8401 - val_loss: 0.8691 - val_auc: 0.5450 - val_accuracy: 0.8581\n",
            "Epoch 3/100\n",
            "244/244 [==============================] - 71s 288ms/step - loss: 0.3678 - auc: 0.7680 - accuracy: 0.8602 - val_loss: 0.4032 - val_auc: 0.7847 - val_accuracy: 0.8002\n",
            "Epoch 4/100\n",
            "244/244 [==============================] - 62s 253ms/step - loss: 0.3305 - auc: 0.8071 - accuracy: 0.8715 - val_loss: 0.3458 - val_auc: 0.7884 - val_accuracy: 0.8633\n",
            "Epoch 5/100\n",
            "244/244 [==============================] - 62s 252ms/step - loss: 0.3289 - auc: 0.8181 - accuracy: 0.8741 - val_loss: 0.3831 - val_auc: 0.7715 - val_accuracy: 0.8671\n",
            "Epoch 6/100\n",
            "244/244 [==============================] - 62s 252ms/step - loss: 0.2934 - auc: 0.8478 - accuracy: 0.8867 - val_loss: 0.3664 - val_auc: 0.7806 - val_accuracy: 0.8677\n",
            "Epoch 7/100\n",
            "244/244 [==============================] - 62s 253ms/step - loss: 0.2696 - auc: 0.8720 - accuracy: 0.8948 - val_loss: 0.5814 - val_auc: 0.6876 - val_accuracy: 0.8602\n",
            "Epoch 8/100\n",
            "244/244 [==============================] - 63s 257ms/step - loss: 0.2408 - auc: 0.8964 - accuracy: 0.9085 - val_loss: 0.5841 - val_auc: 0.6886 - val_accuracy: 0.8608\n",
            "Epoch 9/100\n",
            "244/244 [==============================] - 62s 250ms/step - loss: 0.2441 - auc: 0.8956 - accuracy: 0.9060 - val_loss: 0.5173 - val_auc: 0.7955 - val_accuracy: 0.7530\n",
            "Epoch 10/100\n",
            "244/244 [==============================] - 62s 253ms/step - loss: 0.2143 - auc: 0.9188 - accuracy: 0.9211 - val_loss: 0.3793 - val_auc: 0.7799 - val_accuracy: 0.8701\n",
            "Epoch 11/100\n",
            "244/244 [==============================] - 62s 251ms/step - loss: 0.1939 - auc: 0.9341 - accuracy: 0.9294 - val_loss: 0.3615 - val_auc: 0.7909 - val_accuracy: 0.8713\n",
            "Epoch 12/100\n",
            "244/244 [==============================] - 62s 251ms/step - loss: 0.1829 - auc: 0.9409 - accuracy: 0.9335 - val_loss: 0.3743 - val_auc: 0.7895 - val_accuracy: 0.8668\n",
            "Epoch 13/100\n",
            "244/244 [==============================] - 62s 253ms/step - loss: 0.1703 - auc: 0.9483 - accuracy: 0.9396 - val_loss: 0.3826 - val_auc: 0.7791 - val_accuracy: 0.8653\n",
            "Epoch 14/100\n",
            "243/244 [============================>.] - ETA: 0s - loss: 0.1630 - auc: 0.9515 - accuracy: 0.9433Restoring model weights from the end of the best epoch: 9.\n",
            "244/244 [==============================] - 63s 254ms/step - loss: 0.1630 - auc: 0.9515 - accuracy: 0.9433 - val_loss: 0.3930 - val_auc: 0.7786 - val_accuracy: 0.8709\n",
            "Epoch 14: early stopping\n"
          ]
        }
      ],
      "source": [
        "run_hist = model.fit(train_data, validation_data=val_data, epochs=100, \n",
        "  callbacks=[tensorboard,\n",
        "              keras.callbacks.EarlyStopping(\n",
        "                  monitor=\"val_auc\",\n",
        "                  min_delta=0,\n",
        "                  patience=5,\n",
        "                  verbose=1,\n",
        "                  mode=\"auto\",\n",
        "                  baseline=None,\n",
        "                  restore_best_weights=True,\n",
        "              )])"
      ]
    },
    {
      "cell_type": "code",
      "execution_count": null,
      "metadata": {
        "colab": {
          "base_uri": "https://localhost:8080/"
        },
        "outputId": "a6ed1b68-ee0e-4059-9376-9abe113ac9b9",
        "id": "WjN5s3axv1D8"
      },
      "outputs": [
        {
          "output_type": "stream",
          "name": "stdout",
          "text": [
            "183/183 [==============================] - 22s 112ms/step - loss: 0.5315 - auc: 0.7882 - accuracy: 0.7438\n",
            "[0.5315011143684387, 0.7882260084152222, 0.7437633872032166]\n"
          ]
        }
      ],
      "source": [
        "results = model.evaluate(test_data)\n",
        "print(results)\n",
        "\n",
        "results_pkl = open('/content/gdrive/MyDrive/Dense Experiments/Results/{}.pkl'.format(NAME), 'wb')\n",
        "pickle.dump(results, results_pkl)"
      ]
    },
    {
      "cell_type": "code",
      "execution_count": null,
      "metadata": {
        "id": "Y9Zu_b_Uv1D8"
      },
      "outputs": [],
      "source": [
        "results_pkl = open('/content/gdrive/MyDrive/Dense Experiments/Results/{}.pkl'.format(NAME), 'wb')\n",
        "pickle.dump(results, results_pkl)"
      ]
    },
    {
      "cell_type": "markdown",
      "metadata": {
        "id": "Tz7v03crv1D8"
      },
      "source": [
        "#### D = 1 [OK]"
      ]
    },
    {
      "cell_type": "code",
      "execution_count": null,
      "metadata": {
        "id": "gLy6N_zEv1D8"
      },
      "outputs": [],
      "source": [
        "NAME = \"N1024-L1-D1\"\n",
        "keras.backend.clear_session()"
      ]
    },
    {
      "cell_type": "code",
      "execution_count": null,
      "metadata": {
        "colab": {
          "base_uri": "https://localhost:8080/"
        },
        "outputId": "a59e7ff2-7ff0-45f8-aa31-0329195a36b7",
        "id": "j226qHd3v1D8"
      },
      "outputs": [
        {
          "output_type": "stream",
          "name": "stdout",
          "text": [
            "Model: \"sequential\"\n",
            "_________________________________________________________________\n",
            " Layer (type)                Output Shape              Param #   \n",
            "=================================================================\n",
            " conv2d (Conv2D)             (None, 256, 256, 32)      896       \n",
            "                                                                 \n",
            " dropout (Dropout)           (None, 256, 256, 32)      0         \n",
            "                                                                 \n",
            " conv2d_1 (Conv2D)           (None, 128, 128, 32)      9248      \n",
            "                                                                 \n",
            " dropout_1 (Dropout)         (None, 128, 128, 32)      0         \n",
            "                                                                 \n",
            " conv2d_2 (Conv2D)           (None, 64, 64, 64)        18496     \n",
            "                                                                 \n",
            " dropout_2 (Dropout)         (None, 64, 64, 64)        0         \n",
            "                                                                 \n",
            " max_pooling2d (MaxPooling2D  (None, 32, 32, 64)       0         \n",
            " )                                                               \n",
            "                                                                 \n",
            " dense (Dense)               (None, 32, 32, 128)       8320      \n",
            "                                                                 \n",
            " flatten (Flatten)           (None, 131072)            0         \n",
            "                                                                 \n",
            " dense_1 (Dense)             (None, 1024)              134218752 \n",
            "                                                                 \n",
            " dropout_3 (Dropout)         (None, 1024)              0         \n",
            "                                                                 \n",
            " dense_2 (Dense)             (None, 1)                 1025      \n",
            "                                                                 \n",
            "=================================================================\n",
            "Total params: 134,256,737\n",
            "Trainable params: 134,256,737\n",
            "Non-trainable params: 0\n",
            "_________________________________________________________________\n"
          ]
        }
      ],
      "source": [
        "ins = image_batch.shape[1:]\n",
        "\n",
        "model = Sequential()\n",
        "\n",
        "model.add(Conv2D(32, (3,3), padding=\"same\", activation=\"relu\", input_shape=ins))\n",
        "\n",
        "model.add(Dropout(0.1))\n",
        "\n",
        "model.add(Conv2D(32, (3,3), padding=\"same\", strides = (2,2), activation=\"relu\"))\n",
        "\n",
        "model.add(Dropout(0.1))\n",
        "\n",
        "model.add(Conv2D(64, (3,3), padding=\"same\", strides = (2,2), activation=\"relu\"))\n",
        "\n",
        "model.add(Dropout(0.1))\n",
        "\n",
        "model.add(MaxPooling2D(pool_size=(2, 2)))\n",
        "\n",
        "model.add(Dense(128, activation=\"relu\"))\n",
        "\n",
        "model.add(Flatten())\n",
        "\n",
        "model.add(Dense(N, activation=\"relu\"))\n",
        "\n",
        "model.add(Dropout(0.5))\n",
        "\n",
        "model.add(Dense(1, activation=\"sigmoid\"))\n",
        "\n",
        "model.summary()"
      ]
    },
    {
      "cell_type": "code",
      "execution_count": null,
      "metadata": {
        "id": "FJILD-jVv1D8"
      },
      "outputs": [],
      "source": [
        "tensorboard = TensorBoard(log_dir=\"/content/gdrive/MyDrive/Dense Experiments/Logs/{}\".format(NAME))"
      ]
    },
    {
      "cell_type": "code",
      "execution_count": null,
      "metadata": {
        "id": "vYiwvfctv1D8"
      },
      "outputs": [],
      "source": [
        "model.compile(loss='binary_crossentropy', optimizer=optimizers.Adam(learning_rate=0.00001), metrics=[keras.metrics.AUC(), 'accuracy'])"
      ]
    },
    {
      "cell_type": "code",
      "execution_count": null,
      "metadata": {
        "colab": {
          "base_uri": "https://localhost:8080/"
        },
        "outputId": "21d94be6-31f9-42f4-a19f-e3e2144fbd8d",
        "id": "GCDjdpJCv1D8"
      },
      "outputs": [
        {
          "output_type": "stream",
          "name": "stdout",
          "text": [
            "Epoch 1/100\n",
            "244/244 [==============================] - 74s 298ms/step - loss: 1.7129 - auc: 0.5343 - accuracy: 0.8142 - val_loss: 0.3898 - val_auc: 0.7398 - val_accuracy: 0.8579\n",
            "Epoch 2/100\n",
            "244/244 [==============================] - 73s 296ms/step - loss: 0.3875 - auc: 0.6840 - accuracy: 0.8578 - val_loss: 0.3602 - val_auc: 0.7640 - val_accuracy: 0.8582\n",
            "Epoch 3/100\n",
            "244/244 [==============================] - 72s 293ms/step - loss: 0.3824 - auc: 0.6927 - accuracy: 0.8575 - val_loss: 0.3668 - val_auc: 0.7643 - val_accuracy: 0.8581\n",
            "Epoch 4/100\n",
            "244/244 [==============================] - 72s 294ms/step - loss: 0.3743 - auc: 0.7074 - accuracy: 0.8597 - val_loss: 0.3570 - val_auc: 0.7685 - val_accuracy: 0.8583\n",
            "Epoch 5/100\n",
            "244/244 [==============================] - 72s 294ms/step - loss: 0.3683 - auc: 0.7235 - accuracy: 0.8591 - val_loss: 0.3565 - val_auc: 0.7717 - val_accuracy: 0.8581\n",
            "Epoch 6/100\n",
            "244/244 [==============================] - 73s 295ms/step - loss: 0.3680 - auc: 0.7262 - accuracy: 0.8590 - val_loss: 0.3530 - val_auc: 0.7762 - val_accuracy: 0.8583\n",
            "Epoch 7/100\n",
            "244/244 [==============================] - 72s 292ms/step - loss: 0.3639 - auc: 0.7324 - accuracy: 0.8595 - val_loss: 0.3508 - val_auc: 0.7769 - val_accuracy: 0.8583\n",
            "Epoch 8/100\n",
            "244/244 [==============================] - 72s 294ms/step - loss: 0.3620 - auc: 0.7380 - accuracy: 0.8601 - val_loss: 0.3515 - val_auc: 0.7824 - val_accuracy: 0.8581\n",
            "Epoch 9/100\n",
            "244/244 [==============================] - 72s 294ms/step - loss: 0.3647 - auc: 0.7321 - accuracy: 0.8597 - val_loss: 0.3562 - val_auc: 0.7739 - val_accuracy: 0.8581\n",
            "Epoch 10/100\n",
            "244/244 [==============================] - 72s 293ms/step - loss: 0.3581 - auc: 0.7461 - accuracy: 0.8606 - val_loss: 0.3459 - val_auc: 0.7822 - val_accuracy: 0.8586\n",
            "Epoch 11/100\n",
            "244/244 [==============================] - 73s 295ms/step - loss: 0.3639 - auc: 0.7358 - accuracy: 0.8592 - val_loss: 0.3449 - val_auc: 0.7856 - val_accuracy: 0.8588\n",
            "Epoch 12/100\n",
            "244/244 [==============================] - 72s 294ms/step - loss: 0.3585 - auc: 0.7488 - accuracy: 0.8602 - val_loss: 0.3474 - val_auc: 0.7843 - val_accuracy: 0.8582\n",
            "Epoch 13/100\n",
            "244/244 [==============================] - 72s 292ms/step - loss: 0.3519 - auc: 0.7606 - accuracy: 0.8601 - val_loss: 0.3492 - val_auc: 0.7786 - val_accuracy: 0.8583\n",
            "Epoch 14/100\n",
            "244/244 [==============================] - 72s 294ms/step - loss: 0.3473 - auc: 0.7686 - accuracy: 0.8601 - val_loss: 0.3436 - val_auc: 0.7868 - val_accuracy: 0.8586\n",
            "Epoch 15/100\n",
            "244/244 [==============================] - 75s 306ms/step - loss: 0.3475 - auc: 0.7706 - accuracy: 0.8615 - val_loss: 0.3592 - val_auc: 0.7782 - val_accuracy: 0.8584\n",
            "Epoch 16/100\n",
            "244/244 [==============================] - 73s 295ms/step - loss: 0.3424 - auc: 0.7787 - accuracy: 0.8632 - val_loss: 0.3424 - val_auc: 0.7910 - val_accuracy: 0.8593\n",
            "Epoch 17/100\n",
            "244/244 [==============================] - 72s 293ms/step - loss: 0.3432 - auc: 0.7782 - accuracy: 0.8625 - val_loss: 0.3465 - val_auc: 0.7835 - val_accuracy: 0.8583\n",
            "Epoch 18/100\n",
            "244/244 [==============================] - 72s 293ms/step - loss: 0.3396 - auc: 0.7842 - accuracy: 0.8626 - val_loss: 0.3393 - val_auc: 0.7909 - val_accuracy: 0.8595\n",
            "Epoch 19/100\n",
            "244/244 [==============================] - 73s 297ms/step - loss: 0.3380 - auc: 0.7856 - accuracy: 0.8645 - val_loss: 0.3401 - val_auc: 0.7887 - val_accuracy: 0.8600\n",
            "Epoch 20/100\n",
            "244/244 [==============================] - 72s 292ms/step - loss: 0.3370 - auc: 0.7879 - accuracy: 0.8636 - val_loss: 0.3394 - val_auc: 0.7947 - val_accuracy: 0.8587\n",
            "Epoch 21/100\n",
            "244/244 [==============================] - 72s 293ms/step - loss: 0.3349 - auc: 0.7930 - accuracy: 0.8626 - val_loss: 0.3572 - val_auc: 0.7807 - val_accuracy: 0.8583\n",
            "Epoch 22/100\n",
            "244/244 [==============================] - 72s 293ms/step - loss: 0.3344 - auc: 0.7935 - accuracy: 0.8656 - val_loss: 0.3398 - val_auc: 0.7926 - val_accuracy: 0.8600\n",
            "Epoch 23/100\n",
            "244/244 [==============================] - 82s 335ms/step - loss: 0.3314 - auc: 0.7983 - accuracy: 0.8669 - val_loss: 0.3363 - val_auc: 0.7926 - val_accuracy: 0.8614\n",
            "Epoch 24/100\n",
            "244/244 [==============================] - 73s 297ms/step - loss: 0.3289 - auc: 0.8013 - accuracy: 0.8664 - val_loss: 0.3350 - val_auc: 0.7949 - val_accuracy: 0.8614\n",
            "Epoch 25/100\n",
            "244/244 [==============================] - 72s 293ms/step - loss: 0.3288 - auc: 0.8001 - accuracy: 0.8671 - val_loss: 0.3367 - val_auc: 0.7921 - val_accuracy: 0.8614\n",
            "Epoch 26/100\n",
            "244/244 [==============================] - 73s 295ms/step - loss: 0.3269 - auc: 0.8043 - accuracy: 0.8694 - val_loss: 0.3374 - val_auc: 0.7938 - val_accuracy: 0.8610\n",
            "Epoch 27/100\n",
            "244/244 [==============================] - 73s 295ms/step - loss: 0.3232 - auc: 0.8079 - accuracy: 0.8712 - val_loss: 0.3418 - val_auc: 0.7867 - val_accuracy: 0.8631\n",
            "Epoch 28/100\n",
            "244/244 [==============================] - 72s 294ms/step - loss: 0.3293 - auc: 0.8015 - accuracy: 0.8671 - val_loss: 0.3327 - val_auc: 0.7982 - val_accuracy: 0.8645\n",
            "Epoch 29/100\n",
            "244/244 [==============================] - 72s 294ms/step - loss: 0.3264 - auc: 0.8025 - accuracy: 0.8692 - val_loss: 0.3352 - val_auc: 0.7936 - val_accuracy: 0.8636\n",
            "Epoch 30/100\n",
            "244/244 [==============================] - 72s 291ms/step - loss: 0.3206 - auc: 0.8120 - accuracy: 0.8718 - val_loss: 0.3336 - val_auc: 0.7946 - val_accuracy: 0.8642\n",
            "Epoch 31/100\n",
            "244/244 [==============================] - 72s 294ms/step - loss: 0.3180 - auc: 0.8149 - accuracy: 0.8726 - val_loss: 0.3403 - val_auc: 0.7870 - val_accuracy: 0.8622\n",
            "Epoch 32/100\n",
            "244/244 [==============================] - 73s 298ms/step - loss: 0.3188 - auc: 0.8146 - accuracy: 0.8719 - val_loss: 0.3326 - val_auc: 0.7969 - val_accuracy: 0.8662\n",
            "Epoch 33/100\n",
            "243/244 [============================>.] - ETA: 0s - loss: 0.3160 - auc: 0.8191 - accuracy: 0.8725Restoring model weights from the end of the best epoch: 28.\n",
            "244/244 [==============================] - 72s 293ms/step - loss: 0.3160 - auc: 0.8191 - accuracy: 0.8725 - val_loss: 0.3320 - val_auc: 0.7967 - val_accuracy: 0.8647\n",
            "Epoch 33: early stopping\n"
          ]
        }
      ],
      "source": [
        "run_hist = model.fit(train_data, validation_data=val_data, epochs=100, \n",
        "  callbacks=[tensorboard,\n",
        "              keras.callbacks.EarlyStopping(\n",
        "                  monitor=\"val_auc\",\n",
        "                  min_delta=0,\n",
        "                  patience=5,\n",
        "                  verbose=1,\n",
        "                  mode=\"auto\",\n",
        "                  baseline=None,\n",
        "                  restore_best_weights=True,\n",
        "              )])"
      ]
    },
    {
      "cell_type": "code",
      "execution_count": null,
      "metadata": {
        "colab": {
          "base_uri": "https://localhost:8080/"
        },
        "outputId": "7457cb0d-c8e9-4c3c-9f02-b130226591a8",
        "id": "Y7NLH1IRv1D9"
      },
      "outputs": [
        {
          "output_type": "stream",
          "name": "stdout",
          "text": [
            "183/183 [==============================] - 19s 98ms/step - loss: 0.3382 - auc: 0.7838 - accuracy: 0.8643\n",
            "[0.3381996750831604, 0.7838283777236938, 0.8642948865890503]\n"
          ]
        }
      ],
      "source": [
        "results = model.evaluate(test_data)\n",
        "print(results)\n",
        "\n",
        "results_pkl = open('/content/gdrive/MyDrive/Dense Experiments/Results/{}.pkl'.format(NAME), 'wb')\n",
        "pickle.dump(results, results_pkl)"
      ]
    },
    {
      "cell_type": "code",
      "execution_count": null,
      "metadata": {
        "id": "ZtGRe_xBv1D9"
      },
      "outputs": [],
      "source": [
        "results_pkl = open('/content/gdrive/MyDrive/Dense Experiments/Results/{}.pkl'.format(NAME), 'wb')\n",
        "pickle.dump(results, results_pkl)"
      ]
    },
    {
      "cell_type": "code",
      "source": [
        "results_pkl = open('/content/gdrive/MyDrive/Dense Experiments/Results/{}.pkl'.format(NAME), 'wb')\n",
        "pickle.dump(results, results_pkl)"
      ],
      "metadata": {
        "id": "-_KJfNt48pKN"
      },
      "execution_count": null,
      "outputs": []
    },
    {
      "cell_type": "markdown",
      "metadata": {
        "id": "rW2SvTHHv1D9"
      },
      "source": [
        "#### D = 2 [OK]"
      ]
    },
    {
      "cell_type": "code",
      "execution_count": null,
      "metadata": {
        "id": "FLXRaQ1mv1D9"
      },
      "outputs": [],
      "source": [
        "NAME = \"N1024-L1-D2\"\n",
        "keras.backend.clear_session()"
      ]
    },
    {
      "cell_type": "code",
      "execution_count": null,
      "metadata": {
        "colab": {
          "base_uri": "https://localhost:8080/"
        },
        "outputId": "b12fa0f4-ab09-4f91-a770-3b3940561e34",
        "id": "qU4ENCDCv1D9"
      },
      "outputs": [
        {
          "output_type": "stream",
          "name": "stdout",
          "text": [
            "Model: \"sequential\"\n",
            "_________________________________________________________________\n",
            " Layer (type)                Output Shape              Param #   \n",
            "=================================================================\n",
            " conv2d (Conv2D)             (None, 256, 256, 32)      896       \n",
            "                                                                 \n",
            " conv2d_1 (Conv2D)           (None, 128, 128, 32)      9248      \n",
            "                                                                 \n",
            " conv2d_2 (Conv2D)           (None, 64, 64, 64)        18496     \n",
            "                                                                 \n",
            " dropout (Dropout)           (None, 64, 64, 64)        0         \n",
            "                                                                 \n",
            " max_pooling2d (MaxPooling2D  (None, 32, 32, 64)       0         \n",
            " )                                                               \n",
            "                                                                 \n",
            " dense (Dense)               (None, 32, 32, 128)       8320      \n",
            "                                                                 \n",
            " flatten (Flatten)           (None, 131072)            0         \n",
            "                                                                 \n",
            " dense_1 (Dense)             (None, 1024)              134218752 \n",
            "                                                                 \n",
            " dropout_1 (Dropout)         (None, 1024)              0         \n",
            "                                                                 \n",
            " dense_2 (Dense)             (None, 1)                 1025      \n",
            "                                                                 \n",
            "=================================================================\n",
            "Total params: 134,256,737\n",
            "Trainable params: 134,256,737\n",
            "Non-trainable params: 0\n",
            "_________________________________________________________________\n"
          ]
        }
      ],
      "source": [
        "ins = image_batch.shape[1:]\n",
        "\n",
        "model = Sequential()\n",
        "\n",
        "model.add(Conv2D(32, (3,3), padding=\"same\", activation=\"relu\", input_shape=ins))\n",
        "\n",
        "model.add(Conv2D(32, (3,3), padding=\"same\", strides = (2,2), activation=\"relu\"))\n",
        "\n",
        "model.add(Conv2D(64, (3,3), padding=\"same\", strides = (2,2), activation=\"relu\"))\n",
        "\n",
        "model.add(Dropout(0.1))\n",
        "\n",
        "model.add(MaxPooling2D(pool_size=(2, 2)))\n",
        "\n",
        "model.add(Dense(128, activation=\"relu\"))\n",
        "\n",
        "model.add(Flatten())\n",
        "\n",
        "model.add(Dense(N, activation=\"relu\"))\n",
        "\n",
        "model.add(Dropout(0.5))\n",
        "\n",
        "model.add(Dense(1, activation=\"sigmoid\"))\n",
        "\n",
        "model.summary()"
      ]
    },
    {
      "cell_type": "code",
      "execution_count": null,
      "metadata": {
        "id": "h7QroXJRv1D9"
      },
      "outputs": [],
      "source": [
        "tensorboard = TensorBoard(log_dir=\"/content/gdrive/MyDrive/Dense Experiments/Logs/{}\".format(NAME))"
      ]
    },
    {
      "cell_type": "code",
      "execution_count": null,
      "metadata": {
        "id": "PRUKQFizv1D9"
      },
      "outputs": [],
      "source": [
        "model.compile(loss='binary_crossentropy', optimizer=optimizers.Adam(learning_rate=0.00001), metrics=[keras.metrics.AUC(), 'accuracy'])"
      ]
    },
    {
      "cell_type": "code",
      "execution_count": null,
      "metadata": {
        "colab": {
          "base_uri": "https://localhost:8080/"
        },
        "outputId": "6537eef6-2334-4612-9783-de789fc37221",
        "id": "rI4nPbr7v1D9"
      },
      "outputs": [
        {
          "output_type": "stream",
          "name": "stdout",
          "text": [
            "Epoch 1/100\n",
            "244/244 [==============================] - 81s 273ms/step - loss: 1.8306 - auc: 0.5617 - accuracy: 0.8224 - val_loss: 0.3718 - val_auc: 0.7270 - val_accuracy: 0.8586\n",
            "Epoch 2/100\n",
            "244/244 [==============================] - 63s 256ms/step - loss: 0.3787 - auc: 0.7113 - accuracy: 0.8549 - val_loss: 0.3542 - val_auc: 0.7686 - val_accuracy: 0.8591\n",
            "Epoch 3/100\n",
            "244/244 [==============================] - 63s 257ms/step - loss: 0.3691 - auc: 0.7276 - accuracy: 0.8583 - val_loss: 0.3574 - val_auc: 0.7661 - val_accuracy: 0.8584\n",
            "Epoch 4/100\n",
            "244/244 [==============================] - 65s 262ms/step - loss: 0.3590 - auc: 0.7481 - accuracy: 0.8592 - val_loss: 0.3464 - val_auc: 0.7878 - val_accuracy: 0.8593\n",
            "Epoch 5/100\n",
            "244/244 [==============================] - 62s 253ms/step - loss: 0.3576 - auc: 0.7498 - accuracy: 0.8593 - val_loss: 0.3438 - val_auc: 0.7873 - val_accuracy: 0.8587\n",
            "Epoch 6/100\n",
            "244/244 [==============================] - 63s 257ms/step - loss: 0.3548 - auc: 0.7560 - accuracy: 0.8600 - val_loss: 0.3423 - val_auc: 0.7886 - val_accuracy: 0.8582\n",
            "Epoch 7/100\n",
            "244/244 [==============================] - 63s 255ms/step - loss: 0.3499 - auc: 0.7657 - accuracy: 0.8603 - val_loss: 0.3407 - val_auc: 0.7926 - val_accuracy: 0.8584\n",
            "Epoch 8/100\n",
            "244/244 [==============================] - 63s 256ms/step - loss: 0.3477 - auc: 0.7690 - accuracy: 0.8610 - val_loss: 0.3369 - val_auc: 0.7972 - val_accuracy: 0.8590\n",
            "Epoch 9/100\n",
            "244/244 [==============================] - 64s 260ms/step - loss: 0.3458 - auc: 0.7736 - accuracy: 0.8610 - val_loss: 0.3361 - val_auc: 0.8011 - val_accuracy: 0.8633\n",
            "Epoch 10/100\n",
            "244/244 [==============================] - 63s 254ms/step - loss: 0.3461 - auc: 0.7729 - accuracy: 0.8603 - val_loss: 0.3372 - val_auc: 0.7971 - val_accuracy: 0.8596\n",
            "Epoch 11/100\n",
            "244/244 [==============================] - 63s 255ms/step - loss: 0.3437 - auc: 0.7783 - accuracy: 0.8612 - val_loss: 0.3365 - val_auc: 0.7967 - val_accuracy: 0.8596\n",
            "Epoch 12/100\n",
            "244/244 [==============================] - 64s 261ms/step - loss: 0.3413 - auc: 0.7789 - accuracy: 0.8653 - val_loss: 0.3393 - val_auc: 0.7997 - val_accuracy: 0.8632\n",
            "Epoch 13/100\n",
            "244/244 [==============================] - 63s 256ms/step - loss: 0.3349 - auc: 0.7932 - accuracy: 0.8655 - val_loss: 0.3325 - val_auc: 0.8012 - val_accuracy: 0.8658\n",
            "Epoch 14/100\n",
            "244/244 [==============================] - 63s 257ms/step - loss: 0.3369 - auc: 0.7886 - accuracy: 0.8642 - val_loss: 0.3342 - val_auc: 0.8006 - val_accuracy: 0.8632\n",
            "Epoch 15/100\n",
            "244/244 [==============================] - 64s 258ms/step - loss: 0.3351 - auc: 0.7909 - accuracy: 0.8660 - val_loss: 0.3368 - val_auc: 0.7998 - val_accuracy: 0.8628\n",
            "Epoch 16/100\n",
            "244/244 [==============================] - 63s 255ms/step - loss: 0.3298 - auc: 0.8003 - accuracy: 0.8673 - val_loss: 0.3363 - val_auc: 0.7961 - val_accuracy: 0.8641\n",
            "Epoch 17/100\n",
            "244/244 [==============================] - 63s 257ms/step - loss: 0.3266 - auc: 0.8026 - accuracy: 0.8687 - val_loss: 0.3265 - val_auc: 0.8083 - val_accuracy: 0.8674\n",
            "Epoch 18/100\n",
            "244/244 [==============================] - 63s 255ms/step - loss: 0.3236 - auc: 0.8085 - accuracy: 0.8702 - val_loss: 0.3327 - val_auc: 0.7995 - val_accuracy: 0.8633\n",
            "Epoch 19/100\n",
            "244/244 [==============================] - 62s 253ms/step - loss: 0.3245 - auc: 0.8082 - accuracy: 0.8678 - val_loss: 0.3266 - val_auc: 0.8079 - val_accuracy: 0.8668\n",
            "Epoch 20/100\n",
            "244/244 [==============================] - 63s 256ms/step - loss: 0.3175 - auc: 0.8181 - accuracy: 0.8705 - val_loss: 0.3274 - val_auc: 0.8073 - val_accuracy: 0.8664\n",
            "Epoch 21/100\n",
            "244/244 [==============================] - 63s 257ms/step - loss: 0.3134 - auc: 0.8235 - accuracy: 0.8721 - val_loss: 0.3256 - val_auc: 0.8118 - val_accuracy: 0.8686\n",
            "Epoch 22/100\n",
            "244/244 [==============================] - 62s 253ms/step - loss: 0.3128 - auc: 0.8219 - accuracy: 0.8748 - val_loss: 0.3343 - val_auc: 0.8095 - val_accuracy: 0.8669\n",
            "Epoch 23/100\n",
            "244/244 [==============================] - 64s 258ms/step - loss: 0.3082 - auc: 0.8279 - accuracy: 0.8761 - val_loss: 0.3306 - val_auc: 0.8108 - val_accuracy: 0.8690\n",
            "Epoch 24/100\n",
            "244/244 [==============================] - 63s 255ms/step - loss: 0.3117 - auc: 0.8256 - accuracy: 0.8731 - val_loss: 0.3226 - val_auc: 0.8135 - val_accuracy: 0.8695\n",
            "Epoch 25/100\n",
            "244/244 [==============================] - 63s 255ms/step - loss: 0.3040 - auc: 0.8364 - accuracy: 0.8770 - val_loss: 0.3216 - val_auc: 0.8144 - val_accuracy: 0.8708\n",
            "Epoch 26/100\n",
            "244/244 [==============================] - 64s 258ms/step - loss: 0.3077 - auc: 0.8293 - accuracy: 0.8775 - val_loss: 0.3222 - val_auc: 0.8157 - val_accuracy: 0.8726\n",
            "Epoch 27/100\n",
            "244/244 [==============================] - 63s 257ms/step - loss: 0.2952 - auc: 0.8463 - accuracy: 0.8815 - val_loss: 0.3223 - val_auc: 0.8126 - val_accuracy: 0.8717\n",
            "Epoch 28/100\n",
            "244/244 [==============================] - 63s 255ms/step - loss: 0.2925 - auc: 0.8484 - accuracy: 0.8824 - val_loss: 0.3201 - val_auc: 0.8151 - val_accuracy: 0.8707\n",
            "Epoch 29/100\n",
            "244/244 [==============================] - 63s 256ms/step - loss: 0.2892 - auc: 0.8525 - accuracy: 0.8863 - val_loss: 0.3225 - val_auc: 0.8158 - val_accuracy: 0.8696\n",
            "Epoch 30/100\n",
            "244/244 [==============================] - 63s 257ms/step - loss: 0.2848 - auc: 0.8591 - accuracy: 0.8862 - val_loss: 0.3201 - val_auc: 0.8182 - val_accuracy: 0.8718\n",
            "Epoch 31/100\n",
            "244/244 [==============================] - 64s 259ms/step - loss: 0.2816 - auc: 0.8616 - accuracy: 0.8872 - val_loss: 0.3277 - val_auc: 0.8090 - val_accuracy: 0.8705\n",
            "Epoch 32/100\n",
            "244/244 [==============================] - 63s 255ms/step - loss: 0.2783 - auc: 0.8643 - accuracy: 0.8883 - val_loss: 0.3221 - val_auc: 0.8156 - val_accuracy: 0.8758\n",
            "Epoch 33/100\n",
            "244/244 [==============================] - 64s 260ms/step - loss: 0.2733 - auc: 0.8694 - accuracy: 0.8913 - val_loss: 0.3191 - val_auc: 0.8212 - val_accuracy: 0.8750\n",
            "Epoch 34/100\n",
            "244/244 [==============================] - 63s 255ms/step - loss: 0.2704 - auc: 0.8741 - accuracy: 0.8903 - val_loss: 0.3240 - val_auc: 0.8156 - val_accuracy: 0.8737\n",
            "Epoch 35/100\n",
            "244/244 [==============================] - 63s 254ms/step - loss: 0.2674 - auc: 0.8766 - accuracy: 0.8916 - val_loss: 0.3242 - val_auc: 0.8177 - val_accuracy: 0.8780\n",
            "Epoch 36/100\n",
            "244/244 [==============================] - 63s 254ms/step - loss: 0.2640 - auc: 0.8793 - accuracy: 0.8952 - val_loss: 0.3322 - val_auc: 0.8099 - val_accuracy: 0.8739\n",
            "Epoch 37/100\n",
            "244/244 [==============================] - 63s 255ms/step - loss: 0.2598 - auc: 0.8841 - accuracy: 0.8949 - val_loss: 0.3245 - val_auc: 0.8165 - val_accuracy: 0.8779\n",
            "Epoch 38/100\n",
            "243/244 [============================>.] - ETA: 0s - loss: 0.2520 - auc: 0.8924 - accuracy: 0.8997Restoring model weights from the end of the best epoch: 33.\n",
            "244/244 [==============================] - 63s 256ms/step - loss: 0.2520 - auc: 0.8923 - accuracy: 0.8997 - val_loss: 0.3222 - val_auc: 0.8189 - val_accuracy: 0.8744\n",
            "Epoch 38: early stopping\n"
          ]
        }
      ],
      "source": [
        "run_hist = model.fit(train_data, validation_data=val_data, epochs=100, \n",
        "  callbacks=[tensorboard,\n",
        "              keras.callbacks.EarlyStopping(\n",
        "                  monitor=\"val_auc\",\n",
        "                  min_delta=0,\n",
        "                  patience=5,\n",
        "                  verbose=1,\n",
        "                  mode=\"auto\",\n",
        "                  baseline=None,\n",
        "                  restore_best_weights=True,\n",
        "              )])"
      ]
    },
    {
      "cell_type": "code",
      "execution_count": null,
      "metadata": {
        "id": "4xp7esUHv1D9",
        "colab": {
          "base_uri": "https://localhost:8080/"
        },
        "outputId": "a9868270-c66b-44a6-c5e7-01c13f54e163"
      },
      "outputs": [
        {
          "output_type": "stream",
          "name": "stdout",
          "text": [
            "183/183 [==============================] - 24s 127ms/step - loss: 0.3282 - auc: 0.8076 - accuracy: 0.8721\n",
            "[0.32820528745651245, 0.8075695037841797, 0.8720960021018982]\n"
          ]
        }
      ],
      "source": [
        "results = model.evaluate(test_data)\n",
        "print(results)"
      ]
    },
    {
      "cell_type": "code",
      "execution_count": null,
      "metadata": {
        "id": "BUY8D8ncv1D9"
      },
      "outputs": [],
      "source": [
        "results_pkl = open('/content/gdrive/MyDrive/Dense Experiments/Results/{}.pkl'.format(NAME), 'wb')\n",
        "pickle.dump(results, results_pkl)"
      ]
    },
    {
      "cell_type": "markdown",
      "metadata": {
        "id": "XJ1CMribv1D9"
      },
      "source": [
        "#### D = 3 [OK]"
      ]
    },
    {
      "cell_type": "code",
      "execution_count": null,
      "metadata": {
        "id": "RlczvNyEv1D9"
      },
      "outputs": [],
      "source": [
        "NAME = \"N1024-L1-D3\"\n",
        "keras.backend.clear_session()"
      ]
    },
    {
      "cell_type": "code",
      "execution_count": null,
      "metadata": {
        "colab": {
          "base_uri": "https://localhost:8080/"
        },
        "outputId": "465a5696-b310-45f1-cdda-96b9e95bd7aa",
        "id": "W4xDMHYZv1D9"
      },
      "outputs": [
        {
          "output_type": "stream",
          "name": "stdout",
          "text": [
            "Model: \"sequential\"\n",
            "_________________________________________________________________\n",
            " Layer (type)                Output Shape              Param #   \n",
            "=================================================================\n",
            " conv2d (Conv2D)             (None, 256, 256, 32)      896       \n",
            "                                                                 \n",
            " conv2d_1 (Conv2D)           (None, 128, 128, 32)      9248      \n",
            "                                                                 \n",
            " conv2d_2 (Conv2D)           (None, 64, 64, 64)        18496     \n",
            "                                                                 \n",
            " max_pooling2d (MaxPooling2D  (None, 32, 32, 64)       0         \n",
            " )                                                               \n",
            "                                                                 \n",
            " dense (Dense)               (None, 32, 32, 128)       8320      \n",
            "                                                                 \n",
            " flatten (Flatten)           (None, 131072)            0         \n",
            "                                                                 \n",
            " dense_1 (Dense)             (None, 1024)              134218752 \n",
            "                                                                 \n",
            " dropout (Dropout)           (None, 1024)              0         \n",
            "                                                                 \n",
            " dense_2 (Dense)             (None, 1)                 1025      \n",
            "                                                                 \n",
            "=================================================================\n",
            "Total params: 134,256,737\n",
            "Trainable params: 134,256,737\n",
            "Non-trainable params: 0\n",
            "_________________________________________________________________\n"
          ]
        }
      ],
      "source": [
        "ins = image_batch.shape[1:]\n",
        "\n",
        "model = Sequential()\n",
        "\n",
        "model.add(Conv2D(32, (3,3), padding=\"same\", activation=\"relu\", input_shape=ins))\n",
        "\n",
        "model.add(Conv2D(32, (3,3), padding=\"same\", strides = (2,2), activation=\"relu\"))\n",
        "\n",
        "model.add(Conv2D(64, (3,3), padding=\"same\", strides = (2,2), activation=\"relu\"))\n",
        "\n",
        "model.add(MaxPooling2D(pool_size=(2, 2)))\n",
        "\n",
        "model.add(Dense(128, activation=\"relu\"))\n",
        "\n",
        "model.add(Flatten())\n",
        "\n",
        "model.add(Dense(N, activation=\"relu\"))\n",
        "\n",
        "model.add(Dropout(0.5))\n",
        "\n",
        "model.add(Dense(1, activation=\"sigmoid\"))\n",
        "\n",
        "model.summary()"
      ]
    },
    {
      "cell_type": "code",
      "execution_count": null,
      "metadata": {
        "id": "iZRd_XZOv1D9"
      },
      "outputs": [],
      "source": [
        "tensorboard = TensorBoard(log_dir=\"/content/gdrive/MyDrive/Dense Experiments/Logs/{}\".format(NAME))"
      ]
    },
    {
      "cell_type": "code",
      "execution_count": null,
      "metadata": {
        "id": "LAn4THumv1D9"
      },
      "outputs": [],
      "source": [
        "model.compile(loss='binary_crossentropy', optimizer=optimizers.Adam(learning_rate=0.00001), metrics=[keras.metrics.AUC(), 'accuracy'])"
      ]
    },
    {
      "cell_type": "code",
      "execution_count": null,
      "metadata": {
        "colab": {
          "base_uri": "https://localhost:8080/"
        },
        "outputId": "4aed7dd4-e6ee-4dfa-cde3-2be4db7d7484",
        "id": "VYo7xpE5v1D9"
      },
      "outputs": [
        {
          "output_type": "stream",
          "name": "stdout",
          "text": [
            "Epoch 1/100\n",
            "244/244 [==============================] - 65s 261ms/step - loss: 1.1366 - auc: 0.5781 - accuracy: 0.8262 - val_loss: 0.3540 - val_auc: 0.7648 - val_accuracy: 0.8581\n",
            "Epoch 2/100\n",
            "244/244 [==============================] - 64s 259ms/step - loss: 0.3668 - auc: 0.7343 - accuracy: 0.8583 - val_loss: 0.3491 - val_auc: 0.7857 - val_accuracy: 0.8581\n",
            "Epoch 3/100\n",
            "244/244 [==============================] - 62s 251ms/step - loss: 0.3563 - auc: 0.7541 - accuracy: 0.8606 - val_loss: 0.3404 - val_auc: 0.7935 - val_accuracy: 0.8628\n",
            "Epoch 4/100\n",
            "244/244 [==============================] - 63s 256ms/step - loss: 0.3517 - auc: 0.7643 - accuracy: 0.8600 - val_loss: 0.3371 - val_auc: 0.7965 - val_accuracy: 0.8595\n",
            "Epoch 5/100\n",
            "244/244 [==============================] - 62s 253ms/step - loss: 0.3465 - auc: 0.7715 - accuracy: 0.8622 - val_loss: 0.3395 - val_auc: 0.7945 - val_accuracy: 0.8593\n",
            "Epoch 6/100\n",
            "244/244 [==============================] - 63s 255ms/step - loss: 0.3343 - auc: 0.7902 - accuracy: 0.8660 - val_loss: 0.3364 - val_auc: 0.8016 - val_accuracy: 0.8637\n",
            "Epoch 7/100\n",
            "244/244 [==============================] - 63s 255ms/step - loss: 0.3294 - auc: 0.7978 - accuracy: 0.8671 - val_loss: 0.3485 - val_auc: 0.7951 - val_accuracy: 0.8605\n",
            "Epoch 8/100\n",
            "244/244 [==============================] - 63s 257ms/step - loss: 0.3213 - auc: 0.8116 - accuracy: 0.8704 - val_loss: 0.3357 - val_auc: 0.8066 - val_accuracy: 0.8646\n",
            "Epoch 9/100\n",
            "244/244 [==============================] - 62s 252ms/step - loss: 0.3135 - auc: 0.8199 - accuracy: 0.8752 - val_loss: 0.3292 - val_auc: 0.8095 - val_accuracy: 0.8664\n",
            "Epoch 10/100\n",
            "244/244 [==============================] - 63s 256ms/step - loss: 0.3091 - auc: 0.8286 - accuracy: 0.8770 - val_loss: 0.3240 - val_auc: 0.8119 - val_accuracy: 0.8701\n",
            "Epoch 11/100\n",
            "244/244 [==============================] - 63s 255ms/step - loss: 0.2965 - auc: 0.8402 - accuracy: 0.8822 - val_loss: 0.3186 - val_auc: 0.8190 - val_accuracy: 0.8744\n",
            "Epoch 12/100\n",
            "244/244 [==============================] - 64s 259ms/step - loss: 0.2865 - auc: 0.8546 - accuracy: 0.8882 - val_loss: 0.3296 - val_auc: 0.8138 - val_accuracy: 0.8677\n",
            "Epoch 13/100\n",
            "244/244 [==============================] - 62s 253ms/step - loss: 0.2827 - auc: 0.8570 - accuracy: 0.8889 - val_loss: 0.3245 - val_auc: 0.8146 - val_accuracy: 0.8752\n",
            "Epoch 14/100\n",
            "244/244 [==============================] - 63s 257ms/step - loss: 0.2720 - auc: 0.8698 - accuracy: 0.8925 - val_loss: 0.3186 - val_auc: 0.8199 - val_accuracy: 0.8771\n",
            "Epoch 15/100\n",
            "244/244 [==============================] - 63s 257ms/step - loss: 0.2571 - auc: 0.8843 - accuracy: 0.8998 - val_loss: 0.3300 - val_auc: 0.8161 - val_accuracy: 0.8750\n",
            "Epoch 16/100\n",
            "244/244 [==============================] - 64s 261ms/step - loss: 0.2514 - auc: 0.8882 - accuracy: 0.9035 - val_loss: 0.3152 - val_auc: 0.8242 - val_accuracy: 0.8776\n",
            "Epoch 17/100\n",
            "244/244 [==============================] - 64s 258ms/step - loss: 0.2450 - auc: 0.8946 - accuracy: 0.9064 - val_loss: 0.3272 - val_auc: 0.8218 - val_accuracy: 0.8773\n",
            "Epoch 18/100\n",
            "244/244 [==============================] - 65s 263ms/step - loss: 0.2342 - auc: 0.9048 - accuracy: 0.9112 - val_loss: 0.3190 - val_auc: 0.8233 - val_accuracy: 0.8798\n",
            "Epoch 19/100\n",
            "244/244 [==============================] - 64s 259ms/step - loss: 0.2272 - auc: 0.9103 - accuracy: 0.9137 - val_loss: 0.3300 - val_auc: 0.8197 - val_accuracy: 0.8735\n",
            "Epoch 20/100\n",
            "244/244 [==============================] - 64s 261ms/step - loss: 0.2169 - auc: 0.9178 - accuracy: 0.9199 - val_loss: 0.3226 - val_auc: 0.8211 - val_accuracy: 0.8802\n",
            "Epoch 21/100\n",
            "244/244 [==============================] - 63s 255ms/step - loss: 0.2086 - auc: 0.9257 - accuracy: 0.9216 - val_loss: 0.3156 - val_auc: 0.8285 - val_accuracy: 0.8817\n",
            "Epoch 22/100\n",
            "244/244 [==============================] - 63s 257ms/step - loss: 0.2018 - auc: 0.9278 - accuracy: 0.9270 - val_loss: 0.3289 - val_auc: 0.8230 - val_accuracy: 0.8817\n",
            "Epoch 23/100\n",
            "244/244 [==============================] - 63s 254ms/step - loss: 0.1919 - auc: 0.9344 - accuracy: 0.9317 - val_loss: 0.3242 - val_auc: 0.8275 - val_accuracy: 0.8785\n",
            "Epoch 24/100\n",
            "244/244 [==============================] - 63s 255ms/step - loss: 0.1807 - auc: 0.9433 - accuracy: 0.9342 - val_loss: 0.3275 - val_auc: 0.8245 - val_accuracy: 0.8803\n",
            "Epoch 25/100\n",
            "244/244 [==============================] - 64s 259ms/step - loss: 0.1730 - auc: 0.9488 - accuracy: 0.9387 - val_loss: 0.3547 - val_auc: 0.8119 - val_accuracy: 0.8822\n",
            "Epoch 26/100\n",
            "243/244 [============================>.] - ETA: 0s - loss: 0.1659 - auc: 0.9509 - accuracy: 0.9431Restoring model weights from the end of the best epoch: 21.\n",
            "244/244 [==============================] - 64s 259ms/step - loss: 0.1659 - auc: 0.9509 - accuracy: 0.9431 - val_loss: 0.3437 - val_auc: 0.8194 - val_accuracy: 0.8816\n",
            "Epoch 26: early stopping\n"
          ]
        }
      ],
      "source": [
        "run_hist = model.fit(train_data, validation_data=val_data, epochs=100, \n",
        "  callbacks=[tensorboard,\n",
        "              keras.callbacks.EarlyStopping(\n",
        "                  monitor=\"val_auc\",\n",
        "                  min_delta=0,\n",
        "                  patience=5,\n",
        "                  verbose=1,\n",
        "                  mode=\"auto\",\n",
        "                  baseline=None,\n",
        "                  restore_best_weights=True,\n",
        "              )])"
      ]
    },
    {
      "cell_type": "code",
      "execution_count": null,
      "metadata": {
        "colab": {
          "base_uri": "https://localhost:8080/"
        },
        "outputId": "e3e5a6bd-7c22-4e8c-f1d6-cf7d526cca6a",
        "id": "fDYMJnrQv1D-"
      },
      "outputs": [
        {
          "output_type": "stream",
          "name": "stdout",
          "text": [
            "183/183 [==============================] - 21s 109ms/step - loss: 0.3286 - auc: 0.8138 - accuracy: 0.8754\n",
            "[0.32860010862350464, 0.8137543201446533, 0.8753536343574524]\n"
          ]
        }
      ],
      "source": [
        "results = model.evaluate(test_data)\n",
        "print(results)"
      ]
    },
    {
      "cell_type": "code",
      "execution_count": null,
      "metadata": {
        "id": "TmCS9kpsv1D-"
      },
      "outputs": [],
      "source": [
        "results_pkl = open('/content/gdrive/MyDrive/Dense Experiments/Results/{}.pkl'.format(NAME), 'wb')\n",
        "pickle.dump(results, results_pkl)"
      ]
    },
    {
      "cell_type": "markdown",
      "metadata": {
        "id": "QS6UkRK4v1D-"
      },
      "source": [
        "#### D = 4 [OK]"
      ]
    },
    {
      "cell_type": "code",
      "execution_count": null,
      "metadata": {
        "id": "a3Fq9bg7v1D-"
      },
      "outputs": [],
      "source": [
        "NAME = \"N1024-L1-D4\"\n",
        "keras.backend.clear_session()"
      ]
    },
    {
      "cell_type": "code",
      "execution_count": null,
      "metadata": {
        "colab": {
          "base_uri": "https://localhost:8080/"
        },
        "outputId": "ac26536e-05c4-4c97-d6c0-46bb2ba7bdf4",
        "id": "2-QDBcObv1D-"
      },
      "outputs": [
        {
          "output_type": "stream",
          "name": "stdout",
          "text": [
            "Model: \"sequential\"\n",
            "_________________________________________________________________\n",
            " Layer (type)                Output Shape              Param #   \n",
            "=================================================================\n",
            " conv2d (Conv2D)             (None, 256, 256, 32)      896       \n",
            "                                                                 \n",
            " conv2d_1 (Conv2D)           (None, 128, 128, 32)      9248      \n",
            "                                                                 \n",
            " conv2d_2 (Conv2D)           (None, 64, 64, 64)        18496     \n",
            "                                                                 \n",
            " max_pooling2d (MaxPooling2D  (None, 32, 32, 64)       0         \n",
            " )                                                               \n",
            "                                                                 \n",
            " dense (Dense)               (None, 32, 32, 128)       8320      \n",
            "                                                                 \n",
            " flatten (Flatten)           (None, 131072)            0         \n",
            "                                                                 \n",
            " dense_1 (Dense)             (None, 1024)              134218752 \n",
            "                                                                 \n",
            " dropout (Dropout)           (None, 1024)              0         \n",
            "                                                                 \n",
            " dense_2 (Dense)             (None, 1)                 1025      \n",
            "                                                                 \n",
            "=================================================================\n",
            "Total params: 134,256,737\n",
            "Trainable params: 134,256,737\n",
            "Non-trainable params: 0\n",
            "_________________________________________________________________\n"
          ]
        }
      ],
      "source": [
        "ins = image_batch.shape[1:]\n",
        "\n",
        "model = Sequential()\n",
        "\n",
        "model.add(Conv2D(32, (3,3), padding=\"same\", activation=\"relu\", input_shape=ins))\n",
        "\n",
        "model.add(Conv2D(32, (3,3), padding=\"same\", strides = (2,2), activation=\"relu\"))\n",
        "\n",
        "model.add(Conv2D(64, (3,3), padding=\"same\", strides = (2,2), activation=\"relu\"))\n",
        "\n",
        "model.add(MaxPooling2D(pool_size=(2, 2)))\n",
        "\n",
        "model.add(Dense(128, activation=\"relu\"))\n",
        "\n",
        "model.add(Flatten())\n",
        "\n",
        "model.add(Dense(N, activation=\"relu\"))\n",
        "\n",
        "model.add(Dropout(0.5))\n",
        "\n",
        "model.add(Dense(1, activation=\"sigmoid\"))\n",
        "\n",
        "model.summary()"
      ]
    },
    {
      "cell_type": "code",
      "execution_count": null,
      "metadata": {
        "id": "UrNYLzXXv1D-"
      },
      "outputs": [],
      "source": [
        "tensorboard = TensorBoard(log_dir=\"/content/gdrive/MyDrive/Dense Experiments/Logs/{}\".format(NAME))"
      ]
    },
    {
      "cell_type": "code",
      "execution_count": null,
      "metadata": {
        "id": "2cjpcO7rv1D-"
      },
      "outputs": [],
      "source": [
        "model.compile(loss='binary_crossentropy', optimizer=optimizers.Adam(learning_rate=0.00001), metrics=[keras.metrics.AUC(), 'accuracy'])"
      ]
    },
    {
      "cell_type": "code",
      "execution_count": null,
      "metadata": {
        "colab": {
          "base_uri": "https://localhost:8080/"
        },
        "outputId": "35f9e0a7-6089-4a2a-937a-9107ce319586",
        "id": "i3vqDwEWv1D-"
      },
      "outputs": [
        {
          "output_type": "stream",
          "name": "stdout",
          "text": [
            "Epoch 1/100\n",
            "244/244 [==============================] - 66s 265ms/step - loss: 1.4062 - auc: 0.5738 - accuracy: 0.8273 - val_loss: 0.3553 - val_auc: 0.7627 - val_accuracy: 0.8582\n",
            "Epoch 2/100\n",
            "244/244 [==============================] - 65s 263ms/step - loss: 0.3674 - auc: 0.7311 - accuracy: 0.8561 - val_loss: 0.3485 - val_auc: 0.7760 - val_accuracy: 0.8595\n",
            "Epoch 3/100\n",
            "244/244 [==============================] - 63s 257ms/step - loss: 0.3583 - auc: 0.7488 - accuracy: 0.8584 - val_loss: 0.3723 - val_auc: 0.7755 - val_accuracy: 0.8583\n",
            "Epoch 4/100\n",
            "244/244 [==============================] - 64s 259ms/step - loss: 0.3501 - auc: 0.7627 - accuracy: 0.8619 - val_loss: 0.4121 - val_auc: 0.7592 - val_accuracy: 0.8581\n",
            "Epoch 5/100\n",
            "244/244 [==============================] - 63s 256ms/step - loss: 0.3448 - auc: 0.7738 - accuracy: 0.8628 - val_loss: 0.3390 - val_auc: 0.7934 - val_accuracy: 0.8614\n",
            "Epoch 6/100\n",
            "244/244 [==============================] - 64s 258ms/step - loss: 0.3384 - auc: 0.7856 - accuracy: 0.8637 - val_loss: 0.3420 - val_auc: 0.8015 - val_accuracy: 0.8596\n",
            "Epoch 7/100\n",
            "244/244 [==============================] - 64s 260ms/step - loss: 0.3396 - auc: 0.7822 - accuracy: 0.8646 - val_loss: 0.3315 - val_auc: 0.8075 - val_accuracy: 0.8669\n",
            "Epoch 8/100\n",
            "244/244 [==============================] - 63s 258ms/step - loss: 0.3294 - auc: 0.7992 - accuracy: 0.8679 - val_loss: 0.3473 - val_auc: 0.7919 - val_accuracy: 0.8600\n",
            "Epoch 9/100\n",
            "244/244 [==============================] - 65s 264ms/step - loss: 0.3248 - auc: 0.8051 - accuracy: 0.8712 - val_loss: 0.3269 - val_auc: 0.8103 - val_accuracy: 0.8699\n",
            "Epoch 10/100\n",
            "244/244 [==============================] - 63s 254ms/step - loss: 0.3202 - auc: 0.8117 - accuracy: 0.8736 - val_loss: 0.3333 - val_auc: 0.8028 - val_accuracy: 0.8663\n",
            "Epoch 11/100\n",
            "244/244 [==============================] - 64s 260ms/step - loss: 0.3110 - auc: 0.8242 - accuracy: 0.8766 - val_loss: 0.3310 - val_auc: 0.8076 - val_accuracy: 0.8664\n",
            "Epoch 12/100\n",
            "244/244 [==============================] - 63s 257ms/step - loss: 0.3093 - auc: 0.8264 - accuracy: 0.8771 - val_loss: 0.3216 - val_auc: 0.8144 - val_accuracy: 0.8741\n",
            "Epoch 13/100\n",
            "244/244 [==============================] - 65s 264ms/step - loss: 0.3032 - auc: 0.8325 - accuracy: 0.8806 - val_loss: 0.3254 - val_auc: 0.8166 - val_accuracy: 0.8705\n",
            "Epoch 14/100\n",
            "244/244 [==============================] - 63s 256ms/step - loss: 0.2987 - auc: 0.8365 - accuracy: 0.8822 - val_loss: 0.3212 - val_auc: 0.8151 - val_accuracy: 0.8722\n",
            "Epoch 15/100\n",
            "244/244 [==============================] - 64s 259ms/step - loss: 0.2893 - auc: 0.8488 - accuracy: 0.8863 - val_loss: 0.3185 - val_auc: 0.8220 - val_accuracy: 0.8785\n",
            "Epoch 16/100\n",
            "244/244 [==============================] - 64s 258ms/step - loss: 0.2844 - auc: 0.8546 - accuracy: 0.8912 - val_loss: 0.3376 - val_auc: 0.8116 - val_accuracy: 0.8726\n",
            "Epoch 17/100\n",
            "244/244 [==============================] - 63s 256ms/step - loss: 0.2770 - auc: 0.8628 - accuracy: 0.8921 - val_loss: 0.3187 - val_auc: 0.8187 - val_accuracy: 0.8752\n",
            "Epoch 18/100\n",
            "244/244 [==============================] - 64s 257ms/step - loss: 0.2694 - auc: 0.8735 - accuracy: 0.8942 - val_loss: 0.3235 - val_auc: 0.8157 - val_accuracy: 0.8766\n",
            "Epoch 19/100\n",
            "244/244 [==============================] - 65s 263ms/step - loss: 0.2606 - auc: 0.8781 - accuracy: 0.9015 - val_loss: 0.3210 - val_auc: 0.8233 - val_accuracy: 0.8758\n",
            "Epoch 20/100\n",
            "244/244 [==============================] - 72s 291ms/step - loss: 0.2593 - auc: 0.8806 - accuracy: 0.8998 - val_loss: 0.3172 - val_auc: 0.8234 - val_accuracy: 0.8785\n",
            "Epoch 21/100\n",
            "244/244 [==============================] - 64s 259ms/step - loss: 0.2465 - auc: 0.8937 - accuracy: 0.9045 - val_loss: 0.3357 - val_auc: 0.8132 - val_accuracy: 0.8754\n",
            "Epoch 22/100\n",
            "244/244 [==============================] - 65s 264ms/step - loss: 0.2472 - auc: 0.8911 - accuracy: 0.9059 - val_loss: 0.3174 - val_auc: 0.8241 - val_accuracy: 0.8790\n",
            "Epoch 23/100\n",
            "244/244 [==============================] - 63s 256ms/step - loss: 0.2440 - auc: 0.8960 - accuracy: 0.9065 - val_loss: 0.3184 - val_auc: 0.8246 - val_accuracy: 0.8790\n",
            "Epoch 24/100\n",
            "244/244 [==============================] - 64s 261ms/step - loss: 0.2328 - auc: 0.9040 - accuracy: 0.9130 - val_loss: 0.3157 - val_auc: 0.8262 - val_accuracy: 0.8798\n",
            "Epoch 25/100\n",
            "244/244 [==============================] - 64s 259ms/step - loss: 0.2260 - auc: 0.9108 - accuracy: 0.9146 - val_loss: 0.3220 - val_auc: 0.8230 - val_accuracy: 0.8811\n",
            "Epoch 26/100\n",
            "244/244 [==============================] - 64s 261ms/step - loss: 0.2153 - auc: 0.9189 - accuracy: 0.9194 - val_loss: 0.3374 - val_auc: 0.8164 - val_accuracy: 0.8798\n",
            "Epoch 27/100\n",
            "244/244 [==============================] - 63s 256ms/step - loss: 0.2169 - auc: 0.9182 - accuracy: 0.9178 - val_loss: 0.3317 - val_auc: 0.8296 - val_accuracy: 0.8694\n",
            "Epoch 28/100\n",
            "244/244 [==============================] - 63s 257ms/step - loss: 0.2119 - auc: 0.9198 - accuracy: 0.9217 - val_loss: 0.3211 - val_auc: 0.8269 - val_accuracy: 0.8839\n",
            "Epoch 29/100\n",
            "244/244 [==============================] - 64s 257ms/step - loss: 0.2060 - auc: 0.9247 - accuracy: 0.9264 - val_loss: 0.3229 - val_auc: 0.8256 - val_accuracy: 0.8824\n",
            "Epoch 30/100\n",
            "244/244 [==============================] - 64s 261ms/step - loss: 0.1946 - auc: 0.9338 - accuracy: 0.9293 - val_loss: 0.3389 - val_auc: 0.8224 - val_accuracy: 0.8816\n",
            "Epoch 31/100\n",
            "244/244 [==============================] - 64s 261ms/step - loss: 0.1885 - auc: 0.9367 - accuracy: 0.9319 - val_loss: 0.3390 - val_auc: 0.8166 - val_accuracy: 0.8838\n",
            "Epoch 32/100\n",
            "243/244 [============================>.] - ETA: 0s - loss: 0.1831 - auc: 0.9403 - accuracy: 0.9347Restoring model weights from the end of the best epoch: 27.\n",
            "244/244 [==============================] - 64s 260ms/step - loss: 0.1831 - auc: 0.9403 - accuracy: 0.9347 - val_loss: 0.3927 - val_auc: 0.7930 - val_accuracy: 0.8790\n",
            "Epoch 32: early stopping\n"
          ]
        }
      ],
      "source": [
        "run_hist = model.fit(train_data, validation_data=val_data, epochs=100, \n",
        "  callbacks=[tensorboard,\n",
        "              keras.callbacks.EarlyStopping(\n",
        "                  monitor=\"val_auc\",\n",
        "                  min_delta=0,\n",
        "                  patience=5,\n",
        "                  verbose=1,\n",
        "                  mode=\"auto\",\n",
        "                  baseline=None,\n",
        "                  restore_best_weights=True,\n",
        "              )])"
      ]
    },
    {
      "cell_type": "code",
      "execution_count": null,
      "metadata": {
        "colab": {
          "base_uri": "https://localhost:8080/"
        },
        "outputId": "5fb35676-65b9-4872-e0a3-e71d39eb0a49",
        "id": "dNgSYTVrv1D-"
      },
      "outputs": [
        {
          "output_type": "stream",
          "name": "stdout",
          "text": [
            "183/183 [==============================] - 21s 109ms/step - loss: 0.3381 - auc: 0.8200 - accuracy: 0.8643\n",
            "[0.33814737200737, 0.8199527859687805, 0.8642948865890503]\n"
          ]
        }
      ],
      "source": [
        "results = model.evaluate(test_data)\n",
        "print(results)\n",
        "\n",
        "results_pkl = open('/content/gdrive/MyDrive/Dense Experiments/Results/{}.pkl'.format(NAME), 'wb')\n",
        "pickle.dump(results, results_pkl)"
      ]
    },
    {
      "cell_type": "code",
      "execution_count": null,
      "metadata": {
        "id": "6mSfsYA_v1D-"
      },
      "outputs": [],
      "source": [
        "results_pkl = open('/content/gdrive/MyDrive/Dense Experiments/Results/{}.pkl'.format(NAME), 'wb')\n",
        "pickle.dump(results, results_pkl)"
      ]
    },
    {
      "cell_type": "markdown",
      "metadata": {
        "id": "I17a6zMav1D-"
      },
      "source": [
        "#### D = 5 [OK]"
      ]
    },
    {
      "cell_type": "code",
      "execution_count": null,
      "metadata": {
        "id": "9UisK3Hzv1D-"
      },
      "outputs": [],
      "source": [
        "NAME = \"N1024-L1-D5\"\n",
        "keras.backend.clear_session()"
      ]
    },
    {
      "cell_type": "code",
      "execution_count": null,
      "metadata": {
        "colab": {
          "base_uri": "https://localhost:8080/"
        },
        "outputId": "cdb278ca-128e-4170-e2ee-7b8ddd6f3340",
        "id": "YiKuRk0Jv1D-"
      },
      "outputs": [
        {
          "output_type": "stream",
          "name": "stdout",
          "text": [
            "Model: \"sequential\"\n",
            "_________________________________________________________________\n",
            " Layer (type)                Output Shape              Param #   \n",
            "=================================================================\n",
            " conv2d (Conv2D)             (None, 256, 256, 32)      896       \n",
            "                                                                 \n",
            " dropout (Dropout)           (None, 256, 256, 32)      0         \n",
            "                                                                 \n",
            " conv2d_1 (Conv2D)           (None, 128, 128, 32)      9248      \n",
            "                                                                 \n",
            " dropout_1 (Dropout)         (None, 128, 128, 32)      0         \n",
            "                                                                 \n",
            " conv2d_2 (Conv2D)           (None, 64, 64, 64)        18496     \n",
            "                                                                 \n",
            " dropout_2 (Dropout)         (None, 64, 64, 64)        0         \n",
            "                                                                 \n",
            " max_pooling2d (MaxPooling2D  (None, 32, 32, 64)       0         \n",
            " )                                                               \n",
            "                                                                 \n",
            " dense (Dense)               (None, 32, 32, 128)       8320      \n",
            "                                                                 \n",
            " flatten (Flatten)           (None, 131072)            0         \n",
            "                                                                 \n",
            " dense_1 (Dense)             (None, 1024)              134218752 \n",
            "                                                                 \n",
            " dense_2 (Dense)             (None, 1)                 1025      \n",
            "                                                                 \n",
            "=================================================================\n",
            "Total params: 134,256,737\n",
            "Trainable params: 134,256,737\n",
            "Non-trainable params: 0\n",
            "_________________________________________________________________\n"
          ]
        }
      ],
      "source": [
        "ins = image_batch.shape[1:]\n",
        "\n",
        "model = Sequential()\n",
        "\n",
        "model.add(Conv2D(32, (3,3), padding=\"same\", activation=\"relu\", input_shape=ins))\n",
        "\n",
        "model.add(Dropout(0.1))\n",
        "\n",
        "model.add(Conv2D(32, (3,3), padding=\"same\", strides = (2,2), activation=\"relu\"))\n",
        "\n",
        "model.add(Dropout(0.1))\n",
        "\n",
        "model.add(Conv2D(64, (3,3), padding=\"same\", strides = (2,2), activation=\"relu\"))\n",
        "\n",
        "model.add(Dropout(0.1))\n",
        "\n",
        "model.add(MaxPooling2D(pool_size=(2, 2)))\n",
        "\n",
        "model.add(Dense(128, activation=\"relu\"))\n",
        "\n",
        "model.add(Flatten())\n",
        "\n",
        "model.add(Dense(N, activation=\"relu\"))\n",
        "\n",
        "model.add(Dense(1, activation=\"sigmoid\"))\n",
        "\n",
        "model.summary()"
      ]
    },
    {
      "cell_type": "code",
      "execution_count": null,
      "metadata": {
        "id": "mWhbfxD-v1D-"
      },
      "outputs": [],
      "source": [
        "tensorboard = TensorBoard(log_dir=\"/content/gdrive/MyDrive/Dense Experiments/Logs/{}\".format(NAME))"
      ]
    },
    {
      "cell_type": "code",
      "execution_count": null,
      "metadata": {
        "id": "ssY_7zxtv1D-"
      },
      "outputs": [],
      "source": [
        "model.compile(loss='binary_crossentropy', optimizer=optimizers.Adam(learning_rate=0.00001), metrics=[keras.metrics.AUC(), 'accuracy'])"
      ]
    },
    {
      "cell_type": "code",
      "execution_count": null,
      "metadata": {
        "colab": {
          "base_uri": "https://localhost:8080/"
        },
        "outputId": "f8e614e5-294f-47c1-88a3-b4ec844b8787",
        "id": "OalKwrvRv1D-"
      },
      "outputs": [
        {
          "output_type": "stream",
          "name": "stdout",
          "text": [
            "Epoch 1/100\n",
            "244/244 [==============================] - 76s 304ms/step - loss: 1.2912 - auc: 0.5901 - accuracy: 0.8159 - val_loss: 0.3673 - val_auc: 0.7529 - val_accuracy: 0.8520\n",
            "Epoch 2/100\n",
            "244/244 [==============================] - 73s 295ms/step - loss: 0.4268 - auc: 0.7008 - accuracy: 0.8360 - val_loss: 0.3441 - val_auc: 0.7770 - val_accuracy: 0.8619\n",
            "Epoch 3/100\n",
            "244/244 [==============================] - 73s 297ms/step - loss: 0.3848 - auc: 0.7413 - accuracy: 0.8482 - val_loss: 0.3803 - val_auc: 0.7578 - val_accuracy: 0.8588\n",
            "Epoch 4/100\n",
            "244/244 [==============================] - 73s 298ms/step - loss: 0.3747 - auc: 0.7540 - accuracy: 0.8530 - val_loss: 0.3987 - val_auc: 0.7889 - val_accuracy: 0.8079\n",
            "Epoch 5/100\n",
            "244/244 [==============================] - 72s 292ms/step - loss: 0.3518 - auc: 0.7783 - accuracy: 0.8577 - val_loss: 0.3416 - val_auc: 0.7857 - val_accuracy: 0.8635\n",
            "Epoch 6/100\n",
            "244/244 [==============================] - 72s 294ms/step - loss: 0.3416 - auc: 0.7893 - accuracy: 0.8647 - val_loss: 0.3859 - val_auc: 0.7986 - val_accuracy: 0.8236\n",
            "Epoch 7/100\n",
            "244/244 [==============================] - 73s 296ms/step - loss: 0.3409 - auc: 0.7931 - accuracy: 0.8630 - val_loss: 0.4614 - val_auc: 0.7949 - val_accuracy: 0.7424\n",
            "Epoch 8/100\n",
            "244/244 [==============================] - 73s 297ms/step - loss: 0.3332 - auc: 0.8009 - accuracy: 0.8658 - val_loss: 0.3740 - val_auc: 0.7744 - val_accuracy: 0.8629\n",
            "Epoch 9/100\n",
            "244/244 [==============================] - 73s 298ms/step - loss: 0.3322 - auc: 0.8043 - accuracy: 0.8692 - val_loss: 0.4558 - val_auc: 0.8001 - val_accuracy: 0.7535\n",
            "Epoch 10/100\n",
            "244/244 [==============================] - 74s 300ms/step - loss: 0.3208 - auc: 0.8190 - accuracy: 0.8687 - val_loss: 0.3336 - val_auc: 0.8004 - val_accuracy: 0.8695\n",
            "Epoch 11/100\n",
            "244/244 [==============================] - 73s 296ms/step - loss: 0.3102 - auc: 0.8315 - accuracy: 0.8761 - val_loss: 0.3670 - val_auc: 0.8000 - val_accuracy: 0.8443\n",
            "Epoch 12/100\n",
            "244/244 [==============================] - 73s 297ms/step - loss: 0.3007 - auc: 0.8393 - accuracy: 0.8781 - val_loss: 0.3440 - val_auc: 0.7902 - val_accuracy: 0.8687\n",
            "Epoch 13/100\n",
            "244/244 [==============================] - 73s 299ms/step - loss: 0.2967 - auc: 0.8426 - accuracy: 0.8815 - val_loss: 0.3585 - val_auc: 0.8062 - val_accuracy: 0.8488\n",
            "Epoch 14/100\n",
            "244/244 [==============================] - 73s 295ms/step - loss: 0.2953 - auc: 0.8444 - accuracy: 0.8830 - val_loss: 0.3962 - val_auc: 0.7976 - val_accuracy: 0.8154\n",
            "Epoch 15/100\n",
            "244/244 [==============================] - 73s 295ms/step - loss: 0.2937 - auc: 0.8444 - accuracy: 0.8864 - val_loss: 0.3306 - val_auc: 0.8032 - val_accuracy: 0.8673\n",
            "Epoch 16/100\n",
            "244/244 [==============================] - 73s 296ms/step - loss: 0.2745 - auc: 0.8669 - accuracy: 0.8917 - val_loss: 0.3338 - val_auc: 0.8070 - val_accuracy: 0.8687\n",
            "Epoch 17/100\n",
            "244/244 [==============================] - 74s 302ms/step - loss: 0.2718 - auc: 0.8689 - accuracy: 0.8944 - val_loss: 0.3555 - val_auc: 0.7913 - val_accuracy: 0.8705\n",
            "Epoch 18/100\n",
            "244/244 [==============================] - 73s 295ms/step - loss: 0.2660 - auc: 0.8765 - accuracy: 0.8956 - val_loss: 0.3418 - val_auc: 0.7981 - val_accuracy: 0.8709\n",
            "Epoch 19/100\n",
            "244/244 [==============================] - 73s 298ms/step - loss: 0.2563 - auc: 0.8850 - accuracy: 0.9009 - val_loss: 0.3276 - val_auc: 0.8081 - val_accuracy: 0.8714\n",
            "Epoch 20/100\n",
            "244/244 [==============================] - 73s 296ms/step - loss: 0.2492 - auc: 0.8903 - accuracy: 0.9031 - val_loss: 0.3305 - val_auc: 0.8105 - val_accuracy: 0.8737\n",
            "Epoch 21/100\n",
            "244/244 [==============================] - 73s 297ms/step - loss: 0.2414 - auc: 0.8984 - accuracy: 0.9067 - val_loss: 0.3569 - val_auc: 0.7921 - val_accuracy: 0.8731\n",
            "Epoch 22/100\n",
            "244/244 [==============================] - 73s 298ms/step - loss: 0.2417 - auc: 0.8977 - accuracy: 0.9058 - val_loss: 0.3365 - val_auc: 0.8051 - val_accuracy: 0.8735\n",
            "Epoch 23/100\n",
            "244/244 [==============================] - 73s 298ms/step - loss: 0.2306 - auc: 0.9052 - accuracy: 0.9109 - val_loss: 0.3790 - val_auc: 0.7840 - val_accuracy: 0.8732\n",
            "Epoch 24/100\n",
            "244/244 [==============================] - 75s 304ms/step - loss: 0.2240 - auc: 0.9130 - accuracy: 0.9138 - val_loss: 0.3401 - val_auc: 0.8109 - val_accuracy: 0.8687\n",
            "Epoch 25/100\n",
            "244/244 [==============================] - 72s 293ms/step - loss: 0.2208 - auc: 0.9127 - accuracy: 0.9168 - val_loss: 0.3842 - val_auc: 0.7834 - val_accuracy: 0.8750\n",
            "Epoch 26/100\n",
            "244/244 [==============================] - 72s 294ms/step - loss: 0.2065 - auc: 0.9243 - accuracy: 0.9205 - val_loss: 0.3520 - val_auc: 0.8007 - val_accuracy: 0.8753\n",
            "Epoch 27/100\n",
            "244/244 [==============================] - 72s 294ms/step - loss: 0.1994 - auc: 0.9294 - accuracy: 0.9242 - val_loss: 0.3548 - val_auc: 0.7976 - val_accuracy: 0.8728\n",
            "Epoch 28/100\n",
            "244/244 [==============================] - 73s 295ms/step - loss: 0.2035 - auc: 0.9264 - accuracy: 0.9229 - val_loss: 0.3905 - val_auc: 0.7846 - val_accuracy: 0.8755\n",
            "Epoch 29/100\n",
            "243/244 [============================>.] - ETA: 0s - loss: 0.1960 - auc: 0.9299 - accuracy: 0.9255Restoring model weights from the end of the best epoch: 24.\n",
            "244/244 [==============================] - 73s 295ms/step - loss: 0.1960 - auc: 0.9300 - accuracy: 0.9256 - val_loss: 0.3475 - val_auc: 0.8096 - val_accuracy: 0.8708\n",
            "Epoch 29: early stopping\n"
          ]
        }
      ],
      "source": [
        "run_hist = model.fit(train_data, validation_data=val_data, epochs=100, \n",
        "  callbacks=[tensorboard,\n",
        "              keras.callbacks.EarlyStopping(\n",
        "                  monitor=\"val_auc\",\n",
        "                  min_delta=0,\n",
        "                  patience=5,\n",
        "                  verbose=1,\n",
        "                  mode=\"auto\",\n",
        "                  baseline=None,\n",
        "                  restore_best_weights=True,\n",
        "              )])"
      ]
    },
    {
      "cell_type": "code",
      "execution_count": null,
      "metadata": {
        "colab": {
          "base_uri": "https://localhost:8080/"
        },
        "outputId": "9c81731d-175d-406a-b46b-ccdb424c330a",
        "id": "HH610yVyv1D-"
      },
      "outputs": [
        {
          "output_type": "stream",
          "name": "stdout",
          "text": [
            "183/183 [==============================] - 20s 108ms/step - loss: 0.3540 - auc: 0.7959 - accuracy: 0.8684\n",
            "[0.35395851731300354, 0.7959303855895996, 0.8684097528457642]\n"
          ]
        }
      ],
      "source": [
        "results = model.evaluate(test_data)\n",
        "print(results)\n",
        "\n",
        "results_pkl = open('/content/gdrive/MyDrive/Dense Experiments/Results/{}.pkl'.format(NAME), 'wb')\n",
        "pickle.dump(results, results_pkl)"
      ]
    },
    {
      "cell_type": "code",
      "execution_count": null,
      "metadata": {
        "id": "cOJQEqNUv1D-"
      },
      "outputs": [],
      "source": [
        "results_pkl = open('/content/gdrive/MyDrive/Dense Experiments/Results/{}.pkl'.format(NAME), 'wb')\n",
        "pickle.dump(results, results_pkl)"
      ]
    },
    {
      "cell_type": "markdown",
      "metadata": {
        "id": "0N1xg5XLv1D-"
      },
      "source": [
        "#### D = 6 [OK]"
      ]
    },
    {
      "cell_type": "code",
      "execution_count": null,
      "metadata": {
        "id": "s-6sAcAzv1D-"
      },
      "outputs": [],
      "source": [
        "NAME = \"N1024-L1-D6\"\n",
        "keras.backend.clear_session()"
      ]
    },
    {
      "cell_type": "code",
      "execution_count": null,
      "metadata": {
        "colab": {
          "base_uri": "https://localhost:8080/"
        },
        "outputId": "f29a03e2-2bfe-4574-8934-d38724daf758",
        "id": "PGCPtqLbv1D-"
      },
      "outputs": [
        {
          "output_type": "stream",
          "name": "stdout",
          "text": [
            "Model: \"sequential\"\n",
            "_________________________________________________________________\n",
            " Layer (type)                Output Shape              Param #   \n",
            "=================================================================\n",
            " conv2d (Conv2D)             (None, 256, 256, 32)      896       \n",
            "                                                                 \n",
            " conv2d_1 (Conv2D)           (None, 128, 128, 32)      9248      \n",
            "                                                                 \n",
            " conv2d_2 (Conv2D)           (None, 64, 64, 64)        18496     \n",
            "                                                                 \n",
            " dropout (Dropout)           (None, 64, 64, 64)        0         \n",
            "                                                                 \n",
            " max_pooling2d (MaxPooling2D  (None, 32, 32, 64)       0         \n",
            " )                                                               \n",
            "                                                                 \n",
            " dense (Dense)               (None, 32, 32, 128)       8320      \n",
            "                                                                 \n",
            " flatten (Flatten)           (None, 131072)            0         \n",
            "                                                                 \n",
            " dense_1 (Dense)             (None, 1024)              134218752 \n",
            "                                                                 \n",
            " dense_2 (Dense)             (None, 1)                 1025      \n",
            "                                                                 \n",
            "=================================================================\n",
            "Total params: 134,256,737\n",
            "Trainable params: 134,256,737\n",
            "Non-trainable params: 0\n",
            "_________________________________________________________________\n"
          ]
        }
      ],
      "source": [
        "ins = image_batch.shape[1:]\n",
        "\n",
        "model = Sequential()\n",
        "\n",
        "model.add(Conv2D(32, (3,3), padding=\"same\", activation=\"relu\", input_shape=ins))\n",
        "\n",
        "model.add(Conv2D(32, (3,3), padding=\"same\", strides = (2,2), activation=\"relu\"))\n",
        "\n",
        "model.add(Conv2D(64, (3,3), padding=\"same\", strides = (2,2), activation=\"relu\"))\n",
        "\n",
        "model.add(Dropout(0.1))\n",
        "\n",
        "model.add(MaxPooling2D(pool_size=(2, 2)))\n",
        "\n",
        "model.add(Dense(128, activation=\"relu\"))\n",
        "\n",
        "model.add(Flatten())\n",
        "\n",
        "model.add(Dense(N, activation=\"relu\"))\n",
        "\n",
        "model.add(Dense(1, activation=\"sigmoid\"))\n",
        "\n",
        "model.summary()"
      ]
    },
    {
      "cell_type": "code",
      "execution_count": null,
      "metadata": {
        "id": "R2HGKTTBv1D_"
      },
      "outputs": [],
      "source": [
        "tensorboard = TensorBoard(log_dir=\"/content/gdrive/MyDrive/Dense Experiments/Logs/{}\".format(NAME))"
      ]
    },
    {
      "cell_type": "code",
      "execution_count": null,
      "metadata": {
        "id": "R_xAcoKqv1D_"
      },
      "outputs": [],
      "source": [
        "model.compile(loss='binary_crossentropy', optimizer=optimizers.Adam(learning_rate=0.00001), metrics=[keras.metrics.AUC(), 'accuracy'])"
      ]
    },
    {
      "cell_type": "code",
      "execution_count": null,
      "metadata": {
        "colab": {
          "base_uri": "https://localhost:8080/"
        },
        "outputId": "8fd5b52a-8b4d-47cc-8cec-895805d007ca",
        "id": "GWSkWL3Hv1D_"
      },
      "outputs": [
        {
          "output_type": "stream",
          "name": "stdout",
          "text": [
            "Epoch 1/100\n",
            "244/244 [==============================] - 68s 272ms/step - loss: 3.5517 - auc: 0.5621 - accuracy: 0.8030 - val_loss: 1.9762 - val_auc: 0.7414 - val_accuracy: 0.5941\n",
            "Epoch 2/100\n",
            "244/244 [==============================] - 63s 256ms/step - loss: 0.9554 - auc: 0.6394 - accuracy: 0.8187 - val_loss: 0.6583 - val_auc: 0.6561 - val_accuracy: 0.8572\n",
            "Epoch 3/100\n",
            "244/244 [==============================] - 63s 255ms/step - loss: 0.7589 - auc: 0.6785 - accuracy: 0.8260 - val_loss: 0.7397 - val_auc: 0.6293 - val_accuracy: 0.8610\n",
            "Epoch 4/100\n",
            "244/244 [==============================] - 63s 256ms/step - loss: 0.7907 - auc: 0.6745 - accuracy: 0.8291 - val_loss: 0.5008 - val_auc: 0.7541 - val_accuracy: 0.8295\n",
            "Epoch 5/100\n",
            "244/244 [==============================] - 63s 257ms/step - loss: 0.4908 - auc: 0.7614 - accuracy: 0.8548 - val_loss: 0.4178 - val_auc: 0.7514 - val_accuracy: 0.8557\n",
            "Epoch 6/100\n",
            "244/244 [==============================] - 64s 258ms/step - loss: 0.4309 - auc: 0.7878 - accuracy: 0.8606 - val_loss: 0.4214 - val_auc: 0.7792 - val_accuracy: 0.8329\n",
            "Epoch 7/100\n",
            "244/244 [==============================] - 63s 255ms/step - loss: 0.3695 - auc: 0.8178 - accuracy: 0.8719 - val_loss: 0.4145 - val_auc: 0.7578 - val_accuracy: 0.8631\n",
            "Epoch 8/100\n",
            "244/244 [==============================] - 63s 254ms/step - loss: 0.2957 - auc: 0.8631 - accuracy: 0.8894 - val_loss: 0.5185 - val_auc: 0.7086 - val_accuracy: 0.8641\n",
            "Epoch 9/100\n",
            "244/244 [==============================] - 64s 257ms/step - loss: 0.3262 - auc: 0.8476 - accuracy: 0.8827 - val_loss: 0.4013 - val_auc: 0.7884 - val_accuracy: 0.8390\n",
            "Epoch 10/100\n",
            "244/244 [==============================] - 63s 256ms/step - loss: 0.2883 - auc: 0.8713 - accuracy: 0.8964 - val_loss: 0.3878 - val_auc: 0.7799 - val_accuracy: 0.8577\n",
            "Epoch 11/100\n",
            "244/244 [==============================] - 63s 257ms/step - loss: 0.2685 - auc: 0.8840 - accuracy: 0.9025 - val_loss: 0.5398 - val_auc: 0.7913 - val_accuracy: 0.7678\n",
            "Epoch 12/100\n",
            "244/244 [==============================] - 63s 257ms/step - loss: 0.3077 - auc: 0.8596 - accuracy: 0.8940 - val_loss: 0.5555 - val_auc: 0.7845 - val_accuracy: 0.7850\n",
            "Epoch 13/100\n",
            "244/244 [==============================] - 63s 257ms/step - loss: 0.2475 - auc: 0.8997 - accuracy: 0.9095 - val_loss: 0.4188 - val_auc: 0.7624 - val_accuracy: 0.8668\n",
            "Epoch 14/100\n",
            "244/244 [==============================] - 63s 257ms/step - loss: 0.2189 - auc: 0.9199 - accuracy: 0.9168 - val_loss: 0.4358 - val_auc: 0.7558 - val_accuracy: 0.8669\n",
            "Epoch 15/100\n",
            "244/244 [==============================] - 63s 256ms/step - loss: 0.2296 - auc: 0.9122 - accuracy: 0.9173 - val_loss: 0.4238 - val_auc: 0.7833 - val_accuracy: 0.8372\n",
            "Epoch 16/100\n",
            "244/244 [==============================] - ETA: 0s - loss: 0.2296 - auc: 0.9119 - accuracy: 0.9205Restoring model weights from the end of the best epoch: 11.\n",
            "244/244 [==============================] - 63s 257ms/step - loss: 0.2296 - auc: 0.9119 - accuracy: 0.9205 - val_loss: 0.6955 - val_auc: 0.7884 - val_accuracy: 0.7299\n",
            "Epoch 16: early stopping\n"
          ]
        }
      ],
      "source": [
        "run_hist = model.fit(train_data, validation_data=val_data, epochs=100, \n",
        "  callbacks=[tensorboard,\n",
        "              keras.callbacks.EarlyStopping(\n",
        "                  monitor=\"val_auc\",\n",
        "                  min_delta=0,\n",
        "                  patience=5,\n",
        "                  verbose=1,\n",
        "                  mode=\"auto\",\n",
        "                  baseline=None,\n",
        "                  restore_best_weights=True,\n",
        "              )])"
      ]
    },
    {
      "cell_type": "code",
      "execution_count": null,
      "metadata": {
        "colab": {
          "base_uri": "https://localhost:8080/"
        },
        "outputId": "bfd2af9f-5cda-4e94-8da1-d2eb99a6081a",
        "id": "YVynBgf2v1D_"
      },
      "outputs": [
        {
          "output_type": "stream",
          "name": "stdout",
          "text": [
            "183/183 [==============================] - 19s 98ms/step - loss: 0.5416 - auc: 0.7842 - accuracy: 0.7649\n",
            "[0.5416334271430969, 0.7842249274253845, 0.7648521065711975]\n"
          ]
        }
      ],
      "source": [
        "results = model.evaluate(test_data)\n",
        "print(results)\n",
        "\n",
        "results_pkl = open('/content/gdrive/MyDrive/Dense Experiments/Results/{}.pkl'.format(NAME), 'wb')\n",
        "pickle.dump(results, results_pkl)"
      ]
    },
    {
      "cell_type": "code",
      "execution_count": null,
      "metadata": {
        "id": "clPAJhN8v1D_"
      },
      "outputs": [],
      "source": [
        "results_pkl = open('/content/gdrive/MyDrive/Dense Experiments/Results/{}.pkl'.format(NAME), 'wb')\n",
        "pickle.dump(results, results_pkl)"
      ]
    },
    {
      "cell_type": "markdown",
      "metadata": {
        "id": "C5nkn6yhv1D_"
      },
      "source": [
        "### L = 2"
      ]
    },
    {
      "cell_type": "markdown",
      "metadata": {
        "id": "as7ZwrYNv1D_"
      },
      "source": [
        "#### D = 0 [OK]"
      ]
    },
    {
      "cell_type": "code",
      "execution_count": null,
      "metadata": {
        "id": "0NM0nsA9v1D_"
      },
      "outputs": [],
      "source": [
        "NAME = \"N1024-L2-D0\"\n",
        "keras.backend.clear_session()"
      ]
    },
    {
      "cell_type": "code",
      "execution_count": null,
      "metadata": {
        "colab": {
          "base_uri": "https://localhost:8080/"
        },
        "outputId": "f8511e60-777d-43aa-fd14-ca8e6e69a6d9",
        "id": "DpE5x_PEv1D_"
      },
      "outputs": [
        {
          "output_type": "stream",
          "name": "stdout",
          "text": [
            "Model: \"sequential\"\n",
            "_________________________________________________________________\n",
            " Layer (type)                Output Shape              Param #   \n",
            "=================================================================\n",
            " conv2d (Conv2D)             (None, 256, 256, 32)      896       \n",
            "                                                                 \n",
            " conv2d_1 (Conv2D)           (None, 128, 128, 32)      9248      \n",
            "                                                                 \n",
            " conv2d_2 (Conv2D)           (None, 64, 64, 64)        18496     \n",
            "                                                                 \n",
            " max_pooling2d (MaxPooling2D  (None, 32, 32, 64)       0         \n",
            " )                                                               \n",
            "                                                                 \n",
            " dense (Dense)               (None, 32, 32, 128)       8320      \n",
            "                                                                 \n",
            " flatten (Flatten)           (None, 131072)            0         \n",
            "                                                                 \n",
            " dense_1 (Dense)             (None, 1024)              134218752 \n",
            "                                                                 \n",
            " dense_2 (Dense)             (None, 1024)              1049600   \n",
            "                                                                 \n",
            " dense_3 (Dense)             (None, 1)                 1025      \n",
            "                                                                 \n",
            "=================================================================\n",
            "Total params: 135,306,337\n",
            "Trainable params: 135,306,337\n",
            "Non-trainable params: 0\n",
            "_________________________________________________________________\n"
          ]
        }
      ],
      "source": [
        "ins = image_batch.shape[1:]\n",
        "\n",
        "model = Sequential()\n",
        "\n",
        "model.add(Conv2D(32, (3,3), padding=\"same\", activation=\"relu\", input_shape=ins))\n",
        "\n",
        "model.add(Conv2D(32, (3,3), padding=\"same\", strides = (2,2), activation=\"relu\"))\n",
        "\n",
        "model.add(Conv2D(64, (3,3), padding=\"same\", strides = (2,2), activation=\"relu\"))\n",
        "\n",
        "model.add(MaxPooling2D(pool_size=(2, 2)))\n",
        "\n",
        "model.add(Dense(128, activation=\"relu\"))\n",
        "\n",
        "model.add(Flatten())\n",
        "\n",
        "model.add(Dense(N, activation=\"relu\"))\n",
        "\n",
        "model.add(Dense(N, activation=\"relu\"))\n",
        "\n",
        "model.add(Dense(1, activation=\"sigmoid\"))\n",
        "\n",
        "model.summary()"
      ]
    },
    {
      "cell_type": "code",
      "execution_count": null,
      "metadata": {
        "id": "-m0RjxFnv1D_"
      },
      "outputs": [],
      "source": [
        "tensorboard = TensorBoard(log_dir=\"/content/gdrive/MyDrive/Dense Experiments/Logs/{}\".format(NAME))"
      ]
    },
    {
      "cell_type": "code",
      "execution_count": null,
      "metadata": {
        "id": "y61U2YPnv1D_"
      },
      "outputs": [],
      "source": [
        "model.compile(loss='binary_crossentropy', optimizer=optimizers.Adam(learning_rate=0.00001), metrics=[keras.metrics.AUC(), 'accuracy'])"
      ]
    },
    {
      "cell_type": "code",
      "execution_count": null,
      "metadata": {
        "colab": {
          "base_uri": "https://localhost:8080/"
        },
        "outputId": "5254c356-22cb-43c8-a935-0c874fa65aef",
        "id": "ik_3K978v1D_"
      },
      "outputs": [
        {
          "output_type": "stream",
          "name": "stdout",
          "text": [
            "Epoch 1/100\n",
            "244/244 [==============================] - 63s 253ms/step - loss: 0.7705 - auc: 0.6082 - accuracy: 0.8244 - val_loss: 0.6505 - val_auc: 0.6284 - val_accuracy: 0.8581\n",
            "Epoch 2/100\n",
            "244/244 [==============================] - 61s 249ms/step - loss: 0.3927 - auc: 0.7372 - accuracy: 0.8481 - val_loss: 0.4246 - val_auc: 0.7842 - val_accuracy: 0.7858\n",
            "Epoch 3/100\n",
            "244/244 [==============================] - 62s 252ms/step - loss: 0.3423 - auc: 0.7949 - accuracy: 0.8644 - val_loss: 0.5177 - val_auc: 0.7964 - val_accuracy: 0.7181\n",
            "Epoch 4/100\n",
            "244/244 [==============================] - 62s 251ms/step - loss: 0.3223 - auc: 0.8129 - accuracy: 0.8722 - val_loss: 0.3511 - val_auc: 0.7956 - val_accuracy: 0.8709\n",
            "Epoch 5/100\n",
            "244/244 [==============================] - 62s 252ms/step - loss: 0.2819 - auc: 0.8573 - accuracy: 0.8896 - val_loss: 0.3395 - val_auc: 0.7926 - val_accuracy: 0.8631\n",
            "Epoch 6/100\n",
            "244/244 [==============================] - 62s 253ms/step - loss: 0.2656 - auc: 0.8728 - accuracy: 0.8991 - val_loss: 0.3595 - val_auc: 0.7998 - val_accuracy: 0.8726\n",
            "Epoch 7/100\n",
            "244/244 [==============================] - 62s 253ms/step - loss: 0.2263 - auc: 0.9085 - accuracy: 0.9153 - val_loss: 0.3366 - val_auc: 0.8089 - val_accuracy: 0.8710\n",
            "Epoch 8/100\n",
            "244/244 [==============================] - 62s 253ms/step - loss: 0.1985 - auc: 0.9291 - accuracy: 0.9274 - val_loss: 0.3369 - val_auc: 0.8138 - val_accuracy: 0.8672\n",
            "Epoch 9/100\n",
            "244/244 [==============================] - 62s 253ms/step - loss: 0.1916 - auc: 0.9341 - accuracy: 0.9310 - val_loss: 0.3470 - val_auc: 0.8134 - val_accuracy: 0.8611\n",
            "Epoch 10/100\n",
            "244/244 [==============================] - 62s 253ms/step - loss: 0.1576 - auc: 0.9553 - accuracy: 0.9466 - val_loss: 0.7237 - val_auc: 0.8149 - val_accuracy: 0.6871\n",
            "Epoch 11/100\n",
            "244/244 [==============================] - 62s 254ms/step - loss: 0.1541 - auc: 0.9558 - accuracy: 0.9476 - val_loss: 0.3968 - val_auc: 0.7850 - val_accuracy: 0.8737\n",
            "Epoch 12/100\n",
            "244/244 [==============================] - 63s 254ms/step - loss: 0.1275 - auc: 0.9690 - accuracy: 0.9585 - val_loss: 0.4352 - val_auc: 0.7680 - val_accuracy: 0.8749\n",
            "Epoch 13/100\n",
            "244/244 [==============================] - 63s 254ms/step - loss: 0.1151 - auc: 0.9732 - accuracy: 0.9639 - val_loss: 0.3934 - val_auc: 0.7962 - val_accuracy: 0.8696\n",
            "Epoch 14/100\n",
            "244/244 [==============================] - 62s 253ms/step - loss: 0.1078 - auc: 0.9757 - accuracy: 0.9658 - val_loss: 0.4822 - val_auc: 0.7542 - val_accuracy: 0.8779\n",
            "Epoch 15/100\n",
            "243/244 [============================>.] - ETA: 0s - loss: 0.0861 - auc: 0.9837 - accuracy: 0.9756Restoring model weights from the end of the best epoch: 10.\n",
            "244/244 [==============================] - 63s 254ms/step - loss: 0.0861 - auc: 0.9837 - accuracy: 0.9756 - val_loss: 0.4323 - val_auc: 0.7903 - val_accuracy: 0.8775\n",
            "Epoch 15: early stopping\n"
          ]
        }
      ],
      "source": [
        "run_hist = model.fit(train_data, validation_data=val_data, epochs=100, \n",
        "  callbacks=[tensorboard,\n",
        "              keras.callbacks.EarlyStopping(\n",
        "                  monitor=\"val_auc\",\n",
        "                  min_delta=0,\n",
        "                  patience=5,\n",
        "                  verbose=1,\n",
        "                  mode=\"auto\",\n",
        "                  baseline=None,\n",
        "                  restore_best_weights=True,\n",
        "              )])"
      ]
    },
    {
      "cell_type": "code",
      "execution_count": null,
      "metadata": {
        "colab": {
          "base_uri": "https://localhost:8080/"
        },
        "outputId": "3f6d0438-4b20-4d70-ff81-d82816dcbc7b",
        "id": "Xc8I5o31v1D_"
      },
      "outputs": [
        {
          "output_type": "stream",
          "name": "stdout",
          "text": [
            "183/183 [==============================] - 19s 98ms/step - loss: 0.7409 - auc: 0.8071 - accuracy: 0.6772\n",
            "[0.7409282326698303, 0.8070726990699768, 0.6772395968437195]\n"
          ]
        }
      ],
      "source": [
        "results = model.evaluate(test_data)\n",
        "print(results)\n",
        "\n",
        "results_pkl = open('/content/gdrive/MyDrive/Dense Experiments/Results/{}.pkl'.format(NAME), 'wb')\n",
        "pickle.dump(results, results_pkl)"
      ]
    },
    {
      "cell_type": "code",
      "execution_count": null,
      "metadata": {
        "id": "wTM11iSsv1D_"
      },
      "outputs": [],
      "source": [
        "results_pkl = open('/content/gdrive/MyDrive/Dense Experiments/Results/{}.pkl'.format(NAME), 'wb')\n",
        "pickle.dump(results, results_pkl)"
      ]
    },
    {
      "cell_type": "markdown",
      "metadata": {
        "id": "lv714V2jv1D_"
      },
      "source": [
        "#### D = 1 [OK]"
      ]
    },
    {
      "cell_type": "code",
      "execution_count": null,
      "metadata": {
        "id": "Pu6qX7WKv1D_"
      },
      "outputs": [],
      "source": [
        "NAME = \"N1024-L2-D1\"\n",
        "keras.backend.clear_session()"
      ]
    },
    {
      "cell_type": "code",
      "execution_count": null,
      "metadata": {
        "colab": {
          "base_uri": "https://localhost:8080/"
        },
        "outputId": "8e09c85f-226b-4d1d-bac5-1b4df3813d0e",
        "id": "5E-h5YaEv1D_"
      },
      "outputs": [
        {
          "output_type": "stream",
          "name": "stdout",
          "text": [
            "Model: \"sequential\"\n",
            "_________________________________________________________________\n",
            " Layer (type)                Output Shape              Param #   \n",
            "=================================================================\n",
            " conv2d (Conv2D)             (None, 256, 256, 32)      896       \n",
            "                                                                 \n",
            " dropout (Dropout)           (None, 256, 256, 32)      0         \n",
            "                                                                 \n",
            " conv2d_1 (Conv2D)           (None, 128, 128, 32)      9248      \n",
            "                                                                 \n",
            " dropout_1 (Dropout)         (None, 128, 128, 32)      0         \n",
            "                                                                 \n",
            " conv2d_2 (Conv2D)           (None, 64, 64, 64)        18496     \n",
            "                                                                 \n",
            " dropout_2 (Dropout)         (None, 64, 64, 64)        0         \n",
            "                                                                 \n",
            " max_pooling2d (MaxPooling2D  (None, 32, 32, 64)       0         \n",
            " )                                                               \n",
            "                                                                 \n",
            " dense (Dense)               (None, 32, 32, 128)       8320      \n",
            "                                                                 \n",
            " flatten (Flatten)           (None, 131072)            0         \n",
            "                                                                 \n",
            " dense_1 (Dense)             (None, 1024)              134218752 \n",
            "                                                                 \n",
            " dropout_3 (Dropout)         (None, 1024)              0         \n",
            "                                                                 \n",
            " dense_2 (Dense)             (None, 1024)              1049600   \n",
            "                                                                 \n",
            " dropout_4 (Dropout)         (None, 1024)              0         \n",
            "                                                                 \n",
            " dense_3 (Dense)             (None, 1)                 1025      \n",
            "                                                                 \n",
            "=================================================================\n",
            "Total params: 135,306,337\n",
            "Trainable params: 135,306,337\n",
            "Non-trainable params: 0\n",
            "_________________________________________________________________\n"
          ]
        }
      ],
      "source": [
        "ins = image_batch.shape[1:]\n",
        "\n",
        "model = Sequential()\n",
        "\n",
        "model.add(Conv2D(32, (3,3), padding=\"same\", activation=\"relu\", input_shape=ins))\n",
        "\n",
        "model.add(Dropout(0.1))\n",
        "\n",
        "model.add(Conv2D(32, (3,3), padding=\"same\", strides = (2,2), activation=\"relu\"))\n",
        "\n",
        "model.add(Dropout(0.1))\n",
        "\n",
        "model.add(Conv2D(64, (3,3), padding=\"same\", strides = (2,2), activation=\"relu\"))\n",
        "\n",
        "model.add(Dropout(0.1))\n",
        "\n",
        "model.add(MaxPooling2D(pool_size=(2, 2)))\n",
        "\n",
        "model.add(Dense(128, activation=\"relu\"))\n",
        "\n",
        "model.add(Flatten())\n",
        "\n",
        "model.add(Dense(N, activation=\"relu\"))\n",
        "\n",
        "model.add(Dropout(0.5))\n",
        "\n",
        "model.add(Dense(N, activation=\"relu\"))\n",
        "\n",
        "model.add(Dropout(0.5))\n",
        "\n",
        "model.add(Dense(1, activation=\"sigmoid\"))\n",
        "\n",
        "model.summary()"
      ]
    },
    {
      "cell_type": "code",
      "execution_count": null,
      "metadata": {
        "id": "_8auLEs6v1D_"
      },
      "outputs": [],
      "source": [
        "tensorboard = TensorBoard(log_dir=\"/content/gdrive/MyDrive/Dense Experiments/Logs/{}\".format(NAME))"
      ]
    },
    {
      "cell_type": "code",
      "execution_count": null,
      "metadata": {
        "id": "7XnlJeTtv1D_"
      },
      "outputs": [],
      "source": [
        "model.compile(loss='binary_crossentropy', optimizer=optimizers.Adam(learning_rate=0.00001), metrics=[keras.metrics.AUC(), 'accuracy'])"
      ]
    },
    {
      "cell_type": "code",
      "execution_count": null,
      "metadata": {
        "colab": {
          "base_uri": "https://localhost:8080/"
        },
        "outputId": "2cb2bbf9-618c-4563-f916-a31000f0092a",
        "id": "NHdzjPi8v1D_"
      },
      "outputs": [
        {
          "output_type": "stream",
          "name": "stdout",
          "text": [
            "Epoch 1/100\n",
            "244/244 [==============================] - 73s 294ms/step - loss: 1.7892 - auc: 0.5170 - accuracy: 0.8100 - val_loss: 0.4066 - val_auc: 0.7105 - val_accuracy: 0.8582\n",
            "Epoch 2/100\n",
            "244/244 [==============================] - 72s 291ms/step - loss: 0.4522 - auc: 0.6314 - accuracy: 0.8443 - val_loss: 0.4166 - val_auc: 0.7102 - val_accuracy: 0.8581\n",
            "Epoch 3/100\n",
            "244/244 [==============================] - 72s 294ms/step - loss: 0.4611 - auc: 0.6235 - accuracy: 0.8498 - val_loss: 0.4189 - val_auc: 0.7293 - val_accuracy: 0.8581\n",
            "Epoch 4/100\n",
            "244/244 [==============================] - 72s 293ms/step - loss: 0.4619 - auc: 0.6327 - accuracy: 0.8523 - val_loss: 0.4205 - val_auc: 0.7247 - val_accuracy: 0.8581\n",
            "Epoch 5/100\n",
            "244/244 [==============================] - 72s 293ms/step - loss: 0.4586 - auc: 0.6389 - accuracy: 0.8497 - val_loss: 0.3869 - val_auc: 0.7240 - val_accuracy: 0.8581\n",
            "Epoch 6/100\n",
            "244/244 [==============================] - 72s 294ms/step - loss: 0.4491 - auc: 0.6486 - accuracy: 0.8548 - val_loss: 0.3698 - val_auc: 0.7400 - val_accuracy: 0.8581\n",
            "Epoch 7/100\n",
            "244/244 [==============================] - 72s 294ms/step - loss: 0.4475 - auc: 0.6423 - accuracy: 0.8556 - val_loss: 0.3855 - val_auc: 0.7515 - val_accuracy: 0.8581\n",
            "Epoch 8/100\n",
            "244/244 [==============================] - 72s 293ms/step - loss: 0.4348 - auc: 0.6506 - accuracy: 0.8573 - val_loss: 0.3620 - val_auc: 0.7486 - val_accuracy: 0.8581\n",
            "Epoch 9/100\n",
            "244/244 [==============================] - 81s 329ms/step - loss: 0.4322 - auc: 0.6639 - accuracy: 0.8572 - val_loss: 0.3865 - val_auc: 0.7626 - val_accuracy: 0.8581\n",
            "Epoch 10/100\n",
            "244/244 [==============================] - 72s 293ms/step - loss: 0.4131 - auc: 0.6844 - accuracy: 0.8586 - val_loss: 0.4066 - val_auc: 0.7327 - val_accuracy: 0.8581\n",
            "Epoch 11/100\n",
            "244/244 [==============================] - 72s 294ms/step - loss: 0.4088 - auc: 0.6935 - accuracy: 0.8581 - val_loss: 0.3872 - val_auc: 0.7631 - val_accuracy: 0.8581\n",
            "Epoch 12/100\n",
            "244/244 [==============================] - 72s 292ms/step - loss: 0.3973 - auc: 0.7003 - accuracy: 0.8583 - val_loss: 0.4130 - val_auc: 0.7402 - val_accuracy: 0.8581\n",
            "Epoch 13/100\n",
            "244/244 [==============================] - 72s 292ms/step - loss: 0.3916 - auc: 0.7134 - accuracy: 0.8590 - val_loss: 0.3858 - val_auc: 0.7544 - val_accuracy: 0.8581\n",
            "Epoch 14/100\n",
            "244/244 [==============================] - 72s 292ms/step - loss: 0.3919 - auc: 0.7097 - accuracy: 0.8586 - val_loss: 0.3913 - val_auc: 0.7494 - val_accuracy: 0.8581\n",
            "Epoch 15/100\n",
            "244/244 [==============================] - 72s 292ms/step - loss: 0.3885 - auc: 0.7107 - accuracy: 0.8583 - val_loss: 0.3710 - val_auc: 0.7510 - val_accuracy: 0.8581\n",
            "Epoch 16/100\n",
            "244/244 [==============================] - ETA: 0s - loss: 0.3877 - auc: 0.7123 - accuracy: 0.8590Restoring model weights from the end of the best epoch: 11.\n",
            "244/244 [==============================] - 72s 291ms/step - loss: 0.3877 - auc: 0.7123 - accuracy: 0.8590 - val_loss: 0.3823 - val_auc: 0.7627 - val_accuracy: 0.8581\n",
            "Epoch 16: early stopping\n"
          ]
        }
      ],
      "source": [
        "run_hist = model.fit(train_data, validation_data=val_data, epochs=100, \n",
        "  callbacks=[tensorboard,\n",
        "              keras.callbacks.EarlyStopping(\n",
        "                  monitor=\"val_auc\",\n",
        "                  min_delta=0,\n",
        "                  patience=5,\n",
        "                  verbose=1,\n",
        "                  mode=\"auto\",\n",
        "                  baseline=None,\n",
        "                  restore_best_weights=True,\n",
        "              )])"
      ]
    },
    {
      "cell_type": "code",
      "execution_count": null,
      "metadata": {
        "colab": {
          "base_uri": "https://localhost:8080/"
        },
        "outputId": "184b176e-315e-412b-a822-32aded09436a",
        "id": "xllyrJ1xv1EA"
      },
      "outputs": [
        {
          "output_type": "stream",
          "name": "stdout",
          "text": [
            "183/183 [==============================] - 18s 97ms/step - loss: 0.3953 - auc: 0.7478 - accuracy: 0.8592\n",
            "[0.39531874656677246, 0.747836709022522, 0.859151303768158]\n"
          ]
        }
      ],
      "source": [
        "results = model.evaluate(test_data)\n",
        "print(results)\n",
        "\n",
        "results_pkl = open('/content/gdrive/MyDrive/Dense Experiments/Results/{}.pkl'.format(NAME), 'wb')\n",
        "pickle.dump(results, results_pkl)"
      ]
    },
    {
      "cell_type": "code",
      "source": [
        "results_pkl = open('/content/gdrive/MyDrive/Dense Experiments/Results/{}.pkl'.format(NAME), 'wb')\n",
        "pickle.dump(results, results_pkl)"
      ],
      "metadata": {
        "id": "t6B9195av1EA"
      },
      "execution_count": null,
      "outputs": []
    },
    {
      "cell_type": "markdown",
      "metadata": {
        "id": "lOsBbteev1EA"
      },
      "source": [
        "#### D = 2"
      ]
    },
    {
      "cell_type": "code",
      "execution_count": null,
      "metadata": {
        "id": "iIDefsI5v1EA"
      },
      "outputs": [],
      "source": [
        "NAME = \"N1024-L2-D2\"\n",
        "keras.backend.clear_session()"
      ]
    },
    {
      "cell_type": "code",
      "execution_count": null,
      "metadata": {
        "colab": {
          "base_uri": "https://localhost:8080/"
        },
        "outputId": "05fe9f07-64aa-46dc-a847-35220cb1a769",
        "id": "qNHJsVGQv1EA"
      },
      "outputs": [
        {
          "output_type": "stream",
          "name": "stdout",
          "text": [
            "Model: \"sequential\"\n",
            "_________________________________________________________________\n",
            " Layer (type)                Output Shape              Param #   \n",
            "=================================================================\n",
            " conv2d (Conv2D)             (None, 256, 256, 32)      896       \n",
            "                                                                 \n",
            " conv2d_1 (Conv2D)           (None, 128, 128, 32)      9248      \n",
            "                                                                 \n",
            " conv2d_2 (Conv2D)           (None, 64, 64, 64)        18496     \n",
            "                                                                 \n",
            " dropout (Dropout)           (None, 64, 64, 64)        0         \n",
            "                                                                 \n",
            " max_pooling2d (MaxPooling2D  (None, 32, 32, 64)       0         \n",
            " )                                                               \n",
            "                                                                 \n",
            " dense (Dense)               (None, 32, 32, 128)       8320      \n",
            "                                                                 \n",
            " flatten (Flatten)           (None, 131072)            0         \n",
            "                                                                 \n",
            " dense_1 (Dense)             (None, 1024)              134218752 \n",
            "                                                                 \n",
            " dense_2 (Dense)             (None, 1024)              1049600   \n",
            "                                                                 \n",
            " dropout_1 (Dropout)         (None, 1024)              0         \n",
            "                                                                 \n",
            " dense_3 (Dense)             (None, 1)                 1025      \n",
            "                                                                 \n",
            "=================================================================\n",
            "Total params: 135,306,337\n",
            "Trainable params: 135,306,337\n",
            "Non-trainable params: 0\n",
            "_________________________________________________________________\n"
          ]
        }
      ],
      "source": [
        "ins = image_batch.shape[1:]\n",
        "\n",
        "model = Sequential()\n",
        "\n",
        "model.add(Conv2D(32, (3,3), padding=\"same\", activation=\"relu\", input_shape=ins))\n",
        "\n",
        "model.add(Conv2D(32, (3,3), padding=\"same\", strides = (2,2), activation=\"relu\"))\n",
        "\n",
        "model.add(Conv2D(64, (3,3), padding=\"same\", strides = (2,2), activation=\"relu\"))\n",
        "\n",
        "model.add(Dropout(0.1))\n",
        "\n",
        "model.add(MaxPooling2D(pool_size=(2, 2)))\n",
        "\n",
        "model.add(Dense(128, activation=\"relu\"))\n",
        "\n",
        "model.add(Flatten())\n",
        "\n",
        "model.add(Dense(N, activation=\"relu\"))\n",
        "\n",
        "model.add(Dense(N, activation=\"relu\"))\n",
        "\n",
        "model.add(Dropout(0.5))\n",
        "\n",
        "model.add(Dense(1, activation=\"sigmoid\"))\n",
        "\n",
        "model.summary()"
      ]
    },
    {
      "cell_type": "code",
      "execution_count": null,
      "metadata": {
        "id": "uXx8JNpnv1EA"
      },
      "outputs": [],
      "source": [
        "tensorboard = TensorBoard(log_dir=\"/content/gdrive/MyDrive/Dense Experiments/Logs/{}\".format(NAME))"
      ]
    },
    {
      "cell_type": "code",
      "execution_count": null,
      "metadata": {
        "id": "Qh0Wud3Fv1EA"
      },
      "outputs": [],
      "source": [
        "model.compile(loss='binary_crossentropy', optimizer=optimizers.Adam(learning_rate=0.00001), metrics=[keras.metrics.AUC(), 'accuracy'])"
      ]
    },
    {
      "cell_type": "code",
      "execution_count": null,
      "metadata": {
        "colab": {
          "base_uri": "https://localhost:8080/"
        },
        "outputId": "b6f307d7-01d9-4bb9-c983-84497585ec0a",
        "id": "Lbujlxt9v1EA"
      },
      "outputs": [
        {
          "output_type": "stream",
          "name": "stdout",
          "text": [
            "Epoch 1/100\n",
            "244/244 [==============================] - 66s 265ms/step - loss: 0.8915 - auc: 0.5562 - accuracy: 0.8077 - val_loss: 0.3647 - val_auc: 0.7616 - val_accuracy: 0.8542\n",
            "Epoch 2/100\n",
            "244/244 [==============================] - 63s 255ms/step - loss: 0.3802 - auc: 0.7116 - accuracy: 0.8520 - val_loss: 0.3534 - val_auc: 0.7745 - val_accuracy: 0.8583\n",
            "Epoch 3/100\n",
            "244/244 [==============================] - 63s 257ms/step - loss: 0.3640 - auc: 0.7406 - accuracy: 0.8553 - val_loss: 0.3796 - val_auc: 0.7766 - val_accuracy: 0.8572\n",
            "Epoch 4/100\n",
            "244/244 [==============================] - 64s 259ms/step - loss: 0.3533 - auc: 0.7600 - accuracy: 0.8580 - val_loss: 0.3529 - val_auc: 0.7893 - val_accuracy: 0.8595\n",
            "Epoch 5/100\n",
            "244/244 [==============================] - 64s 261ms/step - loss: 0.3413 - auc: 0.7802 - accuracy: 0.8615 - val_loss: 0.3419 - val_auc: 0.7979 - val_accuracy: 0.8588\n",
            "Epoch 6/100\n",
            "244/244 [==============================] - 64s 261ms/step - loss: 0.3368 - auc: 0.7867 - accuracy: 0.8642 - val_loss: 0.3569 - val_auc: 0.7989 - val_accuracy: 0.8609\n",
            "Epoch 7/100\n",
            "244/244 [==============================] - 64s 261ms/step - loss: 0.3325 - auc: 0.7962 - accuracy: 0.8632 - val_loss: 0.3287 - val_auc: 0.8097 - val_accuracy: 0.8587\n",
            "Epoch 8/100\n",
            "244/244 [==============================] - 62s 253ms/step - loss: 0.3175 - auc: 0.8192 - accuracy: 0.8670 - val_loss: 0.3326 - val_auc: 0.8005 - val_accuracy: 0.8609\n",
            "Epoch 9/100\n",
            "244/244 [==============================] - 63s 255ms/step - loss: 0.3124 - auc: 0.8262 - accuracy: 0.8708 - val_loss: 0.3243 - val_auc: 0.8150 - val_accuracy: 0.8633\n",
            "Epoch 10/100\n",
            "244/244 [==============================] - 63s 256ms/step - loss: 0.3027 - auc: 0.8389 - accuracy: 0.8737 - val_loss: 0.3506 - val_auc: 0.8139 - val_accuracy: 0.8645\n",
            "Epoch 11/100\n",
            "244/244 [==============================] - 63s 256ms/step - loss: 0.2967 - auc: 0.8464 - accuracy: 0.8791 - val_loss: 0.3223 - val_auc: 0.8148 - val_accuracy: 0.8704\n",
            "Epoch 12/100\n",
            "244/244 [==============================] - 63s 255ms/step - loss: 0.2837 - auc: 0.8594 - accuracy: 0.8866 - val_loss: 0.3711 - val_auc: 0.8113 - val_accuracy: 0.8300\n",
            "Epoch 13/100\n",
            "244/244 [==============================] - 63s 257ms/step - loss: 0.2858 - auc: 0.8626 - accuracy: 0.8782 - val_loss: 0.3173 - val_auc: 0.8210 - val_accuracy: 0.8743\n",
            "Epoch 14/100\n",
            "243/244 [============================>.] - ETA: 0s - loss: 0.2681 - auc: 0.8783 - accuracy: 0.8938"
          ]
        }
      ],
      "source": [
        "run_hist = model.fit(train_data, validation_data=val_data, epochs=100, \n",
        "  callbacks=[tensorboard,\n",
        "              keras.callbacks.EarlyStopping(\n",
        "                  monitor=\"val_auc\",\n",
        "                  min_delta=0,\n",
        "                  patience=5,\n",
        "                  verbose=1,\n",
        "                  mode=\"auto\",\n",
        "                  baseline=None,\n",
        "                  restore_best_weights=True,\n",
        "              )])"
      ]
    },
    {
      "cell_type": "code",
      "execution_count": null,
      "metadata": {
        "id": "ex70U2avv1EA"
      },
      "outputs": [],
      "source": [
        "results = model.evaluate(test_data)\n",
        "print(results)\n",
        "\n",
        "results_pkl = open('/content/gdrive/MyDrive/Dense Experiments/Results/{}.pkl'.format(NAME), 'wb')\n",
        "pickle.dump(results, results_pkl)"
      ]
    },
    {
      "cell_type": "code",
      "source": [
        "results_pkl = open('/content/gdrive/MyDrive/Dense Experiments/Results/{}.pkl'.format(NAME), 'wb')\n",
        "pickle.dump(results, results_pkl)"
      ],
      "metadata": {
        "id": "v-tuN09Zv1EA"
      },
      "execution_count": null,
      "outputs": []
    },
    {
      "cell_type": "markdown",
      "metadata": {
        "id": "1z7HntWHv1EA"
      },
      "source": [
        "#### D = 3"
      ]
    },
    {
      "cell_type": "code",
      "execution_count": null,
      "metadata": {
        "id": "Cem-wjVYv1EA"
      },
      "outputs": [],
      "source": [
        "NAME = \"N1024-L2-D3\"\n",
        "keras.backend.clear_session()"
      ]
    },
    {
      "cell_type": "code",
      "execution_count": null,
      "metadata": {
        "colab": {
          "base_uri": "https://localhost:8080/"
        },
        "outputId": "7cb8175b-e982-48ce-c0f7-195d1d546149",
        "id": "aJmmVFmpv1EA"
      },
      "outputs": [
        {
          "output_type": "stream",
          "name": "stdout",
          "text": [
            "Model: \"sequential\"\n",
            "_________________________________________________________________\n",
            " Layer (type)                Output Shape              Param #   \n",
            "=================================================================\n",
            " conv2d (Conv2D)             (None, 256, 256, 32)      896       \n",
            "                                                                 \n",
            " conv2d_1 (Conv2D)           (None, 128, 128, 32)      9248      \n",
            "                                                                 \n",
            " conv2d_2 (Conv2D)           (None, 64, 64, 64)        18496     \n",
            "                                                                 \n",
            " max_pooling2d (MaxPooling2D  (None, 32, 32, 64)       0         \n",
            " )                                                               \n",
            "                                                                 \n",
            " dense (Dense)               (None, 32, 32, 128)       8320      \n",
            "                                                                 \n",
            " flatten (Flatten)           (None, 131072)            0         \n",
            "                                                                 \n",
            " dense_1 (Dense)             (None, 512)               67109376  \n",
            "                                                                 \n",
            " dropout (Dropout)           (None, 512)               0         \n",
            "                                                                 \n",
            " dense_2 (Dense)             (None, 512)               262656    \n",
            "                                                                 \n",
            " dropout_1 (Dropout)         (None, 512)               0         \n",
            "                                                                 \n",
            " dense_3 (Dense)             (None, 1)                 513       \n",
            "                                                                 \n",
            "=================================================================\n",
            "Total params: 67,409,505\n",
            "Trainable params: 67,409,505\n",
            "Non-trainable params: 0\n",
            "_________________________________________________________________\n"
          ]
        }
      ],
      "source": [
        "ins = image_batch.shape[1:]\n",
        "\n",
        "model = Sequential()\n",
        "\n",
        "model.add(Conv2D(32, (3,3), padding=\"same\", activation=\"relu\", input_shape=ins))\n",
        "\n",
        "model.add(Conv2D(32, (3,3), padding=\"same\", strides = (2,2), activation=\"relu\"))\n",
        "\n",
        "model.add(Conv2D(64, (3,3), padding=\"same\", strides = (2,2), activation=\"relu\"))\n",
        "\n",
        "model.add(MaxPooling2D(pool_size=(2, 2)))\n",
        "\n",
        "model.add(Dense(128, activation=\"relu\"))\n",
        "\n",
        "model.add(Flatten())\n",
        "\n",
        "model.add(Dense(N, activation=\"relu\"))\n",
        "\n",
        "model.add(Dropout(0.5))\n",
        "\n",
        "model.add(Dense(N, activation=\"relu\"))\n",
        "\n",
        "model.add(Dropout(0.5))\n",
        "\n",
        "model.add(Dense(1, activation=\"sigmoid\"))\n",
        "\n",
        "model.summary()"
      ]
    },
    {
      "cell_type": "code",
      "execution_count": null,
      "metadata": {
        "id": "z7SZmJQAv1EA"
      },
      "outputs": [],
      "source": [
        "tensorboard = TensorBoard(log_dir=\"/content/gdrive/MyDrive/Dense Experiments/Logs/{}\".format(NAME))"
      ]
    },
    {
      "cell_type": "code",
      "execution_count": null,
      "metadata": {
        "id": "q8HFRRFQv1EA"
      },
      "outputs": [],
      "source": [
        "model.compile(loss='binary_crossentropy', optimizer=optimizers.Adam(learning_rate=0.00001), metrics=[keras.metrics.AUC(), 'accuracy'])"
      ]
    },
    {
      "cell_type": "code",
      "execution_count": null,
      "metadata": {
        "colab": {
          "base_uri": "https://localhost:8080/"
        },
        "outputId": "c68822cc-b2f4-4e5b-815a-5db746cda9bb",
        "id": "DyV2G3W1v1EA"
      },
      "outputs": [
        {
          "output_type": "stream",
          "name": "stdout",
          "text": [
            "Epoch 1/100\n",
            "244/244 [==============================] - 58s 233ms/step - loss: 0.8075 - auc: 0.5481 - accuracy: 0.8177 - val_loss: 0.3998 - val_auc: 0.7314 - val_accuracy: 0.8581\n",
            "Epoch 2/100\n",
            "244/244 [==============================] - 57s 233ms/step - loss: 0.4472 - auc: 0.6494 - accuracy: 0.8372 - val_loss: 0.3795 - val_auc: 0.7374 - val_accuracy: 0.8581\n",
            "Epoch 3/100\n",
            "244/244 [==============================] - 57s 231ms/step - loss: 0.4299 - auc: 0.6671 - accuracy: 0.8477 - val_loss: 0.3963 - val_auc: 0.7585 - val_accuracy: 0.8581\n",
            "Epoch 4/100\n",
            "244/244 [==============================] - 57s 233ms/step - loss: 0.4224 - auc: 0.6888 - accuracy: 0.8511 - val_loss: 0.3523 - val_auc: 0.7690 - val_accuracy: 0.8581\n",
            "Epoch 5/100\n",
            "244/244 [==============================] - 57s 230ms/step - loss: 0.4141 - auc: 0.6929 - accuracy: 0.8530 - val_loss: 0.3665 - val_auc: 0.7758 - val_accuracy: 0.8581\n",
            "Epoch 6/100\n",
            "244/244 [==============================] - 57s 230ms/step - loss: 0.3937 - auc: 0.7232 - accuracy: 0.8557 - val_loss: 0.3587 - val_auc: 0.7870 - val_accuracy: 0.8582\n",
            "Epoch 7/100\n",
            "244/244 [==============================] - 65s 264ms/step - loss: 0.3800 - auc: 0.7393 - accuracy: 0.8570 - val_loss: 0.3419 - val_auc: 0.7883 - val_accuracy: 0.8581\n",
            "Epoch 8/100\n",
            "244/244 [==============================] - 57s 232ms/step - loss: 0.3767 - auc: 0.7390 - accuracy: 0.8572 - val_loss: 0.3402 - val_auc: 0.7887 - val_accuracy: 0.8581\n",
            "Epoch 9/100\n",
            "244/244 [==============================] - 66s 267ms/step - loss: 0.3714 - auc: 0.7499 - accuracy: 0.8583 - val_loss: 0.3429 - val_auc: 0.7900 - val_accuracy: 0.8581\n",
            "Epoch 10/100\n",
            "244/244 [==============================] - 58s 233ms/step - loss: 0.3730 - auc: 0.7465 - accuracy: 0.8577 - val_loss: 0.3468 - val_auc: 0.7855 - val_accuracy: 0.8581\n",
            "Epoch 11/100\n",
            "244/244 [==============================] - 57s 230ms/step - loss: 0.3579 - auc: 0.7691 - accuracy: 0.8588 - val_loss: 0.3371 - val_auc: 0.7972 - val_accuracy: 0.8581\n",
            "Epoch 12/100\n",
            "244/244 [==============================] - 57s 232ms/step - loss: 0.3484 - auc: 0.7815 - accuracy: 0.8596 - val_loss: 0.3378 - val_auc: 0.7998 - val_accuracy: 0.8581\n",
            "Epoch 13/100\n",
            "244/244 [==============================] - 58s 236ms/step - loss: 0.3578 - auc: 0.7654 - accuracy: 0.8594 - val_loss: 0.3378 - val_auc: 0.7970 - val_accuracy: 0.8581\n",
            "Epoch 14/100\n",
            "244/244 [==============================] - 57s 231ms/step - loss: 0.3456 - auc: 0.7823 - accuracy: 0.8595 - val_loss: 0.3425 - val_auc: 0.7924 - val_accuracy: 0.8581\n",
            "Epoch 15/100\n",
            "244/244 [==============================] - 58s 236ms/step - loss: 0.3440 - auc: 0.7865 - accuracy: 0.8588 - val_loss: 0.3495 - val_auc: 0.7951 - val_accuracy: 0.8581\n",
            "Epoch 16/100\n",
            "244/244 [==============================] - 57s 232ms/step - loss: 0.3334 - auc: 0.8027 - accuracy: 0.8593 - val_loss: 0.3378 - val_auc: 0.8003 - val_accuracy: 0.8581\n",
            "Epoch 17/100\n",
            "244/244 [==============================] - 57s 230ms/step - loss: 0.3225 - auc: 0.8167 - accuracy: 0.8595 - val_loss: 0.3389 - val_auc: 0.7992 - val_accuracy: 0.8581\n",
            "Epoch 18/100\n",
            "244/244 [==============================] - 58s 233ms/step - loss: 0.3297 - auc: 0.8062 - accuracy: 0.8593 - val_loss: 0.3385 - val_auc: 0.8039 - val_accuracy: 0.8582\n",
            "Epoch 19/100\n",
            "244/244 [==============================] - 56s 228ms/step - loss: 0.3171 - auc: 0.8237 - accuracy: 0.8598 - val_loss: 0.3350 - val_auc: 0.8059 - val_accuracy: 0.8581\n",
            "Epoch 20/100\n",
            "244/244 [==============================] - 65s 265ms/step - loss: 0.3259 - auc: 0.8110 - accuracy: 0.8599 - val_loss: 0.3330 - val_auc: 0.8055 - val_accuracy: 0.8583\n",
            "Epoch 21/100\n",
            "244/244 [==============================] - 58s 234ms/step - loss: 0.3252 - auc: 0.8115 - accuracy: 0.8595 - val_loss: 0.3355 - val_auc: 0.8055 - val_accuracy: 0.8581\n",
            "Epoch 22/100\n",
            "244/244 [==============================] - 57s 230ms/step - loss: 0.3352 - auc: 0.7946 - accuracy: 0.8591 - val_loss: 0.3334 - val_auc: 0.8069 - val_accuracy: 0.8588\n",
            "Epoch 23/100\n",
            "244/244 [==============================] - 57s 232ms/step - loss: 0.3148 - auc: 0.8260 - accuracy: 0.8597 - val_loss: 0.3346 - val_auc: 0.8082 - val_accuracy: 0.8581\n",
            "Epoch 24/100\n",
            "244/244 [==============================] - 57s 231ms/step - loss: 0.3065 - auc: 0.8375 - accuracy: 0.8599 - val_loss: 0.3433 - val_auc: 0.8017 - val_accuracy: 0.8581\n",
            "Epoch 25/100\n",
            "244/244 [==============================] - 58s 234ms/step - loss: 0.3039 - auc: 0.8395 - accuracy: 0.8602 - val_loss: 0.3391 - val_auc: 0.8065 - val_accuracy: 0.8588\n",
            "Epoch 26/100\n",
            "244/244 [==============================] - 57s 231ms/step - loss: 0.2977 - auc: 0.8482 - accuracy: 0.8602 - val_loss: 0.3415 - val_auc: 0.8041 - val_accuracy: 0.8604\n",
            "Epoch 27/100\n",
            "244/244 [==============================] - 57s 232ms/step - loss: 0.2839 - auc: 0.8719 - accuracy: 0.8602 - val_loss: 0.3371 - val_auc: 0.8096 - val_accuracy: 0.8579\n",
            "Epoch 28/100\n",
            "244/244 [==============================] - 57s 232ms/step - loss: 0.2786 - auc: 0.8750 - accuracy: 0.8606 - val_loss: 0.3487 - val_auc: 0.7971 - val_accuracy: 0.8599\n",
            "Epoch 29/100\n",
            "244/244 [==============================] - 58s 235ms/step - loss: 0.2854 - auc: 0.8665 - accuracy: 0.8607 - val_loss: 0.3600 - val_auc: 0.7989 - val_accuracy: 0.8604\n",
            "Epoch 30/100\n",
            "244/244 [==============================] - 57s 230ms/step - loss: 0.2768 - auc: 0.8790 - accuracy: 0.8611 - val_loss: 0.3391 - val_auc: 0.8088 - val_accuracy: 0.8588\n",
            "Epoch 31/100\n",
            "244/244 [==============================] - 57s 231ms/step - loss: 0.2626 - auc: 0.8961 - accuracy: 0.8613 - val_loss: 0.3616 - val_auc: 0.7980 - val_accuracy: 0.8604\n",
            "Epoch 32/100\n",
            "243/244 [============================>.] - ETA: 0s - loss: 0.2584 - auc: 0.8990 - accuracy: 0.8641Restoring model weights from the end of the best epoch: 27.\n",
            "244/244 [==============================] - 58s 236ms/step - loss: 0.2583 - auc: 0.8990 - accuracy: 0.8642 - val_loss: 0.3570 - val_auc: 0.8018 - val_accuracy: 0.8623\n",
            "Epoch 32: early stopping\n"
          ]
        }
      ],
      "source": [
        "run_hist = model.fit(train_data, validation_data=val_data, epochs=100, \n",
        "  callbacks=[tensorboard,\n",
        "              keras.callbacks.EarlyStopping(\n",
        "                  monitor=\"val_auc\",\n",
        "                  min_delta=0,\n",
        "                  patience=5,\n",
        "                  verbose=1,\n",
        "                  mode=\"auto\",\n",
        "                  baseline=None,\n",
        "                  restore_best_weights=True,\n",
        "              )])"
      ]
    },
    {
      "cell_type": "code",
      "execution_count": null,
      "metadata": {
        "colab": {
          "base_uri": "https://localhost:8080/"
        },
        "outputId": "0cf4ed62-fa05-4ae2-bb81-c996e33bb27c",
        "id": "x3ozDqbUv1EA"
      },
      "outputs": [
        {
          "output_type": "stream",
          "name": "stdout",
          "text": [
            "183/183 [==============================] - 19s 98ms/step - loss: 0.3428 - auc: 0.7982 - accuracy: 0.8592\n",
            "[0.34282225370407104, 0.7981623411178589, 0.859151303768158]\n"
          ]
        }
      ],
      "source": [
        "results = model.evaluate(test_data)\n",
        "print(results)\n",
        "\n",
        "results_pkl = open('/content/gdrive/MyDrive/Dense Experiments/Results/{}.pkl'.format(NAME), 'wb')\n",
        "pickle.dump(results, results_pkl)"
      ]
    },
    {
      "cell_type": "code",
      "source": [
        "results_pkl = open('/content/gdrive/MyDrive/Dense Experiments/Results/{}.pkl'.format(NAME), 'wb')\n",
        "pickle.dump(results, results_pkl)"
      ],
      "metadata": {
        "id": "iR7qVpUgv1EA"
      },
      "execution_count": null,
      "outputs": []
    },
    {
      "cell_type": "markdown",
      "metadata": {
        "id": "2xYSy90Bv1EA"
      },
      "source": [
        "#### D = 4"
      ]
    },
    {
      "cell_type": "code",
      "execution_count": null,
      "metadata": {
        "id": "LmlNvqDbv1EA"
      },
      "outputs": [],
      "source": [
        "NAME = \"N1024-L2-D4\"\n",
        "keras.backend.clear_session()"
      ]
    },
    {
      "cell_type": "code",
      "execution_count": null,
      "metadata": {
        "colab": {
          "base_uri": "https://localhost:8080/"
        },
        "outputId": "96b072a3-fc00-4991-a14c-a2c9137ef09f",
        "id": "H1bHQDSjv1EB"
      },
      "outputs": [
        {
          "output_type": "stream",
          "name": "stdout",
          "text": [
            "Model: \"sequential\"\n",
            "_________________________________________________________________\n",
            " Layer (type)                Output Shape              Param #   \n",
            "=================================================================\n",
            " conv2d (Conv2D)             (None, 256, 256, 32)      896       \n",
            "                                                                 \n",
            " conv2d_1 (Conv2D)           (None, 128, 128, 32)      9248      \n",
            "                                                                 \n",
            " conv2d_2 (Conv2D)           (None, 64, 64, 64)        18496     \n",
            "                                                                 \n",
            " max_pooling2d (MaxPooling2D  (None, 32, 32, 64)       0         \n",
            " )                                                               \n",
            "                                                                 \n",
            " dense (Dense)               (None, 32, 32, 128)       8320      \n",
            "                                                                 \n",
            " flatten (Flatten)           (None, 131072)            0         \n",
            "                                                                 \n",
            " dense_1 (Dense)             (None, 512)               67109376  \n",
            "                                                                 \n",
            " dense_2 (Dense)             (None, 512)               262656    \n",
            "                                                                 \n",
            " dropout (Dropout)           (None, 512)               0         \n",
            "                                                                 \n",
            " dense_3 (Dense)             (None, 1)                 513       \n",
            "                                                                 \n",
            "=================================================================\n",
            "Total params: 67,409,505\n",
            "Trainable params: 67,409,505\n",
            "Non-trainable params: 0\n",
            "_________________________________________________________________\n"
          ]
        }
      ],
      "source": [
        "ins = image_batch.shape[1:]\n",
        "\n",
        "model = Sequential()\n",
        "\n",
        "model.add(Conv2D(32, (3,3), padding=\"same\", activation=\"relu\", input_shape=ins))\n",
        "\n",
        "model.add(Conv2D(32, (3,3), padding=\"same\", strides = (2,2), activation=\"relu\"))\n",
        "\n",
        "model.add(Conv2D(64, (3,3), padding=\"same\", strides = (2,2), activation=\"relu\"))\n",
        "\n",
        "model.add(MaxPooling2D(pool_size=(2, 2)))\n",
        "\n",
        "model.add(Dense(128, activation=\"relu\"))\n",
        "\n",
        "model.add(Flatten())\n",
        "\n",
        "model.add(Dense(N, activation=\"relu\"))\n",
        "\n",
        "model.add(Dense(N, activation=\"relu\"))\n",
        "\n",
        "model.add(Dropout(0.5))\n",
        "\n",
        "model.add(Dense(1, activation=\"sigmoid\"))\n",
        "\n",
        "model.summary()"
      ]
    },
    {
      "cell_type": "code",
      "execution_count": null,
      "metadata": {
        "id": "V3BnHi2cv1EB"
      },
      "outputs": [],
      "source": [
        "tensorboard = TensorBoard(log_dir=\"/content/gdrive/MyDrive/Dense Experiments/Logs/{}\".format(NAME))"
      ]
    },
    {
      "cell_type": "code",
      "execution_count": null,
      "metadata": {
        "id": "AOmaC9fov1EB"
      },
      "outputs": [],
      "source": [
        "model.compile(loss='binary_crossentropy', optimizer=optimizers.Adam(learning_rate=0.00001), metrics=[keras.metrics.AUC(), 'accuracy'])"
      ]
    },
    {
      "cell_type": "code",
      "execution_count": null,
      "metadata": {
        "colab": {
          "base_uri": "https://localhost:8080/"
        },
        "outputId": "a9c08e46-f0ae-4367-cc3d-d4ac550a95bb",
        "id": "bvCnUmc_v1EB"
      },
      "outputs": [
        {
          "output_type": "stream",
          "name": "stdout",
          "text": [
            "Epoch 1/100\n",
            "244/244 [==============================] - 57s 225ms/step - loss: 0.9068 - auc: 0.5542 - accuracy: 0.8128 - val_loss: 0.3710 - val_auc: 0.7420 - val_accuracy: 0.8572\n",
            "Epoch 2/100\n",
            "244/244 [==============================] - 56s 227ms/step - loss: 0.3786 - auc: 0.7177 - accuracy: 0.8520 - val_loss: 0.3561 - val_auc: 0.7651 - val_accuracy: 0.8581\n",
            "Epoch 3/100\n",
            "244/244 [==============================] - 57s 230ms/step - loss: 0.3599 - auc: 0.7485 - accuracy: 0.8576 - val_loss: 0.3457 - val_auc: 0.7782 - val_accuracy: 0.8581\n",
            "Epoch 4/100\n",
            "244/244 [==============================] - 57s 230ms/step - loss: 0.3597 - auc: 0.7501 - accuracy: 0.8570 - val_loss: 0.3479 - val_auc: 0.7775 - val_accuracy: 0.8600\n",
            "Epoch 5/100\n",
            "244/244 [==============================] - 56s 229ms/step - loss: 0.3443 - auc: 0.7767 - accuracy: 0.8602 - val_loss: 0.3401 - val_auc: 0.7902 - val_accuracy: 0.8583\n",
            "Epoch 6/100\n",
            "244/244 [==============================] - 57s 231ms/step - loss: 0.3348 - auc: 0.7932 - accuracy: 0.8603 - val_loss: 0.3375 - val_auc: 0.7966 - val_accuracy: 0.8590\n",
            "Epoch 7/100\n",
            "244/244 [==============================] - 57s 230ms/step - loss: 0.3247 - auc: 0.8104 - accuracy: 0.8632 - val_loss: 0.3516 - val_auc: 0.7889 - val_accuracy: 0.8610\n",
            "Epoch 8/100\n",
            "244/244 [==============================] - 57s 233ms/step - loss: 0.3162 - auc: 0.8247 - accuracy: 0.8640 - val_loss: 0.3350 - val_auc: 0.7960 - val_accuracy: 0.8588\n",
            "Epoch 9/100\n",
            "244/244 [==============================] - 57s 230ms/step - loss: 0.3097 - auc: 0.8326 - accuracy: 0.8644 - val_loss: 0.3303 - val_auc: 0.8042 - val_accuracy: 0.8632\n",
            "Epoch 10/100\n",
            "244/244 [==============================] - 58s 234ms/step - loss: 0.2992 - auc: 0.8500 - accuracy: 0.8654 - val_loss: 0.3514 - val_auc: 0.7935 - val_accuracy: 0.8604\n",
            "Epoch 11/100\n",
            "244/244 [==============================] - 57s 231ms/step - loss: 0.2935 - auc: 0.8583 - accuracy: 0.8680 - val_loss: 0.3378 - val_auc: 0.7925 - val_accuracy: 0.8655\n",
            "Epoch 12/100\n",
            "244/244 [==============================] - 57s 231ms/step - loss: 0.2822 - auc: 0.8740 - accuracy: 0.8786 - val_loss: 0.3301 - val_auc: 0.8065 - val_accuracy: 0.8673\n",
            "Epoch 13/100\n",
            "244/244 [==============================] - 57s 231ms/step - loss: 0.2718 - auc: 0.8865 - accuracy: 0.8847 - val_loss: 0.3319 - val_auc: 0.8056 - val_accuracy: 0.8689\n",
            "Epoch 14/100\n",
            "244/244 [==============================] - 57s 230ms/step - loss: 0.2671 - auc: 0.8927 - accuracy: 0.8840 - val_loss: 0.3399 - val_auc: 0.8025 - val_accuracy: 0.8669\n",
            "Epoch 15/100\n",
            "244/244 [==============================] - 58s 234ms/step - loss: 0.2576 - auc: 0.9010 - accuracy: 0.8915 - val_loss: 0.3849 - val_auc: 0.7811 - val_accuracy: 0.8651\n",
            "Epoch 16/100\n",
            "244/244 [==============================] - 57s 230ms/step - loss: 0.2480 - auc: 0.9069 - accuracy: 0.8982 - val_loss: 0.3413 - val_auc: 0.8024 - val_accuracy: 0.8694\n",
            "Epoch 17/100\n",
            "243/244 [============================>.] - ETA: 0s - loss: 0.2620 - auc: 0.8931 - accuracy: 0.8917Restoring model weights from the end of the best epoch: 12.\n",
            "244/244 [==============================] - 57s 229ms/step - loss: 0.2619 - auc: 0.8931 - accuracy: 0.8917 - val_loss: 0.3418 - val_auc: 0.7995 - val_accuracy: 0.8654\n",
            "Epoch 17: early stopping\n"
          ]
        }
      ],
      "source": [
        "run_hist = model.fit(train_data, validation_data=val_data, epochs=100, \n",
        "  callbacks=[tensorboard,\n",
        "              keras.callbacks.EarlyStopping(\n",
        "                  monitor=\"val_auc\",\n",
        "                  min_delta=0,\n",
        "                  patience=5,\n",
        "                  verbose=1,\n",
        "                  mode=\"auto\",\n",
        "                  baseline=None,\n",
        "                  restore_best_weights=True,\n",
        "              )])"
      ]
    },
    {
      "cell_type": "code",
      "execution_count": null,
      "metadata": {
        "colab": {
          "base_uri": "https://localhost:8080/"
        },
        "outputId": "128c5ef4-7d7a-4c78-9cbc-da47d549c320",
        "id": "i-tKr9FYv1EB"
      },
      "outputs": [
        {
          "output_type": "stream",
          "name": "stdout",
          "text": [
            "183/183 [==============================] - 19s 98ms/step - loss: 0.3339 - auc: 0.7976 - accuracy: 0.8690\n",
            "[0.33392134308815, 0.7975985407829285, 0.8690098524093628]\n"
          ]
        }
      ],
      "source": [
        "results = model.evaluate(test_data)\n",
        "print(results)\n",
        "\n",
        "results_pkl = open('/content/gdrive/MyDrive/Dense Experiments/Results/{}.pkl'.format(NAME), 'wb')\n",
        "pickle.dump(results, results_pkl)"
      ]
    },
    {
      "cell_type": "code",
      "source": [
        "results_pkl = open('/content/gdrive/MyDrive/Dense Experiments/Results/{}.pkl'.format(NAME), 'wb')\n",
        "pickle.dump(results, results_pkl)"
      ],
      "metadata": {
        "id": "n7eeO4acv1EB"
      },
      "execution_count": null,
      "outputs": []
    },
    {
      "cell_type": "markdown",
      "metadata": {
        "id": "4qD2PTLdv1EB"
      },
      "source": [
        "#### D = 5"
      ]
    },
    {
      "cell_type": "code",
      "execution_count": null,
      "metadata": {
        "id": "f1lgTEY2v1EB"
      },
      "outputs": [],
      "source": [
        "NAME = \"N1024-L2-D5\"\n",
        "keras.backend.clear_session()"
      ]
    },
    {
      "cell_type": "code",
      "execution_count": null,
      "metadata": {
        "colab": {
          "base_uri": "https://localhost:8080/"
        },
        "outputId": "317f4960-9ffe-418a-e083-4a083c76e020",
        "id": "ViuxbKcrv1EB"
      },
      "outputs": [
        {
          "output_type": "stream",
          "name": "stdout",
          "text": [
            "Model: \"sequential\"\n",
            "_________________________________________________________________\n",
            " Layer (type)                Output Shape              Param #   \n",
            "=================================================================\n",
            " conv2d (Conv2D)             (None, 256, 256, 32)      896       \n",
            "                                                                 \n",
            " dropout (Dropout)           (None, 256, 256, 32)      0         \n",
            "                                                                 \n",
            " conv2d_1 (Conv2D)           (None, 128, 128, 32)      9248      \n",
            "                                                                 \n",
            " dropout_1 (Dropout)         (None, 128, 128, 32)      0         \n",
            "                                                                 \n",
            " conv2d_2 (Conv2D)           (None, 64, 64, 64)        18496     \n",
            "                                                                 \n",
            " dropout_2 (Dropout)         (None, 64, 64, 64)        0         \n",
            "                                                                 \n",
            " max_pooling2d (MaxPooling2D  (None, 32, 32, 64)       0         \n",
            " )                                                               \n",
            "                                                                 \n",
            " dense (Dense)               (None, 32, 32, 128)       8320      \n",
            "                                                                 \n",
            " flatten (Flatten)           (None, 131072)            0         \n",
            "                                                                 \n",
            " dense_1 (Dense)             (None, 512)               67109376  \n",
            "                                                                 \n",
            " dense_2 (Dense)             (None, 512)               262656    \n",
            "                                                                 \n",
            " dense_3 (Dense)             (None, 1)                 513       \n",
            "                                                                 \n",
            "=================================================================\n",
            "Total params: 67,409,505\n",
            "Trainable params: 67,409,505\n",
            "Non-trainable params: 0\n",
            "_________________________________________________________________\n"
          ]
        }
      ],
      "source": [
        "ins = image_batch.shape[1:]\n",
        "\n",
        "model = Sequential()\n",
        "\n",
        "model.add(Conv2D(32, (3,3), padding=\"same\", activation=\"relu\", input_shape=ins))\n",
        "\n",
        "model.add(Dropout(0.1))\n",
        "\n",
        "model.add(Conv2D(32, (3,3), padding=\"same\", strides = (2,2), activation=\"relu\"))\n",
        "\n",
        "model.add(Dropout(0.1))\n",
        "\n",
        "model.add(Conv2D(64, (3,3), padding=\"same\", strides = (2,2), activation=\"relu\"))\n",
        "\n",
        "model.add(Dropout(0.1))\n",
        "\n",
        "model.add(MaxPooling2D(pool_size=(2, 2)))\n",
        "\n",
        "model.add(Dense(128, activation=\"relu\"))\n",
        "\n",
        "model.add(Flatten())\n",
        "\n",
        "model.add(Dense(N, activation=\"relu\"))\n",
        "\n",
        "model.add(Dense(N, activation=\"relu\"))\n",
        "\n",
        "model.add(Dense(1, activation=\"sigmoid\"))\n",
        "\n",
        "model.summary()"
      ]
    },
    {
      "cell_type": "code",
      "execution_count": null,
      "metadata": {
        "id": "75qwSyBov1EB"
      },
      "outputs": [],
      "source": [
        "tensorboard = TensorBoard(log_dir=\"/content/gdrive/MyDrive/Dense Experiments/Logs/{}\".format(NAME))"
      ]
    },
    {
      "cell_type": "code",
      "execution_count": null,
      "metadata": {
        "id": "EjjcRDnIv1EB"
      },
      "outputs": [],
      "source": [
        "model.compile(loss='binary_crossentropy', optimizer=optimizers.Adam(learning_rate=0.00001), metrics=[keras.metrics.AUC(), 'accuracy'])"
      ]
    },
    {
      "cell_type": "code",
      "execution_count": null,
      "metadata": {
        "colab": {
          "base_uri": "https://localhost:8080/"
        },
        "outputId": "31ce58d6-1959-44c7-dd24-aa3778b8723e",
        "id": "OCaziH88v1EB"
      },
      "outputs": [
        {
          "output_type": "stream",
          "name": "stdout",
          "text": [
            "Epoch 1/100\n",
            "244/244 [==============================] - 68s 273ms/step - loss: 0.6799 - auc: 0.5931 - accuracy: 0.8266 - val_loss: 0.6012 - val_auc: 0.7490 - val_accuracy: 0.6481\n",
            "Epoch 2/100\n",
            "244/244 [==============================] - 67s 272ms/step - loss: 0.4034 - auc: 0.7053 - accuracy: 0.8411 - val_loss: 0.6863 - val_auc: 0.7307 - val_accuracy: 0.5582\n",
            "Epoch 3/100\n",
            "244/244 [==============================] - 67s 273ms/step - loss: 0.3805 - auc: 0.7361 - accuracy: 0.8463 - val_loss: 0.5560 - val_auc: 0.7654 - val_accuracy: 0.6758\n",
            "Epoch 4/100\n",
            "244/244 [==============================] - 68s 278ms/step - loss: 0.3656 - auc: 0.7526 - accuracy: 0.8527 - val_loss: 0.9051 - val_auc: 0.7468 - val_accuracy: 0.4317\n",
            "Epoch 5/100\n",
            "244/244 [==============================] - 69s 282ms/step - loss: 0.3832 - auc: 0.7335 - accuracy: 0.8457 - val_loss: 0.4066 - val_auc: 0.7654 - val_accuracy: 0.8394\n",
            "Epoch 6/100\n",
            "244/244 [==============================] - 68s 276ms/step - loss: 0.3419 - auc: 0.7806 - accuracy: 0.8627 - val_loss: 0.5766 - val_auc: 0.7601 - val_accuracy: 0.6539\n",
            "Epoch 7/100\n",
            "244/244 [==============================] - 68s 277ms/step - loss: 0.3336 - auc: 0.7927 - accuracy: 0.8663 - val_loss: 0.4608 - val_auc: 0.7728 - val_accuracy: 0.7897\n",
            "Epoch 8/100\n",
            "244/244 [==============================] - 67s 273ms/step - loss: 0.3330 - auc: 0.7950 - accuracy: 0.8641 - val_loss: 0.3692 - val_auc: 0.7660 - val_accuracy: 0.8520\n",
            "Epoch 9/100\n",
            "244/244 [==============================] - 68s 276ms/step - loss: 0.3322 - auc: 0.7944 - accuracy: 0.8680 - val_loss: 0.4613 - val_auc: 0.7730 - val_accuracy: 0.7872\n",
            "Epoch 10/100\n",
            "244/244 [==============================] - 68s 274ms/step - loss: 0.3209 - auc: 0.8111 - accuracy: 0.8702 - val_loss: 0.5404 - val_auc: 0.7592 - val_accuracy: 0.7051\n",
            "Epoch 11/100\n",
            "244/244 [==============================] - 68s 277ms/step - loss: 0.3237 - auc: 0.8074 - accuracy: 0.8705 - val_loss: 0.3438 - val_auc: 0.7906 - val_accuracy: 0.8662\n",
            "Epoch 12/100\n",
            "244/244 [==============================] - 68s 274ms/step - loss: 0.3128 - auc: 0.8226 - accuracy: 0.8736 - val_loss: 0.3555 - val_auc: 0.7582 - val_accuracy: 0.8578\n",
            "Epoch 13/100\n",
            "244/244 [==============================] - 67s 273ms/step - loss: 0.3066 - auc: 0.8279 - accuracy: 0.8778 - val_loss: 0.5537 - val_auc: 0.7718 - val_accuracy: 0.6869\n",
            "Epoch 14/100\n",
            "244/244 [==============================] - 68s 275ms/step - loss: 0.3044 - auc: 0.8345 - accuracy: 0.8762 - val_loss: 0.3388 - val_auc: 0.7946 - val_accuracy: 0.8650\n",
            "Epoch 15/100\n",
            "244/244 [==============================] - 68s 275ms/step - loss: 0.2990 - auc: 0.8386 - accuracy: 0.8818 - val_loss: 0.4461 - val_auc: 0.7559 - val_accuracy: 0.7936\n",
            "Epoch 16/100\n",
            "244/244 [==============================] - 68s 276ms/step - loss: 0.2999 - auc: 0.8372 - accuracy: 0.8806 - val_loss: 0.3538 - val_auc: 0.7949 - val_accuracy: 0.8581\n",
            "Epoch 17/100\n",
            "244/244 [==============================] - 67s 274ms/step - loss: 0.2881 - auc: 0.8521 - accuracy: 0.8826 - val_loss: 0.3857 - val_auc: 0.7477 - val_accuracy: 0.8610\n",
            "Epoch 18/100\n",
            "244/244 [==============================] - 68s 276ms/step - loss: 0.2873 - auc: 0.8533 - accuracy: 0.8856 - val_loss: 0.3982 - val_auc: 0.7763 - val_accuracy: 0.8271\n",
            "Epoch 19/100\n",
            "244/244 [==============================] - 67s 272ms/step - loss: 0.2793 - auc: 0.8623 - accuracy: 0.8887 - val_loss: 0.3686 - val_auc: 0.7869 - val_accuracy: 0.8447\n",
            "Epoch 20/100\n",
            "244/244 [==============================] - 67s 273ms/step - loss: 0.2715 - auc: 0.8699 - accuracy: 0.8952 - val_loss: 0.3526 - val_auc: 0.7826 - val_accuracy: 0.8529\n",
            "Epoch 21/100\n",
            "243/244 [============================>.] - ETA: 0s - loss: 0.2567 - auc: 0.8850 - accuracy: 0.8980Restoring model weights from the end of the best epoch: 16.\n",
            "244/244 [==============================] - 67s 273ms/step - loss: 0.2567 - auc: 0.8850 - accuracy: 0.8980 - val_loss: 0.3403 - val_auc: 0.7862 - val_accuracy: 0.8628\n",
            "Epoch 21: early stopping\n"
          ]
        }
      ],
      "source": [
        "run_hist = model.fit(train_data, validation_data=val_data, epochs=100, \n",
        "  callbacks=[tensorboard,\n",
        "              keras.callbacks.EarlyStopping(\n",
        "                  monitor=\"val_auc\",\n",
        "                  min_delta=0,\n",
        "                  patience=5,\n",
        "                  verbose=1,\n",
        "                  mode=\"auto\",\n",
        "                  baseline=None,\n",
        "                  restore_best_weights=True,\n",
        "              )])"
      ]
    },
    {
      "cell_type": "code",
      "execution_count": null,
      "metadata": {
        "colab": {
          "base_uri": "https://localhost:8080/"
        },
        "outputId": "72bf267f-8f58-4d53-db70-e7d90c9a2f15",
        "id": "tmJ4rIw9v1EB"
      },
      "outputs": [
        {
          "output_type": "stream",
          "name": "stdout",
          "text": [
            "183/183 [==============================] - 19s 98ms/step - loss: 0.3558 - auc: 0.7945 - accuracy: 0.8588\n",
            "[0.35584476590156555, 0.7945382595062256, 0.8588083982467651]\n"
          ]
        }
      ],
      "source": [
        "results = model.evaluate(test_data)\n",
        "print(results)\n",
        "\n",
        "results_pkl = open('/content/gdrive/MyDrive/Dense Experiments/Results/{}.pkl'.format(NAME), 'wb')\n",
        "pickle.dump(results, results_pkl)"
      ]
    },
    {
      "cell_type": "code",
      "source": [
        "results_pkl = open('/content/gdrive/MyDrive/Dense Experiments/Results/{}.pkl'.format(NAME), 'wb')\n",
        "pickle.dump(results, results_pkl)"
      ],
      "metadata": {
        "id": "mdzu4Py8v1EB"
      },
      "execution_count": null,
      "outputs": []
    },
    {
      "cell_type": "markdown",
      "metadata": {
        "id": "JPYjQUzKv1EB"
      },
      "source": [
        "#### D = 6"
      ]
    },
    {
      "cell_type": "code",
      "execution_count": null,
      "metadata": {
        "id": "VY9_Mb0kv1EB"
      },
      "outputs": [],
      "source": [
        "NAME = \"N1024-L2-D6\"\n",
        "keras.backend.clear_session()"
      ]
    },
    {
      "cell_type": "code",
      "execution_count": null,
      "metadata": {
        "colab": {
          "base_uri": "https://localhost:8080/"
        },
        "outputId": "790acdf0-cbd0-4cb3-eb38-6b2bc5454e0d",
        "id": "lN9aJtDXv1EB"
      },
      "outputs": [
        {
          "output_type": "stream",
          "name": "stdout",
          "text": [
            "Model: \"sequential\"\n",
            "_________________________________________________________________\n",
            " Layer (type)                Output Shape              Param #   \n",
            "=================================================================\n",
            " conv2d (Conv2D)             (None, 256, 256, 32)      896       \n",
            "                                                                 \n",
            " conv2d_1 (Conv2D)           (None, 128, 128, 32)      9248      \n",
            "                                                                 \n",
            " conv2d_2 (Conv2D)           (None, 64, 64, 64)        18496     \n",
            "                                                                 \n",
            " dropout (Dropout)           (None, 64, 64, 64)        0         \n",
            "                                                                 \n",
            " max_pooling2d (MaxPooling2D  (None, 32, 32, 64)       0         \n",
            " )                                                               \n",
            "                                                                 \n",
            " dense (Dense)               (None, 32, 32, 128)       8320      \n",
            "                                                                 \n",
            " flatten (Flatten)           (None, 131072)            0         \n",
            "                                                                 \n",
            " dense_1 (Dense)             (None, 512)               67109376  \n",
            "                                                                 \n",
            " dense_2 (Dense)             (None, 512)               262656    \n",
            "                                                                 \n",
            " dense_3 (Dense)             (None, 1)                 513       \n",
            "                                                                 \n",
            "=================================================================\n",
            "Total params: 67,409,505\n",
            "Trainable params: 67,409,505\n",
            "Non-trainable params: 0\n",
            "_________________________________________________________________\n"
          ]
        }
      ],
      "source": [
        "ins = image_batch.shape[1:]\n",
        "\n",
        "model = Sequential()\n",
        "\n",
        "model.add(Conv2D(32, (3,3), padding=\"same\", activation=\"relu\", input_shape=ins))\n",
        "\n",
        "model.add(Conv2D(32, (3,3), padding=\"same\", strides = (2,2), activation=\"relu\"))\n",
        "\n",
        "model.add(Conv2D(64, (3,3), padding=\"same\", strides = (2,2), activation=\"relu\"))\n",
        "\n",
        "model.add(Dropout(0.1))\n",
        "\n",
        "model.add(MaxPooling2D(pool_size=(2, 2)))\n",
        "\n",
        "model.add(Dense(128, activation=\"relu\"))\n",
        "\n",
        "model.add(Flatten())\n",
        "\n",
        "model.add(Dense(N, activation=\"relu\"))\n",
        "\n",
        "model.add(Dense(N, activation=\"relu\"))\n",
        "\n",
        "model.add(Dense(1, activation=\"sigmoid\"))\n",
        "\n",
        "model.summary()"
      ]
    },
    {
      "cell_type": "code",
      "execution_count": null,
      "metadata": {
        "id": "6Vy-FbXcv1EB"
      },
      "outputs": [],
      "source": [
        "tensorboard = TensorBoard(log_dir=\"/content/gdrive/MyDrive/Dense Experiments/Logs/{}\".format(NAME))"
      ]
    },
    {
      "cell_type": "code",
      "execution_count": null,
      "metadata": {
        "id": "HM1pQBhxv1EB"
      },
      "outputs": [],
      "source": [
        "model.compile(loss='binary_crossentropy', optimizer=optimizers.Adam(learning_rate=0.00001), metrics=[keras.metrics.AUC(), 'accuracy'])"
      ]
    },
    {
      "cell_type": "code",
      "execution_count": null,
      "metadata": {
        "colab": {
          "base_uri": "https://localhost:8080/"
        },
        "outputId": "6661fb7a-1818-498d-c785-8f49b4735064",
        "id": "FmLgVvbtv1EB"
      },
      "outputs": [
        {
          "output_type": "stream",
          "name": "stdout",
          "text": [
            "Epoch 1/100\n",
            "244/244 [==============================] - 58s 230ms/step - loss: 0.6932 - auc: 0.6147 - accuracy: 0.8302 - val_loss: 0.4832 - val_auc: 0.7743 - val_accuracy: 0.7483\n",
            "Epoch 2/100\n",
            "244/244 [==============================] - 57s 232ms/step - loss: 0.3663 - auc: 0.7511 - accuracy: 0.8563 - val_loss: 0.3514 - val_auc: 0.7723 - val_accuracy: 0.8629\n",
            "Epoch 3/100\n",
            "244/244 [==============================] - 59s 240ms/step - loss: 0.3358 - auc: 0.7918 - accuracy: 0.8649 - val_loss: 0.3679 - val_auc: 0.7896 - val_accuracy: 0.8426\n",
            "Epoch 4/100\n",
            "244/244 [==============================] - 57s 233ms/step - loss: 0.3180 - auc: 0.8147 - accuracy: 0.8736 - val_loss: 0.4065 - val_auc: 0.7421 - val_accuracy: 0.8600\n",
            "Epoch 5/100\n",
            "244/244 [==============================] - 58s 234ms/step - loss: 0.3057 - auc: 0.8327 - accuracy: 0.8786 - val_loss: 0.3948 - val_auc: 0.7989 - val_accuracy: 0.8194\n",
            "Epoch 6/100\n",
            "244/244 [==============================] - 59s 240ms/step - loss: 0.2846 - auc: 0.8545 - accuracy: 0.8892 - val_loss: 0.3250 - val_auc: 0.8104 - val_accuracy: 0.8672\n",
            "Epoch 7/100\n",
            "244/244 [==============================] - 58s 234ms/step - loss: 0.2681 - auc: 0.8720 - accuracy: 0.8959 - val_loss: 0.3730 - val_auc: 0.7819 - val_accuracy: 0.8653\n",
            "Epoch 8/100\n",
            "244/244 [==============================] - 58s 235ms/step - loss: 0.2462 - auc: 0.8934 - accuracy: 0.9054 - val_loss: 0.3925 - val_auc: 0.7645 - val_accuracy: 0.8665\n",
            "Epoch 9/100\n",
            "244/244 [==============================] - 58s 236ms/step - loss: 0.2250 - auc: 0.9108 - accuracy: 0.9158 - val_loss: 0.3571 - val_auc: 0.7927 - val_accuracy: 0.8619\n",
            "Epoch 10/100\n",
            "244/244 [==============================] - 58s 234ms/step - loss: 0.2218 - auc: 0.9131 - accuracy: 0.9154 - val_loss: 0.4539 - val_auc: 0.7483 - val_accuracy: 0.8660\n",
            "Epoch 11/100\n",
            "243/244 [============================>.] - ETA: 0s - loss: 0.2001 - auc: 0.9288 - accuracy: 0.9272Restoring model weights from the end of the best epoch: 6.\n",
            "244/244 [==============================] - 58s 235ms/step - loss: 0.2001 - auc: 0.9288 - accuracy: 0.9272 - val_loss: 0.3570 - val_auc: 0.7963 - val_accuracy: 0.8721\n",
            "Epoch 11: early stopping\n"
          ]
        }
      ],
      "source": [
        "run_hist = model.fit(train_data, validation_data=val_data, epochs=100, \n",
        "  callbacks=[tensorboard,\n",
        "              keras.callbacks.EarlyStopping(\n",
        "                  monitor=\"val_auc\",\n",
        "                  min_delta=0,\n",
        "                  patience=5,\n",
        "                  verbose=1,\n",
        "                  mode=\"auto\",\n",
        "                  baseline=None,\n",
        "                  restore_best_weights=True,\n",
        "              )])"
      ]
    },
    {
      "cell_type": "code",
      "execution_count": null,
      "metadata": {
        "colab": {
          "base_uri": "https://localhost:8080/"
        },
        "outputId": "5c9718b8-2946-46b3-de37-c1255a2784c4",
        "id": "EtvEcbZPv1EB"
      },
      "outputs": [
        {
          "output_type": "stream",
          "name": "stdout",
          "text": [
            "183/183 [==============================] - 19s 99ms/step - loss: 0.3342 - auc: 0.7975 - accuracy: 0.8658\n",
            "[0.334225594997406, 0.7974523305892944, 0.8658379912376404]\n"
          ]
        }
      ],
      "source": [
        "results = model.evaluate(test_data)\n",
        "print(results)\n",
        "\n",
        "results_pkl = open('/content/gdrive/MyDrive/Dense Experiments/Results/{}.pkl'.format(NAME), 'wb')\n",
        "pickle.dump(results, results_pkl)"
      ]
    },
    {
      "cell_type": "code",
      "source": [
        "results_pkl = open('/content/gdrive/MyDrive/Dense Experiments/Results/{}.pkl'.format(NAME), 'wb')\n",
        "pickle.dump(results, results_pkl)"
      ],
      "metadata": {
        "id": "q-w_Etxlv1EC"
      },
      "execution_count": null,
      "outputs": []
    },
    {
      "cell_type": "markdown",
      "metadata": {
        "id": "c8GDLNtBv1EC"
      },
      "source": [
        "### L = 3"
      ]
    },
    {
      "cell_type": "markdown",
      "metadata": {
        "id": "M1GnzC-Zv1EC"
      },
      "source": [
        "#### D = 0 [OK]"
      ]
    },
    {
      "cell_type": "code",
      "execution_count": null,
      "metadata": {
        "id": "cl8ytG3Hv1EC"
      },
      "outputs": [],
      "source": [
        "NAME = \"N512-L3-D0\"\n",
        "keras.backend.clear_session()"
      ]
    },
    {
      "cell_type": "code",
      "execution_count": null,
      "metadata": {
        "colab": {
          "base_uri": "https://localhost:8080/"
        },
        "outputId": "82f33654-4e11-43ae-c4c3-3155dd81876c",
        "id": "4-Kh__-Gv1EC"
      },
      "outputs": [
        {
          "output_type": "stream",
          "name": "stdout",
          "text": [
            "Model: \"sequential\"\n",
            "_________________________________________________________________\n",
            " Layer (type)                Output Shape              Param #   \n",
            "=================================================================\n",
            " conv2d (Conv2D)             (None, 256, 256, 32)      896       \n",
            "                                                                 \n",
            " conv2d_1 (Conv2D)           (None, 128, 128, 32)      9248      \n",
            "                                                                 \n",
            " conv2d_2 (Conv2D)           (None, 64, 64, 64)        18496     \n",
            "                                                                 \n",
            " max_pooling2d (MaxPooling2D  (None, 32, 32, 64)       0         \n",
            " )                                                               \n",
            "                                                                 \n",
            " dense (Dense)               (None, 32, 32, 128)       8320      \n",
            "                                                                 \n",
            " flatten (Flatten)           (None, 131072)            0         \n",
            "                                                                 \n",
            " dense_1 (Dense)             (None, 512)               67109376  \n",
            "                                                                 \n",
            " dense_2 (Dense)             (None, 512)               262656    \n",
            "                                                                 \n",
            " dense_3 (Dense)             (None, 512)               262656    \n",
            "                                                                 \n",
            " dense_4 (Dense)             (None, 1)                 513       \n",
            "                                                                 \n",
            "=================================================================\n",
            "Total params: 67,672,161\n",
            "Trainable params: 67,672,161\n",
            "Non-trainable params: 0\n",
            "_________________________________________________________________\n"
          ]
        }
      ],
      "source": [
        "ins = image_batch.shape[1:]\n",
        "\n",
        "model = Sequential()\n",
        "\n",
        "model.add(Conv2D(32, (3,3), padding=\"same\", activation=\"relu\", input_shape=ins))\n",
        "\n",
        "model.add(Conv2D(32, (3,3), padding=\"same\", strides = (2,2), activation=\"relu\"))\n",
        "\n",
        "model.add(Conv2D(64, (3,3), padding=\"same\", strides = (2,2), activation=\"relu\"))\n",
        "\n",
        "model.add(MaxPooling2D(pool_size=(2, 2)))\n",
        "\n",
        "model.add(Dense(128, activation=\"relu\"))\n",
        "\n",
        "model.add(Flatten())\n",
        "\n",
        "model.add(Dense(N, activation=\"relu\"))\n",
        "\n",
        "model.add(Dense(N, activation=\"relu\"))\n",
        "\n",
        "model.add(Dense(N, activation=\"relu\"))\n",
        "\n",
        "model.add(Dense(1, activation=\"sigmoid\"))\n",
        "\n",
        "model.summary()"
      ]
    },
    {
      "cell_type": "code",
      "execution_count": null,
      "metadata": {
        "id": "gKZ1a9hnv1EC"
      },
      "outputs": [],
      "source": [
        "tensorboard = TensorBoard(log_dir=\"/content/gdrive/MyDrive/Dense Experiments/Logs/{}\".format(NAME))"
      ]
    },
    {
      "cell_type": "code",
      "execution_count": null,
      "metadata": {
        "id": "1EjfQ5mgv1EC"
      },
      "outputs": [],
      "source": [
        "model.compile(loss='binary_crossentropy', optimizer=optimizers.Adam(learning_rate=0.00001), metrics=[keras.metrics.AUC(), 'accuracy'])"
      ]
    },
    {
      "cell_type": "code",
      "execution_count": null,
      "metadata": {
        "colab": {
          "base_uri": "https://localhost:8080/"
        },
        "outputId": "791943d3-6f85-4d9a-80fc-12d905067617",
        "id": "kxcF_xqjv1EC"
      },
      "outputs": [
        {
          "output_type": "stream",
          "name": "stdout",
          "text": [
            "Epoch 1/100\n",
            "244/244 [==============================] - 82s 271ms/step - loss: 0.4950 - auc: 0.6255 - accuracy: 0.8388 - val_loss: 0.3647 - val_auc: 0.7815 - val_accuracy: 0.8547\n",
            "Epoch 2/100\n",
            "244/244 [==============================] - 58s 235ms/step - loss: 0.3629 - auc: 0.7516 - accuracy: 0.8538 - val_loss: 0.4011 - val_auc: 0.7598 - val_accuracy: 0.8590\n",
            "Epoch 3/100\n",
            "244/244 [==============================] - 58s 234ms/step - loss: 0.3329 - auc: 0.7943 - accuracy: 0.8671 - val_loss: 0.3958 - val_auc: 0.8017 - val_accuracy: 0.8101\n",
            "Epoch 4/100\n",
            "244/244 [==============================] - 58s 235ms/step - loss: 0.3126 - auc: 0.8211 - accuracy: 0.8768 - val_loss: 0.3360 - val_auc: 0.7933 - val_accuracy: 0.8687\n",
            "Epoch 5/100\n",
            "244/244 [==============================] - 58s 237ms/step - loss: 0.3043 - auc: 0.8324 - accuracy: 0.8788 - val_loss: 0.4370 - val_auc: 0.8063 - val_accuracy: 0.7816\n",
            "Epoch 6/100\n",
            "244/244 [==============================] - 58s 234ms/step - loss: 0.2926 - auc: 0.8491 - accuracy: 0.8847 - val_loss: 0.3216 - val_auc: 0.8125 - val_accuracy: 0.8757\n",
            "Epoch 7/100\n",
            "244/244 [==============================] - 60s 241ms/step - loss: 0.2728 - auc: 0.8666 - accuracy: 0.8923 - val_loss: 0.3344 - val_auc: 0.8122 - val_accuracy: 0.8653\n",
            "Epoch 8/100\n",
            "244/244 [==============================] - 58s 236ms/step - loss: 0.2425 - auc: 0.8996 - accuracy: 0.9063 - val_loss: 0.3569 - val_auc: 0.7956 - val_accuracy: 0.8727\n",
            "Epoch 9/100\n",
            "244/244 [==============================] - 58s 235ms/step - loss: 0.2266 - auc: 0.9097 - accuracy: 0.9155 - val_loss: 0.4666 - val_auc: 0.8092 - val_accuracy: 0.7758\n",
            "Epoch 10/100\n",
            "244/244 [==============================] - 58s 234ms/step - loss: 0.2144 - auc: 0.9192 - accuracy: 0.9184 - val_loss: 0.3903 - val_auc: 0.7861 - val_accuracy: 0.8732\n",
            "Epoch 11/100\n",
            "243/244 [============================>.] - ETA: 0s - loss: 0.1838 - auc: 0.9395 - accuracy: 0.9333Restoring model weights from the end of the best epoch: 6.\n",
            "244/244 [==============================] - 58s 236ms/step - loss: 0.1837 - auc: 0.9396 - accuracy: 0.9333 - val_loss: 0.4209 - val_auc: 0.7763 - val_accuracy: 0.8734\n",
            "Epoch 11: early stopping\n"
          ]
        }
      ],
      "source": [
        "run_hist = model.fit(train_data, validation_data=val_data, epochs=100, \n",
        "  callbacks=[tensorboard,\n",
        "              keras.callbacks.EarlyStopping(\n",
        "                  monitor=\"val_auc\",\n",
        "                  min_delta=0,\n",
        "                  patience=5,\n",
        "                  verbose=1,\n",
        "                  mode=\"auto\",\n",
        "                  baseline=None,\n",
        "                  restore_best_weights=True,\n",
        "              )])"
      ]
    },
    {
      "cell_type": "code",
      "execution_count": null,
      "metadata": {
        "colab": {
          "base_uri": "https://localhost:8080/"
        },
        "outputId": "2ff42dbe-3056-4956-c80d-90109e8e37ff",
        "id": "nRRxgDvAv1EC"
      },
      "outputs": [
        {
          "output_type": "stream",
          "name": "stdout",
          "text": [
            "183/183 [==============================] - 21s 112ms/step - loss: 0.3268 - auc: 0.8064 - accuracy: 0.8709\n",
            "[0.32677069306373596, 0.8063855171203613, 0.8708958625793457]\n"
          ]
        }
      ],
      "source": [
        "results = model.evaluate(test_data)\n",
        "print(results)\n",
        "\n",
        "results_pkl = open('/content/gdrive/MyDrive/Dense Experiments/Results/{}.pkl'.format(NAME), 'wb')\n",
        "pickle.dump(results, results_pkl)"
      ]
    },
    {
      "cell_type": "code",
      "source": [
        "results_pkl = open('/content/gdrive/MyDrive/Dense Experiments/Results/{}.pkl'.format(NAME), 'wb')\n",
        "pickle.dump(results, results_pkl)"
      ],
      "metadata": {
        "id": "4qFZpja8v1EC"
      },
      "execution_count": null,
      "outputs": []
    },
    {
      "cell_type": "markdown",
      "metadata": {
        "id": "ddbZdW_jv1EC"
      },
      "source": [
        "#### D = 1 [OK]"
      ]
    },
    {
      "cell_type": "code",
      "execution_count": null,
      "metadata": {
        "id": "7Vosk-9av1EC"
      },
      "outputs": [],
      "source": [
        "NAME = \"N512-L3-D1\"\n",
        "keras.backend.clear_session()"
      ]
    },
    {
      "cell_type": "code",
      "execution_count": null,
      "metadata": {
        "colab": {
          "base_uri": "https://localhost:8080/"
        },
        "outputId": "327aa36f-c70f-4361-9c07-7eeda14004a3",
        "id": "xjldWtCQv1EC"
      },
      "outputs": [
        {
          "output_type": "stream",
          "name": "stdout",
          "text": [
            "Model: \"sequential\"\n",
            "_________________________________________________________________\n",
            " Layer (type)                Output Shape              Param #   \n",
            "=================================================================\n",
            " conv2d (Conv2D)             (None, 256, 256, 32)      896       \n",
            "                                                                 \n",
            " dropout (Dropout)           (None, 256, 256, 32)      0         \n",
            "                                                                 \n",
            " conv2d_1 (Conv2D)           (None, 128, 128, 32)      9248      \n",
            "                                                                 \n",
            " dropout_1 (Dropout)         (None, 128, 128, 32)      0         \n",
            "                                                                 \n",
            " conv2d_2 (Conv2D)           (None, 64, 64, 64)        18496     \n",
            "                                                                 \n",
            " dropout_2 (Dropout)         (None, 64, 64, 64)        0         \n",
            "                                                                 \n",
            " max_pooling2d (MaxPooling2D  (None, 32, 32, 64)       0         \n",
            " )                                                               \n",
            "                                                                 \n",
            " dense (Dense)               (None, 32, 32, 128)       8320      \n",
            "                                                                 \n",
            " flatten (Flatten)           (None, 131072)            0         \n",
            "                                                                 \n",
            " dense_1 (Dense)             (None, 512)               67109376  \n",
            "                                                                 \n",
            " dropout_3 (Dropout)         (None, 512)               0         \n",
            "                                                                 \n",
            " dense_2 (Dense)             (None, 512)               262656    \n",
            "                                                                 \n",
            " dropout_4 (Dropout)         (None, 512)               0         \n",
            "                                                                 \n",
            " dense_3 (Dense)             (None, 512)               262656    \n",
            "                                                                 \n",
            " dropout_5 (Dropout)         (None, 512)               0         \n",
            "                                                                 \n",
            " dense_4 (Dense)             (None, 1)                 513       \n",
            "                                                                 \n",
            "=================================================================\n",
            "Total params: 67,672,161\n",
            "Trainable params: 67,672,161\n",
            "Non-trainable params: 0\n",
            "_________________________________________________________________\n"
          ]
        }
      ],
      "source": [
        "ins = image_batch.shape[1:]\n",
        "\n",
        "model = Sequential()\n",
        "\n",
        "model.add(Conv2D(32, (3,3), padding=\"same\", activation=\"relu\", input_shape=ins))\n",
        "\n",
        "model.add(Dropout(0.1))\n",
        "\n",
        "model.add(Conv2D(32, (3,3), padding=\"same\", strides = (2,2), activation=\"relu\"))\n",
        "\n",
        "model.add(Dropout(0.1))\n",
        "\n",
        "model.add(Conv2D(64, (3,3), padding=\"same\", strides = (2,2), activation=\"relu\"))\n",
        "\n",
        "model.add(Dropout(0.1))\n",
        "\n",
        "model.add(MaxPooling2D(pool_size=(2, 2)))\n",
        "\n",
        "model.add(Dense(128, activation=\"relu\"))\n",
        "\n",
        "model.add(Flatten())\n",
        "\n",
        "model.add(Dense(N, activation=\"relu\"))\n",
        "\n",
        "model.add(Dropout(0.5))\n",
        "\n",
        "model.add(Dense(N, activation=\"relu\"))\n",
        "\n",
        "model.add(Dropout(0.5))\n",
        "\n",
        "model.add(Dense(N, activation=\"relu\"))\n",
        "\n",
        "model.add(Dropout(0.5))\n",
        "\n",
        "model.add(Dense(1, activation=\"sigmoid\"))\n",
        "\n",
        "model.summary()"
      ]
    },
    {
      "cell_type": "code",
      "execution_count": null,
      "metadata": {
        "id": "S5kgThKmv1EC"
      },
      "outputs": [],
      "source": [
        "tensorboard = TensorBoard(log_dir=\"/content/gdrive/MyDrive/Dense Experiments/Logs/{}\".format(NAME))"
      ]
    },
    {
      "cell_type": "code",
      "execution_count": null,
      "metadata": {
        "id": "JFhMZ4Vjv1EC"
      },
      "outputs": [],
      "source": [
        "model.compile(loss='binary_crossentropy', optimizer=optimizers.Adam(learning_rate=0.00001), metrics=[keras.metrics.AUC(), 'accuracy'])"
      ]
    },
    {
      "cell_type": "code",
      "execution_count": null,
      "metadata": {
        "colab": {
          "base_uri": "https://localhost:8080/"
        },
        "outputId": "5fcb7d5b-8c63-4999-dfdb-a2c079dc1438",
        "id": "tu4ESNKyv1EC"
      },
      "outputs": [
        {
          "output_type": "stream",
          "name": "stdout",
          "text": [
            "Epoch 1/100\n",
            "244/244 [==============================] - 73s 285ms/step - loss: 1.2899 - auc: 0.5270 - accuracy: 0.7536 - val_loss: 0.4853 - val_auc: 0.6803 - val_accuracy: 0.8572\n",
            "Epoch 2/100\n",
            "244/244 [==============================] - 69s 281ms/step - loss: 0.5127 - auc: 0.5970 - accuracy: 0.8058 - val_loss: 0.3840 - val_auc: 0.7371 - val_accuracy: 0.8581\n",
            "Epoch 3/100\n",
            "244/244 [==============================] - 68s 277ms/step - loss: 0.4625 - auc: 0.6441 - accuracy: 0.8381 - val_loss: 0.3976 - val_auc: 0.7437 - val_accuracy: 0.8581\n",
            "Epoch 4/100\n",
            "244/244 [==============================] - 68s 276ms/step - loss: 0.4470 - auc: 0.6571 - accuracy: 0.8468 - val_loss: 0.3746 - val_auc: 0.7522 - val_accuracy: 0.8581\n",
            "Epoch 5/100\n",
            "244/244 [==============================] - 68s 276ms/step - loss: 0.4334 - auc: 0.6735 - accuracy: 0.8501 - val_loss: 0.3636 - val_auc: 0.7686 - val_accuracy: 0.8581\n",
            "Epoch 6/100\n",
            "244/244 [==============================] - 68s 277ms/step - loss: 0.4182 - auc: 0.6884 - accuracy: 0.8538 - val_loss: 0.3625 - val_auc: 0.7694 - val_accuracy: 0.8581\n",
            "Epoch 7/100\n",
            "244/244 [==============================] - 68s 275ms/step - loss: 0.4216 - auc: 0.6881 - accuracy: 0.8557 - val_loss: 0.3590 - val_auc: 0.7620 - val_accuracy: 0.8581\n",
            "Epoch 8/100\n",
            "244/244 [==============================] - 68s 276ms/step - loss: 0.4226 - auc: 0.6871 - accuracy: 0.8561 - val_loss: 0.3540 - val_auc: 0.7815 - val_accuracy: 0.8581\n",
            "Epoch 9/100\n",
            "244/244 [==============================] - 68s 275ms/step - loss: 0.4017 - auc: 0.7085 - accuracy: 0.8578 - val_loss: 0.3816 - val_auc: 0.7612 - val_accuracy: 0.8581\n",
            "Epoch 10/100\n",
            "244/244 [==============================] - 67s 274ms/step - loss: 0.4085 - auc: 0.7023 - accuracy: 0.8568 - val_loss: 0.3642 - val_auc: 0.7739 - val_accuracy: 0.8581\n",
            "Epoch 11/100\n",
            "244/244 [==============================] - 68s 275ms/step - loss: 0.3989 - auc: 0.7111 - accuracy: 0.8581 - val_loss: 0.3475 - val_auc: 0.7857 - val_accuracy: 0.8581\n",
            "Epoch 12/100\n",
            "244/244 [==============================] - 69s 280ms/step - loss: 0.3865 - auc: 0.7235 - accuracy: 0.8588 - val_loss: 0.3530 - val_auc: 0.7839 - val_accuracy: 0.8581\n",
            "Epoch 13/100\n",
            "244/244 [==============================] - 69s 281ms/step - loss: 0.3863 - auc: 0.7224 - accuracy: 0.8590 - val_loss: 0.3605 - val_auc: 0.7808 - val_accuracy: 0.8581\n",
            "Epoch 14/100\n",
            "244/244 [==============================] - 69s 279ms/step - loss: 0.3924 - auc: 0.7080 - accuracy: 0.8585 - val_loss: 0.3707 - val_auc: 0.7738 - val_accuracy: 0.8581\n",
            "Epoch 15/100\n",
            "244/244 [==============================] - 68s 275ms/step - loss: 0.3853 - auc: 0.7205 - accuracy: 0.8588 - val_loss: 0.3574 - val_auc: 0.7816 - val_accuracy: 0.8581\n",
            "Epoch 16/100\n",
            "243/244 [============================>.] - ETA: 0s - loss: 0.3837 - auc: 0.7245 - accuracy: 0.8591Restoring model weights from the end of the best epoch: 11.\n",
            "244/244 [==============================] - 68s 275ms/step - loss: 0.3837 - auc: 0.7245 - accuracy: 0.8591 - val_loss: 0.3544 - val_auc: 0.7846 - val_accuracy: 0.8581\n",
            "Epoch 16: early stopping\n"
          ]
        }
      ],
      "source": [
        "run_hist = model.fit(train_data, validation_data=val_data, epochs=100, \n",
        "  callbacks=[tensorboard,\n",
        "              keras.callbacks.EarlyStopping(\n",
        "                  monitor=\"val_auc\",\n",
        "                  min_delta=0,\n",
        "                  patience=5,\n",
        "                  verbose=1,\n",
        "                  mode=\"auto\",\n",
        "                  baseline=None,\n",
        "                  restore_best_weights=True,\n",
        "              )])"
      ]
    },
    {
      "cell_type": "code",
      "execution_count": null,
      "metadata": {
        "colab": {
          "base_uri": "https://localhost:8080/"
        },
        "outputId": "e14f4f14-8592-4d87-8baa-7d51c53e176e",
        "id": "viji8LMLv1EC"
      },
      "outputs": [
        {
          "output_type": "stream",
          "name": "stdout",
          "text": [
            "183/183 [==============================] - 19s 99ms/step - loss: 0.3557 - auc: 0.7686 - accuracy: 0.8592\n",
            "[0.35566288232803345, 0.7686297297477722, 0.859151303768158]\n"
          ]
        }
      ],
      "source": [
        "results = model.evaluate(test_data)\n",
        "print(results)\n",
        "\n",
        "results_pkl = open('/content/gdrive/MyDrive/Dense Experiments/Results/{}.pkl'.format(NAME), 'wb')\n",
        "pickle.dump(results, results_pkl)"
      ]
    },
    {
      "cell_type": "code",
      "source": [
        "results_pkl = open('/content/gdrive/MyDrive/Dense Experiments/Results/{}.pkl'.format(NAME), 'wb')\n",
        "pickle.dump(results, results_pkl)"
      ],
      "metadata": {
        "id": "D6yujHNDv1EC"
      },
      "execution_count": null,
      "outputs": []
    },
    {
      "cell_type": "markdown",
      "metadata": {
        "id": "pb_slymjv1EC"
      },
      "source": [
        "#### D = 2 [OK]"
      ]
    },
    {
      "cell_type": "code",
      "execution_count": null,
      "metadata": {
        "id": "Rudh9_m_v1EC"
      },
      "outputs": [],
      "source": [
        "NAME = \"N512-L3-D2\"\n",
        "keras.backend.clear_session()"
      ]
    },
    {
      "cell_type": "code",
      "execution_count": null,
      "metadata": {
        "colab": {
          "base_uri": "https://localhost:8080/"
        },
        "outputId": "2b204c86-7efd-43bd-dd94-85ff7abe438c",
        "id": "BZ7iH1LQv1EC"
      },
      "outputs": [
        {
          "output_type": "stream",
          "name": "stdout",
          "text": [
            "Model: \"sequential\"\n",
            "_________________________________________________________________\n",
            " Layer (type)                Output Shape              Param #   \n",
            "=================================================================\n",
            " conv2d (Conv2D)             (None, 256, 256, 32)      896       \n",
            "                                                                 \n",
            " conv2d_1 (Conv2D)           (None, 128, 128, 32)      9248      \n",
            "                                                                 \n",
            " conv2d_2 (Conv2D)           (None, 64, 64, 64)        18496     \n",
            "                                                                 \n",
            " dropout (Dropout)           (None, 64, 64, 64)        0         \n",
            "                                                                 \n",
            " max_pooling2d (MaxPooling2D  (None, 32, 32, 64)       0         \n",
            " )                                                               \n",
            "                                                                 \n",
            " dense (Dense)               (None, 32, 32, 128)       8320      \n",
            "                                                                 \n",
            " flatten (Flatten)           (None, 131072)            0         \n",
            "                                                                 \n",
            " dense_1 (Dense)             (None, 512)               67109376  \n",
            "                                                                 \n",
            " dense_2 (Dense)             (None, 512)               262656    \n",
            "                                                                 \n",
            " dense_3 (Dense)             (None, 512)               262656    \n",
            "                                                                 \n",
            " dropout_1 (Dropout)         (None, 512)               0         \n",
            "                                                                 \n",
            " dense_4 (Dense)             (None, 1)                 513       \n",
            "                                                                 \n",
            "=================================================================\n",
            "Total params: 67,672,161\n",
            "Trainable params: 67,672,161\n",
            "Non-trainable params: 0\n",
            "_________________________________________________________________\n"
          ]
        }
      ],
      "source": [
        "ins = image_batch.shape[1:]\n",
        "\n",
        "model = Sequential()\n",
        "\n",
        "model.add(Conv2D(32, (3,3), padding=\"same\", activation=\"relu\", input_shape=ins))\n",
        "\n",
        "model.add(Conv2D(32, (3,3), padding=\"same\", strides = (2,2), activation=\"relu\"))\n",
        "\n",
        "model.add(Conv2D(64, (3,3), padding=\"same\", strides = (2,2), activation=\"relu\"))\n",
        "\n",
        "model.add(Dropout(0.1))\n",
        "\n",
        "model.add(MaxPooling2D(pool_size=(2, 2)))\n",
        "\n",
        "model.add(Dense(128, activation=\"relu\"))\n",
        "\n",
        "model.add(Flatten())\n",
        "\n",
        "model.add(Dense(N, activation=\"relu\"))\n",
        "\n",
        "model.add(Dense(N, activation=\"relu\"))\n",
        "\n",
        "model.add(Dense(N, activation=\"relu\"))\n",
        "\n",
        "model.add(Dropout(0.5))\n",
        "\n",
        "model.add(Dense(1, activation=\"sigmoid\"))\n",
        "\n",
        "model.summary()"
      ]
    },
    {
      "cell_type": "code",
      "execution_count": null,
      "metadata": {
        "id": "tpc62Vt4v1ED"
      },
      "outputs": [],
      "source": [
        "tensorboard = TensorBoard(log_dir=\"/content/gdrive/MyDrive/Dense Experiments/Logs/{}\".format(NAME))"
      ]
    },
    {
      "cell_type": "code",
      "execution_count": null,
      "metadata": {
        "id": "SXvOiovgv1ED"
      },
      "outputs": [],
      "source": [
        "model.compile(loss='binary_crossentropy', optimizer=optimizers.Adam(learning_rate=0.00001), metrics=[keras.metrics.AUC(), 'accuracy'])"
      ]
    },
    {
      "cell_type": "code",
      "execution_count": null,
      "metadata": {
        "colab": {
          "base_uri": "https://localhost:8080/"
        },
        "outputId": "03c63714-fb79-42bd-adb0-7bd0721e9fa8",
        "id": "ay6ZfhNav1ED"
      },
      "outputs": [
        {
          "output_type": "stream",
          "name": "stdout",
          "text": [
            "Epoch 1/100\n",
            "244/244 [==============================] - 61s 243ms/step - loss: 0.5247 - auc: 0.5750 - accuracy: 0.8338 - val_loss: 0.3768 - val_auc: 0.6819 - val_accuracy: 0.8581\n",
            "Epoch 2/100\n",
            "244/244 [==============================] - 59s 239ms/step - loss: 0.3694 - auc: 0.7259 - accuracy: 0.8568 - val_loss: 0.3423 - val_auc: 0.7890 - val_accuracy: 0.8581\n",
            "Epoch 3/100\n",
            "244/244 [==============================] - 59s 240ms/step - loss: 0.3455 - auc: 0.7719 - accuracy: 0.8614 - val_loss: 0.3421 - val_auc: 0.7911 - val_accuracy: 0.8583\n",
            "Epoch 4/100\n",
            "244/244 [==============================] - 59s 237ms/step - loss: 0.3344 - auc: 0.7917 - accuracy: 0.8646 - val_loss: 0.3358 - val_auc: 0.8039 - val_accuracy: 0.8669\n",
            "Epoch 5/100\n",
            "244/244 [==============================] - 59s 238ms/step - loss: 0.3200 - auc: 0.8150 - accuracy: 0.8685 - val_loss: 0.3267 - val_auc: 0.8113 - val_accuracy: 0.8650\n",
            "Epoch 6/100\n",
            "244/244 [==============================] - 59s 239ms/step - loss: 0.3018 - auc: 0.8401 - accuracy: 0.8784 - val_loss: 0.3255 - val_auc: 0.8173 - val_accuracy: 0.8732\n",
            "Epoch 7/100\n",
            "244/244 [==============================] - 67s 274ms/step - loss: 0.2876 - auc: 0.8551 - accuracy: 0.8870 - val_loss: 0.3213 - val_auc: 0.8121 - val_accuracy: 0.8755\n",
            "Epoch 8/100\n",
            "244/244 [==============================] - 59s 238ms/step - loss: 0.2712 - auc: 0.8708 - accuracy: 0.8946 - val_loss: 0.3168 - val_auc: 0.8194 - val_accuracy: 0.8745\n",
            "Epoch 9/100\n",
            "244/244 [==============================] - 59s 238ms/step - loss: 0.2484 - auc: 0.8934 - accuracy: 0.9051 - val_loss: 0.3291 - val_auc: 0.8095 - val_accuracy: 0.8768\n",
            "Epoch 10/100\n",
            "244/244 [==============================] - 59s 239ms/step - loss: 0.2261 - auc: 0.9126 - accuracy: 0.9137 - val_loss: 0.3169 - val_auc: 0.8194 - val_accuracy: 0.8761\n",
            "Epoch 11/100\n",
            "244/244 [==============================] - 59s 240ms/step - loss: 0.2099 - auc: 0.9234 - accuracy: 0.9221 - val_loss: 0.3587 - val_auc: 0.8217 - val_accuracy: 0.8415\n",
            "Epoch 12/100\n",
            "244/244 [==============================] - 60s 244ms/step - loss: 0.1868 - auc: 0.9395 - accuracy: 0.9330 - val_loss: 0.3430 - val_auc: 0.8255 - val_accuracy: 0.8573\n",
            "Epoch 13/100\n",
            "244/244 [==============================] - 59s 240ms/step - loss: 0.1773 - auc: 0.9449 - accuracy: 0.9372 - val_loss: 0.3385 - val_auc: 0.8068 - val_accuracy: 0.8826\n",
            "Epoch 14/100\n",
            "244/244 [==============================] - 59s 239ms/step - loss: 0.1676 - auc: 0.9500 - accuracy: 0.9421 - val_loss: 0.3473 - val_auc: 0.8051 - val_accuracy: 0.8816\n",
            "Epoch 15/100\n",
            "244/244 [==============================] - 59s 241ms/step - loss: 0.1480 - auc: 0.9613 - accuracy: 0.9495 - val_loss: 0.3547 - val_auc: 0.8020 - val_accuracy: 0.8817\n",
            "Epoch 16/100\n",
            "244/244 [==============================] - 60s 242ms/step - loss: 0.1316 - auc: 0.9678 - accuracy: 0.9567 - val_loss: 0.3551 - val_auc: 0.8074 - val_accuracy: 0.8789\n",
            "Epoch 17/100\n",
            "243/244 [============================>.] - ETA: 0s - loss: 0.1196 - auc: 0.9717 - accuracy: 0.9628Restoring model weights from the end of the best epoch: 12.\n",
            "244/244 [==============================] - 59s 240ms/step - loss: 0.1195 - auc: 0.9717 - accuracy: 0.9628 - val_loss: 0.3802 - val_auc: 0.7927 - val_accuracy: 0.8797\n",
            "Epoch 17: early stopping\n"
          ]
        }
      ],
      "source": [
        "run_hist = model.fit(train_data, validation_data=val_data, epochs=100, \n",
        "  callbacks=[tensorboard,\n",
        "              keras.callbacks.EarlyStopping(\n",
        "                  monitor=\"val_auc\",\n",
        "                  min_delta=0,\n",
        "                  patience=5,\n",
        "                  verbose=1,\n",
        "                  mode=\"auto\",\n",
        "                  baseline=None,\n",
        "                  restore_best_weights=True,\n",
        "              )])"
      ]
    },
    {
      "cell_type": "code",
      "execution_count": null,
      "metadata": {
        "colab": {
          "base_uri": "https://localhost:8080/"
        },
        "outputId": "ae07c7d2-27cd-4002-81a6-286a08e8ca42",
        "id": "IJ4QEXP3v1ED"
      },
      "outputs": [
        {
          "output_type": "stream",
          "name": "stdout",
          "text": [
            "183/183 [==============================] - 19s 99ms/step - loss: 0.3521 - auc: 0.8189 - accuracy: 0.8541\n",
            "[0.35206112265586853, 0.8188831210136414, 0.8540934324264526]\n"
          ]
        }
      ],
      "source": [
        "results = model.evaluate(test_data)\n",
        "print(results)\n",
        "\n",
        "results_pkl = open('/content/gdrive/MyDrive/Dense Experiments/Results/{}.pkl'.format(NAME), 'wb')\n",
        "pickle.dump(results, results_pkl)"
      ]
    },
    {
      "cell_type": "code",
      "source": [
        "results_pkl = open('/content/gdrive/MyDrive/Dense Experiments/Results/{}.pkl'.format(NAME), 'wb')\n",
        "pickle.dump(results, results_pkl)"
      ],
      "metadata": {
        "id": "pSzDIVx5v1ED"
      },
      "execution_count": null,
      "outputs": []
    },
    {
      "cell_type": "markdown",
      "metadata": {
        "id": "NpPabq6Ev1ED"
      },
      "source": [
        "#### D = 3 [OK]"
      ]
    },
    {
      "cell_type": "code",
      "execution_count": null,
      "metadata": {
        "id": "KhDwW-C7v1ED"
      },
      "outputs": [],
      "source": [
        "NAME = \"N512-L3-D3\"\n",
        "keras.backend.clear_session()"
      ]
    },
    {
      "cell_type": "code",
      "execution_count": null,
      "metadata": {
        "colab": {
          "base_uri": "https://localhost:8080/"
        },
        "outputId": "95bc02e3-78db-4b10-9b04-d0530ead3551",
        "id": "mx8qNUYvv1ED"
      },
      "outputs": [
        {
          "output_type": "stream",
          "name": "stdout",
          "text": [
            "Model: \"sequential\"\n",
            "_________________________________________________________________\n",
            " Layer (type)                Output Shape              Param #   \n",
            "=================================================================\n",
            " conv2d (Conv2D)             (None, 256, 256, 32)      896       \n",
            "                                                                 \n",
            " conv2d_1 (Conv2D)           (None, 128, 128, 32)      9248      \n",
            "                                                                 \n",
            " conv2d_2 (Conv2D)           (None, 64, 64, 64)        18496     \n",
            "                                                                 \n",
            " max_pooling2d (MaxPooling2D  (None, 32, 32, 64)       0         \n",
            " )                                                               \n",
            "                                                                 \n",
            " dense (Dense)               (None, 32, 32, 128)       8320      \n",
            "                                                                 \n",
            " flatten (Flatten)           (None, 131072)            0         \n",
            "                                                                 \n",
            " dense_1 (Dense)             (None, 512)               67109376  \n",
            "                                                                 \n",
            " dropout (Dropout)           (None, 512)               0         \n",
            "                                                                 \n",
            " dense_2 (Dense)             (None, 512)               262656    \n",
            "                                                                 \n",
            " dropout_1 (Dropout)         (None, 512)               0         \n",
            "                                                                 \n",
            " dense_3 (Dense)             (None, 512)               262656    \n",
            "                                                                 \n",
            " dropout_2 (Dropout)         (None, 512)               0         \n",
            "                                                                 \n",
            " dense_4 (Dense)             (None, 1)                 513       \n",
            "                                                                 \n",
            "=================================================================\n",
            "Total params: 67,672,161\n",
            "Trainable params: 67,672,161\n",
            "Non-trainable params: 0\n",
            "_________________________________________________________________\n"
          ]
        }
      ],
      "source": [
        "ins = image_batch.shape[1:]\n",
        "\n",
        "model = Sequential()\n",
        "\n",
        "model.add(Conv2D(32, (3,3), padding=\"same\", activation=\"relu\", input_shape=ins))\n",
        "\n",
        "model.add(Conv2D(32, (3,3), padding=\"same\", strides = (2,2), activation=\"relu\"))\n",
        "\n",
        "model.add(Conv2D(64, (3,3), padding=\"same\", strides = (2,2), activation=\"relu\"))\n",
        "\n",
        "model.add(MaxPooling2D(pool_size=(2, 2)))\n",
        "\n",
        "model.add(Dense(128, activation=\"relu\"))\n",
        "\n",
        "model.add(Flatten())\n",
        "\n",
        "model.add(Dense(N, activation=\"relu\"))\n",
        "\n",
        "model.add(Dropout(0.5))\n",
        "\n",
        "model.add(Dense(N, activation=\"relu\"))\n",
        "\n",
        "model.add(Dropout(0.5))\n",
        "\n",
        "model.add(Dense(N, activation=\"relu\"))\n",
        "\n",
        "model.add(Dropout(0.5))\n",
        "\n",
        "model.add(Dense(1, activation=\"sigmoid\"))\n",
        "\n",
        "model.summary()"
      ]
    },
    {
      "cell_type": "code",
      "execution_count": null,
      "metadata": {
        "id": "bFB7zY9wv1ED"
      },
      "outputs": [],
      "source": [
        "tensorboard = TensorBoard(log_dir=\"/content/gdrive/MyDrive/Dense Experiments/Logs/{}\".format(NAME))"
      ]
    },
    {
      "cell_type": "code",
      "execution_count": null,
      "metadata": {
        "id": "VkEvmFYjv1ED"
      },
      "outputs": [],
      "source": [
        "model.compile(loss='binary_crossentropy', optimizer=optimizers.Adam(learning_rate=0.00001), metrics=[keras.metrics.AUC(), 'accuracy'])"
      ]
    },
    {
      "cell_type": "code",
      "execution_count": null,
      "metadata": {
        "colab": {
          "base_uri": "https://localhost:8080/"
        },
        "outputId": "b5a5e093-113c-4ca9-a0df-16b43c7a4017",
        "id": "U7EzXt8ov1ED"
      },
      "outputs": [
        {
          "output_type": "stream",
          "name": "stdout",
          "text": [
            "Epoch 1/100\n",
            "244/244 [==============================] - 60s 236ms/step - loss: 0.9955 - auc: 0.5359 - accuracy: 0.8093 - val_loss: 0.4081 - val_auc: 0.6047 - val_accuracy: 0.8581\n",
            "Epoch 2/100\n",
            "244/244 [==============================] - 59s 239ms/step - loss: 0.4732 - auc: 0.6126 - accuracy: 0.8352 - val_loss: 0.3691 - val_auc: 0.7494 - val_accuracy: 0.8581\n",
            "Epoch 3/100\n",
            "244/244 [==============================] - 58s 236ms/step - loss: 0.4401 - auc: 0.6620 - accuracy: 0.8480 - val_loss: 0.3574 - val_auc: 0.7579 - val_accuracy: 0.8584\n",
            "Epoch 4/100\n",
            "244/244 [==============================] - 58s 236ms/step - loss: 0.4225 - auc: 0.6808 - accuracy: 0.8540 - val_loss: 0.3731 - val_auc: 0.7602 - val_accuracy: 0.8581\n",
            "Epoch 5/100\n",
            "244/244 [==============================] - 59s 238ms/step - loss: 0.4244 - auc: 0.6834 - accuracy: 0.8552 - val_loss: 0.3516 - val_auc: 0.7687 - val_accuracy: 0.8581\n",
            "Epoch 6/100\n",
            "244/244 [==============================] - 58s 234ms/step - loss: 0.4010 - auc: 0.7096 - accuracy: 0.8559 - val_loss: 0.3521 - val_auc: 0.7691 - val_accuracy: 0.8581\n",
            "Epoch 7/100\n",
            "244/244 [==============================] - 58s 234ms/step - loss: 0.3946 - auc: 0.7145 - accuracy: 0.8563 - val_loss: 0.3522 - val_auc: 0.7680 - val_accuracy: 0.8581\n",
            "Epoch 8/100\n",
            "244/244 [==============================] - 58s 233ms/step - loss: 0.3873 - auc: 0.7269 - accuracy: 0.8591 - val_loss: 0.3468 - val_auc: 0.7765 - val_accuracy: 0.8581\n",
            "Epoch 9/100\n",
            "244/244 [==============================] - 58s 235ms/step - loss: 0.3772 - auc: 0.7385 - accuracy: 0.8589 - val_loss: 0.3530 - val_auc: 0.7823 - val_accuracy: 0.8581\n",
            "Epoch 10/100\n",
            "244/244 [==============================] - 58s 234ms/step - loss: 0.3636 - auc: 0.7550 - accuracy: 0.8588 - val_loss: 0.3460 - val_auc: 0.7852 - val_accuracy: 0.8581\n",
            "Epoch 11/100\n",
            "244/244 [==============================] - 58s 233ms/step - loss: 0.3568 - auc: 0.7649 - accuracy: 0.8594 - val_loss: 0.3515 - val_auc: 0.7845 - val_accuracy: 0.8581\n",
            "Epoch 12/100\n",
            "244/244 [==============================] - 59s 238ms/step - loss: 0.3725 - auc: 0.7402 - accuracy: 0.8594 - val_loss: 0.3468 - val_auc: 0.7821 - val_accuracy: 0.8581\n",
            "Epoch 13/100\n",
            "244/244 [==============================] - 58s 235ms/step - loss: 0.3707 - auc: 0.7435 - accuracy: 0.8592 - val_loss: 0.3443 - val_auc: 0.7874 - val_accuracy: 0.8581\n",
            "Epoch 14/100\n",
            "244/244 [==============================] - 58s 235ms/step - loss: 0.3566 - auc: 0.7647 - accuracy: 0.8597 - val_loss: 0.3551 - val_auc: 0.7783 - val_accuracy: 0.8581\n",
            "Epoch 15/100\n",
            "244/244 [==============================] - 66s 268ms/step - loss: 0.3485 - auc: 0.7758 - accuracy: 0.8596 - val_loss: 0.3447 - val_auc: 0.7918 - val_accuracy: 0.8581\n",
            "Epoch 16/100\n",
            "244/244 [==============================] - 58s 234ms/step - loss: 0.3484 - auc: 0.7730 - accuracy: 0.8597 - val_loss: 0.3385 - val_auc: 0.7942 - val_accuracy: 0.8581\n",
            "Epoch 17/100\n",
            "244/244 [==============================] - 58s 234ms/step - loss: 0.3377 - auc: 0.7895 - accuracy: 0.8595 - val_loss: 0.3439 - val_auc: 0.7888 - val_accuracy: 0.8581\n",
            "Epoch 18/100\n",
            "244/244 [==============================] - 58s 232ms/step - loss: 0.3308 - auc: 0.7984 - accuracy: 0.8597 - val_loss: 0.3371 - val_auc: 0.7951 - val_accuracy: 0.8581\n",
            "Epoch 19/100\n",
            "244/244 [==============================] - 66s 270ms/step - loss: 0.3240 - auc: 0.8113 - accuracy: 0.8597 - val_loss: 0.3394 - val_auc: 0.7976 - val_accuracy: 0.8581\n",
            "Epoch 20/100\n",
            "244/244 [==============================] - 59s 239ms/step - loss: 0.3156 - auc: 0.8241 - accuracy: 0.8597 - val_loss: 0.3455 - val_auc: 0.7913 - val_accuracy: 0.8581\n",
            "Epoch 21/100\n",
            "244/244 [==============================] - 58s 237ms/step - loss: 0.3105 - auc: 0.8302 - accuracy: 0.8597 - val_loss: 0.3373 - val_auc: 0.7972 - val_accuracy: 0.8581\n",
            "Epoch 22/100\n",
            "244/244 [==============================] - 58s 235ms/step - loss: 0.3057 - auc: 0.8376 - accuracy: 0.8597 - val_loss: 0.3367 - val_auc: 0.7981 - val_accuracy: 0.8581\n",
            "Epoch 23/100\n",
            "244/244 [==============================] - 58s 234ms/step - loss: 0.3047 - auc: 0.8399 - accuracy: 0.8597 - val_loss: 0.3422 - val_auc: 0.7959 - val_accuracy: 0.8581\n",
            "Epoch 24/100\n",
            "244/244 [==============================] - 57s 233ms/step - loss: 0.3059 - auc: 0.8376 - accuracy: 0.8597 - val_loss: 0.3515 - val_auc: 0.7854 - val_accuracy: 0.8581\n",
            "Epoch 25/100\n",
            "244/244 [==============================] - 57s 233ms/step - loss: 0.2962 - auc: 0.8505 - accuracy: 0.8597 - val_loss: 0.3483 - val_auc: 0.7957 - val_accuracy: 0.8581\n",
            "Epoch 26/100\n",
            "244/244 [==============================] - 57s 232ms/step - loss: 0.2932 - auc: 0.8533 - accuracy: 0.8597 - val_loss: 0.3462 - val_auc: 0.7960 - val_accuracy: 0.8581\n",
            "Epoch 27/100\n",
            "243/244 [============================>.] - ETA: 0s - loss: 0.2851 - auc: 0.8637 - accuracy: 0.8596Restoring model weights from the end of the best epoch: 22.\n",
            "244/244 [==============================] - 58s 233ms/step - loss: 0.2852 - auc: 0.8636 - accuracy: 0.8597 - val_loss: 0.3570 - val_auc: 0.7876 - val_accuracy: 0.8581\n",
            "Epoch 27: early stopping\n"
          ]
        }
      ],
      "source": [
        "run_hist = model.fit(train_data, validation_data=val_data, epochs=100, \n",
        "  callbacks=[tensorboard,\n",
        "              keras.callbacks.EarlyStopping(\n",
        "                  monitor=\"val_auc\",\n",
        "                  min_delta=0,\n",
        "                  patience=5,\n",
        "                  verbose=1,\n",
        "                  mode=\"auto\",\n",
        "                  baseline=None,\n",
        "                  restore_best_weights=True,\n",
        "              )])"
      ]
    },
    {
      "cell_type": "code",
      "execution_count": null,
      "metadata": {
        "colab": {
          "base_uri": "https://localhost:8080/"
        },
        "outputId": "d016083a-3044-4019-8dea-3b2be0516d0c",
        "id": "O0BTkvm5v1ED"
      },
      "outputs": [
        {
          "output_type": "stream",
          "name": "stdout",
          "text": [
            "183/183 [==============================] - 19s 98ms/step - loss: 0.3389 - auc: 0.7918 - accuracy: 0.8592\n",
            "[0.3389175236225128, 0.7917983531951904, 0.859151303768158]\n"
          ]
        }
      ],
      "source": [
        "results = model.evaluate(test_data) \n",
        "print(results)\n",
        "\n",
        "results_pkl = open('/content/gdrive/MyDrive/Dense Experiments/Results/{}.pkl'.format(NAME), 'wb')\n",
        "pickle.dump(results, results_pkl)"
      ]
    },
    {
      "cell_type": "code",
      "source": [
        "results_pkl = open('/content/gdrive/MyDrive/Dense Experiments/Results/{}.pkl'.format(NAME), 'wb')\n",
        "pickle.dump(results, results_pkl)"
      ],
      "metadata": {
        "id": "GJcbgrdgv1ED"
      },
      "execution_count": null,
      "outputs": []
    },
    {
      "cell_type": "markdown",
      "metadata": {
        "id": "Dh4lKNFFv1ED"
      },
      "source": [
        "#### D = 4 [OK]"
      ]
    },
    {
      "cell_type": "code",
      "execution_count": null,
      "metadata": {
        "id": "sjZQWdPQv1ED"
      },
      "outputs": [],
      "source": [
        "NAME = \"N512-L3-D4\"\n",
        "keras.backend.clear_session()"
      ]
    },
    {
      "cell_type": "code",
      "execution_count": null,
      "metadata": {
        "colab": {
          "base_uri": "https://localhost:8080/"
        },
        "outputId": "040d37dc-9a28-4b65-b64c-3cc5956dc7c4",
        "id": "T-qx_l0ov1ED"
      },
      "outputs": [
        {
          "output_type": "stream",
          "name": "stdout",
          "text": [
            "Model: \"sequential\"\n",
            "_________________________________________________________________\n",
            " Layer (type)                Output Shape              Param #   \n",
            "=================================================================\n",
            " conv2d (Conv2D)             (None, 256, 256, 32)      896       \n",
            "                                                                 \n",
            " conv2d_1 (Conv2D)           (None, 128, 128, 32)      9248      \n",
            "                                                                 \n",
            " conv2d_2 (Conv2D)           (None, 64, 64, 64)        18496     \n",
            "                                                                 \n",
            " max_pooling2d (MaxPooling2D  (None, 32, 32, 64)       0         \n",
            " )                                                               \n",
            "                                                                 \n",
            " dense (Dense)               (None, 32, 32, 128)       8320      \n",
            "                                                                 \n",
            " flatten (Flatten)           (None, 131072)            0         \n",
            "                                                                 \n",
            " dense_1 (Dense)             (None, 512)               67109376  \n",
            "                                                                 \n",
            " dense_2 (Dense)             (None, 512)               262656    \n",
            "                                                                 \n",
            " dense_3 (Dense)             (None, 512)               262656    \n",
            "                                                                 \n",
            " dropout (Dropout)           (None, 512)               0         \n",
            "                                                                 \n",
            " dense_4 (Dense)             (None, 1)                 513       \n",
            "                                                                 \n",
            "=================================================================\n",
            "Total params: 67,672,161\n",
            "Trainable params: 67,672,161\n",
            "Non-trainable params: 0\n",
            "_________________________________________________________________\n"
          ]
        }
      ],
      "source": [
        "ins = image_batch.shape[1:]\n",
        "\n",
        "model = Sequential()\n",
        "\n",
        "model.add(Conv2D(32, (3,3), padding=\"same\", activation=\"relu\", input_shape=ins))\n",
        "\n",
        "model.add(Conv2D(32, (3,3), padding=\"same\", strides = (2,2), activation=\"relu\"))\n",
        "\n",
        "model.add(Conv2D(64, (3,3), padding=\"same\", strides = (2,2), activation=\"relu\"))\n",
        "\n",
        "model.add(MaxPooling2D(pool_size=(2, 2)))\n",
        "\n",
        "model.add(Dense(128, activation=\"relu\"))\n",
        "\n",
        "model.add(Flatten())\n",
        "\n",
        "model.add(Dense(N, activation=\"relu\"))\n",
        "\n",
        "model.add(Dense(N, activation=\"relu\"))\n",
        "\n",
        "model.add(Dense(N, activation=\"relu\"))\n",
        "\n",
        "model.add(Dropout(0.5))\n",
        "\n",
        "model.add(Dense(1, activation=\"sigmoid\"))\n",
        "\n",
        "model.summary()"
      ]
    },
    {
      "cell_type": "code",
      "execution_count": null,
      "metadata": {
        "id": "FonEdOvSv1ED"
      },
      "outputs": [],
      "source": [
        "tensorboard = TensorBoard(log_dir=\"/content/gdrive/MyDrive/Dense Experiments/Logs/{}\".format(NAME))"
      ]
    },
    {
      "cell_type": "code",
      "execution_count": null,
      "metadata": {
        "id": "F4AeAJvnv1ED"
      },
      "outputs": [],
      "source": [
        "model.compile(loss='binary_crossentropy', optimizer=optimizers.Adam(learning_rate=0.00001), metrics=[keras.metrics.AUC(), 'accuracy'])"
      ]
    },
    {
      "cell_type": "code",
      "execution_count": null,
      "metadata": {
        "colab": {
          "base_uri": "https://localhost:8080/"
        },
        "outputId": "7bd7b958-9337-4930-82b9-2e40fa472523",
        "id": "bB8A2cHvv1EE"
      },
      "outputs": [
        {
          "output_type": "stream",
          "name": "stdout",
          "text": [
            "Epoch 1/100\n",
            "244/244 [==============================] - 59s 237ms/step - loss: 0.7742 - auc: 0.5549 - accuracy: 0.8149 - val_loss: 0.3994 - val_auc: 0.6433 - val_accuracy: 0.8578\n",
            "Epoch 2/100\n",
            "244/244 [==============================] - 58s 236ms/step - loss: 0.3861 - auc: 0.7002 - accuracy: 0.8547 - val_loss: 0.3549 - val_auc: 0.7683 - val_accuracy: 0.8582\n",
            "Epoch 3/100\n",
            "244/244 [==============================] - 58s 237ms/step - loss: 0.3617 - auc: 0.7451 - accuracy: 0.8573 - val_loss: 0.3449 - val_auc: 0.7791 - val_accuracy: 0.8586\n",
            "Epoch 4/100\n",
            "244/244 [==============================] - 58s 234ms/step - loss: 0.3490 - auc: 0.7681 - accuracy: 0.8586 - val_loss: 0.3507 - val_auc: 0.7832 - val_accuracy: 0.8581\n",
            "Epoch 5/100\n",
            "244/244 [==============================] - 58s 237ms/step - loss: 0.3488 - auc: 0.7708 - accuracy: 0.8582 - val_loss: 0.3400 - val_auc: 0.7883 - val_accuracy: 0.8582\n",
            "Epoch 6/100\n",
            "244/244 [==============================] - 58s 236ms/step - loss: 0.3302 - auc: 0.8013 - accuracy: 0.8614 - val_loss: 0.3384 - val_auc: 0.7937 - val_accuracy: 0.8584\n",
            "Epoch 7/100\n",
            "244/244 [==============================] - 59s 238ms/step - loss: 0.3234 - auc: 0.8122 - accuracy: 0.8608 - val_loss: 0.3366 - val_auc: 0.7952 - val_accuracy: 0.8591\n",
            "Epoch 8/100\n",
            "244/244 [==============================] - 58s 235ms/step - loss: 0.3179 - auc: 0.8205 - accuracy: 0.8615 - val_loss: 0.3375 - val_auc: 0.7945 - val_accuracy: 0.8584\n",
            "Epoch 9/100\n",
            "244/244 [==============================] - 58s 236ms/step - loss: 0.3098 - auc: 0.8340 - accuracy: 0.8627 - val_loss: 0.3348 - val_auc: 0.8003 - val_accuracy: 0.8583\n",
            "Epoch 10/100\n",
            "244/244 [==============================] - 58s 236ms/step - loss: 0.3002 - auc: 0.8465 - accuracy: 0.8653 - val_loss: 0.3573 - val_auc: 0.7995 - val_accuracy: 0.8415\n",
            "Epoch 11/100\n",
            "244/244 [==============================] - 58s 236ms/step - loss: 0.2930 - auc: 0.8560 - accuracy: 0.8664 - val_loss: 0.3501 - val_auc: 0.7952 - val_accuracy: 0.8590\n",
            "Epoch 12/100\n",
            "244/244 [==============================] - 58s 236ms/step - loss: 0.2777 - auc: 0.8750 - accuracy: 0.8806 - val_loss: 0.3774 - val_auc: 0.7827 - val_accuracy: 0.8645\n",
            "Epoch 13/100\n",
            "244/244 [==============================] - 60s 241ms/step - loss: 0.2750 - auc: 0.8766 - accuracy: 0.8874 - val_loss: 0.3474 - val_auc: 0.8001 - val_accuracy: 0.8633\n",
            "Epoch 14/100\n",
            "244/244 [==============================] - 58s 236ms/step - loss: 0.2646 - auc: 0.8889 - accuracy: 0.8903 - val_loss: 0.3469 - val_auc: 0.8016 - val_accuracy: 0.8521\n",
            "Epoch 15/100\n",
            "244/244 [==============================] - 58s 236ms/step - loss: 0.2540 - auc: 0.8984 - accuracy: 0.8980 - val_loss: 0.3431 - val_auc: 0.7993 - val_accuracy: 0.8581\n",
            "Epoch 16/100\n",
            "244/244 [==============================] - 59s 239ms/step - loss: 0.2415 - auc: 0.9103 - accuracy: 0.9027 - val_loss: 0.3619 - val_auc: 0.7934 - val_accuracy: 0.8665\n",
            "Epoch 17/100\n",
            "244/244 [==============================] - 58s 235ms/step - loss: 0.2320 - auc: 0.9167 - accuracy: 0.9079 - val_loss: 0.3625 - val_auc: 0.7952 - val_accuracy: 0.8653\n",
            "Epoch 18/100\n",
            "244/244 [==============================] - 58s 236ms/step - loss: 0.2216 - auc: 0.9236 - accuracy: 0.9131 - val_loss: 0.3805 - val_auc: 0.7921 - val_accuracy: 0.8422\n",
            "Epoch 19/100\n",
            "243/244 [============================>.] - ETA: 0s - loss: 0.2115 - auc: 0.9282 - accuracy: 0.9180Restoring model weights from the end of the best epoch: 14.\n",
            "244/244 [==============================] - 59s 240ms/step - loss: 0.2117 - auc: 0.9281 - accuracy: 0.9179 - val_loss: 0.3630 - val_auc: 0.7915 - val_accuracy: 0.8449\n",
            "Epoch 19: early stopping\n"
          ]
        }
      ],
      "source": [
        "run_hist = model.fit(train_data, validation_data=val_data, epochs=100, \n",
        "  callbacks=[tensorboard,\n",
        "              keras.callbacks.EarlyStopping(\n",
        "                  monitor=\"val_auc\",\n",
        "                  min_delta=0,\n",
        "                  patience=5,\n",
        "                  verbose=1,\n",
        "                  mode=\"auto\",\n",
        "                  baseline=None,\n",
        "                  restore_best_weights=True,\n",
        "              )])"
      ]
    },
    {
      "cell_type": "code",
      "execution_count": null,
      "metadata": {
        "colab": {
          "base_uri": "https://localhost:8080/"
        },
        "outputId": "0099ff76-6d5c-4925-894b-f52a39d326c1",
        "id": "7tT3l-51v1EE"
      },
      "outputs": [
        {
          "output_type": "stream",
          "name": "stdout",
          "text": [
            "183/183 [==============================] - 19s 99ms/step - loss: 0.3540 - auc: 0.7903 - accuracy: 0.8509\n",
            "[0.3539787530899048, 0.7902542948722839, 0.8509215712547302]\n"
          ]
        }
      ],
      "source": [
        "results = model.evaluate(test_data)\n",
        "print(results)\n",
        "\n",
        "results_pkl = open('/content/gdrive/MyDrive/Dense Experiments/Results/{}.pkl'.format(NAME), 'wb')\n",
        "pickle.dump(results, results_pkl)"
      ]
    },
    {
      "cell_type": "code",
      "source": [
        "results_pkl = open('/content/gdrive/MyDrive/Dense Experiments/Results/{}.pkl'.format(NAME), 'wb')\n",
        "pickle.dump(results, results_pkl)"
      ],
      "metadata": {
        "id": "MjdKp8dvv1EE"
      },
      "execution_count": null,
      "outputs": []
    },
    {
      "cell_type": "markdown",
      "metadata": {
        "id": "68jEtEx5v1EE"
      },
      "source": [
        "#### D = 5 [OK]"
      ]
    },
    {
      "cell_type": "code",
      "execution_count": null,
      "metadata": {
        "id": "gOrym_HZv1EE"
      },
      "outputs": [],
      "source": [
        "NAME = \"N512-L3-D5\"\n",
        "keras.backend.clear_session()"
      ]
    },
    {
      "cell_type": "code",
      "execution_count": null,
      "metadata": {
        "colab": {
          "base_uri": "https://localhost:8080/"
        },
        "outputId": "8f07865d-be48-41c2-f8ea-f4754413eb88",
        "id": "KrH8ZHjDv1EE"
      },
      "outputs": [
        {
          "output_type": "stream",
          "name": "stdout",
          "text": [
            "Model: \"sequential\"\n",
            "_________________________________________________________________\n",
            " Layer (type)                Output Shape              Param #   \n",
            "=================================================================\n",
            " conv2d (Conv2D)             (None, 256, 256, 32)      896       \n",
            "                                                                 \n",
            " dropout (Dropout)           (None, 256, 256, 32)      0         \n",
            "                                                                 \n",
            " conv2d_1 (Conv2D)           (None, 128, 128, 32)      9248      \n",
            "                                                                 \n",
            " dropout_1 (Dropout)         (None, 128, 128, 32)      0         \n",
            "                                                                 \n",
            " conv2d_2 (Conv2D)           (None, 64, 64, 64)        18496     \n",
            "                                                                 \n",
            " dropout_2 (Dropout)         (None, 64, 64, 64)        0         \n",
            "                                                                 \n",
            " max_pooling2d (MaxPooling2D  (None, 32, 32, 64)       0         \n",
            " )                                                               \n",
            "                                                                 \n",
            " dense (Dense)               (None, 32, 32, 128)       8320      \n",
            "                                                                 \n",
            " flatten (Flatten)           (None, 131072)            0         \n",
            "                                                                 \n",
            " dense_1 (Dense)             (None, 512)               67109376  \n",
            "                                                                 \n",
            " dense_2 (Dense)             (None, 512)               262656    \n",
            "                                                                 \n",
            " dense_3 (Dense)             (None, 512)               262656    \n",
            "                                                                 \n",
            " dense_4 (Dense)             (None, 1)                 513       \n",
            "                                                                 \n",
            "=================================================================\n",
            "Total params: 67,672,161\n",
            "Trainable params: 67,672,161\n",
            "Non-trainable params: 0\n",
            "_________________________________________________________________\n"
          ]
        }
      ],
      "source": [
        "ins = image_batch.shape[1:]\n",
        "\n",
        "model = Sequential()\n",
        "\n",
        "model.add(Conv2D(32, (3,3), padding=\"same\", activation=\"relu\", input_shape=ins))\n",
        "\n",
        "model.add(Dropout(0.1))\n",
        "\n",
        "model.add(Conv2D(32, (3,3), padding=\"same\", strides = (2,2), activation=\"relu\"))\n",
        "\n",
        "model.add(Dropout(0.1))\n",
        "\n",
        "model.add(Conv2D(64, (3,3), padding=\"same\", strides = (2,2), activation=\"relu\"))\n",
        "\n",
        "model.add(Dropout(0.1))\n",
        "\n",
        "model.add(MaxPooling2D(pool_size=(2, 2)))\n",
        "\n",
        "model.add(Dense(128, activation=\"relu\"))\n",
        "\n",
        "model.add(Flatten())\n",
        "\n",
        "model.add(Dense(N, activation=\"relu\"))\n",
        "\n",
        "model.add(Dense(N, activation=\"relu\"))\n",
        "\n",
        "model.add(Dense(N, activation=\"relu\"))\n",
        "\n",
        "model.add(Dense(1, activation=\"sigmoid\"))\n",
        "\n",
        "model.summary()"
      ]
    },
    {
      "cell_type": "code",
      "execution_count": null,
      "metadata": {
        "id": "IEHmM9qov1EE"
      },
      "outputs": [],
      "source": [
        "tensorboard = TensorBoard(log_dir=\"/content/gdrive/MyDrive/Dense Experiments/Logs/{}\".format(NAME))"
      ]
    },
    {
      "cell_type": "code",
      "execution_count": null,
      "metadata": {
        "id": "VO8rROyBv1EE"
      },
      "outputs": [],
      "source": [
        "model.compile(loss='binary_crossentropy', optimizer=optimizers.Adam(learning_rate=0.00001), metrics=[keras.metrics.AUC(), 'accuracy'])"
      ]
    },
    {
      "cell_type": "code",
      "execution_count": null,
      "metadata": {
        "colab": {
          "base_uri": "https://localhost:8080/"
        },
        "outputId": "9ed2917f-9c58-4c99-fa1d-1db4ba505ca2",
        "id": "XdCTHClSv1EE"
      },
      "outputs": [
        {
          "output_type": "stream",
          "name": "stdout",
          "text": [
            "Epoch 1/100\n",
            "244/244 [==============================] - 71s 283ms/step - loss: 0.5374 - auc: 0.5902 - accuracy: 0.8353 - val_loss: 0.3915 - val_auc: 0.7245 - val_accuracy: 0.8537\n",
            "Epoch 2/100\n",
            "244/244 [==============================] - 77s 313ms/step - loss: 0.3775 - auc: 0.7239 - accuracy: 0.8516 - val_loss: 0.4069 - val_auc: 0.7632 - val_accuracy: 0.8467\n",
            "Epoch 3/100\n",
            "244/244 [==============================] - 70s 284ms/step - loss: 0.3611 - auc: 0.7490 - accuracy: 0.8559 - val_loss: 0.3527 - val_auc: 0.7763 - val_accuracy: 0.8584\n",
            "Epoch 4/100\n",
            "244/244 [==============================] - 69s 279ms/step - loss: 0.3558 - auc: 0.7571 - accuracy: 0.8579 - val_loss: 0.4441 - val_auc: 0.7799 - val_accuracy: 0.8176\n",
            "Epoch 5/100\n",
            "244/244 [==============================] - 69s 279ms/step - loss: 0.3463 - auc: 0.7736 - accuracy: 0.8599 - val_loss: 0.5387 - val_auc: 0.7614 - val_accuracy: 0.7070\n",
            "Epoch 6/100\n",
            "244/244 [==============================] - 70s 283ms/step - loss: 0.3475 - auc: 0.7721 - accuracy: 0.8608 - val_loss: 0.3484 - val_auc: 0.7861 - val_accuracy: 0.8627\n",
            "Epoch 7/100\n",
            "244/244 [==============================] - 68s 277ms/step - loss: 0.3335 - auc: 0.7925 - accuracy: 0.8651 - val_loss: 0.3602 - val_auc: 0.7642 - val_accuracy: 0.8635\n",
            "Epoch 8/100\n",
            "244/244 [==============================] - 68s 276ms/step - loss: 0.3349 - auc: 0.7898 - accuracy: 0.8681 - val_loss: 0.6102 - val_auc: 0.7793 - val_accuracy: 0.6120\n",
            "Epoch 9/100\n",
            "244/244 [==============================] - 69s 280ms/step - loss: 0.3315 - auc: 0.7974 - accuracy: 0.8658 - val_loss: 0.3491 - val_auc: 0.7725 - val_accuracy: 0.8629\n",
            "Epoch 10/100\n",
            "244/244 [==============================] - 68s 276ms/step - loss: 0.3205 - auc: 0.8101 - accuracy: 0.8730 - val_loss: 0.4058 - val_auc: 0.7892 - val_accuracy: 0.8353\n",
            "Epoch 11/100\n",
            "244/244 [==============================] - 68s 277ms/step - loss: 0.3149 - auc: 0.8155 - accuracy: 0.8743 - val_loss: 0.3356 - val_auc: 0.8064 - val_accuracy: 0.8676\n",
            "Epoch 12/100\n",
            "244/244 [==============================] - 68s 277ms/step - loss: 0.3117 - auc: 0.8235 - accuracy: 0.8748 - val_loss: 0.3397 - val_auc: 0.7856 - val_accuracy: 0.8650\n",
            "Epoch 13/100\n",
            "244/244 [==============================] - 68s 276ms/step - loss: 0.3076 - auc: 0.8282 - accuracy: 0.8786 - val_loss: 0.4351 - val_auc: 0.7583 - val_accuracy: 0.8089\n",
            "Epoch 14/100\n",
            "244/244 [==============================] - 68s 276ms/step - loss: 0.3008 - auc: 0.8366 - accuracy: 0.8811 - val_loss: 0.3710 - val_auc: 0.7838 - val_accuracy: 0.8506\n",
            "Epoch 15/100\n",
            "244/244 [==============================] - 68s 276ms/step - loss: 0.2954 - auc: 0.8404 - accuracy: 0.8849 - val_loss: 0.4030 - val_auc: 0.7381 - val_accuracy: 0.8268\n",
            "Epoch 16/100\n",
            "243/244 [============================>.] - ETA: 0s - loss: 0.2837 - auc: 0.8559 - accuracy: 0.8875Restoring model weights from the end of the best epoch: 11.\n",
            "244/244 [==============================] - 68s 275ms/step - loss: 0.2836 - auc: 0.8559 - accuracy: 0.8876 - val_loss: 0.3508 - val_auc: 0.7790 - val_accuracy: 0.8570\n",
            "Epoch 16: early stopping\n"
          ]
        }
      ],
      "source": [
        "run_hist = model.fit(train_data, validation_data=val_data, epochs=100, \n",
        "  callbacks=[tensorboard,\n",
        "              keras.callbacks.EarlyStopping(\n",
        "                  monitor=\"val_auc\",\n",
        "                  min_delta=0,\n",
        "                  patience=5,\n",
        "                  verbose=1,\n",
        "                  mode=\"auto\",\n",
        "                  baseline=None,\n",
        "                  restore_best_weights=True,\n",
        "              )])"
      ]
    },
    {
      "cell_type": "code",
      "execution_count": null,
      "metadata": {
        "colab": {
          "base_uri": "https://localhost:8080/"
        },
        "outputId": "a57406ce-4766-4366-95a2-e4276be6e191",
        "id": "vWaiBN7kv1EE"
      },
      "outputs": [
        {
          "output_type": "stream",
          "name": "stdout",
          "text": [
            "183/183 [==============================] - 19s 99ms/step - loss: 0.3408 - auc: 0.7942 - accuracy: 0.8668\n",
            "[0.34078672528266907, 0.7941610217094421, 0.8667809963226318]\n"
          ]
        }
      ],
      "source": [
        "results = model.evaluate(test_data)\n",
        "print(results)\n",
        "\n",
        "results_pkl = open('/content/gdrive/MyDrive/Dense Experiments/Results/{}.pkl'.format(NAME), 'wb')\n",
        "pickle.dump(results, results_pkl)"
      ]
    },
    {
      "cell_type": "code",
      "source": [
        "results_pkl = open('/content/gdrive/MyDrive/Dense Experiments/Results/{}.pkl'.format(NAME), 'wb')\n",
        "pickle.dump(results, results_pkl)"
      ],
      "metadata": {
        "id": "0D9AOQhev1EE"
      },
      "execution_count": null,
      "outputs": []
    },
    {
      "cell_type": "markdown",
      "metadata": {
        "id": "CdGcif5Zv1EE"
      },
      "source": [
        "#### D = 6 [OK]"
      ]
    },
    {
      "cell_type": "code",
      "execution_count": null,
      "metadata": {
        "id": "7Vv0ewdnv1EE"
      },
      "outputs": [],
      "source": [
        "NAME = \"N512-L3-D6\"\n",
        "keras.backend.clear_session()"
      ]
    },
    {
      "cell_type": "code",
      "execution_count": null,
      "metadata": {
        "colab": {
          "base_uri": "https://localhost:8080/"
        },
        "outputId": "c5184b74-846b-4b77-980c-00e783d9dc84",
        "id": "K1BDux5Wv1EE"
      },
      "outputs": [
        {
          "output_type": "stream",
          "name": "stdout",
          "text": [
            "Model: \"sequential\"\n",
            "_________________________________________________________________\n",
            " Layer (type)                Output Shape              Param #   \n",
            "=================================================================\n",
            " conv2d (Conv2D)             (None, 256, 256, 32)      896       \n",
            "                                                                 \n",
            " conv2d_1 (Conv2D)           (None, 128, 128, 32)      9248      \n",
            "                                                                 \n",
            " conv2d_2 (Conv2D)           (None, 64, 64, 64)        18496     \n",
            "                                                                 \n",
            " dropout (Dropout)           (None, 64, 64, 64)        0         \n",
            "                                                                 \n",
            " max_pooling2d (MaxPooling2D  (None, 32, 32, 64)       0         \n",
            " )                                                               \n",
            "                                                                 \n",
            " dense (Dense)               (None, 32, 32, 128)       8320      \n",
            "                                                                 \n",
            " flatten (Flatten)           (None, 131072)            0         \n",
            "                                                                 \n",
            " dense_1 (Dense)             (None, 512)               67109376  \n",
            "                                                                 \n",
            " dense_2 (Dense)             (None, 512)               262656    \n",
            "                                                                 \n",
            " dense_3 (Dense)             (None, 512)               262656    \n",
            "                                                                 \n",
            " dense_4 (Dense)             (None, 1)                 513       \n",
            "                                                                 \n",
            "=================================================================\n",
            "Total params: 67,672,161\n",
            "Trainable params: 67,672,161\n",
            "Non-trainable params: 0\n",
            "_________________________________________________________________\n"
          ]
        }
      ],
      "source": [
        "ins = image_batch.shape[1:]\n",
        "\n",
        "model = Sequential()\n",
        "\n",
        "model.add(Conv2D(32, (3,3), padding=\"same\", activation=\"relu\", input_shape=ins))\n",
        "\n",
        "model.add(Conv2D(32, (3,3), padding=\"same\", strides = (2,2), activation=\"relu\"))\n",
        "\n",
        "model.add(Conv2D(64, (3,3), padding=\"same\", strides = (2,2), activation=\"relu\"))\n",
        "\n",
        "model.add(Dropout(0.1))\n",
        "\n",
        "model.add(MaxPooling2D(pool_size=(2, 2)))\n",
        "\n",
        "model.add(Dense(128, activation=\"relu\"))\n",
        "\n",
        "model.add(Flatten())\n",
        "\n",
        "model.add(Dense(N, activation=\"relu\"))\n",
        "\n",
        "model.add(Dense(N, activation=\"relu\"))\n",
        "\n",
        "model.add(Dense(N, activation=\"relu\"))\n",
        "\n",
        "model.add(Dense(1, activation=\"sigmoid\"))\n",
        "\n",
        "model.summary()"
      ]
    },
    {
      "cell_type": "code",
      "execution_count": null,
      "metadata": {
        "id": "eQpYEi39v1EE"
      },
      "outputs": [],
      "source": [
        "tensorboard = TensorBoard(log_dir=\"/content/gdrive/MyDrive/Dense Experiments/Logs/{}\".format(NAME))"
      ]
    },
    {
      "cell_type": "code",
      "execution_count": null,
      "metadata": {
        "id": "dJurvDc8v1EE"
      },
      "outputs": [],
      "source": [
        "model.compile(loss='binary_crossentropy', optimizer=optimizers.Adam(learning_rate=0.00001), metrics=[keras.metrics.AUC(), 'accuracy'])"
      ]
    },
    {
      "cell_type": "code",
      "execution_count": null,
      "metadata": {
        "colab": {
          "base_uri": "https://localhost:8080/"
        },
        "outputId": "861bad08-6f96-475c-f171-0d9236348713",
        "id": "GHl9tcSTv1EE"
      },
      "outputs": [
        {
          "output_type": "stream",
          "name": "stdout",
          "text": [
            "Epoch 1/100\n",
            "244/244 [==============================] - 59s 237ms/step - loss: 0.4872 - auc: 0.6129 - accuracy: 0.8395 - val_loss: 0.4423 - val_auc: 0.7392 - val_accuracy: 0.8179\n",
            "Epoch 2/100\n",
            "244/244 [==============================] - 59s 240ms/step - loss: 0.3577 - auc: 0.7537 - accuracy: 0.8600 - val_loss: 0.3466 - val_auc: 0.7936 - val_accuracy: 0.8611\n",
            "Epoch 3/100\n",
            "244/244 [==============================] - 59s 240ms/step - loss: 0.3291 - auc: 0.7976 - accuracy: 0.8692 - val_loss: 0.3363 - val_auc: 0.8065 - val_accuracy: 0.8642\n",
            "Epoch 4/100\n",
            "244/244 [==============================] - 59s 238ms/step - loss: 0.3078 - auc: 0.8259 - accuracy: 0.8783 - val_loss: 0.3703 - val_auc: 0.7837 - val_accuracy: 0.8622\n",
            "Epoch 5/100\n",
            "244/244 [==============================] - 59s 239ms/step - loss: 0.2884 - auc: 0.8509 - accuracy: 0.8878 - val_loss: 0.3901 - val_auc: 0.8096 - val_accuracy: 0.8221\n",
            "Epoch 6/100\n",
            "244/244 [==============================] - 59s 240ms/step - loss: 0.2690 - auc: 0.8695 - accuracy: 0.8969 - val_loss: 0.3262 - val_auc: 0.8170 - val_accuracy: 0.8682\n",
            "Epoch 7/100\n",
            "244/244 [==============================] - 59s 240ms/step - loss: 0.2427 - auc: 0.8978 - accuracy: 0.9079 - val_loss: 0.3825 - val_auc: 0.7782 - val_accuracy: 0.8681\n",
            "Epoch 8/100\n",
            "244/244 [==============================] - 60s 243ms/step - loss: 0.2307 - auc: 0.9057 - accuracy: 0.9137 - val_loss: 0.3435 - val_auc: 0.7944 - val_accuracy: 0.8735\n",
            "Epoch 9/100\n",
            "244/244 [==============================] - 59s 239ms/step - loss: 0.2046 - auc: 0.9273 - accuracy: 0.9232 - val_loss: 0.3434 - val_auc: 0.8049 - val_accuracy: 0.8766\n",
            "Epoch 10/100\n",
            "244/244 [==============================] - 60s 244ms/step - loss: 0.1782 - auc: 0.9433 - accuracy: 0.9380 - val_loss: 0.3489 - val_auc: 0.8109 - val_accuracy: 0.8590\n",
            "Epoch 11/100\n",
            "243/244 [============================>.] - ETA: 0s - loss: 0.1559 - auc: 0.9553 - accuracy: 0.9471Restoring model weights from the end of the best epoch: 6.\n",
            "244/244 [==============================] - 59s 241ms/step - loss: 0.1558 - auc: 0.9553 - accuracy: 0.9472 - val_loss: 0.3434 - val_auc: 0.8058 - val_accuracy: 0.8771\n",
            "Epoch 11: early stopping\n"
          ]
        }
      ],
      "source": [
        "run_hist = model.fit(train_data, validation_data=val_data, epochs=100, \n",
        "  callbacks=[tensorboard,\n",
        "              keras.callbacks.EarlyStopping(\n",
        "                  monitor=\"val_auc\",\n",
        "                  min_delta=0,\n",
        "                  patience=5,\n",
        "                  verbose=1,\n",
        "                  mode=\"auto\",\n",
        "                  baseline=None,\n",
        "                  restore_best_weights=True,\n",
        "              )])"
      ]
    },
    {
      "cell_type": "code",
      "execution_count": null,
      "metadata": {
        "colab": {
          "base_uri": "https://localhost:8080/"
        },
        "outputId": "16678985-0c71-4129-d464-7c7344c7715d",
        "id": "1M_wEzc2v1EE"
      },
      "outputs": [
        {
          "output_type": "stream",
          "name": "stdout",
          "text": [
            "183/183 [==============================] - 21s 112ms/step - loss: 0.3347 - auc: 0.8046 - accuracy: 0.8633\n",
            "[0.3347075581550598, 0.8046112656593323, 0.8632661700248718]\n"
          ]
        }
      ],
      "source": [
        "results = model.evaluate(test_data)\n",
        "print(results)\n",
        "\n",
        "results_pkl = open('/content/gdrive/MyDrive/Dense Experiments/Results/{}.pkl'.format(NAME), 'wb')\n",
        "pickle.dump(results, results_pkl)"
      ]
    },
    {
      "cell_type": "code",
      "source": [
        "results_pkl = open('/content/gdrive/MyDrive/Dense Experiments/Results/{}.pkl'.format(NAME), 'wb')\n",
        "pickle.dump(results, results_pkl)"
      ],
      "metadata": {
        "id": "XvnqYYqLv1EE"
      },
      "execution_count": null,
      "outputs": []
    }
  ],
  "metadata": {
    "accelerator": "GPU",
    "colab": {
      "name": "Experimentos Dense Layer",
      "provenance": [],
      "collapsed_sections": [
        "kh6HufBFBOQW",
        "mhDRQJZjBsfu",
        "k7yjVCRxBvcy",
        "Q4Rp5hVzN0f0",
        "qQBZgCOkP758",
        "zIJjWox-P_Xk",
        "1vLx4FnN9pTL",
        "9F0cjcFhC6wf",
        "NdjrZ3K5DvnC",
        "QAjky1wbKqh_",
        "3k2OlF4yT5e0",
        "iHx0deOUK1bG",
        "OG3jcENYMcXN",
        "XeMyU1i-Mvf9",
        "B6v_vVzaNDsm",
        "zd9LR2MHNIY1",
        "r1XLoA-MNQeE",
        "96za8p_8Nzwt",
        "xI0aOpy2Nzwt",
        "wC8NOYNgNzwu",
        "b596R3STNzwu",
        "kIrOfEUjNzwu",
        "agnsADXXNzwv",
        "QZwDIuT7Nzwv",
        "ZYgbexhONzwv",
        "qAoEL1QSO2Qk",
        "pvGumU-HO2Qk",
        "HcgWrBIMO2Ql",
        "MrGz9IdWO2Ql",
        "9RybEGjqO2Ql",
        "gq4WCV1aO2Qm",
        "eUvbigpsO2Qm",
        "I6168_r0v1D7",
        "5yCdsWFMv1D7",
        "Tz7v03crv1D8",
        "rW2SvTHHv1D9",
        "XJ1CMribv1D9",
        "QS6UkRK4v1D-",
        "I17a6zMav1D-",
        "0N1xg5XLv1D-",
        "as7ZwrYNv1D_",
        "lv714V2jv1D_",
        "1z7HntWHv1EA",
        "2xYSy90Bv1EA",
        "4qD2PTLdv1EB",
        "JPYjQUzKv1EB",
        "c8GDLNtBv1EC"
      ]
    },
    "gpuClass": "standard",
    "kernelspec": {
      "display_name": "Python 3",
      "name": "python3"
    },
    "language_info": {
      "name": "python"
    }
  },
  "nbformat": 4,
  "nbformat_minor": 0
}