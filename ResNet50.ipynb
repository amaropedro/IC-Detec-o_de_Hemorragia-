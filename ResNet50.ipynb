{
  "nbformat": 4,
  "nbformat_minor": 0,
  "metadata": {
    "colab": {
      "name": "ResNet50",
      "provenance": [],
      "collapsed_sections": [
        "MKVM05ULMQZ_",
        "mhDRQJZjBsfu",
        "1vLx4FnN9pTL"
      ]
    },
    "kernelspec": {
      "name": "python3",
      "display_name": "Python 3"
    },
    "language_info": {
      "name": "python"
    },
    "accelerator": "GPU",
    "gpuClass": "standard"
  },
  "cells": [
    {
      "cell_type": "markdown",
      "source": [
        "# Usando a ResNet50 para treinar com o DS\n",
        "\n",
        "https://www.tensorflow.org/api_docs/python/tf/keras/applications/resnet50/ResNet50 </br>\n",
        "https://chroniclesofai.com/transfer-learning-with-keras-resnet-50/"
      ],
      "metadata": {
        "id": "MKVM05ULMQZ_"
      }
    },
    {
      "cell_type": "code",
      "execution_count": null,
      "metadata": {
        "colab": {
          "base_uri": "https://localhost:8080/"
        },
        "id": "Kmq_cRI2E0Yi",
        "outputId": "cc05125e-70a1-42cc-dd6b-798c5f01cb5a"
      },
      "outputs": [
        {
          "output_type": "stream",
          "name": "stdout",
          "text": [
            "Looking in indexes: https://pypi.org/simple, https://us-python.pkg.dev/colab-wheels/public/simple/\n",
            "Requirement already satisfied: pydicom in /usr/local/lib/python3.7/dist-packages (2.3.0)\n"
          ]
        }
      ],
      "source": [
        "import keras\n",
        "import tensorflow as tf\n",
        "from keras.models import Sequential\n",
        "from keras.layers import Flatten, Dense, Dropout, Rescaling\n",
        "from tensorflow.keras import optimizers\n",
        "from tensorflow.keras.utils import image_dataset_from_directory\n",
        "\n",
        "!pip install pydicom\n",
        "import numpy as np\n",
        "import pydicom\n",
        "from PIL import Image\n",
        "import os\n",
        "\n",
        "import cv2"
      ]
    },
    {
      "cell_type": "code",
      "execution_count": null,
      "metadata": {
        "id": "jMgO-lGHBZjo",
        "colab": {
          "base_uri": "https://localhost:8080/"
        },
        "outputId": "6064b9d8-2710-4ada-8b16-30ee97ce0412"
      },
      "outputs": [
        {
          "output_type": "stream",
          "name": "stdout",
          "text": [
            "mkdir: cannot create directory ‘/root/.kaggle’: File exists\n"
          ]
        }
      ],
      "source": [
        "!mkdir ~/.kaggle\n",
        "! cp kaggle.json ~/.kaggle/\n",
        "!chmod 600 /root/.kaggle/kaggle.json"
      ]
    },
    {
      "cell_type": "markdown",
      "metadata": {
        "id": "mhDRQJZjBsfu"
      },
      "source": [
        "# Ajustando o DS"
      ]
    },
    {
      "cell_type": "markdown",
      "metadata": {
        "id": "k7yjVCRxBvcy"
      },
      "source": [
        "## Baixando o DS"
      ]
    },
    {
      "cell_type": "code",
      "execution_count": null,
      "metadata": {
        "colab": {
          "base_uri": "https://localhost:8080/"
        },
        "id": "BL-zCU80wu8Q",
        "outputId": "ddd66fcd-dba2-459f-82c3-606a2a543086"
      },
      "outputs": [
        {
          "output_type": "stream",
          "name": "stdout",
          "text": [
            "Downloading smaller-rsna-ds-train-test.zip to /content\n",
            "100% 7.25G/7.25G [04:02<00:00, 51.6MB/s]\n",
            "100% 7.25G/7.25G [04:02<00:00, 32.1MB/s]\n"
          ]
        }
      ],
      "source": [
        "!kaggle datasets download -d pedroamaro/smaller-rsna-ds-train-test"
      ]
    },
    {
      "cell_type": "code",
      "execution_count": null,
      "metadata": {
        "colab": {
          "base_uri": "https://localhost:8080/"
        },
        "id": "ZBNQnYz-0EWs",
        "outputId": "23a22686-1958-4bb7-91c5-1c003d3a9297"
      },
      "outputs": [
        {
          "output_type": "stream",
          "name": "stdout",
          "text": [
            ". . . . . . . . . . . . . . . . . . . . . . . . . . . . . . . . . . . "
          ]
        }
      ],
      "source": [
        "!unzip /content/smaller-rsna-ds-train-test.zip | awk 'BEGIN {ORS=\" \"} {if(NR%1000==0)print \".\"}'\n",
        "!rm /content/smaller-rsna-ds-train-test.zip"
      ]
    },
    {
      "cell_type": "code",
      "execution_count": null,
      "metadata": {
        "colab": {
          "base_uri": "https://localhost:8080/"
        },
        "id": "RPKduTwuNeAR",
        "outputId": "ff74ade1-17ec-47da-af70-fa17a89c798f"
      },
      "outputs": [
        {
          "output_type": "stream",
          "name": "stdout",
          "text": [
            "Numero de imagens: NO\n",
            "20047\n",
            "Numero de imagens: YES\n",
            "3287\n"
          ]
        }
      ],
      "source": [
        "print('Numero de imagens: NO')\n",
        "!ls /content/small_rsna_ds_train/no | wc -l\n",
        "print('Numero de imagens: YES')\n",
        "!ls /content/small_rsna_ds_train/yes | wc -l"
      ]
    },
    {
      "cell_type": "markdown",
      "metadata": {
        "id": "Q4Rp5hVzN0f0"
      },
      "source": [
        "## Salvando como JPG e aplicando full windowing"
      ]
    },
    {
      "cell_type": "code",
      "execution_count": null,
      "metadata": {
        "id": "-0YUsQ5a9uok",
        "colab": {
          "base_uri": "https://localhost:8080/"
        },
        "outputId": "7b602edd-7805-4bb9-a14c-0ac8faa35cd7"
      },
      "outputs": [
        {
          "output_type": "stream",
          "name": "stdout",
          "text": [
            "mkdir: cannot create directory ‘small_rsna_ds_as_jpg’: File exists\n",
            "mkdir: cannot create directory ‘/content/small_rsna_ds_as_jpg/no’: File exists\n",
            "mkdir: cannot create directory ‘/content/small_rsna_ds_as_jpg/yes’: File exists\n",
            "mkdir: cannot create directory ‘test_as_jpg’: File exists\n",
            "mkdir: cannot create directory ‘test_as_jpg/no’: File exists\n",
            "mkdir: cannot create directory ‘test_as_jpg/yes’: File exists\n"
          ]
        }
      ],
      "source": [
        "!mkdir small_rsna_ds_as_jpg\n",
        "!mkdir /content/small_rsna_ds_as_jpg/no\n",
        "!mkdir /content/small_rsna_ds_as_jpg/yes\n",
        "\n",
        "!mkdir test_as_jpg\n",
        "!mkdir test_as_jpg/no\n",
        "!mkdir test_as_jpg/yes"
      ]
    },
    {
      "cell_type": "code",
      "execution_count": null,
      "metadata": {
        "id": "bPDf68wT9ykv"
      },
      "outputs": [],
      "source": [
        "def segment_circle(windowed):\n",
        "    original = windowed.copy().astype(\"uint8\")\n",
        "    mask = np.zeros(original.shape, dtype=np.uint8)\n",
        "    gray = original\n",
        "    thresh = cv2.threshold(gray, 0, 255, cv2.THRESH_BINARY + cv2.THRESH_OTSU)[1]\n",
        "    kernel = cv2.getStructuringElement(cv2.MORPH_ELLIPSE, (5,5))\n",
        "    close = cv2.morphologyEx(thresh, cv2.MORPH_CLOSE, kernel, iterations=5)\n",
        "    cnts = cv2.findContours(close, cv2.RETR_TREE, cv2.CHAIN_APPROX_SIMPLE)\n",
        "    cnts = cnts[0] if len(cnts) == 2 else cnts[1]\n",
        "    for c in cnts:\n",
        "        peri = cv2.arcLength(c, True)\n",
        "        approx = cv2.approxPolyDP(c, 0.04 * peri, True)\n",
        "        area = cv2.contourArea(c)\n",
        "        if len(approx) > 4 and area > 10000 and area < 500000:\n",
        "            ((x, y), r) = cv2.minEnclosingCircle(c)\n",
        "            cv2.circle(mask, (int(x), int(y)), int(r), (255, 255, 255), -1)\n",
        "            cv2.circle(original, (int(x), int(y)), int(r), (36, 255, 12), 0)\n",
        "    x,y,w,h = cv2.boundingRect(mask)\n",
        "    mask_ROI = mask[y:y+h, x:x+w]\n",
        "    image_ROI = original[y:y+h, x:x+w]\n",
        "    result = cv2.bitwise_and(image_ROI, image_ROI, mask=mask_ROI)\n",
        "    return result, (x, y, w, h)\n",
        "\n",
        "def correct_dcm(dcm):\n",
        "    x = dcm.pixel_array + 1000\n",
        "    px_mode = 4096\n",
        "    x[x>=px_mode] = x[x>=px_mode] - px_mode\n",
        "    dcm.PixelData = x.tobytes()\n",
        "    dcm.RescaleIntercept = -1000\n",
        "\n",
        "def window_image(img, window_center, window_width):\n",
        "    img_min = window_center - window_width // 2\n",
        "    img_max = window_center + window_width // 2\n",
        "    img = np.clip(img, img_min, img_max)\n",
        "    return img\n",
        "\n",
        "\n",
        "def preprocess_and_segment(path, make_correct=True):    \n",
        "    dcm = pydicom.dcmread(path)\n",
        "    if make_correct and (dcm.BitsStored == 12) and (dcm.PixelRepresentation == 0) and (int(dcm.RescaleIntercept) > -100):\n",
        "        correct_dcm(dcm)\n",
        "\n",
        "    sample = dcm.pixel_array.astype(\"float32\") * dcm.RescaleSlope + dcm.RescaleIntercept\n",
        "\n",
        "    brain_window = window_image(sample, 40, 80)\n",
        "    dural_window = window_image(sample, 80, 200)\n",
        "    bone_window = window_image(sample, 600, 2800)\n",
        "\n",
        "    brain_window, (x,y,w,h) = segment_circle(brain_window)\n",
        "    if brain_window is None:\n",
        "        return np.zeros((512, 512, 3))\n",
        "    dural_window = dural_window[y:y+h, x:x+w]\n",
        "    bone_window = bone_window[y:y+h, x:x+w]\n",
        "    \n",
        "    brain_window = (brain_window - (0.)) / 80.\n",
        "    dural_window = (dural_window - (-20.)) / 200.\n",
        "    bone_window = (bone_window - (-1200.)) / 2800.\n",
        "    img_3ch = np.dstack([brain_window, dural_window, bone_window]).astype(\"float32\")\n",
        "\n",
        "    return img_3ch\n",
        "\n",
        "\n",
        "def save_W_as_jpg(path, id, dest_folder):\n",
        "\n",
        "  im_3ch = preprocess_and_segment(path)\n",
        "\n",
        "  im = window_image(im_3ch, 40, 80)\n",
        "\n",
        "  rescaled_im = (np.maximum(im, 0)/im.max())*255.0\n",
        "  final_im = np.uint8(rescaled_im)\n",
        "\n",
        "  final_im = Image.fromarray(final_im)\n",
        "  final_im.save(dest_folder+id+'.jpg')"
      ]
    },
    {
      "cell_type": "markdown",
      "metadata": {
        "id": "qQBZgCOkP758"
      },
      "source": [
        "### Para o conjunto Train"
      ]
    },
    {
      "cell_type": "code",
      "execution_count": null,
      "metadata": {
        "colab": {
          "base_uri": "https://localhost:8080/"
        },
        "id": "XUcLXxQt9z5b",
        "outputId": "1710a00b-dd92-4d4f-8e13-2be31feafd6d"
      },
      "outputs": [
        {
          "output_type": "stream",
          "name": "stderr",
          "text": [
            "/usr/local/lib/python3.7/dist-packages/ipykernel_launcher.py:69: RuntimeWarning: invalid value encountered in true_divide\n"
          ]
        }
      ],
      "source": [
        "train_path = \"/content/small_rsna_ds_train/yes/\"\n",
        "folder = os.listdir(\"/content/small_rsna_ds_train/yes/\")\n",
        "dest_folder = \"/content/small_rsna_ds_as_jpg/yes/\"\n",
        "\n",
        "for id_ in folder:\n",
        "  img_id = id_[:12]\n",
        "  save_W_as_jpg(train_path + f\"{id_}\", img_id, dest_folder)"
      ]
    },
    {
      "cell_type": "code",
      "execution_count": null,
      "metadata": {
        "id": "rOjiLkNp91hy",
        "colab": {
          "base_uri": "https://localhost:8080/"
        },
        "outputId": "6daf9c41-6fab-465d-ac3a-682708cd4c0d"
      },
      "outputs": [
        {
          "output_type": "stream",
          "name": "stderr",
          "text": [
            "/usr/local/lib/python3.7/dist-packages/ipykernel_launcher.py:69: RuntimeWarning: invalid value encountered in true_divide\n"
          ]
        }
      ],
      "source": [
        "train_path = \"/content/small_rsna_ds_train/no/\"\n",
        "folder = os.listdir(\"/content/small_rsna_ds_train/no/\")\n",
        "dest_folder = \"/content/small_rsna_ds_as_jpg/no/\"\n",
        "\n",
        "for id_ in folder:\n",
        "  img_id = id_[:12]\n",
        "  save_W_as_jpg(train_path + f\"{id_}\", img_id, dest_folder)"
      ]
    },
    {
      "cell_type": "code",
      "execution_count": null,
      "metadata": {
        "id": "685g4iwg-6ow",
        "colab": {
          "base_uri": "https://localhost:8080/"
        },
        "outputId": "b294a9e6-9869-4348-ffd0-5895306be713"
      },
      "outputs": [
        {
          "output_type": "stream",
          "name": "stdout",
          "text": [
            "Numero de imagens: NO\n",
            "20047\n",
            "Numero de imagens: YES\n",
            "3287\n"
          ]
        }
      ],
      "source": [
        "print('Numero de imagens: NO')\n",
        "!ls /content/small_rsna_ds_as_jpg/no/ | wc -l\n",
        "print('Numero de imagens: YES')\n",
        "!ls /content/small_rsna_ds_as_jpg/yes/ | wc -l"
      ]
    },
    {
      "cell_type": "markdown",
      "metadata": {
        "id": "zIJjWox-P_Xk"
      },
      "source": [
        "### Para o conjunto Test"
      ]
    },
    {
      "cell_type": "code",
      "execution_count": null,
      "metadata": {
        "id": "FoGysyXiQDJ1",
        "colab": {
          "base_uri": "https://localhost:8080/"
        },
        "outputId": "9e0e64db-e94d-4ecf-8d9b-87026e1c11f3"
      },
      "outputs": [
        {
          "output_type": "stream",
          "name": "stderr",
          "text": [
            "/usr/local/lib/python3.7/dist-packages/ipykernel_launcher.py:69: RuntimeWarning: invalid value encountered in true_divide\n"
          ]
        }
      ],
      "source": [
        "train_path = \"/content/small_rsna_ds_test/yes/\"\n",
        "folder = os.listdir(\"/content/small_rsna_ds_test/yes/\")\n",
        "dest_folder = \"/content/test_as_jpg/yes/\"\n",
        "\n",
        "for id_ in folder:\n",
        "  img_id = id_[:12]\n",
        "  save_W_as_jpg(train_path + f\"{id_}\", img_id, dest_folder)"
      ]
    },
    {
      "cell_type": "code",
      "execution_count": null,
      "metadata": {
        "id": "fnjReU73QDJ2",
        "colab": {
          "base_uri": "https://localhost:8080/"
        },
        "outputId": "22ecc6fe-4852-4f72-c43a-63e79db062ab"
      },
      "outputs": [
        {
          "output_type": "stream",
          "name": "stderr",
          "text": [
            "/usr/local/lib/python3.7/dist-packages/ipykernel_launcher.py:69: RuntimeWarning: invalid value encountered in true_divide\n"
          ]
        }
      ],
      "source": [
        "train_path = \"/content/small_rsna_ds_test/no/\"\n",
        "folder = os.listdir(\"/content/small_rsna_ds_test/no/\")\n",
        "dest_folder = \"/content/test_as_jpg/no/\"\n",
        "\n",
        "for id_ in folder:\n",
        "  img_id = id_[:12]\n",
        "  save_W_as_jpg(train_path + f\"{id_}\", img_id, dest_folder)"
      ]
    },
    {
      "cell_type": "code",
      "execution_count": null,
      "metadata": {
        "id": "MLeecKqrQDJ2",
        "colab": {
          "base_uri": "https://localhost:8080/"
        },
        "outputId": "92d969d0-bcb5-4391-ad2f-a9ff876c0302"
      },
      "outputs": [
        {
          "output_type": "stream",
          "name": "stdout",
          "text": [
            "Numero de imagens: NO\n",
            "10022\n",
            "Numero de imagens: YES\n",
            "1643\n"
          ]
        }
      ],
      "source": [
        "print('Numero de imagens: NO')\n",
        "!ls /content/test_as_jpg/no/ | wc -l\n",
        "print('Numero de imagens: YES')\n",
        "!ls /content/test_as_jpg/yes/ | wc -l"
      ]
    },
    {
      "cell_type": "markdown",
      "metadata": {
        "id": "1vLx4FnN9pTL"
      },
      "source": [
        "# Carregando o dataset"
      ]
    },
    {
      "cell_type": "code",
      "execution_count": null,
      "metadata": {
        "id": "Y9-K7AMD10NK",
        "colab": {
          "base_uri": "https://localhost:8080/"
        },
        "outputId": "907c6b9d-9be2-45ab-bc1b-168841226903"
      },
      "outputs": [
        {
          "output_type": "stream",
          "name": "stdout",
          "text": [
            "Found 23334 files belonging to 2 classes.\n",
            "Using 15556 files for training.\n"
          ]
        }
      ],
      "source": [
        "train_data = image_dataset_from_directory(\n",
        "    \"/content/small_rsna_ds_as_jpg\",\n",
        "     labels='inferred',\n",
        "     validation_split=1/3,\n",
        "     subset=\"training\",\n",
        "     seed=123,\n",
        "     batch_size = 64,\n",
        "     color_mode = \"rgb\"\n",
        "     )"
      ]
    },
    {
      "cell_type": "code",
      "execution_count": null,
      "metadata": {
        "id": "1tdF_VgO425w",
        "colab": {
          "base_uri": "https://localhost:8080/"
        },
        "outputId": "940bdee0-21c5-487a-80fe-d6d1a30c51cb"
      },
      "outputs": [
        {
          "output_type": "stream",
          "name": "stdout",
          "text": [
            "Found 23334 files belonging to 2 classes.\n",
            "Using 7778 files for validation.\n"
          ]
        }
      ],
      "source": [
        "val_data = image_dataset_from_directory(\n",
        "    \"/content/small_rsna_ds_as_jpg\",\n",
        "     labels='inferred',\n",
        "     validation_split=1/3,\n",
        "     subset=\"validation\",\n",
        "     seed=123,\n",
        "     batch_size = 64,\n",
        "     color_mode = \"rgb\"\n",
        ")"
      ]
    },
    {
      "cell_type": "code",
      "execution_count": null,
      "metadata": {
        "id": "co1kN22wQxHE",
        "colab": {
          "base_uri": "https://localhost:8080/"
        },
        "outputId": "b63a925d-9a7a-4657-a268-f33e7e42f37e"
      },
      "outputs": [
        {
          "output_type": "stream",
          "name": "stdout",
          "text": [
            "Found 11665 files belonging to 2 classes.\n"
          ]
        }
      ],
      "source": [
        "test_data = image_dataset_from_directory(\n",
        "    \"/content/test_as_jpg\",\n",
        "     labels='inferred',\n",
        "     label_mode=\"int\",\n",
        "     batch_size = 64,\n",
        "     color_mode = \"rgb\"\n",
        "     )"
      ]
    },
    {
      "cell_type": "code",
      "execution_count": null,
      "metadata": {
        "id": "QV4OSt9S20R3"
      },
      "outputs": [],
      "source": [
        "class_names = train_data.class_names"
      ]
    },
    {
      "cell_type": "markdown",
      "metadata": {
        "id": "9F0cjcFhC6wf"
      },
      "source": [
        "## Normalizando e Pegando o tamanho de entrada"
      ]
    },
    {
      "cell_type": "code",
      "execution_count": null,
      "metadata": {
        "id": "rWyT6SWbCpKK"
      },
      "outputs": [],
      "source": [
        "normalization_layer = Rescaling(1./255)\n",
        "\n",
        "normalized_data = train_data.map(lambda x, y: (normalization_layer(x), y))\n",
        "image_batch, labels_batch = next(iter(normalized_data))\n",
        "\n",
        "normalized_val_data = val_data.map(lambda x, y: (normalization_layer(x), y))\n",
        "val_image_batch, val_labels_batch = next(iter(normalized_val_data))\n",
        "\n",
        "normalized_test_data = test_data.map(lambda x, y: (normalization_layer(x), y))\n",
        "test_image_batch, test_labels_batch = next(iter(normalized_test_data))"
      ]
    },
    {
      "cell_type": "markdown",
      "source": [
        "# ResNet"
      ],
      "metadata": {
        "id": "9i6qHQeKF9bB"
      }
    },
    {
      "cell_type": "code",
      "source": [
        "keras.backend.clear_session()"
      ],
      "metadata": {
        "id": "u7dl5iNERE2g"
      },
      "execution_count": null,
      "outputs": []
    },
    {
      "cell_type": "code",
      "source": [
        "resnet_model = Sequential()\n",
        "\n",
        "resnet = tf.keras.applications.resnet50.ResNet50(\n",
        "    include_top=False,\n",
        "    input_shape=image_batch.shape[1:],\n",
        "    pooling='avg',\n",
        "    weights='imagenet',\n",
        "    classes=2,\n",
        ")\n",
        "\n",
        "resnet_model.add(resnet)\n",
        "\n",
        "resnet_model.add(Flatten())\n",
        "\n",
        "resnet_model.add(Dense(512, activation=\"relu\"))\n",
        "\n",
        "resnet_model.add(Dropout(0.5))\n",
        "\n",
        "resnet_model.add(Dense(1, activation=\"sigmoid\"))\n",
        "\n",
        "resnet_model.summary()"
      ],
      "metadata": {
        "colab": {
          "base_uri": "https://localhost:8080/"
        },
        "id": "fhXaCHmcGAOu",
        "outputId": "f9f60951-fb3a-4495-c123-d9efb34ec5a5"
      },
      "execution_count": null,
      "outputs": [
        {
          "output_type": "stream",
          "name": "stdout",
          "text": [
            "Model: \"sequential\"\n",
            "_________________________________________________________________\n",
            " Layer (type)                Output Shape              Param #   \n",
            "=================================================================\n",
            " resnet50 (Functional)       (None, 2048)              23587712  \n",
            "                                                                 \n",
            " flatten (Flatten)           (None, 2048)              0         \n",
            "                                                                 \n",
            " dense (Dense)               (None, 512)               1049088   \n",
            "                                                                 \n",
            " dropout (Dropout)           (None, 512)               0         \n",
            "                                                                 \n",
            " dense_1 (Dense)             (None, 1)                 513       \n",
            "                                                                 \n",
            "=================================================================\n",
            "Total params: 24,637,313\n",
            "Trainable params: 24,584,193\n",
            "Non-trainable params: 53,120\n",
            "_________________________________________________________________\n"
          ]
        }
      ]
    },
    {
      "cell_type": "code",
      "source": [
        "neg = 20047\n",
        "pos = 3287\n",
        "total = pos+neg\n",
        "\n",
        "w0 = (1 / neg) * (total / 2.0)\n",
        "w1 = (1 / pos) * (total / 2.0)\n",
        "\n",
        "print('Peso para a classe 0: {:.2f}'.format(w0))\n",
        "print('Peso para a classe 1: {:.2f}'.format(w1))"
      ],
      "metadata": {
        "colab": {
          "base_uri": "https://localhost:8080/"
        },
        "id": "rNCgTEpHHK-F",
        "outputId": "50762b52-aafb-495b-a97f-abdccba0832a"
      },
      "execution_count": null,
      "outputs": [
        {
          "output_type": "stream",
          "name": "stdout",
          "text": [
            "Peso para a classe 0: 0.58\n",
            "Peso para a classe 1: 3.55\n"
          ]
        }
      ]
    },
    {
      "cell_type": "code",
      "source": [
        "resnet_model.compile(loss='binary_crossentropy', optimizer=optimizers.Adam(learning_rate=0.00001), metrics=[keras.metrics.AUC(), 'accuracy'])"
      ],
      "metadata": {
        "id": "V0pen7Y8HuVS"
      },
      "execution_count": null,
      "outputs": []
    },
    {
      "cell_type": "code",
      "source": [
        "run_hist = resnet_model.fit(normalized_data, validation_data=normalized_val_data, epochs=5, class_weight={0:w0, 1:w1}, \n",
        "  callbacks=[keras.callbacks.EarlyStopping(\n",
        "                  monitor=\"val_auc\",\n",
        "                  min_delta=0,\n",
        "                  patience=5,\n",
        "                  verbose=1,\n",
        "                  mode=\"auto\",\n",
        "                  baseline=None,\n",
        "                  restore_best_weights=True,\n",
        "              )])"
      ],
      "metadata": {
        "colab": {
          "base_uri": "https://localhost:8080/"
        },
        "id": "Qj0FzSE-Hv31",
        "outputId": "26dbf664-121e-4afd-e51a-dcebca21158d"
      },
      "execution_count": null,
      "outputs": [
        {
          "output_type": "stream",
          "name": "stdout",
          "text": [
            "Epoch 1/5\n",
            "244/244 [==============================] - 243s 903ms/step - loss: 0.5952 - auc: 0.7535 - accuracy: 0.6916 - val_loss: 0.4304 - val_auc: 0.4912 - val_accuracy: 0.8581\n",
            "Epoch 2/5\n",
            "244/244 [==============================] - 218s 893ms/step - loss: 0.4399 - auc: 0.8744 - accuracy: 0.8098 - val_loss: 0.4275 - val_auc: 0.5240 - val_accuracy: 0.8581\n",
            "Epoch 3/5\n",
            "244/244 [==============================] - 219s 894ms/step - loss: 0.3373 - auc: 0.9291 - accuracy: 0.8726 - val_loss: 0.4276 - val_auc: 0.6268 - val_accuracy: 0.8590\n",
            "Epoch 4/5\n",
            "244/244 [==============================] - 219s 895ms/step - loss: 0.2537 - auc: 0.9609 - accuracy: 0.9177 - val_loss: 0.3334 - val_auc: 0.8311 - val_accuracy: 0.8795\n",
            "Epoch 5/5\n",
            "244/244 [==============================] - 219s 894ms/step - loss: 0.2060 - auc: 0.9736 - accuracy: 0.9370 - val_loss: 0.4169 - val_auc: 0.8720 - val_accuracy: 0.8623\n"
          ]
        }
      ]
    },
    {
      "cell_type": "code",
      "source": [
        "results = resnet_model.evaluate(normalized_test_data)\n",
        "print(results)"
      ],
      "metadata": {
        "colab": {
          "base_uri": "https://localhost:8080/"
        },
        "id": "g9WR2Kn2Ikxz",
        "outputId": "92ad7aa4-29c5-4931-bc06-9c3d399579f4"
      },
      "execution_count": null,
      "outputs": [
        {
          "output_type": "stream",
          "name": "stdout",
          "text": [
            "183/183 [==============================] - 47s 250ms/step - loss: 0.4187 - auc: 0.8767 - accuracy: 0.8651\n",
            "[0.4186899662017822, 0.8766594529151917, 0.865066409111023]\n"
          ]
        }
      ]
    },
    {
      "cell_type": "code",
      "source": [
        "run_hist = resnet_model.fit(normalized_data, validation_data=normalized_val_data, epochs=10, class_weight={0:w0, 1:w1}, \n",
        "  callbacks=[keras.callbacks.EarlyStopping(\n",
        "                  monitor=\"val_auc\",\n",
        "                  min_delta=0,\n",
        "                  patience=5,\n",
        "                  verbose=1,\n",
        "                  mode=\"auto\",\n",
        "                  baseline=None,\n",
        "                  restore_best_weights=True,\n",
        "              )])"
      ],
      "metadata": {
        "colab": {
          "base_uri": "https://localhost:8080/"
        },
        "id": "ciLhyxTKQ4Z9",
        "outputId": "917303db-1ac5-4c58-d36b-2603c76bea1e"
      },
      "execution_count": null,
      "outputs": [
        {
          "output_type": "stream",
          "name": "stdout",
          "text": [
            "Epoch 1/10\n",
            "244/244 [==============================] - 226s 899ms/step - loss: 0.6047 - auc: 0.7471 - accuracy: 0.6803 - val_loss: 0.5590 - val_auc: 0.5693 - val_accuracy: 0.8458\n",
            "Epoch 2/10\n",
            "244/244 [==============================] - 219s 896ms/step - loss: 0.4404 - auc: 0.8733 - accuracy: 0.8147 - val_loss: 0.4777 - val_auc: 0.6668 - val_accuracy: 0.8321\n",
            "Epoch 3/10\n",
            "244/244 [==============================] - 219s 894ms/step - loss: 0.3448 - auc: 0.9243 - accuracy: 0.8761 - val_loss: 0.5005 - val_auc: 0.7776 - val_accuracy: 0.7701\n",
            "Epoch 4/10\n",
            "244/244 [==============================] - 218s 892ms/step - loss: 0.2555 - auc: 0.9604 - accuracy: 0.9196 - val_loss: 0.5501 - val_auc: 0.8388 - val_accuracy: 0.7840\n",
            "Epoch 5/10\n",
            "244/244 [==============================] - 219s 894ms/step - loss: 0.1796 - auc: 0.9803 - accuracy: 0.9522 - val_loss: 0.6495 - val_auc: 0.8822 - val_accuracy: 0.8035\n",
            "Epoch 6/10\n",
            "244/244 [==============================] - 218s 892ms/step - loss: 0.1350 - auc: 0.9874 - accuracy: 0.9703 - val_loss: 0.5271 - val_auc: 0.8697 - val_accuracy: 0.8596\n",
            "Epoch 7/10\n",
            "244/244 [==============================] - 218s 893ms/step - loss: 0.1154 - auc: 0.9894 - accuracy: 0.9785 - val_loss: 0.3963 - val_auc: 0.8558 - val_accuracy: 0.8968\n",
            "Epoch 8/10\n",
            "244/244 [==============================] - 219s 894ms/step - loss: 0.1052 - auc: 0.9901 - accuracy: 0.9821 - val_loss: 0.4160 - val_auc: 0.8456 - val_accuracy: 0.9023\n",
            "Epoch 9/10\n",
            "244/244 [==============================] - 218s 893ms/step - loss: 0.1196 - auc: 0.9879 - accuracy: 0.9747 - val_loss: 0.4336 - val_auc: 0.8525 - val_accuracy: 0.8950\n",
            "Epoch 10/10\n",
            "244/244 [==============================] - ETA: 0s - loss: 0.0995 - auc: 0.9908 - accuracy: 0.9835Restoring model weights from the end of the best epoch: 5.\n",
            "244/244 [==============================] - 219s 894ms/step - loss: 0.0995 - auc: 0.9908 - accuracy: 0.9835 - val_loss: 0.4398 - val_auc: 0.8338 - val_accuracy: 0.9016\n",
            "Epoch 10: early stopping\n"
          ]
        }
      ]
    },
    {
      "cell_type": "code",
      "source": [
        "results = resnet_model.evaluate(normalized_test_data)\n",
        "print(results)"
      ],
      "metadata": {
        "colab": {
          "base_uri": "https://localhost:8080/"
        },
        "id": "9wEXoDk8RM4s",
        "outputId": "a926048d-752b-4bfc-86c4-4f01edff5c2c"
      },
      "execution_count": null,
      "outputs": [
        {
          "output_type": "stream",
          "name": "stdout",
          "text": [
            "183/183 [==============================] - 46s 249ms/step - loss: 0.6581 - auc: 0.8814 - accuracy: 0.7976\n",
            "[0.6580597758293152, 0.881447434425354, 0.7975996732711792]\n"
          ]
        }
      ]
    }
  ]
}