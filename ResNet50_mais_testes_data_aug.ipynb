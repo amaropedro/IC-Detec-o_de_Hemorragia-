{
  "nbformat": 4,
  "nbformat_minor": 0,
  "metadata": {
    "colab": {
      "provenance": [],
      "collapsed_sections": [
        "zIJjWox-P_Xk",
        "1vLx4FnN9pTL"
      ]
    },
    "kernelspec": {
      "name": "python3",
      "display_name": "Python 3"
    },
    "language_info": {
      "name": "python"
    },
    "accelerator": "GPU",
    "gpuClass": "standard"
  },
  "cells": [
    {
      "cell_type": "markdown",
      "source": [
        "# Usando a ResNet50 para treinar com data augmentation\n",
        "\n",
        "Data Aug: https://www.tensorflow.org/tutorials/images/data_augmentation </br>\n",
        "https://www.tensorflow.org/api_docs/python/tf/keras/layers\n",
        "\n",
        "ResNet:\n",
        "https://www.tensorflow.org/api_docs/python/tf/keras/applications/resnet50/ResNet50 </br>\n",
        "https://chroniclesofai.com/transfer-learning-with-keras-resnet-50/"
      ],
      "metadata": {
        "id": "MKVM05ULMQZ_"
      }
    },
    {
      "cell_type": "code",
      "execution_count": null,
      "metadata": {
        "colab": {
          "base_uri": "https://localhost:8080/"
        },
        "id": "Kmq_cRI2E0Yi",
        "outputId": "efb1ca55-208a-4d63-a12d-10b7b15570c0"
      },
      "outputs": [
        {
          "output_type": "stream",
          "name": "stdout",
          "text": [
            "Looking in indexes: https://pypi.org/simple, https://us-python.pkg.dev/colab-wheels/public/simple/\n",
            "Collecting pydicom\n",
            "  Downloading pydicom-2.3.0-py3-none-any.whl (2.0 MB)\n",
            "\u001b[K     |████████████████████████████████| 2.0 MB 33.8 MB/s \n",
            "\u001b[?25hInstalling collected packages: pydicom\n",
            "Successfully installed pydicom-2.3.0\n"
          ]
        }
      ],
      "source": [
        "import keras\n",
        "import tensorflow as tf\n",
        "from keras.models import Sequential\n",
        "from keras.layers import Flatten, Dense, Dropout, Rescaling\n",
        "from tensorflow.keras import optimizers\n",
        "from tensorflow.keras.utils import image_dataset_from_directory\n",
        "\n",
        "!pip install pydicom\n",
        "import numpy as np\n",
        "import pydicom\n",
        "from PIL import Image\n",
        "import os\n",
        "\n",
        "import cv2"
      ]
    },
    {
      "cell_type": "code",
      "execution_count": null,
      "metadata": {
        "id": "jMgO-lGHBZjo"
      },
      "outputs": [],
      "source": [
        "!mkdir ~/.kaggle\n",
        "! cp kaggle.json ~/.kaggle/\n",
        "!chmod 600 /root/.kaggle/kaggle.json"
      ]
    },
    {
      "cell_type": "markdown",
      "metadata": {
        "id": "mhDRQJZjBsfu"
      },
      "source": [
        "# Ajustando o DS"
      ]
    },
    {
      "cell_type": "markdown",
      "metadata": {
        "id": "k7yjVCRxBvcy"
      },
      "source": [
        "## Baixando o DS"
      ]
    },
    {
      "cell_type": "code",
      "execution_count": null,
      "metadata": {
        "colab": {
          "base_uri": "https://localhost:8080/"
        },
        "id": "BL-zCU80wu8Q",
        "outputId": "a328ebc0-a1e7-4860-879f-5e3de85b958d"
      },
      "outputs": [
        {
          "output_type": "stream",
          "name": "stdout",
          "text": [
            "Downloading smaller-rsna-ds-train-test.zip to /content\n",
            "100% 7.24G/7.25G [03:26<00:00, 42.7MB/s]\n",
            "100% 7.25G/7.25G [03:26<00:00, 37.7MB/s]\n"
          ]
        }
      ],
      "source": [
        "!kaggle datasets download -d pedroamaro/smaller-rsna-ds-train-test"
      ]
    },
    {
      "cell_type": "code",
      "execution_count": null,
      "metadata": {
        "colab": {
          "base_uri": "https://localhost:8080/"
        },
        "id": "ZBNQnYz-0EWs",
        "outputId": "c25efccb-7f0f-46a9-9407-9d7e2950dee2"
      },
      "outputs": [
        {
          "output_type": "stream",
          "name": "stdout",
          "text": [
            ". . . . . . . . . . . . . . . . . . . . . . . . . . . . . . . . . . . "
          ]
        }
      ],
      "source": [
        "!unzip /content/smaller-rsna-ds-train-test.zip | awk 'BEGIN {ORS=\" \"} {if(NR%1000==0)print \".\"}'\n",
        "!rm /content/smaller-rsna-ds-train-test.zip"
      ]
    },
    {
      "cell_type": "code",
      "execution_count": null,
      "metadata": {
        "colab": {
          "base_uri": "https://localhost:8080/"
        },
        "id": "RPKduTwuNeAR",
        "outputId": "4d33e9a4-0646-4dab-dcfb-5e1793072cf3"
      },
      "outputs": [
        {
          "output_type": "stream",
          "name": "stdout",
          "text": [
            "Numero de imagens: NO\n",
            "20047\n",
            "Numero de imagens: YES\n",
            "3287\n"
          ]
        }
      ],
      "source": [
        "print('Numero de imagens: NO')\n",
        "!ls /content/small_rsna_ds_train/no | wc -l\n",
        "print('Numero de imagens: YES')\n",
        "!ls /content/small_rsna_ds_train/yes | wc -l"
      ]
    },
    {
      "cell_type": "markdown",
      "metadata": {
        "id": "Q4Rp5hVzN0f0"
      },
      "source": [
        "## Salvando como JPG e aplicando full windowing"
      ]
    },
    {
      "cell_type": "code",
      "execution_count": null,
      "metadata": {
        "id": "-0YUsQ5a9uok"
      },
      "outputs": [],
      "source": [
        "!mkdir small_rsna_ds_as_jpg\n",
        "!mkdir /content/small_rsna_ds_as_jpg/no\n",
        "!mkdir /content/small_rsna_ds_as_jpg/yes\n",
        "\n",
        "!mkdir test_as_jpg\n",
        "!mkdir test_as_jpg/no\n",
        "!mkdir test_as_jpg/yes"
      ]
    },
    {
      "cell_type": "code",
      "execution_count": null,
      "metadata": {
        "id": "bPDf68wT9ykv"
      },
      "outputs": [],
      "source": [
        "def segment_circle(windowed):\n",
        "    original = windowed.copy().astype(\"uint8\")\n",
        "    mask = np.zeros(original.shape, dtype=np.uint8)\n",
        "    gray = original\n",
        "    thresh = cv2.threshold(gray, 0, 255, cv2.THRESH_BINARY + cv2.THRESH_OTSU)[1]\n",
        "    kernel = cv2.getStructuringElement(cv2.MORPH_ELLIPSE, (5,5))\n",
        "    close = cv2.morphologyEx(thresh, cv2.MORPH_CLOSE, kernel, iterations=5)\n",
        "    cnts = cv2.findContours(close, cv2.RETR_TREE, cv2.CHAIN_APPROX_SIMPLE)\n",
        "    cnts = cnts[0] if len(cnts) == 2 else cnts[1]\n",
        "    for c in cnts:\n",
        "        peri = cv2.arcLength(c, True)\n",
        "        approx = cv2.approxPolyDP(c, 0.04 * peri, True)\n",
        "        area = cv2.contourArea(c)\n",
        "        if len(approx) > 4 and area > 10000 and area < 500000:\n",
        "            ((x, y), r) = cv2.minEnclosingCircle(c)\n",
        "            cv2.circle(mask, (int(x), int(y)), int(r), (255, 255, 255), -1)\n",
        "            cv2.circle(original, (int(x), int(y)), int(r), (36, 255, 12), 0)\n",
        "    x,y,w,h = cv2.boundingRect(mask)\n",
        "    mask_ROI = mask[y:y+h, x:x+w]\n",
        "    image_ROI = original[y:y+h, x:x+w]\n",
        "    result = cv2.bitwise_and(image_ROI, image_ROI, mask=mask_ROI)\n",
        "    return result, (x, y, w, h)\n",
        "\n",
        "def correct_dcm(dcm):\n",
        "    x = dcm.pixel_array + 1000\n",
        "    px_mode = 4096\n",
        "    x[x>=px_mode] = x[x>=px_mode] - px_mode\n",
        "    dcm.PixelData = x.tobytes()\n",
        "    dcm.RescaleIntercept = -1000\n",
        "\n",
        "def window_image(img, window_center, window_width):\n",
        "    img_min = window_center - window_width // 2\n",
        "    img_max = window_center + window_width // 2\n",
        "    img = np.clip(img, img_min, img_max)\n",
        "    return img\n",
        "\n",
        "\n",
        "def preprocess_and_segment(path, make_correct=True):    \n",
        "    dcm = pydicom.dcmread(path)\n",
        "    if make_correct and (dcm.BitsStored == 12) and (dcm.PixelRepresentation == 0) and (int(dcm.RescaleIntercept) > -100):\n",
        "        correct_dcm(dcm)\n",
        "\n",
        "    sample = dcm.pixel_array.astype(\"float32\") * dcm.RescaleSlope + dcm.RescaleIntercept\n",
        "\n",
        "    brain_window = window_image(sample, 40, 80)\n",
        "    dural_window = window_image(sample, 80, 200)\n",
        "    bone_window = window_image(sample, 600, 2800)\n",
        "\n",
        "    brain_window, (x,y,w,h) = segment_circle(brain_window)\n",
        "    if brain_window is None:\n",
        "        return np.zeros((512, 512, 3))\n",
        "    dural_window = dural_window[y:y+h, x:x+w]\n",
        "    bone_window = bone_window[y:y+h, x:x+w]\n",
        "    \n",
        "    brain_window = (brain_window - (0.)) / 80.\n",
        "    dural_window = (dural_window - (-20.)) / 200.\n",
        "    bone_window = (bone_window - (-1200.)) / 2800.\n",
        "    img_3ch = np.dstack([brain_window, dural_window, bone_window]).astype(\"float32\")\n",
        "\n",
        "    return img_3ch\n",
        "\n",
        "\n",
        "def save_W_as_jpg(path, id, dest_folder):\n",
        "\n",
        "  im = preprocess_and_segment(path)\n",
        "\n",
        "  rescaled_im = (np.maximum(im, 0)/im.max())*255.0\n",
        "  final_im = np.uint8(rescaled_im)\n",
        "\n",
        "  final_im = Image.fromarray(final_im)\n",
        "  final_im.save(dest_folder+id+'.jpg')"
      ]
    },
    {
      "cell_type": "markdown",
      "metadata": {
        "id": "qQBZgCOkP758"
      },
      "source": [
        "### Para o conjunto Train"
      ]
    },
    {
      "cell_type": "code",
      "execution_count": null,
      "metadata": {
        "colab": {
          "base_uri": "https://localhost:8080/"
        },
        "id": "XUcLXxQt9z5b",
        "outputId": "2222eab9-e316-45f1-a10c-7fcfa851a893"
      },
      "outputs": [
        {
          "output_type": "stream",
          "name": "stderr",
          "text": [
            "/usr/local/lib/python3.7/dist-packages/ipykernel_launcher.py:67: RuntimeWarning: invalid value encountered in true_divide\n"
          ]
        }
      ],
      "source": [
        "train_path = \"/content/small_rsna_ds_train/yes/\"\n",
        "folder = os.listdir(\"/content/small_rsna_ds_train/yes/\")\n",
        "dest_folder = \"/content/small_rsna_ds_as_jpg/yes/\"\n",
        "\n",
        "for id_ in folder:\n",
        "  img_id = id_[:12]\n",
        "  save_W_as_jpg(train_path + f\"{id_}\", img_id, dest_folder)"
      ]
    },
    {
      "cell_type": "code",
      "execution_count": null,
      "metadata": {
        "id": "rOjiLkNp91hy",
        "colab": {
          "base_uri": "https://localhost:8080/"
        },
        "outputId": "49d2f875-c813-4dd1-ca5c-4f50f3d16aec"
      },
      "outputs": [
        {
          "output_type": "stream",
          "name": "stderr",
          "text": [
            "/usr/local/lib/python3.7/dist-packages/ipykernel_launcher.py:67: RuntimeWarning: invalid value encountered in true_divide\n"
          ]
        }
      ],
      "source": [
        "train_path = \"/content/small_rsna_ds_train/no/\"\n",
        "folder = os.listdir(\"/content/small_rsna_ds_train/no/\")\n",
        "dest_folder = \"/content/small_rsna_ds_as_jpg/no/\"\n",
        "\n",
        "for id_ in folder:\n",
        "  img_id = id_[:12]\n",
        "  save_W_as_jpg(train_path + f\"{id_}\", img_id, dest_folder)"
      ]
    },
    {
      "cell_type": "code",
      "execution_count": null,
      "metadata": {
        "id": "685g4iwg-6ow",
        "colab": {
          "base_uri": "https://localhost:8080/"
        },
        "outputId": "2bf022fb-e6d8-4621-84a6-c1ee551c022e"
      },
      "outputs": [
        {
          "output_type": "stream",
          "name": "stdout",
          "text": [
            "Numero de imagens: NO\n",
            "20047\n",
            "Numero de imagens: YES\n",
            "3287\n"
          ]
        }
      ],
      "source": [
        "print('Numero de imagens: NO')\n",
        "!ls /content/small_rsna_ds_as_jpg/no/ | wc -l\n",
        "print('Numero de imagens: YES')\n",
        "!ls /content/small_rsna_ds_as_jpg/yes/ | wc -l"
      ]
    },
    {
      "cell_type": "markdown",
      "metadata": {
        "id": "zIJjWox-P_Xk"
      },
      "source": [
        "### Para o conjunto Test"
      ]
    },
    {
      "cell_type": "code",
      "execution_count": null,
      "metadata": {
        "id": "FoGysyXiQDJ1",
        "colab": {
          "base_uri": "https://localhost:8080/"
        },
        "outputId": "5831a8ac-630d-4a01-e14f-0a89243d104d"
      },
      "outputs": [
        {
          "output_type": "stream",
          "name": "stderr",
          "text": [
            "/usr/local/lib/python3.7/dist-packages/ipykernel_launcher.py:67: RuntimeWarning: invalid value encountered in true_divide\n"
          ]
        }
      ],
      "source": [
        "train_path = \"/content/small_rsna_ds_test/yes/\"\n",
        "folder = os.listdir(\"/content/small_rsna_ds_test/yes/\")\n",
        "dest_folder = \"/content/test_as_jpg/yes/\"\n",
        "\n",
        "for id_ in folder:\n",
        "  img_id = id_[:12]\n",
        "  save_W_as_jpg(train_path + f\"{id_}\", img_id, dest_folder)"
      ]
    },
    {
      "cell_type": "code",
      "execution_count": null,
      "metadata": {
        "id": "fnjReU73QDJ2",
        "colab": {
          "base_uri": "https://localhost:8080/"
        },
        "outputId": "91edc356-cb12-4af2-a63d-4234074c7f1a"
      },
      "outputs": [
        {
          "output_type": "stream",
          "name": "stderr",
          "text": [
            "/usr/local/lib/python3.7/dist-packages/ipykernel_launcher.py:67: RuntimeWarning: invalid value encountered in true_divide\n"
          ]
        }
      ],
      "source": [
        "train_path = \"/content/small_rsna_ds_test/no/\"\n",
        "folder = os.listdir(\"/content/small_rsna_ds_test/no/\")\n",
        "dest_folder = \"/content/test_as_jpg/no/\"\n",
        "\n",
        "for id_ in folder:\n",
        "  img_id = id_[:12]\n",
        "  save_W_as_jpg(train_path + f\"{id_}\", img_id, dest_folder)"
      ]
    },
    {
      "cell_type": "code",
      "execution_count": null,
      "metadata": {
        "id": "MLeecKqrQDJ2",
        "colab": {
          "base_uri": "https://localhost:8080/"
        },
        "outputId": "8d2fb483-084f-4a12-f7f2-9a5d5799e7c7"
      },
      "outputs": [
        {
          "output_type": "stream",
          "name": "stdout",
          "text": [
            "Numero de imagens: NO\n",
            "10022\n",
            "Numero de imagens: YES\n",
            "1643\n"
          ]
        }
      ],
      "source": [
        "print('Numero de imagens: NO')\n",
        "!ls /content/test_as_jpg/no/ | wc -l\n",
        "print('Numero de imagens: YES')\n",
        "!ls /content/test_as_jpg/yes/ | wc -l"
      ]
    },
    {
      "cell_type": "markdown",
      "metadata": {
        "id": "1vLx4FnN9pTL"
      },
      "source": [
        "# Carregando o dataset"
      ]
    },
    {
      "cell_type": "code",
      "execution_count": null,
      "metadata": {
        "id": "Y9-K7AMD10NK",
        "colab": {
          "base_uri": "https://localhost:8080/"
        },
        "outputId": "ff46ade9-9b1c-4b74-9417-a52cf1f44043"
      },
      "outputs": [
        {
          "output_type": "stream",
          "name": "stdout",
          "text": [
            "Found 23334 files belonging to 2 classes.\n",
            "Using 15556 files for training.\n"
          ]
        }
      ],
      "source": [
        "train_data = image_dataset_from_directory(\n",
        "    \"/content/small_rsna_ds_as_jpg\",\n",
        "     labels='inferred',\n",
        "     validation_split=1/3,\n",
        "     subset=\"training\",\n",
        "     seed=123,\n",
        "     batch_size = 64,\n",
        "     color_mode = \"rgb\"\n",
        "     )"
      ]
    },
    {
      "cell_type": "code",
      "execution_count": null,
      "metadata": {
        "id": "1tdF_VgO425w",
        "colab": {
          "base_uri": "https://localhost:8080/"
        },
        "outputId": "856be290-e8cd-4556-e246-5b45c61d2301"
      },
      "outputs": [
        {
          "output_type": "stream",
          "name": "stdout",
          "text": [
            "Found 23334 files belonging to 2 classes.\n",
            "Using 7778 files for validation.\n"
          ]
        }
      ],
      "source": [
        "val_data = image_dataset_from_directory(\n",
        "    \"/content/small_rsna_ds_as_jpg\",\n",
        "     labels='inferred',\n",
        "     validation_split=1/3,\n",
        "     subset=\"validation\",\n",
        "     seed=123,\n",
        "     batch_size = 64,\n",
        "     color_mode = \"rgb\"\n",
        ")"
      ]
    },
    {
      "cell_type": "code",
      "execution_count": null,
      "metadata": {
        "id": "co1kN22wQxHE",
        "colab": {
          "base_uri": "https://localhost:8080/"
        },
        "outputId": "d6cdf2b6-4e86-489b-abac-48f3a0fd56bb"
      },
      "outputs": [
        {
          "output_type": "stream",
          "name": "stdout",
          "text": [
            "Found 11665 files belonging to 2 classes.\n"
          ]
        }
      ],
      "source": [
        "test_data = image_dataset_from_directory(\n",
        "    \"/content/test_as_jpg\",\n",
        "     labels='inferred',\n",
        "     label_mode=\"int\",\n",
        "     batch_size = 64,\n",
        "     color_mode = \"rgb\"\n",
        "     )"
      ]
    },
    {
      "cell_type": "code",
      "execution_count": null,
      "metadata": {
        "id": "QV4OSt9S20R3"
      },
      "outputs": [],
      "source": [
        "class_names = train_data.class_names"
      ]
    },
    {
      "cell_type": "markdown",
      "metadata": {
        "id": "9F0cjcFhC6wf"
      },
      "source": [
        "## Normalizando e Pegando o tamanho de entrada"
      ]
    },
    {
      "cell_type": "code",
      "execution_count": null,
      "metadata": {
        "id": "rWyT6SWbCpKK"
      },
      "outputs": [],
      "source": [
        "normalization_layer = Rescaling(1./255)\n",
        "\n",
        "normalized_data = train_data.map(lambda x, y: (normalization_layer(x), y))\n",
        "image_batch, labels_batch = next(iter(normalized_data))\n",
        "\n",
        "normalized_val_data = val_data.map(lambda x, y: (normalization_layer(x), y))\n",
        "val_image_batch, val_labels_batch = next(iter(normalized_val_data))\n",
        "\n",
        "normalized_test_data = test_data.map(lambda x, y: (normalization_layer(x), y))\n",
        "test_image_batch, test_labels_batch = next(iter(normalized_test_data))"
      ]
    },
    {
      "cell_type": "markdown",
      "source": [
        "# ResNet com data aug"
      ],
      "metadata": {
        "id": "9i6qHQeKF9bB"
      }
    },
    {
      "cell_type": "code",
      "source": [
        "from keras.layers import RandomFlip, RandomRotation, RandomCrop"
      ],
      "metadata": {
        "id": "uy087mRZNjG2"
      },
      "execution_count": null,
      "outputs": []
    },
    {
      "cell_type": "code",
      "source": [
        "keras.backend.clear_session()"
      ],
      "metadata": {
        "id": "u7dl5iNERE2g"
      },
      "execution_count": null,
      "outputs": []
    },
    {
      "cell_type": "code",
      "source": [
        "resnet_model = Sequential()\n",
        "\n",
        "resnet_model.add(RandomFlip(\"horizontal\"))\n",
        "resnet_model.add(RandomRotation(0.2)) #que valor usar?\n",
        "resnet_model.add(RandomCrop(256, 256, seed=1)) #height e width do output e a seed\n",
        "\n",
        "resnet = tf.keras.applications.resnet50.ResNet50(\n",
        "    include_top=False,\n",
        "    input_shape=image_batch.shape[1:],\n",
        "    pooling='avg',\n",
        "    weights='imagenet',\n",
        "    classes=2,\n",
        ")\n",
        "\n",
        "resnet_model.add(resnet)\n",
        "\n",
        "resnet_model.add(Flatten())\n",
        "\n",
        "resnet_model.add(Dense(512, activation=\"relu\"))\n",
        "\n",
        "resnet_model.add(Dropout(0.5))\n",
        "\n",
        "resnet_model.add(Dense(1, activation=\"sigmoid\"))"
      ],
      "metadata": {
        "id": "fhXaCHmcGAOu"
      },
      "execution_count": null,
      "outputs": []
    },
    {
      "cell_type": "code",
      "source": [
        "neg = 20047\n",
        "pos = 3287\n",
        "total = pos+neg\n",
        "\n",
        "w0 = (1 / neg) * (total / 2.0)\n",
        "w1 = (1 / pos) * (total / 2.0)\n",
        "\n",
        "print('Peso para a classe 0: {:.2f}'.format(w0))\n",
        "print('Peso para a classe 1: {:.2f}'.format(w1))"
      ],
      "metadata": {
        "colab": {
          "base_uri": "https://localhost:8080/"
        },
        "id": "rNCgTEpHHK-F",
        "outputId": "f95831ab-b68e-4e8e-d5d9-aee48210331b"
      },
      "execution_count": null,
      "outputs": [
        {
          "output_type": "stream",
          "name": "stdout",
          "text": [
            "Peso para a classe 0: 0.58\n",
            "Peso para a classe 1: 3.55\n"
          ]
        }
      ]
    },
    {
      "cell_type": "code",
      "source": [
        "resnet_model.compile(loss='binary_crossentropy', optimizer=optimizers.Adam(learning_rate=0.00001), metrics=[keras.metrics.AUC(), 'accuracy'])"
      ],
      "metadata": {
        "id": "V0pen7Y8HuVS"
      },
      "execution_count": null,
      "outputs": []
    },
    {
      "cell_type": "code",
      "source": [
        "run_hist = resnet_model.fit(normalized_data, validation_data=normalized_val_data, epochs=5, class_weight={0:w0, 1:w1}, \n",
        "  callbacks=[keras.callbacks.EarlyStopping(\n",
        "                  monitor=\"val_auc\",\n",
        "                  min_delta=0,\n",
        "                  patience=5,\n",
        "                  verbose=1,\n",
        "                  mode=\"auto\",\n",
        "                  baseline=None,\n",
        "                  restore_best_weights=True,\n",
        "              )])"
      ],
      "metadata": {
        "colab": {
          "base_uri": "https://localhost:8080/"
        },
        "id": "Qj0FzSE-Hv31",
        "outputId": "df392e5e-ad4b-4296-e632-666738a6982a"
      },
      "execution_count": null,
      "outputs": [
        {
          "output_type": "stream",
          "name": "stdout",
          "text": [
            "Epoch 1/5\n",
            "244/244 [==============================] - 250s 926ms/step - loss: 0.6261 - auc: 0.7236 - accuracy: 0.6627 - val_loss: 0.4970 - val_auc: 0.3842 - val_accuracy: 0.8579\n",
            "Epoch 2/5\n",
            "244/244 [==============================] - 227s 929ms/step - loss: 0.5151 - auc: 0.8235 - accuracy: 0.7540 - val_loss: 0.4549 - val_auc: 0.5586 - val_accuracy: 0.8541\n",
            "Epoch 3/5\n",
            "244/244 [==============================] - 227s 927ms/step - loss: 0.4689 - auc: 0.8545 - accuracy: 0.8022 - val_loss: 0.4572 - val_auc: 0.6893 - val_accuracy: 0.8116\n",
            "Epoch 4/5\n",
            "244/244 [==============================] - 228s 930ms/step - loss: 0.4353 - auc: 0.8738 - accuracy: 0.8282 - val_loss: 0.5379 - val_auc: 0.8332 - val_accuracy: 0.7828\n",
            "Epoch 5/5\n",
            "244/244 [==============================] - 227s 928ms/step - loss: 0.4154 - auc: 0.8865 - accuracy: 0.8401 - val_loss: 0.4498 - val_auc: 0.9025 - val_accuracy: 0.8312\n"
          ]
        }
      ]
    },
    {
      "cell_type": "code",
      "source": [
        "results = resnet_model.evaluate(normalized_test_data)\n",
        "print(results)"
      ],
      "metadata": {
        "colab": {
          "base_uri": "https://localhost:8080/"
        },
        "id": "g9WR2Kn2Ikxz",
        "outputId": "1201698e-985a-403d-a9ee-00d3bc38c4f2"
      },
      "execution_count": null,
      "outputs": [
        {
          "output_type": "stream",
          "name": "stdout",
          "text": [
            "183/183 [==============================] - 50s 269ms/step - loss: 0.4626 - auc: 0.8990 - accuracy: 0.8267\n",
            "[0.46262094378471375, 0.8989992141723633, 0.8266609311103821]\n"
          ]
        }
      ]
    },
    {
      "cell_type": "markdown",
      "source": [
        "## mais epochs"
      ],
      "metadata": {
        "id": "Q_A1POvvU4Pj"
      }
    },
    {
      "cell_type": "code",
      "source": [
        "keras.backend.clear_session()"
      ],
      "metadata": {
        "id": "lDkKZjpxU_n-"
      },
      "execution_count": null,
      "outputs": []
    },
    {
      "cell_type": "code",
      "source": [
        "resnet_model = Sequential()\n",
        "\n",
        "resnet_model.add(RandomFlip(\"horizontal\"))\n",
        "resnet_model.add(RandomRotation(0.2)) #que valor usar?\n",
        "resnet_model.add(RandomCrop(256, 256, seed=1)) #height e width do output e a seed\n",
        "\n",
        "resnet = tf.keras.applications.resnet50.ResNet50(\n",
        "    include_top=False,\n",
        "    input_shape=image_batch.shape[1:],\n",
        "    pooling='avg',\n",
        "    weights='imagenet',\n",
        "    classes=2,\n",
        ")\n",
        "\n",
        "resnet_model.add(resnet)\n",
        "\n",
        "resnet_model.add(Flatten())\n",
        "\n",
        "resnet_model.add(Dense(512, activation=\"relu\"))\n",
        "\n",
        "resnet_model.add(Dropout(0.5))\n",
        "\n",
        "resnet_model.add(Dense(1, activation=\"sigmoid\"))"
      ],
      "metadata": {
        "id": "en3ZUTj1U_n-"
      },
      "execution_count": null,
      "outputs": []
    },
    {
      "cell_type": "code",
      "source": [
        "neg = 20047\n",
        "pos = 3287\n",
        "total = pos+neg\n",
        "\n",
        "w0 = (1 / neg) * (total / 2.0)\n",
        "w1 = (1 / pos) * (total / 2.0)\n",
        "\n",
        "print('Peso para a classe 0: {:.2f}'.format(w0))\n",
        "print('Peso para a classe 1: {:.2f}'.format(w1))"
      ],
      "metadata": {
        "colab": {
          "base_uri": "https://localhost:8080/"
        },
        "outputId": "ac2a6180-bf92-4a6b-e901-0b1a528c2703",
        "id": "TX_b69ukU_n-"
      },
      "execution_count": null,
      "outputs": [
        {
          "output_type": "stream",
          "name": "stdout",
          "text": [
            "Peso para a classe 0: 0.58\n",
            "Peso para a classe 1: 3.55\n"
          ]
        }
      ]
    },
    {
      "cell_type": "code",
      "source": [
        "resnet_model.compile(loss='binary_crossentropy', optimizer=optimizers.Adam(learning_rate=0.00001), metrics=[keras.metrics.AUC(), 'accuracy'])"
      ],
      "metadata": {
        "id": "5QJIt4-2U_n_"
      },
      "execution_count": null,
      "outputs": []
    },
    {
      "cell_type": "code",
      "source": [
        "run_hist = resnet_model.fit(normalized_data, validation_data=normalized_val_data, epochs=20, class_weight={0:w0, 1:w1}, \n",
        "  callbacks=[keras.callbacks.EarlyStopping(\n",
        "                  monitor=\"val_auc\",\n",
        "                  min_delta=0,\n",
        "                  patience=5,\n",
        "                  verbose=1,\n",
        "                  mode=\"auto\",\n",
        "                  baseline=None,\n",
        "                  restore_best_weights=True,\n",
        "              )])"
      ],
      "metadata": {
        "colab": {
          "base_uri": "https://localhost:8080/"
        },
        "outputId": "3aab04ca-b9b0-4043-ac4a-76f53dbba77c",
        "id": "FPlOhS_oU_n_"
      },
      "execution_count": null,
      "outputs": [
        {
          "output_type": "stream",
          "name": "stdout",
          "text": [
            "Epoch 1/20\n",
            "244/244 [==============================] - 235s 933ms/step - loss: 0.6127 - auc: 0.7358 - accuracy: 0.6787 - val_loss: 0.4579 - val_auc: 0.6754 - val_accuracy: 0.8581\n",
            "Epoch 2/20\n",
            "244/244 [==============================] - 227s 928ms/step - loss: 0.5060 - auc: 0.8294 - accuracy: 0.7654 - val_loss: 0.3985 - val_auc: 0.6966 - val_accuracy: 0.8592\n",
            "Epoch 3/20\n",
            "244/244 [==============================] - 228s 933ms/step - loss: 0.4535 - auc: 0.8633 - accuracy: 0.8130 - val_loss: 0.4356 - val_auc: 0.6762 - val_accuracy: 0.8384\n",
            "Epoch 4/20\n",
            "244/244 [==============================] - 227s 930ms/step - loss: 0.4263 - auc: 0.8811 - accuracy: 0.8374 - val_loss: 0.5285 - val_auc: 0.8339 - val_accuracy: 0.7780\n",
            "Epoch 5/20\n",
            "244/244 [==============================] - 228s 932ms/step - loss: 0.3995 - auc: 0.8958 - accuracy: 0.8499 - val_loss: 0.3840 - val_auc: 0.9023 - val_accuracy: 0.8629\n",
            "Epoch 6/20\n",
            "244/244 [==============================] - 227s 929ms/step - loss: 0.3865 - auc: 0.9023 - accuracy: 0.8598 - val_loss: 0.3450 - val_auc: 0.9033 - val_accuracy: 0.8795\n",
            "Epoch 7/20\n",
            "244/244 [==============================] - 228s 933ms/step - loss: 0.3638 - auc: 0.9150 - accuracy: 0.8722 - val_loss: 0.3411 - val_auc: 0.9127 - val_accuracy: 0.8753\n",
            "Epoch 8/20\n",
            "244/244 [==============================] - 228s 932ms/step - loss: 0.3447 - auc: 0.9226 - accuracy: 0.8809 - val_loss: 0.2904 - val_auc: 0.8974 - val_accuracy: 0.8989\n",
            "Epoch 9/20\n",
            "244/244 [==============================] - 228s 931ms/step - loss: 0.3306 - auc: 0.9299 - accuracy: 0.8847 - val_loss: 0.2814 - val_auc: 0.8959 - val_accuracy: 0.9033\n",
            "Epoch 10/20\n",
            "244/244 [==============================] - 227s 929ms/step - loss: 0.3190 - auc: 0.9346 - accuracy: 0.8923 - val_loss: 0.2936 - val_auc: 0.9071 - val_accuracy: 0.8989\n",
            "Epoch 11/20\n",
            "244/244 [==============================] - 227s 929ms/step - loss: 0.3022 - auc: 0.9415 - accuracy: 0.8968 - val_loss: 0.3347 - val_auc: 0.9067 - val_accuracy: 0.8804\n",
            "Epoch 12/20\n",
            "244/244 [==============================] - ETA: 0s - loss: 0.3047 - auc: 0.9403 - accuracy: 0.8938Restoring model weights from the end of the best epoch: 7.\n",
            "244/244 [==============================] - 228s 931ms/step - loss: 0.3047 - auc: 0.9403 - accuracy: 0.8938 - val_loss: 0.3017 - val_auc: 0.9028 - val_accuracy: 0.8970\n",
            "Epoch 12: early stopping\n"
          ]
        }
      ]
    },
    {
      "cell_type": "code",
      "source": [
        "results = resnet_model.evaluate(normalized_test_data)\n",
        "print(results)"
      ],
      "metadata": {
        "colab": {
          "base_uri": "https://localhost:8080/"
        },
        "outputId": "6fbc4ba7-1b49-4dfb-fcbe-e58b368bcb4c",
        "id": "Ncj0FHoYU_n_"
      },
      "execution_count": null,
      "outputs": [
        {
          "output_type": "stream",
          "name": "stdout",
          "text": [
            "183/183 [==============================] - 49s 266ms/step - loss: 0.3533 - auc: 0.9076 - accuracy: 0.8764\n",
            "[0.3533322811126709, 0.9075692892074585, 0.8763823509216309]\n"
          ]
        }
      ]
    },
    {
      "cell_type": "markdown",
      "source": [
        "# ResNet sem data aug"
      ],
      "metadata": {
        "id": "A4H1IDsAXuod"
      }
    },
    {
      "cell_type": "code",
      "source": [
        "keras.backend.clear_session()"
      ],
      "metadata": {
        "id": "dHFMuRENXuod"
      },
      "execution_count": null,
      "outputs": []
    },
    {
      "cell_type": "code",
      "source": [
        "resnet_model = Sequential()\n",
        "\n",
        "resnet = tf.keras.applications.resnet50.ResNet50(\n",
        "    include_top=False,\n",
        "    input_shape=image_batch.shape[1:],\n",
        "    pooling='avg',\n",
        "    weights='imagenet',\n",
        "    classes=2,\n",
        ")\n",
        "\n",
        "resnet_model.add(resnet)\n",
        "\n",
        "resnet_model.add(Flatten())\n",
        "\n",
        "resnet_model.add(Dense(512, activation=\"relu\"))\n",
        "\n",
        "resnet_model.add(Dropout(0.5))\n",
        "\n",
        "resnet_model.add(Dense(1, activation=\"sigmoid\"))"
      ],
      "metadata": {
        "id": "_6VEj_vtXuod"
      },
      "execution_count": null,
      "outputs": []
    },
    {
      "cell_type": "code",
      "source": [
        "neg = 20047\n",
        "pos = 3287\n",
        "total = pos+neg\n",
        "\n",
        "w0 = (1 / neg) * (total / 2.0)\n",
        "w1 = (1 / pos) * (total / 2.0)\n",
        "\n",
        "print('Peso para a classe 0: {:.2f}'.format(w0))\n",
        "print('Peso para a classe 1: {:.2f}'.format(w1))"
      ],
      "metadata": {
        "colab": {
          "base_uri": "https://localhost:8080/"
        },
        "outputId": "f95831ab-b68e-4e8e-d5d9-aee48210331b",
        "id": "N5IFvhR1Xuod"
      },
      "execution_count": null,
      "outputs": [
        {
          "output_type": "stream",
          "name": "stdout",
          "text": [
            "Peso para a classe 0: 0.58\n",
            "Peso para a classe 1: 3.55\n"
          ]
        }
      ]
    },
    {
      "cell_type": "code",
      "source": [
        "resnet_model.compile(loss='binary_crossentropy', optimizer=optimizers.Adam(learning_rate=0.00001), metrics=[keras.metrics.AUC(), 'accuracy'])"
      ],
      "metadata": {
        "id": "hycDgVV9Xuod"
      },
      "execution_count": null,
      "outputs": []
    },
    {
      "cell_type": "code",
      "source": [
        "run_hist = resnet_model.fit(normalized_data, validation_data=normalized_val_data, epochs=5, class_weight={0:w0, 1:w1}, \n",
        "  callbacks=[keras.callbacks.EarlyStopping(\n",
        "                  monitor=\"val_auc\",\n",
        "                  min_delta=0,\n",
        "                  patience=5,\n",
        "                  verbose=1,\n",
        "                  mode=\"auto\",\n",
        "                  baseline=None,\n",
        "                  restore_best_weights=True,\n",
        "              )])"
      ],
      "metadata": {
        "id": "qfwgwphaXuod"
      },
      "execution_count": null,
      "outputs": []
    },
    {
      "cell_type": "code",
      "source": [
        "results = resnet_model.evaluate(normalized_test_data)\n",
        "print(results)"
      ],
      "metadata": {
        "id": "yxSr_BuSXuoe"
      },
      "execution_count": null,
      "outputs": []
    },
    {
      "cell_type": "markdown",
      "source": [
        "## mais epochs"
      ],
      "metadata": {
        "id": "zuIOIebRXuoe"
      }
    },
    {
      "cell_type": "code",
      "source": [
        "keras.backend.clear_session()"
      ],
      "metadata": {
        "id": "kTGh16nXXuoe"
      },
      "execution_count": null,
      "outputs": []
    },
    {
      "cell_type": "code",
      "source": [
        "resnet_model = Sequential()\n",
        "\n",
        "resnet = tf.keras.applications.resnet50.ResNet50(\n",
        "    include_top=False,\n",
        "    input_shape=image_batch.shape[1:],\n",
        "    pooling='avg',\n",
        "    weights='imagenet',\n",
        "    classes=2,\n",
        ")\n",
        "\n",
        "resnet_model.add(resnet)\n",
        "\n",
        "resnet_model.add(Flatten())\n",
        "\n",
        "resnet_model.add(Dense(512, activation=\"relu\"))\n",
        "\n",
        "resnet_model.add(Dropout(0.5))\n",
        "\n",
        "resnet_model.add(Dense(1, activation=\"sigmoid\"))"
      ],
      "metadata": {
        "id": "3Ob4VkEtXuoe"
      },
      "execution_count": null,
      "outputs": []
    },
    {
      "cell_type": "code",
      "source": [
        "neg = 20047\n",
        "pos = 3287\n",
        "total = pos+neg\n",
        "\n",
        "w0 = (1 / neg) * (total / 2.0)\n",
        "w1 = (1 / pos) * (total / 2.0)\n",
        "\n",
        "print('Peso para a classe 0: {:.2f}'.format(w0))\n",
        "print('Peso para a classe 1: {:.2f}'.format(w1))"
      ],
      "metadata": {
        "colab": {
          "base_uri": "https://localhost:8080/"
        },
        "outputId": "c87be2e7-8318-4a60-f859-545f0adefe0b",
        "id": "nnNXNKrRXuoe"
      },
      "execution_count": null,
      "outputs": [
        {
          "output_type": "stream",
          "name": "stdout",
          "text": [
            "Peso para a classe 0: 0.58\n",
            "Peso para a classe 1: 3.55\n"
          ]
        }
      ]
    },
    {
      "cell_type": "code",
      "source": [
        "resnet_model.compile(loss='binary_crossentropy', optimizer=optimizers.Adam(learning_rate=0.00001), metrics=[keras.metrics.AUC(), 'accuracy'])"
      ],
      "metadata": {
        "id": "A_P0TTZBXuoe"
      },
      "execution_count": null,
      "outputs": []
    },
    {
      "cell_type": "code",
      "source": [
        "run_hist = resnet_model.fit(normalized_data, validation_data=normalized_val_data, epochs=20, class_weight={0:w0, 1:w1}, \n",
        "  callbacks=[keras.callbacks.EarlyStopping(\n",
        "                  monitor=\"val_auc\",\n",
        "                  min_delta=0,\n",
        "                  patience=5,\n",
        "                  verbose=1,\n",
        "                  mode=\"auto\",\n",
        "                  baseline=None,\n",
        "                  restore_best_weights=True,\n",
        "              )])"
      ],
      "metadata": {
        "colab": {
          "base_uri": "https://localhost:8080/"
        },
        "outputId": "e6ed141b-f13d-4bf8-f6ec-fc8dc6fa7f04",
        "id": "hkxNcgIXXuoe"
      },
      "execution_count": null,
      "outputs": [
        {
          "output_type": "stream",
          "name": "stdout",
          "text": [
            "Epoch 1/20\n",
            "244/244 [==============================] - 233s 929ms/step - loss: 0.5850 - auc: 0.7650 - accuracy: 0.6997 - val_loss: 0.4650 - val_auc: 0.3666 - val_accuracy: 0.8581\n",
            "Epoch 2/20\n",
            "244/244 [==============================] - 226s 924ms/step - loss: 0.4344 - auc: 0.8763 - accuracy: 0.8192 - val_loss: 0.4268 - val_auc: 0.5242 - val_accuracy: 0.8581\n",
            "Epoch 3/20\n",
            "244/244 [==============================] - 225s 921ms/step - loss: 0.3347 - auc: 0.9296 - accuracy: 0.8777 - val_loss: 0.4048 - val_auc: 0.6560 - val_accuracy: 0.8645\n",
            "Epoch 4/20\n",
            "244/244 [==============================] - 226s 924ms/step - loss: 0.2537 - auc: 0.9609 - accuracy: 0.9181 - val_loss: 0.4546 - val_auc: 0.8195 - val_accuracy: 0.8407\n",
            "Epoch 5/20\n",
            "244/244 [==============================] - 226s 923ms/step - loss: 0.1771 - auc: 0.9804 - accuracy: 0.9528 - val_loss: 0.3963 - val_auc: 0.8638 - val_accuracy: 0.8815\n",
            "Epoch 6/20\n",
            "244/244 [==============================] - 226s 923ms/step - loss: 0.1428 - auc: 0.9858 - accuracy: 0.9668 - val_loss: 0.3704 - val_auc: 0.8557 - val_accuracy: 0.8930\n",
            "Epoch 7/20\n",
            "244/244 [==============================] - 226s 922ms/step - loss: 0.1146 - auc: 0.9900 - accuracy: 0.9790 - val_loss: 0.4525 - val_auc: 0.8598 - val_accuracy: 0.8843\n",
            "Epoch 8/20\n",
            "244/244 [==============================] - 226s 924ms/step - loss: 0.1260 - auc: 0.9874 - accuracy: 0.9735 - val_loss: 0.3915 - val_auc: 0.8553 - val_accuracy: 0.8975\n",
            "Epoch 9/20\n",
            "244/244 [==============================] - 226s 923ms/step - loss: 0.1092 - auc: 0.9900 - accuracy: 0.9805 - val_loss: 0.4583 - val_auc: 0.8575 - val_accuracy: 0.8856\n",
            "Epoch 10/20\n",
            "244/244 [==============================] - ETA: 0s - loss: 0.0975 - auc: 0.9910 - accuracy: 0.9846Restoring model weights from the end of the best epoch: 5.\n",
            "244/244 [==============================] - 226s 924ms/step - loss: 0.0975 - auc: 0.9910 - accuracy: 0.9846 - val_loss: 0.4333 - val_auc: 0.8295 - val_accuracy: 0.9009\n",
            "Epoch 10: early stopping\n"
          ]
        }
      ]
    },
    {
      "cell_type": "code",
      "source": [
        "results = resnet_model.evaluate(normalized_test_data)\n",
        "print(results)"
      ],
      "metadata": {
        "colab": {
          "base_uri": "https://localhost:8080/"
        },
        "id": "wiHrxnFQXuoe",
        "outputId": "1766bc54-1cf9-4cf9-df72-26c46e924499"
      },
      "execution_count": null,
      "outputs": [
        {
          "output_type": "stream",
          "name": "stdout",
          "text": [
            "183/183 [==============================] - 49s 263ms/step - loss: 0.3954 - auc: 0.8729 - accuracy: 0.8797\n",
            "[0.3954440951347351, 0.8728808164596558, 0.8797256946563721]\n"
          ]
        }
      ]
    }
  ]
}