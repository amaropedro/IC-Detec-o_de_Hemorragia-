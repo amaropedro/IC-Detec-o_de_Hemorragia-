{
  "nbformat": 4,
  "nbformat_minor": 0,
  "metadata": {
    "colab": {
      "provenance": [],
      "collapsed_sections": [
        "zIJjWox-P_Xk",
        "1vLx4FnN9pTL"
      ]
    },
    "kernelspec": {
      "name": "python3",
      "display_name": "Python 3"
    },
    "language_info": {
      "name": "python"
    },
    "accelerator": "GPU",
    "gpuClass": "standard"
  },
  "cells": [
    {
      "cell_type": "markdown",
      "source": [
        "# Usando a ResNet50 para treinar sem data augmentation e sem windowing"
      ],
      "metadata": {
        "id": "MKVM05ULMQZ_"
      }
    },
    {
      "cell_type": "code",
      "execution_count": null,
      "metadata": {
        "colab": {
          "base_uri": "https://localhost:8080/"
        },
        "id": "Kmq_cRI2E0Yi",
        "outputId": "48e89d13-5d82-4021-f2e6-300310cd7025"
      },
      "outputs": [
        {
          "output_type": "stream",
          "name": "stdout",
          "text": [
            "Looking in indexes: https://pypi.org/simple, https://us-python.pkg.dev/colab-wheels/public/simple/\n",
            "Collecting pydicom\n",
            "  Downloading pydicom-2.3.0-py3-none-any.whl (2.0 MB)\n",
            "\u001b[K     |████████████████████████████████| 2.0 MB 7.3 MB/s \n",
            "\u001b[?25hInstalling collected packages: pydicom\n",
            "Successfully installed pydicom-2.3.0\n"
          ]
        }
      ],
      "source": [
        "import keras\n",
        "import tensorflow as tf\n",
        "from keras.models import Sequential\n",
        "from keras.layers import Flatten, Dense, Dropout, Rescaling\n",
        "from tensorflow.keras import optimizers\n",
        "from tensorflow.keras.utils import image_dataset_from_directory\n",
        "\n",
        "!pip install pydicom\n",
        "import numpy as np\n",
        "import pydicom\n",
        "from PIL import Image\n",
        "import os\n",
        "\n",
        "import cv2"
      ]
    },
    {
      "cell_type": "code",
      "execution_count": null,
      "metadata": {
        "id": "jMgO-lGHBZjo"
      },
      "outputs": [],
      "source": [
        "!mkdir ~/.kaggle\n",
        "! cp kaggle.json ~/.kaggle/\n",
        "!chmod 600 /root/.kaggle/kaggle.json"
      ]
    },
    {
      "cell_type": "markdown",
      "metadata": {
        "id": "mhDRQJZjBsfu"
      },
      "source": [
        "# Ajustando o DS"
      ]
    },
    {
      "cell_type": "markdown",
      "metadata": {
        "id": "k7yjVCRxBvcy"
      },
      "source": [
        "## Baixando o DS"
      ]
    },
    {
      "cell_type": "code",
      "execution_count": null,
      "metadata": {
        "colab": {
          "base_uri": "https://localhost:8080/"
        },
        "id": "BL-zCU80wu8Q",
        "outputId": "e5d0b581-afea-4ad9-e97e-f6940908d4e5"
      },
      "outputs": [
        {
          "output_type": "stream",
          "name": "stdout",
          "text": [
            "Downloading smaller-rsna-ds-train-test.zip to /content\n",
            "100% 7.25G/7.25G [01:40<00:00, 109MB/s] \n",
            "100% 7.25G/7.25G [01:40<00:00, 77.8MB/s]\n"
          ]
        }
      ],
      "source": [
        "!kaggle datasets download -d pedroamaro/smaller-rsna-ds-train-test"
      ]
    },
    {
      "cell_type": "code",
      "execution_count": null,
      "metadata": {
        "colab": {
          "base_uri": "https://localhost:8080/"
        },
        "id": "ZBNQnYz-0EWs",
        "outputId": "c2865d7a-f4c8-4564-ee2c-a7da188f10da"
      },
      "outputs": [
        {
          "output_type": "stream",
          "name": "stdout",
          "text": [
            ". . . . . . . . . . . . . . . . . . . . . . . . . . . . . . . . . . . "
          ]
        }
      ],
      "source": [
        "!unzip /content/smaller-rsna-ds-train-test.zip | awk 'BEGIN {ORS=\" \"} {if(NR%1000==0)print \".\"}'\n",
        "!rm /content/smaller-rsna-ds-train-test.zip"
      ]
    },
    {
      "cell_type": "code",
      "execution_count": null,
      "metadata": {
        "colab": {
          "base_uri": "https://localhost:8080/"
        },
        "id": "RPKduTwuNeAR",
        "outputId": "93007bbb-3546-4b1b-f695-6772290ee241"
      },
      "outputs": [
        {
          "output_type": "stream",
          "name": "stdout",
          "text": [
            "Numero de imagens: NO\n",
            "20047\n",
            "Numero de imagens: YES\n",
            "3287\n"
          ]
        }
      ],
      "source": [
        "print('Numero de imagens: NO')\n",
        "!ls /content/small_rsna_ds_train/no | wc -l\n",
        "print('Numero de imagens: YES')\n",
        "!ls /content/small_rsna_ds_train/yes | wc -l"
      ]
    },
    {
      "cell_type": "markdown",
      "metadata": {
        "id": "Q4Rp5hVzN0f0"
      },
      "source": [
        "## Salvando como JPG e aplicando full windowing"
      ]
    },
    {
      "cell_type": "code",
      "execution_count": null,
      "metadata": {
        "id": "-0YUsQ5a9uok"
      },
      "outputs": [],
      "source": [
        "!mkdir small_rsna_ds_as_jpg\n",
        "!mkdir /content/small_rsna_ds_as_jpg/no\n",
        "!mkdir /content/small_rsna_ds_as_jpg/yes\n",
        "\n",
        "!mkdir test_as_jpg\n",
        "!mkdir test_as_jpg/no\n",
        "!mkdir test_as_jpg/yes"
      ]
    },
    {
      "cell_type": "code",
      "execution_count": null,
      "metadata": {
        "id": "bPDf68wT9ykv"
      },
      "outputs": [],
      "source": [
        "def save_W_as_jpg(path, id, dest_folder):\n",
        "\n",
        "  dcm = pydicom.dcmread(path)\n",
        "\n",
        "  im = dcm.pixel_array.astype(\"float32\") * dcm.RescaleSlope + dcm.RescaleIntercept\n",
        "\n",
        "  rescaled_im = (np.maximum(im, 0)/im.max())*255.0\n",
        "  final_im = np.uint8(rescaled_im)\n",
        "\n",
        "  final_im = Image.fromarray(final_im)\n",
        "  final_im.save(dest_folder+id+'.jpg')"
      ]
    },
    {
      "cell_type": "markdown",
      "metadata": {
        "id": "qQBZgCOkP758"
      },
      "source": [
        "### Para o conjunto Train"
      ]
    },
    {
      "cell_type": "code",
      "execution_count": null,
      "metadata": {
        "id": "XUcLXxQt9z5b"
      },
      "outputs": [],
      "source": [
        "train_path = \"/content/small_rsna_ds_train/yes/\"\n",
        "folder = os.listdir(\"/content/small_rsna_ds_train/yes/\")\n",
        "dest_folder = \"/content/small_rsna_ds_as_jpg/yes/\"\n",
        "\n",
        "for id_ in folder:\n",
        "  img_id = id_[:12]\n",
        "  save_W_as_jpg(train_path + f\"{id_}\", img_id, dest_folder)"
      ]
    },
    {
      "cell_type": "code",
      "execution_count": null,
      "metadata": {
        "id": "rOjiLkNp91hy"
      },
      "outputs": [],
      "source": [
        "train_path = \"/content/small_rsna_ds_train/no/\"\n",
        "folder = os.listdir(\"/content/small_rsna_ds_train/no/\")\n",
        "dest_folder = \"/content/small_rsna_ds_as_jpg/no/\"\n",
        "\n",
        "for id_ in folder:\n",
        "  img_id = id_[:12]\n",
        "  save_W_as_jpg(train_path + f\"{id_}\", img_id, dest_folder)"
      ]
    },
    {
      "cell_type": "code",
      "execution_count": null,
      "metadata": {
        "id": "685g4iwg-6ow",
        "colab": {
          "base_uri": "https://localhost:8080/"
        },
        "outputId": "261f2c66-713e-49d7-c715-438709c74d76"
      },
      "outputs": [
        {
          "output_type": "stream",
          "name": "stdout",
          "text": [
            "Numero de imagens: NO\n",
            "20047\n",
            "Numero de imagens: YES\n",
            "3287\n"
          ]
        }
      ],
      "source": [
        "print('Numero de imagens: NO')\n",
        "!ls /content/small_rsna_ds_as_jpg/no/ | wc -l\n",
        "print('Numero de imagens: YES')\n",
        "!ls /content/small_rsna_ds_as_jpg/yes/ | wc -l"
      ]
    },
    {
      "cell_type": "markdown",
      "metadata": {
        "id": "zIJjWox-P_Xk"
      },
      "source": [
        "### Para o conjunto Test"
      ]
    },
    {
      "cell_type": "code",
      "execution_count": null,
      "metadata": {
        "id": "FoGysyXiQDJ1"
      },
      "outputs": [],
      "source": [
        "train_path = \"/content/small_rsna_ds_test/yes/\"\n",
        "folder = os.listdir(\"/content/small_rsna_ds_test/yes/\")\n",
        "dest_folder = \"/content/test_as_jpg/yes/\"\n",
        "\n",
        "for id_ in folder:\n",
        "  img_id = id_[:12]\n",
        "  save_W_as_jpg(train_path + f\"{id_}\", img_id, dest_folder)"
      ]
    },
    {
      "cell_type": "code",
      "execution_count": null,
      "metadata": {
        "id": "fnjReU73QDJ2",
        "colab": {
          "base_uri": "https://localhost:8080/"
        },
        "outputId": "e402dbb2-8a87-48bd-8655-7149596ab19b"
      },
      "outputs": [
        {
          "output_type": "stream",
          "name": "stderr",
          "text": [
            "/usr/local/lib/python3.7/dist-packages/ipykernel_launcher.py:7: RuntimeWarning: invalid value encountered in true_divide\n",
            "  import sys\n"
          ]
        }
      ],
      "source": [
        "train_path = \"/content/small_rsna_ds_test/no/\"\n",
        "folder = os.listdir(\"/content/small_rsna_ds_test/no/\")\n",
        "dest_folder = \"/content/test_as_jpg/no/\"\n",
        "\n",
        "for id_ in folder:\n",
        "  img_id = id_[:12]\n",
        "  save_W_as_jpg(train_path + f\"{id_}\", img_id, dest_folder)"
      ]
    },
    {
      "cell_type": "code",
      "execution_count": null,
      "metadata": {
        "id": "MLeecKqrQDJ2",
        "colab": {
          "base_uri": "https://localhost:8080/"
        },
        "outputId": "55acfa80-f091-4b85-91bc-03e63a7a5299"
      },
      "outputs": [
        {
          "output_type": "stream",
          "name": "stdout",
          "text": [
            "Numero de imagens: NO\n",
            "10022\n",
            "Numero de imagens: YES\n",
            "1643\n"
          ]
        }
      ],
      "source": [
        "print('Numero de imagens: NO')\n",
        "!ls /content/test_as_jpg/no/ | wc -l\n",
        "print('Numero de imagens: YES')\n",
        "!ls /content/test_as_jpg/yes/ | wc -l"
      ]
    },
    {
      "cell_type": "markdown",
      "metadata": {
        "id": "1vLx4FnN9pTL"
      },
      "source": [
        "# Carregando o dataset"
      ]
    },
    {
      "cell_type": "code",
      "execution_count": null,
      "metadata": {
        "id": "Y9-K7AMD10NK",
        "colab": {
          "base_uri": "https://localhost:8080/"
        },
        "outputId": "57c1a70d-da6f-4b94-801e-12b2d88ffb05"
      },
      "outputs": [
        {
          "output_type": "stream",
          "name": "stdout",
          "text": [
            "Found 23334 files belonging to 2 classes.\n",
            "Using 15556 files for training.\n"
          ]
        }
      ],
      "source": [
        "train_data = image_dataset_from_directory(\n",
        "    \"/content/small_rsna_ds_as_jpg\",\n",
        "     labels='inferred',\n",
        "     validation_split=1/3,\n",
        "     subset=\"training\",\n",
        "     seed=123,\n",
        "     batch_size = 64,\n",
        "     color_mode = \"rgb\"\n",
        "     )"
      ]
    },
    {
      "cell_type": "code",
      "execution_count": null,
      "metadata": {
        "id": "1tdF_VgO425w",
        "colab": {
          "base_uri": "https://localhost:8080/"
        },
        "outputId": "28a37db4-62ae-4d8e-ec00-ba561e7fc55b"
      },
      "outputs": [
        {
          "output_type": "stream",
          "name": "stdout",
          "text": [
            "Found 23334 files belonging to 2 classes.\n",
            "Using 7778 files for validation.\n"
          ]
        }
      ],
      "source": [
        "val_data = image_dataset_from_directory(\n",
        "    \"/content/small_rsna_ds_as_jpg\",\n",
        "     labels='inferred',\n",
        "     validation_split=1/3,\n",
        "     subset=\"validation\",\n",
        "     seed=123,\n",
        "     batch_size = 64,\n",
        "     color_mode = \"rgb\"\n",
        ")"
      ]
    },
    {
      "cell_type": "code",
      "execution_count": null,
      "metadata": {
        "id": "co1kN22wQxHE",
        "colab": {
          "base_uri": "https://localhost:8080/"
        },
        "outputId": "acfd160a-b2fc-4cf0-a7ac-2945dac99782"
      },
      "outputs": [
        {
          "output_type": "stream",
          "name": "stdout",
          "text": [
            "Found 11665 files belonging to 2 classes.\n"
          ]
        }
      ],
      "source": [
        "test_data = image_dataset_from_directory(\n",
        "    \"/content/test_as_jpg\",\n",
        "     labels='inferred',\n",
        "     label_mode=\"int\",\n",
        "     batch_size = 64,\n",
        "     color_mode = \"rgb\"\n",
        "     )"
      ]
    },
    {
      "cell_type": "code",
      "execution_count": null,
      "metadata": {
        "id": "QV4OSt9S20R3"
      },
      "outputs": [],
      "source": [
        "class_names = train_data.class_names"
      ]
    },
    {
      "cell_type": "markdown",
      "metadata": {
        "id": "9F0cjcFhC6wf"
      },
      "source": [
        "## Normalizando e Pegando o tamanho de entrada"
      ]
    },
    {
      "cell_type": "code",
      "execution_count": null,
      "metadata": {
        "id": "rWyT6SWbCpKK"
      },
      "outputs": [],
      "source": [
        "normalization_layer = Rescaling(1./255)\n",
        "\n",
        "normalized_data = train_data.map(lambda x, y: (normalization_layer(x), y))\n",
        "image_batch, labels_batch = next(iter(normalized_data))\n",
        "\n",
        "normalized_val_data = val_data.map(lambda x, y: (normalization_layer(x), y))\n",
        "val_image_batch, val_labels_batch = next(iter(normalized_val_data))\n",
        "\n",
        "normalized_test_data = test_data.map(lambda x, y: (normalization_layer(x), y))\n",
        "test_image_batch, test_labels_batch = next(iter(normalized_test_data))"
      ]
    },
    {
      "cell_type": "markdown",
      "source": [
        "# ResNet"
      ],
      "metadata": {
        "id": "A4H1IDsAXuod"
      }
    },
    {
      "cell_type": "code",
      "source": [
        "keras.backend.clear_session()"
      ],
      "metadata": {
        "id": "kTGh16nXXuoe"
      },
      "execution_count": null,
      "outputs": []
    },
    {
      "cell_type": "code",
      "source": [
        "resnet_model = Sequential()\n",
        "\n",
        "resnet = tf.keras.applications.resnet50.ResNet50(\n",
        "    include_top=False,\n",
        "    input_shape=image_batch.shape[1:],\n",
        "    pooling='avg',\n",
        "    weights='imagenet',\n",
        "    classes=2,\n",
        ")\n",
        "\n",
        "resnet_model.add(resnet)\n",
        "\n",
        "resnet_model.add(Flatten())\n",
        "\n",
        "resnet_model.add(Dense(512, activation=\"relu\"))\n",
        "\n",
        "resnet_model.add(Dropout(0.5))\n",
        "\n",
        "resnet_model.add(Dense(1, activation=\"sigmoid\"))"
      ],
      "metadata": {
        "id": "3Ob4VkEtXuoe",
        "colab": {
          "base_uri": "https://localhost:8080/"
        },
        "outputId": "df8c1e08-f9c2-4821-d272-7430fd9cc883"
      },
      "execution_count": null,
      "outputs": [
        {
          "output_type": "stream",
          "name": "stdout",
          "text": [
            "Downloading data from https://storage.googleapis.com/tensorflow/keras-applications/resnet/resnet50_weights_tf_dim_ordering_tf_kernels_notop.h5\n",
            "94773248/94765736 [==============================] - 1s 0us/step\n",
            "94781440/94765736 [==============================] - 1s 0us/step\n"
          ]
        }
      ]
    },
    {
      "cell_type": "code",
      "source": [
        "neg = 20047\n",
        "pos = 3287\n",
        "total = pos+neg\n",
        "\n",
        "w0 = (1 / neg) * (total / 2.0)\n",
        "w1 = (1 / pos) * (total / 2.0)\n",
        "\n",
        "print('Peso para a classe 0: {:.2f}'.format(w0))\n",
        "print('Peso para a classe 1: {:.2f}'.format(w1))"
      ],
      "metadata": {
        "colab": {
          "base_uri": "https://localhost:8080/"
        },
        "outputId": "7d300c52-edf7-417c-a975-0a8297e2aba1",
        "id": "nnNXNKrRXuoe"
      },
      "execution_count": null,
      "outputs": [
        {
          "output_type": "stream",
          "name": "stdout",
          "text": [
            "Peso para a classe 0: 0.58\n",
            "Peso para a classe 1: 3.55\n"
          ]
        }
      ]
    },
    {
      "cell_type": "code",
      "source": [
        "resnet_model.compile(loss='binary_crossentropy', optimizer=optimizers.Adam(learning_rate=0.00001), metrics=[keras.metrics.AUC(), 'accuracy'])"
      ],
      "metadata": {
        "id": "A_P0TTZBXuoe"
      },
      "execution_count": null,
      "outputs": []
    },
    {
      "cell_type": "code",
      "source": [
        "run_hist = resnet_model.fit(normalized_data, validation_data=normalized_val_data, epochs=20, class_weight={0:w0, 1:w1}, \n",
        "  callbacks=[keras.callbacks.EarlyStopping(\n",
        "                  monitor=\"val_auc\",\n",
        "                  min_delta=0,\n",
        "                  patience=5,\n",
        "                  verbose=1,\n",
        "                  mode=\"auto\",\n",
        "                  baseline=None,\n",
        "                  restore_best_weights=True,\n",
        "              )])"
      ],
      "metadata": {
        "colab": {
          "base_uri": "https://localhost:8080/"
        },
        "outputId": "2baa37c2-2e52-47a7-8ea1-27cb7199047f",
        "id": "hkxNcgIXXuoe"
      },
      "execution_count": null,
      "outputs": [
        {
          "output_type": "stream",
          "name": "stdout",
          "text": [
            "Epoch 1/20\n",
            "244/244 [==============================] - 247s 916ms/step - loss: 0.5720 - auc: 0.7678 - accuracy: 0.6565 - val_loss: 0.4807 - val_auc: 0.3493 - val_accuracy: 0.8581\n",
            "Epoch 2/20\n",
            "244/244 [==============================] - 229s 937ms/step - loss: 0.4556 - auc: 0.8604 - accuracy: 0.7383 - val_loss: 0.6875 - val_auc: 0.6634 - val_accuracy: 0.5744\n",
            "Epoch 3/20\n",
            "244/244 [==============================] - 230s 941ms/step - loss: 0.3597 - auc: 0.9194 - accuracy: 0.8217 - val_loss: 1.6755 - val_auc: 0.7017 - val_accuracy: 0.3089\n",
            "Epoch 4/20\n",
            "244/244 [==============================] - 230s 940ms/step - loss: 0.2551 - auc: 0.9622 - accuracy: 0.8899 - val_loss: 2.5129 - val_auc: 0.7532 - val_accuracy: 0.5149\n",
            "Epoch 5/20\n",
            "244/244 [==============================] - 230s 940ms/step - loss: 0.1687 - auc: 0.9844 - accuracy: 0.9287 - val_loss: 2.4156 - val_auc: 0.7752 - val_accuracy: 0.6216\n",
            "Epoch 6/20\n",
            "244/244 [==============================] - 231s 946ms/step - loss: 0.0793 - auc: 0.9971 - accuracy: 0.9723 - val_loss: 2.0383 - val_auc: 0.7959 - val_accuracy: 0.6520\n",
            "Epoch 7/20\n",
            "244/244 [==============================] - 232s 947ms/step - loss: 0.0722 - auc: 0.9969 - accuracy: 0.9745 - val_loss: 1.2464 - val_auc: 0.8195 - val_accuracy: 0.7573\n",
            "Epoch 8/20\n",
            "244/244 [==============================] - 230s 942ms/step - loss: 0.0330 - auc: 0.9995 - accuracy: 0.9909 - val_loss: 0.5663 - val_auc: 0.8465 - val_accuracy: 0.8592\n",
            "Epoch 9/20\n",
            "244/244 [==============================] - 230s 942ms/step - loss: 0.0282 - auc: 0.9996 - accuracy: 0.9923 - val_loss: 0.4866 - val_auc: 0.8245 - val_accuracy: 0.8762\n",
            "Epoch 10/20\n",
            "244/244 [==============================] - 230s 942ms/step - loss: 0.0235 - auc: 0.9996 - accuracy: 0.9934 - val_loss: 0.5757 - val_auc: 0.8417 - val_accuracy: 0.8626\n",
            "Epoch 11/20\n",
            "244/244 [==============================] - 231s 946ms/step - loss: 0.0481 - auc: 0.9980 - accuracy: 0.9846 - val_loss: 0.5309 - val_auc: 0.8237 - val_accuracy: 0.8785\n",
            "Epoch 12/20\n",
            "244/244 [==============================] - 230s 942ms/step - loss: 0.0186 - auc: 0.9998 - accuracy: 0.9947 - val_loss: 0.5423 - val_auc: 0.8257 - val_accuracy: 0.8780\n",
            "Epoch 13/20\n",
            "244/244 [==============================] - ETA: 0s - loss: 0.0142 - auc: 0.9998 - accuracy: 0.9963Restoring model weights from the end of the best epoch: 8.\n",
            "244/244 [==============================] - 230s 940ms/step - loss: 0.0142 - auc: 0.9998 - accuracy: 0.9963 - val_loss: 0.5706 - val_auc: 0.8333 - val_accuracy: 0.8735\n",
            "Epoch 13: early stopping\n"
          ]
        }
      ]
    },
    {
      "cell_type": "code",
      "source": [
        "results = resnet_model.evaluate(normalized_test_data)\n",
        "print(results)"
      ],
      "metadata": {
        "colab": {
          "base_uri": "https://localhost:8080/"
        },
        "id": "wiHrxnFQXuoe",
        "outputId": "71151f9e-d175-44fe-90f3-718644055121"
      },
      "execution_count": null,
      "outputs": [
        {
          "output_type": "stream",
          "name": "stdout",
          "text": [
            "183/183 [==============================] - 51s 274ms/step - loss: 0.5784 - auc: 0.8448 - accuracy: 0.8556\n",
            "[0.5784299969673157, 0.8448062539100647, 0.8555507659912109]\n"
          ]
        }
      ]
    }
  ]
}