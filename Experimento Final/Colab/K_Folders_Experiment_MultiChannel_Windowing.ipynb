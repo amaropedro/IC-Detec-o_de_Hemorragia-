{
  "cells": [
    {
      "cell_type": "markdown",
      "metadata": {
        "id": "4ehh-7zjTTL_"
      },
      "source": [
        "# Teste quantificador do efeito de Tranfered Learning, Data Augmentation, Pre-Processamento e combinações destes na classificação de HIC\n",
        "\n",
        "K = 10 </br>\n",
        "Resnet50 </br>\n",
        "Windowing sem transferencia de aprendizado </br>\n",
        "Windowing com transferencia de aprendizado </br>\n",
        "Windowing com transferencia de aprendizado e data aug</br>\n",
        "Windowing sem transferencia de aprendizado e data aug</br>"
      ]
    },
    {
      "cell_type": "markdown",
      "metadata": {
        "id": "jbKMS3SUTuPQ"
      },
      "source": [
        "## Imports e Installs"
      ]
    },
    {
      "cell_type": "code",
      "execution_count": 1,
      "metadata": {
        "colab": {
          "base_uri": "https://localhost:8080/"
        },
        "id": "jhVZ__EHTNxi",
        "outputId": "220137aa-1e5f-4ff9-fb0a-df987fce57d9"
      },
      "outputs": [
        {
          "output_type": "stream",
          "name": "stdout",
          "text": [
            "Looking in indexes: https://pypi.org/simple, https://us-python.pkg.dev/colab-wheels/public/simple/\n",
            "Collecting pydicom\n",
            "  Downloading pydicom-2.3.1-py3-none-any.whl (2.0 MB)\n",
            "\u001b[K     |████████████████████████████████| 2.0 MB 6.9 MB/s \n",
            "\u001b[?25hInstalling collected packages: pydicom\n",
            "Successfully installed pydicom-2.3.1\n"
          ]
        }
      ],
      "source": [
        "import keras\n",
        "import tensorflow as tf\n",
        "from keras.models import Sequential\n",
        "from keras.layers import Flatten, Dense, Dropout, Rescaling\n",
        "from tensorflow.keras import optimizers\n",
        "from tensorflow.keras.utils import image_dataset_from_directory\n",
        "\n",
        "!pip install pydicom\n",
        "import numpy as np\n",
        "import pydicom\n",
        "from PIL import Image\n",
        "import os\n",
        "import shutil\n",
        "\n",
        "import cv2"
      ]
    },
    {
      "cell_type": "code",
      "execution_count": 2,
      "metadata": {
        "id": "EHMaIaR7TyGn"
      },
      "outputs": [],
      "source": [
        "!mkdir ~/.kaggle\n",
        "! cp kaggle.json ~/.kaggle/\n",
        "!chmod 600 /root/.kaggle/kaggle.json"
      ]
    },
    {
      "cell_type": "markdown",
      "metadata": {
        "id": "zE7m2r8LTzIg"
      },
      "source": [
        "## Data Set"
      ]
    },
    {
      "cell_type": "markdown",
      "metadata": {
        "id": "DkcjwfKbT160"
      },
      "source": [
        "### Baixando"
      ]
    },
    {
      "cell_type": "code",
      "execution_count": 3,
      "metadata": {
        "colab": {
          "base_uri": "https://localhost:8080/"
        },
        "id": "MbdAv9qUalm4",
        "outputId": "455f64d4-8b05-4ab4-9ecd-c2a4438cadf0"
      },
      "outputs": [
        {
          "output_type": "stream",
          "name": "stdout",
          "text": [
            "Downloading rsna-ds-w-35k-files-k-folders.zip to /content\n",
            "100% 7.25G/7.25G [01:13<00:00, 174MB/s]\n",
            "100% 7.25G/7.25G [01:13<00:00, 106MB/s]\n"
          ]
        }
      ],
      "source": [
        "!kaggle datasets download -d pedroamaro/rsna-ds-w-35k-files-k-folders"
      ]
    },
    {
      "cell_type": "code",
      "execution_count": 4,
      "metadata": {
        "colab": {
          "base_uri": "https://localhost:8080/"
        },
        "id": "XyJDweThn0ke",
        "outputId": "956069bc-14d3-4a29-f39c-f7271bd03e24"
      },
      "outputs": [
        {
          "output_type": "stream",
          "name": "stdout",
          "text": [
            ". . . . . . . . . . . . . . . . . . . . . . . . . . . . . . . . . . . "
          ]
        }
      ],
      "source": [
        "!unzip /content/rsna-ds-w-35k-files-k-folders.zip | awk 'BEGIN {ORS=\" \"} {if(NR%1000==0)print \".\"}'\n",
        "!rm /content/rsna-ds-w-35k-files-k-folders.zip"
      ]
    },
    {
      "cell_type": "code",
      "execution_count": 5,
      "metadata": {
        "id": "RUUvFqxZsnZb",
        "colab": {
          "base_uri": "https://localhost:8080/"
        },
        "outputId": "15ae150f-422a-40fe-970b-ed2bd9f0f363"
      },
      "outputs": [
        {
          "output_type": "stream",
          "name": "stdout",
          "text": [
            "Total de Imagens NO:\n",
            "30069\n",
            "Total de Imagens YES:\n",
            "4930\n"
          ]
        }
      ],
      "source": [
        "total_yes = 0\n",
        "total_no = 0\n",
        "\n",
        "for i in range(10):\n",
        "    yesdir = \"/content/k\"+str(i)+\"/yes/\"\n",
        "    nodir = \"/content/k\"+str(i)+\"/no/\"\n",
        "    _, _, files = next(os.walk(yesdir))\n",
        "    total_yes += len(files)\n",
        "    _, _, files = next(os.walk(nodir))\n",
        "    total_no += len(files)\n",
        "\n",
        "print(\"Total de Imagens NO:\")\n",
        "print(total_no)\n",
        "print(\"Total de Imagens YES:\")\n",
        "print(total_yes)"
      ]
    },
    {
      "cell_type": "markdown",
      "metadata": {
        "id": "NpV9yrchp5pZ"
      },
      "source": [
        "### Salvando como jpg"
      ]
    },
    {
      "cell_type": "code",
      "execution_count": 6,
      "metadata": {
        "id": "v_hFAaKIqAxC"
      },
      "outputs": [],
      "source": [
        "!mkdir jpg_k0\n",
        "!mkdir jpg_k1\n",
        "!mkdir jpg_k2\n",
        "!mkdir jpg_k3\n",
        "!mkdir jpg_k4\n",
        "!mkdir jpg_k5\n",
        "!mkdir jpg_k6\n",
        "!mkdir jpg_k7\n",
        "!mkdir jpg_k8\n",
        "!mkdir jpg_k9\n",
        "\n",
        "!mkdir jpg_k0/yes\n",
        "!mkdir jpg_k1/yes\n",
        "!mkdir jpg_k2/yes\n",
        "!mkdir jpg_k3/yes\n",
        "!mkdir jpg_k4/yes\n",
        "!mkdir jpg_k5/yes\n",
        "!mkdir jpg_k6/yes\n",
        "!mkdir jpg_k7/yes\n",
        "!mkdir jpg_k8/yes\n",
        "!mkdir jpg_k9/yes\n",
        "\n",
        "!mkdir jpg_k0/no\n",
        "!mkdir jpg_k1/no\n",
        "!mkdir jpg_k2/no\n",
        "!mkdir jpg_k3/no\n",
        "!mkdir jpg_k4/no\n",
        "!mkdir jpg_k5/no\n",
        "!mkdir jpg_k6/no\n",
        "!mkdir jpg_k7/no\n",
        "!mkdir jpg_k8/no\n",
        "!mkdir jpg_k9/no"
      ]
    },
    {
      "cell_type": "code",
      "execution_count": 7,
      "metadata": {
        "id": "h14hxbp6p953"
      },
      "outputs": [],
      "source": [
        "def segment_circle(windowed):\n",
        "    original = windowed.copy().astype(\"uint8\")\n",
        "    mask = np.zeros(original.shape, dtype=np.uint8)\n",
        "    gray = original\n",
        "    thresh = cv2.threshold(gray, 0, 255, cv2.THRESH_BINARY + cv2.THRESH_OTSU)[1]\n",
        "    kernel = cv2.getStructuringElement(cv2.MORPH_ELLIPSE, (5,5))\n",
        "    close = cv2.morphologyEx(thresh, cv2.MORPH_CLOSE, kernel, iterations=5)\n",
        "    cnts = cv2.findContours(close, cv2.RETR_TREE, cv2.CHAIN_APPROX_SIMPLE)\n",
        "    cnts = cnts[0] if len(cnts) == 2 else cnts[1]\n",
        "    for c in cnts:\n",
        "        peri = cv2.arcLength(c, True)\n",
        "        approx = cv2.approxPolyDP(c, 0.04 * peri, True)\n",
        "        area = cv2.contourArea(c)\n",
        "        if len(approx) > 4 and area > 10000 and area < 500000:\n",
        "            ((x, y), r) = cv2.minEnclosingCircle(c)\n",
        "            cv2.circle(mask, (int(x), int(y)), int(r), (255, 255, 255), -1)\n",
        "            cv2.circle(original, (int(x), int(y)), int(r), (36, 255, 12), 0)\n",
        "    x,y,w,h = cv2.boundingRect(mask)\n",
        "    mask_ROI = mask[y:y+h, x:x+w]\n",
        "    image_ROI = original[y:y+h, x:x+w]\n",
        "    result = cv2.bitwise_and(image_ROI, image_ROI, mask=mask_ROI)\n",
        "    return result, (x, y, w, h)\n",
        "\n",
        "def correct_dcm(dcm):\n",
        "    x = dcm.pixel_array + 1000\n",
        "    px_mode = 4096\n",
        "    x[x>=px_mode] = x[x>=px_mode] - px_mode\n",
        "    dcm.PixelData = x.tobytes()\n",
        "    dcm.RescaleIntercept = -1000\n",
        "\n",
        "def window_image(img, window_center, window_width):\n",
        "    img_min = window_center - window_width // 2\n",
        "    img_max = window_center + window_width // 2\n",
        "    img = np.clip(img, img_min, img_max)\n",
        "    return img\n",
        "\n",
        "\n",
        "def preprocess_and_segment(path, make_correct=True):    \n",
        "    dcm = pydicom.dcmread(path)\n",
        "    if make_correct and (dcm.BitsStored == 12) and (dcm.PixelRepresentation == 0) and (int(dcm.RescaleIntercept) > -100):\n",
        "        correct_dcm(dcm)\n",
        "\n",
        "    sample = dcm.pixel_array.astype(\"float32\") * dcm.RescaleSlope + dcm.RescaleIntercept\n",
        "\n",
        "    brain_window = window_image(sample, 40, 80)\n",
        "    dural_window = window_image(sample, 80, 200)\n",
        "    bone_window = window_image(sample, 600, 2800)\n",
        "\n",
        "    brain_window, (x,y,w,h) = segment_circle(brain_window)\n",
        "    if brain_window is None:\n",
        "        return np.zeros((512, 512, 3))\n",
        "    dural_window = dural_window[y:y+h, x:x+w]\n",
        "    bone_window = bone_window[y:y+h, x:x+w]\n",
        "    \n",
        "    brain_window = (brain_window - (0.)) / 80.\n",
        "    dural_window = (dural_window - (-20.)) / 200.\n",
        "    bone_window = (bone_window - (-1200.)) / 2800.\n",
        "    img_3ch = np.dstack([brain_window, dural_window, bone_window]).astype(\"float32\")\n",
        "\n",
        "    return img_3ch\n",
        "\n",
        "\n",
        "def save_W_as_jpg(path, id, dest_folder):\n",
        "\n",
        "  im = preprocess_and_segment(path)\n",
        "\n",
        "  rescaled_im = (np.maximum(im, 0)/im.max())*255.0\n",
        "  final_im = np.uint8(rescaled_im)\n",
        "\n",
        "  final_im = Image.fromarray(final_im)\n",
        "  final_im.save(dest_folder+id+'.jpg')"
      ]
    },
    {
      "cell_type": "code",
      "execution_count": 8,
      "metadata": {
        "id": "daecaEGNqd1A",
        "colab": {
          "base_uri": "https://localhost:8080/"
        },
        "outputId": "a3ba8927-ce65-40d7-e9a1-8993120e7103"
      },
      "outputs": [
        {
          "output_type": "stream",
          "name": "stderr",
          "text": [
            "/usr/local/lib/python3.7/dist-packages/ipykernel_launcher.py:67: RuntimeWarning: invalid value encountered in true_divide\n"
          ]
        }
      ],
      "source": [
        "for i in range(10):\n",
        "    dir = \"/content/k\"+str(i)+\"/yes/\"\n",
        "    folder = os.listdir(dir)\n",
        "    dest_folder = \"/content/jpg_k\"+str(i)+\"/yes/\"\n",
        "\n",
        "    for id_ in folder:\n",
        "      img_id = id_[:12]\n",
        "      save_W_as_jpg(dir + f\"{id_}\", img_id, dest_folder)\n",
        "      os.remove(dir + f\"{id_}\")"
      ]
    },
    {
      "cell_type": "code",
      "execution_count": 9,
      "metadata": {
        "id": "FBESDbSJsjge",
        "colab": {
          "base_uri": "https://localhost:8080/"
        },
        "outputId": "2b0b9e40-c32b-4ba7-8851-3c6710df5653"
      },
      "outputs": [
        {
          "output_type": "stream",
          "name": "stderr",
          "text": [
            "/usr/local/lib/python3.7/dist-packages/ipykernel_launcher.py:67: RuntimeWarning: invalid value encountered in true_divide\n"
          ]
        }
      ],
      "source": [
        "for i in range(10):\n",
        "    dir = \"/content/k\"+str(i)+\"/no/\"\n",
        "    folder = os.listdir(dir)\n",
        "    dest_folder = \"/content/jpg_k\"+str(i)+\"/no/\"\n",
        "\n",
        "    for id_ in folder:\n",
        "      img_id = id_[:12]\n",
        "      save_W_as_jpg(dir + f\"{id_}\", img_id, dest_folder)\n",
        "      os.remove(dir + f\"{id_}\")"
      ]
    },
    {
      "cell_type": "code",
      "execution_count": 10,
      "metadata": {
        "id": "FQrunIknv9Pg",
        "colab": {
          "base_uri": "https://localhost:8080/"
        },
        "outputId": "a33d1818-5a2a-4b35-8068-1e4e88942399"
      },
      "outputs": [
        {
          "output_type": "stream",
          "name": "stdout",
          "text": [
            "Total de Imagens JPG EM NO:\n",
            "30069\n",
            "Total de Imagens JPG EM YES:\n",
            "4930\n"
          ]
        }
      ],
      "source": [
        "total_yes = 0\n",
        "total_no = 0\n",
        "\n",
        "for i in range(10):\n",
        "    yesdir = \"/content/jpg_k\"+str(i)+\"/yes/\"\n",
        "    nodir = \"/content/jpg_k\"+str(i)+\"/no/\"\n",
        "    _, _, files = next(os.walk(yesdir))\n",
        "    total_yes += len(files)\n",
        "    _, _, files = next(os.walk(nodir))\n",
        "    total_no += len(files)\n",
        "\n",
        "print(\"Total de Imagens JPG EM NO:\")\n",
        "print(total_no)\n",
        "print(\"Total de Imagens JPG EM YES:\")\n",
        "print(total_yes)"
      ]
    },
    {
      "cell_type": "code",
      "execution_count": 11,
      "metadata": {
        "id": "MSzVtS0S19Om"
      },
      "outputs": [],
      "source": [
        "!rmdir k0/yes\n",
        "!rmdir k1/yes\n",
        "!rmdir k2/yes\n",
        "!rmdir k3/yes\n",
        "!rmdir k4/yes\n",
        "!rmdir k5/yes\n",
        "!rmdir k6/yes\n",
        "!rmdir k7/yes\n",
        "!rmdir k8/yes\n",
        "!rmdir k9/yes\n",
        "\n",
        "!rmdir k0/no\n",
        "!rmdir k1/no\n",
        "!rmdir k2/no\n",
        "!rmdir k3/no\n",
        "!rmdir k4/no\n",
        "!rmdir k5/no\n",
        "!rmdir k6/no\n",
        "!rmdir k7/no\n",
        "!rmdir k8/no\n",
        "!rmdir k9/no\n",
        "\n",
        "!rmdir k0\n",
        "!rmdir k1\n",
        "!rmdir k2\n",
        "!rmdir k3\n",
        "!rmdir k4\n",
        "!rmdir k5\n",
        "!rmdir k6\n",
        "!rmdir k7\n",
        "!rmdir k8\n",
        "!rmdir k9"
      ]
    },
    {
      "cell_type": "markdown",
      "metadata": {
        "id": "vtpU1X0lV4-b"
      },
      "source": [
        "## Experimento"
      ]
    },
    {
      "cell_type": "code",
      "execution_count": 12,
      "metadata": {
        "id": "QzbAC5f3Y3SD"
      },
      "outputs": [],
      "source": [
        "!mkdir train\n",
        "!mkdir train/yes\n",
        "!mkdir train/no"
      ]
    },
    {
      "cell_type": "markdown",
      "metadata": {
        "id": "93yPvqGAV94J"
      },
      "source": [
        "### Baseline: WO/ Tranfered Learning"
      ]
    },
    {
      "cell_type": "markdown",
      "metadata": {
        "id": "6VzFDkOP72mW"
      },
      "source": [
        "#### Declarações"
      ]
    },
    {
      "cell_type": "code",
      "execution_count": null,
      "metadata": {
        "id": "G_hhC1nObwHG"
      },
      "outputs": [],
      "source": [
        "def clear_train_dir():\n",
        "  for file in os.listdir(\"/content/train/yes/\"):\n",
        "    os.remove(\"/content/train/yes/\" + file)\n",
        "\n",
        "  for file in os.listdir(\"/content/train/no/\"):\n",
        "    os.remove(\"/content/train/no/\" + file)"
      ]
    },
    {
      "cell_type": "code",
      "execution_count": null,
      "metadata": {
        "id": "GqFZgyAReZ2r"
      },
      "outputs": [],
      "source": [
        "def load_train_dir(ki):\n",
        "  k = [0,1,2,3,4,5,6,7,8,9]\n",
        "  for i in range(10):\n",
        "    if i!= k[ki]:\n",
        "      yesdir = \"/content/jpg_k\"+str(i)+\"/yes/\"\n",
        "      nodir = \"/content/jpg_k\"+str(i)+\"/no/\"\n",
        "      for file in os.listdir(yesdir):\n",
        "        shutil.copy(yesdir + file, \"/content/train/yes\")\n",
        "      for file in os.listdir(nodir):\n",
        "        shutil.copy(nodir + file, \"/content/train/no\")"
      ]
    },
    {
      "cell_type": "code",
      "execution_count": null,
      "metadata": {
        "id": "n0kZaPEndxnw"
      },
      "outputs": [],
      "source": [
        "def train_model(w0, w1):\n",
        "    train_data = image_dataset_from_directory(\n",
        "      (\"/content/train\"),\n",
        "      labels='inferred',\n",
        "      validation_split=1/3,\n",
        "      subset=\"training\",\n",
        "      seed=123,\n",
        "      batch_size = 64,\n",
        "      color_mode = \"rgb\"\n",
        "    )\n",
        "  \n",
        "    val_data = image_dataset_from_directory(\n",
        "      \"/content/train\",\n",
        "      labels='inferred',\n",
        "      validation_split=1/3,\n",
        "      subset=\"validation\",\n",
        "      seed=123,\n",
        "      batch_size = 64,\n",
        "      color_mode = \"rgb\"\n",
        "    )\n",
        "\n",
        "    class_names = train_data.class_names\n",
        "\n",
        "    normalization_layer = Rescaling(1./255)\n",
        "\n",
        "    normalized_data = train_data.map(lambda x, y: (normalization_layer(x), y))\n",
        "    image_batch, labels_batch = next(iter(normalized_data))\n",
        "\n",
        "    normalized_val_data = val_data.map(lambda x, y: (normalization_layer(x), y))\n",
        "    val_image_batch, val_labels_batch = next(iter(normalized_val_data))\n",
        "\n",
        "    keras.backend.clear_session()\n",
        "\n",
        "    resnet_model = Sequential()\n",
        "\n",
        "    resnet = tf.keras.applications.resnet50.ResNet50(\n",
        "        include_top=False,\n",
        "        input_shape=image_batch.shape[1:],\n",
        "        pooling='avg',\n",
        "        weights=None,\n",
        "        classes=2,\n",
        "    )\n",
        "\n",
        "    resnet_model.add(resnet)\n",
        "\n",
        "    resnet_model.add(Flatten())\n",
        "\n",
        "    resnet_model.add(Dense(512, activation=\"relu\"))\n",
        "\n",
        "    resnet_model.add(Dropout(0.5))\n",
        "\n",
        "    resnet_model.add(Dense(1, activation=\"sigmoid\"))\n",
        "\n",
        "    resnet_model.compile(loss='binary_crossentropy', \n",
        "                         optimizer=optimizers.Adam(learning_rate=0.00001),\n",
        "                         metrics=[keras.metrics.AUC(), 'accuracy'])\n",
        "  \n",
        "    run_hist = resnet_model.fit(\n",
        "      normalized_data, \n",
        "      validation_data=normalized_val_data, epochs=100, class_weight={0:w0, 1:w1}, \n",
        "      callbacks=[keras.callbacks.EarlyStopping(\n",
        "                      monitor=\"val_auc\",\n",
        "                      min_delta=0,\n",
        "                      patience=5,\n",
        "                      verbose=1,\n",
        "                      mode=\"auto\",\n",
        "                      baseline=None,\n",
        "                      restore_best_weights=True,\n",
        "                  )]\n",
        "    )\n",
        "\n",
        "    return resnet_model"
      ]
    },
    {
      "cell_type": "code",
      "execution_count": null,
      "metadata": {
        "id": "DCcxP-Clgiwl"
      },
      "outputs": [],
      "source": [
        "def test_model(resnet_model, test_path):\n",
        "    test_data = image_dataset_from_directory(\n",
        "      test_path,\n",
        "      labels='inferred',\n",
        "      label_mode=\"int\",\n",
        "      batch_size = 64,\n",
        "      color_mode = \"rgb\"\n",
        "    )\n",
        "\n",
        "    normalization_layer = Rescaling(1./255)\n",
        "\n",
        "    normalized_test_data = test_data.map(lambda x, y: (normalization_layer(x), y))\n",
        "    test_image_batch, test_labels_batch = next(iter(normalized_test_data))\n",
        "\n",
        "    results = resnet_model.evaluate(normalized_test_data)\n",
        "    return results"
      ]
    },
    {
      "cell_type": "code",
      "execution_count": null,
      "metadata": {
        "colab": {
          "base_uri": "https://localhost:8080/"
        },
        "id": "nnNXNKrRXuoe",
        "outputId": "f7418e4f-5a5f-4eee-b235-55c13cda206e"
      },
      "outputs": [
        {
          "name": "stdout",
          "output_type": "stream",
          "text": [
            "Peso para a classe 0: 0.58\n",
            "Peso para a classe 1: 3.55\n"
          ]
        }
      ],
      "source": [
        "neg = 27062\n",
        "pos = 4437\n",
        "total = pos+neg\n",
        "\n",
        "w0 = (1 / neg) * (total / 2.0)\n",
        "w1 = (1 / pos) * (total / 2.0)\n",
        "\n",
        "print('Peso para a classe 0: {:.2f}'.format(w0))\n",
        "print('Peso para a classe 1: {:.2f}'.format(w1))"
      ]
    },
    {
      "cell_type": "code",
      "execution_count": null,
      "metadata": {
        "colab": {
          "base_uri": "https://localhost:8080/"
        },
        "id": "RcBJJizjcxeT",
        "outputId": "903e0b70-7e0e-4c1c-a54c-015fbb4a507e"
      },
      "outputs": [
        {
          "name": "stdout",
          "output_type": "stream",
          "text": [
            "Numero de imagens: NO\n",
            "0\n",
            "Numero de imagens: YES\n",
            "0\n"
          ]
        }
      ],
      "source": [
        "print('Numero de imagens: NO')\n",
        "!ls /content/train/no | wc -l\n",
        "print('Numero de imagens: YES')\n",
        "!ls /content/train/yes | wc -l"
      ]
    },
    {
      "cell_type": "markdown",
      "metadata": {
        "id": "K8zxUDfJ3dTQ"
      },
      "source": [
        "#### k0"
      ]
    },
    {
      "cell_type": "code",
      "execution_count": null,
      "metadata": {
        "colab": {
          "base_uri": "https://localhost:8080/"
        },
        "id": "j3QyxCnehwGP",
        "outputId": "64d34964-fcb0-4a63-a487-1a2e6e3df8de"
      },
      "outputs": [
        {
          "name": "stdout",
          "output_type": "stream",
          "text": [
            "Found 31499 files belonging to 2 classes.\n",
            "Using 21000 files for training.\n",
            "Found 31499 files belonging to 2 classes.\n",
            "Using 10499 files for validation.\n",
            "Epoch 1/20\n",
            "329/329 [==============================] - 323s 924ms/step - loss: 0.7328 - auc: 0.6273 - accuracy: 0.5764 - val_loss: 0.6793 - val_auc: 0.3876 - val_accuracy: 0.6743\n",
            "Epoch 2/20\n",
            "329/329 [==============================] - 311s 942ms/step - loss: 0.6405 - auc: 0.7016 - accuracy: 0.6150 - val_loss: 0.7786 - val_auc: 0.7175 - val_accuracy: 0.4648\n",
            "Epoch 3/20\n",
            "329/329 [==============================] - 312s 946ms/step - loss: 0.6106 - auc: 0.7342 - accuracy: 0.6406 - val_loss: 0.5440 - val_auc: 0.7557 - val_accuracy: 0.7226\n",
            "Epoch 4/20\n",
            "329/329 [==============================] - 312s 946ms/step - loss: 0.5853 - auc: 0.7578 - accuracy: 0.6724 - val_loss: 0.5569 - val_auc: 0.7781 - val_accuracy: 0.7103\n",
            "Epoch 5/20\n",
            "329/329 [==============================] - 311s 943ms/step - loss: 0.5588 - auc: 0.7849 - accuracy: 0.7059 - val_loss: 0.6053 - val_auc: 0.7941 - val_accuracy: 0.6836\n",
            "Epoch 6/20\n",
            "329/329 [==============================] - 350s 1s/step - loss: 0.5415 - auc: 0.8006 - accuracy: 0.7268 - val_loss: 0.4075 - val_auc: 0.7787 - val_accuracy: 0.8516\n",
            "Epoch 7/20\n",
            "329/329 [==============================] - 311s 945ms/step - loss: 0.5106 - auc: 0.8245 - accuracy: 0.7675 - val_loss: 0.4212 - val_auc: 0.8134 - val_accuracy: 0.8371\n",
            "Epoch 8/20\n",
            "329/329 [==============================] - 311s 945ms/step - loss: 0.4761 - auc: 0.8491 - accuracy: 0.7931 - val_loss: 0.6605 - val_auc: 0.8146 - val_accuracy: 0.6966\n",
            "Epoch 9/20\n",
            "329/329 [==============================] - 312s 945ms/step - loss: 0.4634 - auc: 0.8579 - accuracy: 0.7990 - val_loss: 1.2938 - val_auc: 0.7281 - val_accuracy: 0.5596\n",
            "Epoch 10/20\n",
            "329/329 [==============================] - 311s 945ms/step - loss: 0.4263 - auc: 0.8833 - accuracy: 0.8210 - val_loss: 1.2123 - val_auc: 0.8118 - val_accuracy: 0.5360\n",
            "Epoch 11/20\n",
            "329/329 [==============================] - 311s 945ms/step - loss: 0.4022 - auc: 0.8951 - accuracy: 0.8370 - val_loss: 0.6543 - val_auc: 0.8096 - val_accuracy: 0.7232\n",
            "Epoch 12/20\n",
            "329/329 [==============================] - 311s 944ms/step - loss: 0.3802 - auc: 0.9073 - accuracy: 0.8478 - val_loss: 0.8258 - val_auc: 0.7356 - val_accuracy: 0.7020\n",
            "Epoch 13/20\n",
            "329/329 [==============================] - ETA: 0s - loss: 0.3544 - auc: 0.9198 - accuracy: 0.8575Restoring model weights from the end of the best epoch: 8.\n",
            "329/329 [==============================] - 311s 943ms/step - loss: 0.3544 - auc: 0.9198 - accuracy: 0.8575 - val_loss: 0.7123 - val_auc: 0.7787 - val_accuracy: 0.7375\n",
            "Epoch 13: early stopping\n",
            "Found 3500 files belonging to 2 classes.\n",
            "55/55 [==============================] - 16s 280ms/step - loss: 0.6360 - auc: 0.8124 - accuracy: 0.7037\n",
            "[0.6360490918159485, 0.8124390244483948, 0.7037143111228943]\n"
          ]
        }
      ],
      "source": [
        "i = 0\n",
        "load_train_dir(i)\n",
        "model = train_model(w0, w1)\n",
        "print( test_model(model, \"/content/jpg_k\"+str(i)))"
      ]
    },
    {
      "cell_type": "code",
      "execution_count": null,
      "metadata": {
        "id": "Do_xTLbBsu6D"
      },
      "outputs": [],
      "source": [
        "clear_train_dir()"
      ]
    },
    {
      "cell_type": "markdown",
      "metadata": {
        "id": "8DgiNBHH3gh_"
      },
      "source": [
        "####k1"
      ]
    },
    {
      "cell_type": "code",
      "execution_count": null,
      "metadata": {
        "colab": {
          "base_uri": "https://localhost:8080/"
        },
        "id": "o6XTSYJ13m0r",
        "outputId": "8584897c-b9f6-4ceb-802e-e75cb10433e8"
      },
      "outputs": [
        {
          "name": "stdout",
          "output_type": "stream",
          "text": [
            "Found 31499 files belonging to 2 classes.\n",
            "Using 21000 files for training.\n",
            "Found 31499 files belonging to 2 classes.\n",
            "Using 10499 files for validation.\n",
            "Epoch 1/20\n",
            "329/329 [==============================] - 318s 949ms/step - loss: 0.7426 - auc: 0.6295 - accuracy: 0.5795 - val_loss: 0.7870 - val_auc: 0.6108 - val_accuracy: 0.1552\n",
            "Epoch 2/20\n",
            "329/329 [==============================] - 349s 1s/step - loss: 0.6329 - auc: 0.7107 - accuracy: 0.6209 - val_loss: 0.7495 - val_auc: 0.7278 - val_accuracy: 0.5152\n",
            "Epoch 3/20\n",
            "329/329 [==============================] - 345s 1s/step - loss: 0.5964 - auc: 0.7454 - accuracy: 0.6520 - val_loss: 0.6935 - val_auc: 0.7612 - val_accuracy: 0.6045\n",
            "Epoch 4/20\n",
            "329/329 [==============================] - 311s 942ms/step - loss: 0.5840 - auc: 0.7607 - accuracy: 0.6676 - val_loss: 0.6608 - val_auc: 0.7642 - val_accuracy: 0.6248\n",
            "Epoch 5/20\n",
            "329/329 [==============================] - 311s 943ms/step - loss: 0.5536 - auc: 0.7892 - accuracy: 0.7037 - val_loss: 0.7655 - val_auc: 0.7682 - val_accuracy: 0.5955\n",
            "Epoch 6/20\n",
            "329/329 [==============================] - 311s 943ms/step - loss: 0.5286 - auc: 0.8103 - accuracy: 0.7257 - val_loss: 1.0173 - val_auc: 0.7285 - val_accuracy: 0.4831\n",
            "Epoch 7/20\n",
            "329/329 [==============================] - 350s 1s/step - loss: 0.5041 - auc: 0.8301 - accuracy: 0.7557 - val_loss: 0.9706 - val_auc: 0.7432 - val_accuracy: 0.5207\n",
            "Epoch 8/20\n",
            "329/329 [==============================] - 349s 1s/step - loss: 0.4728 - auc: 0.8540 - accuracy: 0.7841 - val_loss: 0.5065 - val_auc: 0.7634 - val_accuracy: 0.7810\n",
            "Epoch 9/20\n",
            "329/329 [==============================] - 311s 943ms/step - loss: 0.4465 - auc: 0.8703 - accuracy: 0.8044 - val_loss: 0.5315 - val_auc: 0.7703 - val_accuracy: 0.7693\n",
            "Epoch 10/20\n",
            "329/329 [==============================] - 310s 940ms/step - loss: 0.4096 - auc: 0.8926 - accuracy: 0.8268 - val_loss: 0.4147 - val_auc: 0.7618 - val_accuracy: 0.8475\n",
            "Epoch 11/20\n",
            "329/329 [==============================] - 310s 942ms/step - loss: 0.3849 - auc: 0.9053 - accuracy: 0.8396 - val_loss: 0.4783 - val_auc: 0.7595 - val_accuracy: 0.8162\n",
            "Epoch 12/20\n",
            "329/329 [==============================] - 349s 1s/step - loss: 0.3599 - auc: 0.9176 - accuracy: 0.8550 - val_loss: 0.6466 - val_auc: 0.7743 - val_accuracy: 0.7224\n",
            "Epoch 13/20\n",
            "329/329 [==============================] - 309s 938ms/step - loss: 0.3406 - auc: 0.9266 - accuracy: 0.8666 - val_loss: 0.8033 - val_auc: 0.7728 - val_accuracy: 0.6668\n",
            "Epoch 14/20\n",
            "329/329 [==============================] - 349s 1s/step - loss: 0.3200 - auc: 0.9363 - accuracy: 0.8770 - val_loss: 0.4756 - val_auc: 0.7482 - val_accuracy: 0.8502\n",
            "Epoch 15/20\n",
            "329/329 [==============================] - 309s 938ms/step - loss: 0.2967 - auc: 0.9444 - accuracy: 0.8890 - val_loss: 0.4977 - val_auc: 0.7534 - val_accuracy: 0.8422\n",
            "Epoch 16/20\n",
            "329/329 [==============================] - 311s 943ms/step - loss: 0.2701 - auc: 0.9535 - accuracy: 0.9044 - val_loss: 0.5631 - val_auc: 0.6849 - val_accuracy: 0.8771\n",
            "Epoch 17/20\n",
            "329/329 [==============================] - ETA: 0s - loss: 0.2541 - auc: 0.9591 - accuracy: 0.9126Restoring model weights from the end of the best epoch: 12.\n",
            "329/329 [==============================] - 349s 1s/step - loss: 0.2541 - auc: 0.9591 - accuracy: 0.9126 - val_loss: 0.4967 - val_auc: 0.7459 - val_accuracy: 0.8601\n",
            "Epoch 17: early stopping\n",
            "Found 3500 files belonging to 2 classes.\n",
            "55/55 [==============================] - 15s 251ms/step - loss: 0.6440 - auc: 0.7750 - accuracy: 0.7234\n",
            "[0.6440498232841492, 0.7750279903411865, 0.7234285473823547]\n"
          ]
        }
      ],
      "source": [
        "i = 1\n",
        "load_train_dir(i)\n",
        "model = train_model(w0, w1)\n",
        "print( test_model(model, \"/content/jpg_k\"+str(i)))"
      ]
    },
    {
      "cell_type": "code",
      "execution_count": null,
      "metadata": {
        "id": "bFnkVkgZNZIQ"
      },
      "outputs": [],
      "source": [
        "clear_train_dir()"
      ]
    },
    {
      "cell_type": "markdown",
      "metadata": {
        "id": "0WdjXNjqNnIw"
      },
      "source": [
        "####k2"
      ]
    },
    {
      "cell_type": "code",
      "execution_count": null,
      "metadata": {
        "colab": {
          "base_uri": "https://localhost:8080/"
        },
        "id": "-ckW8y3iNnIw",
        "outputId": "79dfafc3-6800-4969-84bf-535c748af440"
      },
      "outputs": [
        {
          "name": "stdout",
          "output_type": "stream",
          "text": [
            "Found 31499 files belonging to 2 classes.\n",
            "Using 21000 files for training.\n",
            "Found 31499 files belonging to 2 classes.\n",
            "Using 10499 files for validation.\n",
            "Epoch 1/100\n",
            "329/329 [==============================] - 327s 937ms/step - loss: 0.7304 - auc: 0.6249 - accuracy: 0.5750 - val_loss: 0.9373 - val_auc: 0.7000 - val_accuracy: 0.1554\n",
            "Epoch 2/100\n",
            "329/329 [==============================] - 313s 950ms/step - loss: 0.6362 - auc: 0.7099 - accuracy: 0.6237 - val_loss: 0.8878 - val_auc: 0.6563 - val_accuracy: 0.3893\n",
            "Epoch 3/100\n",
            "329/329 [==============================] - 313s 950ms/step - loss: 0.6054 - auc: 0.7374 - accuracy: 0.6443 - val_loss: 0.6536 - val_auc: 0.7623 - val_accuracy: 0.6389\n",
            "Epoch 4/100\n",
            "329/329 [==============================] - 313s 949ms/step - loss: 0.5896 - auc: 0.7532 - accuracy: 0.6650 - val_loss: 0.4939 - val_auc: 0.7182 - val_accuracy: 0.6476\n",
            "Epoch 5/100\n",
            "329/329 [==============================] - 351s 1s/step - loss: 0.5674 - auc: 0.7762 - accuracy: 0.6885 - val_loss: 0.5927 - val_auc: 0.7870 - val_accuracy: 0.6804\n",
            "Epoch 6/100\n",
            "329/329 [==============================] - 313s 950ms/step - loss: 0.5478 - auc: 0.7958 - accuracy: 0.7105 - val_loss: 0.4332 - val_auc: 0.7812 - val_accuracy: 0.8185\n",
            "Epoch 7/100\n",
            "329/329 [==============================] - 313s 949ms/step - loss: 0.5259 - auc: 0.8148 - accuracy: 0.7396 - val_loss: 0.5222 - val_auc: 0.7554 - val_accuracy: 0.7525\n",
            "Epoch 8/100\n",
            "329/329 [==============================] - 313s 951ms/step - loss: 0.5013 - auc: 0.8336 - accuracy: 0.7677 - val_loss: 0.4971 - val_auc: 0.7933 - val_accuracy: 0.7656\n",
            "Epoch 9/100\n",
            "329/329 [==============================] - 313s 950ms/step - loss: 0.4846 - auc: 0.8448 - accuracy: 0.7772 - val_loss: 1.6061 - val_auc: 0.7466 - val_accuracy: 0.3995\n",
            "Epoch 10/100\n",
            "329/329 [==============================] - 313s 950ms/step - loss: 0.4589 - auc: 0.8625 - accuracy: 0.7981 - val_loss: 0.6488 - val_auc: 0.8090 - val_accuracy: 0.7034\n",
            "Epoch 11/100\n",
            "329/329 [==============================] - 314s 953ms/step - loss: 0.4213 - auc: 0.8869 - accuracy: 0.8239 - val_loss: 0.6674 - val_auc: 0.7955 - val_accuracy: 0.7019\n",
            "Epoch 12/100\n",
            "329/329 [==============================] - 312s 945ms/step - loss: 0.4069 - auc: 0.8947 - accuracy: 0.8310 - val_loss: 0.4209 - val_auc: 0.7315 - val_accuracy: 0.8819\n",
            "Epoch 13/100\n",
            "329/329 [==============================] - 308s 934ms/step - loss: 0.3754 - auc: 0.9108 - accuracy: 0.8454 - val_loss: 0.4034 - val_auc: 0.7721 - val_accuracy: 0.8612\n",
            "Epoch 14/100\n",
            "329/329 [==============================] - 344s 1s/step - loss: 0.3369 - auc: 0.9284 - accuracy: 0.8700 - val_loss: 1.2892 - val_auc: 0.7787 - val_accuracy: 0.5422\n",
            "Epoch 15/100\n",
            "329/329 [==============================] - ETA: 0s - loss: 0.3280 - auc: 0.9316 - accuracy: 0.8668Restoring model weights from the end of the best epoch: 10.\n",
            "329/329 [==============================] - 341s 1s/step - loss: 0.3280 - auc: 0.9316 - accuracy: 0.8668 - val_loss: 0.5921 - val_auc: 0.7902 - val_accuracy: 0.7686\n",
            "Epoch 15: early stopping\n",
            "Found 3500 files belonging to 2 classes.\n",
            "55/55 [==============================] - 15s 259ms/step - loss: 0.6622 - auc: 0.7837 - accuracy: 0.6974\n",
            "[0.6622288227081299, 0.7836741209030151, 0.6974285840988159]\n"
          ]
        }
      ],
      "source": [
        "i = 2\n",
        "load_train_dir(i)\n",
        "model = train_model(w0, w1)\n",
        "print( test_model(model, \"/content/jpg_k\"+str(i)))"
      ]
    },
    {
      "cell_type": "code",
      "execution_count": null,
      "metadata": {
        "id": "oi2sh6F2NnIw"
      },
      "outputs": [],
      "source": [
        "clear_train_dir()"
      ]
    },
    {
      "cell_type": "markdown",
      "metadata": {
        "id": "Sa73W3DpOP5B"
      },
      "source": [
        "####k3"
      ]
    },
    {
      "cell_type": "code",
      "execution_count": null,
      "metadata": {
        "colab": {
          "base_uri": "https://localhost:8080/"
        },
        "id": "ZW4WrcPAOP5B",
        "outputId": "b61086c9-d662-4ca5-9eb8-7b73d36ff2d9"
      },
      "outputs": [
        {
          "name": "stdout",
          "output_type": "stream",
          "text": [
            "Found 31499 files belonging to 2 classes.\n",
            "Using 21000 files for training.\n",
            "Found 31499 files belonging to 2 classes.\n",
            "Using 10499 files for validation.\n",
            "Epoch 1/100\n",
            "329/329 [==============================] - 345s 1s/step - loss: 0.7093 - auc: 0.6410 - accuracy: 0.5841 - val_loss: 1.4652 - val_auc: 0.6839 - val_accuracy: 0.1400\n",
            "Epoch 2/100\n",
            "329/329 [==============================] - 343s 1s/step - loss: 0.6268 - auc: 0.7125 - accuracy: 0.6203 - val_loss: 0.9108 - val_auc: 0.7294 - val_accuracy: 0.2913\n",
            "Epoch 3/100\n",
            "329/329 [==============================] - 304s 923ms/step - loss: 0.5959 - auc: 0.7441 - accuracy: 0.6390 - val_loss: 0.6879 - val_auc: 0.7608 - val_accuracy: 0.6017\n",
            "Epoch 4/100\n",
            "329/329 [==============================] - 308s 933ms/step - loss: 0.5870 - auc: 0.7558 - accuracy: 0.6603 - val_loss: 0.6012 - val_auc: 0.7671 - val_accuracy: 0.6511\n",
            "Epoch 5/100\n",
            "329/329 [==============================] - 307s 930ms/step - loss: 0.5744 - auc: 0.7687 - accuracy: 0.6745 - val_loss: 0.8575 - val_auc: 0.7645 - val_accuracy: 0.5155\n",
            "Epoch 6/100\n",
            "329/329 [==============================] - 306s 929ms/step - loss: 0.5509 - auc: 0.7905 - accuracy: 0.6933 - val_loss: 0.6907 - val_auc: 0.7798 - val_accuracy: 0.6099\n",
            "Epoch 7/100\n",
            "329/329 [==============================] - 309s 936ms/step - loss: 0.5313 - auc: 0.8088 - accuracy: 0.7241 - val_loss: 0.7424 - val_auc: 0.7691 - val_accuracy: 0.6153\n",
            "Epoch 8/100\n",
            "329/329 [==============================] - 307s 931ms/step - loss: 0.5027 - auc: 0.8322 - accuracy: 0.7545 - val_loss: 0.7069 - val_auc: 0.7895 - val_accuracy: 0.6703\n",
            "Epoch 9/100\n",
            "329/329 [==============================] - 307s 930ms/step - loss: 0.4762 - auc: 0.8510 - accuracy: 0.7827 - val_loss: 1.4754 - val_auc: 0.7498 - val_accuracy: 0.4799\n",
            "Epoch 10/100\n",
            "329/329 [==============================] - 307s 931ms/step - loss: 0.4469 - auc: 0.8703 - accuracy: 0.8027 - val_loss: 0.6420 - val_auc: 0.7984 - val_accuracy: 0.7226\n",
            "Epoch 11/100\n",
            "329/329 [==============================] - 307s 931ms/step - loss: 0.4225 - auc: 0.8839 - accuracy: 0.8195 - val_loss: 0.4686 - val_auc: 0.7651 - val_accuracy: 0.8281\n",
            "Epoch 12/100\n",
            "329/329 [==============================] - 306s 928ms/step - loss: 0.3823 - auc: 0.9080 - accuracy: 0.8427 - val_loss: 0.4832 - val_auc: 0.7421 - val_accuracy: 0.8439\n",
            "Epoch 13/100\n",
            "329/329 [==============================] - 347s 1s/step - loss: 0.3652 - auc: 0.9154 - accuracy: 0.8582 - val_loss: 0.4875 - val_auc: 0.7253 - val_accuracy: 0.8399\n",
            "Epoch 14/100\n",
            "329/329 [==============================] - 303s 920ms/step - loss: 0.3418 - auc: 0.9262 - accuracy: 0.8695 - val_loss: 0.5278 - val_auc: 0.7230 - val_accuracy: 0.8547\n",
            "Epoch 15/100\n",
            "329/329 [==============================] - ETA: 0s - loss: 0.3177 - auc: 0.9365 - accuracy: 0.8803Restoring model weights from the end of the best epoch: 10.\n",
            "329/329 [==============================] - 347s 1s/step - loss: 0.3177 - auc: 0.9365 - accuracy: 0.8803 - val_loss: 0.5157 - val_auc: 0.7188 - val_accuracy: 0.8575\n",
            "Epoch 15: early stopping\n",
            "Found 3500 files belonging to 2 classes.\n",
            "55/55 [==============================] - 14s 248ms/step - loss: 0.6392 - auc: 0.7969 - accuracy: 0.7240\n",
            "[0.6392362117767334, 0.7968628406524658, 0.7239999771118164]\n"
          ]
        }
      ],
      "source": [
        "i = 3\n",
        "load_train_dir(i)\n",
        "model = train_model(w0, w1)\n",
        "print( test_model(model, \"/content/jpg_k\"+str(i)))"
      ]
    },
    {
      "cell_type": "code",
      "execution_count": null,
      "metadata": {
        "id": "Cey_LUHyOP5B"
      },
      "outputs": [],
      "source": [
        "clear_train_dir()"
      ]
    },
    {
      "cell_type": "markdown",
      "metadata": {
        "id": "Pa-Ny986OT1B"
      },
      "source": [
        "####k4"
      ]
    },
    {
      "cell_type": "code",
      "execution_count": null,
      "metadata": {
        "colab": {
          "base_uri": "https://localhost:8080/"
        },
        "id": "qcdDwdc3OT1B",
        "outputId": "390d1bc9-6a31-404b-ae44-92ca0b9647bb"
      },
      "outputs": [
        {
          "name": "stdout",
          "output_type": "stream",
          "text": [
            "Found 31499 files belonging to 2 classes.\n",
            "Using 21000 files for training.\n",
            "Found 31499 files belonging to 2 classes.\n",
            "Using 10499 files for validation.\n",
            "Epoch 1/100\n",
            "329/329 [==============================] - 322s 923ms/step - loss: 0.7222 - auc: 0.6410 - accuracy: 0.5858 - val_loss: 1.1072 - val_auc: 0.6918 - val_accuracy: 0.1417\n",
            "Epoch 2/100\n",
            "329/329 [==============================] - 311s 943ms/step - loss: 0.6308 - auc: 0.7147 - accuracy: 0.6318 - val_loss: 0.6246 - val_auc: 0.7409 - val_accuracy: 0.6219\n",
            "Epoch 3/100\n",
            "329/329 [==============================] - 311s 944ms/step - loss: 0.5958 - auc: 0.7465 - accuracy: 0.6505 - val_loss: 0.5815 - val_auc: 0.7533 - val_accuracy: 0.6690\n",
            "Epoch 4/100\n",
            "329/329 [==============================] - 311s 943ms/step - loss: 0.5813 - auc: 0.7623 - accuracy: 0.6757 - val_loss: 0.6494 - val_auc: 0.7711 - val_accuracy: 0.6367\n",
            "Epoch 5/100\n",
            "329/329 [==============================] - 310s 941ms/step - loss: 0.5564 - auc: 0.7857 - accuracy: 0.7031 - val_loss: 0.7093 - val_auc: 0.7941 - val_accuracy: 0.6175\n",
            "Epoch 6/100\n",
            "329/329 [==============================] - 310s 942ms/step - loss: 0.5201 - auc: 0.8182 - accuracy: 0.7433 - val_loss: 0.3944 - val_auc: 0.7829 - val_accuracy: 0.8625\n",
            "Epoch 7/100\n",
            "329/329 [==============================] - 310s 942ms/step - loss: 0.4923 - auc: 0.8388 - accuracy: 0.7723 - val_loss: 0.7412 - val_auc: 0.8040 - val_accuracy: 0.6280\n",
            "Epoch 8/100\n",
            "329/329 [==============================] - 310s 940ms/step - loss: 0.4637 - auc: 0.8582 - accuracy: 0.7960 - val_loss: 0.3558 - val_auc: 0.7739 - val_accuracy: 0.8768\n",
            "Epoch 9/100\n",
            "329/329 [==============================] - 310s 940ms/step - loss: 0.4357 - auc: 0.8767 - accuracy: 0.8120 - val_loss: 0.4433 - val_auc: 0.7315 - val_accuracy: 0.8686\n",
            "Epoch 10/100\n",
            "329/329 [==============================] - 348s 1s/step - loss: 0.4164 - auc: 0.8871 - accuracy: 0.8252 - val_loss: 0.8441 - val_auc: 0.8002 - val_accuracy: 0.6535\n",
            "Epoch 11/100\n",
            "329/329 [==============================] - 348s 1s/step - loss: 0.4023 - auc: 0.8965 - accuracy: 0.8340 - val_loss: 0.4215 - val_auc: 0.7900 - val_accuracy: 0.8470\n",
            "Epoch 12/100\n",
            "329/329 [==============================] - ETA: 0s - loss: 0.3746 - auc: 0.9105 - accuracy: 0.8503Restoring model weights from the end of the best epoch: 7.\n",
            "329/329 [==============================] - 310s 941ms/step - loss: 0.3746 - auc: 0.9105 - accuracy: 0.8503 - val_loss: 1.1327 - val_auc: 0.7412 - val_accuracy: 0.6122\n",
            "Epoch 12: early stopping\n",
            "Found 3500 files belonging to 2 classes.\n",
            "55/55 [==============================] - 16s 281ms/step - loss: 0.7423 - auc: 0.7994 - accuracy: 0.6254\n",
            "[0.7422928810119629, 0.7994055151939392, 0.6254285573959351]\n"
          ]
        }
      ],
      "source": [
        "i = 4\n",
        "load_train_dir(i)\n",
        "model = train_model(w0, w1)\n",
        "print( test_model(model, \"/content/jpg_k\"+str(i)))"
      ]
    },
    {
      "cell_type": "code",
      "execution_count": null,
      "metadata": {
        "id": "0a6OHHYvOT1C"
      },
      "outputs": [],
      "source": [
        "clear_train_dir()"
      ]
    },
    {
      "cell_type": "markdown",
      "metadata": {
        "id": "KM1DwPRmOXPB"
      },
      "source": [
        "####k5"
      ]
    },
    {
      "cell_type": "code",
      "execution_count": null,
      "metadata": {
        "colab": {
          "base_uri": "https://localhost:8080/"
        },
        "id": "PTxj4z-iOXPB",
        "outputId": "b58ea722-5a25-4b91-f259-ca182ab53f60"
      },
      "outputs": [
        {
          "name": "stdout",
          "output_type": "stream",
          "text": [
            "Found 31499 files belonging to 2 classes.\n",
            "Using 21000 files for training.\n",
            "Found 31499 files belonging to 2 classes.\n",
            "Using 10499 files for validation.\n",
            "Epoch 1/100\n",
            "329/329 [==============================] - 315s 902ms/step - loss: 0.7291 - auc: 0.6376 - accuracy: 0.5833 - val_loss: 0.9893 - val_auc: 0.6636 - val_accuracy: 0.1400\n",
            "Epoch 2/100\n",
            "329/329 [==============================] - 300s 911ms/step - loss: 0.6411 - auc: 0.7015 - accuracy: 0.6170 - val_loss: 0.6252 - val_auc: 0.7421 - val_accuracy: 0.6325\n",
            "Epoch 3/100\n",
            "329/329 [==============================] - 300s 911ms/step - loss: 0.6055 - auc: 0.7384 - accuracy: 0.6484 - val_loss: 0.6835 - val_auc: 0.7663 - val_accuracy: 0.5941\n",
            "Epoch 4/100\n",
            "329/329 [==============================] - 340s 1s/step - loss: 0.5820 - auc: 0.7610 - accuracy: 0.6724 - val_loss: 0.8330 - val_auc: 0.7725 - val_accuracy: 0.5250\n",
            "Epoch 5/100\n",
            "329/329 [==============================] - 300s 910ms/step - loss: 0.5506 - auc: 0.7908 - accuracy: 0.7081 - val_loss: 0.4542 - val_auc: 0.8009 - val_accuracy: 0.7844\n",
            "Epoch 6/100\n",
            "329/329 [==============================] - 340s 1s/step - loss: 0.5350 - auc: 0.8056 - accuracy: 0.7270 - val_loss: 0.4589 - val_auc: 0.8104 - val_accuracy: 0.7928\n",
            "Epoch 7/100\n",
            "329/329 [==============================] - 299s 908ms/step - loss: 0.5039 - auc: 0.8307 - accuracy: 0.7582 - val_loss: 0.4163 - val_auc: 0.8004 - val_accuracy: 0.8295\n",
            "Epoch 8/100\n",
            "329/329 [==============================] - 300s 909ms/step - loss: 0.4717 - auc: 0.8538 - accuracy: 0.7909 - val_loss: 0.9724 - val_auc: 0.7660 - val_accuracy: 0.6017\n",
            "Epoch 9/100\n",
            "329/329 [==============================] - 300s 909ms/step - loss: 0.4479 - auc: 0.8700 - accuracy: 0.8056 - val_loss: 0.3811 - val_auc: 0.8081 - val_accuracy: 0.8577\n",
            "Epoch 10/100\n",
            "329/329 [==============================] - 340s 1s/step - loss: 0.4187 - auc: 0.8878 - accuracy: 0.8230 - val_loss: 0.4009 - val_auc: 0.8218 - val_accuracy: 0.8372\n",
            "Epoch 11/100\n",
            "329/329 [==============================] - 300s 909ms/step - loss: 0.3750 - auc: 0.9108 - accuracy: 0.8501 - val_loss: 0.4021 - val_auc: 0.7497 - val_accuracy: 0.8830\n",
            "Epoch 12/100\n",
            "329/329 [==============================] - 340s 1s/step - loss: 0.3563 - auc: 0.9200 - accuracy: 0.8571 - val_loss: 0.4384 - val_auc: 0.7689 - val_accuracy: 0.8660\n",
            "Epoch 13/100\n",
            "329/329 [==============================] - 299s 908ms/step - loss: 0.3605 - auc: 0.9181 - accuracy: 0.8546 - val_loss: 0.3937 - val_auc: 0.7632 - val_accuracy: 0.8718\n",
            "Epoch 14/100\n",
            "329/329 [==============================] - 299s 908ms/step - loss: 0.3180 - auc: 0.9370 - accuracy: 0.8795 - val_loss: 0.4112 - val_auc: 0.7806 - val_accuracy: 0.8609\n",
            "Epoch 15/100\n",
            "329/329 [==============================] - ETA: 0s - loss: 0.2996 - auc: 0.9435 - accuracy: 0.8880Restoring model weights from the end of the best epoch: 10.\n",
            "329/329 [==============================] - 299s 909ms/step - loss: 0.2996 - auc: 0.9435 - accuracy: 0.8880 - val_loss: 0.4242 - val_auc: 0.7794 - val_accuracy: 0.8641\n",
            "Epoch 15: early stopping\n",
            "Found 3500 files belonging to 2 classes.\n",
            "55/55 [==============================] - 16s 270ms/step - loss: 0.4098 - auc: 0.7881 - accuracy: 0.8351\n",
            "[0.40983760356903076, 0.7880995273590088, 0.8351428508758545]\n"
          ]
        }
      ],
      "source": [
        "i = 5\n",
        "load_train_dir(i)\n",
        "model = train_model(w0, w1)\n",
        "print( test_model(model, \"/content/jpg_k\"+str(i)))"
      ]
    },
    {
      "cell_type": "code",
      "execution_count": null,
      "metadata": {
        "id": "kANq5rjFOXPB"
      },
      "outputs": [],
      "source": [
        "clear_train_dir()"
      ]
    },
    {
      "cell_type": "markdown",
      "metadata": {
        "id": "I2wTyDXROZuJ"
      },
      "source": [
        "####k6"
      ]
    },
    {
      "cell_type": "code",
      "execution_count": null,
      "metadata": {
        "colab": {
          "base_uri": "https://localhost:8080/"
        },
        "id": "8uJ2ITJPOZuJ",
        "outputId": "e98438b1-f6ce-48c6-abca-908239f2f9e2"
      },
      "outputs": [
        {
          "name": "stdout",
          "output_type": "stream",
          "text": [
            "Found 31499 files belonging to 2 classes.\n",
            "Using 21000 files for training.\n",
            "Found 31499 files belonging to 2 classes.\n",
            "Using 10499 files for validation.\n",
            "Epoch 1/100\n",
            "329/329 [==============================] - 306s 913ms/step - loss: 0.7308 - auc: 0.6259 - accuracy: 0.5754 - val_loss: 0.8740 - val_auc: 0.5602 - val_accuracy: 0.1400\n",
            "Epoch 2/100\n",
            "329/329 [==============================] - 300s 911ms/step - loss: 0.6377 - auc: 0.7016 - accuracy: 0.6115 - val_loss: 0.5942 - val_auc: 0.7392 - val_accuracy: 0.6423\n",
            "Epoch 3/100\n",
            "329/329 [==============================] - 300s 911ms/step - loss: 0.6084 - auc: 0.7343 - accuracy: 0.6290 - val_loss: 0.5940 - val_auc: 0.7631 - val_accuracy: 0.6435\n",
            "Epoch 4/100\n",
            "329/329 [==============================] - 300s 911ms/step - loss: 0.5870 - auc: 0.7554 - accuracy: 0.6624 - val_loss: 0.4842 - val_auc: 0.7735 - val_accuracy: 0.7596\n",
            "Epoch 5/100\n",
            "329/329 [==============================] - 300s 911ms/step - loss: 0.5693 - auc: 0.7739 - accuracy: 0.6906 - val_loss: 0.5508 - val_auc: 0.7891 - val_accuracy: 0.7078\n",
            "Epoch 6/100\n",
            "329/329 [==============================] - 340s 1s/step - loss: 0.5375 - auc: 0.8033 - accuracy: 0.7271 - val_loss: 0.3780 - val_auc: 0.7766 - val_accuracy: 0.8646\n",
            "Epoch 7/100\n",
            "329/329 [==============================] - 300s 910ms/step - loss: 0.5086 - auc: 0.8258 - accuracy: 0.7599 - val_loss: 0.3972 - val_auc: 0.7362 - val_accuracy: 0.8680\n",
            "Epoch 8/100\n",
            "329/329 [==============================] - 340s 1s/step - loss: 0.4888 - auc: 0.8400 - accuracy: 0.7814 - val_loss: 0.3786 - val_auc: 0.7398 - val_accuracy: 0.8755\n",
            "Epoch 9/100\n",
            "329/329 [==============================] - 300s 910ms/step - loss: 0.4477 - auc: 0.8686 - accuracy: 0.8075 - val_loss: 0.4641 - val_auc: 0.7070 - val_accuracy: 0.8768\n",
            "Epoch 10/100\n",
            "329/329 [==============================] - ETA: 0s - loss: 0.4263 - auc: 0.8831 - accuracy: 0.8227Restoring model weights from the end of the best epoch: 5.\n",
            "329/329 [==============================] - 300s 909ms/step - loss: 0.4263 - auc: 0.8831 - accuracy: 0.8227 - val_loss: 0.3688 - val_auc: 0.7521 - val_accuracy: 0.8768\n",
            "Epoch 10: early stopping\n",
            "Found 3500 files belonging to 2 classes.\n",
            "55/55 [==============================] - 15s 252ms/step - loss: 0.5424 - auc: 0.8094 - accuracy: 0.7143\n",
            "[0.5424441695213318, 0.809393048286438, 0.7142857313156128]\n"
          ]
        }
      ],
      "source": [
        "i = 6\n",
        "load_train_dir(i)\n",
        "model = train_model(w0, w1)\n",
        "print( test_model(model, \"/content/jpg_k\"+str(i)))"
      ]
    },
    {
      "cell_type": "code",
      "execution_count": null,
      "metadata": {
        "id": "FuxsS5LwOZuJ"
      },
      "outputs": [],
      "source": [
        "clear_train_dir()"
      ]
    },
    {
      "cell_type": "markdown",
      "metadata": {
        "id": "NmL9uV9SOaiQ"
      },
      "source": [
        "####k7"
      ]
    },
    {
      "cell_type": "code",
      "execution_count": null,
      "metadata": {
        "colab": {
          "base_uri": "https://localhost:8080/"
        },
        "id": "KOfMRDq_OaiQ",
        "outputId": "488555e4-c9a5-4fa5-aa5f-c083f04cff34"
      },
      "outputs": [
        {
          "name": "stdout",
          "output_type": "stream",
          "text": [
            "Found 31499 files belonging to 2 classes.\n",
            "Using 21000 files for training.\n",
            "Found 31499 files belonging to 2 classes.\n",
            "Using 10499 files for validation.\n",
            "Epoch 1/100\n",
            "329/329 [==============================] - 318s 910ms/step - loss: 0.7196 - auc: 0.6457 - accuracy: 0.5835 - val_loss: 1.4993 - val_auc: 0.5963 - val_accuracy: 0.1400\n",
            "Epoch 2/100\n",
            "329/329 [==============================] - 301s 912ms/step - loss: 0.6319 - auc: 0.7150 - accuracy: 0.6268 - val_loss: 0.7920 - val_auc: 0.7423 - val_accuracy: 0.5190\n",
            "Epoch 3/100\n",
            "329/329 [==============================] - 301s 912ms/step - loss: 0.6025 - auc: 0.7435 - accuracy: 0.6506 - val_loss: 0.8218 - val_auc: 0.7665 - val_accuracy: 0.5362\n",
            "Epoch 4/100\n",
            "329/329 [==============================] - 301s 912ms/step - loss: 0.5761 - auc: 0.7691 - accuracy: 0.6826 - val_loss: 0.6039 - val_auc: 0.7817 - val_accuracy: 0.6655\n",
            "Epoch 5/100\n",
            "329/329 [==============================] - 300s 910ms/step - loss: 0.5462 - auc: 0.7948 - accuracy: 0.7097 - val_loss: 0.5778 - val_auc: 0.7936 - val_accuracy: 0.6993\n",
            "Epoch 6/100\n",
            "329/329 [==============================] - 300s 911ms/step - loss: 0.5268 - auc: 0.8118 - accuracy: 0.7317 - val_loss: 0.9371 - val_auc: 0.7826 - val_accuracy: 0.5340\n",
            "Epoch 7/100\n",
            "329/329 [==============================] - 301s 912ms/step - loss: 0.4966 - auc: 0.8366 - accuracy: 0.7623 - val_loss: 1.1305 - val_auc: 0.7783 - val_accuracy: 0.5026\n",
            "Epoch 8/100\n",
            "329/329 [==============================] - 301s 912ms/step - loss: 0.4620 - auc: 0.8599 - accuracy: 0.7897 - val_loss: 0.7191 - val_auc: 0.7947 - val_accuracy: 0.6665\n",
            "Epoch 9/100\n",
            "329/329 [==============================] - 301s 913ms/step - loss: 0.4347 - auc: 0.8777 - accuracy: 0.8068 - val_loss: 0.8213 - val_auc: 0.8033 - val_accuracy: 0.6358\n",
            "Epoch 10/100\n",
            "329/329 [==============================] - 341s 1s/step - loss: 0.4114 - auc: 0.8908 - accuracy: 0.8236 - val_loss: 1.0039 - val_auc: 0.7392 - val_accuracy: 0.6243\n",
            "Epoch 11/100\n",
            "329/329 [==============================] - 299s 907ms/step - loss: 0.3881 - auc: 0.9048 - accuracy: 0.8355 - val_loss: 0.6513 - val_auc: 0.7920 - val_accuracy: 0.7019\n",
            "Epoch 12/100\n",
            "329/329 [==============================] - 300s 911ms/step - loss: 0.3678 - auc: 0.9147 - accuracy: 0.8471 - val_loss: 0.7029 - val_auc: 0.8013 - val_accuracy: 0.7206\n",
            "Epoch 13/100\n",
            "329/329 [==============================] - 341s 1s/step - loss: 0.3257 - auc: 0.9329 - accuracy: 0.8720 - val_loss: 0.9162 - val_auc: 0.8064 - val_accuracy: 0.6544\n",
            "Epoch 14/100\n",
            "329/329 [==============================] - 300s 911ms/step - loss: 0.3249 - auc: 0.9341 - accuracy: 0.8754 - val_loss: 1.1384 - val_auc: 0.7861 - val_accuracy: 0.5989\n",
            "Epoch 15/100\n",
            "329/329 [==============================] - 300s 910ms/step - loss: 0.3009 - auc: 0.9433 - accuracy: 0.8829 - val_loss: 0.5202 - val_auc: 0.7911 - val_accuracy: 0.8097\n",
            "Epoch 16/100\n",
            "329/329 [==============================] - 300s 911ms/step - loss: 0.2689 - auc: 0.9540 - accuracy: 0.9053 - val_loss: 0.6019 - val_auc: 0.7680 - val_accuracy: 0.7809\n",
            "Epoch 17/100\n",
            "329/329 [==============================] - 342s 1s/step - loss: 0.2538 - auc: 0.9593 - accuracy: 0.9081 - val_loss: 0.5665 - val_auc: 0.7868 - val_accuracy: 0.8152\n",
            "Epoch 18/100\n",
            "329/329 [==============================] - ETA: 0s - loss: 0.2368 - auc: 0.9646 - accuracy: 0.9183Restoring model weights from the end of the best epoch: 13.\n",
            "329/329 [==============================] - 341s 1s/step - loss: 0.2368 - auc: 0.9646 - accuracy: 0.9183 - val_loss: 0.5116 - val_auc: 0.7600 - val_accuracy: 0.8543\n",
            "Epoch 18: early stopping\n",
            "Found 3500 files belonging to 2 classes.\n",
            "55/55 [==============================] - 15s 269ms/step - loss: 0.9255 - auc: 0.8119 - accuracy: 0.6534\n",
            "[0.9255489706993103, 0.8119118809700012, 0.6534285545349121]\n"
          ]
        }
      ],
      "source": [
        "i = 7\n",
        "load_train_dir(i)\n",
        "model = train_model(w0, w1)\n",
        "print( test_model(model, \"/content/jpg_k\"+str(i)))"
      ]
    },
    {
      "cell_type": "code",
      "execution_count": null,
      "metadata": {
        "id": "NDA6GFcaOaiR"
      },
      "outputs": [],
      "source": [
        "clear_train_dir()"
      ]
    },
    {
      "cell_type": "markdown",
      "metadata": {
        "id": "a1vV2XmvObsA"
      },
      "source": [
        "####k8"
      ]
    },
    {
      "cell_type": "code",
      "execution_count": null,
      "metadata": {
        "colab": {
          "base_uri": "https://localhost:8080/"
        },
        "id": "A1feGbdoObsA",
        "outputId": "7f469e22-3ba7-4069-8092-13e3e0095f08"
      },
      "outputs": [
        {
          "name": "stdout",
          "output_type": "stream",
          "text": [
            "Found 31499 files belonging to 2 classes.\n",
            "Using 21000 files for training.\n",
            "Found 31499 files belonging to 2 classes.\n",
            "Using 10499 files for validation.\n",
            "Epoch 1/100\n",
            "329/329 [==============================] - 306s 911ms/step - loss: 0.7247 - auc: 0.6334 - accuracy: 0.5757 - val_loss: 0.6324 - val_auc: 0.6741 - val_accuracy: 0.7104\n",
            "Epoch 2/100\n",
            "329/329 [==============================] - 300s 910ms/step - loss: 0.6367 - auc: 0.7003 - accuracy: 0.6067 - val_loss: 0.7613 - val_auc: 0.7310 - val_accuracy: 0.4142\n",
            "Epoch 3/100\n",
            "329/329 [==============================] - 300s 909ms/step - loss: 0.6051 - auc: 0.7373 - accuracy: 0.6380 - val_loss: 0.6614 - val_auc: 0.7605 - val_accuracy: 0.5980\n",
            "Epoch 4/100\n",
            "329/329 [==============================] - 300s 911ms/step - loss: 0.5873 - auc: 0.7578 - accuracy: 0.6663 - val_loss: 0.5396 - val_auc: 0.7702 - val_accuracy: 0.6945\n",
            "Epoch 5/100\n",
            "329/329 [==============================] - 300s 911ms/step - loss: 0.5612 - auc: 0.7817 - accuracy: 0.6973 - val_loss: 0.4341 - val_auc: 0.7714 - val_accuracy: 0.8153\n",
            "Epoch 6/100\n",
            "329/329 [==============================] - 300s 909ms/step - loss: 0.5339 - auc: 0.8069 - accuracy: 0.7257 - val_loss: 0.8332 - val_auc: 0.7745 - val_accuracy: 0.5381\n",
            "Epoch 7/100\n",
            "329/329 [==============================] - 300s 910ms/step - loss: 0.5133 - auc: 0.8238 - accuracy: 0.7560 - val_loss: 0.8012 - val_auc: 0.7937 - val_accuracy: 0.5920\n",
            "Epoch 8/100\n",
            "329/329 [==============================] - 300s 909ms/step - loss: 0.4837 - auc: 0.8446 - accuracy: 0.7776 - val_loss: 0.6501 - val_auc: 0.7747 - val_accuracy: 0.6801\n",
            "Epoch 9/100\n",
            "329/329 [==============================] - 300s 911ms/step - loss: 0.4575 - auc: 0.8628 - accuracy: 0.7932 - val_loss: 0.6676 - val_auc: 0.8103 - val_accuracy: 0.6763\n",
            "Epoch 10/100\n",
            "329/329 [==============================] - 299s 908ms/step - loss: 0.4231 - auc: 0.8847 - accuracy: 0.8219 - val_loss: 0.4531 - val_auc: 0.7874 - val_accuracy: 0.8094\n",
            "Epoch 11/100\n",
            "329/329 [==============================] - 300s 909ms/step - loss: 0.4061 - auc: 0.8945 - accuracy: 0.8276 - val_loss: 0.4848 - val_auc: 0.8095 - val_accuracy: 0.7899\n",
            "Epoch 12/100\n",
            "329/329 [==============================] - 299s 908ms/step - loss: 0.3784 - auc: 0.9094 - accuracy: 0.8460 - val_loss: 0.4190 - val_auc: 0.7869 - val_accuracy: 0.8296\n",
            "Epoch 13/100\n",
            "329/329 [==============================] - 300s 910ms/step - loss: 0.3542 - auc: 0.9205 - accuracy: 0.8576 - val_loss: 0.6657 - val_auc: 0.7835 - val_accuracy: 0.7212\n",
            "Epoch 14/100\n",
            "329/329 [==============================] - 300s 909ms/step - loss: 0.3149 - auc: 0.9376 - accuracy: 0.8790 - val_loss: 0.5902 - val_auc: 0.8110 - val_accuracy: 0.7707\n",
            "Epoch 15/100\n",
            "329/329 [==============================] - 300s 910ms/step - loss: 0.2951 - auc: 0.9452 - accuracy: 0.8905 - val_loss: 0.4944 - val_auc: 0.7879 - val_accuracy: 0.8188\n",
            "Epoch 16/100\n",
            "329/329 [==============================] - 300s 910ms/step - loss: 0.2789 - auc: 0.9501 - accuracy: 0.9007 - val_loss: 0.5200 - val_auc: 0.7901 - val_accuracy: 0.8073\n",
            "Epoch 17/100\n",
            "329/329 [==============================] - 300s 909ms/step - loss: 0.2821 - auc: 0.9494 - accuracy: 0.8970 - val_loss: 0.4951 - val_auc: 0.7726 - val_accuracy: 0.8423\n",
            "Epoch 18/100\n",
            "329/329 [==============================] - 300s 910ms/step - loss: 0.2527 - auc: 0.9592 - accuracy: 0.9116 - val_loss: 0.6544 - val_auc: 0.6849 - val_accuracy: 0.8727\n",
            "Epoch 19/100\n",
            "329/329 [==============================] - ETA: 0s - loss: 0.2770 - auc: 0.9509 - accuracy: 0.9009Restoring model weights from the end of the best epoch: 14.\n",
            "329/329 [==============================] - 300s 909ms/step - loss: 0.2770 - auc: 0.9509 - accuracy: 0.9009 - val_loss: 0.6258 - val_auc: 0.7482 - val_accuracy: 0.7828\n",
            "Epoch 19: early stopping\n",
            "Found 3500 files belonging to 2 classes.\n",
            "55/55 [==============================] - 14s 249ms/step - loss: 0.5856 - auc: 0.8247 - accuracy: 0.7754\n",
            "[0.5855510830879211, 0.8246987462043762, 0.7754285931587219]\n"
          ]
        }
      ],
      "source": [
        "i = 8\n",
        "load_train_dir(i)\n",
        "model = train_model(w0, w1)\n",
        "print( test_model(model, \"/content/jpg_k\"+str(i)))"
      ]
    },
    {
      "cell_type": "code",
      "execution_count": null,
      "metadata": {
        "id": "q6KoBv1TObsA"
      },
      "outputs": [],
      "source": [
        "clear_train_dir()"
      ]
    },
    {
      "cell_type": "markdown",
      "metadata": {
        "id": "FivGE6h6Ocgo"
      },
      "source": [
        "####k9"
      ]
    },
    {
      "cell_type": "code",
      "execution_count": null,
      "metadata": {
        "colab": {
          "base_uri": "https://localhost:8080/"
        },
        "id": "Nd4F6d1JOcgo",
        "outputId": "f353e1d9-5a50-41d4-e2e3-f80d1ed398ad"
      },
      "outputs": [
        {
          "name": "stdout",
          "output_type": "stream",
          "text": [
            "Found 31500 files belonging to 2 classes.\n",
            "Using 21000 files for training.\n",
            "Found 31500 files belonging to 2 classes.\n",
            "Using 10500 files for validation.\n",
            "Epoch 1/100\n",
            "329/329 [==============================] - 320s 913ms/step - loss: 0.7350 - auc: 0.6325 - accuracy: 0.5877 - val_loss: 1.0821 - val_auc: 0.4968 - val_accuracy: 0.1412\n",
            "Epoch 2/100\n",
            "329/329 [==============================] - 302s 916ms/step - loss: 0.6376 - auc: 0.7037 - accuracy: 0.6203 - val_loss: 0.7637 - val_auc: 0.7199 - val_accuracy: 0.4043\n",
            "Epoch 3/100\n",
            "329/329 [==============================] - 302s 917ms/step - loss: 0.6053 - auc: 0.7368 - accuracy: 0.6464 - val_loss: 0.6304 - val_auc: 0.7538 - val_accuracy: 0.6219\n",
            "Epoch 4/100\n",
            "329/329 [==============================] - 302s 916ms/step - loss: 0.5820 - auc: 0.7612 - accuracy: 0.6716 - val_loss: 0.6037 - val_auc: 0.7727 - val_accuracy: 0.6532\n",
            "Epoch 5/100\n",
            "329/329 [==============================] - 302s 917ms/step - loss: 0.5617 - auc: 0.7821 - accuracy: 0.6940 - val_loss: 0.5819 - val_auc: 0.7785 - val_accuracy: 0.6733\n",
            "Epoch 6/100\n",
            "329/329 [==============================] - 302s 917ms/step - loss: 0.5507 - auc: 0.7901 - accuracy: 0.7117 - val_loss: 0.7478 - val_auc: 0.7828 - val_accuracy: 0.5967\n",
            "Epoch 7/100\n",
            "329/329 [==============================] - 342s 1s/step - loss: 0.5276 - auc: 0.8103 - accuracy: 0.7368 - val_loss: 0.5107 - val_auc: 0.8044 - val_accuracy: 0.7580\n",
            "Epoch 8/100\n",
            "329/329 [==============================] - 302s 917ms/step - loss: 0.4992 - auc: 0.8329 - accuracy: 0.7667 - val_loss: 0.6224 - val_auc: 0.8022 - val_accuracy: 0.6918\n",
            "Epoch 9/100\n",
            "329/329 [==============================] - 342s 1s/step - loss: 0.4860 - auc: 0.8437 - accuracy: 0.7807 - val_loss: 0.4801 - val_auc: 0.8040 - val_accuracy: 0.7990\n",
            "Epoch 10/100\n",
            "329/329 [==============================] - 302s 916ms/step - loss: 0.4521 - auc: 0.8664 - accuracy: 0.8038 - val_loss: 0.4820 - val_auc: 0.7902 - val_accuracy: 0.7924\n",
            "Epoch 11/100\n",
            "329/329 [==============================] - 302s 917ms/step - loss: 0.4289 - auc: 0.8810 - accuracy: 0.8206 - val_loss: 0.5879 - val_auc: 0.8093 - val_accuracy: 0.7429\n",
            "Epoch 12/100\n",
            "329/329 [==============================] - 302s 916ms/step - loss: 0.3975 - auc: 0.8985 - accuracy: 0.8366 - val_loss: 0.3743 - val_auc: 0.7734 - val_accuracy: 0.8728\n",
            "Epoch 13/100\n",
            "329/329 [==============================] - 342s 1s/step - loss: 0.3798 - auc: 0.9081 - accuracy: 0.8463 - val_loss: 0.4870 - val_auc: 0.7706 - val_accuracy: 0.8298\n",
            "Epoch 14/100\n",
            "329/329 [==============================] - 302s 916ms/step - loss: 0.3705 - auc: 0.9120 - accuracy: 0.8521 - val_loss: 0.4629 - val_auc: 0.7501 - val_accuracy: 0.8722\n",
            "Epoch 15/100\n",
            "329/329 [==============================] - 302s 915ms/step - loss: 0.3407 - auc: 0.9263 - accuracy: 0.8665 - val_loss: 0.4045 - val_auc: 0.7793 - val_accuracy: 0.8599\n",
            "Epoch 16/100\n",
            "329/329 [==============================] - ETA: 0s - loss: 0.3124 - auc: 0.9383 - accuracy: 0.8840Restoring model weights from the end of the best epoch: 11.\n",
            "329/329 [==============================] - 302s 917ms/step - loss: 0.3124 - auc: 0.9383 - accuracy: 0.8840 - val_loss: 0.7822 - val_auc: 0.8052 - val_accuracy: 0.6940\n",
            "Epoch 16: early stopping\n",
            "Found 3499 files belonging to 2 classes.\n",
            "55/55 [==============================] - 16s 273ms/step - loss: 0.5959 - auc: 0.8033 - accuracy: 0.7371\n",
            "[0.5959387421607971, 0.8032801747322083, 0.7370677590370178]\n"
          ]
        }
      ],
      "source": [
        "i = 9\n",
        "load_train_dir(i)\n",
        "model = train_model(w0, w1)\n",
        "print( test_model(model, \"/content/jpg_k\"+str(i)))"
      ]
    },
    {
      "cell_type": "code",
      "execution_count": null,
      "metadata": {
        "id": "vozeqKXxOcgp"
      },
      "outputs": [],
      "source": [
        "clear_train_dir()"
      ]
    },
    {
      "cell_type": "markdown",
      "metadata": {
        "id": "s348SlQBDP0Y"
      },
      "source": [
        "### Baseline: W/ Tranfered Learning & WO/ Data Aug"
      ]
    },
    {
      "cell_type": "markdown",
      "metadata": {
        "id": "422uDz-cDP0Z"
      },
      "source": [
        "#### Declarações"
      ]
    },
    {
      "cell_type": "code",
      "execution_count": null,
      "metadata": {
        "id": "YBYxUNR9DP0Z"
      },
      "outputs": [],
      "source": [
        "def clear_train_dir():\n",
        "  for file in os.listdir(\"/content/train/yes/\"):\n",
        "    os.remove(\"/content/train/yes/\" + file)\n",
        "\n",
        "  for file in os.listdir(\"/content/train/no/\"):\n",
        "    os.remove(\"/content/train/no/\" + file)"
      ]
    },
    {
      "cell_type": "code",
      "execution_count": null,
      "metadata": {
        "id": "I_u_TP0JDP0Z"
      },
      "outputs": [],
      "source": [
        "def load_train_dir(ki):\n",
        "  k = [0,1,2,3,4,5,6,7,8,9]\n",
        "  for i in range(10):\n",
        "    if i!= k[ki]:\n",
        "      yesdir = \"/content/jpg_k\"+str(i)+\"/yes/\"\n",
        "      nodir = \"/content/jpg_k\"+str(i)+\"/no/\"\n",
        "      for file in os.listdir(yesdir):\n",
        "        shutil.copy(yesdir + file, \"/content/train/yes\")\n",
        "      for file in os.listdir(nodir):\n",
        "        shutil.copy(nodir + file, \"/content/train/no\")"
      ]
    },
    {
      "cell_type": "code",
      "execution_count": null,
      "metadata": {
        "id": "P6D0U2fWDP0Z"
      },
      "outputs": [],
      "source": [
        "def train_model(w0, w1):\n",
        "    train_data = image_dataset_from_directory(\n",
        "      (\"/content/train\"),\n",
        "      labels='inferred',\n",
        "      validation_split=1/3,\n",
        "      subset=\"training\",\n",
        "      seed=123,\n",
        "      batch_size = 64,\n",
        "      color_mode = \"rgb\"\n",
        "    )\n",
        "  \n",
        "    val_data = image_dataset_from_directory(\n",
        "      \"/content/train\",\n",
        "      labels='inferred',\n",
        "      validation_split=1/3,\n",
        "      subset=\"validation\",\n",
        "      seed=123,\n",
        "      batch_size = 64,\n",
        "      color_mode = \"rgb\"\n",
        "    )\n",
        "\n",
        "    class_names = train_data.class_names\n",
        "\n",
        "    normalization_layer = Rescaling(1./255)\n",
        "\n",
        "    normalized_data = train_data.map(lambda x, y: (normalization_layer(x), y))\n",
        "    image_batch, labels_batch = next(iter(normalized_data))\n",
        "\n",
        "    normalized_val_data = val_data.map(lambda x, y: (normalization_layer(x), y))\n",
        "    val_image_batch, val_labels_batch = next(iter(normalized_val_data))\n",
        "\n",
        "    keras.backend.clear_session()\n",
        "\n",
        "    resnet_model = Sequential()\n",
        "\n",
        "    resnet = tf.keras.applications.resnet50.ResNet50(\n",
        "        include_top=False,\n",
        "        input_shape=image_batch.shape[1:],\n",
        "        pooling='avg',\n",
        "        weights='imagenet',\n",
        "        classes=2,\n",
        "    )\n",
        "\n",
        "    resnet_model.add(resnet)\n",
        "\n",
        "    resnet_model.add(Flatten())\n",
        "\n",
        "    resnet_model.add(Dense(512, activation=\"relu\"))\n",
        "\n",
        "    resnet_model.add(Dropout(0.5))\n",
        "\n",
        "    resnet_model.add(Dense(1, activation=\"sigmoid\"))\n",
        "\n",
        "    resnet_model.compile(loss='binary_crossentropy', \n",
        "                         optimizer=optimizers.Adam(learning_rate=0.00001),\n",
        "                         metrics=[keras.metrics.AUC(), 'accuracy'])\n",
        "  \n",
        "    run_hist = resnet_model.fit(\n",
        "      normalized_data, \n",
        "      validation_data=normalized_val_data, epochs=100, class_weight={0:w0, 1:w1}, \n",
        "      callbacks=[keras.callbacks.EarlyStopping(\n",
        "                      monitor=\"val_auc\",\n",
        "                      min_delta=0,\n",
        "                      patience=5,\n",
        "                      verbose=1,\n",
        "                      mode=\"auto\",\n",
        "                      baseline=None,\n",
        "                      restore_best_weights=True,\n",
        "                  )]\n",
        "    )\n",
        "\n",
        "    return resnet_model"
      ]
    },
    {
      "cell_type": "code",
      "execution_count": null,
      "metadata": {
        "id": "HC7j5GK9DP0Z"
      },
      "outputs": [],
      "source": [
        "def test_model(resnet_model, test_path):\n",
        "    test_data = image_dataset_from_directory(\n",
        "      test_path,\n",
        "      labels='inferred',\n",
        "      label_mode=\"int\",\n",
        "      batch_size = 64,\n",
        "      color_mode = \"rgb\"\n",
        "    )\n",
        "\n",
        "    normalization_layer = Rescaling(1./255)\n",
        "\n",
        "    normalized_test_data = test_data.map(lambda x, y: (normalization_layer(x), y))\n",
        "    test_image_batch, test_labels_batch = next(iter(normalized_test_data))\n",
        "\n",
        "    results = resnet_model.evaluate(normalized_test_data)\n",
        "    return results"
      ]
    },
    {
      "cell_type": "code",
      "execution_count": null,
      "metadata": {
        "colab": {
          "base_uri": "https://localhost:8080/"
        },
        "id": "EveF0ES3DP0Z",
        "outputId": "6d51a8a3-d583-4772-adc7-61fbdf0877aa"
      },
      "outputs": [
        {
          "name": "stdout",
          "output_type": "stream",
          "text": [
            "Peso para a classe 0: 0.58\n",
            "Peso para a classe 1: 3.55\n"
          ]
        }
      ],
      "source": [
        "neg = 27062\n",
        "pos = 4437\n",
        "total = pos+neg\n",
        "\n",
        "w0 = (1 / neg) * (total / 2.0)\n",
        "w1 = (1 / pos) * (total / 2.0)\n",
        "\n",
        "print('Peso para a classe 0: {:.2f}'.format(w0))\n",
        "print('Peso para a classe 1: {:.2f}'.format(w1))"
      ]
    },
    {
      "cell_type": "code",
      "execution_count": null,
      "metadata": {
        "colab": {
          "base_uri": "https://localhost:8080/"
        },
        "id": "4zTJBCB3DP0Z",
        "outputId": "4106d1ca-9a37-47ed-85bb-bc9e73922ba0"
      },
      "outputs": [
        {
          "name": "stdout",
          "output_type": "stream",
          "text": [
            "Numero de imagens: NO\n",
            "0\n",
            "Numero de imagens: YES\n",
            "0\n"
          ]
        }
      ],
      "source": [
        "print('Numero de imagens: NO')\n",
        "!ls /content/train/no | wc -l\n",
        "print('Numero de imagens: YES')\n",
        "!ls /content/train/yes | wc -l"
      ]
    },
    {
      "cell_type": "markdown",
      "metadata": {
        "id": "1g33JJQxDP0Z"
      },
      "source": [
        "#### k0"
      ]
    },
    {
      "cell_type": "code",
      "execution_count": null,
      "metadata": {
        "colab": {
          "base_uri": "https://localhost:8080/"
        },
        "id": "Rg72je69DP0Z",
        "outputId": "d1137860-23fc-47ae-a41b-bd7e0416e911"
      },
      "outputs": [
        {
          "name": "stdout",
          "output_type": "stream",
          "text": [
            "Found 31499 files belonging to 2 classes.\n",
            "Using 21000 files for training.\n",
            "Found 31499 files belonging to 2 classes.\n",
            "Using 10499 files for validation.\n",
            "Downloading data from https://storage.googleapis.com/tensorflow/keras-applications/resnet/resnet50_weights_tf_dim_ordering_tf_kernels_notop.h5\n",
            "94765736/94765736 [==============================] - 2s 0us/step\n",
            "Epoch 1/100\n",
            "329/329 [==============================] - 309s 919ms/step - loss: 0.5590 - auc: 0.7873 - accuracy: 0.7253 - val_loss: 0.5151 - val_auc: 0.5174 - val_accuracy: 0.8448\n",
            "Epoch 2/100\n",
            "329/329 [==============================] - 301s 914ms/step - loss: 0.4020 - auc: 0.8960 - accuracy: 0.8468 - val_loss: 0.4818 - val_auc: 0.5607 - val_accuracy: 0.8217\n",
            "Epoch 3/100\n",
            "329/329 [==============================] - 302s 915ms/step - loss: 0.3051 - auc: 0.9423 - accuracy: 0.8968 - val_loss: 0.4758 - val_auc: 0.8572 - val_accuracy: 0.8235\n",
            "Epoch 4/100\n",
            "329/329 [==============================] - 342s 1s/step - loss: 0.2132 - auc: 0.9722 - accuracy: 0.9385 - val_loss: 0.3793 - val_auc: 0.8832 - val_accuracy: 0.8776\n",
            "Epoch 5/100\n",
            "329/329 [==============================] - 301s 913ms/step - loss: 0.1451 - auc: 0.9861 - accuracy: 0.9662 - val_loss: 0.3735 - val_auc: 0.8790 - val_accuracy: 0.8950\n",
            "Epoch 6/100\n",
            "329/329 [==============================] - 301s 913ms/step - loss: 0.1210 - auc: 0.9883 - accuracy: 0.9753 - val_loss: 0.3704 - val_auc: 0.8480 - val_accuracy: 0.9090\n",
            "Epoch 7/100\n",
            "329/329 [==============================] - 301s 914ms/step - loss: 0.1051 - auc: 0.9904 - accuracy: 0.9812 - val_loss: 0.4083 - val_auc: 0.8507 - val_accuracy: 0.9059\n",
            "Epoch 8/100\n",
            "329/329 [==============================] - 301s 913ms/step - loss: 0.0962 - auc: 0.9918 - accuracy: 0.9842 - val_loss: 0.4185 - val_auc: 0.8397 - val_accuracy: 0.9100\n",
            "Epoch 9/100\n",
            "329/329 [==============================] - ETA: 0s - loss: 0.0964 - auc: 0.9909 - accuracy: 0.9843Restoring model weights from the end of the best epoch: 4.\n",
            "329/329 [==============================] - 342s 1s/step - loss: 0.0964 - auc: 0.9909 - accuracy: 0.9843 - val_loss: 0.5011 - val_auc: 0.8567 - val_accuracy: 0.8987\n",
            "Epoch 9: early stopping\n",
            "Found 3500 files belonging to 2 classes.\n",
            "55/55 [==============================] - 16s 273ms/step - loss: 0.3937 - auc: 0.8813 - accuracy: 0.8749\n",
            "[0.3936852216720581, 0.8812531232833862, 0.8748571276664734]\n"
          ]
        }
      ],
      "source": [
        "i = 0\n",
        "load_train_dir(i)\n",
        "model = train_model(w0, w1)\n",
        "print( test_model(model, \"/content/jpg_k\"+str(i)))"
      ]
    },
    {
      "cell_type": "code",
      "execution_count": null,
      "metadata": {
        "id": "JieK4Mz6DP0a"
      },
      "outputs": [],
      "source": [
        "clear_train_dir()"
      ]
    },
    {
      "cell_type": "markdown",
      "metadata": {
        "id": "oP9B-96yDP0a"
      },
      "source": [
        "####k1"
      ]
    },
    {
      "cell_type": "code",
      "execution_count": null,
      "metadata": {
        "colab": {
          "base_uri": "https://localhost:8080/"
        },
        "id": "IkpakGvgDP0a",
        "outputId": "20ab759c-e8b1-47a1-f73e-dadfb9e2378b"
      },
      "outputs": [
        {
          "name": "stdout",
          "output_type": "stream",
          "text": [
            "Found 31499 files belonging to 2 classes.\n",
            "Using 21000 files for training.\n",
            "Found 31499 files belonging to 2 classes.\n",
            "Using 10499 files for validation.\n",
            "Epoch 1/100\n",
            "329/329 [==============================] - 349s 1s/step - loss: 0.5724 - auc: 0.7766 - accuracy: 0.6996 - val_loss: 0.4552 - val_auc: 0.5283 - val_accuracy: 0.8557\n",
            "Epoch 2/100\n",
            "329/329 [==============================] - 302s 915ms/step - loss: 0.4125 - auc: 0.8907 - accuracy: 0.8307 - val_loss: 0.4477 - val_auc: 0.5803 - val_accuracy: 0.8608\n",
            "Epoch 3/100\n",
            "329/329 [==============================] - 342s 1s/step - loss: 0.3116 - auc: 0.9396 - accuracy: 0.8854 - val_loss: 0.4114 - val_auc: 0.8282 - val_accuracy: 0.8554\n",
            "Epoch 4/100\n",
            "329/329 [==============================] - 302s 915ms/step - loss: 0.2197 - auc: 0.9711 - accuracy: 0.9312 - val_loss: 0.3448 - val_auc: 0.8703 - val_accuracy: 0.8929\n",
            "Epoch 5/100\n",
            "329/329 [==============================] - 301s 914ms/step - loss: 0.1551 - auc: 0.9841 - accuracy: 0.9594 - val_loss: 0.3565 - val_auc: 0.8645 - val_accuracy: 0.9018\n",
            "Epoch 6/100\n",
            "329/329 [==============================] - 301s 914ms/step - loss: 0.1269 - auc: 0.9883 - accuracy: 0.9702 - val_loss: 0.4080 - val_auc: 0.8194 - val_accuracy: 0.9080\n",
            "Epoch 7/100\n",
            "329/329 [==============================] - 302s 915ms/step - loss: 0.1030 - auc: 0.9915 - accuracy: 0.9808 - val_loss: 0.4179 - val_auc: 0.8500 - val_accuracy: 0.8970\n",
            "Epoch 8/100\n",
            "329/329 [==============================] - 301s 914ms/step - loss: 0.1018 - auc: 0.9916 - accuracy: 0.9809 - val_loss: 0.4524 - val_auc: 0.8324 - val_accuracy: 0.9079\n",
            "Epoch 9/100\n",
            "329/329 [==============================] - ETA: 0s - loss: 0.0945 - auc: 0.9920 - accuracy: 0.9843Restoring model weights from the end of the best epoch: 4.\n",
            "329/329 [==============================] - 302s 915ms/step - loss: 0.0945 - auc: 0.9920 - accuracy: 0.9843 - val_loss: 0.4757 - val_auc: 0.8382 - val_accuracy: 0.9087\n",
            "Epoch 9: early stopping\n",
            "Found 3500 files belonging to 2 classes.\n",
            "55/55 [==============================] - 15s 251ms/step - loss: 0.3189 - auc: 0.8905 - accuracy: 0.9040\n",
            "[0.3188697099685669, 0.8905407786369324, 0.9039999842643738]\n"
          ]
        }
      ],
      "source": [
        "i = 1\n",
        "load_train_dir(i)\n",
        "model = train_model(w0, w1)\n",
        "print( test_model(model, \"/content/jpg_k\"+str(i)))"
      ]
    },
    {
      "cell_type": "code",
      "execution_count": null,
      "metadata": {
        "id": "LYQ4klfjDP0a"
      },
      "outputs": [],
      "source": [
        "clear_train_dir()"
      ]
    },
    {
      "cell_type": "markdown",
      "metadata": {
        "id": "x2AVZ-j0DP0a"
      },
      "source": [
        "####k2"
      ]
    },
    {
      "cell_type": "code",
      "execution_count": null,
      "metadata": {
        "colab": {
          "base_uri": "https://localhost:8080/"
        },
        "id": "Gpc_CSJIDP0a",
        "outputId": "d44c592a-5c85-4e49-9509-7b28e3a83c7e"
      },
      "outputs": [
        {
          "name": "stdout",
          "output_type": "stream",
          "text": [
            "Found 31499 files belonging to 2 classes.\n",
            "Using 21000 files for training.\n",
            "Found 31499 files belonging to 2 classes.\n",
            "Using 10499 files for validation.\n",
            "Epoch 1/100\n",
            "329/329 [==============================] - 310s 922ms/step - loss: 0.5772 - auc: 0.7740 - accuracy: 0.7077 - val_loss: 0.5803 - val_auc: 0.4892 - val_accuracy: 0.7972\n",
            "Epoch 2/100\n",
            "329/329 [==============================] - 342s 1s/step - loss: 0.4035 - auc: 0.8964 - accuracy: 0.8421 - val_loss: 0.5373 - val_auc: 0.7058 - val_accuracy: 0.8107\n",
            "Epoch 3/100\n",
            "329/329 [==============================] - 303s 918ms/step - loss: 0.3106 - auc: 0.9406 - accuracy: 0.8899 - val_loss: 0.5578 - val_auc: 0.8558 - val_accuracy: 0.7953\n",
            "Epoch 4/100\n",
            "329/329 [==============================] - 302s 918ms/step - loss: 0.2240 - auc: 0.9697 - accuracy: 0.9305 - val_loss: 0.3766 - val_auc: 0.8895 - val_accuracy: 0.8780\n",
            "Epoch 5/100\n",
            "329/329 [==============================] - 303s 918ms/step - loss: 0.1520 - auc: 0.9849 - accuracy: 0.9620 - val_loss: 0.3749 - val_auc: 0.8817 - val_accuracy: 0.8930\n",
            "Epoch 6/100\n",
            "329/329 [==============================] - 302s 917ms/step - loss: 0.1194 - auc: 0.9891 - accuracy: 0.9755 - val_loss: 0.4315 - val_auc: 0.8827 - val_accuracy: 0.8909\n",
            "Epoch 7/100\n",
            "329/329 [==============================] - 303s 918ms/step - loss: 0.1007 - auc: 0.9913 - accuracy: 0.9827 - val_loss: 0.5349 - val_auc: 0.8796 - val_accuracy: 0.8757\n",
            "Epoch 8/100\n",
            "329/329 [==============================] - 343s 1s/step - loss: 0.0983 - auc: 0.9912 - accuracy: 0.9832 - val_loss: 0.5007 - val_auc: 0.8656 - val_accuracy: 0.8928\n",
            "Epoch 9/100\n",
            "329/329 [==============================] - ETA: 0s - loss: 0.1013 - auc: 0.9901 - accuracy: 0.9824Restoring model weights from the end of the best epoch: 4.\n",
            "329/329 [==============================] - 343s 1s/step - loss: 0.1013 - auc: 0.9901 - accuracy: 0.9824 - val_loss: 0.4545 - val_auc: 0.8477 - val_accuracy: 0.9030\n",
            "Epoch 9: early stopping\n",
            "Found 3500 files belonging to 2 classes.\n",
            "55/55 [==============================] - 52s 252ms/step - loss: 0.3937 - auc: 0.8653 - accuracy: 0.8749\n",
            "[0.39371851086616516, 0.8652650117874146, 0.8748571276664734]\n"
          ]
        }
      ],
      "source": [
        "i = 2\n",
        "load_train_dir(i)\n",
        "model = train_model(w0, w1)\n",
        "print( test_model(model, \"/content/jpg_k\"+str(i)))"
      ]
    },
    {
      "cell_type": "code",
      "execution_count": null,
      "metadata": {
        "id": "leccDO30DP0a"
      },
      "outputs": [],
      "source": [
        "clear_train_dir()"
      ]
    },
    {
      "cell_type": "markdown",
      "metadata": {
        "id": "BizlMGxWDP0a"
      },
      "source": [
        "####k3"
      ]
    },
    {
      "cell_type": "code",
      "execution_count": null,
      "metadata": {
        "colab": {
          "base_uri": "https://localhost:8080/"
        },
        "id": "GE1Kt0QVDP0a",
        "outputId": "2b036839-572f-4825-de2b-bde129a2c9fc"
      },
      "outputs": [
        {
          "name": "stdout",
          "output_type": "stream",
          "text": [
            "Found 31499 files belonging to 2 classes.\n",
            "Using 21000 files for training.\n",
            "Found 31499 files belonging to 2 classes.\n",
            "Using 10499 files for validation.\n",
            "Epoch 1/100\n",
            "329/329 [==============================] - 311s 924ms/step - loss: 0.5712 - auc: 0.7783 - accuracy: 0.7024 - val_loss: 0.4829 - val_auc: 0.5904 - val_accuracy: 0.8564\n",
            "Epoch 2/100\n",
            "329/329 [==============================] - 303s 918ms/step - loss: 0.4039 - auc: 0.8954 - accuracy: 0.8347 - val_loss: 0.4607 - val_auc: 0.6147 - val_accuracy: 0.8444\n",
            "Epoch 3/100\n",
            "329/329 [==============================] - 303s 920ms/step - loss: 0.3042 - auc: 0.9427 - accuracy: 0.8893 - val_loss: 0.4421 - val_auc: 0.8315 - val_accuracy: 0.8459\n",
            "Epoch 4/100\n",
            "329/329 [==============================] - 303s 920ms/step - loss: 0.2146 - auc: 0.9718 - accuracy: 0.9334 - val_loss: 0.3544 - val_auc: 0.8696 - val_accuracy: 0.8981\n",
            "Epoch 5/100\n",
            "329/329 [==============================] - 303s 919ms/step - loss: 0.1550 - auc: 0.9844 - accuracy: 0.9599 - val_loss: 0.3823 - val_auc: 0.8748 - val_accuracy: 0.8967\n",
            "Epoch 6/100\n",
            "329/329 [==============================] - 343s 1s/step - loss: 0.1136 - auc: 0.9904 - accuracy: 0.9767 - val_loss: 0.3918 - val_auc: 0.8495 - val_accuracy: 0.9065\n",
            "Epoch 7/100\n",
            "329/329 [==============================] - 303s 920ms/step - loss: 0.0971 - auc: 0.9921 - accuracy: 0.9834 - val_loss: 0.4166 - val_auc: 0.8464 - val_accuracy: 0.9037\n",
            "Epoch 8/100\n",
            "329/329 [==============================] - 303s 919ms/step - loss: 0.0973 - auc: 0.9915 - accuracy: 0.9830 - val_loss: 0.4466 - val_auc: 0.8410 - val_accuracy: 0.9046\n",
            "Epoch 9/100\n",
            "329/329 [==============================] - 343s 1s/step - loss: 0.1010 - auc: 0.9910 - accuracy: 0.9818 - val_loss: 0.4818 - val_auc: 0.8486 - val_accuracy: 0.9025\n",
            "Epoch 10/100\n",
            "329/329 [==============================] - ETA: 0s - loss: 0.0905 - auc: 0.9918 - accuracy: 0.9861Restoring model weights from the end of the best epoch: 5.\n",
            "329/329 [==============================] - 303s 919ms/step - loss: 0.0905 - auc: 0.9918 - accuracy: 0.9861 - val_loss: 0.4765 - val_auc: 0.8439 - val_accuracy: 0.9054\n",
            "Epoch 10: early stopping\n",
            "Found 3500 files belonging to 2 classes.\n",
            "55/55 [==============================] - 15s 252ms/step - loss: 0.3620 - auc: 0.8826 - accuracy: 0.8946\n",
            "[0.3620060086250305, 0.882625162601471, 0.8945714235305786]\n"
          ]
        }
      ],
      "source": [
        "i = 3\n",
        "load_train_dir(i)\n",
        "model = train_model(w0, w1)\n",
        "print( test_model(model, \"/content/jpg_k\"+str(i)))"
      ]
    },
    {
      "cell_type": "code",
      "execution_count": null,
      "metadata": {
        "id": "Mwj9Pd48DP0a"
      },
      "outputs": [],
      "source": [
        "clear_train_dir()"
      ]
    },
    {
      "cell_type": "markdown",
      "metadata": {
        "id": "94TdrpOWDP0a"
      },
      "source": [
        "####k4"
      ]
    },
    {
      "cell_type": "code",
      "execution_count": null,
      "metadata": {
        "colab": {
          "base_uri": "https://localhost:8080/"
        },
        "id": "0yznuRbCDP0a",
        "outputId": "8c325e35-8c6d-439a-d299-085716bfa078"
      },
      "outputs": [
        {
          "name": "stdout",
          "output_type": "stream",
          "text": [
            "Found 31499 files belonging to 2 classes.\n",
            "Using 21000 files for training.\n",
            "Found 31499 files belonging to 2 classes.\n",
            "Using 10499 files for validation.\n",
            "Downloading data from https://storage.googleapis.com/tensorflow/keras-applications/resnet/resnet50_weights_tf_dim_ordering_tf_kernels_notop.h5\n",
            "94765736/94765736 [==============================] - 0s 0us/step\n",
            "Epoch 1/100\n",
            "329/329 [==============================] - 317s 907ms/step - loss: 0.5636 - auc: 0.7832 - accuracy: 0.7149 - val_loss: 0.6227 - val_auc: 0.6077 - val_accuracy: 0.5677\n",
            "Epoch 2/100\n",
            "329/329 [==============================] - 301s 914ms/step - loss: 0.4111 - auc: 0.8913 - accuracy: 0.8380 - val_loss: 0.4457 - val_auc: 0.6604 - val_accuracy: 0.8663\n",
            "Epoch 3/100\n",
            "329/329 [==============================] - 301s 913ms/step - loss: 0.3152 - auc: 0.9382 - accuracy: 0.8897 - val_loss: 0.5926 - val_auc: 0.8614 - val_accuracy: 0.7827\n",
            "Epoch 4/100\n",
            "329/329 [==============================] - 301s 914ms/step - loss: 0.2231 - auc: 0.9703 - accuracy: 0.9335 - val_loss: 0.3482 - val_auc: 0.8912 - val_accuracy: 0.8899\n",
            "Epoch 5/100\n",
            "329/329 [==============================] - 341s 1s/step - loss: 0.1551 - auc: 0.9842 - accuracy: 0.9610 - val_loss: 0.4406 - val_auc: 0.8878 - val_accuracy: 0.8784\n",
            "Epoch 6/100\n",
            "329/329 [==============================] - 301s 913ms/step - loss: 0.1212 - auc: 0.9889 - accuracy: 0.9740 - val_loss: 0.4174 - val_auc: 0.8718 - val_accuracy: 0.8984\n",
            "Epoch 7/100\n",
            "329/329 [==============================] - 301s 912ms/step - loss: 0.1285 - auc: 0.9886 - accuracy: 0.9706 - val_loss: 0.3825 - val_auc: 0.8613 - val_accuracy: 0.9077\n",
            "Epoch 8/100\n",
            "329/329 [==============================] - 301s 913ms/step - loss: 0.0906 - auc: 0.9922 - accuracy: 0.9861 - val_loss: 0.4533 - val_auc: 0.8627 - val_accuracy: 0.9056\n",
            "Epoch 9/100\n",
            "329/329 [==============================] - ETA: 0s - loss: 0.0979 - auc: 0.9915 - accuracy: 0.9831Restoring model weights from the end of the best epoch: 4.\n",
            "329/329 [==============================] - 341s 1s/step - loss: 0.0979 - auc: 0.9915 - accuracy: 0.9831 - val_loss: 0.4618 - val_auc: 0.8481 - val_accuracy: 0.9066\n",
            "Epoch 9: early stopping\n",
            "Found 3500 files belonging to 2 classes.\n",
            "55/55 [==============================] - 16s 271ms/step - loss: 0.3345 - auc: 0.8876 - accuracy: 0.8943\n",
            "[0.33445048332214355, 0.8875916004180908, 0.8942857384681702]\n"
          ]
        }
      ],
      "source": [
        "i = 4\n",
        "load_train_dir(i)\n",
        "model = train_model(w0, w1)\n",
        "print( test_model(model, \"/content/jpg_k\"+str(i)))"
      ]
    },
    {
      "cell_type": "code",
      "execution_count": null,
      "metadata": {
        "id": "YCmictkEDP0a"
      },
      "outputs": [],
      "source": [
        "clear_train_dir()"
      ]
    },
    {
      "cell_type": "markdown",
      "metadata": {
        "id": "5l86ud97DP0a"
      },
      "source": [
        "####k5"
      ]
    },
    {
      "cell_type": "code",
      "execution_count": null,
      "metadata": {
        "colab": {
          "base_uri": "https://localhost:8080/"
        },
        "id": "4zsxNNTyDP0a",
        "outputId": "08297155-b54e-4315-a558-1a614c6407b3"
      },
      "outputs": [
        {
          "name": "stdout",
          "output_type": "stream",
          "text": [
            "Found 31499 files belonging to 2 classes.\n",
            "Using 21000 files for training.\n",
            "Found 31499 files belonging to 2 classes.\n",
            "Using 10499 files for validation.\n",
            "Epoch 1/100\n",
            "329/329 [==============================] - 308s 917ms/step - loss: 0.5810 - auc: 0.7716 - accuracy: 0.7063 - val_loss: 0.4886 - val_auc: 0.6113 - val_accuracy: 0.8447\n",
            "Epoch 2/100\n",
            "329/329 [==============================] - 341s 1s/step - loss: 0.4117 - auc: 0.8915 - accuracy: 0.8328 - val_loss: 0.3612 - val_auc: 0.7424 - val_accuracy: 0.8695\n",
            "Epoch 3/100\n",
            "329/329 [==============================] - 301s 913ms/step - loss: 0.3150 - auc: 0.9386 - accuracy: 0.8857 - val_loss: 0.3992 - val_auc: 0.8675 - val_accuracy: 0.8523\n",
            "Epoch 4/100\n",
            "329/329 [==============================] - 301s 913ms/step - loss: 0.2225 - auc: 0.9699 - accuracy: 0.9298 - val_loss: 0.3274 - val_auc: 0.8818 - val_accuracy: 0.8934\n",
            "Epoch 5/100\n",
            "329/329 [==============================] - 301s 913ms/step - loss: 0.1530 - auc: 0.9848 - accuracy: 0.9600 - val_loss: 0.3897 - val_auc: 0.8852 - val_accuracy: 0.8835\n",
            "Epoch 6/100\n",
            "329/329 [==============================] - 301s 912ms/step - loss: 0.1163 - auc: 0.9902 - accuracy: 0.9760 - val_loss: 0.3804 - val_auc: 0.8766 - val_accuracy: 0.8956\n",
            "Epoch 7/100\n",
            "329/329 [==============================] - 300s 910ms/step - loss: 0.1008 - auc: 0.9915 - accuracy: 0.9815 - val_loss: 0.4530 - val_auc: 0.8668 - val_accuracy: 0.8986\n",
            "Epoch 8/100\n",
            "329/329 [==============================] - 341s 1s/step - loss: 0.1017 - auc: 0.9911 - accuracy: 0.9805 - val_loss: 0.4155 - val_auc: 0.8523 - val_accuracy: 0.9057\n",
            "Epoch 9/100\n",
            "329/329 [==============================] - 301s 913ms/step - loss: 0.0926 - auc: 0.9922 - accuracy: 0.9850 - val_loss: 0.4337 - val_auc: 0.8456 - val_accuracy: 0.9079\n",
            "Epoch 10/100\n",
            "329/329 [==============================] - ETA: 0s - loss: 0.0923 - auc: 0.9922 - accuracy: 0.9851Restoring model weights from the end of the best epoch: 5.\n",
            "329/329 [==============================] - 301s 912ms/step - loss: 0.0923 - auc: 0.9922 - accuracy: 0.9851 - val_loss: 0.4506 - val_auc: 0.8509 - val_accuracy: 0.9078\n",
            "Epoch 10: early stopping\n",
            "Found 3500 files belonging to 2 classes.\n",
            "55/55 [==============================] - 15s 253ms/step - loss: 0.4252 - auc: 0.8660 - accuracy: 0.8743\n",
            "[0.42517903447151184, 0.866014838218689, 0.8742856979370117]\n"
          ]
        }
      ],
      "source": [
        "i = 5\n",
        "load_train_dir(i)\n",
        "model = train_model(w0, w1)\n",
        "print( test_model(model, \"/content/jpg_k\"+str(i)))"
      ]
    },
    {
      "cell_type": "code",
      "execution_count": null,
      "metadata": {
        "id": "m_y92jA2DP0a"
      },
      "outputs": [],
      "source": [
        "clear_train_dir()"
      ]
    },
    {
      "cell_type": "markdown",
      "metadata": {
        "id": "nyJokgHADP0a"
      },
      "source": [
        "####k6"
      ]
    },
    {
      "cell_type": "code",
      "execution_count": null,
      "metadata": {
        "colab": {
          "base_uri": "https://localhost:8080/"
        },
        "id": "rc_pNFTtDP0a",
        "outputId": "7b593165-d411-4324-9a2a-79fdfd189e6d"
      },
      "outputs": [
        {
          "name": "stdout",
          "output_type": "stream",
          "text": [
            "Found 31499 files belonging to 2 classes.\n",
            "Using 21000 files for training.\n",
            "Found 31499 files belonging to 2 classes.\n",
            "Using 10499 files for validation.\n",
            "Epoch 1/100\n",
            "329/329 [==============================] - 349s 1s/step - loss: 0.5622 - auc: 0.7863 - accuracy: 0.7210 - val_loss: 0.6747 - val_auc: 0.6100 - val_accuracy: 0.5865\n",
            "Epoch 2/100\n",
            "329/329 [==============================] - 301s 914ms/step - loss: 0.3984 - auc: 0.8981 - accuracy: 0.8478 - val_loss: 0.8525 - val_auc: 0.6677 - val_accuracy: 0.4692\n",
            "Epoch 3/100\n",
            "329/329 [==============================] - 302s 915ms/step - loss: 0.3053 - auc: 0.9416 - accuracy: 0.8954 - val_loss: 0.6522 - val_auc: 0.8507 - val_accuracy: 0.7601\n",
            "Epoch 4/100\n",
            "329/329 [==============================] - 302s 915ms/step - loss: 0.2157 - auc: 0.9712 - accuracy: 0.9357 - val_loss: 0.3419 - val_auc: 0.8839 - val_accuracy: 0.8944\n",
            "Epoch 5/100\n",
            "329/329 [==============================] - 341s 1s/step - loss: 0.1510 - auc: 0.9845 - accuracy: 0.9629 - val_loss: 0.3655 - val_auc: 0.8767 - val_accuracy: 0.8987\n",
            "Epoch 6/100\n",
            "329/329 [==============================] - 342s 1s/step - loss: 0.1203 - auc: 0.9889 - accuracy: 0.9756 - val_loss: 0.3680 - val_auc: 0.8523 - val_accuracy: 0.9071\n",
            "Epoch 7/100\n",
            "329/329 [==============================] - 302s 914ms/step - loss: 0.1029 - auc: 0.9906 - accuracy: 0.9827 - val_loss: 0.4969 - val_auc: 0.8648 - val_accuracy: 0.8915\n",
            "Epoch 8/100\n",
            "329/329 [==============================] - 301s 913ms/step - loss: 0.0977 - auc: 0.9914 - accuracy: 0.9837 - val_loss: 0.4480 - val_auc: 0.8640 - val_accuracy: 0.9021\n",
            "Epoch 9/100\n",
            "329/329 [==============================] - ETA: 0s - loss: 0.1045 - auc: 0.9906 - accuracy: 0.9805Restoring model weights from the end of the best epoch: 4.\n",
            "329/329 [==============================] - 301s 914ms/step - loss: 0.1045 - auc: 0.9906 - accuracy: 0.9805 - val_loss: 0.4631 - val_auc: 0.8464 - val_accuracy: 0.9047\n",
            "Epoch 9: early stopping\n",
            "Found 3500 files belonging to 2 classes.\n",
            "55/55 [==============================] - 15s 254ms/step - loss: 0.3482 - auc: 0.8876 - accuracy: 0.8934\n",
            "[0.34821972250938416, 0.8876016736030579, 0.8934285640716553]\n"
          ]
        }
      ],
      "source": [
        "i = 6\n",
        "load_train_dir(i)\n",
        "model = train_model(w0, w1)\n",
        "print( test_model(model, \"/content/jpg_k\"+str(i)))"
      ]
    },
    {
      "cell_type": "code",
      "execution_count": null,
      "metadata": {
        "id": "kxoxtGfNDP0a"
      },
      "outputs": [],
      "source": [
        "clear_train_dir()"
      ]
    },
    {
      "cell_type": "markdown",
      "metadata": {
        "id": "TtcT3vaaDP0a"
      },
      "source": [
        "####k7"
      ]
    },
    {
      "cell_type": "code",
      "execution_count": null,
      "metadata": {
        "colab": {
          "base_uri": "https://localhost:8080/"
        },
        "id": "NFeGnF-iDP0a",
        "outputId": "a4f3cbd9-22ef-4403-eca0-a7a55fe8cd84"
      },
      "outputs": [
        {
          "name": "stdout",
          "output_type": "stream",
          "text": [
            "Found 31499 files belonging to 2 classes.\n",
            "Using 21000 files for training.\n",
            "Found 31499 files belonging to 2 classes.\n",
            "Using 10499 files for validation.\n",
            "Epoch 1/100\n",
            "329/329 [==============================] - 308s 918ms/step - loss: 0.5645 - auc: 0.7833 - accuracy: 0.7065 - val_loss: 0.4953 - val_auc: 0.4244 - val_accuracy: 0.8576\n",
            "Epoch 2/100\n",
            "329/329 [==============================] - 301s 914ms/step - loss: 0.4142 - auc: 0.8890 - accuracy: 0.8320 - val_loss: 0.4016 - val_auc: 0.6529 - val_accuracy: 0.8618\n",
            "Epoch 3/100\n",
            "329/329 [==============================] - 302s 915ms/step - loss: 0.3116 - auc: 0.9402 - accuracy: 0.8944 - val_loss: 0.3987 - val_auc: 0.8557 - val_accuracy: 0.8464\n",
            "Epoch 4/100\n",
            "329/329 [==============================] - 301s 914ms/step - loss: 0.2136 - auc: 0.9727 - accuracy: 0.9380 - val_loss: 0.4168 - val_auc: 0.8883 - val_accuracy: 0.8652\n",
            "Epoch 5/100\n",
            "329/329 [==============================] - 341s 1s/step - loss: 0.1458 - auc: 0.9862 - accuracy: 0.9657 - val_loss: 0.4007 - val_auc: 0.8715 - val_accuracy: 0.8887\n",
            "Epoch 6/100\n",
            "329/329 [==============================] - 301s 914ms/step - loss: 0.1086 - auc: 0.9906 - accuracy: 0.9800 - val_loss: 0.3978 - val_auc: 0.8409 - val_accuracy: 0.9032\n",
            "Epoch 7/100\n",
            "329/329 [==============================] - 301s 914ms/step - loss: 0.1003 - auc: 0.9916 - accuracy: 0.9821 - val_loss: 0.4343 - val_auc: 0.8418 - val_accuracy: 0.8963\n",
            "Epoch 8/100\n",
            "329/329 [==============================] - 301s 913ms/step - loss: 0.0931 - auc: 0.9925 - accuracy: 0.9849 - val_loss: 0.5820 - val_auc: 0.8505 - val_accuracy: 0.8813\n",
            "Epoch 9/100\n",
            "329/329 [==============================] - ETA: 0s - loss: 0.1042 - auc: 0.9906 - accuracy: 0.9809Restoring model weights from the end of the best epoch: 4.\n",
            "329/329 [==============================] - 301s 913ms/step - loss: 0.1042 - auc: 0.9906 - accuracy: 0.9809 - val_loss: 0.5142 - val_auc: 0.8595 - val_accuracy: 0.8839\n",
            "Epoch 9: early stopping\n",
            "Found 3500 files belonging to 2 classes.\n",
            "55/55 [==============================] - 15s 253ms/step - loss: 0.4167 - auc: 0.8957 - accuracy: 0.8671\n",
            "[0.4166761040687561, 0.8957250118255615, 0.8671428561210632]\n"
          ]
        }
      ],
      "source": [
        "i = 7\n",
        "load_train_dir(i)\n",
        "model = train_model(w0, w1)\n",
        "print( test_model(model, \"/content/jpg_k\"+str(i)))"
      ]
    },
    {
      "cell_type": "code",
      "execution_count": null,
      "metadata": {
        "id": "YXRFIkf1DP0a"
      },
      "outputs": [],
      "source": [
        "clear_train_dir()"
      ]
    },
    {
      "cell_type": "markdown",
      "metadata": {
        "id": "SE7BLg8tDP0a"
      },
      "source": [
        "####k8"
      ]
    },
    {
      "cell_type": "code",
      "execution_count": null,
      "metadata": {
        "colab": {
          "base_uri": "https://localhost:8080/"
        },
        "id": "VkAZ3cI1DP0a",
        "outputId": "3876d2fe-7782-4dd2-bafe-7b03aac77f40"
      },
      "outputs": [
        {
          "name": "stdout",
          "output_type": "stream",
          "text": [
            "Found 31499 files belonging to 2 classes.\n",
            "Using 21000 files for training.\n",
            "Found 31499 files belonging to 2 classes.\n",
            "Using 10499 files for validation.\n",
            "Downloading data from https://storage.googleapis.com/tensorflow/keras-applications/resnet/resnet50_weights_tf_dim_ordering_tf_kernels_notop.h5\n",
            "94765736/94765736 [==============================] - 1s 0us/step\n",
            "Epoch 1/100\n",
            "329/329 [==============================] - 319s 916ms/step - loss: 0.5696 - auc: 0.7811 - accuracy: 0.7157 - val_loss: 0.4441 - val_auc: 0.4504 - val_accuracy: 0.8599\n",
            "Epoch 2/100\n",
            "329/329 [==============================] - 346s 1s/step - loss: 0.4055 - auc: 0.8933 - accuracy: 0.8375 - val_loss: 0.3933 - val_auc: 0.6451 - val_accuracy: 0.8604\n",
            "Epoch 3/100\n",
            "329/329 [==============================] - 309s 936ms/step - loss: 0.3054 - auc: 0.9420 - accuracy: 0.8934 - val_loss: 0.4730 - val_auc: 0.8492 - val_accuracy: 0.8183\n",
            "Epoch 4/100\n",
            "329/329 [==============================] - 308s 934ms/step - loss: 0.2167 - auc: 0.9715 - accuracy: 0.9338 - val_loss: 0.3501 - val_auc: 0.8832 - val_accuracy: 0.8832\n",
            "Epoch 5/100\n",
            "329/329 [==============================] - 307s 933ms/step - loss: 0.1473 - auc: 0.9854 - accuracy: 0.9640 - val_loss: 0.3800 - val_auc: 0.8755 - val_accuracy: 0.8851\n",
            "Epoch 6/100\n",
            "329/329 [==============================] - 308s 933ms/step - loss: 0.1186 - auc: 0.9896 - accuracy: 0.9749 - val_loss: 0.4034 - val_auc: 0.8705 - val_accuracy: 0.8965\n",
            "Epoch 7/100\n",
            "329/329 [==============================] - 307s 931ms/step - loss: 0.1099 - auc: 0.9904 - accuracy: 0.9777 - val_loss: 0.4158 - val_auc: 0.8257 - val_accuracy: 0.9111\n",
            "Epoch 8/100\n",
            "329/329 [==============================] - 307s 931ms/step - loss: 0.1034 - auc: 0.9910 - accuracy: 0.9806 - val_loss: 0.4639 - val_auc: 0.8734 - val_accuracy: 0.8910\n",
            "Epoch 9/100\n",
            "329/329 [==============================] - ETA: 0s - loss: 0.0961 - auc: 0.9916 - accuracy: 0.9836Restoring model weights from the end of the best epoch: 4.\n",
            "329/329 [==============================] - 307s 932ms/step - loss: 0.0961 - auc: 0.9916 - accuracy: 0.9836 - val_loss: 0.4274 - val_auc: 0.8487 - val_accuracy: 0.9036\n",
            "Epoch 9: early stopping\n",
            "Found 3500 files belonging to 2 classes.\n",
            "55/55 [==============================] - 16s 284ms/step - loss: 0.3595 - auc: 0.8911 - accuracy: 0.8737\n",
            "[0.3594590127468109, 0.8910831212997437, 0.87371426820755]\n"
          ]
        }
      ],
      "source": [
        "i = 8\n",
        "load_train_dir(i)\n",
        "model = train_model(w0, w1)\n",
        "print( test_model(model, \"/content/jpg_k\"+str(i)))"
      ]
    },
    {
      "cell_type": "code",
      "execution_count": null,
      "metadata": {
        "id": "_K_LSj6WDP0b"
      },
      "outputs": [],
      "source": [
        "clear_train_dir()"
      ]
    },
    {
      "cell_type": "markdown",
      "metadata": {
        "id": "bsMbIFvqDP0b"
      },
      "source": [
        "####k9"
      ]
    },
    {
      "cell_type": "code",
      "execution_count": null,
      "metadata": {
        "colab": {
          "base_uri": "https://localhost:8080/"
        },
        "id": "VH5eHP6DDP0b",
        "outputId": "6c97033f-2d1b-4820-b8a5-70a3355f00aa"
      },
      "outputs": [
        {
          "name": "stdout",
          "output_type": "stream",
          "text": [
            "Found 31500 files belonging to 2 classes.\n",
            "Using 21000 files for training.\n",
            "Found 31500 files belonging to 2 classes.\n",
            "Using 10500 files for validation.\n",
            "Epoch 1/100\n",
            "329/329 [==============================] - 314s 936ms/step - loss: 0.5485 - auc: 0.7964 - accuracy: 0.7264 - val_loss: 0.4473 - val_auc: 0.5181 - val_accuracy: 0.8588\n",
            "Epoch 2/100\n",
            "329/329 [==============================] - 309s 936ms/step - loss: 0.3984 - auc: 0.8984 - accuracy: 0.8449 - val_loss: 0.4284 - val_auc: 0.6328 - val_accuracy: 0.8363\n",
            "Epoch 3/100\n",
            "329/329 [==============================] - 346s 1s/step - loss: 0.2984 - auc: 0.9445 - accuracy: 0.8953 - val_loss: 0.6105 - val_auc: 0.8601 - val_accuracy: 0.7545\n",
            "Epoch 4/100\n",
            "329/329 [==============================] - 307s 931ms/step - loss: 0.2131 - auc: 0.9718 - accuracy: 0.9348 - val_loss: 0.3872 - val_auc: 0.8832 - val_accuracy: 0.8755\n",
            "Epoch 5/100\n",
            "329/329 [==============================] - 307s 932ms/step - loss: 0.1488 - auc: 0.9854 - accuracy: 0.9630 - val_loss: 0.3658 - val_auc: 0.8730 - val_accuracy: 0.8972\n",
            "Epoch 6/100\n",
            "329/329 [==============================] - 307s 932ms/step - loss: 0.1178 - auc: 0.9895 - accuracy: 0.9755 - val_loss: 0.3784 - val_auc: 0.8585 - val_accuracy: 0.9043\n",
            "Epoch 7/100\n",
            "329/329 [==============================] - 346s 1s/step - loss: 0.0999 - auc: 0.9912 - accuracy: 0.9831 - val_loss: 0.4415 - val_auc: 0.8382 - val_accuracy: 0.9070\n",
            "Epoch 8/100\n",
            "329/329 [==============================] - 308s 933ms/step - loss: 0.0970 - auc: 0.9913 - accuracy: 0.9836 - val_loss: 0.4679 - val_auc: 0.8432 - val_accuracy: 0.9049\n",
            "Epoch 9/100\n",
            "329/329 [==============================] - ETA: 0s - loss: 0.0991 - auc: 0.9909 - accuracy: 0.9828Restoring model weights from the end of the best epoch: 4.\n",
            "329/329 [==============================] - 307s 932ms/step - loss: 0.0991 - auc: 0.9909 - accuracy: 0.9828 - val_loss: 0.4504 - val_auc: 0.8381 - val_accuracy: 0.9063\n",
            "Epoch 9: early stopping\n",
            "Found 3499 files belonging to 2 classes.\n",
            "55/55 [==============================] - 16s 286ms/step - loss: 0.3719 - auc: 0.8964 - accuracy: 0.8843\n",
            "[0.37185436487197876, 0.8963693976402283, 0.884252667427063]\n"
          ]
        }
      ],
      "source": [
        "i = 9\n",
        "load_train_dir(i)\n",
        "model = train_model(w0, w1)\n",
        "print( test_model(model, \"/content/jpg_k\"+str(i)))"
      ]
    },
    {
      "cell_type": "code",
      "execution_count": null,
      "metadata": {
        "id": "zYdf7FdNDP0b"
      },
      "outputs": [],
      "source": [
        "clear_train_dir()"
      ]
    },
    {
      "cell_type": "markdown",
      "metadata": {
        "id": "pq8P_VIVWbrG"
      },
      "source": [
        "### Baseline: W/ Tranfered Learning & W/ Data Aug"
      ]
    },
    {
      "cell_type": "code",
      "execution_count": null,
      "metadata": {
        "id": "2kFBV5koX3I-"
      },
      "outputs": [],
      "source": [
        "from keras.layers import RandomFlip, RandomRotation, RandomCrop"
      ]
    },
    {
      "cell_type": "markdown",
      "metadata": {
        "id": "0gN7LZ7xWbrG"
      },
      "source": [
        "#### Declarações"
      ]
    },
    {
      "cell_type": "code",
      "execution_count": null,
      "metadata": {
        "id": "AaHQzkmOWbrG"
      },
      "outputs": [],
      "source": [
        "def clear_train_dir():\n",
        "  for file in os.listdir(\"/content/train/yes/\"):\n",
        "    os.remove(\"/content/train/yes/\" + file)\n",
        "\n",
        "  for file in os.listdir(\"/content/train/no/\"):\n",
        "    os.remove(\"/content/train/no/\" + file)"
      ]
    },
    {
      "cell_type": "code",
      "execution_count": null,
      "metadata": {
        "id": "RZJDMIJHWbrG"
      },
      "outputs": [],
      "source": [
        "def load_train_dir(ki):\n",
        "  k = [0,1,2,3,4,5,6,7,8,9]\n",
        "  for i in range(10):\n",
        "    if i!= k[ki]:\n",
        "      yesdir = \"/content/jpg_k\"+str(i)+\"/yes/\"\n",
        "      nodir = \"/content/jpg_k\"+str(i)+\"/no/\"\n",
        "      for file in os.listdir(yesdir):\n",
        "        shutil.copy(yesdir + file, \"/content/train/yes\")\n",
        "      for file in os.listdir(nodir):\n",
        "        shutil.copy(nodir + file, \"/content/train/no\")"
      ]
    },
    {
      "cell_type": "code",
      "execution_count": null,
      "metadata": {
        "id": "31CCuKGhWbrG"
      },
      "outputs": [],
      "source": [
        "def train_model(w0, w1):\n",
        "    train_data = image_dataset_from_directory(\n",
        "      (\"/content/train\"),\n",
        "      labels='inferred',\n",
        "      validation_split=1/3,\n",
        "      subset=\"training\",\n",
        "      seed=123,\n",
        "      batch_size = 64,\n",
        "      color_mode = \"rgb\"\n",
        "    )\n",
        "  \n",
        "    val_data = image_dataset_from_directory(\n",
        "      \"/content/train\",\n",
        "      labels='inferred',\n",
        "      validation_split=1/3,\n",
        "      subset=\"validation\",\n",
        "      seed=123,\n",
        "      batch_size = 64,\n",
        "      color_mode = \"rgb\"\n",
        "    )\n",
        "\n",
        "    class_names = train_data.class_names\n",
        "\n",
        "    normalization_layer = Rescaling(1./255)\n",
        "\n",
        "    normalized_data = train_data.map(lambda x, y: (normalization_layer(x), y))\n",
        "    image_batch, labels_batch = next(iter(normalized_data))\n",
        "\n",
        "    normalized_val_data = val_data.map(lambda x, y: (normalization_layer(x), y))\n",
        "    val_image_batch, val_labels_batch = next(iter(normalized_val_data))\n",
        "\n",
        "    keras.backend.clear_session()\n",
        "\n",
        "    resnet_model = Sequential()\n",
        "\n",
        "    resnet_model.add(RandomFlip(\"horizontal\"))\n",
        "    resnet_model.add(RandomRotation(0.2))\n",
        "    resnet_model.add(RandomCrop(256, 256, seed=1)) \n",
        "\n",
        "    resnet = tf.keras.applications.resnet50.ResNet50(\n",
        "        include_top=False,\n",
        "        input_shape=image_batch.shape[1:],\n",
        "        pooling='avg',\n",
        "        weights='imagenet',\n",
        "        classes=2,\n",
        "    )\n",
        "\n",
        "    resnet_model.add(resnet)\n",
        "\n",
        "    resnet_model.add(Flatten())\n",
        "\n",
        "    resnet_model.add(Dense(512, activation=\"relu\"))\n",
        "\n",
        "    resnet_model.add(Dropout(0.5))\n",
        "\n",
        "    resnet_model.add(Dense(1, activation=\"sigmoid\"))\n",
        "\n",
        "    resnet_model.compile(loss='binary_crossentropy', \n",
        "                         optimizer=optimizers.Adam(learning_rate=0.00001),\n",
        "                         metrics=[keras.metrics.AUC(), 'accuracy'])\n",
        "  \n",
        "    run_hist = resnet_model.fit(\n",
        "      normalized_data, \n",
        "      validation_data=normalized_val_data, epochs=100, class_weight={0:w0, 1:w1}, \n",
        "      callbacks=[keras.callbacks.EarlyStopping(\n",
        "                      monitor=\"val_auc\",\n",
        "                      min_delta=0,\n",
        "                      patience=5,\n",
        "                      verbose=1,\n",
        "                      mode=\"auto\",\n",
        "                      baseline=None,\n",
        "                      restore_best_weights=True,\n",
        "                  )]\n",
        "    )\n",
        "\n",
        "    return resnet_model"
      ]
    },
    {
      "cell_type": "code",
      "execution_count": null,
      "metadata": {
        "id": "dbUgbrntWbrG"
      },
      "outputs": [],
      "source": [
        "def test_model(resnet_model, test_path):\n",
        "    test_data = image_dataset_from_directory(\n",
        "      test_path,\n",
        "      labels='inferred',\n",
        "      label_mode=\"int\",\n",
        "      batch_size = 64,\n",
        "      color_mode = \"rgb\"\n",
        "    )\n",
        "\n",
        "    normalization_layer = Rescaling(1./255)\n",
        "\n",
        "    normalized_test_data = test_data.map(lambda x, y: (normalization_layer(x), y))\n",
        "    test_image_batch, test_labels_batch = next(iter(normalized_test_data))\n",
        "\n",
        "    results = resnet_model.evaluate(normalized_test_data)\n",
        "    return results"
      ]
    },
    {
      "cell_type": "code",
      "execution_count": null,
      "metadata": {
        "id": "p6Ybz5WSWbrG"
      },
      "outputs": [],
      "source": [
        "neg = 27062\n",
        "pos = 4437\n",
        "total = pos+neg\n",
        "\n",
        "w0 = (1 / neg) * (total / 2.0)\n",
        "w1 = (1 / pos) * (total / 2.0)\n",
        "\n",
        "print('Peso para a classe 0: {:.2f}'.format(w0))\n",
        "print('Peso para a classe 1: {:.2f}'.format(w1))"
      ]
    },
    {
      "cell_type": "code",
      "execution_count": null,
      "metadata": {
        "id": "Am06DvQYWbrH"
      },
      "outputs": [],
      "source": [
        "print('Numero de imagens: NO')\n",
        "!ls /content/train/no | wc -l\n",
        "print('Numero de imagens: YES')\n",
        "!ls /content/train/yes | wc -l"
      ]
    },
    {
      "cell_type": "markdown",
      "metadata": {
        "id": "pyqY-nfxWbrH"
      },
      "source": [
        "#### k0"
      ]
    },
    {
      "cell_type": "code",
      "execution_count": null,
      "metadata": {
        "colab": {
          "base_uri": "https://localhost:8080/"
        },
        "id": "GDt65IjWWbrH",
        "outputId": "767be698-f6e7-4b46-8de9-a56ee8b57e0c"
      },
      "outputs": [
        {
          "name": "stdout",
          "output_type": "stream",
          "text": [
            "Found 31499 files belonging to 2 classes.\n",
            "Using 21000 files for training.\n",
            "Found 31499 files belonging to 2 classes.\n",
            "Using 10499 files for validation.\n",
            "Epoch 1/100\n",
            "329/329 [==============================] - 372s 1s/step - loss: 0.6037 - auc: 0.7470 - accuracy: 0.6805 - val_loss: 0.4958 - val_auc: 0.4362 - val_accuracy: 0.8587\n",
            "Epoch 2/100\n",
            "329/329 [==============================] - 326s 989ms/step - loss: 0.4824 - auc: 0.8465 - accuracy: 0.7900 - val_loss: 0.5386 - val_auc: 0.6451 - val_accuracy: 0.7812\n",
            "Epoch 3/100\n",
            "329/329 [==============================] - 327s 991ms/step - loss: 0.4310 - auc: 0.8790 - accuracy: 0.8305 - val_loss: 0.6276 - val_auc: 0.8611 - val_accuracy: 0.7522\n",
            "Epoch 4/100\n",
            "329/329 [==============================] - 326s 990ms/step - loss: 0.3972 - auc: 0.8979 - accuracy: 0.8544 - val_loss: 0.3643 - val_auc: 0.9029 - val_accuracy: 0.8658\n",
            "Epoch 5/100\n",
            "329/329 [==============================] - 327s 991ms/step - loss: 0.3769 - auc: 0.9083 - accuracy: 0.8606 - val_loss: 0.3312 - val_auc: 0.9025 - val_accuracy: 0.8842\n",
            "Epoch 6/100\n",
            "329/329 [==============================] - 326s 990ms/step - loss: 0.3596 - auc: 0.9163 - accuracy: 0.8675 - val_loss: 0.2782 - val_auc: 0.9024 - val_accuracy: 0.9120\n",
            "Epoch 7/100\n",
            "329/329 [==============================] - 326s 990ms/step - loss: 0.3386 - auc: 0.9253 - accuracy: 0.8801 - val_loss: 0.2838 - val_auc: 0.9085 - val_accuracy: 0.9040\n",
            "Epoch 8/100\n",
            "329/329 [==============================] - 364s 1s/step - loss: 0.3236 - auc: 0.9324 - accuracy: 0.8883 - val_loss: 0.3048 - val_auc: 0.9143 - val_accuracy: 0.8995\n",
            "Epoch 9/100\n",
            "329/329 [==============================] - 324s 984ms/step - loss: 0.3099 - auc: 0.9384 - accuracy: 0.8943 - val_loss: 0.3063 - val_auc: 0.9186 - val_accuracy: 0.8944\n",
            "Epoch 10/100\n",
            "329/329 [==============================] - 322s 978ms/step - loss: 0.2961 - auc: 0.9425 - accuracy: 0.9014 - val_loss: 0.2744 - val_auc: 0.9182 - val_accuracy: 0.9081\n",
            "Epoch 11/100\n",
            "329/329 [==============================] - 322s 976ms/step - loss: 0.2902 - auc: 0.9460 - accuracy: 0.9030 - val_loss: 0.2934 - val_auc: 0.9152 - val_accuracy: 0.9072\n",
            "Epoch 12/100\n",
            "329/329 [==============================] - 326s 990ms/step - loss: 0.2763 - auc: 0.9509 - accuracy: 0.9097 - val_loss: 0.2688 - val_auc: 0.9000 - val_accuracy: 0.9175\n",
            "Epoch 13/100\n",
            "329/329 [==============================] - 364s 1s/step - loss: 0.2641 - auc: 0.9550 - accuracy: 0.9125 - val_loss: 0.2733 - val_auc: 0.9139 - val_accuracy: 0.9113\n",
            "Epoch 14/100\n",
            "329/329 [==============================] - ETA: 0s - loss: 0.2582 - auc: 0.9571 - accuracy: 0.9163Restoring model weights from the end of the best epoch: 9.\n",
            "329/329 [==============================] - 326s 990ms/step - loss: 0.2582 - auc: 0.9571 - accuracy: 0.9163 - val_loss: 0.3114 - val_auc: 0.9165 - val_accuracy: 0.8957\n",
            "Epoch 14: early stopping\n",
            "Found 3500 files belonging to 2 classes.\n",
            "55/55 [==============================] - 15s 264ms/step - loss: 0.3169 - auc: 0.9181 - accuracy: 0.8943\n",
            "[0.31688833236694336, 0.9180866479873657, 0.8942857384681702]\n"
          ]
        }
      ],
      "source": [
        "i = 0\n",
        "load_train_dir(i)\n",
        "model = train_model(w0, w1)\n",
        "print( test_model(model, \"/content/jpg_k\"+str(i)))"
      ]
    },
    {
      "cell_type": "code",
      "execution_count": null,
      "metadata": {
        "id": "RqvKtwLIWbrH"
      },
      "outputs": [],
      "source": [
        "clear_train_dir()"
      ]
    },
    {
      "cell_type": "markdown",
      "metadata": {
        "id": "2O7kYXQMWbrH"
      },
      "source": [
        "####k1"
      ]
    },
    {
      "cell_type": "code",
      "execution_count": null,
      "metadata": {
        "colab": {
          "base_uri": "https://localhost:8080/"
        },
        "id": "GOB9B8KeWbrH",
        "outputId": "fa9f7ae5-dc71-43cd-eea2-aa6939d33958"
      },
      "outputs": [
        {
          "name": "stdout",
          "output_type": "stream",
          "text": [
            "Found 31499 files belonging to 2 classes.\n",
            "Using 21000 files for training.\n",
            "Found 31499 files belonging to 2 classes.\n",
            "Using 10499 files for validation.\n",
            "Downloading data from https://storage.googleapis.com/tensorflow/keras-applications/resnet/resnet50_weights_tf_dim_ordering_tf_kernels_notop.h5\n",
            "94765736/94765736 [==============================] - 1s 0us/step\n",
            "Epoch 1/100\n",
            "329/329 [==============================] - 338s 969ms/step - loss: 0.5965 - auc: 0.7563 - accuracy: 0.6847 - val_loss: 0.4052 - val_auc: 0.5456 - val_accuracy: 0.8600\n",
            "Epoch 2/100\n",
            "329/329 [==============================] - 323s 980ms/step - loss: 0.4756 - auc: 0.8515 - accuracy: 0.7911 - val_loss: 0.3765 - val_auc: 0.6831 - val_accuracy: 0.8680\n",
            "Epoch 3/100\n",
            "329/329 [==============================] - 361s 1s/step - loss: 0.4317 - auc: 0.8804 - accuracy: 0.8280 - val_loss: 0.4516 - val_auc: 0.8716 - val_accuracy: 0.8243\n",
            "Epoch 4/100\n",
            "329/329 [==============================] - 363s 1s/step - loss: 0.4027 - auc: 0.8945 - accuracy: 0.8456 - val_loss: 0.3272 - val_auc: 0.8876 - val_accuracy: 0.8919\n",
            "Epoch 5/100\n",
            "329/329 [==============================] - 324s 982ms/step - loss: 0.3760 - auc: 0.9087 - accuracy: 0.8640 - val_loss: 0.2995 - val_auc: 0.8909 - val_accuracy: 0.9008\n",
            "Epoch 6/100\n",
            "329/329 [==============================] - 323s 981ms/step - loss: 0.3511 - auc: 0.9211 - accuracy: 0.8725 - val_loss: 0.2740 - val_auc: 0.8916 - val_accuracy: 0.9068\n",
            "Epoch 7/100\n",
            "329/329 [==============================] - 324s 982ms/step - loss: 0.3360 - auc: 0.9277 - accuracy: 0.8810 - val_loss: 0.3102 - val_auc: 0.9045 - val_accuracy: 0.8925\n",
            "Epoch 8/100\n",
            "329/329 [==============================] - 323s 979ms/step - loss: 0.3213 - auc: 0.9340 - accuracy: 0.8874 - val_loss: 0.3019 - val_auc: 0.9016 - val_accuracy: 0.9010\n",
            "Epoch 9/100\n",
            "329/329 [==============================] - 322s 978ms/step - loss: 0.3105 - auc: 0.9375 - accuracy: 0.8930 - val_loss: 0.3138 - val_auc: 0.8974 - val_accuracy: 0.8912\n",
            "Epoch 10/100\n",
            "329/329 [==============================] - 361s 1s/step - loss: 0.2976 - auc: 0.9437 - accuracy: 0.8978 - val_loss: 0.3040 - val_auc: 0.9085 - val_accuracy: 0.8985\n",
            "Epoch 11/100\n",
            "329/329 [==============================] - 361s 1s/step - loss: 0.2885 - auc: 0.9468 - accuracy: 0.9020 - val_loss: 0.2696 - val_auc: 0.8954 - val_accuracy: 0.9122\n",
            "Epoch 12/100\n",
            "329/329 [==============================] - 323s 980ms/step - loss: 0.2791 - auc: 0.9506 - accuracy: 0.9035 - val_loss: 0.2891 - val_auc: 0.9018 - val_accuracy: 0.9032\n",
            "Epoch 13/100\n",
            "329/329 [==============================] - 322s 978ms/step - loss: 0.2704 - auc: 0.9532 - accuracy: 0.9048 - val_loss: 0.2715 - val_auc: 0.8936 - val_accuracy: 0.9184\n",
            "Epoch 14/100\n",
            "329/329 [==============================] - 322s 978ms/step - loss: 0.2554 - auc: 0.9578 - accuracy: 0.9153 - val_loss: 0.2924 - val_auc: 0.9009 - val_accuracy: 0.9083\n",
            "Epoch 15/100\n",
            "329/329 [==============================] - ETA: 0s - loss: 0.2545 - auc: 0.9584 - accuracy: 0.9140Restoring model weights from the end of the best epoch: 10.\n",
            "329/329 [==============================] - 323s 979ms/step - loss: 0.2545 - auc: 0.9584 - accuracy: 0.9140 - val_loss: 0.2837 - val_auc: 0.9018 - val_accuracy: 0.9130\n",
            "Epoch 15: early stopping\n",
            "Found 3500 files belonging to 2 classes.\n",
            "55/55 [==============================] - 16s 282ms/step - loss: 0.2929 - auc: 0.9241 - accuracy: 0.9057\n",
            "[0.2929333448410034, 0.92408686876297, 0.9057142734527588]\n"
          ]
        }
      ],
      "source": [
        "i = 1\n",
        "load_train_dir(i)\n",
        "model = train_model(w0, w1)\n",
        "print( test_model(model, \"/content/jpg_k\"+str(i)))"
      ]
    },
    {
      "cell_type": "code",
      "execution_count": null,
      "metadata": {
        "id": "szewbeLMWbrH"
      },
      "outputs": [],
      "source": [
        "clear_train_dir()"
      ]
    },
    {
      "cell_type": "markdown",
      "metadata": {
        "id": "x9Z7KQv0WbrH"
      },
      "source": [
        "####k2"
      ]
    },
    {
      "cell_type": "code",
      "execution_count": null,
      "metadata": {
        "colab": {
          "base_uri": "https://localhost:8080/"
        },
        "id": "POUZjDrpWbrH",
        "outputId": "7cec6912-0e4c-437c-b639-2307c8754c27"
      },
      "outputs": [
        {
          "name": "stdout",
          "output_type": "stream",
          "text": [
            "Found 31499 files belonging to 2 classes.\n",
            "Using 21000 files for training.\n",
            "Found 31499 files belonging to 2 classes.\n",
            "Using 10499 files for validation.\n",
            "Epoch 1/100\n",
            "329/329 [==============================] - 331s 985ms/step - loss: 0.6013 - auc: 0.7480 - accuracy: 0.6740 - val_loss: 0.6277 - val_auc: 0.3918 - val_accuracy: 0.6900\n",
            "Epoch 2/100\n",
            "329/329 [==============================] - 323s 980ms/step - loss: 0.4816 - auc: 0.8477 - accuracy: 0.7931 - val_loss: 0.9243 - val_auc: 0.6696 - val_accuracy: 0.4472\n",
            "Epoch 3/100\n",
            "329/329 [==============================] - 324s 982ms/step - loss: 0.4352 - auc: 0.8765 - accuracy: 0.8286 - val_loss: 0.7753 - val_auc: 0.8549 - val_accuracy: 0.6738\n",
            "Epoch 4/100\n",
            "329/329 [==============================] - 324s 982ms/step - loss: 0.4065 - auc: 0.8918 - accuracy: 0.8492 - val_loss: 0.3705 - val_auc: 0.9044 - val_accuracy: 0.8740\n",
            "Epoch 5/100\n",
            "329/329 [==============================] - 323s 979ms/step - loss: 0.3823 - auc: 0.9051 - accuracy: 0.8617 - val_loss: 0.3130 - val_auc: 0.9007 - val_accuracy: 0.9022\n",
            "Epoch 6/100\n",
            "329/329 [==============================] - 323s 981ms/step - loss: 0.3585 - auc: 0.9168 - accuracy: 0.8717 - val_loss: 0.2866 - val_auc: 0.9110 - val_accuracy: 0.9050\n",
            "Epoch 7/100\n",
            "329/329 [==============================] - 323s 979ms/step - loss: 0.3391 - auc: 0.9259 - accuracy: 0.8842 - val_loss: 0.3060 - val_auc: 0.9093 - val_accuracy: 0.9021\n",
            "Epoch 8/100\n",
            "329/329 [==============================] - 323s 980ms/step - loss: 0.3268 - auc: 0.9315 - accuracy: 0.8886 - val_loss: 0.2951 - val_auc: 0.9123 - val_accuracy: 0.9044\n",
            "Epoch 9/100\n",
            "329/329 [==============================] - 323s 981ms/step - loss: 0.3178 - auc: 0.9345 - accuracy: 0.8922 - val_loss: 0.3090 - val_auc: 0.9133 - val_accuracy: 0.8969\n",
            "Epoch 10/100\n",
            "329/329 [==============================] - 324s 983ms/step - loss: 0.3008 - auc: 0.9419 - accuracy: 0.8994 - val_loss: 0.3033 - val_auc: 0.9142 - val_accuracy: 0.8980\n",
            "Epoch 11/100\n",
            "329/329 [==============================] - 363s 1s/step - loss: 0.2911 - auc: 0.9460 - accuracy: 0.9028 - val_loss: 0.2863 - val_auc: 0.9136 - val_accuracy: 0.9063\n",
            "Epoch 12/100\n",
            "329/329 [==============================] - 325s 987ms/step - loss: 0.2814 - auc: 0.9496 - accuracy: 0.9063 - val_loss: 0.3110 - val_auc: 0.9164 - val_accuracy: 0.8940\n",
            "Epoch 13/100\n",
            "329/329 [==============================] - 326s 987ms/step - loss: 0.2715 - auc: 0.9525 - accuracy: 0.9080 - val_loss: 0.3063 - val_auc: 0.9049 - val_accuracy: 0.8997\n",
            "Epoch 14/100\n",
            "329/329 [==============================] - 325s 986ms/step - loss: 0.2559 - auc: 0.9583 - accuracy: 0.9160 - val_loss: 0.3227 - val_auc: 0.9088 - val_accuracy: 0.8895\n",
            "Epoch 15/100\n",
            "329/329 [==============================] - 364s 1s/step - loss: 0.2587 - auc: 0.9569 - accuracy: 0.9169 - val_loss: 0.3222 - val_auc: 0.9022 - val_accuracy: 0.8940\n",
            "Epoch 16/100\n",
            "329/329 [==============================] - 326s 989ms/step - loss: 0.2432 - auc: 0.9614 - accuracy: 0.9216 - val_loss: 0.2643 - val_auc: 0.8930 - val_accuracy: 0.9231\n",
            "Epoch 17/100\n",
            "329/329 [==============================] - ETA: 0s - loss: 0.2301 - auc: 0.9656 - accuracy: 0.9280Restoring model weights from the end of the best epoch: 12.\n",
            "329/329 [==============================] - 326s 988ms/step - loss: 0.2301 - auc: 0.9656 - accuracy: 0.9280 - val_loss: 0.2743 - val_auc: 0.9072 - val_accuracy: 0.9147\n",
            "Epoch 17: early stopping\n",
            "Found 3500 files belonging to 2 classes.\n",
            "55/55 [==============================] - 15s 261ms/step - loss: 0.3199 - auc: 0.8962 - accuracy: 0.8951\n",
            "[0.3198547661304474, 0.8962198495864868, 0.8951428532600403]\n"
          ]
        }
      ],
      "source": [
        "i = 2\n",
        "load_train_dir(i)\n",
        "model = train_model(w0, w1)\n",
        "print( test_model(model, \"/content/jpg_k\"+str(i)))"
      ]
    },
    {
      "cell_type": "code",
      "execution_count": null,
      "metadata": {
        "id": "9bh6iphrWbrH"
      },
      "outputs": [],
      "source": [
        "clear_train_dir()"
      ]
    },
    {
      "cell_type": "markdown",
      "metadata": {
        "id": "8mTdqTg3WbrH"
      },
      "source": [
        "####k3"
      ]
    },
    {
      "cell_type": "code",
      "execution_count": null,
      "metadata": {
        "colab": {
          "base_uri": "https://localhost:8080/"
        },
        "id": "80Hj6uG3WbrH",
        "outputId": "f1043650-0e69-40d4-c443-da337408fa86"
      },
      "outputs": [
        {
          "name": "stdout",
          "output_type": "stream",
          "text": [
            "Found 31499 files belonging to 2 classes.\n",
            "Using 21000 files for training.\n",
            "Found 31499 files belonging to 2 classes.\n",
            "Using 10499 files for validation.\n",
            "Downloading data from https://storage.googleapis.com/tensorflow/keras-applications/resnet/resnet50_weights_tf_dim_ordering_tf_kernels_notop.h5\n",
            "94765736/94765736 [==============================] - 0s 0us/step\n",
            "Epoch 1/100\n",
            "329/329 [==============================] - 347s 996ms/step - loss: 0.6025 - auc: 0.7536 - accuracy: 0.6863 - val_loss: 0.4518 - val_auc: 0.6104 - val_accuracy: 0.8597\n",
            "Epoch 2/100\n",
            "329/329 [==============================] - 329s 998ms/step - loss: 0.4736 - auc: 0.8543 - accuracy: 0.7915 - val_loss: 0.4376 - val_auc: 0.7233 - val_accuracy: 0.8414\n",
            "Epoch 3/100\n",
            "329/329 [==============================] - 329s 999ms/step - loss: 0.4288 - auc: 0.8801 - accuracy: 0.8266 - val_loss: 0.6783 - val_auc: 0.8641 - val_accuracy: 0.7356\n",
            "Epoch 4/100\n",
            "329/329 [==============================] - 367s 1s/step - loss: 0.3951 - auc: 0.8988 - accuracy: 0.8503 - val_loss: 0.4007 - val_auc: 0.8986 - val_accuracy: 0.8571\n",
            "Epoch 5/100\n",
            "329/329 [==============================] - 330s 1s/step - loss: 0.3693 - auc: 0.9116 - accuracy: 0.8640 - val_loss: 0.3247 - val_auc: 0.8914 - val_accuracy: 0.8897\n",
            "Epoch 6/100\n",
            "329/329 [==============================] - 329s 998ms/step - loss: 0.3586 - auc: 0.9173 - accuracy: 0.8694 - val_loss: 0.2921 - val_auc: 0.9006 - val_accuracy: 0.9028\n",
            "Epoch 7/100\n",
            "329/329 [==============================] - 329s 998ms/step - loss: 0.3351 - auc: 0.9276 - accuracy: 0.8840 - val_loss: 0.3073 - val_auc: 0.9046 - val_accuracy: 0.9001\n",
            "Epoch 8/100\n",
            "329/329 [==============================] - 329s 999ms/step - loss: 0.3161 - auc: 0.9354 - accuracy: 0.8891 - val_loss: 0.2817 - val_auc: 0.9052 - val_accuracy: 0.9106\n",
            "Epoch 9/100\n",
            "329/329 [==============================] - 329s 998ms/step - loss: 0.3066 - auc: 0.9399 - accuracy: 0.8937 - val_loss: 0.3180 - val_auc: 0.9095 - val_accuracy: 0.8919\n",
            "Epoch 10/100\n",
            "329/329 [==============================] - 329s 998ms/step - loss: 0.2878 - auc: 0.9477 - accuracy: 0.8990 - val_loss: 0.3105 - val_auc: 0.9079 - val_accuracy: 0.8983\n",
            "Epoch 11/100\n",
            "329/329 [==============================] - 330s 1s/step - loss: 0.2858 - auc: 0.9474 - accuracy: 0.9002 - val_loss: 0.3132 - val_auc: 0.9140 - val_accuracy: 0.8943\n",
            "Epoch 12/100\n",
            "329/329 [==============================] - 330s 1s/step - loss: 0.2660 - auc: 0.9550 - accuracy: 0.9103 - val_loss: 0.2885 - val_auc: 0.9081 - val_accuracy: 0.9103\n",
            "Epoch 13/100\n",
            "329/329 [==============================] - 328s 996ms/step - loss: 0.2573 - auc: 0.9581 - accuracy: 0.9125 - val_loss: 0.2842 - val_auc: 0.9114 - val_accuracy: 0.9101\n",
            "Epoch 14/100\n",
            "329/329 [==============================] - 323s 980ms/step - loss: 0.2512 - auc: 0.9596 - accuracy: 0.9179 - val_loss: 0.2891 - val_auc: 0.9107 - val_accuracy: 0.9115\n",
            "Epoch 15/100\n",
            "329/329 [==============================] - 323s 981ms/step - loss: 0.2488 - auc: 0.9599 - accuracy: 0.9151 - val_loss: 0.2893 - val_auc: 0.9095 - val_accuracy: 0.9133\n",
            "Epoch 16/100\n",
            "329/329 [==============================] - ETA: 0s - loss: 0.2314 - auc: 0.9653 - accuracy: 0.9262Restoring model weights from the end of the best epoch: 11.\n",
            "329/329 [==============================] - 328s 994ms/step - loss: 0.2314 - auc: 0.9653 - accuracy: 0.9262 - val_loss: 0.3220 - val_auc: 0.8982 - val_accuracy: 0.9027\n",
            "Epoch 16: early stopping\n",
            "Found 3500 files belonging to 2 classes.\n",
            "55/55 [==============================] - 16s 281ms/step - loss: 0.3070 - auc: 0.9111 - accuracy: 0.8874\n",
            "[0.3069847822189331, 0.9111397862434387, 0.8874285817146301]\n"
          ]
        }
      ],
      "source": [
        "i = 3\n",
        "load_train_dir(i)\n",
        "model = train_model(w0, w1)\n",
        "print( test_model(model, \"/content/jpg_k\"+str(i)))"
      ]
    },
    {
      "cell_type": "code",
      "execution_count": null,
      "metadata": {
        "id": "9EDG2dnkWbrH"
      },
      "outputs": [],
      "source": [
        "clear_train_dir()"
      ]
    },
    {
      "cell_type": "markdown",
      "metadata": {
        "id": "gAWOxGX4WbrH"
      },
      "source": [
        "####k4"
      ]
    },
    {
      "cell_type": "code",
      "execution_count": null,
      "metadata": {
        "colab": {
          "base_uri": "https://localhost:8080/"
        },
        "id": "hRjYVgPKWbrI",
        "outputId": "74b3a26e-152b-4a5c-b063-b0254e14d973"
      },
      "outputs": [
        {
          "name": "stdout",
          "output_type": "stream",
          "text": [
            "Found 31499 files belonging to 2 classes.\n",
            "Using 21000 files for training.\n",
            "Found 31499 files belonging to 2 classes.\n",
            "Using 10499 files for validation.\n",
            "Downloading data from https://storage.googleapis.com/tensorflow/keras-applications/resnet/resnet50_weights_tf_dim_ordering_tf_kernels_notop.h5\n",
            "94765736/94765736 [==============================] - 0s 0us/step\n",
            "Epoch 1/100\n",
            "329/329 [==============================] - 348s 994ms/step - loss: 0.5957 - auc: 0.7560 - accuracy: 0.6868 - val_loss: 0.5507 - val_auc: 0.4165 - val_accuracy: 0.8146\n",
            "Epoch 2/100\n",
            "329/329 [==============================] - 328s 996ms/step - loss: 0.4797 - auc: 0.8499 - accuracy: 0.7878 - val_loss: 0.4367 - val_auc: 0.7314 - val_accuracy: 0.8574\n",
            "Epoch 3/100\n",
            "329/329 [==============================] - 329s 997ms/step - loss: 0.4391 - auc: 0.8742 - accuracy: 0.8240 - val_loss: 0.5694 - val_auc: 0.8677 - val_accuracy: 0.7782\n",
            "Epoch 4/100\n",
            "329/329 [==============================] - 329s 997ms/step - loss: 0.4031 - auc: 0.8941 - accuracy: 0.8478 - val_loss: 0.3742 - val_auc: 0.9042 - val_accuracy: 0.8787\n",
            "Epoch 5/100\n",
            "329/329 [==============================] - 329s 999ms/step - loss: 0.3837 - auc: 0.9041 - accuracy: 0.8596 - val_loss: 0.3126 - val_auc: 0.9113 - val_accuracy: 0.8988\n",
            "Epoch 6/100\n",
            "329/329 [==============================] - 329s 999ms/step - loss: 0.3608 - auc: 0.9164 - accuracy: 0.8720 - val_loss: 0.3194 - val_auc: 0.9136 - val_accuracy: 0.8977\n",
            "Epoch 7/100\n",
            "329/329 [==============================] - 330s 1s/step - loss: 0.3427 - auc: 0.9249 - accuracy: 0.8780 - val_loss: 0.2856 - val_auc: 0.9103 - val_accuracy: 0.9075\n",
            "Epoch 8/100\n",
            "329/329 [==============================] - 329s 998ms/step - loss: 0.3230 - auc: 0.9323 - accuracy: 0.8890 - val_loss: 0.3113 - val_auc: 0.9195 - val_accuracy: 0.8988\n",
            "Epoch 9/100\n",
            "329/329 [==============================] - 331s 1s/step - loss: 0.3129 - auc: 0.9366 - accuracy: 0.8940 - val_loss: 0.2719 - val_auc: 0.9143 - val_accuracy: 0.9140\n",
            "Epoch 10/100\n",
            "329/329 [==============================] - 330s 1s/step - loss: 0.2972 - auc: 0.9436 - accuracy: 0.8984 - val_loss: 0.2823 - val_auc: 0.9145 - val_accuracy: 0.9102\n",
            "Epoch 11/100\n",
            "329/329 [==============================] - 330s 1s/step - loss: 0.2852 - auc: 0.9478 - accuracy: 0.9047 - val_loss: 0.2800 - val_auc: 0.9148 - val_accuracy: 0.9128\n",
            "Epoch 12/100\n",
            "329/329 [==============================] - 330s 1s/step - loss: 0.2746 - auc: 0.9515 - accuracy: 0.9089 - val_loss: 0.2915 - val_auc: 0.9123 - val_accuracy: 0.9086\n",
            "Epoch 13/100\n",
            "329/329 [==============================] - ETA: 0s - loss: 0.2612 - auc: 0.9560 - accuracy: 0.9142Restoring model weights from the end of the best epoch: 8.\n",
            "329/329 [==============================] - 329s 997ms/step - loss: 0.2612 - auc: 0.9560 - accuracy: 0.9142 - val_loss: 0.3353 - val_auc: 0.9155 - val_accuracy: 0.8887\n",
            "Epoch 13: early stopping\n",
            "Found 3500 files belonging to 2 classes.\n",
            "55/55 [==============================] - 17s 284ms/step - loss: 0.3086 - auc: 0.9184 - accuracy: 0.8949\n",
            "[0.3086126446723938, 0.9183881878852844, 0.8948571681976318]\n"
          ]
        }
      ],
      "source": [
        "i = 4\n",
        "load_train_dir(i)\n",
        "model = train_model(w0, w1)\n",
        "print( test_model(model, \"/content/jpg_k\"+str(i)))"
      ]
    },
    {
      "cell_type": "code",
      "execution_count": null,
      "metadata": {
        "id": "e8yFDOnEWbrI"
      },
      "outputs": [],
      "source": [
        "clear_train_dir()"
      ]
    },
    {
      "cell_type": "markdown",
      "metadata": {
        "id": "Eth8nX_mWbrI"
      },
      "source": [
        "####k5"
      ]
    },
    {
      "cell_type": "code",
      "execution_count": null,
      "metadata": {
        "colab": {
          "base_uri": "https://localhost:8080/"
        },
        "id": "SFD0ZG9rWbrI",
        "outputId": "3c8ef34b-33d6-42c5-bcff-c16b44b0a989"
      },
      "outputs": [
        {
          "name": "stdout",
          "output_type": "stream",
          "text": [
            "Found 31499 files belonging to 2 classes.\n",
            "Using 21000 files for training.\n",
            "Found 31499 files belonging to 2 classes.\n",
            "Using 10499 files for validation.\n",
            "Downloading data from https://storage.googleapis.com/tensorflow/keras-applications/resnet/resnet50_weights_tf_dim_ordering_tf_kernels_notop.h5\n",
            "94765736/94765736 [==============================] - 1s 0us/step\n",
            "Epoch 1/100\n",
            "329/329 [==============================] - 333s 953ms/step - loss: 0.5848 - auc: 0.7653 - accuracy: 0.6956 - val_loss: 0.4149 - val_auc: 0.4654 - val_accuracy: 0.8600\n",
            "Epoch 2/100\n",
            "329/329 [==============================] - 314s 953ms/step - loss: 0.4612 - auc: 0.8621 - accuracy: 0.8080 - val_loss: 0.3547 - val_auc: 0.7360 - val_accuracy: 0.8663\n",
            "Epoch 3/100\n",
            "329/329 [==============================] - 315s 956ms/step - loss: 0.4264 - auc: 0.8823 - accuracy: 0.8322 - val_loss: 0.4725 - val_auc: 0.8632 - val_accuracy: 0.8058\n",
            "Epoch 4/100\n",
            "329/329 [==============================] - 315s 957ms/step - loss: 0.3903 - auc: 0.9012 - accuracy: 0.8521 - val_loss: 0.3222 - val_auc: 0.8978 - val_accuracy: 0.8864\n",
            "Epoch 5/100\n",
            "329/329 [==============================] - 314s 952ms/step - loss: 0.3697 - auc: 0.9125 - accuracy: 0.8651 - val_loss: 0.2785 - val_auc: 0.8958 - val_accuracy: 0.9061\n",
            "Epoch 6/100\n",
            "329/329 [==============================] - 314s 953ms/step - loss: 0.3545 - auc: 0.9197 - accuracy: 0.8730 - val_loss: 0.2902 - val_auc: 0.9078 - val_accuracy: 0.8988\n",
            "Epoch 7/100\n",
            "329/329 [==============================] - 314s 953ms/step - loss: 0.3325 - auc: 0.9291 - accuracy: 0.8811 - val_loss: 0.3123 - val_auc: 0.9112 - val_accuracy: 0.8870\n",
            "Epoch 8/100\n",
            "329/329 [==============================] - 314s 952ms/step - loss: 0.3236 - auc: 0.9326 - accuracy: 0.8878 - val_loss: 0.2859 - val_auc: 0.9082 - val_accuracy: 0.8970\n",
            "Epoch 9/100\n",
            "329/329 [==============================] - 313s 950ms/step - loss: 0.3049 - auc: 0.9405 - accuracy: 0.8938 - val_loss: 0.2723 - val_auc: 0.9064 - val_accuracy: 0.9078\n",
            "Epoch 10/100\n",
            "329/329 [==============================] - 314s 951ms/step - loss: 0.2902 - auc: 0.9464 - accuracy: 0.8992 - val_loss: 0.2732 - val_auc: 0.9172 - val_accuracy: 0.9066\n",
            "Epoch 11/100\n",
            "329/329 [==============================] - 313s 950ms/step - loss: 0.2756 - auc: 0.9513 - accuracy: 0.9062 - val_loss: 0.2509 - val_auc: 0.9137 - val_accuracy: 0.9174\n",
            "Epoch 12/100\n",
            "329/329 [==============================] - 313s 951ms/step - loss: 0.2710 - auc: 0.9529 - accuracy: 0.9065 - val_loss: 0.2683 - val_auc: 0.9175 - val_accuracy: 0.9068\n",
            "Epoch 13/100\n",
            "329/329 [==============================] - 314s 952ms/step - loss: 0.2606 - auc: 0.9565 - accuracy: 0.9089 - val_loss: 0.2395 - val_auc: 0.9117 - val_accuracy: 0.9201\n",
            "Epoch 14/100\n",
            "329/329 [==============================] - 313s 951ms/step - loss: 0.2537 - auc: 0.9588 - accuracy: 0.9145 - val_loss: 0.2759 - val_auc: 0.9161 - val_accuracy: 0.9057\n",
            "Epoch 15/100\n",
            "329/329 [==============================] - 313s 951ms/step - loss: 0.2457 - auc: 0.9609 - accuracy: 0.9190 - val_loss: 0.2620 - val_auc: 0.9158 - val_accuracy: 0.9160\n",
            "Epoch 16/100\n",
            "329/329 [==============================] - 314s 951ms/step - loss: 0.2314 - auc: 0.9653 - accuracy: 0.9226 - val_loss: 0.2651 - val_auc: 0.9177 - val_accuracy: 0.9143\n",
            "Epoch 17/100\n",
            "329/329 [==============================] - 314s 952ms/step - loss: 0.2239 - auc: 0.9669 - accuracy: 0.9260 - val_loss: 0.2627 - val_auc: 0.9097 - val_accuracy: 0.9174\n",
            "Epoch 18/100\n",
            "329/329 [==============================] - 313s 951ms/step - loss: 0.2229 - auc: 0.9678 - accuracy: 0.9285 - val_loss: 0.2435 - val_auc: 0.9162 - val_accuracy: 0.9192\n",
            "Epoch 19/100\n",
            "329/329 [==============================] - 314s 953ms/step - loss: 0.2087 - auc: 0.9716 - accuracy: 0.9343 - val_loss: 0.3130 - val_auc: 0.9183 - val_accuracy: 0.8971\n",
            "Epoch 20/100\n",
            "329/329 [==============================] - 313s 951ms/step - loss: 0.2048 - auc: 0.9724 - accuracy: 0.9349 - val_loss: 0.2734 - val_auc: 0.9170 - val_accuracy: 0.9128\n",
            "Epoch 21/100\n",
            "329/329 [==============================] - 314s 954ms/step - loss: 0.1997 - auc: 0.9737 - accuracy: 0.9377 - val_loss: 0.2857 - val_auc: 0.9117 - val_accuracy: 0.9142\n",
            "Epoch 22/100\n",
            "329/329 [==============================] - 314s 953ms/step - loss: 0.1965 - auc: 0.9740 - accuracy: 0.9403 - val_loss: 0.3240 - val_auc: 0.9157 - val_accuracy: 0.9055\n",
            "Epoch 23/100\n",
            "329/329 [==============================] - 314s 952ms/step - loss: 0.1823 - auc: 0.9781 - accuracy: 0.9450 - val_loss: 0.3005 - val_auc: 0.8979 - val_accuracy: 0.9222\n",
            "Epoch 24/100\n",
            "329/329 [==============================] - ETA: 0s - loss: 0.2013 - auc: 0.9733 - accuracy: 0.9387Restoring model weights from the end of the best epoch: 19.\n",
            "329/329 [==============================] - 314s 953ms/step - loss: 0.2013 - auc: 0.9733 - accuracy: 0.9387 - val_loss: 0.2805 - val_auc: 0.9131 - val_accuracy: 0.9184\n",
            "Epoch 24: early stopping\n",
            "Found 3500 files belonging to 2 classes.\n",
            "55/55 [==============================] - 15s 264ms/step - loss: 0.3469 - auc: 0.9028 - accuracy: 0.8837\n",
            "[0.34689968824386597, 0.9028427004814148, 0.8837142586708069]\n"
          ]
        }
      ],
      "source": [
        "i = 5\n",
        "load_train_dir(i)\n",
        "model = train_model(w0, w1)\n",
        "print( test_model(model, \"/content/jpg_k\"+str(i)))"
      ]
    },
    {
      "cell_type": "code",
      "execution_count": null,
      "metadata": {
        "id": "L7FlZBvtWbrI"
      },
      "outputs": [],
      "source": [
        "clear_train_dir()"
      ]
    },
    {
      "cell_type": "markdown",
      "metadata": {
        "id": "HNgjSKV-WbrI"
      },
      "source": [
        "####k6"
      ]
    },
    {
      "cell_type": "code",
      "execution_count": null,
      "metadata": {
        "colab": {
          "base_uri": "https://localhost:8080/"
        },
        "id": "YwaGhPyNWbrI",
        "outputId": "22331e51-011b-442b-83cf-40c4521be461"
      },
      "outputs": [
        {
          "name": "stdout",
          "output_type": "stream",
          "text": [
            "Found 31499 files belonging to 2 classes.\n",
            "Using 21000 files for training.\n",
            "Found 31499 files belonging to 2 classes.\n",
            "Using 10499 files for validation.\n",
            "Downloading data from https://storage.googleapis.com/tensorflow/keras-applications/resnet/resnet50_weights_tf_dim_ordering_tf_kernels_notop.h5\n",
            "94765736/94765736 [==============================] - 0s 0us/step\n",
            "Epoch 1/100\n",
            "329/329 [==============================] - 336s 965ms/step - loss: 0.5999 - auc: 0.7522 - accuracy: 0.6812 - val_loss: 0.5080 - val_auc: 0.5207 - val_accuracy: 0.7153\n",
            "Epoch 2/100\n",
            "329/329 [==============================] - 318s 966ms/step - loss: 0.4771 - auc: 0.8498 - accuracy: 0.7987 - val_loss: 0.4353 - val_auc: 0.6357 - val_accuracy: 0.8608\n",
            "Epoch 3/100\n",
            "329/329 [==============================] - 318s 966ms/step - loss: 0.4334 - auc: 0.8774 - accuracy: 0.8321 - val_loss: 0.6357 - val_auc: 0.8455 - val_accuracy: 0.7489\n",
            "Epoch 4/100\n",
            "329/329 [==============================] - 319s 967ms/step - loss: 0.3988 - auc: 0.8961 - accuracy: 0.8512 - val_loss: 0.4011 - val_auc: 0.8900 - val_accuracy: 0.8593\n",
            "Epoch 5/100\n",
            "329/329 [==============================] - 318s 964ms/step - loss: 0.3739 - auc: 0.9090 - accuracy: 0.8640 - val_loss: 0.3395 - val_auc: 0.8817 - val_accuracy: 0.8852\n",
            "Epoch 6/100\n",
            "329/329 [==============================] - 358s 1s/step - loss: 0.3554 - auc: 0.9189 - accuracy: 0.8732 - val_loss: 0.3153 - val_auc: 0.8891 - val_accuracy: 0.8947\n",
            "Epoch 7/100\n",
            "329/329 [==============================] - 318s 964ms/step - loss: 0.3336 - auc: 0.9297 - accuracy: 0.8817 - val_loss: 0.3220 - val_auc: 0.9032 - val_accuracy: 0.8891\n",
            "Epoch 8/100\n",
            "329/329 [==============================] - 318s 965ms/step - loss: 0.3248 - auc: 0.9322 - accuracy: 0.8863 - val_loss: 0.2980 - val_auc: 0.9055 - val_accuracy: 0.8939\n",
            "Epoch 9/100\n",
            "329/329 [==============================] - 318s 964ms/step - loss: 0.3061 - auc: 0.9396 - accuracy: 0.8946 - val_loss: 0.2922 - val_auc: 0.9020 - val_accuracy: 0.8977\n",
            "Epoch 10/100\n",
            "329/329 [==============================] - 357s 1s/step - loss: 0.2930 - auc: 0.9447 - accuracy: 0.9004 - val_loss: 0.3068 - val_auc: 0.9036 - val_accuracy: 0.8934\n",
            "Epoch 11/100\n",
            "329/329 [==============================] - 318s 963ms/step - loss: 0.2845 - auc: 0.9480 - accuracy: 0.9022 - val_loss: 0.2959 - val_auc: 0.9054 - val_accuracy: 0.8976\n",
            "Epoch 12/100\n",
            "329/329 [==============================] - 358s 1s/step - loss: 0.2695 - auc: 0.9529 - accuracy: 0.9105 - val_loss: 0.2870 - val_auc: 0.8993 - val_accuracy: 0.9095\n",
            "Epoch 13/100\n",
            "329/329 [==============================] - ETA: 0s - loss: 0.2627 - auc: 0.9547 - accuracy: 0.9113Restoring model weights from the end of the best epoch: 8.\n",
            "329/329 [==============================] - 318s 965ms/step - loss: 0.2627 - auc: 0.9547 - accuracy: 0.9113 - val_loss: 0.3167 - val_auc: 0.8929 - val_accuracy: 0.8929\n",
            "Epoch 13: early stopping\n",
            "Found 3500 files belonging to 2 classes.\n",
            "55/55 [==============================] - 16s 274ms/step - loss: 0.3087 - auc: 0.9031 - accuracy: 0.8937\n",
            "[0.3086937665939331, 0.9030872583389282, 0.8937143087387085]\n"
          ]
        }
      ],
      "source": [
        "i = 6\n",
        "load_train_dir(i)\n",
        "model = train_model(w0, w1)\n",
        "print( test_model(model, \"/content/jpg_k\"+str(i)))"
      ]
    },
    {
      "cell_type": "code",
      "execution_count": null,
      "metadata": {
        "id": "BSdk_9zAWbrI"
      },
      "outputs": [],
      "source": [
        "clear_train_dir()"
      ]
    },
    {
      "cell_type": "markdown",
      "metadata": {
        "id": "q9jjgt6uWbrI"
      },
      "source": [
        "####k7"
      ]
    },
    {
      "cell_type": "code",
      "execution_count": null,
      "metadata": {
        "colab": {
          "base_uri": "https://localhost:8080/"
        },
        "id": "haWJdmCzWbrI",
        "outputId": "86a562b9-28aa-4bab-cfd6-1459aa9a251f"
      },
      "outputs": [
        {
          "name": "stdout",
          "output_type": "stream",
          "text": [
            "Found 31499 files belonging to 2 classes.\n",
            "Using 21000 files for training.\n",
            "Found 31499 files belonging to 2 classes.\n",
            "Using 10499 files for validation.\n",
            "Epoch 1/100\n",
            "329/329 [==============================] - 326s 968ms/step - loss: 0.5844 - auc: 0.7677 - accuracy: 0.6956 - val_loss: 0.4470 - val_auc: 0.4491 - val_accuracy: 0.8596\n",
            "Epoch 2/100\n",
            "329/329 [==============================] - 318s 966ms/step - loss: 0.4665 - auc: 0.8577 - accuracy: 0.8059 - val_loss: 0.4395 - val_auc: 0.7007 - val_accuracy: 0.8423\n",
            "Epoch 3/100\n",
            "329/329 [==============================] - 318s 964ms/step - loss: 0.4211 - auc: 0.8837 - accuracy: 0.8372 - val_loss: 0.5903 - val_auc: 0.8490 - val_accuracy: 0.7536\n",
            "Epoch 4/100\n",
            "329/329 [==============================] - 318s 964ms/step - loss: 0.3948 - auc: 0.8991 - accuracy: 0.8535 - val_loss: 0.4346 - val_auc: 0.8961 - val_accuracy: 0.8436\n",
            "Epoch 5/100\n",
            "329/329 [==============================] - 318s 964ms/step - loss: 0.3705 - auc: 0.9111 - accuracy: 0.8638 - val_loss: 0.3415 - val_auc: 0.8963 - val_accuracy: 0.8820\n",
            "Epoch 6/100\n",
            "329/329 [==============================] - 318s 963ms/step - loss: 0.3532 - auc: 0.9199 - accuracy: 0.8746 - val_loss: 0.3206 - val_auc: 0.8960 - val_accuracy: 0.8916\n",
            "Epoch 7/100\n",
            "329/329 [==============================] - 318s 963ms/step - loss: 0.3376 - auc: 0.9265 - accuracy: 0.8829 - val_loss: 0.4511 - val_auc: 0.8997 - val_accuracy: 0.8287\n",
            "Epoch 8/100\n",
            "329/329 [==============================] - 317s 963ms/step - loss: 0.3208 - auc: 0.9346 - accuracy: 0.8908 - val_loss: 0.2828 - val_auc: 0.8953 - val_accuracy: 0.9099\n",
            "Epoch 9/100\n",
            "329/329 [==============================] - 318s 964ms/step - loss: 0.3064 - auc: 0.9403 - accuracy: 0.8956 - val_loss: 0.3184 - val_auc: 0.9028 - val_accuracy: 0.8941\n",
            "Epoch 10/100\n",
            "329/329 [==============================] - 318s 964ms/step - loss: 0.2907 - auc: 0.9466 - accuracy: 0.9010 - val_loss: 0.4022 - val_auc: 0.9000 - val_accuracy: 0.8549\n",
            "Epoch 11/100\n",
            "329/329 [==============================] - 319s 966ms/step - loss: 0.2808 - auc: 0.9497 - accuracy: 0.9021 - val_loss: 0.3489 - val_auc: 0.9089 - val_accuracy: 0.8799\n",
            "Epoch 12/100\n",
            "329/329 [==============================] - 317s 963ms/step - loss: 0.2695 - auc: 0.9541 - accuracy: 0.9080 - val_loss: 0.3267 - val_auc: 0.9083 - val_accuracy: 0.8942\n",
            "Epoch 13/100\n",
            "329/329 [==============================] - 317s 963ms/step - loss: 0.2634 - auc: 0.9557 - accuracy: 0.9104 - val_loss: 0.2966 - val_auc: 0.8955 - val_accuracy: 0.9084\n",
            "Epoch 14/100\n",
            "329/329 [==============================] - 358s 1s/step - loss: 0.2501 - auc: 0.9604 - accuracy: 0.9172 - val_loss: 0.3074 - val_auc: 0.9064 - val_accuracy: 0.9027\n",
            "Epoch 15/100\n",
            "329/329 [==============================] - 318s 963ms/step - loss: 0.2497 - auc: 0.9606 - accuracy: 0.9161 - val_loss: 0.3132 - val_auc: 0.9065 - val_accuracy: 0.9020\n",
            "Epoch 16/100\n",
            "329/329 [==============================] - ETA: 0s - loss: 0.2359 - auc: 0.9641 - accuracy: 0.9225Restoring model weights from the end of the best epoch: 11.\n",
            "329/329 [==============================] - 318s 965ms/step - loss: 0.2359 - auc: 0.9641 - accuracy: 0.9225 - val_loss: 0.3406 - val_auc: 0.9047 - val_accuracy: 0.8917\n",
            "Epoch 16: early stopping\n",
            "Found 3500 files belonging to 2 classes.\n",
            "55/55 [==============================] - 15s 250ms/step - loss: 0.3463 - auc: 0.9172 - accuracy: 0.8806\n",
            "[0.3462643027305603, 0.9172253012657166, 0.8805714249610901]\n"
          ]
        }
      ],
      "source": [
        "i = 7\n",
        "load_train_dir(i)\n",
        "model = train_model(w0, w1)\n",
        "print( test_model(model, \"/content/jpg_k\"+str(i)))"
      ]
    },
    {
      "cell_type": "code",
      "execution_count": null,
      "metadata": {
        "id": "aqnGE_Z9WbrI"
      },
      "outputs": [],
      "source": [
        "clear_train_dir()"
      ]
    },
    {
      "cell_type": "markdown",
      "metadata": {
        "id": "M4R-46QyWbrI"
      },
      "source": [
        "####k8"
      ]
    },
    {
      "cell_type": "code",
      "execution_count": null,
      "metadata": {
        "colab": {
          "base_uri": "https://localhost:8080/"
        },
        "id": "LCZLSwvJWbrI",
        "outputId": "413ed75d-f3bc-4047-af2d-d1e2df1dee14"
      },
      "outputs": [
        {
          "name": "stdout",
          "output_type": "stream",
          "text": [
            "Found 31499 files belonging to 2 classes.\n",
            "Using 21000 files for training.\n",
            "Found 31499 files belonging to 2 classes.\n",
            "Using 10499 files for validation.\n",
            "Downloading data from https://storage.googleapis.com/tensorflow/keras-applications/resnet/resnet50_weights_tf_dim_ordering_tf_kernels_notop.h5\n",
            "94765736/94765736 [==============================] - 0s 0us/step\n",
            "Epoch 1/100\n",
            "329/329 [==============================] - 334s 956ms/step - loss: 0.5767 - auc: 0.7724 - accuracy: 0.6985 - val_loss: 0.4451 - val_auc: 0.4385 - val_accuracy: 0.8600\n",
            "Epoch 2/100\n",
            "329/329 [==============================] - 320s 971ms/step - loss: 0.4593 - auc: 0.8632 - accuracy: 0.8117 - val_loss: 0.4165 - val_auc: 0.6126 - val_accuracy: 0.8562\n",
            "Epoch 3/100\n",
            "329/329 [==============================] - 321s 974ms/step - loss: 0.4205 - auc: 0.8848 - accuracy: 0.8374 - val_loss: 0.7248 - val_auc: 0.8538 - val_accuracy: 0.7141\n",
            "Epoch 4/100\n",
            "329/329 [==============================] - 361s 1s/step - loss: 0.3915 - auc: 0.9011 - accuracy: 0.8536 - val_loss: 0.3379 - val_auc: 0.8964 - val_accuracy: 0.8785\n",
            "Epoch 5/100\n",
            "329/329 [==============================] - 319s 966ms/step - loss: 0.3701 - auc: 0.9110 - accuracy: 0.8639 - val_loss: 0.3155 - val_auc: 0.9033 - val_accuracy: 0.8899\n",
            "Epoch 6/100\n",
            "329/329 [==============================] - 362s 1s/step - loss: 0.3492 - auc: 0.9209 - accuracy: 0.8722 - val_loss: 0.3226 - val_auc: 0.9020 - val_accuracy: 0.8868\n",
            "Epoch 7/100\n",
            "329/329 [==============================] - 322s 977ms/step - loss: 0.3296 - auc: 0.9303 - accuracy: 0.8841 - val_loss: 0.2993 - val_auc: 0.9068 - val_accuracy: 0.8999\n",
            "Epoch 8/100\n",
            "329/329 [==============================] - 323s 980ms/step - loss: 0.3190 - auc: 0.9348 - accuracy: 0.8880 - val_loss: 0.3021 - val_auc: 0.9139 - val_accuracy: 0.8966\n",
            "Epoch 9/100\n",
            "329/329 [==============================] - 361s 1s/step - loss: 0.3054 - auc: 0.9401 - accuracy: 0.8929 - val_loss: 0.3598 - val_auc: 0.9128 - val_accuracy: 0.8673\n",
            "Epoch 10/100\n",
            "329/329 [==============================] - 322s 978ms/step - loss: 0.2928 - auc: 0.9451 - accuracy: 0.8979 - val_loss: 0.3127 - val_auc: 0.9100 - val_accuracy: 0.8951\n",
            "Epoch 11/100\n",
            "329/329 [==============================] - 322s 976ms/step - loss: 0.2840 - auc: 0.9484 - accuracy: 0.9033 - val_loss: 0.2824 - val_auc: 0.9126 - val_accuracy: 0.9045\n",
            "Epoch 12/100\n",
            "329/329 [==============================] - 322s 977ms/step - loss: 0.2695 - auc: 0.9531 - accuracy: 0.9060 - val_loss: 0.2730 - val_auc: 0.9095 - val_accuracy: 0.9102\n",
            "Epoch 13/100\n",
            "329/329 [==============================] - ETA: 0s - loss: 0.2614 - auc: 0.9553 - accuracy: 0.9106Restoring model weights from the end of the best epoch: 8.\n",
            "329/329 [==============================] - 322s 977ms/step - loss: 0.2614 - auc: 0.9553 - accuracy: 0.9106 - val_loss: 0.2816 - val_auc: 0.9109 - val_accuracy: 0.9101\n",
            "Epoch 13: early stopping\n",
            "Found 3500 files belonging to 2 classes.\n",
            "55/55 [==============================] - 16s 276ms/step - loss: 0.3079 - auc: 0.9163 - accuracy: 0.8911\n",
            "[0.30788880586624146, 0.9163179397583008, 0.8911428451538086]\n"
          ]
        }
      ],
      "source": [
        "i = 8\n",
        "load_train_dir(i)\n",
        "model = train_model(w0, w1)\n",
        "print( test_model(model, \"/content/jpg_k\"+str(i)))"
      ]
    },
    {
      "cell_type": "code",
      "execution_count": null,
      "metadata": {
        "id": "lnt3AAQKWbrI"
      },
      "outputs": [],
      "source": [
        "clear_train_dir()"
      ]
    },
    {
      "cell_type": "markdown",
      "metadata": {
        "id": "xl9TtfnEWbrJ"
      },
      "source": [
        "####k9"
      ]
    },
    {
      "cell_type": "code",
      "execution_count": null,
      "metadata": {
        "colab": {
          "base_uri": "https://localhost:8080/"
        },
        "id": "L-RbevBuWbrJ",
        "outputId": "81ad9042-7bd3-42a7-ada0-505b20cf0301"
      },
      "outputs": [
        {
          "name": "stdout",
          "output_type": "stream",
          "text": [
            "Found 31500 files belonging to 2 classes.\n",
            "Using 21000 files for training.\n",
            "Found 31500 files belonging to 2 classes.\n",
            "Using 10500 files for validation.\n",
            "Epoch 1/100\n",
            "329/329 [==============================] - 330s 981ms/step - loss: 0.5867 - auc: 0.7630 - accuracy: 0.6955 - val_loss: 0.4120 - val_auc: 0.5452 - val_accuracy: 0.8588\n",
            "Epoch 2/100\n",
            "329/329 [==============================] - 321s 975ms/step - loss: 0.4713 - auc: 0.8544 - accuracy: 0.7965 - val_loss: 0.3956 - val_auc: 0.6595 - val_accuracy: 0.8593\n",
            "Epoch 3/100\n",
            "329/329 [==============================] - 322s 976ms/step - loss: 0.4263 - auc: 0.8802 - accuracy: 0.8253 - val_loss: 0.4989 - val_auc: 0.8595 - val_accuracy: 0.8045\n",
            "Epoch 4/100\n",
            "329/329 [==============================] - 362s 1s/step - loss: 0.3943 - auc: 0.8994 - accuracy: 0.8524 - val_loss: 0.3457 - val_auc: 0.8918 - val_accuracy: 0.8827\n",
            "Epoch 5/100\n",
            "329/329 [==============================] - 362s 1s/step - loss: 0.3756 - auc: 0.9085 - accuracy: 0.8623 - val_loss: 0.3464 - val_auc: 0.9030 - val_accuracy: 0.8744\n",
            "Epoch 6/100\n",
            "329/329 [==============================] - 322s 977ms/step - loss: 0.3603 - auc: 0.9148 - accuracy: 0.8707 - val_loss: 0.3017 - val_auc: 0.9030 - val_accuracy: 0.8998\n",
            "Epoch 7/100\n",
            "329/329 [==============================] - 322s 976ms/step - loss: 0.3413 - auc: 0.9243 - accuracy: 0.8796 - val_loss: 0.3050 - val_auc: 0.9072 - val_accuracy: 0.8967\n",
            "Epoch 8/100\n",
            "329/329 [==============================] - 321s 974ms/step - loss: 0.3272 - auc: 0.9312 - accuracy: 0.8828 - val_loss: 0.2989 - val_auc: 0.9100 - val_accuracy: 0.9019\n",
            "Epoch 9/100\n",
            "329/329 [==============================] - 321s 975ms/step - loss: 0.3120 - auc: 0.9377 - accuracy: 0.8908 - val_loss: 0.2792 - val_auc: 0.9053 - val_accuracy: 0.9128\n",
            "Epoch 10/100\n",
            "329/329 [==============================] - 321s 975ms/step - loss: 0.2964 - auc: 0.9440 - accuracy: 0.8956 - val_loss: 0.2862 - val_auc: 0.9086 - val_accuracy: 0.9052\n",
            "Epoch 11/100\n",
            "329/329 [==============================] - 321s 975ms/step - loss: 0.2856 - auc: 0.9476 - accuracy: 0.9008 - val_loss: 0.2637 - val_auc: 0.9108 - val_accuracy: 0.9160\n",
            "Epoch 12/100\n",
            "329/329 [==============================] - 321s 974ms/step - loss: 0.2788 - auc: 0.9501 - accuracy: 0.9024 - val_loss: 0.2816 - val_auc: 0.9088 - val_accuracy: 0.9077\n",
            "Epoch 13/100\n",
            "329/329 [==============================] - 321s 975ms/step - loss: 0.2629 - auc: 0.9552 - accuracy: 0.9100 - val_loss: 0.2710 - val_auc: 0.9074 - val_accuracy: 0.9193\n",
            "Epoch 14/100\n",
            "329/329 [==============================] - 361s 1s/step - loss: 0.2586 - auc: 0.9571 - accuracy: 0.9108 - val_loss: 0.2765 - val_auc: 0.9043 - val_accuracy: 0.9178\n",
            "Epoch 15/100\n",
            "329/329 [==============================] - 322s 976ms/step - loss: 0.2467 - auc: 0.9602 - accuracy: 0.9170 - val_loss: 0.3278 - val_auc: 0.9133 - val_accuracy: 0.8931\n",
            "Epoch 16/100\n",
            "329/329 [==============================] - 321s 974ms/step - loss: 0.2362 - auc: 0.9638 - accuracy: 0.9205 - val_loss: 0.2779 - val_auc: 0.9019 - val_accuracy: 0.9202\n",
            "Epoch 17/100\n",
            "329/329 [==============================] - 321s 975ms/step - loss: 0.2303 - auc: 0.9647 - accuracy: 0.9240 - val_loss: 0.2973 - val_auc: 0.9076 - val_accuracy: 0.9148\n",
            "Epoch 18/100\n",
            "329/329 [==============================] - 322s 975ms/step - loss: 0.2210 - auc: 0.9680 - accuracy: 0.9261 - val_loss: 0.2907 - val_auc: 0.9039 - val_accuracy: 0.9215\n",
            "Epoch 19/100\n",
            "329/329 [==============================] - 321s 974ms/step - loss: 0.2156 - auc: 0.9691 - accuracy: 0.9303 - val_loss: 0.2932 - val_auc: 0.9034 - val_accuracy: 0.9180\n",
            "Epoch 20/100\n",
            "329/329 [==============================] - ETA: 0s - loss: 0.2045 - auc: 0.9713 - accuracy: 0.9355Restoring model weights from the end of the best epoch: 15.\n",
            "329/329 [==============================] - 321s 973ms/step - loss: 0.2045 - auc: 0.9713 - accuracy: 0.9355 - val_loss: 0.3089 - val_auc: 0.9033 - val_accuracy: 0.9176\n",
            "Epoch 20: early stopping\n",
            "Found 3499 files belonging to 2 classes.\n",
            "55/55 [==============================] - 16s 274ms/step - loss: 0.3205 - auc: 0.9143 - accuracy: 0.8903\n",
            "[0.3205055296421051, 0.9142566323280334, 0.8902543783187866]\n"
          ]
        }
      ],
      "source": [
        "i = 9\n",
        "load_train_dir(i)\n",
        "model = train_model(w0, w1)\n",
        "print( test_model(model, \"/content/jpg_k\"+str(i)))"
      ]
    },
    {
      "cell_type": "code",
      "execution_count": null,
      "metadata": {
        "id": "qa7CY_gGWbrJ"
      },
      "outputs": [],
      "source": [
        "clear_train_dir()"
      ]
    },
    {
      "cell_type": "markdown",
      "metadata": {
        "id": "syhQYN1xtyJj"
      },
      "source": [
        "### Baseline: WO/ Tranfered Learning & W/ Data Aug"
      ]
    },
    {
      "cell_type": "code",
      "execution_count": 13,
      "metadata": {
        "id": "FafaWibytyJj"
      },
      "outputs": [],
      "source": [
        "from keras.layers import RandomFlip, RandomRotation, RandomCrop"
      ]
    },
    {
      "cell_type": "markdown",
      "metadata": {
        "id": "XrNOxeyHtyJj"
      },
      "source": [
        "#### Declarações"
      ]
    },
    {
      "cell_type": "code",
      "execution_count": 14,
      "metadata": {
        "id": "SA77ntHotyJj"
      },
      "outputs": [],
      "source": [
        "def clear_train_dir():\n",
        "  for file in os.listdir(\"/content/train/yes/\"):\n",
        "    os.remove(\"/content/train/yes/\" + file)\n",
        "\n",
        "  for file in os.listdir(\"/content/train/no/\"):\n",
        "    os.remove(\"/content/train/no/\" + file)"
      ]
    },
    {
      "cell_type": "code",
      "execution_count": 15,
      "metadata": {
        "id": "cSuCHjJMtyJj"
      },
      "outputs": [],
      "source": [
        "def load_train_dir(ki):\n",
        "  k = [0,1,2,3,4,5,6,7,8,9]\n",
        "  for i in range(10):\n",
        "    if i!= k[ki]:\n",
        "      yesdir = \"/content/jpg_k\"+str(i)+\"/yes/\"\n",
        "      nodir = \"/content/jpg_k\"+str(i)+\"/no/\"\n",
        "      for file in os.listdir(yesdir):\n",
        "        shutil.copy(yesdir + file, \"/content/train/yes\")\n",
        "      for file in os.listdir(nodir):\n",
        "        shutil.copy(nodir + file, \"/content/train/no\")"
      ]
    },
    {
      "cell_type": "code",
      "execution_count": 16,
      "metadata": {
        "id": "lF_0GkrStyJj"
      },
      "outputs": [],
      "source": [
        "def train_model(w0, w1):\n",
        "    train_data = image_dataset_from_directory(\n",
        "      (\"/content/train\"),\n",
        "      labels='inferred',\n",
        "      validation_split=1/3,\n",
        "      subset=\"training\",\n",
        "      seed=123,\n",
        "      batch_size = 64,\n",
        "      color_mode = \"rgb\"\n",
        "    )\n",
        "  \n",
        "    val_data = image_dataset_from_directory(\n",
        "      \"/content/train\",\n",
        "      labels='inferred',\n",
        "      validation_split=1/3,\n",
        "      subset=\"validation\",\n",
        "      seed=123,\n",
        "      batch_size = 64,\n",
        "      color_mode = \"rgb\"\n",
        "    )\n",
        "\n",
        "    class_names = train_data.class_names\n",
        "\n",
        "    normalization_layer = Rescaling(1./255)\n",
        "\n",
        "    normalized_data = train_data.map(lambda x, y: (normalization_layer(x), y))\n",
        "    image_batch, labels_batch = next(iter(normalized_data))\n",
        "\n",
        "    normalized_val_data = val_data.map(lambda x, y: (normalization_layer(x), y))\n",
        "    val_image_batch, val_labels_batch = next(iter(normalized_val_data))\n",
        "\n",
        "    keras.backend.clear_session()\n",
        "\n",
        "    resnet_model = Sequential()\n",
        "\n",
        "    resnet_model.add(RandomFlip(\"horizontal\"))\n",
        "    resnet_model.add(RandomRotation(0.2))\n",
        "    resnet_model.add(RandomCrop(256, 256, seed=1)) \n",
        "\n",
        "    resnet = tf.keras.applications.resnet50.ResNet50(\n",
        "        include_top=False,\n",
        "        input_shape=image_batch.shape[1:],\n",
        "        pooling='avg',\n",
        "        weights=None,\n",
        "        classes=2,\n",
        "    )\n",
        "\n",
        "    resnet_model.add(resnet)\n",
        "\n",
        "    resnet_model.add(Flatten())\n",
        "\n",
        "    resnet_model.add(Dense(512, activation=\"relu\"))\n",
        "\n",
        "    resnet_model.add(Dropout(0.5))\n",
        "\n",
        "    resnet_model.add(Dense(1, activation=\"sigmoid\"))\n",
        "\n",
        "    resnet_model.compile(loss='binary_crossentropy', \n",
        "                         optimizer=optimizers.Adam(learning_rate=0.00001),\n",
        "                         metrics=[keras.metrics.AUC(), 'accuracy'])\n",
        "  \n",
        "    run_hist = resnet_model.fit(\n",
        "      normalized_data, \n",
        "      validation_data=normalized_val_data, epochs=100, class_weight={0:w0, 1:w1}, \n",
        "      callbacks=[keras.callbacks.EarlyStopping(\n",
        "                      monitor=\"val_auc\",\n",
        "                      min_delta=0,\n",
        "                      patience=5,\n",
        "                      verbose=1,\n",
        "                      mode=\"auto\",\n",
        "                      baseline=None,\n",
        "                      restore_best_weights=True,\n",
        "                  )]\n",
        "    )\n",
        "\n",
        "    return resnet_model"
      ]
    },
    {
      "cell_type": "code",
      "execution_count": 17,
      "metadata": {
        "id": "V3ALqQyQtyJk"
      },
      "outputs": [],
      "source": [
        "def test_model(resnet_model, test_path):\n",
        "    test_data = image_dataset_from_directory(\n",
        "      test_path,\n",
        "      labels='inferred',\n",
        "      label_mode=\"int\",\n",
        "      batch_size = 64,\n",
        "      color_mode = \"rgb\"\n",
        "    )\n",
        "\n",
        "    normalization_layer = Rescaling(1./255)\n",
        "\n",
        "    normalized_test_data = test_data.map(lambda x, y: (normalization_layer(x), y))\n",
        "    test_image_batch, test_labels_batch = next(iter(normalized_test_data))\n",
        "\n",
        "    results = resnet_model.evaluate(normalized_test_data)\n",
        "    return results"
      ]
    },
    {
      "cell_type": "code",
      "execution_count": 18,
      "metadata": {
        "colab": {
          "base_uri": "https://localhost:8080/"
        },
        "id": "bcsjwOtdtyJk",
        "outputId": "e6b03472-a3c3-4785-e0c2-1a7e3a668718"
      },
      "outputs": [
        {
          "output_type": "stream",
          "name": "stdout",
          "text": [
            "Peso para a classe 0: 0.58\n",
            "Peso para a classe 1: 3.55\n"
          ]
        }
      ],
      "source": [
        "neg = 27062\n",
        "pos = 4437\n",
        "total = pos+neg\n",
        "\n",
        "w0 = (1 / neg) * (total / 2.0)\n",
        "w1 = (1 / pos) * (total / 2.0)\n",
        "\n",
        "print('Peso para a classe 0: {:.2f}'.format(w0))\n",
        "print('Peso para a classe 1: {:.2f}'.format(w1))"
      ]
    },
    {
      "cell_type": "code",
      "execution_count": 19,
      "metadata": {
        "colab": {
          "base_uri": "https://localhost:8080/"
        },
        "id": "LDv39dbbtyJk",
        "outputId": "0876aa4d-e67a-428b-f58d-1a31eb5093f2"
      },
      "outputs": [
        {
          "output_type": "stream",
          "name": "stdout",
          "text": [
            "Numero de imagens: NO\n",
            "0\n",
            "Numero de imagens: YES\n",
            "0\n"
          ]
        }
      ],
      "source": [
        "print('Numero de imagens: NO')\n",
        "!ls /content/train/no | wc -l\n",
        "print('Numero de imagens: YES')\n",
        "!ls /content/train/yes | wc -l"
      ]
    },
    {
      "cell_type": "markdown",
      "metadata": {
        "id": "yeU9ls4XtyJk"
      },
      "source": [
        "#### k0"
      ]
    },
    {
      "cell_type": "code",
      "execution_count": null,
      "metadata": {
        "colab": {
          "base_uri": "https://localhost:8080/"
        },
        "outputId": "43c4e863-5676-4bba-817c-deb85b167036",
        "id": "jRfIDxm_tyJk"
      },
      "outputs": [
        {
          "output_type": "stream",
          "name": "stdout",
          "text": [
            "Found 31499 files belonging to 2 classes.\n",
            "Using 21000 files for training.\n",
            "Found 31499 files belonging to 2 classes.\n",
            "Using 10499 files for validation.\n",
            "Epoch 1/100\n",
            "329/329 [==============================] - 338s 970ms/step - loss: 0.7416 - auc: 0.6241 - accuracy: 0.5732 - val_loss: 1.0299 - val_auc: 0.5323 - val_accuracy: 0.1400\n",
            "Epoch 2/100\n",
            "329/329 [==============================] - 320s 971ms/step - loss: 0.6526 - auc: 0.6887 - accuracy: 0.6120 - val_loss: 0.9591 - val_auc: 0.7250 - val_accuracy: 0.2462\n",
            "Epoch 3/100\n",
            "329/329 [==============================] - 320s 972ms/step - loss: 0.6200 - auc: 0.7206 - accuracy: 0.6353 - val_loss: 0.5859 - val_auc: 0.7441 - val_accuracy: 0.6596\n",
            "Epoch 4/100\n",
            "329/329 [==============================] - 320s 971ms/step - loss: 0.6061 - auc: 0.7332 - accuracy: 0.6454 - val_loss: 0.6021 - val_auc: 0.7517 - val_accuracy: 0.6583\n",
            "Epoch 5/100\n",
            "329/329 [==============================] - 361s 1s/step - loss: 0.5917 - auc: 0.7482 - accuracy: 0.6613 - val_loss: 0.5783 - val_auc: 0.7587 - val_accuracy: 0.6890\n",
            "Epoch 6/100\n",
            "329/329 [==============================] - 320s 972ms/step - loss: 0.5814 - auc: 0.7605 - accuracy: 0.6679 - val_loss: 0.6762 - val_auc: 0.7850 - val_accuracy: 0.6238\n",
            "Epoch 7/100\n",
            "329/329 [==============================] - 320s 970ms/step - loss: 0.5593 - auc: 0.7826 - accuracy: 0.7093 - val_loss: 0.4997 - val_auc: 0.7816 - val_accuracy: 0.7677\n",
            "Epoch 8/100\n",
            "329/329 [==============================] - 320s 971ms/step - loss: 0.5394 - auc: 0.8002 - accuracy: 0.7396 - val_loss: 0.6227 - val_auc: 0.8131 - val_accuracy: 0.6643\n",
            "Epoch 9/100\n",
            "329/329 [==============================] - 320s 969ms/step - loss: 0.5359 - auc: 0.8022 - accuracy: 0.7483 - val_loss: 0.6740 - val_auc: 0.8245 - val_accuracy: 0.6555\n",
            "Epoch 10/100\n",
            "329/329 [==============================] - 319s 969ms/step - loss: 0.5197 - auc: 0.8149 - accuracy: 0.7582 - val_loss: 0.5166 - val_auc: 0.8034 - val_accuracy: 0.7503\n",
            "Epoch 11/100\n",
            "329/329 [==============================] - 320s 971ms/step - loss: 0.5163 - auc: 0.8198 - accuracy: 0.7686 - val_loss: 0.5552 - val_auc: 0.8184 - val_accuracy: 0.7396\n",
            "Epoch 12/100\n",
            "329/329 [==============================] - 320s 970ms/step - loss: 0.5114 - auc: 0.8229 - accuracy: 0.7725 - val_loss: 0.3911 - val_auc: 0.8033 - val_accuracy: 0.8656\n",
            "Epoch 13/100\n",
            "329/329 [==============================] - 320s 970ms/step - loss: 0.5079 - auc: 0.8246 - accuracy: 0.7762 - val_loss: 1.0119 - val_auc: 0.8094 - val_accuracy: 0.6074\n",
            "Epoch 14/100\n",
            "329/329 [==============================] - ETA: 0s - loss: 0.5009 - auc: 0.8307 - accuracy: 0.7846Restoring model weights from the end of the best epoch: 9.\n",
            "329/329 [==============================] - 360s 1s/step - loss: 0.5009 - auc: 0.8307 - accuracy: 0.7846 - val_loss: 1.2094 - val_auc: 0.8004 - val_accuracy: 0.5725\n",
            "Epoch 14: early stopping\n",
            "Found 3500 files belonging to 2 classes.\n",
            "55/55 [==============================] - 15s 268ms/step - loss: 0.6655 - auc: 0.8145 - accuracy: 0.6549\n",
            "[0.6654936671257019, 0.8145483732223511, 0.6548571586608887]\n"
          ]
        }
      ],
      "source": [
        "i = 0\n",
        "load_train_dir(i)\n",
        "model = train_model(w0, w1)\n",
        "print( test_model(model, \"/content/jpg_k\"+str(i)))"
      ]
    },
    {
      "cell_type": "code",
      "execution_count": null,
      "metadata": {
        "id": "SVm0WrEetyJk"
      },
      "outputs": [],
      "source": [
        "clear_train_dir()"
      ]
    },
    {
      "cell_type": "markdown",
      "metadata": {
        "id": "Ir7ptMEhtyJk"
      },
      "source": [
        "####k1"
      ]
    },
    {
      "cell_type": "code",
      "execution_count": null,
      "metadata": {
        "colab": {
          "base_uri": "https://localhost:8080/"
        },
        "outputId": "d4ba99a5-48b6-4b9b-c53c-b9d01978afb4",
        "id": "26pzCJY3tyJk"
      },
      "outputs": [
        {
          "output_type": "stream",
          "name": "stdout",
          "text": [
            "Found 31499 files belonging to 2 classes.\n",
            "Using 21000 files for training.\n",
            "Found 31499 files belonging to 2 classes.\n",
            "Using 10499 files for validation.\n",
            "Epoch 1/100\n",
            "329/329 [==============================] - 334s 976ms/step - loss: 0.7517 - auc: 0.6191 - accuracy: 0.5720 - val_loss: 0.7566 - val_auc: 0.5998 - val_accuracy: 0.3120\n",
            "Epoch 2/100\n",
            "329/329 [==============================] - 321s 973ms/step - loss: 0.6495 - auc: 0.6935 - accuracy: 0.6167 - val_loss: 0.7463 - val_auc: 0.7229 - val_accuracy: 0.5230\n",
            "Epoch 3/100\n",
            "329/329 [==============================] - 320s 972ms/step - loss: 0.6118 - auc: 0.7323 - accuracy: 0.6437 - val_loss: 0.6964 - val_auc: 0.7466 - val_accuracy: 0.5908\n",
            "Epoch 4/100\n",
            "329/329 [==============================] - 320s 972ms/step - loss: 0.6004 - auc: 0.7420 - accuracy: 0.6544 - val_loss: 0.6815 - val_auc: 0.7553 - val_accuracy: 0.6122\n",
            "Epoch 5/100\n",
            "329/329 [==============================] - 320s 972ms/step - loss: 0.5783 - auc: 0.7653 - accuracy: 0.6835 - val_loss: 0.8125 - val_auc: 0.7587 - val_accuracy: 0.6020\n",
            "Epoch 6/100\n",
            "329/329 [==============================] - 320s 971ms/step - loss: 0.5577 - auc: 0.7860 - accuracy: 0.7031 - val_loss: 0.5485 - val_auc: 0.7919 - val_accuracy: 0.7116\n",
            "Epoch 7/100\n",
            "329/329 [==============================] - 320s 971ms/step - loss: 0.5428 - auc: 0.7978 - accuracy: 0.7336 - val_loss: 0.6966 - val_auc: 0.7788 - val_accuracy: 0.6464\n",
            "Epoch 8/100\n",
            "329/329 [==============================] - 321s 972ms/step - loss: 0.5309 - auc: 0.8072 - accuracy: 0.7488 - val_loss: 0.6804 - val_auc: 0.8032 - val_accuracy: 0.6371\n",
            "Epoch 9/100\n",
            "329/329 [==============================] - 320s 971ms/step - loss: 0.5241 - auc: 0.8137 - accuracy: 0.7572 - val_loss: 0.5111 - val_auc: 0.8037 - val_accuracy: 0.7798\n",
            "Epoch 10/100\n",
            "329/329 [==============================] - 320s 970ms/step - loss: 0.5130 - auc: 0.8217 - accuracy: 0.7686 - val_loss: 0.5401 - val_auc: 0.7915 - val_accuracy: 0.7607\n",
            "Epoch 11/100\n",
            "329/329 [==============================] - 360s 1s/step - loss: 0.5057 - auc: 0.8295 - accuracy: 0.7759 - val_loss: 0.7156 - val_auc: 0.8171 - val_accuracy: 0.6159\n",
            "Epoch 12/100\n",
            "329/329 [==============================] - 320s 971ms/step - loss: 0.5055 - auc: 0.8296 - accuracy: 0.7755 - val_loss: 0.4917 - val_auc: 0.8250 - val_accuracy: 0.7840\n",
            "Epoch 13/100\n",
            "329/329 [==============================] - 320s 970ms/step - loss: 0.5004 - auc: 0.8331 - accuracy: 0.7802 - val_loss: 0.5006 - val_auc: 0.8276 - val_accuracy: 0.7793\n",
            "Epoch 14/100\n",
            "329/329 [==============================] - 320s 970ms/step - loss: 0.4949 - auc: 0.8371 - accuracy: 0.7852 - val_loss: 0.8223 - val_auc: 0.7959 - val_accuracy: 0.6295\n",
            "Epoch 15/100\n",
            "329/329 [==============================] - 360s 1s/step - loss: 0.4947 - auc: 0.8368 - accuracy: 0.7845 - val_loss: 0.4695 - val_auc: 0.8378 - val_accuracy: 0.8085\n",
            "Epoch 16/100\n",
            "329/329 [==============================] - 320s 970ms/step - loss: 0.4832 - auc: 0.8457 - accuracy: 0.7927 - val_loss: 0.4683 - val_auc: 0.8157 - val_accuracy: 0.7919\n",
            "Epoch 17/100\n",
            "329/329 [==============================] - 320s 970ms/step - loss: 0.4802 - auc: 0.8474 - accuracy: 0.8010 - val_loss: 0.3803 - val_auc: 0.8279 - val_accuracy: 0.8687\n",
            "Epoch 18/100\n",
            "329/329 [==============================] - 319s 969ms/step - loss: 0.4811 - auc: 0.8462 - accuracy: 0.8037 - val_loss: 0.4477 - val_auc: 0.8339 - val_accuracy: 0.8339\n",
            "Epoch 19/100\n",
            "329/329 [==============================] - 319s 969ms/step - loss: 0.4704 - auc: 0.8539 - accuracy: 0.8110 - val_loss: 0.4352 - val_auc: 0.8390 - val_accuracy: 0.8233\n",
            "Epoch 20/100\n",
            "329/329 [==============================] - 320s 969ms/step - loss: 0.4636 - auc: 0.8581 - accuracy: 0.8114 - val_loss: 0.3917 - val_auc: 0.8394 - val_accuracy: 0.8547\n",
            "Epoch 21/100\n",
            "329/329 [==============================] - 360s 1s/step - loss: 0.4688 - auc: 0.8549 - accuracy: 0.8076 - val_loss: 0.4075 - val_auc: 0.8471 - val_accuracy: 0.8483\n",
            "Epoch 22/100\n",
            "329/329 [==============================] - 320s 970ms/step - loss: 0.4647 - auc: 0.8579 - accuracy: 0.8153 - val_loss: 0.4210 - val_auc: 0.8621 - val_accuracy: 0.8363\n",
            "Epoch 23/100\n",
            "329/329 [==============================] - 319s 969ms/step - loss: 0.4601 - auc: 0.8603 - accuracy: 0.8127 - val_loss: 0.5823 - val_auc: 0.8449 - val_accuracy: 0.7128\n",
            "Epoch 24/100\n",
            "329/329 [==============================] - 321s 973ms/step - loss: 0.4607 - auc: 0.8604 - accuracy: 0.8156 - val_loss: 0.5231 - val_auc: 0.8522 - val_accuracy: 0.7509\n",
            "Epoch 25/100\n",
            "329/329 [==============================] - 320s 972ms/step - loss: 0.4571 - auc: 0.8625 - accuracy: 0.8185 - val_loss: 0.4801 - val_auc: 0.8561 - val_accuracy: 0.7852\n",
            "Epoch 26/100\n",
            "329/329 [==============================] - 320s 971ms/step - loss: 0.4521 - auc: 0.8650 - accuracy: 0.8226 - val_loss: 0.4303 - val_auc: 0.8365 - val_accuracy: 0.8297\n",
            "Epoch 27/100\n",
            "329/329 [==============================] - ETA: 0s - loss: 0.4511 - auc: 0.8655 - accuracy: 0.8239Restoring model weights from the end of the best epoch: 22.\n",
            "329/329 [==============================] - 320s 970ms/step - loss: 0.4511 - auc: 0.8655 - accuracy: 0.8239 - val_loss: 0.6422 - val_auc: 0.8404 - val_accuracy: 0.6769\n",
            "Epoch 27: early stopping\n",
            "Found 3500 files belonging to 2 classes.\n",
            "55/55 [==============================] - 14s 249ms/step - loss: 0.4207 - auc: 0.8702 - accuracy: 0.8423\n",
            "[0.4206834137439728, 0.8702264428138733, 0.842285692691803]\n"
          ]
        }
      ],
      "source": [
        "i = 1\n",
        "load_train_dir(i)\n",
        "model = train_model(w0, w1)\n",
        "print( test_model(model, \"/content/jpg_k\"+str(i)))"
      ]
    },
    {
      "cell_type": "code",
      "execution_count": null,
      "metadata": {
        "id": "A3c9bDcLtyJk"
      },
      "outputs": [],
      "source": [
        "clear_train_dir()"
      ]
    },
    {
      "cell_type": "markdown",
      "metadata": {
        "id": "HkqaBUW7tyJk"
      },
      "source": [
        "####k2"
      ]
    },
    {
      "cell_type": "code",
      "execution_count": null,
      "metadata": {
        "colab": {
          "base_uri": "https://localhost:8080/"
        },
        "outputId": "1781b197-ab34-4d96-c7fe-5686c22d2e9d",
        "id": "0O3FHXTXtyJk"
      },
      "outputs": [
        {
          "output_type": "stream",
          "name": "stdout",
          "text": [
            "Found 31499 files belonging to 2 classes.\n",
            "Using 21000 files for training.\n",
            "Found 31499 files belonging to 2 classes.\n",
            "Using 10499 files for validation.\n",
            "Epoch 1/100\n",
            "329/329 [==============================] - 328s 974ms/step - loss: 0.7429 - auc: 0.6183 - accuracy: 0.5706 - val_loss: 1.1043 - val_auc: 0.4258 - val_accuracy: 0.1400\n",
            "Epoch 2/100\n",
            "329/329 [==============================] - 320s 972ms/step - loss: 0.6490 - auc: 0.6890 - accuracy: 0.6070 - val_loss: 0.7517 - val_auc: 0.6486 - val_accuracy: 0.4780\n",
            "Epoch 3/100\n",
            "329/329 [==============================] - 320s 970ms/step - loss: 0.6182 - auc: 0.7180 - accuracy: 0.6231 - val_loss: 0.6309 - val_auc: 0.7502 - val_accuracy: 0.6222\n",
            "Epoch 4/100\n",
            "329/329 [==============================] - 360s 1s/step - loss: 0.6045 - auc: 0.7380 - accuracy: 0.6494 - val_loss: 0.5468 - val_auc: 0.7582 - val_accuracy: 0.7029\n",
            "Epoch 5/100\n",
            "329/329 [==============================] - 319s 968ms/step - loss: 0.5882 - auc: 0.7539 - accuracy: 0.6680 - val_loss: 0.7599 - val_auc: 0.7796 - val_accuracy: 0.5960\n",
            "Epoch 6/100\n",
            "329/329 [==============================] - 320s 970ms/step - loss: 0.5746 - auc: 0.7681 - accuracy: 0.6839 - val_loss: 0.4449 - val_auc: 0.7932 - val_accuracy: 0.8195\n",
            "Epoch 7/100\n",
            "329/329 [==============================] - 320s 970ms/step - loss: 0.5498 - auc: 0.7928 - accuracy: 0.7199 - val_loss: 0.5233 - val_auc: 0.7697 - val_accuracy: 0.7593\n",
            "Epoch 8/100\n",
            "329/329 [==============================] - 320s 970ms/step - loss: 0.5386 - auc: 0.8024 - accuracy: 0.7400 - val_loss: 0.8817 - val_auc: 0.7827 - val_accuracy: 0.5991\n",
            "Epoch 9/100\n",
            "329/329 [==============================] - 319s 969ms/step - loss: 0.5252 - auc: 0.8139 - accuracy: 0.7590 - val_loss: 1.1473 - val_auc: 0.7959 - val_accuracy: 0.5173\n",
            "Epoch 10/100\n",
            "329/329 [==============================] - 320s 970ms/step - loss: 0.5254 - auc: 0.8130 - accuracy: 0.7680 - val_loss: 0.5926 - val_auc: 0.8221 - val_accuracy: 0.7212\n",
            "Epoch 11/100\n",
            "329/329 [==============================] - 320s 970ms/step - loss: 0.5129 - auc: 0.8216 - accuracy: 0.7820 - val_loss: 0.6982 - val_auc: 0.7677 - val_accuracy: 0.6991\n",
            "Epoch 12/100\n",
            "329/329 [==============================] - 320s 970ms/step - loss: 0.5072 - auc: 0.8267 - accuracy: 0.7858 - val_loss: 0.4601 - val_auc: 0.8235 - val_accuracy: 0.8057\n",
            "Epoch 13/100\n",
            "329/329 [==============================] - 320s 970ms/step - loss: 0.5028 - auc: 0.8295 - accuracy: 0.7823 - val_loss: 0.3857 - val_auc: 0.8284 - val_accuracy: 0.8530\n",
            "Epoch 14/100\n",
            "329/329 [==============================] - 319s 969ms/step - loss: 0.4956 - auc: 0.8353 - accuracy: 0.7939 - val_loss: 0.3849 - val_auc: 0.8301 - val_accuracy: 0.8652\n",
            "Epoch 15/100\n",
            "329/329 [==============================] - 319s 969ms/step - loss: 0.4928 - auc: 0.8370 - accuracy: 0.8003 - val_loss: 0.4418 - val_auc: 0.8310 - val_accuracy: 0.8289\n",
            "Epoch 16/100\n",
            "329/329 [==============================] - 319s 967ms/step - loss: 0.4889 - auc: 0.8407 - accuracy: 0.7980 - val_loss: 0.3357 - val_auc: 0.8025 - val_accuracy: 0.8880\n",
            "Epoch 17/100\n",
            "329/329 [==============================] - 319s 968ms/step - loss: 0.4859 - auc: 0.8418 - accuracy: 0.8028 - val_loss: 0.5868 - val_auc: 0.8491 - val_accuracy: 0.7317\n",
            "Epoch 18/100\n",
            "329/329 [==============================] - 319s 969ms/step - loss: 0.4809 - auc: 0.8440 - accuracy: 0.8048 - val_loss: 0.7313 - val_auc: 0.8328 - val_accuracy: 0.6844\n",
            "Epoch 19/100\n",
            "329/329 [==============================] - 360s 1s/step - loss: 0.4804 - auc: 0.8452 - accuracy: 0.8074 - val_loss: 0.3369 - val_auc: 0.8175 - val_accuracy: 0.8895\n",
            "Epoch 20/100\n",
            "329/329 [==============================] - 320s 970ms/step - loss: 0.4745 - auc: 0.8500 - accuracy: 0.8093 - val_loss: 0.6302 - val_auc: 0.8328 - val_accuracy: 0.6893\n",
            "Epoch 21/100\n",
            "329/329 [==============================] - 320s 970ms/step - loss: 0.4748 - auc: 0.8496 - accuracy: 0.8049 - val_loss: 0.4299 - val_auc: 0.8468 - val_accuracy: 0.8234\n",
            "Epoch 22/100\n",
            "329/329 [==============================] - ETA: 0s - loss: 0.4678 - auc: 0.8534 - accuracy: 0.8149Restoring model weights from the end of the best epoch: 17.\n",
            "329/329 [==============================] - 320s 971ms/step - loss: 0.4678 - auc: 0.8534 - accuracy: 0.8149 - val_loss: 0.7049 - val_auc: 0.8484 - val_accuracy: 0.6712\n",
            "Epoch 22: early stopping\n",
            "Found 3500 files belonging to 2 classes.\n",
            "55/55 [==============================] - 14s 250ms/step - loss: 0.5822 - auc: 0.8335 - accuracy: 0.7306\n",
            "[0.5822486281394958, 0.8335422873497009, 0.730571448802948]\n"
          ]
        }
      ],
      "source": [
        "i = 2\n",
        "load_train_dir(i)\n",
        "model = train_model(w0, w1)\n",
        "print( test_model(model, \"/content/jpg_k\"+str(i)))"
      ]
    },
    {
      "cell_type": "code",
      "execution_count": null,
      "metadata": {
        "id": "Hm8qcoMMtyJk"
      },
      "outputs": [],
      "source": [
        "clear_train_dir()"
      ]
    },
    {
      "cell_type": "markdown",
      "metadata": {
        "id": "oVoofqiutyJk"
      },
      "source": [
        "####k3"
      ]
    },
    {
      "cell_type": "code",
      "execution_count": null,
      "metadata": {
        "colab": {
          "base_uri": "https://localhost:8080/"
        },
        "outputId": "f3023051-a47f-4142-8a4e-4831622870f5",
        "id": "k4zkDOw3tyJk"
      },
      "outputs": [
        {
          "output_type": "stream",
          "name": "stdout",
          "text": [
            "Found 31499 files belonging to 2 classes.\n",
            "Using 21000 files for training.\n",
            "Found 31499 files belonging to 2 classes.\n",
            "Using 10499 files for validation.\n",
            "Epoch 1/100\n",
            "329/329 [==============================] - 328s 975ms/step - loss: 0.7362 - auc: 0.6338 - accuracy: 0.5832 - val_loss: 0.8404 - val_auc: 0.6638 - val_accuracy: 0.2089\n",
            "Epoch 2/100\n",
            "329/329 [==============================] - 320s 972ms/step - loss: 0.6412 - auc: 0.6981 - accuracy: 0.6094 - val_loss: 0.8177 - val_auc: 0.7367 - val_accuracy: 0.4552\n",
            "Epoch 3/100\n",
            "329/329 [==============================] - 319s 969ms/step - loss: 0.6156 - auc: 0.7232 - accuracy: 0.6210 - val_loss: 0.6508 - val_auc: 0.7482 - val_accuracy: 0.6044\n",
            "Epoch 4/100\n",
            "329/329 [==============================] - 320s 969ms/step - loss: 0.6011 - auc: 0.7369 - accuracy: 0.6387 - val_loss: 0.6432 - val_auc: 0.7295 - val_accuracy: 0.6276\n",
            "Epoch 5/100\n",
            "329/329 [==============================] - 320s 970ms/step - loss: 0.5898 - auc: 0.7512 - accuracy: 0.6574 - val_loss: 0.5929 - val_auc: 0.7498 - val_accuracy: 0.6502\n",
            "Epoch 6/100\n",
            "329/329 [==============================] - 319s 969ms/step - loss: 0.5807 - auc: 0.7603 - accuracy: 0.6573 - val_loss: 0.7462 - val_auc: 0.7539 - val_accuracy: 0.5922\n",
            "Epoch 7/100\n",
            "329/329 [==============================] - 320s 970ms/step - loss: 0.5684 - auc: 0.7744 - accuracy: 0.6870 - val_loss: 0.7865 - val_auc: 0.7769 - val_accuracy: 0.6087\n",
            "Epoch 8/100\n",
            "329/329 [==============================] - 320s 970ms/step - loss: 0.5459 - auc: 0.7950 - accuracy: 0.7119 - val_loss: 0.5829 - val_auc: 0.7857 - val_accuracy: 0.7107\n",
            "Epoch 9/100\n",
            "329/329 [==============================] - 319s 969ms/step - loss: 0.5408 - auc: 0.7988 - accuracy: 0.7329 - val_loss: 0.7496 - val_auc: 0.7349 - val_accuracy: 0.6870\n",
            "Epoch 10/100\n",
            "329/329 [==============================] - 320s 970ms/step - loss: 0.5299 - auc: 0.8089 - accuracy: 0.7407 - val_loss: 0.6349 - val_auc: 0.8000 - val_accuracy: 0.6831\n",
            "Epoch 11/100\n",
            "329/329 [==============================] - 320s 971ms/step - loss: 0.5238 - auc: 0.8141 - accuracy: 0.7482 - val_loss: 0.6384 - val_auc: 0.8092 - val_accuracy: 0.6593\n",
            "Epoch 12/100\n",
            "329/329 [==============================] - 320s 971ms/step - loss: 0.5124 - auc: 0.8223 - accuracy: 0.7635 - val_loss: 0.7640 - val_auc: 0.7974 - val_accuracy: 0.6314\n",
            "Epoch 13/100\n",
            "329/329 [==============================] - 360s 1s/step - loss: 0.5083 - auc: 0.8261 - accuracy: 0.7724 - val_loss: 0.6081 - val_auc: 0.8056 - val_accuracy: 0.6813\n",
            "Epoch 14/100\n",
            "329/329 [==============================] - 321s 973ms/step - loss: 0.5023 - auc: 0.8305 - accuracy: 0.7803 - val_loss: 0.5785 - val_auc: 0.8129 - val_accuracy: 0.7133\n",
            "Epoch 15/100\n",
            "329/329 [==============================] - 320s 971ms/step - loss: 0.4995 - auc: 0.8321 - accuracy: 0.7840 - val_loss: 0.6923 - val_auc: 0.8121 - val_accuracy: 0.6651\n",
            "Epoch 16/100\n",
            "329/329 [==============================] - 319s 969ms/step - loss: 0.4962 - auc: 0.8351 - accuracy: 0.7850 - val_loss: 0.4760 - val_auc: 0.8183 - val_accuracy: 0.7964\n",
            "Epoch 17/100\n",
            "329/329 [==============================] - 320s 970ms/step - loss: 0.4922 - auc: 0.8380 - accuracy: 0.7875 - val_loss: 0.5862 - val_auc: 0.8072 - val_accuracy: 0.7428\n",
            "Epoch 18/100\n",
            "329/329 [==============================] - 320s 970ms/step - loss: 0.4861 - auc: 0.8421 - accuracy: 0.7978 - val_loss: 0.4574 - val_auc: 0.8312 - val_accuracy: 0.8046\n",
            "Epoch 19/100\n",
            "329/329 [==============================] - 320s 970ms/step - loss: 0.4855 - auc: 0.8422 - accuracy: 0.7989 - val_loss: 0.4921 - val_auc: 0.7890 - val_accuracy: 0.7802\n",
            "Epoch 20/100\n",
            "329/329 [==============================] - 360s 1s/step - loss: 0.4806 - auc: 0.8468 - accuracy: 0.7995 - val_loss: 0.5603 - val_auc: 0.8363 - val_accuracy: 0.7255\n",
            "Epoch 21/100\n",
            "329/329 [==============================] - 319s 969ms/step - loss: 0.4798 - auc: 0.8441 - accuracy: 0.7992 - val_loss: 0.4546 - val_auc: 0.8319 - val_accuracy: 0.8070\n",
            "Epoch 22/100\n",
            "329/329 [==============================] - 320s 972ms/step - loss: 0.4728 - auc: 0.8518 - accuracy: 0.8057 - val_loss: 0.7112 - val_auc: 0.8118 - val_accuracy: 0.6737\n",
            "Epoch 23/100\n",
            "329/329 [==============================] - 320s 970ms/step - loss: 0.4703 - auc: 0.8519 - accuracy: 0.8145 - val_loss: 0.4492 - val_auc: 0.8430 - val_accuracy: 0.8132\n",
            "Epoch 24/100\n",
            "329/329 [==============================] - 319s 969ms/step - loss: 0.4669 - auc: 0.8548 - accuracy: 0.8153 - val_loss: 0.6114 - val_auc: 0.8172 - val_accuracy: 0.6778\n",
            "Epoch 25/100\n",
            "329/329 [==============================] - 319s 969ms/step - loss: 0.4649 - auc: 0.8561 - accuracy: 0.8158 - val_loss: 0.4525 - val_auc: 0.8525 - val_accuracy: 0.8178\n",
            "Epoch 26/100\n",
            "329/329 [==============================] - 320s 970ms/step - loss: 0.4646 - auc: 0.8561 - accuracy: 0.8209 - val_loss: 0.6014 - val_auc: 0.8392 - val_accuracy: 0.7369\n",
            "Epoch 27/100\n",
            "329/329 [==============================] - 320s 969ms/step - loss: 0.4608 - auc: 0.8584 - accuracy: 0.8110 - val_loss: 0.3630 - val_auc: 0.8310 - val_accuracy: 0.8810\n",
            "Epoch 28/100\n",
            "329/329 [==============================] - 320s 971ms/step - loss: 0.4551 - auc: 0.8613 - accuracy: 0.8253 - val_loss: 0.4549 - val_auc: 0.8483 - val_accuracy: 0.8068\n",
            "Epoch 29/100\n",
            "329/329 [==============================] - 320s 971ms/step - loss: 0.4531 - auc: 0.8610 - accuracy: 0.8234 - val_loss: 0.3541 - val_auc: 0.8657 - val_accuracy: 0.8844\n",
            "Epoch 30/100\n",
            "329/329 [==============================] - 320s 971ms/step - loss: 0.4515 - auc: 0.8638 - accuracy: 0.8298 - val_loss: 0.3486 - val_auc: 0.8382 - val_accuracy: 0.8808\n",
            "Epoch 31/100\n",
            "329/329 [==============================] - 319s 969ms/step - loss: 0.4469 - auc: 0.8667 - accuracy: 0.8281 - val_loss: 0.4463 - val_auc: 0.8545 - val_accuracy: 0.8214\n",
            "Epoch 32/100\n",
            "329/329 [==============================] - 320s 970ms/step - loss: 0.4481 - auc: 0.8664 - accuracy: 0.8233 - val_loss: 0.5509 - val_auc: 0.8451 - val_accuracy: 0.7225\n",
            "Epoch 33/100\n",
            "329/329 [==============================] - 320s 972ms/step - loss: 0.4463 - auc: 0.8676 - accuracy: 0.8270 - val_loss: 0.5583 - val_auc: 0.8529 - val_accuracy: 0.7169\n",
            "Epoch 34/100\n",
            "329/329 [==============================] - ETA: 0s - loss: 0.4449 - auc: 0.8685 - accuracy: 0.8276Restoring model weights from the end of the best epoch: 29.\n",
            "329/329 [==============================] - 361s 1s/step - loss: 0.4449 - auc: 0.8685 - accuracy: 0.8276 - val_loss: 0.3673 - val_auc: 0.8579 - val_accuracy: 0.8752\n",
            "Epoch 34: early stopping\n",
            "Found 3500 files belonging to 2 classes.\n",
            "55/55 [==============================] - 14s 249ms/step - loss: 0.3579 - auc: 0.8616 - accuracy: 0.8854\n",
            "[0.3578509986400604, 0.861556887626648, 0.8854285478591919]\n"
          ]
        }
      ],
      "source": [
        "i = 3\n",
        "load_train_dir(i)\n",
        "model = train_model(w0, w1)\n",
        "print( test_model(model, \"/content/jpg_k\"+str(i)))"
      ]
    },
    {
      "cell_type": "code",
      "execution_count": null,
      "metadata": {
        "id": "MVYuYLPOtyJl"
      },
      "outputs": [],
      "source": [
        "clear_train_dir()"
      ]
    },
    {
      "cell_type": "markdown",
      "metadata": {
        "id": "eenYQX-BtyJl"
      },
      "source": [
        "####k4"
      ]
    },
    {
      "cell_type": "code",
      "execution_count": null,
      "metadata": {
        "colab": {
          "base_uri": "https://localhost:8080/"
        },
        "outputId": "4cba115c-34b0-4fee-df40-7df5d98a1b05",
        "id": "c73h_1OityJl"
      },
      "outputs": [
        {
          "output_type": "stream",
          "name": "stdout",
          "text": [
            "Found 31499 files belonging to 2 classes.\n",
            "Using 21000 files for training.\n",
            "Found 31499 files belonging to 2 classes.\n",
            "Using 10499 files for validation.\n",
            "Epoch 1/100\n",
            "329/329 [==============================] - 329s 978ms/step - loss: 0.7125 - auc: 0.6326 - accuracy: 0.5794 - val_loss: 0.9410 - val_auc: 0.6437 - val_accuracy: 0.3139\n",
            "Epoch 2/100\n",
            "329/329 [==============================] - 321s 974ms/step - loss: 0.6327 - auc: 0.7072 - accuracy: 0.6200 - val_loss: 0.6867 - val_auc: 0.7438 - val_accuracy: 0.6042\n",
            "Epoch 3/100\n",
            "329/329 [==============================] - 321s 974ms/step - loss: 0.6124 - auc: 0.7269 - accuracy: 0.6373 - val_loss: 0.4943 - val_auc: 0.7333 - val_accuracy: 0.7577\n",
            "Epoch 4/100\n",
            "329/329 [==============================] - 321s 973ms/step - loss: 0.5987 - auc: 0.7407 - accuracy: 0.6519 - val_loss: 0.5938 - val_auc: 0.7550 - val_accuracy: 0.6604\n",
            "Epoch 5/100\n",
            "329/329 [==============================] - 361s 1s/step - loss: 0.5903 - auc: 0.7484 - accuracy: 0.6508 - val_loss: 0.6511 - val_auc: 0.7578 - val_accuracy: 0.6229\n",
            "Epoch 6/100\n",
            "329/329 [==============================] - 321s 973ms/step - loss: 0.5837 - auc: 0.7562 - accuracy: 0.6569 - val_loss: 0.5520 - val_auc: 0.7568 - val_accuracy: 0.6942\n",
            "Epoch 7/100\n",
            "329/329 [==============================] - 361s 1s/step - loss: 0.5784 - auc: 0.7635 - accuracy: 0.6656 - val_loss: 0.5147 - val_auc: 0.7640 - val_accuracy: 0.7183\n",
            "Epoch 8/100\n",
            "329/329 [==============================] - 321s 972ms/step - loss: 0.5628 - auc: 0.7804 - accuracy: 0.6861 - val_loss: 0.7052 - val_auc: 0.7820 - val_accuracy: 0.6417\n",
            "Epoch 9/100\n",
            "329/329 [==============================] - 361s 1s/step - loss: 0.5529 - auc: 0.7879 - accuracy: 0.7079 - val_loss: 0.7078 - val_auc: 0.7780 - val_accuracy: 0.6656\n",
            "Epoch 10/100\n",
            "329/329 [==============================] - 321s 974ms/step - loss: 0.5411 - auc: 0.7983 - accuracy: 0.7226 - val_loss: 0.5350 - val_auc: 0.8135 - val_accuracy: 0.7243\n",
            "Epoch 11/100\n",
            "329/329 [==============================] - 321s 974ms/step - loss: 0.5300 - auc: 0.8065 - accuracy: 0.7420 - val_loss: 0.6558 - val_auc: 0.8178 - val_accuracy: 0.6845\n",
            "Epoch 12/100\n",
            "329/329 [==============================] - 321s 973ms/step - loss: 0.5236 - auc: 0.8110 - accuracy: 0.7464 - val_loss: 0.5340 - val_auc: 0.8217 - val_accuracy: 0.7378\n",
            "Epoch 13/100\n",
            "329/329 [==============================] - 361s 1s/step - loss: 0.5223 - auc: 0.8138 - accuracy: 0.7585 - val_loss: 0.5246 - val_auc: 0.8190 - val_accuracy: 0.7755\n",
            "Epoch 14/100\n",
            "329/329 [==============================] - 361s 1s/step - loss: 0.5134 - auc: 0.8201 - accuracy: 0.7690 - val_loss: 0.6741 - val_auc: 0.8271 - val_accuracy: 0.6575\n",
            "Epoch 15/100\n",
            "329/329 [==============================] - 321s 973ms/step - loss: 0.5078 - auc: 0.8260 - accuracy: 0.7677 - val_loss: 0.5089 - val_auc: 0.8237 - val_accuracy: 0.7655\n",
            "Epoch 16/100\n",
            "329/329 [==============================] - 320s 972ms/step - loss: 0.4979 - auc: 0.8315 - accuracy: 0.7855 - val_loss: 0.4520 - val_auc: 0.8349 - val_accuracy: 0.8171\n",
            "Epoch 17/100\n",
            "329/329 [==============================] - 360s 1s/step - loss: 0.4979 - auc: 0.8336 - accuracy: 0.7894 - val_loss: 0.4539 - val_auc: 0.8338 - val_accuracy: 0.8043\n",
            "Epoch 18/100\n",
            "329/329 [==============================] - 361s 1s/step - loss: 0.4944 - auc: 0.8353 - accuracy: 0.7905 - val_loss: 0.4132 - val_auc: 0.8316 - val_accuracy: 0.8361\n",
            "Epoch 19/100\n",
            "329/329 [==============================] - 320s 971ms/step - loss: 0.4885 - auc: 0.8391 - accuracy: 0.7920 - val_loss: 0.8047 - val_auc: 0.8141 - val_accuracy: 0.6532\n",
            "Epoch 20/100\n",
            "329/329 [==============================] - 320s 971ms/step - loss: 0.4837 - auc: 0.8428 - accuracy: 0.8025 - val_loss: 0.5463 - val_auc: 0.8343 - val_accuracy: 0.7502\n",
            "Epoch 21/100\n",
            "329/329 [==============================] - ETA: 0s - loss: 0.4839 - auc: 0.8421 - accuracy: 0.8014Restoring model weights from the end of the best epoch: 16.\n",
            "329/329 [==============================] - 321s 972ms/step - loss: 0.4839 - auc: 0.8421 - accuracy: 0.8014 - val_loss: 0.4615 - val_auc: 0.8260 - val_accuracy: 0.8020\n",
            "Epoch 21: early stopping\n",
            "Found 3500 files belonging to 2 classes.\n",
            "55/55 [==============================] - 15s 252ms/step - loss: 0.4769 - auc: 0.8115 - accuracy: 0.7994\n",
            "[0.4768718481063843, 0.8114564418792725, 0.7994285821914673]\n"
          ]
        }
      ],
      "source": [
        "i = 4\n",
        "load_train_dir(i)\n",
        "model = train_model(w0, w1)\n",
        "print( test_model(model, \"/content/jpg_k\"+str(i)))"
      ]
    },
    {
      "cell_type": "code",
      "execution_count": null,
      "metadata": {
        "id": "o1iN4sxZtyJl"
      },
      "outputs": [],
      "source": [
        "clear_train_dir()"
      ]
    },
    {
      "cell_type": "markdown",
      "metadata": {
        "id": "0hiaulhWtyJl"
      },
      "source": [
        "####k5"
      ]
    },
    {
      "cell_type": "code",
      "execution_count": null,
      "metadata": {
        "colab": {
          "base_uri": "https://localhost:8080/"
        },
        "outputId": "f784d19f-afab-4119-8f18-9d634d50b080",
        "id": "ucGE9PPctyJl"
      },
      "outputs": [
        {
          "output_type": "stream",
          "name": "stdout",
          "text": [
            "Found 31499 files belonging to 2 classes.\n",
            "Using 21000 files for training.\n",
            "Found 31499 files belonging to 2 classes.\n",
            "Using 10499 files for validation.\n",
            "Epoch 1/100\n",
            "329/329 [==============================] - 368s 1s/step - loss: 0.7442 - auc: 0.6266 - accuracy: 0.5771 - val_loss: 1.0545 - val_auc: 0.5291 - val_accuracy: 0.1400\n",
            "Epoch 2/100\n",
            "329/329 [==============================] - 320s 970ms/step - loss: 0.6530 - auc: 0.6838 - accuracy: 0.6041 - val_loss: 0.6944 - val_auc: 0.6685 - val_accuracy: 0.4961\n",
            "Epoch 3/100\n",
            "329/329 [==============================] - 321s 970ms/step - loss: 0.6213 - auc: 0.7149 - accuracy: 0.6181 - val_loss: 0.7277 - val_auc: 0.7499 - val_accuracy: 0.5572\n",
            "Epoch 4/100\n",
            "329/329 [==============================] - 320s 970ms/step - loss: 0.6021 - auc: 0.7373 - accuracy: 0.6470 - val_loss: 0.5287 - val_auc: 0.7647 - val_accuracy: 0.7115\n",
            "Epoch 5/100\n",
            "329/329 [==============================] - 320s 971ms/step - loss: 0.5919 - auc: 0.7496 - accuracy: 0.6584 - val_loss: 0.5459 - val_auc: 0.7721 - val_accuracy: 0.6899\n",
            "Epoch 6/100\n",
            "329/329 [==============================] - 360s 1s/step - loss: 0.5837 - auc: 0.7584 - accuracy: 0.6718 - val_loss: 0.4946 - val_auc: 0.7884 - val_accuracy: 0.7410\n",
            "Epoch 7/100\n",
            "329/329 [==============================] - 320s 971ms/step - loss: 0.5655 - auc: 0.7758 - accuracy: 0.7001 - val_loss: 0.5263 - val_auc: 0.8020 - val_accuracy: 0.7228\n",
            "Epoch 8/100\n",
            "329/329 [==============================] - 319s 969ms/step - loss: 0.5488 - auc: 0.7917 - accuracy: 0.7322 - val_loss: 0.6197 - val_auc: 0.8146 - val_accuracy: 0.6735\n",
            "Epoch 9/100\n",
            "329/329 [==============================] - 319s 969ms/step - loss: 0.5353 - auc: 0.8045 - accuracy: 0.7425 - val_loss: 0.8605 - val_auc: 0.8027 - val_accuracy: 0.6065\n",
            "Epoch 10/100\n",
            "329/329 [==============================] - 320s 969ms/step - loss: 0.5228 - auc: 0.8148 - accuracy: 0.7560 - val_loss: 0.5700 - val_auc: 0.8200 - val_accuracy: 0.7091\n",
            "Epoch 11/100\n",
            "329/329 [==============================] - 319s 968ms/step - loss: 0.5189 - auc: 0.8170 - accuracy: 0.7635 - val_loss: 0.4614 - val_auc: 0.8219 - val_accuracy: 0.7920\n",
            "Epoch 12/100\n",
            "329/329 [==============================] - 319s 969ms/step - loss: 0.5106 - auc: 0.8233 - accuracy: 0.7706 - val_loss: 0.4479 - val_auc: 0.8334 - val_accuracy: 0.7990\n",
            "Epoch 13/100\n",
            "329/329 [==============================] - 319s 969ms/step - loss: 0.5074 - auc: 0.8259 - accuracy: 0.7728 - val_loss: 0.4708 - val_auc: 0.8326 - val_accuracy: 0.7901\n",
            "Epoch 14/100\n",
            "329/329 [==============================] - 320s 970ms/step - loss: 0.5014 - auc: 0.8309 - accuracy: 0.7801 - val_loss: 0.3829 - val_auc: 0.8493 - val_accuracy: 0.8735\n",
            "Epoch 15/100\n",
            "329/329 [==============================] - 319s 969ms/step - loss: 0.4999 - auc: 0.8323 - accuracy: 0.7851 - val_loss: 0.5180 - val_auc: 0.8414 - val_accuracy: 0.7477\n",
            "Epoch 16/100\n",
            "329/329 [==============================] - 320s 970ms/step - loss: 0.4936 - auc: 0.8368 - accuracy: 0.7877 - val_loss: 0.5183 - val_auc: 0.8464 - val_accuracy: 0.7587\n",
            "Epoch 17/100\n",
            "329/329 [==============================] - 319s 969ms/step - loss: 0.4831 - auc: 0.8442 - accuracy: 0.8027 - val_loss: 0.4543 - val_auc: 0.8417 - val_accuracy: 0.7910\n",
            "Epoch 18/100\n",
            "329/329 [==============================] - 320s 969ms/step - loss: 0.4836 - auc: 0.8434 - accuracy: 0.7983 - val_loss: 0.3641 - val_auc: 0.8463 - val_accuracy: 0.8631\n",
            "Epoch 19/100\n",
            "329/329 [==============================] - 320s 970ms/step - loss: 0.4756 - auc: 0.8497 - accuracy: 0.8021 - val_loss: 0.4163 - val_auc: 0.8563 - val_accuracy: 0.8467\n",
            "Epoch 20/100\n",
            "329/329 [==============================] - 319s 969ms/step - loss: 0.4793 - auc: 0.8453 - accuracy: 0.8078 - val_loss: 0.7129 - val_auc: 0.8390 - val_accuracy: 0.6328\n",
            "Epoch 21/100\n",
            "329/329 [==============================] - 319s 969ms/step - loss: 0.4752 - auc: 0.8493 - accuracy: 0.8114 - val_loss: 0.4781 - val_auc: 0.8480 - val_accuracy: 0.7923\n",
            "Epoch 22/100\n",
            "329/329 [==============================] - 319s 969ms/step - loss: 0.4673 - auc: 0.8552 - accuracy: 0.8082 - val_loss: 0.3373 - val_auc: 0.8518 - val_accuracy: 0.8820\n",
            "Epoch 23/100\n",
            "329/329 [==============================] - 320s 970ms/step - loss: 0.4675 - auc: 0.8544 - accuracy: 0.8121 - val_loss: 0.3289 - val_auc: 0.8568 - val_accuracy: 0.8810\n",
            "Epoch 24/100\n",
            "329/329 [==============================] - 320s 971ms/step - loss: 0.4679 - auc: 0.8530 - accuracy: 0.8093 - val_loss: 0.3529 - val_auc: 0.8621 - val_accuracy: 0.8720\n",
            "Epoch 25/100\n",
            "329/329 [==============================] - 360s 1s/step - loss: 0.4607 - auc: 0.8592 - accuracy: 0.8162 - val_loss: 0.4567 - val_auc: 0.8389 - val_accuracy: 0.7993\n",
            "Epoch 26/100\n",
            "329/329 [==============================] - 320s 971ms/step - loss: 0.4594 - auc: 0.8601 - accuracy: 0.8149 - val_loss: 0.6015 - val_auc: 0.8548 - val_accuracy: 0.7062\n",
            "Epoch 27/100\n",
            "329/329 [==============================] - 320s 970ms/step - loss: 0.4590 - auc: 0.8615 - accuracy: 0.8153 - val_loss: 0.3580 - val_auc: 0.8665 - val_accuracy: 0.8693\n",
            "Epoch 28/100\n",
            "329/329 [==============================] - 320s 968ms/step - loss: 0.4551 - auc: 0.8632 - accuracy: 0.8206 - val_loss: 0.3399 - val_auc: 0.8594 - val_accuracy: 0.8767\n",
            "Epoch 29/100\n",
            "329/329 [==============================] - 319s 969ms/step - loss: 0.4533 - auc: 0.8640 - accuracy: 0.8192 - val_loss: 0.4861 - val_auc: 0.8555 - val_accuracy: 0.7655\n",
            "Epoch 30/100\n",
            "329/329 [==============================] - 319s 969ms/step - loss: 0.4489 - auc: 0.8673 - accuracy: 0.8214 - val_loss: 0.4668 - val_auc: 0.8534 - val_accuracy: 0.7985\n",
            "Epoch 31/100\n",
            "329/329 [==============================] - 319s 969ms/step - loss: 0.4458 - auc: 0.8701 - accuracy: 0.8267 - val_loss: 0.4575 - val_auc: 0.8667 - val_accuracy: 0.8056\n",
            "Epoch 32/100\n",
            "329/329 [==============================] - 320s 970ms/step - loss: 0.4465 - auc: 0.8683 - accuracy: 0.8229 - val_loss: 0.3154 - val_auc: 0.8664 - val_accuracy: 0.8943\n",
            "Epoch 33/100\n",
            "329/329 [==============================] - 320s 970ms/step - loss: 0.4462 - auc: 0.8675 - accuracy: 0.8189 - val_loss: 0.4852 - val_auc: 0.8673 - val_accuracy: 0.7772\n",
            "Epoch 34/100\n",
            "329/329 [==============================] - 360s 1s/step - loss: 0.4457 - auc: 0.8692 - accuracy: 0.8235 - val_loss: 0.3421 - val_auc: 0.8686 - val_accuracy: 0.8783\n",
            "Epoch 35/100\n",
            "329/329 [==============================] - 320s 970ms/step - loss: 0.4414 - auc: 0.8717 - accuracy: 0.8269 - val_loss: 0.2915 - val_auc: 0.8675 - val_accuracy: 0.9017\n",
            "Epoch 36/100\n",
            "329/329 [==============================] - 320s 970ms/step - loss: 0.4392 - auc: 0.8720 - accuracy: 0.8252 - val_loss: 0.4927 - val_auc: 0.8601 - val_accuracy: 0.7839\n",
            "Epoch 37/100\n",
            "329/329 [==============================] - 320s 970ms/step - loss: 0.4398 - auc: 0.8709 - accuracy: 0.8310 - val_loss: 0.3468 - val_auc: 0.8773 - val_accuracy: 0.8739\n",
            "Epoch 38/100\n",
            "329/329 [==============================] - 319s 968ms/step - loss: 0.4320 - auc: 0.8768 - accuracy: 0.8275 - val_loss: 0.4176 - val_auc: 0.8596 - val_accuracy: 0.8304\n",
            "Epoch 39/100\n",
            "329/329 [==============================] - 320s 971ms/step - loss: 0.4342 - auc: 0.8743 - accuracy: 0.8291 - val_loss: 0.3854 - val_auc: 0.8746 - val_accuracy: 0.8574\n",
            "Epoch 40/100\n",
            "329/329 [==============================] - 320s 970ms/step - loss: 0.4309 - auc: 0.8770 - accuracy: 0.8364 - val_loss: 0.2855 - val_auc: 0.8642 - val_accuracy: 0.9048\n",
            "Epoch 41/100\n",
            "329/329 [==============================] - 320s 971ms/step - loss: 0.4258 - auc: 0.8809 - accuracy: 0.8336 - val_loss: 0.3100 - val_auc: 0.8612 - val_accuracy: 0.8844\n",
            "Epoch 42/100\n",
            "329/329 [==============================] - 320s 970ms/step - loss: 0.4283 - auc: 0.8789 - accuracy: 0.8330 - val_loss: 0.3232 - val_auc: 0.8791 - val_accuracy: 0.8851\n",
            "Epoch 43/100\n",
            "329/329 [==============================] - 320s 971ms/step - loss: 0.4278 - auc: 0.8785 - accuracy: 0.8358 - val_loss: 0.3312 - val_auc: 0.8827 - val_accuracy: 0.8901\n",
            "Epoch 44/100\n",
            "329/329 [==============================] - 360s 1s/step - loss: 0.4241 - auc: 0.8814 - accuracy: 0.8389 - val_loss: 0.4716 - val_auc: 0.8698 - val_accuracy: 0.7847\n",
            "Epoch 45/100\n",
            "329/329 [==============================] - 320s 971ms/step - loss: 0.4243 - auc: 0.8809 - accuracy: 0.8409 - val_loss: 0.3100 - val_auc: 0.8737 - val_accuracy: 0.8865\n",
            "Epoch 46/100\n",
            "329/329 [==============================] - 360s 1s/step - loss: 0.4232 - auc: 0.8812 - accuracy: 0.8369 - val_loss: 0.4420 - val_auc: 0.8758 - val_accuracy: 0.8168\n",
            "Epoch 47/100\n",
            "329/329 [==============================] - 320s 971ms/step - loss: 0.4195 - auc: 0.8845 - accuracy: 0.8390 - val_loss: 0.3080 - val_auc: 0.8746 - val_accuracy: 0.8916\n",
            "Epoch 48/100\n",
            "329/329 [==============================] - ETA: 0s - loss: 0.4176 - auc: 0.8840 - accuracy: 0.8436Restoring model weights from the end of the best epoch: 43.\n",
            "329/329 [==============================] - 320s 971ms/step - loss: 0.4176 - auc: 0.8840 - accuracy: 0.8436 - val_loss: 0.4333 - val_auc: 0.8808 - val_accuracy: 0.8238\n",
            "Epoch 48: early stopping\n",
            "Found 3500 files belonging to 2 classes.\n",
            "55/55 [==============================] - 14s 250ms/step - loss: 0.3372 - auc: 0.8550 - accuracy: 0.8820\n",
            "[0.33722740411758423, 0.8549928069114685, 0.8820000290870667]\n"
          ]
        }
      ],
      "source": [
        "i = 5\n",
        "load_train_dir(i)\n",
        "model = train_model(w0, w1)\n",
        "print( test_model(model, \"/content/jpg_k\"+str(i)))"
      ]
    },
    {
      "cell_type": "code",
      "execution_count": null,
      "metadata": {
        "id": "6efbNtR5tyJl"
      },
      "outputs": [],
      "source": [
        "clear_train_dir()"
      ]
    },
    {
      "cell_type": "markdown",
      "metadata": {
        "id": "bt90mJWwtyJl"
      },
      "source": [
        "####k6"
      ]
    },
    {
      "cell_type": "code",
      "execution_count": null,
      "metadata": {
        "colab": {
          "base_uri": "https://localhost:8080/"
        },
        "outputId": "20bbefea-877a-4e66-a752-60fc320fe643",
        "id": "dF4QAf3etyJl"
      },
      "outputs": [
        {
          "output_type": "stream",
          "name": "stdout",
          "text": [
            "Found 31499 files belonging to 2 classes.\n",
            "Using 21000 files for training.\n",
            "Found 31499 files belonging to 2 classes.\n",
            "Using 10499 files for validation.\n",
            "Epoch 1/100\n",
            "329/329 [==============================] - 335s 960ms/step - loss: 0.7506 - auc: 0.6095 - accuracy: 0.5660 - val_loss: 0.7938 - val_auc: 0.5246 - val_accuracy: 0.2846\n",
            "Epoch 2/100\n",
            "329/329 [==============================] - 316s 957ms/step - loss: 0.6595 - auc: 0.6783 - accuracy: 0.5983 - val_loss: 0.6831 - val_auc: 0.7369 - val_accuracy: 0.5852\n",
            "Epoch 3/100\n",
            "329/329 [==============================] - 316s 959ms/step - loss: 0.6230 - auc: 0.7137 - accuracy: 0.6213 - val_loss: 0.5448 - val_auc: 0.7489 - val_accuracy: 0.6854\n",
            "Epoch 4/100\n",
            "329/329 [==============================] - 315s 956ms/step - loss: 0.6084 - auc: 0.7306 - accuracy: 0.6441 - val_loss: 0.5817 - val_auc: 0.7647 - val_accuracy: 0.6651\n",
            "Epoch 5/100\n",
            "329/329 [==============================] - 315s 956ms/step - loss: 0.5886 - auc: 0.7523 - accuracy: 0.6664 - val_loss: 0.5054 - val_auc: 0.7603 - val_accuracy: 0.7260\n",
            "Epoch 6/100\n",
            "329/329 [==============================] - 315s 955ms/step - loss: 0.5667 - auc: 0.7755 - accuracy: 0.6998 - val_loss: 0.4554 - val_auc: 0.8011 - val_accuracy: 0.7836\n",
            "Epoch 7/100\n",
            "329/329 [==============================] - 315s 955ms/step - loss: 0.5464 - auc: 0.7940 - accuracy: 0.7313 - val_loss: 0.4537 - val_auc: 0.7857 - val_accuracy: 0.8198\n",
            "Epoch 8/100\n",
            "329/329 [==============================] - 315s 955ms/step - loss: 0.5316 - auc: 0.8046 - accuracy: 0.7491 - val_loss: 0.4821 - val_auc: 0.7998 - val_accuracy: 0.7708\n",
            "Epoch 9/100\n",
            "329/329 [==============================] - 315s 956ms/step - loss: 0.5232 - auc: 0.8121 - accuracy: 0.7619 - val_loss: 0.5634 - val_auc: 0.8036 - val_accuracy: 0.7224\n",
            "Epoch 10/100\n",
            "329/329 [==============================] - 315s 956ms/step - loss: 0.5207 - auc: 0.8136 - accuracy: 0.7607 - val_loss: 0.4037 - val_auc: 0.8103 - val_accuracy: 0.8579\n",
            "Epoch 11/100\n",
            "329/329 [==============================] - 316s 957ms/step - loss: 0.5109 - auc: 0.8227 - accuracy: 0.7790 - val_loss: 0.4106 - val_auc: 0.8207 - val_accuracy: 0.8503\n",
            "Epoch 12/100\n",
            "329/329 [==============================] - 315s 955ms/step - loss: 0.5074 - auc: 0.8246 - accuracy: 0.7830 - val_loss: 0.6389 - val_auc: 0.7809 - val_accuracy: 0.7239\n",
            "Epoch 13/100\n",
            "329/329 [==============================] - 314s 953ms/step - loss: 0.4987 - auc: 0.8325 - accuracy: 0.7889 - val_loss: 0.4178 - val_auc: 0.8015 - val_accuracy: 0.8402\n",
            "Epoch 14/100\n",
            "329/329 [==============================] - 315s 955ms/step - loss: 0.4943 - auc: 0.8353 - accuracy: 0.7956 - val_loss: 0.3428 - val_auc: 0.7940 - val_accuracy: 0.8876\n",
            "Epoch 15/100\n",
            "329/329 [==============================] - 315s 955ms/step - loss: 0.4932 - auc: 0.8375 - accuracy: 0.7960 - val_loss: 0.4875 - val_auc: 0.8368 - val_accuracy: 0.7750\n",
            "Epoch 16/100\n",
            "329/329 [==============================] - 315s 955ms/step - loss: 0.4892 - auc: 0.8396 - accuracy: 0.7986 - val_loss: 0.4249 - val_auc: 0.8066 - val_accuracy: 0.8388\n",
            "Epoch 17/100\n",
            "329/329 [==============================] - 315s 955ms/step - loss: 0.4813 - auc: 0.8455 - accuracy: 0.8068 - val_loss: 0.4724 - val_auc: 0.8380 - val_accuracy: 0.7859\n",
            "Epoch 18/100\n",
            "329/329 [==============================] - 314s 954ms/step - loss: 0.4798 - auc: 0.8463 - accuracy: 0.8067 - val_loss: 0.6791 - val_auc: 0.8222 - val_accuracy: 0.6684\n",
            "Epoch 19/100\n",
            "329/329 [==============================] - 314s 954ms/step - loss: 0.4806 - auc: 0.8462 - accuracy: 0.8042 - val_loss: 0.3451 - val_auc: 0.8254 - val_accuracy: 0.8885\n",
            "Epoch 20/100\n",
            "329/329 [==============================] - 314s 954ms/step - loss: 0.4739 - auc: 0.8495 - accuracy: 0.8089 - val_loss: 0.4620 - val_auc: 0.8401 - val_accuracy: 0.8083\n",
            "Epoch 21/100\n",
            "329/329 [==============================] - 314s 953ms/step - loss: 0.4689 - auc: 0.8547 - accuracy: 0.8054 - val_loss: 0.3150 - val_auc: 0.8128 - val_accuracy: 0.8906\n",
            "Epoch 22/100\n",
            "329/329 [==============================] - 315s 954ms/step - loss: 0.4663 - auc: 0.8547 - accuracy: 0.8137 - val_loss: 0.3579 - val_auc: 0.8424 - val_accuracy: 0.8789\n",
            "Epoch 23/100\n",
            "329/329 [==============================] - 314s 954ms/step - loss: 0.4588 - auc: 0.8604 - accuracy: 0.8153 - val_loss: 0.4278 - val_auc: 0.8387 - val_accuracy: 0.8324\n",
            "Epoch 24/100\n",
            "329/329 [==============================] - 314s 954ms/step - loss: 0.4605 - auc: 0.8596 - accuracy: 0.8186 - val_loss: 0.4505 - val_auc: 0.8552 - val_accuracy: 0.8096\n",
            "Epoch 25/100\n",
            "329/329 [==============================] - 314s 954ms/step - loss: 0.4568 - auc: 0.8619 - accuracy: 0.8232 - val_loss: 0.3125 - val_auc: 0.8300 - val_accuracy: 0.8959\n",
            "Epoch 26/100\n",
            "329/329 [==============================] - 314s 954ms/step - loss: 0.4564 - auc: 0.8607 - accuracy: 0.8270 - val_loss: 0.4119 - val_auc: 0.8464 - val_accuracy: 0.8434\n",
            "Epoch 27/100\n",
            "329/329 [==============================] - 314s 953ms/step - loss: 0.4543 - auc: 0.8621 - accuracy: 0.8247 - val_loss: 0.3402 - val_auc: 0.8376 - val_accuracy: 0.8828\n",
            "Epoch 28/100\n",
            "329/329 [==============================] - 314s 954ms/step - loss: 0.4530 - auc: 0.8641 - accuracy: 0.8261 - val_loss: 0.4152 - val_auc: 0.8510 - val_accuracy: 0.8301\n",
            "Epoch 29/100\n",
            "329/329 [==============================] - 315s 955ms/step - loss: 0.4519 - auc: 0.8642 - accuracy: 0.8248 - val_loss: 0.4144 - val_auc: 0.8646 - val_accuracy: 0.8372\n",
            "Epoch 30/100\n",
            "329/329 [==============================] - 314s 953ms/step - loss: 0.4467 - auc: 0.8683 - accuracy: 0.8327 - val_loss: 0.3484 - val_auc: 0.8433 - val_accuracy: 0.8788\n",
            "Epoch 31/100\n",
            "329/329 [==============================] - 314s 953ms/step - loss: 0.4457 - auc: 0.8681 - accuracy: 0.8297 - val_loss: 0.3323 - val_auc: 0.8270 - val_accuracy: 0.8907\n",
            "Epoch 32/100\n",
            "329/329 [==============================] - 314s 953ms/step - loss: 0.4446 - auc: 0.8686 - accuracy: 0.8304 - val_loss: 0.4302 - val_auc: 0.8511 - val_accuracy: 0.8303\n",
            "Epoch 33/100\n",
            "329/329 [==============================] - 314s 954ms/step - loss: 0.4434 - auc: 0.8701 - accuracy: 0.8324 - val_loss: 0.3805 - val_auc: 0.8621 - val_accuracy: 0.8619\n",
            "Epoch 34/100\n",
            "329/329 [==============================] - ETA: 0s - loss: 0.4461 - auc: 0.8672 - accuracy: 0.8311Restoring model weights from the end of the best epoch: 29.\n",
            "329/329 [==============================] - 314s 954ms/step - loss: 0.4461 - auc: 0.8672 - accuracy: 0.8311 - val_loss: 0.3264 - val_auc: 0.8237 - val_accuracy: 0.8935\n",
            "Epoch 34: early stopping\n",
            "Found 3500 files belonging to 2 classes.\n",
            "55/55 [==============================] - 15s 264ms/step - loss: 0.4058 - auc: 0.8783 - accuracy: 0.8423\n",
            "[0.4058088958263397, 0.8782711625099182, 0.842285692691803]\n"
          ]
        }
      ],
      "source": [
        "i = 6\n",
        "load_train_dir(i)\n",
        "model = train_model(w0, w1)\n",
        "print( test_model(model, \"/content/jpg_k\"+str(i)))"
      ]
    },
    {
      "cell_type": "code",
      "execution_count": null,
      "metadata": {
        "id": "ceaTSwWmtyJl"
      },
      "outputs": [],
      "source": [
        "clear_train_dir()"
      ]
    },
    {
      "cell_type": "markdown",
      "metadata": {
        "id": "GRljAIw7tyJl"
      },
      "source": [
        "####k7"
      ]
    },
    {
      "cell_type": "code",
      "execution_count": null,
      "metadata": {
        "id": "jWajXZ71tyJl",
        "colab": {
          "base_uri": "https://localhost:8080/"
        },
        "outputId": "63c3571c-7232-4fb3-84c0-6975a522d3f9"
      },
      "outputs": [
        {
          "output_type": "stream",
          "name": "stdout",
          "text": [
            "Found 31499 files belonging to 2 classes.\n",
            "Using 21000 files for training.\n",
            "Found 31499 files belonging to 2 classes.\n",
            "Using 10499 files for validation.\n",
            "Epoch 1/100\n",
            "329/329 [==============================] - 323s 961ms/step - loss: 0.7346 - auc: 0.6264 - accuracy: 0.5759 - val_loss: 0.6998 - val_auc: 0.4703 - val_accuracy: 0.6210\n",
            "Epoch 2/100\n",
            "329/329 [==============================] - 315s 956ms/step - loss: 0.6473 - auc: 0.6862 - accuracy: 0.6006 - val_loss: 0.7700 - val_auc: 0.7269 - val_accuracy: 0.4751\n",
            "Epoch 3/100\n",
            "329/329 [==============================] - 315s 956ms/step - loss: 0.6181 - auc: 0.7170 - accuracy: 0.6130 - val_loss: 0.8036 - val_auc: 0.7463 - val_accuracy: 0.5435\n",
            "Epoch 4/100\n",
            "329/329 [==============================] - 316s 958ms/step - loss: 0.6033 - auc: 0.7371 - accuracy: 0.6394 - val_loss: 0.7389 - val_auc: 0.7617 - val_accuracy: 0.5892\n",
            "Epoch 5/100\n",
            "329/329 [==============================] - 315s 957ms/step - loss: 0.5890 - auc: 0.7526 - accuracy: 0.6531 - val_loss: 0.6312 - val_auc: 0.7550 - val_accuracy: 0.6187\n",
            "Epoch 6/100\n",
            "329/329 [==============================] - 315s 956ms/step - loss: 0.5775 - auc: 0.7656 - accuracy: 0.6714 - val_loss: 0.7704 - val_auc: 0.7775 - val_accuracy: 0.5996\n",
            "Epoch 7/100\n",
            "329/329 [==============================] - 315s 957ms/step - loss: 0.5578 - auc: 0.7855 - accuracy: 0.7070 - val_loss: 0.7999 - val_auc: 0.7784 - val_accuracy: 0.6199\n",
            "Epoch 8/100\n",
            "329/329 [==============================] - 315s 957ms/step - loss: 0.5489 - auc: 0.7934 - accuracy: 0.7221 - val_loss: 1.1849 - val_auc: 0.7551 - val_accuracy: 0.5771\n",
            "Epoch 9/100\n",
            "329/329 [==============================] - 315s 955ms/step - loss: 0.5430 - auc: 0.7982 - accuracy: 0.7418 - val_loss: 0.7252 - val_auc: 0.7942 - val_accuracy: 0.6616\n",
            "Epoch 10/100\n",
            "329/329 [==============================] - 315s 956ms/step - loss: 0.5260 - auc: 0.8106 - accuracy: 0.7574 - val_loss: 1.2239 - val_auc: 0.8023 - val_accuracy: 0.5662\n",
            "Epoch 11/100\n",
            "329/329 [==============================] - 315s 956ms/step - loss: 0.5201 - auc: 0.8165 - accuracy: 0.7720 - val_loss: 0.8451 - val_auc: 0.8144 - val_accuracy: 0.6128\n",
            "Epoch 12/100\n",
            "329/329 [==============================] - 315s 957ms/step - loss: 0.5102 - auc: 0.8232 - accuracy: 0.7760 - val_loss: 0.6166 - val_auc: 0.8220 - val_accuracy: 0.6950\n",
            "Epoch 13/100\n",
            "329/329 [==============================] - 315s 956ms/step - loss: 0.5108 - auc: 0.8233 - accuracy: 0.7778 - val_loss: 0.6748 - val_auc: 0.8321 - val_accuracy: 0.6913\n",
            "Epoch 14/100\n",
            "329/329 [==============================] - 315s 955ms/step - loss: 0.5002 - auc: 0.8310 - accuracy: 0.7848 - val_loss: 0.6432 - val_auc: 0.8344 - val_accuracy: 0.7317\n",
            "Epoch 15/100\n",
            "329/329 [==============================] - 315s 955ms/step - loss: 0.5031 - auc: 0.8302 - accuracy: 0.7817 - val_loss: 1.3066 - val_auc: 0.7693 - val_accuracy: 0.6051\n",
            "Epoch 16/100\n",
            "329/329 [==============================] - 315s 956ms/step - loss: 0.4944 - auc: 0.8357 - accuracy: 0.7960 - val_loss: 0.4739 - val_auc: 0.8257 - val_accuracy: 0.8081\n",
            "Epoch 17/100\n",
            "329/329 [==============================] - 315s 954ms/step - loss: 0.4889 - auc: 0.8386 - accuracy: 0.7986 - val_loss: 0.7599 - val_auc: 0.8373 - val_accuracy: 0.6163\n",
            "Epoch 18/100\n",
            "329/329 [==============================] - 315s 955ms/step - loss: 0.4826 - auc: 0.8438 - accuracy: 0.8028 - val_loss: 0.3827 - val_auc: 0.8056 - val_accuracy: 0.8815\n",
            "Epoch 19/100\n",
            "329/329 [==============================] - 315s 957ms/step - loss: 0.4752 - auc: 0.8495 - accuracy: 0.8111 - val_loss: 0.6309 - val_auc: 0.8407 - val_accuracy: 0.7338\n",
            "Epoch 20/100\n",
            "329/329 [==============================] - 315s 955ms/step - loss: 0.4741 - auc: 0.8492 - accuracy: 0.8089 - val_loss: 0.5594 - val_auc: 0.8451 - val_accuracy: 0.7928\n",
            "Epoch 21/100\n",
            "329/329 [==============================] - 315s 956ms/step - loss: 0.4726 - auc: 0.8514 - accuracy: 0.8120 - val_loss: 0.5993 - val_auc: 0.8291 - val_accuracy: 0.7424\n",
            "Epoch 22/100\n",
            "329/329 [==============================] - 315s 955ms/step - loss: 0.4717 - auc: 0.8522 - accuracy: 0.8145 - val_loss: 0.9472 - val_auc: 0.8429 - val_accuracy: 0.6160\n",
            "Epoch 23/100\n",
            "329/329 [==============================] - 315s 956ms/step - loss: 0.4613 - auc: 0.8580 - accuracy: 0.8213 - val_loss: 0.4252 - val_auc: 0.8448 - val_accuracy: 0.8491\n",
            "Epoch 24/100\n",
            "329/329 [==============================] - 315s 956ms/step - loss: 0.4671 - auc: 0.8548 - accuracy: 0.8122 - val_loss: 1.0277 - val_auc: 0.8338 - val_accuracy: 0.6132\n",
            "Epoch 25/100\n",
            "329/329 [==============================] - 315s 957ms/step - loss: 0.4631 - auc: 0.8554 - accuracy: 0.8229 - val_loss: 0.4462 - val_auc: 0.8463 - val_accuracy: 0.8539\n",
            "Epoch 26/100\n",
            "329/329 [==============================] - 315s 955ms/step - loss: 0.4566 - auc: 0.8603 - accuracy: 0.8237 - val_loss: 0.7972 - val_auc: 0.8418 - val_accuracy: 0.6419\n",
            "Epoch 27/100\n",
            "329/329 [==============================] - 315s 955ms/step - loss: 0.4531 - auc: 0.8635 - accuracy: 0.8234 - val_loss: 0.4904 - val_auc: 0.8437 - val_accuracy: 0.8200\n",
            "Epoch 28/100\n",
            "329/329 [==============================] - 315s 955ms/step - loss: 0.4528 - auc: 0.8637 - accuracy: 0.8261 - val_loss: 0.5615 - val_auc: 0.8382 - val_accuracy: 0.7417\n",
            "Epoch 29/100\n",
            "329/329 [==============================] - 315s 954ms/step - loss: 0.4486 - auc: 0.8657 - accuracy: 0.8257 - val_loss: 0.3355 - val_auc: 0.8402 - val_accuracy: 0.8855\n",
            "Epoch 30/100\n",
            "329/329 [==============================] - 315s 955ms/step - loss: 0.4469 - auc: 0.8681 - accuracy: 0.8234 - val_loss: 1.0595 - val_auc: 0.8480 - val_accuracy: 0.5933\n",
            "Epoch 31/100\n",
            "329/329 [==============================] - 315s 957ms/step - loss: 0.4421 - auc: 0.8706 - accuracy: 0.8262 - val_loss: 0.4647 - val_auc: 0.8519 - val_accuracy: 0.8126\n",
            "Epoch 32/100\n",
            "329/329 [==============================] - 315s 956ms/step - loss: 0.4432 - auc: 0.8702 - accuracy: 0.8273 - val_loss: 0.3835 - val_auc: 0.8451 - val_accuracy: 0.8625\n",
            "Epoch 33/100\n",
            "329/329 [==============================] - 315s 956ms/step - loss: 0.4402 - auc: 0.8720 - accuracy: 0.8306 - val_loss: 0.4765 - val_auc: 0.8650 - val_accuracy: 0.8210\n",
            "Epoch 34/100\n",
            "329/329 [==============================] - 315s 955ms/step - loss: 0.4425 - auc: 0.8700 - accuracy: 0.8283 - val_loss: 0.3566 - val_auc: 0.8547 - val_accuracy: 0.8727\n",
            "Epoch 35/100\n",
            "329/329 [==============================] - 315s 955ms/step - loss: 0.4395 - auc: 0.8725 - accuracy: 0.8287 - val_loss: 0.6113 - val_auc: 0.8548 - val_accuracy: 0.7343\n",
            "Epoch 36/100\n",
            "329/329 [==============================] - 315s 955ms/step - loss: 0.4313 - auc: 0.8771 - accuracy: 0.8369 - val_loss: 0.3840 - val_auc: 0.8480 - val_accuracy: 0.8719\n",
            "Epoch 37/100\n",
            "329/329 [==============================] - 315s 955ms/step - loss: 0.4358 - auc: 0.8740 - accuracy: 0.8335 - val_loss: 0.3571 - val_auc: 0.8426 - val_accuracy: 0.8810\n",
            "Epoch 38/100\n",
            "329/329 [==============================] - ETA: 0s - loss: 0.4336 - auc: 0.8740 - accuracy: 0.8380Restoring model weights from the end of the best epoch: 33.\n",
            "329/329 [==============================] - 315s 956ms/step - loss: 0.4336 - auc: 0.8740 - accuracy: 0.8380 - val_loss: 0.4687 - val_auc: 0.8624 - val_accuracy: 0.8116\n",
            "Epoch 38: early stopping\n",
            "Found 3500 files belonging to 2 classes.\n",
            "55/55 [==============================] - 14s 245ms/step - loss: 0.4758 - auc: 0.8790 - accuracy: 0.8206\n",
            "[0.47581884264945984, 0.878989577293396, 0.8205714225769043]\n"
          ]
        }
      ],
      "source": [
        "i = 7\n",
        "load_train_dir(i)\n",
        "model = train_model(w0, w1)\n",
        "print( test_model(model, \"/content/jpg_k\"+str(i)))"
      ]
    },
    {
      "cell_type": "code",
      "execution_count": null,
      "metadata": {
        "id": "KahyhOL3tyJl"
      },
      "outputs": [],
      "source": [
        "clear_train_dir()"
      ]
    },
    {
      "cell_type": "markdown",
      "metadata": {
        "id": "VeaNObyktyJl"
      },
      "source": [
        "####k8"
      ]
    },
    {
      "cell_type": "code",
      "execution_count": null,
      "metadata": {
        "id": "Ey-zoTuqtyJl",
        "colab": {
          "base_uri": "https://localhost:8080/"
        },
        "outputId": "6a64466a-4657-496e-d6cb-917d55855bb4"
      },
      "outputs": [
        {
          "output_type": "stream",
          "name": "stdout",
          "text": [
            "Found 31499 files belonging to 2 classes.\n",
            "Using 21000 files for training.\n",
            "Found 31499 files belonging to 2 classes.\n",
            "Using 10499 files for validation.\n",
            "Epoch 1/100\n",
            "329/329 [==============================] - 324s 962ms/step - loss: 0.7414 - auc: 0.6216 - accuracy: 0.5712 - val_loss: 1.0316 - val_auc: 0.5914 - val_accuracy: 0.1649\n",
            "Epoch 2/100\n",
            "329/329 [==============================] - 315s 957ms/step - loss: 0.6413 - auc: 0.6991 - accuracy: 0.6170 - val_loss: 0.7407 - val_auc: 0.7267 - val_accuracy: 0.5898\n",
            "Epoch 3/100\n",
            "329/329 [==============================] - 315s 957ms/step - loss: 0.6096 - auc: 0.7310 - accuracy: 0.6378 - val_loss: 0.6252 - val_auc: 0.7590 - val_accuracy: 0.6346\n",
            "Epoch 4/100\n",
            "329/329 [==============================] - 316s 957ms/step - loss: 0.5925 - auc: 0.7488 - accuracy: 0.6531 - val_loss: 0.6027 - val_auc: 0.7635 - val_accuracy: 0.6521\n",
            "Epoch 5/100\n",
            "329/329 [==============================] - 316s 958ms/step - loss: 0.5762 - auc: 0.7666 - accuracy: 0.6840 - val_loss: 0.4882 - val_auc: 0.7773 - val_accuracy: 0.7504\n",
            "Epoch 6/100\n",
            "329/329 [==============================] - 316s 958ms/step - loss: 0.5556 - auc: 0.7879 - accuracy: 0.7073 - val_loss: 0.6578 - val_auc: 0.7989 - val_accuracy: 0.6322\n",
            "Epoch 7/100\n",
            "329/329 [==============================] - 317s 961ms/step - loss: 0.5484 - auc: 0.7939 - accuracy: 0.7282 - val_loss: 0.4495 - val_auc: 0.7926 - val_accuracy: 0.8165\n",
            "Epoch 8/100\n",
            "329/329 [==============================] - 316s 960ms/step - loss: 0.5379 - auc: 0.8035 - accuracy: 0.7330 - val_loss: 0.5995 - val_auc: 0.8025 - val_accuracy: 0.6657\n",
            "Epoch 9/100\n",
            "329/329 [==============================] - 316s 959ms/step - loss: 0.5284 - auc: 0.8110 - accuracy: 0.7484 - val_loss: 0.6551 - val_auc: 0.8217 - val_accuracy: 0.6653\n",
            "Epoch 10/100\n",
            "329/329 [==============================] - 316s 959ms/step - loss: 0.5176 - auc: 0.8198 - accuracy: 0.7632 - val_loss: 0.6130 - val_auc: 0.8267 - val_accuracy: 0.7101\n",
            "Epoch 11/100\n",
            "329/329 [==============================] - 316s 960ms/step - loss: 0.5123 - auc: 0.8245 - accuracy: 0.7711 - val_loss: 0.5488 - val_auc: 0.8309 - val_accuracy: 0.7360\n",
            "Epoch 12/100\n",
            "329/329 [==============================] - 316s 959ms/step - loss: 0.5059 - auc: 0.8273 - accuracy: 0.7779 - val_loss: 0.5848 - val_auc: 0.8319 - val_accuracy: 0.7071\n",
            "Epoch 13/100\n",
            "329/329 [==============================] - 316s 958ms/step - loss: 0.5009 - auc: 0.8325 - accuracy: 0.7826 - val_loss: 0.4928 - val_auc: 0.8301 - val_accuracy: 0.7564\n",
            "Epoch 14/100\n",
            "329/329 [==============================] - 316s 960ms/step - loss: 0.4956 - auc: 0.8365 - accuracy: 0.7912 - val_loss: 0.8543 - val_auc: 0.8199 - val_accuracy: 0.6047\n",
            "Epoch 15/100\n",
            "329/329 [==============================] - 316s 960ms/step - loss: 0.4943 - auc: 0.8370 - accuracy: 0.7890 - val_loss: 0.4858 - val_auc: 0.8408 - val_accuracy: 0.7625\n",
            "Epoch 16/100\n",
            "329/329 [==============================] - 316s 958ms/step - loss: 0.4849 - auc: 0.8425 - accuracy: 0.7993 - val_loss: 0.3870 - val_auc: 0.8290 - val_accuracy: 0.8489\n",
            "Epoch 17/100\n",
            "329/329 [==============================] - 316s 959ms/step - loss: 0.4830 - auc: 0.8441 - accuracy: 0.7948 - val_loss: 0.3714 - val_auc: 0.8313 - val_accuracy: 0.8749\n",
            "Epoch 18/100\n",
            "329/329 [==============================] - 357s 1s/step - loss: 0.4793 - auc: 0.8461 - accuracy: 0.8037 - val_loss: 0.4761 - val_auc: 0.8494 - val_accuracy: 0.7904\n",
            "Epoch 19/100\n",
            "329/329 [==============================] - 314s 953ms/step - loss: 0.4732 - auc: 0.8496 - accuracy: 0.8139 - val_loss: 0.4306 - val_auc: 0.8481 - val_accuracy: 0.8203\n",
            "Epoch 20/100\n",
            "329/329 [==============================] - 316s 959ms/step - loss: 0.4710 - auc: 0.8510 - accuracy: 0.8123 - val_loss: 0.6654 - val_auc: 0.8416 - val_accuracy: 0.6324\n",
            "Epoch 21/100\n",
            "329/329 [==============================] - 316s 959ms/step - loss: 0.4693 - auc: 0.8517 - accuracy: 0.8184 - val_loss: 0.4869 - val_auc: 0.8403 - val_accuracy: 0.7575\n",
            "Epoch 22/100\n",
            "329/329 [==============================] - 316s 959ms/step - loss: 0.4651 - auc: 0.8566 - accuracy: 0.8156 - val_loss: 0.5105 - val_auc: 0.8536 - val_accuracy: 0.7461\n",
            "Epoch 23/100\n",
            "329/329 [==============================] - 316s 960ms/step - loss: 0.4624 - auc: 0.8576 - accuracy: 0.8173 - val_loss: 0.3626 - val_auc: 0.8550 - val_accuracy: 0.8786\n",
            "Epoch 24/100\n",
            "329/329 [==============================] - 316s 960ms/step - loss: 0.4618 - auc: 0.8585 - accuracy: 0.8186 - val_loss: 0.3586 - val_auc: 0.8594 - val_accuracy: 0.8694\n",
            "Epoch 25/100\n",
            "329/329 [==============================] - 316s 959ms/step - loss: 0.4589 - auc: 0.8611 - accuracy: 0.8188 - val_loss: 0.4270 - val_auc: 0.8510 - val_accuracy: 0.8115\n",
            "Epoch 26/100\n",
            "329/329 [==============================] - 317s 962ms/step - loss: 0.4511 - auc: 0.8654 - accuracy: 0.8232 - val_loss: 0.4494 - val_auc: 0.8594 - val_accuracy: 0.7931\n",
            "Epoch 27/100\n",
            "329/329 [==============================] - 316s 959ms/step - loss: 0.4577 - auc: 0.8603 - accuracy: 0.8231 - val_loss: 0.4280 - val_auc: 0.8610 - val_accuracy: 0.8241\n",
            "Epoch 28/100\n",
            "329/329 [==============================] - 317s 960ms/step - loss: 0.4471 - auc: 0.8680 - accuracy: 0.8260 - val_loss: 0.4094 - val_auc: 0.8602 - val_accuracy: 0.8306\n",
            "Epoch 29/100\n",
            "329/329 [==============================] - 317s 960ms/step - loss: 0.4475 - auc: 0.8663 - accuracy: 0.8236 - val_loss: 0.3812 - val_auc: 0.8623 - val_accuracy: 0.8400\n",
            "Epoch 30/100\n",
            "329/329 [==============================] - 317s 961ms/step - loss: 0.4414 - auc: 0.8710 - accuracy: 0.8321 - val_loss: 0.3487 - val_auc: 0.8562 - val_accuracy: 0.8869\n",
            "Epoch 31/100\n",
            "329/329 [==============================] - 316s 960ms/step - loss: 0.4412 - auc: 0.8708 - accuracy: 0.8301 - val_loss: 0.4457 - val_auc: 0.8642 - val_accuracy: 0.7997\n",
            "Epoch 32/100\n",
            "329/329 [==============================] - 316s 958ms/step - loss: 0.4381 - auc: 0.8717 - accuracy: 0.8337 - val_loss: 0.3669 - val_auc: 0.8619 - val_accuracy: 0.8716\n",
            "Epoch 33/100\n",
            "329/329 [==============================] - 316s 960ms/step - loss: 0.4356 - auc: 0.8747 - accuracy: 0.8312 - val_loss: 0.4875 - val_auc: 0.8649 - val_accuracy: 0.7516\n",
            "Epoch 34/100\n",
            "329/329 [==============================] - 316s 959ms/step - loss: 0.4382 - auc: 0.8730 - accuracy: 0.8315 - val_loss: 0.3362 - val_auc: 0.8689 - val_accuracy: 0.8889\n",
            "Epoch 35/100\n",
            "329/329 [==============================] - 316s 958ms/step - loss: 0.4381 - auc: 0.8728 - accuracy: 0.8334 - val_loss: 0.3392 - val_auc: 0.8632 - val_accuracy: 0.8838\n",
            "Epoch 36/100\n",
            "329/329 [==============================] - 316s 958ms/step - loss: 0.4322 - auc: 0.8765 - accuracy: 0.8369 - val_loss: 0.6715 - val_auc: 0.8548 - val_accuracy: 0.6456\n",
            "Epoch 37/100\n",
            "329/329 [==============================] - 316s 960ms/step - loss: 0.4308 - auc: 0.8779 - accuracy: 0.8297 - val_loss: 0.4352 - val_auc: 0.8705 - val_accuracy: 0.8160\n",
            "Epoch 38/100\n",
            "329/329 [==============================] - 316s 959ms/step - loss: 0.4232 - auc: 0.8821 - accuracy: 0.8360 - val_loss: 0.3005 - val_auc: 0.8667 - val_accuracy: 0.8984\n",
            "Epoch 39/100\n",
            "329/329 [==============================] - 316s 960ms/step - loss: 0.4238 - auc: 0.8825 - accuracy: 0.8405 - val_loss: 0.2979 - val_auc: 0.8452 - val_accuracy: 0.8988\n",
            "Epoch 40/100\n",
            "329/329 [==============================] - 317s 961ms/step - loss: 0.4235 - auc: 0.8816 - accuracy: 0.8388 - val_loss: 0.3602 - val_auc: 0.8657 - val_accuracy: 0.8645\n",
            "Epoch 41/100\n",
            "329/329 [==============================] - 316s 959ms/step - loss: 0.4218 - auc: 0.8826 - accuracy: 0.8399 - val_loss: 0.3031 - val_auc: 0.8561 - val_accuracy: 0.8957\n",
            "Epoch 42/100\n",
            "329/329 [==============================] - ETA: 0s - loss: 0.4199 - auc: 0.8836 - accuracy: 0.8438Restoring model weights from the end of the best epoch: 37.\n",
            "329/329 [==============================] - 316s 959ms/step - loss: 0.4199 - auc: 0.8836 - accuracy: 0.8438 - val_loss: 0.3267 - val_auc: 0.8676 - val_accuracy: 0.8873\n",
            "Epoch 42: early stopping\n",
            "Found 3500 files belonging to 2 classes.\n",
            "55/55 [==============================] - 14s 248ms/step - loss: 0.4422 - auc: 0.8820 - accuracy: 0.8131\n",
            "[0.44220051169395447, 0.8820348978042603, 0.8131428360939026]\n"
          ]
        }
      ],
      "source": [
        "i = 8\n",
        "load_train_dir(i)\n",
        "model = train_model(w0, w1)\n",
        "print( test_model(model, \"/content/jpg_k\"+str(i)))"
      ]
    },
    {
      "cell_type": "code",
      "execution_count": null,
      "metadata": {
        "id": "fIkFnnJVtyJl"
      },
      "outputs": [],
      "source": [
        "clear_train_dir()"
      ]
    },
    {
      "cell_type": "markdown",
      "metadata": {
        "id": "UjGPVByZtyJm"
      },
      "source": [
        "####k9"
      ]
    },
    {
      "cell_type": "code",
      "execution_count": 20,
      "metadata": {
        "id": "vUyjG6hEtyJm",
        "colab": {
          "base_uri": "https://localhost:8080/"
        },
        "outputId": "b98d78d5-36f5-4e43-eb2e-72189534b1a2"
      },
      "outputs": [
        {
          "output_type": "stream",
          "name": "stdout",
          "text": [
            "Found 31500 files belonging to 2 classes.\n",
            "Using 21000 files for training.\n",
            "Found 31500 files belonging to 2 classes.\n",
            "Using 10500 files for validation.\n",
            "Epoch 1/100\n",
            "329/329 [==============================] - 343s 981ms/step - loss: 0.7428 - auc: 0.6190 - accuracy: 0.5768 - val_loss: 0.7332 - val_auc: 0.6054 - val_accuracy: 0.3316\n",
            "Epoch 2/100\n",
            "329/329 [==============================] - 322s 978ms/step - loss: 0.6503 - auc: 0.6862 - accuracy: 0.6071 - val_loss: 0.7786 - val_auc: 0.7290 - val_accuracy: 0.5067\n",
            "Epoch 3/100\n",
            "329/329 [==============================] - 322s 978ms/step - loss: 0.6183 - auc: 0.7169 - accuracy: 0.6297 - val_loss: 0.7336 - val_auc: 0.7432 - val_accuracy: 0.5782\n",
            "Epoch 4/100\n",
            "329/329 [==============================] - 362s 1s/step - loss: 0.5973 - auc: 0.7432 - accuracy: 0.6514 - val_loss: 0.7063 - val_auc: 0.7585 - val_accuracy: 0.6112\n",
            "Epoch 5/100\n",
            "329/329 [==============================] - 362s 1s/step - loss: 0.5849 - auc: 0.7579 - accuracy: 0.6723 - val_loss: 0.7677 - val_auc: 0.7759 - val_accuracy: 0.6050\n",
            "Epoch 6/100\n",
            "329/329 [==============================] - 322s 978ms/step - loss: 0.5660 - auc: 0.7759 - accuracy: 0.6913 - val_loss: 0.8587 - val_auc: 0.7875 - val_accuracy: 0.5870\n",
            "Epoch 7/100\n",
            "329/329 [==============================] - 323s 979ms/step - loss: 0.5483 - auc: 0.7932 - accuracy: 0.7306 - val_loss: 0.6035 - val_auc: 0.8047 - val_accuracy: 0.6939\n",
            "Epoch 8/100\n",
            "329/329 [==============================] - 322s 976ms/step - loss: 0.5320 - auc: 0.8073 - accuracy: 0.7506 - val_loss: 0.5016 - val_auc: 0.8040 - val_accuracy: 0.7875\n",
            "Epoch 9/100\n",
            "329/329 [==============================] - 322s 977ms/step - loss: 0.5260 - auc: 0.8109 - accuracy: 0.7558 - val_loss: 0.7881 - val_auc: 0.8129 - val_accuracy: 0.6192\n",
            "Epoch 10/100\n",
            "329/329 [==============================] - 322s 977ms/step - loss: 0.5150 - auc: 0.8200 - accuracy: 0.7729 - val_loss: 0.9607 - val_auc: 0.8166 - val_accuracy: 0.5740\n",
            "Epoch 11/100\n",
            "329/329 [==============================] - 362s 1s/step - loss: 0.5093 - auc: 0.8244 - accuracy: 0.7718 - val_loss: 0.4927 - val_auc: 0.8188 - val_accuracy: 0.7819\n",
            "Epoch 12/100\n",
            "329/329 [==============================] - 322s 978ms/step - loss: 0.5037 - auc: 0.8291 - accuracy: 0.7820 - val_loss: 0.4188 - val_auc: 0.8111 - val_accuracy: 0.8464\n",
            "Epoch 13/100\n",
            "329/329 [==============================] - 323s 979ms/step - loss: 0.4953 - auc: 0.8348 - accuracy: 0.7907 - val_loss: 0.4312 - val_auc: 0.8270 - val_accuracy: 0.8293\n",
            "Epoch 14/100\n",
            "329/329 [==============================] - 363s 1s/step - loss: 0.4968 - auc: 0.8353 - accuracy: 0.7903 - val_loss: 0.3470 - val_auc: 0.8272 - val_accuracy: 0.8857\n",
            "Epoch 15/100\n",
            "329/329 [==============================] - 322s 978ms/step - loss: 0.4856 - auc: 0.8422 - accuracy: 0.7970 - val_loss: 0.4745 - val_auc: 0.8276 - val_accuracy: 0.8105\n",
            "Epoch 16/100\n",
            "329/329 [==============================] - 362s 1s/step - loss: 0.4832 - auc: 0.8442 - accuracy: 0.7938 - val_loss: 0.4140 - val_auc: 0.8386 - val_accuracy: 0.8499\n",
            "Epoch 17/100\n",
            "329/329 [==============================] - 322s 978ms/step - loss: 0.4801 - auc: 0.8457 - accuracy: 0.8034 - val_loss: 0.4608 - val_auc: 0.8452 - val_accuracy: 0.8173\n",
            "Epoch 18/100\n",
            "329/329 [==============================] - 322s 975ms/step - loss: 0.4752 - auc: 0.8502 - accuracy: 0.8048 - val_loss: 0.3420 - val_auc: 0.8356 - val_accuracy: 0.8916\n",
            "Epoch 19/100\n",
            "329/329 [==============================] - 322s 977ms/step - loss: 0.4790 - auc: 0.8460 - accuracy: 0.8102 - val_loss: 0.3575 - val_auc: 0.8264 - val_accuracy: 0.8774\n",
            "Epoch 20/100\n",
            "329/329 [==============================] - 322s 977ms/step - loss: 0.4716 - auc: 0.8518 - accuracy: 0.8056 - val_loss: 0.3449 - val_auc: 0.8436 - val_accuracy: 0.8782\n",
            "Epoch 21/100\n",
            "329/329 [==============================] - 322s 977ms/step - loss: 0.4694 - auc: 0.8540 - accuracy: 0.8098 - val_loss: 0.4404 - val_auc: 0.8406 - val_accuracy: 0.8311\n",
            "Epoch 22/100\n",
            "329/329 [==============================] - 322s 978ms/step - loss: 0.4659 - auc: 0.8551 - accuracy: 0.8115 - val_loss: 0.4194 - val_auc: 0.8545 - val_accuracy: 0.8449\n",
            "Epoch 23/100\n",
            "329/329 [==============================] - 322s 976ms/step - loss: 0.4645 - auc: 0.8555 - accuracy: 0.8141 - val_loss: 0.3547 - val_auc: 0.8530 - val_accuracy: 0.8794\n",
            "Epoch 24/100\n",
            "329/329 [==============================] - 321s 974ms/step - loss: 0.4593 - auc: 0.8602 - accuracy: 0.8159 - val_loss: 0.6896 - val_auc: 0.7994 - val_accuracy: 0.7264\n",
            "Epoch 25/100\n",
            "329/329 [==============================] - 322s 976ms/step - loss: 0.4582 - auc: 0.8606 - accuracy: 0.8204 - val_loss: 0.5597 - val_auc: 0.8484 - val_accuracy: 0.7691\n",
            "Epoch 26/100\n",
            "329/329 [==============================] - 322s 976ms/step - loss: 0.4570 - auc: 0.8611 - accuracy: 0.8219 - val_loss: 0.3407 - val_auc: 0.8245 - val_accuracy: 0.8915\n",
            "Epoch 27/100\n",
            "329/329 [==============================] - 362s 1s/step - loss: 0.4534 - auc: 0.8618 - accuracy: 0.8233 - val_loss: 0.4543 - val_auc: 0.8584 - val_accuracy: 0.8219\n",
            "Epoch 28/100\n",
            "329/329 [==============================] - 322s 976ms/step - loss: 0.4520 - auc: 0.8649 - accuracy: 0.8244 - val_loss: 0.4054 - val_auc: 0.8348 - val_accuracy: 0.8468\n",
            "Epoch 29/100\n",
            "329/329 [==============================] - 322s 977ms/step - loss: 0.4481 - auc: 0.8667 - accuracy: 0.8340 - val_loss: 0.5107 - val_auc: 0.8610 - val_accuracy: 0.7842\n",
            "Epoch 30/100\n",
            "329/329 [==============================] - 322s 977ms/step - loss: 0.4487 - auc: 0.8673 - accuracy: 0.8267 - val_loss: 0.3964 - val_auc: 0.8616 - val_accuracy: 0.8415\n",
            "Epoch 31/100\n",
            "329/329 [==============================] - 322s 976ms/step - loss: 0.4474 - auc: 0.8677 - accuracy: 0.8252 - val_loss: 0.6403 - val_auc: 0.8562 - val_accuracy: 0.6988\n",
            "Epoch 32/100\n",
            "329/329 [==============================] - 321s 975ms/step - loss: 0.4427 - auc: 0.8714 - accuracy: 0.8305 - val_loss: 0.3732 - val_auc: 0.8633 - val_accuracy: 0.8628\n",
            "Epoch 33/100\n",
            "329/329 [==============================] - 321s 975ms/step - loss: 0.4432 - auc: 0.8685 - accuracy: 0.8339 - val_loss: 0.4455 - val_auc: 0.8595 - val_accuracy: 0.8113\n",
            "Epoch 34/100\n",
            "329/329 [==============================] - 322s 976ms/step - loss: 0.4397 - auc: 0.8720 - accuracy: 0.8342 - val_loss: 0.4296 - val_auc: 0.8534 - val_accuracy: 0.8170\n",
            "Epoch 35/100\n",
            "329/329 [==============================] - 322s 977ms/step - loss: 0.4374 - auc: 0.8743 - accuracy: 0.8306 - val_loss: 0.3855 - val_auc: 0.8661 - val_accuracy: 0.8431\n",
            "Epoch 36/100\n",
            "329/329 [==============================] - 323s 980ms/step - loss: 0.4376 - auc: 0.8739 - accuracy: 0.8280 - val_loss: 0.3446 - val_auc: 0.8669 - val_accuracy: 0.8728\n",
            "Epoch 37/100\n",
            "329/329 [==============================] - 322s 978ms/step - loss: 0.4343 - auc: 0.8762 - accuracy: 0.8312 - val_loss: 0.3808 - val_auc: 0.8668 - val_accuracy: 0.8706\n",
            "Epoch 38/100\n",
            "329/329 [==============================] - 323s 979ms/step - loss: 0.4388 - auc: 0.8726 - accuracy: 0.8292 - val_loss: 0.4312 - val_auc: 0.8652 - val_accuracy: 0.8461\n",
            "Epoch 39/100\n",
            "329/329 [==============================] - 323s 979ms/step - loss: 0.4356 - auc: 0.8745 - accuracy: 0.8350 - val_loss: 0.3441 - val_auc: 0.8642 - val_accuracy: 0.8804\n",
            "Epoch 40/100\n",
            "329/329 [==============================] - 322s 978ms/step - loss: 0.4298 - auc: 0.8782 - accuracy: 0.8359 - val_loss: 0.4274 - val_auc: 0.8732 - val_accuracy: 0.8278\n",
            "Epoch 41/100\n",
            "329/329 [==============================] - 323s 979ms/step - loss: 0.4267 - auc: 0.8798 - accuracy: 0.8384 - val_loss: 0.3160 - val_auc: 0.8722 - val_accuracy: 0.8934\n",
            "Epoch 42/100\n",
            "329/329 [==============================] - 322s 978ms/step - loss: 0.4316 - auc: 0.8775 - accuracy: 0.8329 - val_loss: 0.4813 - val_auc: 0.8707 - val_accuracy: 0.7934\n",
            "Epoch 43/100\n",
            "329/329 [==============================] - 323s 979ms/step - loss: 0.4243 - auc: 0.8816 - accuracy: 0.8366 - val_loss: 0.4275 - val_auc: 0.8703 - val_accuracy: 0.8301\n",
            "Epoch 44/100\n",
            "329/329 [==============================] - 323s 979ms/step - loss: 0.4203 - auc: 0.8825 - accuracy: 0.8421 - val_loss: 0.3119 - val_auc: 0.8480 - val_accuracy: 0.8968\n",
            "Epoch 45/100\n",
            "329/329 [==============================] - 323s 979ms/step - loss: 0.4276 - auc: 0.8798 - accuracy: 0.8351 - val_loss: 0.3849 - val_auc: 0.8829 - val_accuracy: 0.8623\n",
            "Epoch 46/100\n",
            "329/329 [==============================] - 322s 977ms/step - loss: 0.4165 - auc: 0.8863 - accuracy: 0.8446 - val_loss: 0.5427 - val_auc: 0.8674 - val_accuracy: 0.7579\n",
            "Epoch 47/100\n",
            "329/329 [==============================] - 322s 978ms/step - loss: 0.4188 - auc: 0.8842 - accuracy: 0.8420 - val_loss: 0.4338 - val_auc: 0.8745 - val_accuracy: 0.8287\n",
            "Epoch 48/100\n",
            "329/329 [==============================] - 321s 975ms/step - loss: 0.4142 - auc: 0.8867 - accuracy: 0.8447 - val_loss: 0.4574 - val_auc: 0.8681 - val_accuracy: 0.7995\n",
            "Epoch 49/100\n",
            "329/329 [==============================] - 321s 975ms/step - loss: 0.4145 - auc: 0.8868 - accuracy: 0.8429 - val_loss: 0.3322 - val_auc: 0.8781 - val_accuracy: 0.8810\n",
            "Epoch 50/100\n",
            "329/329 [==============================] - ETA: 0s - loss: 0.4115 - auc: 0.8891 - accuracy: 0.8435Restoring model weights from the end of the best epoch: 45.\n",
            "329/329 [==============================] - 322s 978ms/step - loss: 0.4115 - auc: 0.8891 - accuracy: 0.8435 - val_loss: 0.3935 - val_auc: 0.8714 - val_accuracy: 0.8443\n",
            "Epoch 50: early stopping\n",
            "Found 3499 files belonging to 2 classes.\n",
            "55/55 [==============================] - 16s 274ms/step - loss: 0.3797 - auc: 0.8779 - accuracy: 0.8668\n",
            "[0.3797423839569092, 0.8779082298278809, 0.8668190836906433]\n"
          ]
        }
      ],
      "source": [
        "i = 9\n",
        "load_train_dir(i)\n",
        "model = train_model(w0, w1)\n",
        "print( test_model(model, \"/content/jpg_k\"+str(i)))"
      ]
    },
    {
      "cell_type": "code",
      "execution_count": 21,
      "metadata": {
        "id": "VzTfceRstyJm"
      },
      "outputs": [],
      "source": [
        "clear_train_dir()"
      ]
    }
  ],
  "metadata": {
    "accelerator": "GPU",
    "colab": {
      "collapsed_sections": [
        "jbKMS3SUTuPQ",
        "zE7m2r8LTzIg",
        "DkcjwfKbT160",
        "93yPvqGAV94J",
        "K8zxUDfJ3dTQ",
        "8DgiNBHH3gh_",
        "0WdjXNjqNnIw",
        "Sa73W3DpOP5B",
        "Pa-Ny986OT1B",
        "KM1DwPRmOXPB",
        "I2wTyDXROZuJ",
        "NmL9uV9SOaiQ",
        "a1vV2XmvObsA",
        "FivGE6h6Ocgo",
        "s348SlQBDP0Y",
        "422uDz-cDP0Z",
        "1g33JJQxDP0Z",
        "oP9B-96yDP0a",
        "x2AVZ-j0DP0a",
        "BizlMGxWDP0a",
        "5l86ud97DP0a",
        "nyJokgHADP0a",
        "TtcT3vaaDP0a",
        "SE7BLg8tDP0a",
        "bsMbIFvqDP0b",
        "pq8P_VIVWbrG",
        "0gN7LZ7xWbrG",
        "pyqY-nfxWbrH",
        "2O7kYXQMWbrH",
        "x9Z7KQv0WbrH",
        "8mTdqTg3WbrH",
        "gAWOxGX4WbrH",
        "Eth8nX_mWbrI",
        "HNgjSKV-WbrI",
        "M4R-46QyWbrI",
        "XrNOxeyHtyJj",
        "yeU9ls4XtyJk",
        "Ir7ptMEhtyJk",
        "HkqaBUW7tyJk",
        "oVoofqiutyJk",
        "eenYQX-BtyJl",
        "0hiaulhWtyJl",
        "bt90mJWwtyJl",
        "GRljAIw7tyJl",
        "VeaNObyktyJl"
      ],
      "provenance": []
    },
    "kernelspec": {
      "display_name": "Python 3",
      "name": "python3"
    },
    "language_info": {
      "name": "python"
    },
    "gpuClass": "standard"
  },
  "nbformat": 4,
  "nbformat_minor": 0
}