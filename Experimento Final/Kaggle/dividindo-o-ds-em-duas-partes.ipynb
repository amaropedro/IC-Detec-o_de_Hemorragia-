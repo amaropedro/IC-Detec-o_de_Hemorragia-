{
 "cells": [
  {
   "cell_type": "code",
   "execution_count": 1,
   "id": "efb6e1d2",
   "metadata": {
    "_cell_guid": "b1076dfc-b9ad-4769-8c92-a6c4dae69d19",
    "_uuid": "8f2839f25d086af736a60e9eeb907d3b93b6e0e5",
    "execution": {
     "iopub.execute_input": "2022-07-10T20:21:00.740241Z",
     "iopub.status.busy": "2022-07-10T20:21:00.739663Z",
     "iopub.status.idle": "2022-07-10T20:21:03.116092Z",
     "shell.execute_reply": "2022-07-10T20:21:03.114517Z"
    },
    "papermill": {
     "duration": 2.384972,
     "end_time": "2022-07-10T20:21:03.119229",
     "exception": false,
     "start_time": "2022-07-10T20:21:00.734257",
     "status": "completed"
    },
    "tags": []
   },
   "outputs": [],
   "source": [
    "!mkdir ~/.kaggle\n",
    "!cp ../input/kagglejson/kaggle.json ~/.kaggle\n",
    "!chmod 600 /root/.kaggle/kaggle.json"
   ]
  },
  {
   "cell_type": "code",
   "execution_count": 2,
   "id": "2a6ff185",
   "metadata": {
    "execution": {
     "iopub.execute_input": "2022-07-10T20:21:03.126415Z",
     "iopub.status.busy": "2022-07-10T20:21:03.126007Z",
     "iopub.status.idle": "2022-07-10T20:21:03.197210Z",
     "shell.execute_reply": "2022-07-10T20:21:03.196313Z"
    },
    "papermill": {
     "duration": 0.077585,
     "end_time": "2022-07-10T20:21:03.199640",
     "exception": false,
     "start_time": "2022-07-10T20:21:03.122055",
     "status": "completed"
    },
    "tags": []
   },
   "outputs": [],
   "source": [
    "import kaggle\n",
    "import shutil\n",
    "import os"
   ]
  },
  {
   "cell_type": "code",
   "execution_count": 3,
   "id": "ee524875",
   "metadata": {
    "execution": {
     "iopub.execute_input": "2022-07-10T20:21:03.206864Z",
     "iopub.status.busy": "2022-07-10T20:21:03.206195Z",
     "iopub.status.idle": "2022-07-10T20:21:05.632068Z",
     "shell.execute_reply": "2022-07-10T20:21:05.631049Z"
    },
    "papermill": {
     "duration": 2.432256,
     "end_time": "2022-07-10T20:21:05.634596",
     "exception": false,
     "start_time": "2022-07-10T20:21:03.202340",
     "status": "completed"
    },
    "tags": []
   },
   "outputs": [
    {
     "name": "stdout",
     "output_type": "stream",
     "text": [
      "Numero de imagens: NO\n",
      "30069\r\n",
      "Numero de imagens: YES\n",
      "4930\r\n"
     ]
    }
   ],
   "source": [
    "print('Numero de imagens: NO')\n",
    "!ls ../input/smaller-rsnas-ds-ver-10/small_rsna_ds/no | wc -l\n",
    "print('Numero de imagens: YES')\n",
    "!ls ../input/smaller-rsnas-ds-ver-10/small_rsna_ds/yes | wc -l"
   ]
  },
  {
   "cell_type": "code",
   "execution_count": 4,
   "id": "58ba09db",
   "metadata": {
    "execution": {
     "iopub.execute_input": "2022-07-10T20:21:05.642481Z",
     "iopub.status.busy": "2022-07-10T20:21:05.642053Z",
     "iopub.status.idle": "2022-07-10T20:21:05.647798Z",
     "shell.execute_reply": "2022-07-10T20:21:05.646662Z"
    },
    "papermill": {
     "duration": 0.01281,
     "end_time": "2022-07-10T20:21:05.650442",
     "exception": false,
     "start_time": "2022-07-10T20:21:05.637632",
     "status": "completed"
    },
    "tags": []
   },
   "outputs": [
    {
     "name": "stdout",
     "output_type": "stream",
     "text": [
      "20046\n",
      "3286\n"
     ]
    }
   ],
   "source": [
    "print(int(30069*(2/3)))\n",
    "print(int(4930*(2/3)))"
   ]
  },
  {
   "cell_type": "code",
   "execution_count": 5,
   "id": "29c7cf8a",
   "metadata": {
    "execution": {
     "iopub.execute_input": "2022-07-10T20:21:05.657945Z",
     "iopub.status.busy": "2022-07-10T20:21:05.657233Z",
     "iopub.status.idle": "2022-07-10T20:21:10.420126Z",
     "shell.execute_reply": "2022-07-10T20:21:10.418816Z"
    },
    "papermill": {
     "duration": 4.769207,
     "end_time": "2022-07-10T20:21:10.422561",
     "exception": false,
     "start_time": "2022-07-10T20:21:05.653354",
     "status": "completed"
    },
    "tags": []
   },
   "outputs": [],
   "source": [
    "!mkdir small_rsna_ds_train\n",
    "!mkdir small_rsna_ds_train/yes\n",
    "!mkdir small_rsna_ds_train/no\n",
    "\n",
    "!mkdir small_rsna_ds_test\n",
    "!mkdir small_rsna_ds_test/yes\n",
    "!mkdir small_rsna_ds_test/no"
   ]
  },
  {
   "cell_type": "code",
   "execution_count": 6,
   "id": "ccfd57f4",
   "metadata": {
    "execution": {
     "iopub.execute_input": "2022-07-10T20:21:10.431229Z",
     "iopub.status.busy": "2022-07-10T20:21:10.430537Z",
     "iopub.status.idle": "2022-07-10T20:22:13.392327Z",
     "shell.execute_reply": "2022-07-10T20:22:13.389608Z"
    },
    "papermill": {
     "duration": 62.971907,
     "end_time": "2022-07-10T20:22:13.398052",
     "exception": false,
     "start_time": "2022-07-10T20:21:10.426145",
     "status": "completed"
    },
    "tags": []
   },
   "outputs": [],
   "source": [
    "cont = 0\n",
    "for file in os.listdir('../input/smaller-rsnas-ds-ver-10/small_rsna_ds/yes'):\n",
    "    if cont <= 3286:\n",
    "        shutil.copy('../input/smaller-rsnas-ds-ver-10/small_rsna_ds/yes/' + file, './small_rsna_ds_train/yes')\n",
    "    else:\n",
    "        shutil.copy('../input/smaller-rsnas-ds-ver-10/small_rsna_ds/yes/' + file, './small_rsna_ds_test/yes')\n",
    "    cont+=1\n",
    "    \n",
    "    "
   ]
  },
  {
   "cell_type": "code",
   "execution_count": 7,
   "id": "27e69d81",
   "metadata": {
    "execution": {
     "iopub.execute_input": "2022-07-10T20:22:13.410780Z",
     "iopub.status.busy": "2022-07-10T20:22:13.410293Z",
     "iopub.status.idle": "2022-07-10T20:27:47.769591Z",
     "shell.execute_reply": "2022-07-10T20:27:47.767860Z"
    },
    "papermill": {
     "duration": 334.369925,
     "end_time": "2022-07-10T20:27:47.774260",
     "exception": false,
     "start_time": "2022-07-10T20:22:13.404335",
     "status": "completed"
    },
    "tags": []
   },
   "outputs": [],
   "source": [
    "cont = 0\n",
    "for file in os.listdir('../input/smaller-rsnas-ds-ver-10/small_rsna_ds/no'):\n",
    "    if cont <= 20046:\n",
    "        shutil.copy('../input/smaller-rsnas-ds-ver-10/small_rsna_ds/no/' + file, './small_rsna_ds_train/no')\n",
    "    else:\n",
    "        shutil.copy('../input/smaller-rsnas-ds-ver-10/small_rsna_ds/no/' + file, './small_rsna_ds_test/no')\n",
    "    cont+=1\n",
    "    "
   ]
  },
  {
   "cell_type": "code",
   "execution_count": 8,
   "id": "ddd563f6",
   "metadata": {
    "execution": {
     "iopub.execute_input": "2022-07-10T20:27:47.785030Z",
     "iopub.status.busy": "2022-07-10T20:27:47.783987Z",
     "iopub.status.idle": "2022-07-10T20:27:49.522451Z",
     "shell.execute_reply": "2022-07-10T20:27:49.521314Z"
    },
    "papermill": {
     "duration": 1.745761,
     "end_time": "2022-07-10T20:27:49.525357",
     "exception": false,
     "start_time": "2022-07-10T20:27:47.779596",
     "status": "completed"
    },
    "tags": []
   },
   "outputs": [
    {
     "name": "stdout",
     "output_type": "stream",
     "text": [
      "Numero de imagens: NO\n",
      "10022\r\n",
      "Numero de imagens: YES\n",
      "1643\r\n"
     ]
    }
   ],
   "source": [
    "print('Numero de imagens: NO')\n",
    "!ls ./small_rsna_ds_test/no | wc -l\n",
    "print('Numero de imagens: YES')\n",
    "!ls ./small_rsna_ds_test/yes | wc -l"
   ]
  },
  {
   "cell_type": "code",
   "execution_count": 9,
   "id": "3dd4e48b",
   "metadata": {
    "execution": {
     "iopub.execute_input": "2022-07-10T20:27:49.534255Z",
     "iopub.status.busy": "2022-07-10T20:27:49.533691Z",
     "iopub.status.idle": "2022-07-10T20:27:51.224041Z",
     "shell.execute_reply": "2022-07-10T20:27:51.222818Z"
    },
    "papermill": {
     "duration": 1.697647,
     "end_time": "2022-07-10T20:27:51.226559",
     "exception": false,
     "start_time": "2022-07-10T20:27:49.528912",
     "status": "completed"
    },
    "tags": []
   },
   "outputs": [
    {
     "name": "stdout",
     "output_type": "stream",
     "text": [
      "Numero de imagens: NO\n",
      "20047\r\n",
      "Numero de imagens: YES\n",
      "3287\r\n"
     ]
    }
   ],
   "source": [
    "print('Numero de imagens: NO')\n",
    "!ls ./small_rsna_ds_train/no | wc -l\n",
    "print('Numero de imagens: YES')\n",
    "!ls ./small_rsna_ds_train/yes | wc -l"
   ]
  }
 ],
 "metadata": {
  "kernelspec": {
   "display_name": "Python 3",
   "language": "python",
   "name": "python3"
  },
  "language_info": {
   "codemirror_mode": {
    "name": "ipython",
    "version": 3
   },
   "file_extension": ".py",
   "mimetype": "text/x-python",
   "name": "python",
   "nbconvert_exporter": "python",
   "pygments_lexer": "ipython3",
   "version": "3.7.12"
  },
  "papermill": {
   "default_parameters": {},
   "duration": 420.288633,
   "end_time": "2022-07-10T20:27:52.155382",
   "environment_variables": {},
   "exception": null,
   "input_path": "__notebook__.ipynb",
   "output_path": "__notebook__.ipynb",
   "parameters": {},
   "start_time": "2022-07-10T20:20:51.866749",
   "version": "2.3.4"
  }
 },
 "nbformat": 4,
 "nbformat_minor": 5
}
