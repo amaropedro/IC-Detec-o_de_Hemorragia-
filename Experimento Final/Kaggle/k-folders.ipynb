{
 "cells": [
  {
   "cell_type": "markdown",
   "id": "ad5958ca",
   "metadata": {
    "papermill": {
     "duration": 0.005465,
     "end_time": "2022-09-13T22:33:18.043161",
     "exception": false,
     "start_time": "2022-09-13T22:33:18.037696",
     "status": "completed"
    },
    "tags": []
   },
   "source": [
    "# Separando o DS em 10 folders"
   ]
  },
  {
   "cell_type": "markdown",
   "id": "e1d84b95",
   "metadata": {
    "papermill": {
     "duration": 0.003924,
     "end_time": "2022-09-13T22:33:18.051512",
     "exception": false,
     "start_time": "2022-09-13T22:33:18.047588",
     "status": "completed"
    },
    "tags": []
   },
   "source": [
    "## Imports & Installs"
   ]
  },
  {
   "cell_type": "code",
   "execution_count": 1,
   "id": "3d09121a",
   "metadata": {
    "execution": {
     "iopub.execute_input": "2022-09-13T22:33:18.062441Z",
     "iopub.status.busy": "2022-09-13T22:33:18.061547Z",
     "iopub.status.idle": "2022-09-13T22:33:21.458228Z",
     "shell.execute_reply": "2022-09-13T22:33:21.456649Z"
    },
    "papermill": {
     "duration": 3.405593,
     "end_time": "2022-09-13T22:33:21.461196",
     "exception": false,
     "start_time": "2022-09-13T22:33:18.055603",
     "status": "completed"
    },
    "tags": []
   },
   "outputs": [],
   "source": [
    "!mkdir ~/.kaggle\n",
    "!cp ../input/kagglejson/kaggle.json ~/.kaggle\n",
    "!chmod 600 /root/.kaggle/kaggle.json"
   ]
  },
  {
   "cell_type": "code",
   "execution_count": 2,
   "id": "4da65e95",
   "metadata": {
    "execution": {
     "iopub.execute_input": "2022-09-13T22:33:21.472378Z",
     "iopub.status.busy": "2022-09-13T22:33:21.471228Z",
     "iopub.status.idle": "2022-09-13T22:33:21.476222Z",
     "shell.execute_reply": "2022-09-13T22:33:21.475375Z"
    },
    "papermill": {
     "duration": 0.012826,
     "end_time": "2022-09-13T22:33:21.478438",
     "exception": false,
     "start_time": "2022-09-13T22:33:21.465612",
     "status": "completed"
    },
    "tags": []
   },
   "outputs": [],
   "source": [
    "import os\n",
    "import shutil\n",
    "import random"
   ]
  },
  {
   "cell_type": "markdown",
   "id": "36ccf235",
   "metadata": {
    "papermill": {
     "duration": 0.003982,
     "end_time": "2022-09-13T22:33:21.486794",
     "exception": false,
     "start_time": "2022-09-13T22:33:21.482812",
     "status": "completed"
    },
    "tags": []
   },
   "source": [
    "## Criando diretorios"
   ]
  },
  {
   "cell_type": "code",
   "execution_count": 3,
   "id": "585b1db4",
   "metadata": {
    "execution": {
     "iopub.execute_input": "2022-09-13T22:33:21.497505Z",
     "iopub.status.busy": "2022-09-13T22:33:21.496660Z",
     "iopub.status.idle": "2022-09-13T22:33:57.452979Z",
     "shell.execute_reply": "2022-09-13T22:33:57.451660Z"
    },
    "papermill": {
     "duration": 35.96459,
     "end_time": "2022-09-13T22:33:57.455761",
     "exception": false,
     "start_time": "2022-09-13T22:33:21.491171",
     "status": "completed"
    },
    "tags": []
   },
   "outputs": [],
   "source": [
    "!mkdir yes\n",
    "!mkdir no\n",
    "!mkdir k0\n",
    "!mkdir k1\n",
    "!mkdir k2\n",
    "!mkdir k3\n",
    "!mkdir k4\n",
    "!mkdir k5\n",
    "!mkdir k6\n",
    "!mkdir k7\n",
    "!mkdir k8\n",
    "!mkdir k9\n",
    "\n",
    "!mkdir k0/yes\n",
    "!mkdir k1/yes\n",
    "!mkdir k2/yes\n",
    "!mkdir k3/yes\n",
    "!mkdir k4/yes\n",
    "!mkdir k5/yes\n",
    "!mkdir k6/yes\n",
    "!mkdir k7/yes\n",
    "!mkdir k8/yes\n",
    "!mkdir k9/yes\n",
    "\n",
    "!mkdir k0/no\n",
    "!mkdir k1/no\n",
    "!mkdir k2/no\n",
    "!mkdir k3/no\n",
    "!mkdir k4/no\n",
    "!mkdir k5/no\n",
    "!mkdir k6/no\n",
    "!mkdir k7/no\n",
    "!mkdir k8/no\n",
    "!mkdir k9/no"
   ]
  },
  {
   "cell_type": "code",
   "execution_count": 4,
   "id": "52119427",
   "metadata": {
    "execution": {
     "iopub.execute_input": "2022-09-13T22:33:57.466722Z",
     "iopub.status.busy": "2022-09-13T22:33:57.466018Z",
     "iopub.status.idle": "2022-09-13T22:34:00.489536Z",
     "shell.execute_reply": "2022-09-13T22:34:00.488269Z"
    },
    "papermill": {
     "duration": 3.032104,
     "end_time": "2022-09-13T22:34:00.492320",
     "exception": false,
     "start_time": "2022-09-13T22:33:57.460216",
     "status": "completed"
    },
    "tags": []
   },
   "outputs": [
    {
     "name": "stdout",
     "output_type": "stream",
     "text": [
      "Numero de imagens: NO\n",
      "30069\r\n",
      "Numero de imagens: YES\n",
      "4930\r\n"
     ]
    }
   ],
   "source": [
    "print('Numero de imagens: NO')\n",
    "!ls ../input/smaller-rsnas-ds-ver-10/small_rsna_ds/no | wc -l\n",
    "print('Numero de imagens: YES')\n",
    "!ls ../input/smaller-rsnas-ds-ver-10/small_rsna_ds/yes | wc -l"
   ]
  },
  {
   "cell_type": "code",
   "execution_count": 5,
   "id": "d9401ac0",
   "metadata": {
    "execution": {
     "iopub.execute_input": "2022-09-13T22:34:00.503614Z",
     "iopub.status.busy": "2022-09-13T22:34:00.503184Z",
     "iopub.status.idle": "2022-09-13T22:34:47.228793Z",
     "shell.execute_reply": "2022-09-13T22:34:47.227564Z"
    },
    "papermill": {
     "duration": 46.734576,
     "end_time": "2022-09-13T22:34:47.231707",
     "exception": false,
     "start_time": "2022-09-13T22:34:00.497131",
     "status": "completed"
    },
    "tags": []
   },
   "outputs": [],
   "source": [
    "for file in os.listdir(\"../input/smaller-rsnas-ds-ver-10/small_rsna_ds/yes\"):\n",
    "    shutil.copy(\"../input/smaller-rsnas-ds-ver-10/small_rsna_ds/yes/\" + file, \"./yes\")"
   ]
  },
  {
   "cell_type": "code",
   "execution_count": 6,
   "id": "ef61bc82",
   "metadata": {
    "execution": {
     "iopub.execute_input": "2022-09-13T22:34:49.313564Z",
     "iopub.status.busy": "2022-09-13T22:34:49.312511Z",
     "iopub.status.idle": "2022-09-13T22:39:58.073303Z",
     "shell.execute_reply": "2022-09-13T22:39:58.071024Z"
    },
    "papermill": {
     "duration": 310.841312,
     "end_time": "2022-09-13T22:39:58.078458",
     "exception": false,
     "start_time": "2022-09-13T22:34:47.237146",
     "status": "completed"
    },
    "tags": []
   },
   "outputs": [],
   "source": [
    "for file in os.listdir(\"../input/smaller-rsnas-ds-ver-10/small_rsna_ds/no\"):\n",
    "    shutil.copy(\"../input/smaller-rsnas-ds-ver-10/small_rsna_ds/no/\" + file, \"./no\")"
   ]
  },
  {
   "cell_type": "code",
   "execution_count": 7,
   "id": "028b7df9",
   "metadata": {
    "execution": {
     "iopub.execute_input": "2022-09-13T22:39:58.094246Z",
     "iopub.status.busy": "2022-09-13T22:39:58.093725Z",
     "iopub.status.idle": "2022-09-13T22:39:59.327346Z",
     "shell.execute_reply": "2022-09-13T22:39:59.326127Z"
    },
    "papermill": {
     "duration": 1.243863,
     "end_time": "2022-09-13T22:39:59.330221",
     "exception": false,
     "start_time": "2022-09-13T22:39:58.086358",
     "status": "completed"
    },
    "tags": []
   },
   "outputs": [
    {
     "name": "stdout",
     "output_type": "stream",
     "text": [
      "Numero de imagens: NO\n",
      "30069\r\n"
     ]
    }
   ],
   "source": [
    "print('Numero de imagens: NO')\n",
    "!ls ./no | wc -l"
   ]
  },
  {
   "cell_type": "code",
   "execution_count": 8,
   "id": "2131952a",
   "metadata": {
    "execution": {
     "iopub.execute_input": "2022-09-13T22:39:59.342251Z",
     "iopub.status.busy": "2022-09-13T22:39:59.341069Z",
     "iopub.status.idle": "2022-09-13T22:40:00.476106Z",
     "shell.execute_reply": "2022-09-13T22:40:00.474528Z"
    },
    "papermill": {
     "duration": 1.144003,
     "end_time": "2022-09-13T22:40:00.479072",
     "exception": false,
     "start_time": "2022-09-13T22:39:59.335069",
     "status": "completed"
    },
    "tags": []
   },
   "outputs": [
    {
     "name": "stdout",
     "output_type": "stream",
     "text": [
      "Numero de imagens: YES\n",
      "4930\r\n"
     ]
    }
   ],
   "source": [
    "print('Numero de imagens: YES')\n",
    "!ls ./yes | wc -l"
   ]
  },
  {
   "cell_type": "code",
   "execution_count": 9,
   "id": "268058b4",
   "metadata": {
    "execution": {
     "iopub.execute_input": "2022-09-13T22:40:00.491709Z",
     "iopub.status.busy": "2022-09-13T22:40:00.490674Z",
     "iopub.status.idle": "2022-09-13T22:40:07.203366Z",
     "shell.execute_reply": "2022-09-13T22:40:07.201976Z"
    },
    "papermill": {
     "duration": 6.722159,
     "end_time": "2022-09-13T22:40:07.206209",
     "exception": false,
     "start_time": "2022-09-13T22:40:00.484050",
     "status": "completed"
    },
    "tags": []
   },
   "outputs": [],
   "source": [
    "for i in range(10):\n",
    "    dir = \"k\"+str(i)\n",
    "    for j in range(493):\n",
    "        file = \"./yes/\" + random.choice(os.listdir(\"./yes\"))\n",
    "        shutil.move(file, dir+\"/yes\")"
   ]
  },
  {
   "cell_type": "code",
   "execution_count": 10,
   "id": "63f927cb",
   "metadata": {
    "execution": {
     "iopub.execute_input": "2022-09-13T22:40:07.220862Z",
     "iopub.status.busy": "2022-09-13T22:40:07.220491Z",
     "iopub.status.idle": "2022-09-13T22:40:19.676622Z",
     "shell.execute_reply": "2022-09-13T22:40:19.675073Z"
    },
    "papermill": {
     "duration": 12.465987,
     "end_time": "2022-09-13T22:40:19.680205",
     "exception": false,
     "start_time": "2022-09-13T22:40:07.214218",
     "status": "completed"
    },
    "tags": []
   },
   "outputs": [
    {
     "name": "stdout",
     "output_type": "stream",
     "text": [
      "Numero de imagens: YES\n",
      "0\r\n",
      "493\r\n",
      "493\r\n",
      "493\r\n",
      "493\r\n",
      "493\r\n",
      "493\r\n",
      "493\r\n",
      "493\r\n",
      "493\r\n",
      "493\r\n"
     ]
    }
   ],
   "source": [
    "print('Numero de imagens: YES')\n",
    "!ls ./yes | wc -l\n",
    "\n",
    "!ls k0/yes | wc -l\n",
    "!ls k1/yes | wc -l\n",
    "!ls k2/yes | wc -l\n",
    "!ls k3/yes | wc -l\n",
    "!ls k4/yes | wc -l\n",
    "!ls k5/yes | wc -l\n",
    "!ls k6/yes | wc -l\n",
    "!ls k7/yes | wc -l\n",
    "!ls k8/yes | wc -l\n",
    "!ls k9/yes | wc -l"
   ]
  },
  {
   "cell_type": "code",
   "execution_count": 11,
   "id": "9da740ab",
   "metadata": {
    "execution": {
     "iopub.execute_input": "2022-09-13T22:40:19.695220Z",
     "iopub.status.busy": "2022-09-13T22:40:19.693927Z",
     "iopub.status.idle": "2022-09-13T22:44:40.690755Z",
     "shell.execute_reply": "2022-09-13T22:44:40.688850Z"
    },
    "papermill": {
     "duration": 261.008475,
     "end_time": "2022-09-13T22:44:40.694791",
     "exception": false,
     "start_time": "2022-09-13T22:40:19.686316",
     "status": "completed"
    },
    "tags": []
   },
   "outputs": [],
   "source": [
    "for i in range(9):\n",
    "    dir = \"k\"+str(i)\n",
    "    for j in range(3007):\n",
    "        file = \"./no/\" + random.choice(os.listdir(\"./no\"))\n",
    "        shutil.move(file, dir+\"/no\")\n",
    "        \n",
    "dir = \"k9\"\n",
    "for j in range(3006):\n",
    "        file = \"./no/\" + random.choice(os.listdir(\"./no\"))\n",
    "        shutil.move(file, dir+\"/no\")"
   ]
  },
  {
   "cell_type": "code",
   "execution_count": 12,
   "id": "4031e3dc",
   "metadata": {
    "execution": {
     "iopub.execute_input": "2022-09-13T22:44:40.709483Z",
     "iopub.status.busy": "2022-09-13T22:44:40.708861Z",
     "iopub.status.idle": "2022-09-13T22:44:53.280589Z",
     "shell.execute_reply": "2022-09-13T22:44:53.279119Z"
    },
    "papermill": {
     "duration": 12.582067,
     "end_time": "2022-09-13T22:44:53.283523",
     "exception": false,
     "start_time": "2022-09-13T22:44:40.701456",
     "status": "completed"
    },
    "tags": []
   },
   "outputs": [
    {
     "name": "stdout",
     "output_type": "stream",
     "text": [
      "Numero de imagens: NO\n",
      "0\r\n",
      "3007\r\n",
      "3007\r\n",
      "3007\r\n",
      "3007\r\n",
      "3007\r\n",
      "3007\r\n",
      "3007\r\n",
      "3007\r\n",
      "3007\r\n",
      "3006\r\n"
     ]
    }
   ],
   "source": [
    "print('Numero de imagens: NO')\n",
    "!ls ./no | wc -l\n",
    "\n",
    "!ls k0/no | wc -l\n",
    "!ls k1/no | wc -l\n",
    "!ls k2/no | wc -l\n",
    "!ls k3/no | wc -l\n",
    "!ls k4/no | wc -l\n",
    "!ls k5/no | wc -l\n",
    "!ls k6/no | wc -l\n",
    "!ls k7/no | wc -l\n",
    "!ls k8/no | wc -l\n",
    "!ls k9/no | wc -l"
   ]
  },
  {
   "cell_type": "code",
   "execution_count": 13,
   "id": "e914266b",
   "metadata": {
    "execution": {
     "iopub.execute_input": "2022-09-13T22:44:53.299128Z",
     "iopub.status.busy": "2022-09-13T22:44:53.297825Z",
     "iopub.status.idle": "2022-09-13T22:44:55.534676Z",
     "shell.execute_reply": "2022-09-13T22:44:55.533377Z"
    },
    "papermill": {
     "duration": 2.247329,
     "end_time": "2022-09-13T22:44:55.537199",
     "exception": false,
     "start_time": "2022-09-13T22:44:53.289870",
     "status": "completed"
    },
    "tags": []
   },
   "outputs": [],
   "source": [
    "!rmdir ./yes\n",
    "!rmdir ./no"
   ]
  }
 ],
 "metadata": {
  "kernelspec": {
   "display_name": "Python 3",
   "language": "python",
   "name": "python3"
  },
  "language_info": {
   "codemirror_mode": {
    "name": "ipython",
    "version": 3
   },
   "file_extension": ".py",
   "mimetype": "text/x-python",
   "name": "python",
   "nbconvert_exporter": "python",
   "pygments_lexer": "ipython3",
   "version": "3.7.12"
  },
  "papermill": {
   "default_parameters": {},
   "duration": 707.725262,
   "end_time": "2022-09-13T22:44:56.369135",
   "environment_variables": {},
   "exception": null,
   "input_path": "__notebook__.ipynb",
   "output_path": "__notebook__.ipynb",
   "parameters": {},
   "start_time": "2022-09-13T22:33:08.643873",
   "version": "2.3.4"
  }
 },
 "nbformat": 4,
 "nbformat_minor": 5
}
