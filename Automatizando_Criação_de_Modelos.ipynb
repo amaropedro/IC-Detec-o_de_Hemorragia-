{
  "nbformat": 4,
  "nbformat_minor": 0,
  "metadata": {
    "colab": {
      "name": "Automatizando Criação de Modelos",
      "provenance": []
    },
    "kernelspec": {
      "name": "python3",
      "display_name": "Python 3"
    },
    "language_info": {
      "name": "python"
    }
  },
  "cells": [
    {
      "cell_type": "code",
      "source": [
        "import keras\n",
        "from keras.models import Sequential\n",
        "from keras.layers import Dense, Dropout, Activation, Flatten\n",
        "from keras.layers import Conv2D, MaxPooling2D"
      ],
      "metadata": {
        "id": "atcqJKY9vOvJ"
      },
      "execution_count": 4,
      "outputs": []
    },
    {
      "cell_type": "code",
      "execution_count": 15,
      "metadata": {
        "id": "1l1O_WQitTeK"
      },
      "outputs": [],
      "source": [
        "def create_model(IS, N, L, D):\n",
        "    keras.backend.clear_session()\n",
        "    i=0\n",
        "    model = Sequential()\n",
        "\n",
        "    model.add(Conv2D(32, (3,3), padding=\"same\", activation=\"relu\", input_shape=IS))\n",
        "    if D == 1 or D == 5:\n",
        "      model.add(Dropout(0.1))\n",
        "    model.add(MaxPooling2D(pool_size=(2, 2)))\n",
        "\n",
        "    model.add(Conv2D(32, (3,3), padding=\"same\", strides = (2,2), activation=\"relu\"))\n",
        "    if D == 1 or D == 5:\n",
        "      model.add(Dropout(0.1))   \n",
        "    model.add(MaxPooling2D(pool_size=(2, 2)))\n",
        "\n",
        "    model.add(Conv2D(64, (3,3), padding=\"same\", strides = (2,2), activation=\"relu\"))\n",
        "    if D == 1 or D == 2 or D == 5 or D == 6:\n",
        "      model.add(Dropout(0.1))\n",
        "    model.add(MaxPooling2D(pool_size=(2, 2)))\n",
        "\n",
        "    model.add(Flatten())\n",
        "\n",
        "    while i < L-1:\n",
        "      model.add(Dense(N, activation=\"relu\"))    \n",
        "      if D == 1 or D == 3:\n",
        "        model.add(Dropout(0.5))\n",
        "      i += 1\n",
        "\n",
        "    model.add(Dense(N, activation=\"relu\"))\n",
        "    if D == 1 or D == 2 or D == 3 or D == 4:\n",
        "      model.add(Dropout(0.5))\n",
        "\n",
        "    model.add(Dense(1, activation=\"sigmoid\"))\n",
        "\n",
        "    return model.summary()"
      ]
    },
    {
      "cell_type": "code",
      "source": [
        "input_shape = (256, 256, 3)\n",
        "create_model(input_shape, 1024, 1, 0)"
      ],
      "metadata": {
        "colab": {
          "base_uri": "https://localhost:8080/"
        },
        "id": "vCII8iUHyJbd",
        "outputId": "d784ca4b-c229-473e-fb89-b0e23c84867a"
      },
      "execution_count": 16,
      "outputs": [
        {
          "output_type": "stream",
          "name": "stdout",
          "text": [
            "Model: \"sequential\"\n",
            "_________________________________________________________________\n",
            " Layer (type)                Output Shape              Param #   \n",
            "=================================================================\n",
            " conv2d (Conv2D)             (None, 256, 256, 32)      896       \n",
            "                                                                 \n",
            " max_pooling2d (MaxPooling2D  (None, 128, 128, 32)     0         \n",
            " )                                                               \n",
            "                                                                 \n",
            " conv2d_1 (Conv2D)           (None, 64, 64, 32)        9248      \n",
            "                                                                 \n",
            " max_pooling2d_1 (MaxPooling  (None, 32, 32, 32)       0         \n",
            " 2D)                                                             \n",
            "                                                                 \n",
            " conv2d_2 (Conv2D)           (None, 16, 16, 64)        18496     \n",
            "                                                                 \n",
            " max_pooling2d_2 (MaxPooling  (None, 8, 8, 64)         0         \n",
            " 2D)                                                             \n",
            "                                                                 \n",
            " flatten (Flatten)           (None, 4096)              0         \n",
            "                                                                 \n",
            " dense (Dense)               (None, 1024)              4195328   \n",
            "                                                                 \n",
            " dense_1 (Dense)             (None, 1)                 1025      \n",
            "                                                                 \n",
            "=================================================================\n",
            "Total params: 4,224,993\n",
            "Trainable params: 4,224,993\n",
            "Non-trainable params: 0\n",
            "_________________________________________________________________\n"
          ]
        }
      ]
    }
  ]
}