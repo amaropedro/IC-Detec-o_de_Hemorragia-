{
  "cells": [
    {
      "cell_type": "markdown",
      "metadata": {
        "id": "Hdc5N7gp_jyz"
      },
      "source": [
        "#Experimentos de dropout\n",
        "Com **512, 1024** [N]euronios. **1, 2, 3** [L]ayers. **Sem, All, 1 Last Dense 1 e Last CNN, Só All Dense, Só Last Dense, Só All CNN, Só Last CNN** [D]ropout.\n",
        "\n",
        "Parametros:\n",
        "* Batch\t64\n",
        "* epocas\t100\n",
        "* LR\t1,00E-05\n",
        "* Optimizer\tAdam\n",
        "\n",
        "Parametros Early Stopping:\n",
        "* Monitor\tval_auc\n",
        "* Min_delta\t0\n",
        "* Patience\t5\n",
        "* verbose\t1\n",
        "* mode\tauto\n",
        "* baseline\tnone\n",
        "* restore_best_weights\tTrue"
      ]
    },
    {
      "cell_type": "markdown",
      "metadata": {
        "id": "kh6HufBFBOQW"
      },
      "source": [
        "# Imports e Installs"
      ]
    },
    {
      "cell_type": "code",
      "execution_count": null,
      "metadata": {
        "colab": {
          "base_uri": "https://localhost:8080/"
        },
        "id": "dBxew98D_f3d",
        "outputId": "db3d9a9d-66b0-4746-8810-cf23bf37b17f"
      },
      "outputs": [
        {
          "name": "stdout",
          "output_type": "stream",
          "text": [
            "Looking in indexes: https://pypi.org/simple, https://us-python.pkg.dev/colab-wheels/public/simple/\n",
            "Collecting pydicom\n",
            "  Downloading pydicom-2.3.0-py3-none-any.whl (2.0 MB)\n",
            "\u001b[K     |████████████████████████████████| 2.0 MB 28.6 MB/s \n",
            "\u001b[?25hInstalling collected packages: pydicom\n",
            "Successfully installed pydicom-2.3.0\n"
          ]
        }
      ],
      "source": [
        "import keras\n",
        "from keras.models import Sequential\n",
        "from keras.layers import Dense, Dropout, Activation, Flatten, Rescaling\n",
        "from keras.layers import Conv2D, MaxPooling2D\n",
        "from tensorflow.keras import optimizers\n",
        "from tensorflow.keras.utils import image_dataset_from_directory\n",
        "from tensorflow.keras.callbacks import TensorBoard\n",
        "\n",
        "!pip install pydicom\n",
        "import numpy as np\n",
        "import pydicom\n",
        "from PIL import Image\n",
        "import os\n",
        "\n",
        "import matplotlib.pyplot as plt\n",
        "%matplotlib inline\n",
        "\n",
        "import pickle\n",
        "import cv2"
      ]
    },
    {
      "cell_type": "code",
      "execution_count": null,
      "metadata": {
        "colab": {
          "base_uri": "https://localhost:8080/"
        },
        "id": "4QiRom9VBXyO",
        "outputId": "f50edd20-79f7-46b4-8686-deef73bd8ca2"
      },
      "outputs": [
        {
          "name": "stdout",
          "output_type": "stream",
          "text": [
            "Mounted at /content/gdrive\n"
          ]
        }
      ],
      "source": [
        "from google.colab import drive\n",
        "drive.mount('/content/gdrive')"
      ]
    },
    {
      "cell_type": "code",
      "execution_count": null,
      "metadata": {
        "id": "jMgO-lGHBZjo"
      },
      "outputs": [],
      "source": [
        "!mkdir ~/.kaggle\n",
        "! cp kaggle.json ~/.kaggle/\n",
        "!chmod 600 /root/.kaggle/kaggle.json"
      ]
    },
    {
      "cell_type": "markdown",
      "metadata": {
        "id": "mhDRQJZjBsfu"
      },
      "source": [
        "# Ajustando o DS"
      ]
    },
    {
      "cell_type": "markdown",
      "metadata": {
        "id": "k7yjVCRxBvcy"
      },
      "source": [
        "## Baixando o DS"
      ]
    },
    {
      "cell_type": "code",
      "execution_count": null,
      "metadata": {
        "colab": {
          "base_uri": "https://localhost:8080/"
        },
        "id": "BL-zCU80wu8Q",
        "outputId": "8041f1ac-e3cf-4165-9630-82703ad57cec"
      },
      "outputs": [
        {
          "name": "stdout",
          "output_type": "stream",
          "text": [
            "Downloading smaller-rsna-ds-train-test.zip to /content\n",
            "100% 7.25G/7.25G [03:00<00:00, 70.6MB/s]\n",
            "100% 7.25G/7.25G [03:00<00:00, 43.2MB/s]\n"
          ]
        }
      ],
      "source": [
        "!kaggle datasets download -d pedroamaro/smaller-rsna-ds-train-test"
      ]
    },
    {
      "cell_type": "code",
      "execution_count": null,
      "metadata": {
        "colab": {
          "base_uri": "https://localhost:8080/"
        },
        "id": "ZBNQnYz-0EWs",
        "outputId": "369db201-21c8-4023-cdfa-b0f20db41a31"
      },
      "outputs": [
        {
          "name": "stdout",
          "output_type": "stream",
          "text": [
            ". . . . . . . . . . . . . . . . . . . . . . . . . . . . . . . . . . . "
          ]
        }
      ],
      "source": [
        "!unzip /content/smaller-rsna-ds-train-test.zip | awk 'BEGIN {ORS=\" \"} {if(NR%1000==0)print \".\"}'\n",
        "!rm /content/smaller-rsna-ds-train-test.zip"
      ]
    },
    {
      "cell_type": "code",
      "execution_count": null,
      "metadata": {
        "colab": {
          "base_uri": "https://localhost:8080/"
        },
        "id": "RPKduTwuNeAR",
        "outputId": "dfc4b232-0983-43bd-f4b6-8d4cbc831f77"
      },
      "outputs": [
        {
          "name": "stdout",
          "output_type": "stream",
          "text": [
            "Numero de imagens: NO\n",
            "20047\n",
            "Numero de imagens: YES\n",
            "3287\n"
          ]
        }
      ],
      "source": [
        "print('Numero de imagens: NO')\n",
        "!ls /content/small_rsna_ds_train/no | wc -l\n",
        "print('Numero de imagens: YES')\n",
        "!ls /content/small_rsna_ds_train/yes | wc -l"
      ]
    },
    {
      "cell_type": "markdown",
      "metadata": {
        "id": "Q4Rp5hVzN0f0"
      },
      "source": [
        "## Salvando como JPG e aplicando full windowing"
      ]
    },
    {
      "cell_type": "code",
      "execution_count": null,
      "metadata": {
        "id": "-0YUsQ5a9uok"
      },
      "outputs": [],
      "source": [
        "!mkdir small_rsna_ds_as_jpg\n",
        "!mkdir /content/small_rsna_ds_as_jpg/no\n",
        "!mkdir /content/small_rsna_ds_as_jpg/yes\n",
        "\n",
        "!mkdir test_as_jpg\n",
        "!mkdir test_as_jpg/no\n",
        "!mkdir test_as_jpg/yes"
      ]
    },
    {
      "cell_type": "code",
      "execution_count": null,
      "metadata": {
        "id": "bPDf68wT9ykv"
      },
      "outputs": [],
      "source": [
        "def segment_circle(windowed):\n",
        "    original = windowed.copy().astype(\"uint8\")\n",
        "    mask = np.zeros(original.shape, dtype=np.uint8)\n",
        "    gray = original\n",
        "    thresh = cv2.threshold(gray, 0, 255, cv2.THRESH_BINARY + cv2.THRESH_OTSU)[1]\n",
        "    kernel = cv2.getStructuringElement(cv2.MORPH_ELLIPSE, (5,5))\n",
        "    close = cv2.morphologyEx(thresh, cv2.MORPH_CLOSE, kernel, iterations=5)\n",
        "    cnts = cv2.findContours(close, cv2.RETR_TREE, cv2.CHAIN_APPROX_SIMPLE)\n",
        "    cnts = cnts[0] if len(cnts) == 2 else cnts[1]\n",
        "    for c in cnts:\n",
        "        peri = cv2.arcLength(c, True)\n",
        "        approx = cv2.approxPolyDP(c, 0.04 * peri, True)\n",
        "        area = cv2.contourArea(c)\n",
        "        if len(approx) > 4 and area > 10000 and area < 500000:\n",
        "            ((x, y), r) = cv2.minEnclosingCircle(c)\n",
        "            cv2.circle(mask, (int(x), int(y)), int(r), (255, 255, 255), -1)\n",
        "            cv2.circle(original, (int(x), int(y)), int(r), (36, 255, 12), 0)\n",
        "    x,y,w,h = cv2.boundingRect(mask)\n",
        "    mask_ROI = mask[y:y+h, x:x+w]\n",
        "    image_ROI = original[y:y+h, x:x+w]\n",
        "    result = cv2.bitwise_and(image_ROI, image_ROI, mask=mask_ROI)\n",
        "    return result, (x, y, w, h)\n",
        "\n",
        "def correct_dcm(dcm):\n",
        "    x = dcm.pixel_array + 1000\n",
        "    px_mode = 4096\n",
        "    x[x>=px_mode] = x[x>=px_mode] - px_mode\n",
        "    dcm.PixelData = x.tobytes()\n",
        "    dcm.RescaleIntercept = -1000\n",
        "\n",
        "def window_image(img, window_center, window_width):\n",
        "    img_min = window_center - window_width // 2\n",
        "    img_max = window_center + window_width // 2\n",
        "    img = np.clip(img, img_min, img_max)\n",
        "    return img\n",
        "\n",
        "\n",
        "def preprocess_and_segment(path, make_correct=True):    \n",
        "    dcm = pydicom.dcmread(path)\n",
        "    if make_correct and (dcm.BitsStored == 12) and (dcm.PixelRepresentation == 0) and (int(dcm.RescaleIntercept) > -100):\n",
        "        correct_dcm(dcm)\n",
        "\n",
        "    sample = dcm.pixel_array.astype(\"float32\") * dcm.RescaleSlope + dcm.RescaleIntercept\n",
        "\n",
        "    brain_window = window_image(sample, 40, 80)\n",
        "    dural_window = window_image(sample, 80, 200)\n",
        "    bone_window = window_image(sample, 600, 2800)\n",
        "\n",
        "    brain_window, (x,y,w,h) = segment_circle(brain_window)\n",
        "    if brain_window is None:\n",
        "        return np.zeros((512, 512, 3))\n",
        "    dural_window = dural_window[y:y+h, x:x+w]\n",
        "    bone_window = bone_window[y:y+h, x:x+w]\n",
        "    \n",
        "    brain_window = (brain_window - (0.)) / 80.\n",
        "    dural_window = (dural_window - (-20.)) / 200.\n",
        "    bone_window = (bone_window - (-1200.)) / 2800.\n",
        "    img_3ch = np.dstack([brain_window, dural_window, bone_window]).astype(\"float32\")\n",
        "\n",
        "    return img_3ch\n",
        "\n",
        "\n",
        "def save_W_as_jpg(path, id, dest_folder):\n",
        "\n",
        "  im_3ch = preprocess_and_segment(path)\n",
        "\n",
        "  im = window_image(im_3ch, 40, 80)\n",
        "\n",
        "  rescaled_im = (np.maximum(im, 0)/im.max())*255.0\n",
        "  final_im = np.uint8(rescaled_im)\n",
        "\n",
        "  final_im = Image.fromarray(final_im)\n",
        "  final_im.save(dest_folder+id+'.jpg')"
      ]
    },
    {
      "cell_type": "markdown",
      "metadata": {
        "id": "qQBZgCOkP758"
      },
      "source": [
        "### Para o conjunto Train"
      ]
    },
    {
      "cell_type": "code",
      "execution_count": null,
      "metadata": {
        "colab": {
          "base_uri": "https://localhost:8080/"
        },
        "id": "XUcLXxQt9z5b",
        "outputId": "4e6c52c9-f8e8-4917-fe22-84a6118fcd95"
      },
      "outputs": [
        {
          "name": "stderr",
          "output_type": "stream",
          "text": [
            "/usr/local/lib/python3.7/dist-packages/ipykernel_launcher.py:69: RuntimeWarning: invalid value encountered in true_divide\n"
          ]
        }
      ],
      "source": [
        "train_path = \"/content/small_rsna_ds_train/yes/\"\n",
        "folder = os.listdir(\"/content/small_rsna_ds_train/yes/\")\n",
        "dest_folder = \"/content/small_rsna_ds_as_jpg/yes/\"\n",
        "\n",
        "for id_ in folder:\n",
        "  img_id = id_[:12]\n",
        "  save_W_as_jpg(train_path + f\"{id_}\", img_id, dest_folder)"
      ]
    },
    {
      "cell_type": "code",
      "execution_count": null,
      "metadata": {
        "id": "rOjiLkNp91hy"
      },
      "outputs": [],
      "source": [
        "train_path = \"/content/small_rsna_ds_train/no/\"\n",
        "folder = os.listdir(\"/content/small_rsna_ds_train/no/\")\n",
        "dest_folder = \"/content/small_rsna_ds_as_jpg/no/\"\n",
        "\n",
        "for id_ in folder:\n",
        "  img_id = id_[:12]\n",
        "  save_W_as_jpg(train_path + f\"{id_}\", img_id, dest_folder)"
      ]
    },
    {
      "cell_type": "code",
      "execution_count": null,
      "metadata": {
        "id": "685g4iwg-6ow"
      },
      "outputs": [],
      "source": [
        "print('Numero de imagens: NO')\n",
        "!ls /content/small_rsna_ds_as_jpg/no/ | wc -l\n",
        "print('Numero de imagens: YES')\n",
        "!ls /content/small_rsna_ds_as_jpg/yes/ | wc -l"
      ]
    },
    {
      "cell_type": "markdown",
      "metadata": {
        "id": "zIJjWox-P_Xk"
      },
      "source": [
        "### Para o conjunto Test"
      ]
    },
    {
      "cell_type": "code",
      "execution_count": null,
      "metadata": {
        "id": "FoGysyXiQDJ1"
      },
      "outputs": [],
      "source": [
        "train_path = \"/content/small_rsna_ds_test/yes/\"\n",
        "folder = os.listdir(\"/content/small_rsna_ds_test/yes/\")\n",
        "dest_folder = \"/content/test_as_jpg/yes/\"\n",
        "\n",
        "for id_ in folder:\n",
        "  img_id = id_[:12]\n",
        "  save_W_as_jpg(train_path + f\"{id_}\", img_id, dest_folder)"
      ]
    },
    {
      "cell_type": "code",
      "execution_count": null,
      "metadata": {
        "id": "fnjReU73QDJ2"
      },
      "outputs": [],
      "source": [
        "train_path = \"/content/small_rsna_ds_test/no/\"\n",
        "folder = os.listdir(\"/content/small_rsna_ds_test/no/\")\n",
        "dest_folder = \"/content/test_as_jpg/no/\"\n",
        "\n",
        "for id_ in folder:\n",
        "  img_id = id_[:12]\n",
        "  save_W_as_jpg(train_path + f\"{id_}\", img_id, dest_folder)"
      ]
    },
    {
      "cell_type": "code",
      "execution_count": null,
      "metadata": {
        "colab": {
          "base_uri": "https://localhost:8080/"
        },
        "id": "MLeecKqrQDJ2",
        "outputId": "c17fc1c5-64e5-4c1b-b886-2670885de32c"
      },
      "outputs": [
        {
          "name": "stdout",
          "output_type": "stream",
          "text": [
            "Numero de imagens: NO\n",
            "10022\n",
            "Numero de imagens: YES\n",
            "1643\n"
          ]
        }
      ],
      "source": [
        "print('Numero de imagens: NO')\n",
        "!ls /content/test_as_jpg/no/ | wc -l\n",
        "print('Numero de imagens: YES')\n",
        "!ls /content/test_as_jpg/yes/ | wc -l"
      ]
    },
    {
      "cell_type": "markdown",
      "metadata": {
        "id": "1vLx4FnN9pTL"
      },
      "source": [
        "# Carregando o dataset"
      ]
    },
    {
      "cell_type": "code",
      "execution_count": null,
      "metadata": {
        "id": "Y9-K7AMD10NK"
      },
      "outputs": [],
      "source": [
        "train_data = image_dataset_from_directory(\n",
        "    \"/content/small_rsna_ds_as_jpg\",\n",
        "     labels='inferred',\n",
        "     validation_split=1/3,\n",
        "     subset=\"training\",\n",
        "     seed=123,\n",
        "     batch_size = 64,\n",
        "     color_mode = \"rgb\"\n",
        "     )"
      ]
    },
    {
      "cell_type": "code",
      "execution_count": null,
      "metadata": {
        "id": "1tdF_VgO425w"
      },
      "outputs": [],
      "source": [
        "val_data = image_dataset_from_directory(\n",
        "    \"/content/small_rsna_ds_as_jpg\",\n",
        "     labels='inferred',\n",
        "     validation_split=1/3,\n",
        "     subset=\"validation\",\n",
        "     seed=123,\n",
        "     batch_size = 64,\n",
        "     color_mode = \"rgb\"\n",
        ")"
      ]
    },
    {
      "cell_type": "code",
      "execution_count": null,
      "metadata": {
        "id": "co1kN22wQxHE"
      },
      "outputs": [],
      "source": [
        "test_data = image_dataset_from_directory(\n",
        "    \"/content/test_as_jpg\",\n",
        "     labels='inferred',\n",
        "     label_mode=\"int\",\n",
        "     batch_size = 64,\n",
        "     color_mode = \"rgb\"\n",
        "     )"
      ]
    },
    {
      "cell_type": "code",
      "execution_count": null,
      "metadata": {
        "id": "QV4OSt9S20R3"
      },
      "outputs": [],
      "source": [
        "class_names = train_data.class_names"
      ]
    },
    {
      "cell_type": "markdown",
      "metadata": {
        "id": "9F0cjcFhC6wf"
      },
      "source": [
        "## Normalizando e Pegando o tamanho de entrada"
      ]
    },
    {
      "cell_type": "code",
      "execution_count": null,
      "metadata": {
        "colab": {
          "base_uri": "https://localhost:8080/"
        },
        "id": "2VNwEKeA8MGV",
        "outputId": "b5b068f9-1211-4f7b-cbba-c78400661682"
      },
      "outputs": [
        {
          "name": "stdout",
          "output_type": "stream",
          "text": [
            "(64, 256, 256, 3)\n",
            "(64,)\n"
          ]
        }
      ],
      "source": [
        "for image_batch, labels_batch in train_data:\n",
        "  print(image_batch.shape)\n",
        "  print(labels_batch.shape)\n",
        "  break"
      ]
    },
    {
      "cell_type": "code",
      "execution_count": null,
      "metadata": {
        "colab": {
          "base_uri": "https://localhost:8080/"
        },
        "id": "rWyT6SWbCpKK",
        "outputId": "cf887bbc-d311-4c88-b88f-81fccc12dd8e"
      },
      "outputs": [
        {
          "name": "stdout",
          "output_type": "stream",
          "text": [
            "0.0 1.0\n"
          ]
        }
      ],
      "source": [
        "normalization_layer = Rescaling(1./255)\n",
        "\n",
        "normalized_data = train_data.map(lambda x, y: (normalization_layer(x), y))\n",
        "image_batch, labels_batch = next(iter(normalized_data))\n",
        "first_image = image_batch[0]\n",
        "# Notice the pixel values are now in `[0,1]`.\n",
        "print(np.min(first_image), np.max(first_image))"
      ]
    },
    {
      "cell_type": "code",
      "execution_count": null,
      "metadata": {
        "colab": {
          "base_uri": "https://localhost:8080/"
        },
        "id": "4wjGj2bv3bxL",
        "outputId": "d0a6b1cc-a5e9-443c-bfa8-9e7ce47fdb3d"
      },
      "outputs": [
        {
          "name": "stdout",
          "output_type": "stream",
          "text": [
            "0.0 1.0\n"
          ]
        }
      ],
      "source": [
        "normalized_val_data = val_data.map(lambda x, y: (normalization_layer(x), y))\n",
        "val_image_batch, val_labels_batch = next(iter(normalized_val_data))\n",
        "first_image = val_image_batch[0]\n",
        "# Notice the pixel values are now in `[0,1]`.\n",
        "print(np.min(first_image), np.max(first_image))"
      ]
    },
    {
      "cell_type": "code",
      "execution_count": null,
      "metadata": {
        "colab": {
          "base_uri": "https://localhost:8080/"
        },
        "id": "gwk6hDQnmkVj",
        "outputId": "7eb08a91-9065-40a7-f934-89144d03fefd"
      },
      "outputs": [
        {
          "name": "stdout",
          "output_type": "stream",
          "text": [
            "0.0 1.0\n"
          ]
        }
      ],
      "source": [
        "normalized_test_data = test_data.map(lambda x, y: (normalization_layer(x), y))\n",
        "test_image_batch, test_labels_batch = next(iter(normalized_test_data))\n",
        "first_image = test_image_batch[0]\n",
        "# Notice the pixel values are now in `[0,1]`.\n",
        "print(np.min(first_image), np.max(first_image))"
      ]
    },
    {
      "cell_type": "markdown",
      "metadata": {
        "id": "VJZNgrQC2g_K"
      },
      "source": [
        "# Sem class_weights"
      ]
    },
    {
      "cell_type": "markdown",
      "metadata": {
        "id": "XeMyU1i-Mvf9"
      },
      "source": [
        "#### N512-L1-D3"
      ]
    },
    {
      "cell_type": "code",
      "execution_count": null,
      "metadata": {
        "id": "5bZBjT1gMvf9"
      },
      "outputs": [],
      "source": [
        "N = 512\n",
        "NAME = \"N512-L1-D3\"\n",
        "keras.backend.clear_session()"
      ]
    },
    {
      "cell_type": "code",
      "execution_count": null,
      "metadata": {
        "colab": {
          "base_uri": "https://localhost:8080/"
        },
        "id": "wAP3a4GYMvf9",
        "outputId": "cd5e9ec1-7f0d-4ec7-83f4-3eaa4677a0fe"
      },
      "outputs": [
        {
          "name": "stdout",
          "output_type": "stream",
          "text": [
            "Model: \"sequential\"\n",
            "_________________________________________________________________\n",
            " Layer (type)                Output Shape              Param #   \n",
            "=================================================================\n",
            " conv2d (Conv2D)             (None, 256, 256, 32)      896       \n",
            "                                                                 \n",
            " conv2d_1 (Conv2D)           (None, 128, 128, 32)      9248      \n",
            "                                                                 \n",
            " conv2d_2 (Conv2D)           (None, 64, 64, 64)        18496     \n",
            "                                                                 \n",
            " max_pooling2d (MaxPooling2D  (None, 32, 32, 64)       0         \n",
            " )                                                               \n",
            "                                                                 \n",
            " dense (Dense)               (None, 32, 32, 128)       8320      \n",
            "                                                                 \n",
            " flatten (Flatten)           (None, 131072)            0         \n",
            "                                                                 \n",
            " dense_1 (Dense)             (None, 512)               67109376  \n",
            "                                                                 \n",
            " dropout (Dropout)           (None, 512)               0         \n",
            "                                                                 \n",
            " dense_2 (Dense)             (None, 1)                 513       \n",
            "                                                                 \n",
            "=================================================================\n",
            "Total params: 67,146,849\n",
            "Trainable params: 67,146,849\n",
            "Non-trainable params: 0\n",
            "_________________________________________________________________\n"
          ]
        }
      ],
      "source": [
        "ins = image_batch.shape[1:]\n",
        "\n",
        "model = Sequential()\n",
        "\n",
        "model.add(Conv2D(32, (3,3), padding=\"same\", activation=\"relu\", input_shape=ins))\n",
        "\n",
        "model.add(Conv2D(32, (3,3), padding=\"same\", strides = (2,2), activation=\"relu\"))\n",
        "\n",
        "model.add(Conv2D(64, (3,3), padding=\"same\", strides = (2,2), activation=\"relu\"))\n",
        "\n",
        "model.add(MaxPooling2D(pool_size=(2, 2)))\n",
        "\n",
        "model.add(Dense(128, activation=\"relu\"))\n",
        "\n",
        "model.add(Flatten())\n",
        "\n",
        "model.add(Dense(N, activation=\"relu\"))\n",
        "\n",
        "model.add(Dropout(0.5))\n",
        "\n",
        "model.add(Dense(1, activation=\"sigmoid\"))\n",
        "\n",
        "model.summary()"
      ]
    },
    {
      "cell_type": "code",
      "execution_count": null,
      "metadata": {
        "id": "QP3oD6s8Mvf9"
      },
      "outputs": [],
      "source": [
        "tensorboard = TensorBoard(log_dir=\"/content/gdrive/MyDrive/Dense Experiments/Normalizados/Logs/{}\".format(NAME))"
      ]
    },
    {
      "cell_type": "code",
      "execution_count": null,
      "metadata": {
        "id": "1xBdXxZsMvf9"
      },
      "outputs": [],
      "source": [
        "model.compile(loss='binary_crossentropy', optimizer=optimizers.Adam(learning_rate=0.00001), metrics=[keras.metrics.AUC(), 'accuracy'])"
      ]
    },
    {
      "cell_type": "code",
      "execution_count": null,
      "metadata": {
        "colab": {
          "base_uri": "https://localhost:8080/"
        },
        "id": "04IO-3M1Mvf9",
        "outputId": "9907001e-c7db-4c21-9877-aa75e2a20031"
      },
      "outputs": [
        {
          "name": "stdout",
          "output_type": "stream",
          "text": [
            "Epoch 1/100\n",
            "244/244 [==============================] - 70s 263ms/step - loss: 0.4068 - auc: 0.6381 - accuracy: 0.8589 - val_loss: 0.3561 - val_auc: 0.7695 - val_accuracy: 0.8581\n",
            "Epoch 2/100\n",
            "244/244 [==============================] - 64s 258ms/step - loss: 0.3549 - auc: 0.7537 - accuracy: 0.8597 - val_loss: 0.3471 - val_auc: 0.7864 - val_accuracy: 0.8581\n",
            "Epoch 3/100\n",
            "244/244 [==============================] - 58s 237ms/step - loss: 0.3489 - auc: 0.7677 - accuracy: 0.8597 - val_loss: 0.3436 - val_auc: 0.7914 - val_accuracy: 0.8581\n",
            "Epoch 4/100\n",
            "244/244 [==============================] - 64s 260ms/step - loss: 0.3426 - auc: 0.7806 - accuracy: 0.8596 - val_loss: 0.3377 - val_auc: 0.7975 - val_accuracy: 0.8581\n",
            "Epoch 5/100\n",
            "244/244 [==============================] - 64s 260ms/step - loss: 0.3380 - auc: 0.7897 - accuracy: 0.8598 - val_loss: 0.3356 - val_auc: 0.7990 - val_accuracy: 0.8582\n",
            "Epoch 6/100\n",
            "244/244 [==============================] - 64s 260ms/step - loss: 0.3351 - auc: 0.7945 - accuracy: 0.8600 - val_loss: 0.3344 - val_auc: 0.8005 - val_accuracy: 0.8581\n",
            "Epoch 7/100\n",
            "244/244 [==============================] - 64s 260ms/step - loss: 0.3325 - auc: 0.7977 - accuracy: 0.8611 - val_loss: 0.3327 - val_auc: 0.8033 - val_accuracy: 0.8584\n",
            "Epoch 8/100\n",
            "244/244 [==============================] - 64s 259ms/step - loss: 0.3284 - auc: 0.8046 - accuracy: 0.8629 - val_loss: 0.3307 - val_auc: 0.8054 - val_accuracy: 0.8623\n",
            "Epoch 9/100\n",
            "244/244 [==============================] - 64s 261ms/step - loss: 0.3257 - auc: 0.8090 - accuracy: 0.8633 - val_loss: 0.3310 - val_auc: 0.8064 - val_accuracy: 0.8633\n",
            "Epoch 10/100\n",
            "244/244 [==============================] - 64s 259ms/step - loss: 0.3253 - auc: 0.8103 - accuracy: 0.8635 - val_loss: 0.3281 - val_auc: 0.8091 - val_accuracy: 0.8624\n",
            "Epoch 11/100\n",
            "244/244 [==============================] - 64s 261ms/step - loss: 0.3205 - auc: 0.8181 - accuracy: 0.8646 - val_loss: 0.3281 - val_auc: 0.8085 - val_accuracy: 0.8628\n",
            "Epoch 12/100\n",
            "244/244 [==============================] - 64s 258ms/step - loss: 0.3173 - auc: 0.8222 - accuracy: 0.8674 - val_loss: 0.3267 - val_auc: 0.8115 - val_accuracy: 0.8660\n",
            "Epoch 13/100\n",
            "244/244 [==============================] - 64s 261ms/step - loss: 0.3139 - auc: 0.8274 - accuracy: 0.8697 - val_loss: 0.3254 - val_auc: 0.8113 - val_accuracy: 0.8658\n",
            "Epoch 14/100\n",
            "244/244 [==============================] - 64s 259ms/step - loss: 0.3124 - auc: 0.8289 - accuracy: 0.8706 - val_loss: 0.3240 - val_auc: 0.8128 - val_accuracy: 0.8686\n",
            "Epoch 15/100\n",
            "244/244 [==============================] - 64s 260ms/step - loss: 0.3087 - auc: 0.8335 - accuracy: 0.8727 - val_loss: 0.3223 - val_auc: 0.8152 - val_accuracy: 0.8678\n",
            "Epoch 16/100\n",
            "244/244 [==============================] - 64s 258ms/step - loss: 0.3078 - auc: 0.8347 - accuracy: 0.8732 - val_loss: 0.3230 - val_auc: 0.8169 - val_accuracy: 0.8708\n",
            "Epoch 17/100\n",
            "244/244 [==============================] - 64s 259ms/step - loss: 0.3041 - auc: 0.8407 - accuracy: 0.8749 - val_loss: 0.3222 - val_auc: 0.8153 - val_accuracy: 0.8689\n",
            "Epoch 18/100\n",
            "244/244 [==============================] - 64s 258ms/step - loss: 0.3000 - auc: 0.8460 - accuracy: 0.8783 - val_loss: 0.3203 - val_auc: 0.8173 - val_accuracy: 0.8722\n",
            "Epoch 19/100\n",
            "244/244 [==============================] - 64s 261ms/step - loss: 0.2975 - auc: 0.8481 - accuracy: 0.8778 - val_loss: 0.3187 - val_auc: 0.8188 - val_accuracy: 0.8714\n",
            "Epoch 20/100\n",
            "244/244 [==============================] - 64s 258ms/step - loss: 0.2951 - auc: 0.8527 - accuracy: 0.8794 - val_loss: 0.3199 - val_auc: 0.8178 - val_accuracy: 0.8701\n",
            "Epoch 21/100\n",
            "244/244 [==============================] - 64s 261ms/step - loss: 0.2917 - auc: 0.8567 - accuracy: 0.8813 - val_loss: 0.3178 - val_auc: 0.8209 - val_accuracy: 0.8745\n",
            "Epoch 22/100\n",
            "244/244 [==============================] - 64s 259ms/step - loss: 0.2882 - auc: 0.8607 - accuracy: 0.8831 - val_loss: 0.3176 - val_auc: 0.8181 - val_accuracy: 0.8725\n",
            "Epoch 23/100\n",
            "244/244 [==============================] - 56s 228ms/step - loss: 0.2860 - auc: 0.8622 - accuracy: 0.8865 - val_loss: 0.3157 - val_auc: 0.8216 - val_accuracy: 0.8737\n",
            "Epoch 24/100\n",
            "244/244 [==============================] - 63s 258ms/step - loss: 0.2829 - auc: 0.8671 - accuracy: 0.8871 - val_loss: 0.3205 - val_auc: 0.8184 - val_accuracy: 0.8716\n",
            "Epoch 25/100\n",
            "244/244 [==============================] - 64s 261ms/step - loss: 0.2822 - auc: 0.8672 - accuracy: 0.8860 - val_loss: 0.3153 - val_auc: 0.8231 - val_accuracy: 0.8753\n",
            "Epoch 26/100\n",
            "244/244 [==============================] - 56s 226ms/step - loss: 0.2813 - auc: 0.8686 - accuracy: 0.8862 - val_loss: 0.3135 - val_auc: 0.8239 - val_accuracy: 0.8761\n",
            "Epoch 27/100\n",
            "244/244 [==============================] - 64s 260ms/step - loss: 0.2769 - auc: 0.8719 - accuracy: 0.8914 - val_loss: 0.3145 - val_auc: 0.8218 - val_accuracy: 0.8755\n",
            "Epoch 28/100\n",
            "244/244 [==============================] - 64s 258ms/step - loss: 0.2731 - auc: 0.8777 - accuracy: 0.8925 - val_loss: 0.3144 - val_auc: 0.8221 - val_accuracy: 0.8763\n",
            "Epoch 29/100\n",
            "244/244 [==============================] - 64s 261ms/step - loss: 0.2693 - auc: 0.8816 - accuracy: 0.8939 - val_loss: 0.3138 - val_auc: 0.8235 - val_accuracy: 0.8766\n",
            "Epoch 30/100\n",
            "244/244 [==============================] - 64s 258ms/step - loss: 0.2658 - auc: 0.8844 - accuracy: 0.8951 - val_loss: 0.3226 - val_auc: 0.8198 - val_accuracy: 0.8736\n",
            "Epoch 31/100\n",
            "243/244 [============================>.] - ETA: 0s - loss: 0.2653 - auc: 0.8841 - accuracy: 0.8953Restoring model weights from the end of the best epoch: 26.\n",
            "244/244 [==============================] - 64s 261ms/step - loss: 0.2654 - auc: 0.8840 - accuracy: 0.8953 - val_loss: 0.3129 - val_auc: 0.8234 - val_accuracy: 0.8770\n",
            "Epoch 31: early stopping\n"
          ]
        }
      ],
      "source": [
        "run_hist = model.fit(normalized_data, validation_data=normalized_val_data, epochs=100, \n",
        "  callbacks=[tensorboard,\n",
        "              keras.callbacks.EarlyStopping(\n",
        "                  monitor=\"val_auc\",\n",
        "                  min_delta=0,\n",
        "                  patience=5,\n",
        "                  verbose=1,\n",
        "                  mode=\"auto\",\n",
        "                  baseline=None,\n",
        "                  restore_best_weights=True,\n",
        "              )])"
      ]
    },
    {
      "cell_type": "code",
      "execution_count": null,
      "metadata": {
        "colab": {
          "base_uri": "https://localhost:8080/"
        },
        "id": "GuZIil6PMvf9",
        "outputId": "87b8a73b-da33-427c-9deb-262df4efda97"
      },
      "outputs": [
        {
          "name": "stdout",
          "output_type": "stream",
          "text": [
            "183/183 [==============================] - 22s 118ms/step - loss: 0.3200 - auc: 0.8120 - accuracy: 0.8742\n",
            "[0.3199867606163025, 0.8119522333145142, 0.8742392063140869]\n"
          ]
        }
      ],
      "source": [
        "results = model.evaluate(normalized_test_data)\n",
        "print(results)"
      ]
    },
    {
      "cell_type": "code",
      "execution_count": null,
      "metadata": {
        "id": "z8vktxQuAqkq"
      },
      "outputs": [],
      "source": [
        "results_pkl = open('/content/gdrive/MyDrive/Dense Experiments/Normalizados/Results/{}.pkl'.format(NAME), 'wb')\n",
        "pickle.dump(results, results_pkl)"
      ]
    },
    {
      "cell_type": "markdown",
      "metadata": {
        "id": "MrGz9IdWO2Ql"
      },
      "source": [
        "#### N512-L3-D2"
      ]
    },
    {
      "cell_type": "code",
      "execution_count": null,
      "metadata": {
        "id": "gO7UCpf2O2Ql"
      },
      "outputs": [],
      "source": [
        "N = 512\n",
        "NAME = \"N512-L3-D2\"\n",
        "keras.backend.clear_session()"
      ]
    },
    {
      "cell_type": "code",
      "execution_count": null,
      "metadata": {
        "colab": {
          "base_uri": "https://localhost:8080/"
        },
        "id": "yfw9emZwO2Ql",
        "outputId": "4d9d1436-52bc-4cc0-f431-76cc56e0e136"
      },
      "outputs": [
        {
          "name": "stdout",
          "output_type": "stream",
          "text": [
            "Model: \"sequential\"\n",
            "_________________________________________________________________\n",
            " Layer (type)                Output Shape              Param #   \n",
            "=================================================================\n",
            " conv2d (Conv2D)             (None, 256, 256, 32)      896       \n",
            "                                                                 \n",
            " conv2d_1 (Conv2D)           (None, 128, 128, 32)      9248      \n",
            "                                                                 \n",
            " conv2d_2 (Conv2D)           (None, 64, 64, 64)        18496     \n",
            "                                                                 \n",
            " dropout (Dropout)           (None, 64, 64, 64)        0         \n",
            "                                                                 \n",
            " max_pooling2d (MaxPooling2D  (None, 32, 32, 64)       0         \n",
            " )                                                               \n",
            "                                                                 \n",
            " dense (Dense)               (None, 32, 32, 128)       8320      \n",
            "                                                                 \n",
            " flatten (Flatten)           (None, 131072)            0         \n",
            "                                                                 \n",
            " dense_1 (Dense)             (None, 512)               67109376  \n",
            "                                                                 \n",
            " dense_2 (Dense)             (None, 512)               262656    \n",
            "                                                                 \n",
            " dense_3 (Dense)             (None, 512)               262656    \n",
            "                                                                 \n",
            " dropout_1 (Dropout)         (None, 512)               0         \n",
            "                                                                 \n",
            " dense_4 (Dense)             (None, 1)                 513       \n",
            "                                                                 \n",
            "=================================================================\n",
            "Total params: 67,672,161\n",
            "Trainable params: 67,672,161\n",
            "Non-trainable params: 0\n",
            "_________________________________________________________________\n"
          ]
        }
      ],
      "source": [
        "ins = image_batch.shape[1:]\n",
        "\n",
        "model = Sequential()\n",
        "\n",
        "model.add(Conv2D(32, (3,3), padding=\"same\", activation=\"relu\", input_shape=ins))\n",
        "\n",
        "model.add(Conv2D(32, (3,3), padding=\"same\", strides = (2,2), activation=\"relu\"))\n",
        "\n",
        "model.add(Conv2D(64, (3,3), padding=\"same\", strides = (2,2), activation=\"relu\"))\n",
        "\n",
        "model.add(Dropout(0.1))\n",
        "\n",
        "model.add(MaxPooling2D(pool_size=(2, 2)))\n",
        "\n",
        "model.add(Dense(128, activation=\"relu\"))\n",
        "\n",
        "model.add(Flatten())\n",
        "\n",
        "model.add(Dense(N, activation=\"relu\"))\n",
        "\n",
        "model.add(Dense(N, activation=\"relu\"))\n",
        "\n",
        "model.add(Dense(N, activation=\"relu\"))\n",
        "\n",
        "model.add(Dropout(0.5))\n",
        "\n",
        "model.add(Dense(1, activation=\"sigmoid\"))\n",
        "\n",
        "model.summary()"
      ]
    },
    {
      "cell_type": "code",
      "execution_count": null,
      "metadata": {
        "id": "XEMYMQtBO2Ql"
      },
      "outputs": [],
      "source": [
        "tensorboard = TensorBoard(log_dir=\"/content/gdrive/MyDrive/Dense Experiments/Normalizados/Logs/{}\".format(NAME))"
      ]
    },
    {
      "cell_type": "code",
      "execution_count": null,
      "metadata": {
        "id": "zbh3o8B9O2Ql"
      },
      "outputs": [],
      "source": [
        "model.compile(loss='binary_crossentropy', optimizer=optimizers.Adam(learning_rate=0.00001), metrics=[keras.metrics.AUC(), 'accuracy'])"
      ]
    },
    {
      "cell_type": "code",
      "execution_count": null,
      "metadata": {
        "colab": {
          "base_uri": "https://localhost:8080/"
        },
        "id": "Gisv8G8MO2Ql",
        "outputId": "b9282a81-f6e1-4f36-944b-1c92bba85667"
      },
      "outputs": [
        {
          "name": "stdout",
          "output_type": "stream",
          "text": [
            "Epoch 1/100\n",
            "244/244 [==============================] - 58s 232ms/step - loss: 0.4258 - auc: 0.5920 - accuracy: 0.8578 - val_loss: 0.3648 - val_auc: 0.7524 - val_accuracy: 0.8581\n",
            "Epoch 2/100\n",
            "244/244 [==============================] - 57s 232ms/step - loss: 0.3623 - auc: 0.7323 - accuracy: 0.8597 - val_loss: 0.3511 - val_auc: 0.7775 - val_accuracy: 0.8581\n",
            "Epoch 3/100\n",
            "244/244 [==============================] - 57s 230ms/step - loss: 0.3525 - auc: 0.7587 - accuracy: 0.8597 - val_loss: 0.3429 - val_auc: 0.7896 - val_accuracy: 0.8581\n",
            "Epoch 4/100\n",
            "244/244 [==============================] - 57s 229ms/step - loss: 0.3457 - auc: 0.7722 - accuracy: 0.8610 - val_loss: 0.3407 - val_auc: 0.7937 - val_accuracy: 0.8581\n",
            "Epoch 5/100\n",
            "244/244 [==============================] - 65s 265ms/step - loss: 0.3398 - auc: 0.7835 - accuracy: 0.8622 - val_loss: 0.3365 - val_auc: 0.7980 - val_accuracy: 0.8592\n",
            "Epoch 6/100\n",
            "244/244 [==============================] - 65s 263ms/step - loss: 0.3342 - auc: 0.7932 - accuracy: 0.8644 - val_loss: 0.3332 - val_auc: 0.8020 - val_accuracy: 0.8626\n",
            "Epoch 7/100\n",
            "244/244 [==============================] - 65s 265ms/step - loss: 0.3273 - auc: 0.8030 - accuracy: 0.8683 - val_loss: 0.3342 - val_auc: 0.8057 - val_accuracy: 0.8663\n",
            "Epoch 8/100\n",
            "244/244 [==============================] - 57s 230ms/step - loss: 0.3242 - auc: 0.8074 - accuracy: 0.8713 - val_loss: 0.3311 - val_auc: 0.8079 - val_accuracy: 0.8686\n",
            "Epoch 9/100\n",
            "244/244 [==============================] - 65s 265ms/step - loss: 0.3175 - auc: 0.8164 - accuracy: 0.8746 - val_loss: 0.3262 - val_auc: 0.8106 - val_accuracy: 0.8673\n",
            "Epoch 10/100\n",
            "244/244 [==============================] - 65s 264ms/step - loss: 0.3118 - auc: 0.8236 - accuracy: 0.8771 - val_loss: 0.3460 - val_auc: 0.8112 - val_accuracy: 0.8573\n",
            "Epoch 11/100\n",
            "244/244 [==============================] - 65s 265ms/step - loss: 0.3044 - auc: 0.8345 - accuracy: 0.8809 - val_loss: 0.3220 - val_auc: 0.8143 - val_accuracy: 0.8694\n",
            "Epoch 12/100\n",
            "244/244 [==============================] - 57s 229ms/step - loss: 0.3004 - auc: 0.8377 - accuracy: 0.8818 - val_loss: 0.3367 - val_auc: 0.8085 - val_accuracy: 0.8638\n",
            "Epoch 13/100\n",
            "244/244 [==============================] - 58s 234ms/step - loss: 0.2914 - auc: 0.8488 - accuracy: 0.8872 - val_loss: 0.3189 - val_auc: 0.8154 - val_accuracy: 0.8717\n",
            "Epoch 14/100\n",
            "244/244 [==============================] - 65s 264ms/step - loss: 0.2859 - auc: 0.8557 - accuracy: 0.8882 - val_loss: 0.3302 - val_auc: 0.8108 - val_accuracy: 0.8685\n",
            "Epoch 15/100\n",
            "244/244 [==============================] - 57s 231ms/step - loss: 0.2782 - auc: 0.8632 - accuracy: 0.8934 - val_loss: 0.3166 - val_auc: 0.8179 - val_accuracy: 0.8755\n",
            "Epoch 16/100\n",
            "244/244 [==============================] - 65s 264ms/step - loss: 0.2725 - auc: 0.8690 - accuracy: 0.8928 - val_loss: 0.3243 - val_auc: 0.8205 - val_accuracy: 0.8681\n",
            "Epoch 17/100\n",
            "244/244 [==============================] - 65s 265ms/step - loss: 0.2654 - auc: 0.8761 - accuracy: 0.8970 - val_loss: 0.3162 - val_auc: 0.8194 - val_accuracy: 0.8763\n",
            "Epoch 18/100\n",
            "244/244 [==============================] - 65s 263ms/step - loss: 0.2570 - auc: 0.8838 - accuracy: 0.9042 - val_loss: 0.3175 - val_auc: 0.8195 - val_accuracy: 0.8755\n",
            "Epoch 19/100\n",
            "244/244 [==============================] - 65s 265ms/step - loss: 0.2498 - auc: 0.8920 - accuracy: 0.9052 - val_loss: 0.3217 - val_auc: 0.8159 - val_accuracy: 0.8717\n",
            "Epoch 20/100\n",
            "244/244 [==============================] - 65s 265ms/step - loss: 0.2450 - auc: 0.8949 - accuracy: 0.9082 - val_loss: 0.3156 - val_auc: 0.8209 - val_accuracy: 0.8780\n",
            "Epoch 21/100\n",
            "244/244 [==============================] - 65s 265ms/step - loss: 0.2342 - auc: 0.9037 - accuracy: 0.9138 - val_loss: 0.3234 - val_auc: 0.8136 - val_accuracy: 0.8755\n",
            "Epoch 22/100\n",
            "244/244 [==============================] - 57s 231ms/step - loss: 0.2310 - auc: 0.9052 - accuracy: 0.9171 - val_loss: 0.3180 - val_auc: 0.8179 - val_accuracy: 0.8779\n",
            "Epoch 23/100\n",
            "244/244 [==============================] - 57s 232ms/step - loss: 0.2191 - auc: 0.9180 - accuracy: 0.9216 - val_loss: 0.3207 - val_auc: 0.8192 - val_accuracy: 0.8750\n",
            "Epoch 24/100\n",
            "244/244 [==============================] - 65s 264ms/step - loss: 0.2133 - auc: 0.9204 - accuracy: 0.9241 - val_loss: 0.3476 - val_auc: 0.8002 - val_accuracy: 0.8725\n",
            "Epoch 25/100\n",
            "243/244 [============================>.] - ETA: 0s - loss: 0.2055 - auc: 0.9260 - accuracy: 0.9268Restoring model weights from the end of the best epoch: 20.\n",
            "244/244 [==============================] - 57s 232ms/step - loss: 0.2055 - auc: 0.9261 - accuracy: 0.9268 - val_loss: 0.3657 - val_auc: 0.8205 - val_accuracy: 0.8389\n",
            "Epoch 25: early stopping\n"
          ]
        }
      ],
      "source": [
        "run_hist = model.fit(normalized_data, validation_data=normalized_val_data, epochs=100, \n",
        "  callbacks=[tensorboard,\n",
        "              keras.callbacks.EarlyStopping(\n",
        "                  monitor=\"val_auc\",\n",
        "                  min_delta=0,\n",
        "                  patience=5,\n",
        "                  verbose=1,\n",
        "                  mode=\"auto\",\n",
        "                  baseline=None,\n",
        "                  restore_best_weights=True,\n",
        "              )])"
      ]
    },
    {
      "cell_type": "code",
      "execution_count": null,
      "metadata": {
        "colab": {
          "base_uri": "https://localhost:8080/"
        },
        "id": "tn5O8IAtO2Ql",
        "outputId": "3fd91d0e-1b84-4ae7-b73f-8383b63a59f6"
      },
      "outputs": [
        {
          "name": "stdout",
          "output_type": "stream",
          "text": [
            "183/183 [==============================] - 20s 105ms/step - loss: 0.3242 - auc: 0.8080 - accuracy: 0.8724\n",
            "[0.3242402672767639, 0.8079959750175476, 0.872438907623291]\n"
          ]
        }
      ],
      "source": [
        "results = model.evaluate(normalized_test_data)\n",
        "print(results)\n",
        "\n",
        "results_pkl = open('/content/gdrive/MyDrive/Dense Experiments/Normalizados/Results/{}.pkl'.format(NAME), 'wb')\n",
        "pickle.dump(results, results_pkl)"
      ]
    },
    {
      "cell_type": "code",
      "execution_count": null,
      "metadata": {
        "id": "rIqFBxxmWLVM"
      },
      "outputs": [],
      "source": [
        "results_pkl = open('/content/gdrive/MyDrive/Dense Experiments/Normalizados/Results/{}.pkl'.format(NAME), 'wb')\n",
        "pickle.dump(results, results_pkl)"
      ]
    },
    {
      "cell_type": "markdown",
      "metadata": {
        "id": "QS6UkRK4v1D-"
      },
      "source": [
        "#### N1024-L1-D4"
      ]
    },
    {
      "cell_type": "code",
      "execution_count": null,
      "metadata": {
        "id": "a3Fq9bg7v1D-"
      },
      "outputs": [],
      "source": [
        "N = 1024\n",
        "NAME = \"N1024-L1-D4\"\n",
        "keras.backend.clear_session()"
      ]
    },
    {
      "cell_type": "code",
      "execution_count": null,
      "metadata": {
        "colab": {
          "base_uri": "https://localhost:8080/"
        },
        "id": "2-QDBcObv1D-",
        "outputId": "70dfbfcb-851a-4f71-af17-f1033dc52aad"
      },
      "outputs": [
        {
          "name": "stdout",
          "output_type": "stream",
          "text": [
            "Model: \"sequential\"\n",
            "_________________________________________________________________\n",
            " Layer (type)                Output Shape              Param #   \n",
            "=================================================================\n",
            " conv2d (Conv2D)             (None, 256, 256, 32)      896       \n",
            "                                                                 \n",
            " conv2d_1 (Conv2D)           (None, 128, 128, 32)      9248      \n",
            "                                                                 \n",
            " conv2d_2 (Conv2D)           (None, 64, 64, 64)        18496     \n",
            "                                                                 \n",
            " max_pooling2d (MaxPooling2D  (None, 32, 32, 64)       0         \n",
            " )                                                               \n",
            "                                                                 \n",
            " dense (Dense)               (None, 32, 32, 128)       8320      \n",
            "                                                                 \n",
            " flatten (Flatten)           (None, 131072)            0         \n",
            "                                                                 \n",
            " dense_1 (Dense)             (None, 1024)              134218752 \n",
            "                                                                 \n",
            " dropout (Dropout)           (None, 1024)              0         \n",
            "                                                                 \n",
            " dense_2 (Dense)             (None, 1)                 1025      \n",
            "                                                                 \n",
            "=================================================================\n",
            "Total params: 134,256,737\n",
            "Trainable params: 134,256,737\n",
            "Non-trainable params: 0\n",
            "_________________________________________________________________\n"
          ]
        }
      ],
      "source": [
        "ins = image_batch.shape[1:]\n",
        "\n",
        "model = Sequential()\n",
        "\n",
        "model.add(Conv2D(32, (3,3), padding=\"same\", activation=\"relu\", input_shape=ins))\n",
        "\n",
        "model.add(Conv2D(32, (3,3), padding=\"same\", strides = (2,2), activation=\"relu\"))\n",
        "\n",
        "model.add(Conv2D(64, (3,3), padding=\"same\", strides = (2,2), activation=\"relu\"))\n",
        "\n",
        "model.add(MaxPooling2D(pool_size=(2, 2)))\n",
        "\n",
        "model.add(Dense(128, activation=\"relu\"))\n",
        "\n",
        "model.add(Flatten())\n",
        "\n",
        "model.add(Dense(N, activation=\"relu\"))\n",
        "\n",
        "model.add(Dropout(0.5))\n",
        "\n",
        "model.add(Dense(1, activation=\"sigmoid\"))\n",
        "\n",
        "model.summary()"
      ]
    },
    {
      "cell_type": "code",
      "execution_count": null,
      "metadata": {
        "id": "UrNYLzXXv1D-"
      },
      "outputs": [],
      "source": [
        "tensorboard = TensorBoard(log_dir=\"/content/gdrive/MyDrive/Dense Experiments/Normalizados/Logs/{}\".format(NAME))"
      ]
    },
    {
      "cell_type": "code",
      "execution_count": null,
      "metadata": {
        "id": "2cjpcO7rv1D-"
      },
      "outputs": [],
      "source": [
        "model.compile(loss='binary_crossentropy', optimizer=optimizers.Adam(learning_rate=0.00001), metrics=[keras.metrics.AUC(), 'accuracy'])"
      ]
    },
    {
      "cell_type": "code",
      "execution_count": null,
      "metadata": {
        "colab": {
          "base_uri": "https://localhost:8080/"
        },
        "id": "i3vqDwEWv1D-",
        "outputId": "a64d1e12-256d-4278-c43b-09f79adb282c"
      },
      "outputs": [
        {
          "name": "stdout",
          "output_type": "stream",
          "text": [
            "Epoch 1/100\n",
            "244/244 [==============================] - 69s 278ms/step - loss: 0.4066 - auc: 0.6357 - accuracy: 0.8596 - val_loss: 0.3601 - val_auc: 0.7541 - val_accuracy: 0.8581\n",
            "Epoch 2/100\n",
            "244/244 [==============================] - 61s 245ms/step - loss: 0.3595 - auc: 0.7403 - accuracy: 0.8597 - val_loss: 0.3509 - val_auc: 0.7762 - val_accuracy: 0.8581\n",
            "Epoch 3/100\n",
            "244/244 [==============================] - 68s 276ms/step - loss: 0.3517 - auc: 0.7629 - accuracy: 0.8597 - val_loss: 0.3464 - val_auc: 0.7876 - val_accuracy: 0.8581\n",
            "Epoch 4/100\n",
            "244/244 [==============================] - 69s 279ms/step - loss: 0.3458 - auc: 0.7762 - accuracy: 0.8597 - val_loss: 0.3413 - val_auc: 0.7925 - val_accuracy: 0.8581\n",
            "Epoch 5/100\n",
            "244/244 [==============================] - 60s 244ms/step - loss: 0.3403 - auc: 0.7862 - accuracy: 0.8597 - val_loss: 0.3378 - val_auc: 0.7966 - val_accuracy: 0.8581\n",
            "Epoch 6/100\n",
            "244/244 [==============================] - 69s 278ms/step - loss: 0.3385 - auc: 0.7879 - accuracy: 0.8597 - val_loss: 0.3357 - val_auc: 0.7997 - val_accuracy: 0.8581\n",
            "Epoch 7/100\n",
            "244/244 [==============================] - 60s 244ms/step - loss: 0.3347 - auc: 0.7954 - accuracy: 0.8602 - val_loss: 0.3340 - val_auc: 0.8017 - val_accuracy: 0.8584\n",
            "Epoch 8/100\n",
            "244/244 [==============================] - 60s 245ms/step - loss: 0.3304 - auc: 0.8027 - accuracy: 0.8604 - val_loss: 0.3326 - val_auc: 0.8032 - val_accuracy: 0.8588\n",
            "Epoch 9/100\n",
            "244/244 [==============================] - 68s 277ms/step - loss: 0.3267 - auc: 0.8093 - accuracy: 0.8619 - val_loss: 0.3307 - val_auc: 0.8059 - val_accuracy: 0.8595\n",
            "Epoch 10/100\n",
            "244/244 [==============================] - 61s 245ms/step - loss: 0.3248 - auc: 0.8114 - accuracy: 0.8622 - val_loss: 0.3298 - val_auc: 0.8082 - val_accuracy: 0.8599\n",
            "Epoch 11/100\n",
            "244/244 [==============================] - 68s 277ms/step - loss: 0.3210 - auc: 0.8171 - accuracy: 0.8642 - val_loss: 0.3286 - val_auc: 0.8095 - val_accuracy: 0.8646\n",
            "Epoch 12/100\n",
            "244/244 [==============================] - 60s 243ms/step - loss: 0.3173 - auc: 0.8223 - accuracy: 0.8671 - val_loss: 0.3292 - val_auc: 0.8092 - val_accuracy: 0.8628\n",
            "Epoch 13/100\n",
            "244/244 [==============================] - 68s 277ms/step - loss: 0.3141 - auc: 0.8274 - accuracy: 0.8695 - val_loss: 0.3253 - val_auc: 0.8118 - val_accuracy: 0.8650\n",
            "Epoch 14/100\n",
            "244/244 [==============================] - 61s 245ms/step - loss: 0.3091 - auc: 0.8346 - accuracy: 0.8720 - val_loss: 0.3254 - val_auc: 0.8112 - val_accuracy: 0.8658\n",
            "Epoch 15/100\n",
            "244/244 [==============================] - 68s 277ms/step - loss: 0.3088 - auc: 0.8352 - accuracy: 0.8710 - val_loss: 0.3235 - val_auc: 0.8158 - val_accuracy: 0.8701\n",
            "Epoch 16/100\n",
            "244/244 [==============================] - 61s 245ms/step - loss: 0.3040 - auc: 0.8408 - accuracy: 0.8745 - val_loss: 0.3220 - val_auc: 0.8151 - val_accuracy: 0.8690\n",
            "Epoch 17/100\n",
            "244/244 [==============================] - 68s 278ms/step - loss: 0.3004 - auc: 0.8459 - accuracy: 0.8759 - val_loss: 0.3206 - val_auc: 0.8166 - val_accuracy: 0.8699\n",
            "Epoch 18/100\n",
            "244/244 [==============================] - 61s 246ms/step - loss: 0.2980 - auc: 0.8497 - accuracy: 0.8771 - val_loss: 0.3206 - val_auc: 0.8170 - val_accuracy: 0.8695\n",
            "Epoch 19/100\n",
            "244/244 [==============================] - 60s 244ms/step - loss: 0.2942 - auc: 0.8532 - accuracy: 0.8791 - val_loss: 0.3181 - val_auc: 0.8191 - val_accuracy: 0.8704\n",
            "Epoch 20/100\n",
            "244/244 [==============================] - 60s 243ms/step - loss: 0.2906 - auc: 0.8573 - accuracy: 0.8833 - val_loss: 0.3215 - val_auc: 0.8169 - val_accuracy: 0.8699\n",
            "Epoch 21/100\n",
            "244/244 [==============================] - 68s 276ms/step - loss: 0.2885 - auc: 0.8604 - accuracy: 0.8832 - val_loss: 0.3277 - val_auc: 0.8173 - val_accuracy: 0.8687\n",
            "Epoch 22/100\n",
            "244/244 [==============================] - 68s 277ms/step - loss: 0.2845 - auc: 0.8644 - accuracy: 0.8845 - val_loss: 0.3202 - val_auc: 0.8183 - val_accuracy: 0.8705\n",
            "Epoch 23/100\n",
            "244/244 [==============================] - 68s 277ms/step - loss: 0.2812 - auc: 0.8675 - accuracy: 0.8865 - val_loss: 0.3152 - val_auc: 0.8223 - val_accuracy: 0.8746\n",
            "Epoch 24/100\n",
            "244/244 [==============================] - 60s 245ms/step - loss: 0.2773 - auc: 0.8731 - accuracy: 0.8874 - val_loss: 0.3180 - val_auc: 0.8212 - val_accuracy: 0.8727\n",
            "Epoch 25/100\n",
            "244/244 [==============================] - 68s 276ms/step - loss: 0.2744 - auc: 0.8753 - accuracy: 0.8903 - val_loss: 0.3146 - val_auc: 0.8217 - val_accuracy: 0.8739\n",
            "Epoch 26/100\n",
            "244/244 [==============================] - 69s 278ms/step - loss: 0.2715 - auc: 0.8777 - accuracy: 0.8914 - val_loss: 0.3190 - val_auc: 0.8214 - val_accuracy: 0.8728\n",
            "Epoch 27/100\n",
            "244/244 [==============================] - 60s 245ms/step - loss: 0.2672 - auc: 0.8824 - accuracy: 0.8946 - val_loss: 0.3135 - val_auc: 0.8224 - val_accuracy: 0.8748\n",
            "Epoch 28/100\n",
            "244/244 [==============================] - 60s 244ms/step - loss: 0.2648 - auc: 0.8861 - accuracy: 0.8958 - val_loss: 0.3148 - val_auc: 0.8214 - val_accuracy: 0.8740\n",
            "Epoch 29/100\n",
            "244/244 [==============================] - 61s 245ms/step - loss: 0.2606 - auc: 0.8891 - accuracy: 0.8979 - val_loss: 0.3164 - val_auc: 0.8231 - val_accuracy: 0.8754\n",
            "Epoch 30/100\n",
            "244/244 [==============================] - 68s 277ms/step - loss: 0.2577 - auc: 0.8914 - accuracy: 0.8988 - val_loss: 0.3121 - val_auc: 0.8267 - val_accuracy: 0.8762\n",
            "Epoch 31/100\n",
            "244/244 [==============================] - 68s 277ms/step - loss: 0.2580 - auc: 0.8917 - accuracy: 0.8988 - val_loss: 0.3141 - val_auc: 0.8246 - val_accuracy: 0.8754\n",
            "Epoch 32/100\n",
            "244/244 [==============================] - 68s 276ms/step - loss: 0.2489 - auc: 0.9005 - accuracy: 0.9029 - val_loss: 0.3128 - val_auc: 0.8244 - val_accuracy: 0.8763\n",
            "Epoch 33/100\n",
            "244/244 [==============================] - 60s 244ms/step - loss: 0.2484 - auc: 0.9003 - accuracy: 0.9049 - val_loss: 0.3136 - val_auc: 0.8242 - val_accuracy: 0.8762\n",
            "Epoch 34/100\n",
            "244/244 [==============================] - 68s 276ms/step - loss: 0.2476 - auc: 0.9005 - accuracy: 0.9052 - val_loss: 0.3240 - val_auc: 0.8176 - val_accuracy: 0.8753\n",
            "Epoch 35/100\n",
            "244/244 [==============================] - 69s 278ms/step - loss: 0.2421 - auc: 0.9066 - accuracy: 0.9058 - val_loss: 0.3151 - val_auc: 0.8274 - val_accuracy: 0.8763\n",
            "Epoch 36/100\n",
            "244/244 [==============================] - 60s 244ms/step - loss: 0.2396 - auc: 0.9072 - accuracy: 0.9079 - val_loss: 0.3132 - val_auc: 0.8238 - val_accuracy: 0.8749\n",
            "Epoch 37/100\n",
            "244/244 [==============================] - 60s 244ms/step - loss: 0.2378 - auc: 0.9108 - accuracy: 0.9087 - val_loss: 0.3191 - val_auc: 0.8188 - val_accuracy: 0.8766\n",
            "Epoch 38/100\n",
            "244/244 [==============================] - 68s 276ms/step - loss: 0.2357 - auc: 0.9102 - accuracy: 0.9107 - val_loss: 0.3171 - val_auc: 0.8226 - val_accuracy: 0.8768\n",
            "Epoch 39/100\n",
            "244/244 [==============================] - 60s 244ms/step - loss: 0.2304 - auc: 0.9159 - accuracy: 0.9128 - val_loss: 0.3142 - val_auc: 0.8241 - val_accuracy: 0.8768\n",
            "Epoch 40/100\n",
            "243/244 [============================>.] - ETA: 0s - loss: 0.2263 - auc: 0.9188 - accuracy: 0.9147Restoring model weights from the end of the best epoch: 35.\n",
            "244/244 [==============================] - 68s 276ms/step - loss: 0.2263 - auc: 0.9189 - accuracy: 0.9147 - val_loss: 0.3217 - val_auc: 0.8196 - val_accuracy: 0.8771\n",
            "Epoch 40: early stopping\n"
          ]
        }
      ],
      "source": [
        "run_hist = model.fit(normalized_data, validation_data=normalized_val_data, epochs=100, \n",
        "  callbacks=[tensorboard,\n",
        "              keras.callbacks.EarlyStopping(\n",
        "                  monitor=\"val_auc\",\n",
        "                  min_delta=0,\n",
        "                  patience=5,\n",
        "                  verbose=1,\n",
        "                  mode=\"auto\",\n",
        "                  baseline=None,\n",
        "                  restore_best_weights=True,\n",
        "              )])"
      ]
    },
    {
      "cell_type": "code",
      "execution_count": null,
      "metadata": {
        "colab": {
          "base_uri": "https://localhost:8080/"
        },
        "id": "dNgSYTVrv1D-",
        "outputId": "39fd8783-1d00-4591-9a12-e00542155206"
      },
      "outputs": [
        {
          "name": "stdout",
          "output_type": "stream",
          "text": [
            "183/183 [==============================] - 21s 111ms/step - loss: 0.3221 - auc: 0.8165 - accuracy: 0.8728\n",
            "[0.322061151266098, 0.8164644241333008, 0.8727818131446838]\n"
          ]
        }
      ],
      "source": [
        "results = model.evaluate(normalized_test_data)\n",
        "print(results)\n",
        "\n",
        "results_pkl = open('/content/gdrive/MyDrive/Dense Experiments/Normalizados/Results/{}.pkl'.format(NAME), 'wb')\n",
        "pickle.dump(results, results_pkl)"
      ]
    },
    {
      "cell_type": "code",
      "execution_count": null,
      "metadata": {
        "id": "6mSfsYA_v1D-"
      },
      "outputs": [],
      "source": [
        "results_pkl = open('/content/gdrive/MyDrive/Dense Experiments/Normalizados/Results/{}.pkl'.format(NAME), 'wb')\n",
        "pickle.dump(results, results_pkl)"
      ]
    },
    {
      "cell_type": "markdown",
      "metadata": {
        "id": "3I2ulDVXRocH"
      },
      "source": [
        "## Com mais pooling"
      ]
    },
    {
      "cell_type": "markdown",
      "metadata": {
        "id": "8m41UAzSRocI"
      },
      "source": [
        "#### N512-L1-D3"
      ]
    },
    {
      "cell_type": "code",
      "execution_count": null,
      "metadata": {
        "id": "Lm4pyMrDRocI"
      },
      "outputs": [],
      "source": [
        "N = 512\n",
        "NAME = \"N512-L1-D3\"\n",
        "keras.backend.clear_session()"
      ]
    },
    {
      "cell_type": "code",
      "execution_count": null,
      "metadata": {
        "colab": {
          "base_uri": "https://localhost:8080/"
        },
        "id": "5_gNo2seRocI",
        "outputId": "45e1664e-3c8b-4792-8fc1-16b2a9eed51b"
      },
      "outputs": [
        {
          "name": "stdout",
          "output_type": "stream",
          "text": [
            "Model: \"sequential\"\n",
            "_________________________________________________________________\n",
            " Layer (type)                Output Shape              Param #   \n",
            "=================================================================\n",
            " conv2d (Conv2D)             (None, 256, 256, 32)      896       \n",
            "                                                                 \n",
            " max_pooling2d (MaxPooling2D  (None, 128, 128, 32)     0         \n",
            " )                                                               \n",
            "                                                                 \n",
            " conv2d_1 (Conv2D)           (None, 64, 64, 32)        9248      \n",
            "                                                                 \n",
            " max_pooling2d_1 (MaxPooling  (None, 32, 32, 32)       0         \n",
            " 2D)                                                             \n",
            "                                                                 \n",
            " conv2d_2 (Conv2D)           (None, 16, 16, 64)        18496     \n",
            "                                                                 \n",
            " max_pooling2d_2 (MaxPooling  (None, 8, 8, 64)         0         \n",
            " 2D)                                                             \n",
            "                                                                 \n",
            " dense (Dense)               (None, 8, 8, 128)         8320      \n",
            "                                                                 \n",
            " flatten (Flatten)           (None, 8192)              0         \n",
            "                                                                 \n",
            " dense_1 (Dense)             (None, 512)               4194816   \n",
            "                                                                 \n",
            " dropout (Dropout)           (None, 512)               0         \n",
            "                                                                 \n",
            " dense_2 (Dense)             (None, 1)                 513       \n",
            "                                                                 \n",
            "=================================================================\n",
            "Total params: 4,232,289\n",
            "Trainable params: 4,232,289\n",
            "Non-trainable params: 0\n",
            "_________________________________________________________________\n"
          ]
        }
      ],
      "source": [
        "ins = image_batch.shape[1:]\n",
        "\n",
        "model = Sequential()\n",
        "\n",
        "model.add(Conv2D(32, (3,3), padding=\"same\", activation=\"relu\", input_shape=ins))\n",
        "\n",
        "model.add(MaxPooling2D(pool_size=(2, 2)))\n",
        "\n",
        "model.add(Conv2D(32, (3,3), padding=\"same\", strides = (2,2), activation=\"relu\"))\n",
        "\n",
        "model.add(MaxPooling2D(pool_size=(2, 2)))\n",
        "\n",
        "model.add(Conv2D(64, (3,3), padding=\"same\", strides = (2,2), activation=\"relu\"))\n",
        "\n",
        "model.add(MaxPooling2D(pool_size=(2, 2)))\n",
        "\n",
        "model.add(Dense(128, activation=\"relu\"))\n",
        "\n",
        "model.add(Flatten())\n",
        "\n",
        "model.add(Dense(N, activation=\"relu\"))\n",
        "\n",
        "model.add(Dropout(0.5))\n",
        "\n",
        "model.add(Dense(1, activation=\"sigmoid\"))\n",
        "\n",
        "model.summary()"
      ]
    },
    {
      "cell_type": "code",
      "execution_count": null,
      "metadata": {
        "id": "H8LCacg9RocI"
      },
      "outputs": [],
      "source": [
        "model.compile(loss='binary_crossentropy', optimizer=optimizers.Adam(learning_rate=0.00001), metrics=[keras.metrics.AUC(), 'accuracy'])"
      ]
    },
    {
      "cell_type": "code",
      "execution_count": null,
      "metadata": {
        "colab": {
          "base_uri": "https://localhost:8080/"
        },
        "id": "JNz1WUicRocI",
        "outputId": "91c7751a-2f47-4c23-ce4e-0cef1ed7e9c1"
      },
      "outputs": [
        {
          "name": "stdout",
          "output_type": "stream",
          "text": [
            "Epoch 1/100\n",
            "244/244 [==============================] - 47s 189ms/step - loss: 0.4771 - auc: 0.5178 - accuracy: 0.8582 - val_loss: 0.4321 - val_auc: 0.6158 - val_accuracy: 0.8581\n",
            "Epoch 2/100\n",
            "244/244 [==============================] - 47s 191ms/step - loss: 0.4024 - auc: 0.6132 - accuracy: 0.8597 - val_loss: 0.3772 - val_auc: 0.7225 - val_accuracy: 0.8581\n",
            "Epoch 3/100\n",
            "244/244 [==============================] - 46s 186ms/step - loss: 0.3739 - auc: 0.7065 - accuracy: 0.8597 - val_loss: 0.3648 - val_auc: 0.7450 - val_accuracy: 0.8581\n",
            "Epoch 4/100\n",
            "244/244 [==============================] - 47s 190ms/step - loss: 0.3667 - auc: 0.7233 - accuracy: 0.8597 - val_loss: 0.3596 - val_auc: 0.7560 - val_accuracy: 0.8581\n",
            "Epoch 5/100\n",
            "244/244 [==============================] - 46s 186ms/step - loss: 0.3622 - auc: 0.7371 - accuracy: 0.8597 - val_loss: 0.3559 - val_auc: 0.7649 - val_accuracy: 0.8581\n",
            "Epoch 6/100\n",
            "244/244 [==============================] - 46s 186ms/step - loss: 0.3589 - auc: 0.7443 - accuracy: 0.8597 - val_loss: 0.3524 - val_auc: 0.7715 - val_accuracy: 0.8581\n",
            "Epoch 7/100\n",
            "244/244 [==============================] - 48s 193ms/step - loss: 0.3556 - auc: 0.7524 - accuracy: 0.8597 - val_loss: 0.3495 - val_auc: 0.7769 - val_accuracy: 0.8581\n",
            "Epoch 8/100\n",
            "244/244 [==============================] - 47s 188ms/step - loss: 0.3527 - auc: 0.7600 - accuracy: 0.8597 - val_loss: 0.3474 - val_auc: 0.7809 - val_accuracy: 0.8581\n",
            "Epoch 9/100\n",
            "244/244 [==============================] - 46s 187ms/step - loss: 0.3509 - auc: 0.7634 - accuracy: 0.8597 - val_loss: 0.3455 - val_auc: 0.7840 - val_accuracy: 0.8581\n",
            "Epoch 10/100\n",
            "244/244 [==============================] - 47s 189ms/step - loss: 0.3488 - auc: 0.7683 - accuracy: 0.8595 - val_loss: 0.3441 - val_auc: 0.7865 - val_accuracy: 0.8581\n",
            "Epoch 11/100\n",
            "244/244 [==============================] - 47s 189ms/step - loss: 0.3475 - auc: 0.7701 - accuracy: 0.8598 - val_loss: 0.3422 - val_auc: 0.7887 - val_accuracy: 0.8581\n",
            "Epoch 12/100\n",
            "244/244 [==============================] - 46s 186ms/step - loss: 0.3453 - auc: 0.7737 - accuracy: 0.8601 - val_loss: 0.3415 - val_auc: 0.7904 - val_accuracy: 0.8596\n",
            "Epoch 13/100\n",
            "244/244 [==============================] - 46s 185ms/step - loss: 0.3447 - auc: 0.7741 - accuracy: 0.8602 - val_loss: 0.3395 - val_auc: 0.7934 - val_accuracy: 0.8592\n",
            "Epoch 14/100\n",
            "244/244 [==============================] - 47s 192ms/step - loss: 0.3421 - auc: 0.7798 - accuracy: 0.8606 - val_loss: 0.3383 - val_auc: 0.7953 - val_accuracy: 0.8597\n",
            "Epoch 15/100\n",
            "244/244 [==============================] - 46s 187ms/step - loss: 0.3408 - auc: 0.7819 - accuracy: 0.8617 - val_loss: 0.3371 - val_auc: 0.7972 - val_accuracy: 0.8601\n",
            "Epoch 16/100\n",
            "244/244 [==============================] - 48s 193ms/step - loss: 0.3391 - auc: 0.7849 - accuracy: 0.8624 - val_loss: 0.3362 - val_auc: 0.7986 - val_accuracy: 0.8606\n",
            "Epoch 17/100\n",
            "244/244 [==============================] - 46s 187ms/step - loss: 0.3373 - auc: 0.7884 - accuracy: 0.8623 - val_loss: 0.3351 - val_auc: 0.7999 - val_accuracy: 0.8611\n",
            "Epoch 18/100\n",
            "244/244 [==============================] - 47s 190ms/step - loss: 0.3364 - auc: 0.7890 - accuracy: 0.8639 - val_loss: 0.3340 - val_auc: 0.8008 - val_accuracy: 0.8623\n",
            "Epoch 19/100\n",
            "244/244 [==============================] - 46s 187ms/step - loss: 0.3348 - auc: 0.7915 - accuracy: 0.8647 - val_loss: 0.3331 - val_auc: 0.8020 - val_accuracy: 0.8622\n",
            "Epoch 20/100\n",
            "244/244 [==============================] - 47s 188ms/step - loss: 0.3345 - auc: 0.7913 - accuracy: 0.8662 - val_loss: 0.3329 - val_auc: 0.8026 - val_accuracy: 0.8617\n",
            "Epoch 21/100\n",
            "244/244 [==============================] - 46s 188ms/step - loss: 0.3327 - auc: 0.7941 - accuracy: 0.8667 - val_loss: 0.3318 - val_auc: 0.8039 - val_accuracy: 0.8635\n",
            "Epoch 22/100\n",
            "244/244 [==============================] - 47s 189ms/step - loss: 0.3321 - auc: 0.7955 - accuracy: 0.8667 - val_loss: 0.3310 - val_auc: 0.8047 - val_accuracy: 0.8640\n",
            "Epoch 23/100\n",
            "244/244 [==============================] - 47s 191ms/step - loss: 0.3305 - auc: 0.7980 - accuracy: 0.8675 - val_loss: 0.3299 - val_auc: 0.8057 - val_accuracy: 0.8637\n",
            "Epoch 24/100\n",
            "243/244 [============================>.] - ETA: 0s - loss: 0.3286 - auc: 0.8009 - accuracy: 0.8681Epoch 25/100\n",
            "244/244 [==============================] - 46s 186ms/step - loss: 0.3282 - auc: 0.8018 - accuracy: 0.8693 - val_loss: 0.3291 - val_auc: 0.8072 - val_accuracy: 0.8641\n",
            "Epoch 26/100\n",
            "244/244 [==============================] - 47s 191ms/step - loss: 0.3261 - auc: 0.8037 - accuracy: 0.8709 - val_loss: 0.3281 - val_auc: 0.8077 - val_accuracy: 0.8685\n",
            "Epoch 27/100\n",
            "244/244 [==============================] - 46s 186ms/step - loss: 0.3241 - auc: 0.8072 - accuracy: 0.8720 - val_loss: 0.3269 - val_auc: 0.8086 - val_accuracy: 0.8656\n",
            "Epoch 28/100\n",
            "244/244 [==============================] - 48s 194ms/step - loss: 0.3244 - auc: 0.8062 - accuracy: 0.8724 - val_loss: 0.3263 - val_auc: 0.8098 - val_accuracy: 0.8665\n",
            "Epoch 29/100\n",
            "244/244 [==============================] - 46s 188ms/step - loss: 0.3223 - auc: 0.8092 - accuracy: 0.8732 - val_loss: 0.3259 - val_auc: 0.8099 - val_accuracy: 0.8668\n",
            "Epoch 30/100\n",
            "244/244 [==============================] - 46s 186ms/step - loss: 0.3208 - auc: 0.8111 - accuracy: 0.8746 - val_loss: 0.3249 - val_auc: 0.8105 - val_accuracy: 0.8691\n",
            "Epoch 31/100\n",
            "244/244 [==============================] - 48s 194ms/step - loss: 0.3203 - auc: 0.8106 - accuracy: 0.8743 - val_loss: 0.3243 - val_auc: 0.8112 - val_accuracy: 0.8685\n",
            "Epoch 32/100\n",
            "244/244 [==============================] - 46s 188ms/step - loss: 0.3192 - auc: 0.8125 - accuracy: 0.8750 - val_loss: 0.3240 - val_auc: 0.8115 - val_accuracy: 0.8686\n",
            "Epoch 33/100\n",
            "244/244 [==============================] - 54s 218ms/step - loss: 0.3188 - auc: 0.8132 - accuracy: 0.8755 - val_loss: 0.3231 - val_auc: 0.8123 - val_accuracy: 0.8703\n",
            "Epoch 34/100\n",
            "244/244 [==============================] - 46s 186ms/step - loss: 0.3171 - auc: 0.8164 - accuracy: 0.8741 - val_loss: 0.3227 - val_auc: 0.8129 - val_accuracy: 0.8704\n",
            "Epoch 35/100\n",
            "244/244 [==============================] - 46s 187ms/step - loss: 0.3148 - auc: 0.8191 - accuracy: 0.8764 - val_loss: 0.3224 - val_auc: 0.8129 - val_accuracy: 0.8712\n",
            "Epoch 36/100\n",
            "244/244 [==============================] - 45s 184ms/step - loss: 0.3138 - auc: 0.8205 - accuracy: 0.8767 - val_loss: 0.3229 - val_auc: 0.8132 - val_accuracy: 0.8694\n",
            "Epoch 37/100\n",
            "244/244 [==============================] - 47s 192ms/step - loss: 0.3130 - auc: 0.8210 - accuracy: 0.8777 - val_loss: 0.3209 - val_auc: 0.8147 - val_accuracy: 0.8710\n",
            "Epoch 38/100\n",
            "244/244 [==============================] - 47s 188ms/step - loss: 0.3120 - auc: 0.8221 - accuracy: 0.8775 - val_loss: 0.3208 - val_auc: 0.8141 - val_accuracy: 0.8707\n",
            "Epoch 39/100\n",
            "244/244 [==============================] - 47s 191ms/step - loss: 0.3114 - auc: 0.8224 - accuracy: 0.8779 - val_loss: 0.3209 - val_auc: 0.8146 - val_accuracy: 0.8713\n",
            "Epoch 40/100\n",
            "244/244 [==============================] - 46s 187ms/step - loss: 0.3099 - auc: 0.8247 - accuracy: 0.8800 - val_loss: 0.3202 - val_auc: 0.8145 - val_accuracy: 0.8717\n",
            "Epoch 41/100\n",
            "244/244 [==============================] - 47s 191ms/step - loss: 0.3097 - auc: 0.8245 - accuracy: 0.8786 - val_loss: 0.3188 - val_auc: 0.8165 - val_accuracy: 0.8723\n",
            "Epoch 42/100\n",
            "244/244 [==============================] - 46s 186ms/step - loss: 0.3088 - auc: 0.8252 - accuracy: 0.8794 - val_loss: 0.3181 - val_auc: 0.8172 - val_accuracy: 0.8722\n",
            "Epoch 43/100\n",
            "244/244 [==============================] - 48s 192ms/step - loss: 0.3078 - auc: 0.8262 - accuracy: 0.8817 - val_loss: 0.3182 - val_auc: 0.8179 - val_accuracy: 0.8730\n",
            "Epoch 44/100\n",
            "244/244 [==============================] - 47s 188ms/step - loss: 0.3063 - auc: 0.8292 - accuracy: 0.8823 - val_loss: 0.3178 - val_auc: 0.8177 - val_accuracy: 0.8722\n",
            "Epoch 45/100\n",
            "244/244 [==============================] - 47s 191ms/step - loss: 0.3041 - auc: 0.8317 - accuracy: 0.8823 - val_loss: 0.3172 - val_auc: 0.8174 - val_accuracy: 0.8736\n",
            "Epoch 46/100\n",
            "244/244 [==============================] - 47s 190ms/step - loss: 0.3043 - auc: 0.8328 - accuracy: 0.8806 - val_loss: 0.3170 - val_auc: 0.8178 - val_accuracy: 0.8735\n",
            "Epoch 47/100\n",
            "244/244 [==============================] - 46s 187ms/step - loss: 0.3023 - auc: 0.8345 - accuracy: 0.8835 - val_loss: 0.3173 - val_auc: 0.8185 - val_accuracy: 0.8725\n",
            "Epoch 48/100\n",
            "244/244 [==============================] - 47s 190ms/step - loss: 0.3023 - auc: 0.8341 - accuracy: 0.8840 - val_loss: 0.3154 - val_auc: 0.8200 - val_accuracy: 0.8736\n",
            "Epoch 49/100\n",
            "244/244 [==============================] - 45s 184ms/step - loss: 0.3013 - auc: 0.8346 - accuracy: 0.8836 - val_loss: 0.3151 - val_auc: 0.8199 - val_accuracy: 0.8743\n",
            "Epoch 50/100\n",
            "244/244 [==============================] - 47s 191ms/step - loss: 0.2996 - auc: 0.8375 - accuracy: 0.8846 - val_loss: 0.3150 - val_auc: 0.8197 - val_accuracy: 0.8741\n",
            "Epoch 51/100\n",
            "244/244 [==============================] - 46s 186ms/step - loss: 0.2995 - auc: 0.8359 - accuracy: 0.8863 - val_loss: 0.3140 - val_auc: 0.8215 - val_accuracy: 0.8737\n",
            "Epoch 52/100\n",
            "244/244 [==============================] - 46s 187ms/step - loss: 0.2982 - auc: 0.8385 - accuracy: 0.8856 - val_loss: 0.3144 - val_auc: 0.8202 - val_accuracy: 0.8749\n",
            "Epoch 53/100\n",
            "244/244 [==============================] - 47s 191ms/step - loss: 0.2968 - auc: 0.8406 - accuracy: 0.8862 - val_loss: 0.3167 - val_auc: 0.8183 - val_accuracy: 0.8737\n",
            "Epoch 54/100\n",
            "244/244 [==============================] - 46s 185ms/step - loss: 0.2961 - auc: 0.8405 - accuracy: 0.8869 - val_loss: 0.3131 - val_auc: 0.8220 - val_accuracy: 0.8739\n",
            "Epoch 55/100\n",
            "244/244 [==============================] - 46s 186ms/step - loss: 0.2956 - auc: 0.8423 - accuracy: 0.8858 - val_loss: 0.3128 - val_auc: 0.8221 - val_accuracy: 0.8744\n",
            "Epoch 56/100\n",
            "244/244 [==============================] - 46s 187ms/step - loss: 0.2928 - auc: 0.8448 - accuracy: 0.8863 - val_loss: 0.3126 - val_auc: 0.8221 - val_accuracy: 0.8745\n",
            "Epoch 57/100\n",
            "244/244 [==============================] - 48s 193ms/step - loss: 0.2938 - auc: 0.8427 - accuracy: 0.8864 - val_loss: 0.3121 - val_auc: 0.8228 - val_accuracy: 0.8746\n",
            "Epoch 58/100\n",
            "244/244 [==============================] - 46s 186ms/step - loss: 0.2916 - auc: 0.8453 - accuracy: 0.8880 - val_loss: 0.3119 - val_auc: 0.8235 - val_accuracy: 0.8755\n",
            "Epoch 59/100\n",
            "244/244 [==============================] - 47s 190ms/step - loss: 0.2930 - auc: 0.8442 - accuracy: 0.8872 - val_loss: 0.3111 - val_auc: 0.8243 - val_accuracy: 0.8759\n",
            "Epoch 60/100\n",
            "244/244 [==============================] - 46s 186ms/step - loss: 0.2901 - auc: 0.8473 - accuracy: 0.8884 - val_loss: 0.3113 - val_auc: 0.8241 - val_accuracy: 0.8755\n",
            "Epoch 61/100\n",
            "244/244 [==============================] - 47s 191ms/step - loss: 0.2904 - auc: 0.8469 - accuracy: 0.8883 - val_loss: 0.3101 - val_auc: 0.8256 - val_accuracy: 0.8762\n",
            "Epoch 62/100\n",
            "244/244 [==============================] - 46s 186ms/step - loss: 0.2874 - auc: 0.8510 - accuracy: 0.8903 - val_loss: 0.3119 - val_auc: 0.8241 - val_accuracy: 0.8767\n",
            "Epoch 63/100\n",
            "244/244 [==============================] - 53s 214ms/step - loss: 0.2884 - auc: 0.8504 - accuracy: 0.8883 - val_loss: 0.3110 - val_auc: 0.8254 - val_accuracy: 0.8764\n",
            "Epoch 64/100\n",
            "244/244 [==============================] - 47s 191ms/step - loss: 0.2883 - auc: 0.8497 - accuracy: 0.8903 - val_loss: 0.3091 - val_auc: 0.8261 - val_accuracy: 0.8771\n",
            "Epoch 65/100\n",
            "244/244 [==============================] - 46s 185ms/step - loss: 0.2855 - auc: 0.8547 - accuracy: 0.8906 - val_loss: 0.3105 - val_auc: 0.8251 - val_accuracy: 0.8761\n",
            "Epoch 66/100\n",
            "244/244 [==============================] - 47s 190ms/step - loss: 0.2845 - auc: 0.8549 - accuracy: 0.8903 - val_loss: 0.3095 - val_auc: 0.8253 - val_accuracy: 0.8770\n",
            "Epoch 67/100\n",
            "244/244 [==============================] - 46s 185ms/step - loss: 0.2853 - auc: 0.8536 - accuracy: 0.8907 - val_loss: 0.3085 - val_auc: 0.8268 - val_accuracy: 0.8775\n",
            "Epoch 68/100\n",
            "244/244 [==============================] - 47s 191ms/step - loss: 0.2837 - auc: 0.8546 - accuracy: 0.8919 - val_loss: 0.3087 - val_auc: 0.8262 - val_accuracy: 0.8771\n",
            "Epoch 69/100\n",
            "244/244 [==============================] - 46s 186ms/step - loss: 0.2837 - auc: 0.8551 - accuracy: 0.8909 - val_loss: 0.3077 - val_auc: 0.8279 - val_accuracy: 0.8788\n",
            "Epoch 70/100\n",
            "244/244 [==============================] - 46s 185ms/step - loss: 0.2818 - auc: 0.8578 - accuracy: 0.8917 - val_loss: 0.3096 - val_auc: 0.8255 - val_accuracy: 0.8770\n",
            "Epoch 71/100\n",
            "244/244 [==============================] - 47s 189ms/step - loss: 0.2812 - auc: 0.8573 - accuracy: 0.8923 - val_loss: 0.3096 - val_auc: 0.8247 - val_accuracy: 0.8763\n",
            "Epoch 72/100\n",
            "244/244 [==============================] - 46s 186ms/step - loss: 0.2797 - auc: 0.8594 - accuracy: 0.8926 - val_loss: 0.3069 - val_auc: 0.8284 - val_accuracy: 0.8789\n",
            "Epoch 73/100\n",
            "244/244 [==============================] - 47s 189ms/step - loss: 0.2791 - auc: 0.8593 - accuracy: 0.8941 - val_loss: 0.3068 - val_auc: 0.8287 - val_accuracy: 0.8793\n",
            "Epoch 74/100\n",
            "244/244 [==============================] - 45s 184ms/step - loss: 0.2788 - auc: 0.8604 - accuracy: 0.8930 - val_loss: 0.3070 - val_auc: 0.8288 - val_accuracy: 0.8781\n",
            "Epoch 75/100\n",
            "244/244 [==============================] - 46s 185ms/step - loss: 0.2782 - auc: 0.8603 - accuracy: 0.8932 - val_loss: 0.3080 - val_auc: 0.8280 - val_accuracy: 0.8782\n",
            "Epoch 76/100\n",
            "244/244 [==============================] - 47s 190ms/step - loss: 0.2766 - auc: 0.8623 - accuracy: 0.8935 - val_loss: 0.3069 - val_auc: 0.8288 - val_accuracy: 0.8788\n",
            "Epoch 77/100\n",
            "244/244 [==============================] - 53s 216ms/step - loss: 0.2760 - auc: 0.8634 - accuracy: 0.8946 - val_loss: 0.3064 - val_auc: 0.8290 - val_accuracy: 0.8793\n",
            "Epoch 78/100\n",
            "244/244 [==============================] - 47s 189ms/step - loss: 0.2756 - auc: 0.8635 - accuracy: 0.8939 - val_loss: 0.3061 - val_auc: 0.8301 - val_accuracy: 0.8786\n",
            "Epoch 79/100\n",
            "244/244 [==============================] - 46s 186ms/step - loss: 0.2740 - auc: 0.8655 - accuracy: 0.8962 - val_loss: 0.3069 - val_auc: 0.8284 - val_accuracy: 0.8797\n",
            "Epoch 80/100\n",
            "244/244 [==============================] - 46s 186ms/step - loss: 0.2727 - auc: 0.8674 - accuracy: 0.8953 - val_loss: 0.3099 - val_auc: 0.8259 - val_accuracy: 0.8773\n",
            "Epoch 81/100\n",
            "244/244 [==============================] - 47s 191ms/step - loss: 0.2726 - auc: 0.8664 - accuracy: 0.8961 - val_loss: 0.3053 - val_auc: 0.8300 - val_accuracy: 0.8807\n",
            "Epoch 82/100\n",
            "244/244 [==============================] - 47s 189ms/step - loss: 0.2715 - auc: 0.8688 - accuracy: 0.8956 - val_loss: 0.3055 - val_auc: 0.8293 - val_accuracy: 0.8799\n",
            "Epoch 83/100\n",
            "244/244 [==============================] - 47s 191ms/step - loss: 0.2701 - auc: 0.8691 - accuracy: 0.8983 - val_loss: 0.3044 - val_auc: 0.8315 - val_accuracy: 0.8802\n",
            "Epoch 84/100\n",
            "244/244 [==============================] - 46s 186ms/step - loss: 0.2697 - auc: 0.8698 - accuracy: 0.8980 - val_loss: 0.3048 - val_auc: 0.8307 - val_accuracy: 0.8802\n",
            "Epoch 85/100\n",
            "244/244 [==============================] - 46s 186ms/step - loss: 0.2676 - auc: 0.8740 - accuracy: 0.8989 - val_loss: 0.3055 - val_auc: 0.8288 - val_accuracy: 0.8803\n",
            "Epoch 86/100\n",
            "244/244 [==============================] - 48s 192ms/step - loss: 0.2684 - auc: 0.8712 - accuracy: 0.8980 - val_loss: 0.3046 - val_auc: 0.8300 - val_accuracy: 0.8802\n",
            "Epoch 87/100\n",
            "244/244 [==============================] - 46s 186ms/step - loss: 0.2675 - auc: 0.8715 - accuracy: 0.8989 - val_loss: 0.3038 - val_auc: 0.8312 - val_accuracy: 0.8808\n",
            "Epoch 88/100\n",
            "243/244 [============================>.] - ETA: 0s - loss: 0.2661 - auc: 0.8746 - accuracy: 0.8965Restoring model weights from the end of the best epoch: 83.\n",
            "244/244 [==============================] - 48s 193ms/step - loss: 0.2660 - auc: 0.8746 - accuracy: 0.8966 - val_loss: 0.3052 - val_auc: 0.8295 - val_accuracy: 0.8803\n",
            "Epoch 88: early stopping\n"
          ]
        }
      ],
      "source": [
        "run_hist = model.fit(normalized_data, validation_data=normalized_val_data, epochs=100,\n",
        "  callbacks=[keras.callbacks.EarlyStopping(\n",
        "                  monitor=\"val_auc\",\n",
        "                  min_delta=0,\n",
        "                  patience=5,\n",
        "                  verbose=1,\n",
        "                  mode=\"auto\",\n",
        "                  baseline=None,\n",
        "                  restore_best_weights=True,\n",
        "              )])"
      ]
    },
    {
      "cell_type": "code",
      "execution_count": null,
      "metadata": {
        "colab": {
          "base_uri": "https://localhost:8080/"
        },
        "id": "8IGk3qbeRocI",
        "outputId": "2f9995ab-7e87-4fda-a7db-512a093a7cec"
      },
      "outputs": [
        {
          "name": "stdout",
          "output_type": "stream",
          "text": [
            "183/183 [==============================] - 34s 183ms/step - loss: 0.3096 - auc: 0.8215 - accuracy: 0.8809\n",
            "[0.30957847833633423, 0.8215144276618958, 0.8809258341789246]\n"
          ]
        }
      ],
      "source": [
        "results = model.evaluate(normalized_test_data)\n",
        "print(results)"
      ]
    },
    {
      "cell_type": "markdown",
      "metadata": {
        "id": "fK883WoXRocI"
      },
      "source": [
        "#### N512-L3-D2"
      ]
    },
    {
      "cell_type": "code",
      "execution_count": null,
      "metadata": {
        "id": "iCKvc46mRocI"
      },
      "outputs": [],
      "source": [
        "N = 512\n",
        "NAME = \"N512-L3-D2\"\n",
        "keras.backend.clear_session()"
      ]
    },
    {
      "cell_type": "code",
      "execution_count": null,
      "metadata": {
        "colab": {
          "base_uri": "https://localhost:8080/"
        },
        "id": "eArXsFstRocI",
        "outputId": "88ba8629-02ee-416b-fc10-b4ff6fef1588"
      },
      "outputs": [
        {
          "name": "stdout",
          "output_type": "stream",
          "text": [
            "Model: \"sequential\"\n",
            "_________________________________________________________________\n",
            " Layer (type)                Output Shape              Param #   \n",
            "=================================================================\n",
            " conv2d (Conv2D)             (None, 256, 256, 32)      896       \n",
            "                                                                 \n",
            " max_pooling2d (MaxPooling2D  (None, 128, 128, 32)     0         \n",
            " )                                                               \n",
            "                                                                 \n",
            " conv2d_1 (Conv2D)           (None, 64, 64, 32)        9248      \n",
            "                                                                 \n",
            " max_pooling2d_1 (MaxPooling  (None, 32, 32, 32)       0         \n",
            " 2D)                                                             \n",
            "                                                                 \n",
            " conv2d_2 (Conv2D)           (None, 16, 16, 64)        18496     \n",
            "                                                                 \n",
            " dropout (Dropout)           (None, 16, 16, 64)        0         \n",
            "                                                                 \n",
            " max_pooling2d_2 (MaxPooling  (None, 8, 8, 64)         0         \n",
            " 2D)                                                             \n",
            "                                                                 \n",
            " dense (Dense)               (None, 8, 8, 128)         8320      \n",
            "                                                                 \n",
            " flatten (Flatten)           (None, 8192)              0         \n",
            "                                                                 \n",
            " dense_1 (Dense)             (None, 512)               4194816   \n",
            "                                                                 \n",
            " dense_2 (Dense)             (None, 512)               262656    \n",
            "                                                                 \n",
            " dense_3 (Dense)             (None, 512)               262656    \n",
            "                                                                 \n",
            " dropout_1 (Dropout)         (None, 512)               0         \n",
            "                                                                 \n",
            " dense_4 (Dense)             (None, 1)                 513       \n",
            "                                                                 \n",
            "=================================================================\n",
            "Total params: 4,757,601\n",
            "Trainable params: 4,757,601\n",
            "Non-trainable params: 0\n",
            "_________________________________________________________________\n"
          ]
        }
      ],
      "source": [
        "ins = image_batch.shape[1:]\n",
        "\n",
        "model = Sequential()\n",
        "\n",
        "model.add(Conv2D(32, (3,3), padding=\"same\", activation=\"relu\", input_shape=ins))\n",
        "\n",
        "model.add(MaxPooling2D(pool_size=(2, 2)))\n",
        "\n",
        "model.add(Conv2D(32, (3,3), padding=\"same\", strides = (2,2), activation=\"relu\"))\n",
        "\n",
        "model.add(MaxPooling2D(pool_size=(2, 2)))\n",
        "\n",
        "model.add(Conv2D(64, (3,3), padding=\"same\", strides = (2,2), activation=\"relu\"))\n",
        "\n",
        "model.add(Dropout(0.1))\n",
        "\n",
        "model.add(MaxPooling2D(pool_size=(2, 2)))\n",
        "\n",
        "model.add(Dense(128, activation=\"relu\"))\n",
        "\n",
        "model.add(Flatten())\n",
        "\n",
        "model.add(Dense(N, activation=\"relu\"))\n",
        "\n",
        "model.add(Dense(N, activation=\"relu\"))\n",
        "\n",
        "model.add(Dense(N, activation=\"relu\"))\n",
        "\n",
        "model.add(Dropout(0.5))\n",
        "\n",
        "model.add(Dense(1, activation=\"sigmoid\"))\n",
        "\n",
        "model.summary()"
      ]
    },
    {
      "cell_type": "code",
      "execution_count": null,
      "metadata": {
        "id": "1tNLl6IzRocI"
      },
      "outputs": [],
      "source": [
        "model.compile(loss='binary_crossentropy', optimizer=optimizers.Adam(learning_rate=0.00001), metrics=[keras.metrics.AUC(), 'accuracy'])"
      ]
    },
    {
      "cell_type": "code",
      "execution_count": null,
      "metadata": {
        "colab": {
          "base_uri": "https://localhost:8080/"
        },
        "id": "cJk1HbtDRocI",
        "outputId": "f3b91ccb-3aa3-4ed7-ec30-0674c6f2a035"
      },
      "outputs": [
        {
          "name": "stdout",
          "output_type": "stream",
          "text": [
            "Epoch 1/100\n",
            "244/244 [==============================] - 65s 205ms/step - loss: 0.4871 - auc: 0.5203 - accuracy: 0.8523 - val_loss: 0.4330 - val_auc: 0.6151 - val_accuracy: 0.8581\n",
            "Epoch 2/100\n",
            "244/244 [==============================] - 42s 171ms/step - loss: 0.3974 - auc: 0.6319 - accuracy: 0.8597 - val_loss: 0.3689 - val_auc: 0.7425 - val_accuracy: 0.8581\n",
            "Epoch 3/100\n",
            "244/244 [==============================] - 42s 169ms/step - loss: 0.3664 - auc: 0.7244 - accuracy: 0.8597 - val_loss: 0.3588 - val_auc: 0.7626 - val_accuracy: 0.8581\n",
            "Epoch 4/100\n",
            "244/244 [==============================] - 43s 175ms/step - loss: 0.3607 - auc: 0.7395 - accuracy: 0.8597 - val_loss: 0.3545 - val_auc: 0.7730 - val_accuracy: 0.8581\n",
            "Epoch 5/100\n",
            "244/244 [==============================] - 42s 170ms/step - loss: 0.3559 - auc: 0.7519 - accuracy: 0.8595 - val_loss: 0.3504 - val_auc: 0.7798 - val_accuracy: 0.8581\n",
            "Epoch 6/100\n",
            "244/244 [==============================] - 43s 175ms/step - loss: 0.3512 - auc: 0.7624 - accuracy: 0.8597 - val_loss: 0.3462 - val_auc: 0.7838 - val_accuracy: 0.8581\n",
            "Epoch 7/100\n",
            "244/244 [==============================] - 44s 177ms/step - loss: 0.3475 - auc: 0.7703 - accuracy: 0.8601 - val_loss: 0.3436 - val_auc: 0.7875 - val_accuracy: 0.8582\n",
            "Epoch 8/100\n",
            "244/244 [==============================] - 42s 169ms/step - loss: 0.3445 - auc: 0.7751 - accuracy: 0.8604 - val_loss: 0.3426 - val_auc: 0.7905 - val_accuracy: 0.8599\n",
            "Epoch 9/100\n",
            "244/244 [==============================] - 43s 174ms/step - loss: 0.3420 - auc: 0.7794 - accuracy: 0.8611 - val_loss: 0.3418 - val_auc: 0.7940 - val_accuracy: 0.8604\n",
            "Epoch 10/100\n",
            "244/244 [==============================] - 42s 170ms/step - loss: 0.3399 - auc: 0.7839 - accuracy: 0.8607 - val_loss: 0.3378 - val_auc: 0.7964 - val_accuracy: 0.8605\n",
            "Epoch 11/100\n",
            "244/244 [==============================] - 51s 208ms/step - loss: 0.3373 - auc: 0.7871 - accuracy: 0.8626 - val_loss: 0.3367 - val_auc: 0.7975 - val_accuracy: 0.8609\n",
            "Epoch 12/100\n",
            "244/244 [==============================] - 42s 168ms/step - loss: 0.3345 - auc: 0.7926 - accuracy: 0.8636 - val_loss: 0.3397 - val_auc: 0.7986 - val_accuracy: 0.8628\n",
            "Epoch 13/100\n",
            "244/244 [==============================] - 52s 209ms/step - loss: 0.3320 - auc: 0.7949 - accuracy: 0.8662 - val_loss: 0.3359 - val_auc: 0.8004 - val_accuracy: 0.8646\n",
            "Epoch 14/100\n",
            "244/244 [==============================] - 42s 169ms/step - loss: 0.3309 - auc: 0.7970 - accuracy: 0.8669 - val_loss: 0.3335 - val_auc: 0.8022 - val_accuracy: 0.8646\n",
            "Epoch 15/100\n",
            "244/244 [==============================] - 42s 169ms/step - loss: 0.3278 - auc: 0.8003 - accuracy: 0.8686 - val_loss: 0.3316 - val_auc: 0.8038 - val_accuracy: 0.8655\n",
            "Epoch 16/100\n",
            "244/244 [==============================] - 42s 169ms/step - loss: 0.3264 - auc: 0.8044 - accuracy: 0.8687 - val_loss: 0.3385 - val_auc: 0.8040 - val_accuracy: 0.8651\n",
            "Epoch 17/100\n",
            "244/244 [==============================] - 43s 176ms/step - loss: 0.3237 - auc: 0.8079 - accuracy: 0.8698 - val_loss: 0.3293 - val_auc: 0.8051 - val_accuracy: 0.8654\n",
            "Epoch 18/100\n",
            "244/244 [==============================] - 42s 169ms/step - loss: 0.3200 - auc: 0.8115 - accuracy: 0.8734 - val_loss: 0.3318 - val_auc: 0.8066 - val_accuracy: 0.8672\n",
            "Epoch 19/100\n",
            "244/244 [==============================] - 42s 169ms/step - loss: 0.3178 - auc: 0.8140 - accuracy: 0.8747 - val_loss: 0.3276 - val_auc: 0.8073 - val_accuracy: 0.8690\n",
            "Epoch 20/100\n",
            "244/244 [==============================] - 44s 177ms/step - loss: 0.3152 - auc: 0.8171 - accuracy: 0.8764 - val_loss: 0.3254 - val_auc: 0.8089 - val_accuracy: 0.8695\n",
            "Epoch 21/100\n",
            "244/244 [==============================] - 43s 174ms/step - loss: 0.3123 - auc: 0.8210 - accuracy: 0.8772 - val_loss: 0.3287 - val_auc: 0.8099 - val_accuracy: 0.8689\n",
            "Epoch 22/100\n",
            "244/244 [==============================] - 42s 170ms/step - loss: 0.3099 - auc: 0.8242 - accuracy: 0.8790 - val_loss: 0.3259 - val_auc: 0.8088 - val_accuracy: 0.8704\n",
            "Epoch 23/100\n",
            "244/244 [==============================] - 42s 170ms/step - loss: 0.3084 - auc: 0.8267 - accuracy: 0.8780 - val_loss: 0.3273 - val_auc: 0.8110 - val_accuracy: 0.8680\n",
            "Epoch 24/100\n",
            "244/244 [==============================] - 42s 170ms/step - loss: 0.3066 - auc: 0.8278 - accuracy: 0.8799 - val_loss: 0.3239 - val_auc: 0.8081 - val_accuracy: 0.8713\n",
            "Epoch 25/100\n",
            "244/244 [==============================] - 44s 174ms/step - loss: 0.3033 - auc: 0.8326 - accuracy: 0.8813 - val_loss: 0.3298 - val_auc: 0.8131 - val_accuracy: 0.8660\n",
            "Epoch 26/100\n",
            "244/244 [==============================] - 44s 177ms/step - loss: 0.3023 - auc: 0.8327 - accuracy: 0.8826 - val_loss: 0.3204 - val_auc: 0.8151 - val_accuracy: 0.8716\n",
            "Epoch 27/100\n",
            "244/244 [==============================] - 42s 170ms/step - loss: 0.2994 - auc: 0.8360 - accuracy: 0.8831 - val_loss: 0.3203 - val_auc: 0.8129 - val_accuracy: 0.8716\n",
            "Epoch 28/100\n",
            "244/244 [==============================] - 43s 175ms/step - loss: 0.2977 - auc: 0.8387 - accuracy: 0.8846 - val_loss: 0.3191 - val_auc: 0.8134 - val_accuracy: 0.8722\n",
            "Epoch 29/100\n",
            "244/244 [==============================] - 42s 169ms/step - loss: 0.2948 - auc: 0.8412 - accuracy: 0.8861 - val_loss: 0.3196 - val_auc: 0.8168 - val_accuracy: 0.8726\n",
            "Epoch 30/100\n",
            "244/244 [==============================] - 42s 170ms/step - loss: 0.2909 - auc: 0.8476 - accuracy: 0.8865 - val_loss: 0.3237 - val_auc: 0.8116 - val_accuracy: 0.8736\n",
            "Epoch 31/100\n",
            "244/244 [==============================] - 43s 175ms/step - loss: 0.2906 - auc: 0.8460 - accuracy: 0.8883 - val_loss: 0.3160 - val_auc: 0.8171 - val_accuracy: 0.8744\n",
            "Epoch 32/100\n",
            "244/244 [==============================] - 42s 170ms/step - loss: 0.2862 - auc: 0.8514 - accuracy: 0.8896 - val_loss: 0.3173 - val_auc: 0.8151 - val_accuracy: 0.8749\n",
            "Epoch 33/100\n",
            "244/244 [==============================] - 43s 174ms/step - loss: 0.2872 - auc: 0.8490 - accuracy: 0.8905 - val_loss: 0.3230 - val_auc: 0.8209 - val_accuracy: 0.8686\n",
            "Epoch 34/100\n",
            "244/244 [==============================] - 42s 170ms/step - loss: 0.2864 - auc: 0.8511 - accuracy: 0.8899 - val_loss: 0.3183 - val_auc: 0.8193 - val_accuracy: 0.8714\n",
            "Epoch 35/100\n",
            "244/244 [==============================] - 42s 169ms/step - loss: 0.2805 - auc: 0.8583 - accuracy: 0.8923 - val_loss: 0.3128 - val_auc: 0.8209 - val_accuracy: 0.8771\n",
            "Epoch 36/100\n",
            "244/244 [==============================] - 42s 170ms/step - loss: 0.2810 - auc: 0.8574 - accuracy: 0.8914 - val_loss: 0.3152 - val_auc: 0.8186 - val_accuracy: 0.8758\n",
            "Epoch 37/100\n",
            "244/244 [==============================] - 42s 171ms/step - loss: 0.2793 - auc: 0.8591 - accuracy: 0.8923 - val_loss: 0.3130 - val_auc: 0.8201 - val_accuracy: 0.8771\n",
            "Epoch 38/100\n",
            "243/244 [============================>.] - ETA: 0s - loss: 0.2743 - auc: 0.8648 - accuracy: 0.8942Restoring model weights from the end of the best epoch: 33.\n",
            "244/244 [==============================] - 42s 171ms/step - loss: 0.2744 - auc: 0.8648 - accuracy: 0.8942 - val_loss: 0.3152 - val_auc: 0.8188 - val_accuracy: 0.8758\n",
            "Epoch 38: early stopping\n"
          ]
        }
      ],
      "source": [
        "run_hist = model.fit(normalized_data, validation_data=normalized_val_data, epochs=100,\n",
        "  callbacks=[keras.callbacks.EarlyStopping(\n",
        "                  monitor=\"val_auc\",\n",
        "                  min_delta=0,\n",
        "                  patience=5,\n",
        "                  verbose=1,\n",
        "                  mode=\"auto\",\n",
        "                  baseline=None,\n",
        "                  restore_best_weights=True,\n",
        "              )])"
      ]
    },
    {
      "cell_type": "code",
      "execution_count": null,
      "metadata": {
        "colab": {
          "base_uri": "https://localhost:8080/"
        },
        "id": "s6j9tAtHRocI",
        "outputId": "0b29f125-21fb-4cc0-e330-87253cb81a61"
      },
      "outputs": [
        {
          "name": "stdout",
          "output_type": "stream",
          "text": [
            "183/183 [==============================] - 22s 113ms/step - loss: 0.3283 - auc: 0.8116 - accuracy: 0.8724\n",
            "[0.328285276889801, 0.8116336464881897, 0.872353196144104]\n"
          ]
        }
      ],
      "source": [
        "results = model.evaluate(normalized_test_data)\n",
        "print(results)"
      ]
    },
    {
      "cell_type": "markdown",
      "metadata": {
        "id": "nsCUvfI3RocI"
      },
      "source": [
        "#### N1024-L1-D4"
      ]
    },
    {
      "cell_type": "code",
      "execution_count": null,
      "metadata": {
        "id": "8f0BwTeMRocI"
      },
      "outputs": [],
      "source": [
        "N = 1024\n",
        "NAME = \"N1024-L1-D4\"\n",
        "keras.backend.clear_session()"
      ]
    },
    {
      "cell_type": "code",
      "execution_count": null,
      "metadata": {
        "colab": {
          "base_uri": "https://localhost:8080/"
        },
        "id": "ZckZKWrSRocI",
        "outputId": "96b8156e-1a94-4945-a100-58fda43e36cc"
      },
      "outputs": [
        {
          "name": "stdout",
          "output_type": "stream",
          "text": [
            "Model: \"sequential\"\n",
            "_________________________________________________________________\n",
            " Layer (type)                Output Shape              Param #   \n",
            "=================================================================\n",
            " conv2d (Conv2D)             (None, 256, 256, 32)      896       \n",
            "                                                                 \n",
            " max_pooling2d (MaxPooling2D  (None, 128, 128, 32)     0         \n",
            " )                                                               \n",
            "                                                                 \n",
            " conv2d_1 (Conv2D)           (None, 64, 64, 32)        9248      \n",
            "                                                                 \n",
            " max_pooling2d_1 (MaxPooling  (None, 32, 32, 32)       0         \n",
            " 2D)                                                             \n",
            "                                                                 \n",
            " conv2d_2 (Conv2D)           (None, 16, 16, 64)        18496     \n",
            "                                                                 \n",
            " max_pooling2d_2 (MaxPooling  (None, 8, 8, 64)         0         \n",
            " 2D)                                                             \n",
            "                                                                 \n",
            " dense (Dense)               (None, 8, 8, 128)         8320      \n",
            "                                                                 \n",
            " flatten (Flatten)           (None, 8192)              0         \n",
            "                                                                 \n",
            " dense_1 (Dense)             (None, 1024)              8389632   \n",
            "                                                                 \n",
            " dropout (Dropout)           (None, 1024)              0         \n",
            "                                                                 \n",
            " dense_2 (Dense)             (None, 1)                 1025      \n",
            "                                                                 \n",
            "=================================================================\n",
            "Total params: 8,427,617\n",
            "Trainable params: 8,427,617\n",
            "Non-trainable params: 0\n",
            "_________________________________________________________________\n"
          ]
        }
      ],
      "source": [
        "ins = image_batch.shape[1:]\n",
        "\n",
        "model = Sequential()\n",
        "\n",
        "model.add(Conv2D(32, (3,3), padding=\"same\", activation=\"relu\", input_shape=ins))\n",
        "\n",
        "model.add(MaxPooling2D(pool_size=(2, 2)))\n",
        "\n",
        "model.add(Conv2D(32, (3,3), padding=\"same\", strides = (2,2), activation=\"relu\"))\n",
        "\n",
        "model.add(MaxPooling2D(pool_size=(2, 2)))\n",
        "\n",
        "model.add(Conv2D(64, (3,3), padding=\"same\", strides = (2,2), activation=\"relu\"))\n",
        "\n",
        "model.add(MaxPooling2D(pool_size=(2, 2)))\n",
        "\n",
        "model.add(Dense(128, activation=\"relu\"))\n",
        "\n",
        "model.add(Flatten())\n",
        "\n",
        "model.add(Dense(N, activation=\"relu\"))\n",
        "\n",
        "model.add(Dropout(0.5))\n",
        "\n",
        "model.add(Dense(1, activation=\"sigmoid\"))\n",
        "\n",
        "model.summary()"
      ]
    },
    {
      "cell_type": "code",
      "execution_count": null,
      "metadata": {
        "id": "A62LkoocRocJ"
      },
      "outputs": [],
      "source": [
        "model.compile(loss='binary_crossentropy', optimizer=optimizers.Adam(learning_rate=0.00001), metrics=[keras.metrics.AUC(), 'accuracy'])"
      ]
    },
    {
      "cell_type": "code",
      "execution_count": null,
      "metadata": {
        "colab": {
          "base_uri": "https://localhost:8080/"
        },
        "id": "w4ved8hmRocJ",
        "outputId": "2f2d8532-fd9c-45df-e2fc-1f78c0eba5da"
      },
      "outputs": [
        {
          "name": "stdout",
          "output_type": "stream",
          "text": [
            "Epoch 1/100\n",
            "244/244 [==============================] - 43s 171ms/step - loss: 0.4572 - auc: 0.5590 - accuracy: 0.8582 - val_loss: 0.4197 - val_auc: 0.6124 - val_accuracy: 0.8581\n",
            "Epoch 2/100\n",
            "244/244 [==============================] - 43s 174ms/step - loss: 0.3886 - auc: 0.6547 - accuracy: 0.8597 - val_loss: 0.3646 - val_auc: 0.7510 - val_accuracy: 0.8581\n",
            "Epoch 3/100\n",
            "244/244 [==============================] - 42s 171ms/step - loss: 0.3664 - auc: 0.7261 - accuracy: 0.8597 - val_loss: 0.3564 - val_auc: 0.7649 - val_accuracy: 0.8581\n",
            "Epoch 4/100\n",
            "244/244 [==============================] - 42s 169ms/step - loss: 0.3590 - auc: 0.7457 - accuracy: 0.8597 - val_loss: 0.3516 - val_auc: 0.7753 - val_accuracy: 0.8581\n",
            "Epoch 5/100\n",
            "244/244 [==============================] - 43s 174ms/step - loss: 0.3547 - auc: 0.7558 - accuracy: 0.8597 - val_loss: 0.3480 - val_auc: 0.7813 - val_accuracy: 0.8581\n",
            "Epoch 6/100\n",
            "244/244 [==============================] - 42s 168ms/step - loss: 0.3508 - auc: 0.7634 - accuracy: 0.8600 - val_loss: 0.3456 - val_auc: 0.7853 - val_accuracy: 0.8581\n",
            "Epoch 7/100\n",
            "244/244 [==============================] - 42s 169ms/step - loss: 0.3470 - auc: 0.7714 - accuracy: 0.8603 - val_loss: 0.3422 - val_auc: 0.7892 - val_accuracy: 0.8593\n",
            "Epoch 8/100\n",
            "244/244 [==============================] - 42s 169ms/step - loss: 0.3459 - auc: 0.7722 - accuracy: 0.8609 - val_loss: 0.3402 - val_auc: 0.7919 - val_accuracy: 0.8596\n",
            "Epoch 9/100\n",
            "244/244 [==============================] - 43s 173ms/step - loss: 0.3416 - auc: 0.7809 - accuracy: 0.8604 - val_loss: 0.3385 - val_auc: 0.7943 - val_accuracy: 0.8605\n",
            "Epoch 10/100\n",
            "244/244 [==============================] - 42s 169ms/step - loss: 0.3404 - auc: 0.7826 - accuracy: 0.8619 - val_loss: 0.3369 - val_auc: 0.7956 - val_accuracy: 0.8606\n",
            "Epoch 11/100\n",
            "244/244 [==============================] - 42s 168ms/step - loss: 0.3376 - auc: 0.7877 - accuracy: 0.8632 - val_loss: 0.3366 - val_auc: 0.7973 - val_accuracy: 0.8605\n",
            "Epoch 12/100\n",
            "244/244 [==============================] - 42s 168ms/step - loss: 0.3371 - auc: 0.7875 - accuracy: 0.8636 - val_loss: 0.3344 - val_auc: 0.7995 - val_accuracy: 0.8618\n",
            "Epoch 13/100\n",
            "244/244 [==============================] - 43s 173ms/step - loss: 0.3351 - auc: 0.7912 - accuracy: 0.8643 - val_loss: 0.3333 - val_auc: 0.8004 - val_accuracy: 0.8619\n",
            "Epoch 14/100\n",
            "244/244 [==============================] - 43s 174ms/step - loss: 0.3340 - auc: 0.7919 - accuracy: 0.8657 - val_loss: 0.3324 - val_auc: 0.8018 - val_accuracy: 0.8629\n",
            "Epoch 15/100\n",
            "244/244 [==============================] - 42s 169ms/step - loss: 0.3314 - auc: 0.7971 - accuracy: 0.8661 - val_loss: 0.3315 - val_auc: 0.8022 - val_accuracy: 0.8631\n",
            "Epoch 16/100\n",
            "244/244 [==============================] - 51s 207ms/step - loss: 0.3295 - auc: 0.7998 - accuracy: 0.8669 - val_loss: 0.3302 - val_auc: 0.8039 - val_accuracy: 0.8642\n",
            "Epoch 17/100\n",
            "244/244 [==============================] - 43s 174ms/step - loss: 0.3296 - auc: 0.7985 - accuracy: 0.8686 - val_loss: 0.3299 - val_auc: 0.8042 - val_accuracy: 0.8644\n",
            "Epoch 18/100\n",
            "244/244 [==============================] - 42s 170ms/step - loss: 0.3271 - auc: 0.8033 - accuracy: 0.8690 - val_loss: 0.3300 - val_auc: 0.8067 - val_accuracy: 0.8664\n",
            "Epoch 19/100\n",
            "244/244 [==============================] - 42s 168ms/step - loss: 0.3270 - auc: 0.8022 - accuracy: 0.8682 - val_loss: 0.3288 - val_auc: 0.8079 - val_accuracy: 0.8671\n",
            "Epoch 20/100\n",
            "244/244 [==============================] - 42s 169ms/step - loss: 0.3242 - auc: 0.8070 - accuracy: 0.8704 - val_loss: 0.3276 - val_auc: 0.8081 - val_accuracy: 0.8682\n",
            "Epoch 21/100\n",
            "244/244 [==============================] - 42s 169ms/step - loss: 0.3239 - auc: 0.8061 - accuracy: 0.8717 - val_loss: 0.3269 - val_auc: 0.8088 - val_accuracy: 0.8689\n",
            "Epoch 22/100\n",
            "244/244 [==============================] - 43s 173ms/step - loss: 0.3223 - auc: 0.8090 - accuracy: 0.8717 - val_loss: 0.3290 - val_auc: 0.8104 - val_accuracy: 0.8667\n",
            "Epoch 23/100\n",
            "244/244 [==============================] - 42s 169ms/step - loss: 0.3205 - auc: 0.8116 - accuracy: 0.8739 - val_loss: 0.3252 - val_auc: 0.8101 - val_accuracy: 0.8691\n",
            "Epoch 24/100\n",
            "244/244 [==============================] - 42s 170ms/step - loss: 0.3197 - auc: 0.8119 - accuracy: 0.8737 - val_loss: 0.3242 - val_auc: 0.8110 - val_accuracy: 0.8689\n",
            "Epoch 25/100\n",
            "244/244 [==============================] - 42s 169ms/step - loss: 0.3181 - auc: 0.8142 - accuracy: 0.8743 - val_loss: 0.3235 - val_auc: 0.8113 - val_accuracy: 0.8690\n",
            "Epoch 26/100\n",
            "244/244 [==============================] - 43s 172ms/step - loss: 0.3183 - auc: 0.8135 - accuracy: 0.8730 - val_loss: 0.3237 - val_auc: 0.8127 - val_accuracy: 0.8707\n",
            "Epoch 27/100\n",
            "244/244 [==============================] - 42s 168ms/step - loss: 0.3154 - auc: 0.8183 - accuracy: 0.8743 - val_loss: 0.3227 - val_auc: 0.8121 - val_accuracy: 0.8699\n",
            "Epoch 28/100\n",
            "244/244 [==============================] - 42s 169ms/step - loss: 0.3130 - auc: 0.8213 - accuracy: 0.8766 - val_loss: 0.3217 - val_auc: 0.8134 - val_accuracy: 0.8714\n",
            "Epoch 29/100\n",
            "244/244 [==============================] - 43s 174ms/step - loss: 0.3134 - auc: 0.8202 - accuracy: 0.8761 - val_loss: 0.3221 - val_auc: 0.8137 - val_accuracy: 0.8704\n",
            "Epoch 30/100\n",
            "244/244 [==============================] - 43s 174ms/step - loss: 0.3127 - auc: 0.8205 - accuracy: 0.8772 - val_loss: 0.3210 - val_auc: 0.8150 - val_accuracy: 0.8712\n",
            "Epoch 31/100\n",
            "244/244 [==============================] - 42s 168ms/step - loss: 0.3110 - auc: 0.8237 - accuracy: 0.8789 - val_loss: 0.3213 - val_auc: 0.8151 - val_accuracy: 0.8708\n",
            "Epoch 32/100\n",
            "244/244 [==============================] - 43s 174ms/step - loss: 0.3091 - auc: 0.8263 - accuracy: 0.8782 - val_loss: 0.3193 - val_auc: 0.8160 - val_accuracy: 0.8722\n",
            "Epoch 33/100\n",
            "244/244 [==============================] - 43s 172ms/step - loss: 0.3077 - auc: 0.8273 - accuracy: 0.8795 - val_loss: 0.3192 - val_auc: 0.8164 - val_accuracy: 0.8727\n",
            "Epoch 34/100\n",
            "244/244 [==============================] - 41s 167ms/step - loss: 0.3083 - auc: 0.8268 - accuracy: 0.8784 - val_loss: 0.3192 - val_auc: 0.8176 - val_accuracy: 0.8730\n",
            "Epoch 35/100\n",
            "244/244 [==============================] - 41s 167ms/step - loss: 0.3062 - auc: 0.8283 - accuracy: 0.8799 - val_loss: 0.3180 - val_auc: 0.8176 - val_accuracy: 0.8730\n",
            "Epoch 36/100\n",
            "244/244 [==============================] - 42s 168ms/step - loss: 0.3053 - auc: 0.8309 - accuracy: 0.8805 - val_loss: 0.3180 - val_auc: 0.8180 - val_accuracy: 0.8732\n",
            "Epoch 37/100\n",
            "244/244 [==============================] - 43s 173ms/step - loss: 0.3036 - auc: 0.8330 - accuracy: 0.8817 - val_loss: 0.3173 - val_auc: 0.8188 - val_accuracy: 0.8731\n",
            "Epoch 38/100\n",
            "244/244 [==============================] - 43s 173ms/step - loss: 0.3022 - auc: 0.8356 - accuracy: 0.8821 - val_loss: 0.3171 - val_auc: 0.8190 - val_accuracy: 0.8732\n",
            "Epoch 39/100\n",
            "244/244 [==============================] - 42s 168ms/step - loss: 0.3012 - auc: 0.8356 - accuracy: 0.8821 - val_loss: 0.3201 - val_auc: 0.8180 - val_accuracy: 0.8725\n",
            "Epoch 40/100\n",
            "244/244 [==============================] - 42s 169ms/step - loss: 0.3006 - auc: 0.8364 - accuracy: 0.8829 - val_loss: 0.3264 - val_auc: 0.8166 - val_accuracy: 0.8708\n",
            "Epoch 41/100\n",
            "244/244 [==============================] - 43s 172ms/step - loss: 0.2998 - auc: 0.8362 - accuracy: 0.8852 - val_loss: 0.3173 - val_auc: 0.8198 - val_accuracy: 0.8736\n",
            "Epoch 42/100\n",
            "244/244 [==============================] - 43s 172ms/step - loss: 0.2990 - auc: 0.8379 - accuracy: 0.8829 - val_loss: 0.3177 - val_auc: 0.8206 - val_accuracy: 0.8730\n",
            "Epoch 43/100\n",
            "244/244 [==============================] - 42s 168ms/step - loss: 0.2975 - auc: 0.8405 - accuracy: 0.8835 - val_loss: 0.3150 - val_auc: 0.8220 - val_accuracy: 0.8745\n",
            "Epoch 44/100\n",
            "244/244 [==============================] - 42s 168ms/step - loss: 0.2960 - auc: 0.8422 - accuracy: 0.8847 - val_loss: 0.3139 - val_auc: 0.8223 - val_accuracy: 0.8750\n",
            "Epoch 45/100\n",
            "244/244 [==============================] - 41s 167ms/step - loss: 0.2940 - auc: 0.8449 - accuracy: 0.8849 - val_loss: 0.3139 - val_auc: 0.8232 - val_accuracy: 0.8758\n",
            "Epoch 46/100\n",
            "244/244 [==============================] - 43s 172ms/step - loss: 0.2934 - auc: 0.8441 - accuracy: 0.8866 - val_loss: 0.3135 - val_auc: 0.8227 - val_accuracy: 0.8749\n",
            "Epoch 47/100\n",
            "244/244 [==============================] - 42s 171ms/step - loss: 0.2937 - auc: 0.8444 - accuracy: 0.8856 - val_loss: 0.3128 - val_auc: 0.8235 - val_accuracy: 0.8763\n",
            "Epoch 48/100\n",
            "244/244 [==============================] - 41s 167ms/step - loss: 0.2921 - auc: 0.8451 - accuracy: 0.8871 - val_loss: 0.3164 - val_auc: 0.8224 - val_accuracy: 0.8741\n",
            "Epoch 49/100\n",
            "244/244 [==============================] - 42s 168ms/step - loss: 0.2892 - auc: 0.8493 - accuracy: 0.8898 - val_loss: 0.3137 - val_auc: 0.8244 - val_accuracy: 0.8727\n",
            "Epoch 50/100\n",
            "244/244 [==============================] - 41s 166ms/step - loss: 0.2897 - auc: 0.8489 - accuracy: 0.8868 - val_loss: 0.3117 - val_auc: 0.8247 - val_accuracy: 0.8768\n",
            "Epoch 51/100\n",
            "244/244 [==============================] - 43s 172ms/step - loss: 0.2882 - auc: 0.8498 - accuracy: 0.8900 - val_loss: 0.3119 - val_auc: 0.8260 - val_accuracy: 0.8745\n",
            "Epoch 52/100\n",
            "244/244 [==============================] - 42s 172ms/step - loss: 0.2863 - auc: 0.8540 - accuracy: 0.8887 - val_loss: 0.3108 - val_auc: 0.8248 - val_accuracy: 0.8771\n",
            "Epoch 53/100\n",
            "244/244 [==============================] - 43s 173ms/step - loss: 0.2869 - auc: 0.8519 - accuracy: 0.8884 - val_loss: 0.3107 - val_auc: 0.8258 - val_accuracy: 0.8764\n",
            "Epoch 54/100\n",
            "244/244 [==============================] - 41s 167ms/step - loss: 0.2844 - auc: 0.8562 - accuracy: 0.8880 - val_loss: 0.3141 - val_auc: 0.8268 - val_accuracy: 0.8735\n",
            "Epoch 55/100\n",
            "244/244 [==============================] - 43s 172ms/step - loss: 0.2844 - auc: 0.8541 - accuracy: 0.8913 - val_loss: 0.3099 - val_auc: 0.8266 - val_accuracy: 0.8766\n",
            "Epoch 56/100\n",
            "244/244 [==============================] - 43s 173ms/step - loss: 0.2835 - auc: 0.8567 - accuracy: 0.8903 - val_loss: 0.3098 - val_auc: 0.8268 - val_accuracy: 0.8764\n",
            "Epoch 57/100\n",
            "244/244 [==============================] - 42s 168ms/step - loss: 0.2820 - auc: 0.8588 - accuracy: 0.8926 - val_loss: 0.3118 - val_auc: 0.8278 - val_accuracy: 0.8752\n",
            "Epoch 58/100\n",
            "244/244 [==============================] - 42s 171ms/step - loss: 0.2811 - auc: 0.8591 - accuracy: 0.8908 - val_loss: 0.3092 - val_auc: 0.8270 - val_accuracy: 0.8775\n",
            "Epoch 59/100\n",
            "244/244 [==============================] - 42s 170ms/step - loss: 0.2793 - auc: 0.8600 - accuracy: 0.8921 - val_loss: 0.3087 - val_auc: 0.8279 - val_accuracy: 0.8776\n",
            "Epoch 60/100\n",
            "244/244 [==============================] - 41s 166ms/step - loss: 0.2785 - auc: 0.8613 - accuracy: 0.8940 - val_loss: 0.3101 - val_auc: 0.8279 - val_accuracy: 0.8777\n",
            "Epoch 61/100\n",
            "244/244 [==============================] - 43s 172ms/step - loss: 0.2780 - auc: 0.8627 - accuracy: 0.8930 - val_loss: 0.3076 - val_auc: 0.8292 - val_accuracy: 0.8780\n",
            "Epoch 62/100\n",
            "244/244 [==============================] - 42s 171ms/step - loss: 0.2787 - auc: 0.8612 - accuracy: 0.8936 - val_loss: 0.3083 - val_auc: 0.8296 - val_accuracy: 0.8772\n",
            "Epoch 63/100\n",
            "244/244 [==============================] - 50s 201ms/step - loss: 0.2760 - auc: 0.8645 - accuracy: 0.8935 - val_loss: 0.3108 - val_auc: 0.8287 - val_accuracy: 0.8777\n",
            "Epoch 64/100\n",
            "244/244 [==============================] - 42s 168ms/step - loss: 0.2764 - auc: 0.8635 - accuracy: 0.8930 - val_loss: 0.3070 - val_auc: 0.8298 - val_accuracy: 0.8775\n",
            "Epoch 65/100\n",
            "244/244 [==============================] - 42s 168ms/step - loss: 0.2754 - auc: 0.8643 - accuracy: 0.8943 - val_loss: 0.3151 - val_auc: 0.8267 - val_accuracy: 0.8775\n",
            "Epoch 66/100\n",
            "244/244 [==============================] - 41s 167ms/step - loss: 0.2735 - auc: 0.8661 - accuracy: 0.8955 - val_loss: 0.3067 - val_auc: 0.8308 - val_accuracy: 0.8788\n",
            "Epoch 67/100\n",
            "244/244 [==============================] - 41s 167ms/step - loss: 0.2718 - auc: 0.8691 - accuracy: 0.8979 - val_loss: 0.3110 - val_auc: 0.8288 - val_accuracy: 0.8772\n",
            "Epoch 68/100\n",
            "244/244 [==============================] - 42s 171ms/step - loss: 0.2711 - auc: 0.8686 - accuracy: 0.8971 - val_loss: 0.3070 - val_auc: 0.8301 - val_accuracy: 0.8771\n",
            "Epoch 69/100\n",
            "244/244 [==============================] - 42s 171ms/step - loss: 0.2701 - auc: 0.8705 - accuracy: 0.8957 - val_loss: 0.3074 - val_auc: 0.8311 - val_accuracy: 0.8784\n",
            "Epoch 70/100\n",
            "244/244 [==============================] - 42s 168ms/step - loss: 0.2707 - auc: 0.8692 - accuracy: 0.8966 - val_loss: 0.3056 - val_auc: 0.8326 - val_accuracy: 0.8793\n",
            "Epoch 71/100\n",
            "244/244 [==============================] - 42s 168ms/step - loss: 0.2693 - auc: 0.8707 - accuracy: 0.8979 - val_loss: 0.3050 - val_auc: 0.8331 - val_accuracy: 0.8784\n",
            "Epoch 72/100\n",
            "244/244 [==============================] - 43s 173ms/step - loss: 0.2680 - auc: 0.8723 - accuracy: 0.8952 - val_loss: 0.3060 - val_auc: 0.8321 - val_accuracy: 0.8784\n",
            "Epoch 73/100\n",
            "244/244 [==============================] - 42s 168ms/step - loss: 0.2672 - auc: 0.8734 - accuracy: 0.8991 - val_loss: 0.3053 - val_auc: 0.8333 - val_accuracy: 0.8780\n",
            "Epoch 74/100\n",
            "244/244 [==============================] - 42s 168ms/step - loss: 0.2673 - auc: 0.8725 - accuracy: 0.8975 - val_loss: 0.3072 - val_auc: 0.8323 - val_accuracy: 0.8763\n",
            "Epoch 75/100\n",
            "244/244 [==============================] - 43s 172ms/step - loss: 0.2645 - auc: 0.8762 - accuracy: 0.8986 - val_loss: 0.3097 - val_auc: 0.8301 - val_accuracy: 0.8791\n",
            "Epoch 76/100\n",
            "244/244 [==============================] - 43s 173ms/step - loss: 0.2638 - auc: 0.8774 - accuracy: 0.8980 - val_loss: 0.3042 - val_auc: 0.8339 - val_accuracy: 0.8782\n",
            "Epoch 77/100\n",
            "244/244 [==============================] - 42s 168ms/step - loss: 0.2619 - auc: 0.8785 - accuracy: 0.9002 - val_loss: 0.3061 - val_auc: 0.8334 - val_accuracy: 0.8779\n",
            "Epoch 78/100\n",
            "244/244 [==============================] - 42s 168ms/step - loss: 0.2618 - auc: 0.8779 - accuracy: 0.9017 - val_loss: 0.3077 - val_auc: 0.8318 - val_accuracy: 0.8795\n",
            "Epoch 79/100\n",
            "244/244 [==============================] - 42s 168ms/step - loss: 0.2610 - auc: 0.8790 - accuracy: 0.9011 - val_loss: 0.3045 - val_auc: 0.8338 - val_accuracy: 0.8798\n",
            "Epoch 80/100\n",
            "244/244 [==============================] - 43s 172ms/step - loss: 0.2597 - auc: 0.8808 - accuracy: 0.9029 - val_loss: 0.3086 - val_auc: 0.8347 - val_accuracy: 0.8749\n",
            "Epoch 81/100\n",
            "244/244 [==============================] - 43s 172ms/step - loss: 0.2592 - auc: 0.8808 - accuracy: 0.9016 - val_loss: 0.3045 - val_auc: 0.8342 - val_accuracy: 0.8799\n",
            "Epoch 82/100\n",
            "244/244 [==============================] - 42s 171ms/step - loss: 0.2590 - auc: 0.8801 - accuracy: 0.9029 - val_loss: 0.3040 - val_auc: 0.8343 - val_accuracy: 0.8798\n",
            "Epoch 83/100\n",
            "244/244 [==============================] - 42s 168ms/step - loss: 0.2569 - auc: 0.8833 - accuracy: 0.9033 - val_loss: 0.3062 - val_auc: 0.8339 - val_accuracy: 0.8799\n",
            "Epoch 84/100\n",
            "244/244 [==============================] - 41s 167ms/step - loss: 0.2564 - auc: 0.8841 - accuracy: 0.9027 - val_loss: 0.3035 - val_auc: 0.8354 - val_accuracy: 0.8802\n",
            "Epoch 85/100\n",
            "244/244 [==============================] - 42s 168ms/step - loss: 0.2551 - auc: 0.8849 - accuracy: 0.9032 - val_loss: 0.3043 - val_auc: 0.8344 - val_accuracy: 0.8791\n",
            "Epoch 86/100\n",
            "244/244 [==============================] - 50s 202ms/step - loss: 0.2532 - auc: 0.8871 - accuracy: 0.9022 - val_loss: 0.3099 - val_auc: 0.8312 - val_accuracy: 0.8798\n",
            "Epoch 87/100\n",
            "244/244 [==============================] - 42s 168ms/step - loss: 0.2545 - auc: 0.8851 - accuracy: 0.9047 - val_loss: 0.3094 - val_auc: 0.8323 - val_accuracy: 0.8802\n",
            "Epoch 88/100\n",
            "244/244 [==============================] - 42s 168ms/step - loss: 0.2539 - auc: 0.8860 - accuracy: 0.9034 - val_loss: 0.3072 - val_auc: 0.8330 - val_accuracy: 0.8807\n",
            "Epoch 89/100\n",
            "243/244 [============================>.] - ETA: 0s - loss: 0.2525 - auc: 0.8875 - accuracy: 0.9055Restoring model weights from the end of the best epoch: 84.\n",
            "244/244 [==============================] - 43s 172ms/step - loss: 0.2524 - auc: 0.8876 - accuracy: 0.9055 - val_loss: 0.3079 - val_auc: 0.8329 - val_accuracy: 0.8806\n",
            "Epoch 89: early stopping\n"
          ]
        }
      ],
      "source": [
        "run_hist = model.fit(normalized_data, validation_data=normalized_val_data, epochs=100,\n",
        "  callbacks=[keras.callbacks.EarlyStopping(\n",
        "                  monitor=\"val_auc\",\n",
        "                  min_delta=0,\n",
        "                  patience=5,\n",
        "                  verbose=1,\n",
        "                  mode=\"auto\",\n",
        "                  baseline=None,\n",
        "                  restore_best_weights=True,\n",
        "              )])"
      ]
    },
    {
      "cell_type": "code",
      "execution_count": null,
      "metadata": {
        "colab": {
          "base_uri": "https://localhost:8080/"
        },
        "id": "Nmn0YLYvRocJ",
        "outputId": "c8f0dece-12c7-4ac6-b825-84477ec8cdae"
      },
      "outputs": [
        {
          "name": "stdout",
          "output_type": "stream",
          "text": [
            "183/183 [==============================] - 19s 101ms/step - loss: 0.3081 - auc: 0.8273 - accuracy: 0.8780\n",
            "[0.3080669641494751, 0.8272776007652283, 0.878011167049408]\n"
          ]
        }
      ],
      "source": [
        "results = model.evaluate(normalized_test_data)\n",
        "print(results)"
      ]
    },
    {
      "cell_type": "markdown",
      "metadata": {
        "id": "WhMlAbnyR40W"
      },
      "source": [
        "## Com mais pooling & mais conv"
      ]
    },
    {
      "cell_type": "markdown",
      "metadata": {
        "id": "PRuvhj7zR40X"
      },
      "source": [
        "#### N512-L1-D3"
      ]
    },
    {
      "cell_type": "code",
      "execution_count": null,
      "metadata": {
        "id": "9M7LfvySR40X"
      },
      "outputs": [],
      "source": [
        "N = 512\n",
        "NAME = \"N512-L1-D3\"\n",
        "keras.backend.clear_session()"
      ]
    },
    {
      "cell_type": "code",
      "execution_count": null,
      "metadata": {
        "colab": {
          "base_uri": "https://localhost:8080/"
        },
        "id": "666V_xIRR40X",
        "outputId": "ef393f0c-b278-44d5-9391-2b0641ef6085"
      },
      "outputs": [
        {
          "name": "stdout",
          "output_type": "stream",
          "text": [
            "Model: \"sequential\"\n",
            "_________________________________________________________________\n",
            " Layer (type)                Output Shape              Param #   \n",
            "=================================================================\n",
            " conv2d (Conv2D)             (None, 256, 256, 32)      896       \n",
            "                                                                 \n",
            " conv2d_1 (Conv2D)           (None, 128, 128, 32)      9248      \n",
            "                                                                 \n",
            " max_pooling2d (MaxPooling2D  (None, 64, 64, 32)       0         \n",
            " )                                                               \n",
            "                                                                 \n",
            " conv2d_2 (Conv2D)           (None, 32, 32, 32)        9248      \n",
            "                                                                 \n",
            " conv2d_3 (Conv2D)           (None, 16, 16, 32)        9248      \n",
            "                                                                 \n",
            " max_pooling2d_1 (MaxPooling  (None, 8, 8, 32)         0         \n",
            " 2D)                                                             \n",
            "                                                                 \n",
            " conv2d_4 (Conv2D)           (None, 4, 4, 64)          18496     \n",
            "                                                                 \n",
            " conv2d_5 (Conv2D)           (None, 2, 2, 32)          18464     \n",
            "                                                                 \n",
            " max_pooling2d_2 (MaxPooling  (None, 1, 1, 32)         0         \n",
            " 2D)                                                             \n",
            "                                                                 \n",
            " dense (Dense)               (None, 1, 1, 128)         4224      \n",
            "                                                                 \n",
            " flatten (Flatten)           (None, 128)               0         \n",
            "                                                                 \n",
            " dense_1 (Dense)             (None, 512)               66048     \n",
            "                                                                 \n",
            " dropout (Dropout)           (None, 512)               0         \n",
            "                                                                 \n",
            " dense_2 (Dense)             (None, 1)                 513       \n",
            "                                                                 \n",
            "=================================================================\n",
            "Total params: 136,385\n",
            "Trainable params: 136,385\n",
            "Non-trainable params: 0\n",
            "_________________________________________________________________\n"
          ]
        }
      ],
      "source": [
        "ins = image_batch.shape[1:]\n",
        "\n",
        "model = Sequential()\n",
        "\n",
        "model.add(Conv2D(32, (3,3), padding=\"same\", activation=\"relu\", input_shape=ins))\n",
        "\n",
        "model.add(Conv2D(32, (3,3), padding=\"same\", strides = (2,2), activation=\"relu\"))\n",
        "\n",
        "model.add(MaxPooling2D(pool_size=(2, 2)))\n",
        "\n",
        "model.add(Conv2D(32, (3,3), padding=\"same\", strides = (2,2), activation=\"relu\"))\n",
        "\n",
        "model.add(Conv2D(32, (3,3), padding=\"same\", strides = (2,2), activation=\"relu\"))\n",
        "\n",
        "model.add(MaxPooling2D(pool_size=(2, 2)))\n",
        "\n",
        "model.add(Conv2D(64, (3,3), padding=\"same\", strides = (2,2), activation=\"relu\"))\n",
        "\n",
        "model.add(Conv2D(32, (3,3), padding=\"same\", strides = (2,2), activation=\"relu\"))\n",
        "\n",
        "model.add(MaxPooling2D(pool_size=(2, 2)))\n",
        "\n",
        "model.add(Dense(128, activation=\"relu\"))\n",
        "\n",
        "model.add(Flatten())\n",
        "\n",
        "model.add(Dense(N, activation=\"relu\"))\n",
        "\n",
        "model.add(Dropout(0.5))\n",
        "\n",
        "model.add(Dense(1, activation=\"sigmoid\"))\n",
        "\n",
        "model.summary()"
      ]
    },
    {
      "cell_type": "code",
      "execution_count": null,
      "metadata": {
        "id": "sere1qB2R40X"
      },
      "outputs": [],
      "source": [
        "model.compile(loss='binary_crossentropy', optimizer=optimizers.Adam(learning_rate=0.00001), metrics=[keras.metrics.AUC(), 'accuracy'])"
      ]
    },
    {
      "cell_type": "code",
      "execution_count": null,
      "metadata": {
        "colab": {
          "base_uri": "https://localhost:8080/"
        },
        "id": "56I9wRj4R40X",
        "outputId": "57a8a44b-e484-4c80-e630-b7b2ecc3ceea"
      },
      "outputs": [
        {
          "name": "stdout",
          "output_type": "stream",
          "text": [
            "Epoch 1/100\n",
            "244/244 [==============================] - 49s 193ms/step - loss: 0.6103 - auc: 0.4814 - accuracy: 0.8459 - val_loss: 0.4641 - val_auc: 0.5599 - val_accuracy: 0.8581\n",
            "Epoch 2/100\n",
            "244/244 [==============================] - 48s 192ms/step - loss: 0.4529 - auc: 0.5316 - accuracy: 0.8597 - val_loss: 0.4442 - val_auc: 0.5985 - val_accuracy: 0.8581\n",
            "Epoch 3/100\n",
            "244/244 [==============================] - 56s 229ms/step - loss: 0.4300 - auc: 0.5625 - accuracy: 0.8597 - val_loss: 0.4139 - val_auc: 0.6055 - val_accuracy: 0.8581\n",
            "Epoch 4/100\n",
            "244/244 [==============================] - 48s 193ms/step - loss: 0.3988 - auc: 0.6011 - accuracy: 0.8597 - val_loss: 0.3837 - val_auc: 0.7198 - val_accuracy: 0.8581\n",
            "Epoch 5/100\n",
            "244/244 [==============================] - 47s 191ms/step - loss: 0.3815 - auc: 0.6839 - accuracy: 0.8597 - val_loss: 0.3743 - val_auc: 0.7299 - val_accuracy: 0.8581\n",
            "Epoch 6/100\n",
            "244/244 [==============================] - 47s 192ms/step - loss: 0.3771 - auc: 0.6927 - accuracy: 0.8597 - val_loss: 0.3703 - val_auc: 0.7337 - val_accuracy: 0.8581\n",
            "Epoch 7/100\n",
            "244/244 [==============================] - 48s 194ms/step - loss: 0.3735 - auc: 0.7028 - accuracy: 0.8597 - val_loss: 0.3669 - val_auc: 0.7392 - val_accuracy: 0.8581\n",
            "Epoch 8/100\n",
            "244/244 [==============================] - 47s 192ms/step - loss: 0.3708 - auc: 0.7083 - accuracy: 0.8597 - val_loss: 0.3641 - val_auc: 0.7447 - val_accuracy: 0.8581\n",
            "Epoch 9/100\n",
            "244/244 [==============================] - 47s 192ms/step - loss: 0.3682 - auc: 0.7168 - accuracy: 0.8597 - val_loss: 0.3617 - val_auc: 0.7476 - val_accuracy: 0.8581\n",
            "Epoch 10/100\n",
            "244/244 [==============================] - 47s 190ms/step - loss: 0.3656 - auc: 0.7238 - accuracy: 0.8597 - val_loss: 0.3599 - val_auc: 0.7524 - val_accuracy: 0.8581\n",
            "Epoch 11/100\n",
            "244/244 [==============================] - 47s 192ms/step - loss: 0.3629 - auc: 0.7313 - accuracy: 0.8597 - val_loss: 0.3582 - val_auc: 0.7558 - val_accuracy: 0.8581\n",
            "Epoch 12/100\n",
            "244/244 [==============================] - 49s 197ms/step - loss: 0.3624 - auc: 0.7327 - accuracy: 0.8597 - val_loss: 0.3572 - val_auc: 0.7586 - val_accuracy: 0.8581\n",
            "Epoch 13/100\n",
            "244/244 [==============================] - 48s 193ms/step - loss: 0.3614 - auc: 0.7367 - accuracy: 0.8597 - val_loss: 0.3560 - val_auc: 0.7606 - val_accuracy: 0.8581\n",
            "Epoch 14/100\n",
            "244/244 [==============================] - 48s 194ms/step - loss: 0.3598 - auc: 0.7396 - accuracy: 0.8597 - val_loss: 0.3550 - val_auc: 0.7627 - val_accuracy: 0.8581\n",
            "Epoch 15/100\n",
            "244/244 [==============================] - 55s 225ms/step - loss: 0.3606 - auc: 0.7372 - accuracy: 0.8597 - val_loss: 0.3543 - val_auc: 0.7646 - val_accuracy: 0.8581\n",
            "Epoch 16/100\n",
            "244/244 [==============================] - 47s 191ms/step - loss: 0.3587 - auc: 0.7433 - accuracy: 0.8597 - val_loss: 0.3535 - val_auc: 0.7665 - val_accuracy: 0.8581\n",
            "Epoch 17/100\n",
            "244/244 [==============================] - 48s 195ms/step - loss: 0.3587 - auc: 0.7438 - accuracy: 0.8597 - val_loss: 0.3528 - val_auc: 0.7678 - val_accuracy: 0.8581\n",
            "Epoch 18/100\n",
            "244/244 [==============================] - 47s 192ms/step - loss: 0.3574 - auc: 0.7474 - accuracy: 0.8597 - val_loss: 0.3522 - val_auc: 0.7690 - val_accuracy: 0.8581\n",
            "Epoch 19/100\n",
            "244/244 [==============================] - 48s 193ms/step - loss: 0.3562 - auc: 0.7516 - accuracy: 0.8597 - val_loss: 0.3515 - val_auc: 0.7706 - val_accuracy: 0.8581\n",
            "Epoch 20/100\n",
            "244/244 [==============================] - 48s 193ms/step - loss: 0.3558 - auc: 0.7519 - accuracy: 0.8597 - val_loss: 0.3511 - val_auc: 0.7723 - val_accuracy: 0.8581\n",
            "Epoch 21/100\n",
            "244/244 [==============================] - 48s 195ms/step - loss: 0.3552 - auc: 0.7537 - accuracy: 0.8597 - val_loss: 0.3501 - val_auc: 0.7731 - val_accuracy: 0.8581\n",
            "Epoch 22/100\n",
            "244/244 [==============================] - 48s 193ms/step - loss: 0.3538 - auc: 0.7571 - accuracy: 0.8597 - val_loss: 0.3495 - val_auc: 0.7744 - val_accuracy: 0.8581\n",
            "Epoch 23/100\n",
            "244/244 [==============================] - 49s 195ms/step - loss: 0.3541 - auc: 0.7571 - accuracy: 0.8597 - val_loss: 0.3487 - val_auc: 0.7761 - val_accuracy: 0.8581\n",
            "Epoch 24/100\n",
            "244/244 [==============================] - 48s 192ms/step - loss: 0.3530 - auc: 0.7595 - accuracy: 0.8597 - val_loss: 0.3481 - val_auc: 0.7772 - val_accuracy: 0.8581\n",
            "Epoch 25/100\n",
            "244/244 [==============================] - 47s 192ms/step - loss: 0.3530 - auc: 0.7594 - accuracy: 0.8597 - val_loss: 0.3473 - val_auc: 0.7785 - val_accuracy: 0.8581\n",
            "Epoch 26/100\n",
            "244/244 [==============================] - 56s 226ms/step - loss: 0.3505 - auc: 0.7652 - accuracy: 0.8597 - val_loss: 0.3469 - val_auc: 0.7800 - val_accuracy: 0.8581\n",
            "Epoch 27/100\n",
            "244/244 [==============================] - 48s 193ms/step - loss: 0.3514 - auc: 0.7634 - accuracy: 0.8597 - val_loss: 0.3460 - val_auc: 0.7811 - val_accuracy: 0.8581\n",
            "Epoch 28/100\n",
            "244/244 [==============================] - 48s 193ms/step - loss: 0.3492 - auc: 0.7685 - accuracy: 0.8597 - val_loss: 0.3452 - val_auc: 0.7827 - val_accuracy: 0.8581\n",
            "Epoch 29/100\n",
            "244/244 [==============================] - 47s 192ms/step - loss: 0.3490 - auc: 0.7690 - accuracy: 0.8597 - val_loss: 0.3446 - val_auc: 0.7835 - val_accuracy: 0.8581\n",
            "Epoch 30/100\n",
            "244/244 [==============================] - 48s 193ms/step - loss: 0.3486 - auc: 0.7691 - accuracy: 0.8597 - val_loss: 0.3439 - val_auc: 0.7844 - val_accuracy: 0.8581\n",
            "Epoch 31/100\n",
            "244/244 [==============================] - 48s 192ms/step - loss: 0.3476 - auc: 0.7715 - accuracy: 0.8597 - val_loss: 0.3433 - val_auc: 0.7856 - val_accuracy: 0.8581\n",
            "Epoch 32/100\n",
            "244/244 [==============================] - 48s 193ms/step - loss: 0.3465 - auc: 0.7734 - accuracy: 0.8597 - val_loss: 0.3429 - val_auc: 0.7870 - val_accuracy: 0.8581\n",
            "Epoch 33/100\n",
            "244/244 [==============================] - 48s 193ms/step - loss: 0.3469 - auc: 0.7724 - accuracy: 0.8595 - val_loss: 0.3421 - val_auc: 0.7877 - val_accuracy: 0.8581\n",
            "Epoch 34/100\n",
            "244/244 [==============================] - 48s 194ms/step - loss: 0.3451 - auc: 0.7752 - accuracy: 0.8596 - val_loss: 0.3415 - val_auc: 0.7881 - val_accuracy: 0.8581\n",
            "Epoch 35/100\n",
            "244/244 [==============================] - 48s 195ms/step - loss: 0.3447 - auc: 0.7758 - accuracy: 0.8598 - val_loss: 0.3409 - val_auc: 0.7894 - val_accuracy: 0.8579\n",
            "Epoch 36/100\n",
            "244/244 [==============================] - 47s 192ms/step - loss: 0.3437 - auc: 0.7784 - accuracy: 0.8600 - val_loss: 0.3404 - val_auc: 0.7901 - val_accuracy: 0.8579\n",
            "Epoch 37/100\n",
            "244/244 [==============================] - 56s 226ms/step - loss: 0.3428 - auc: 0.7788 - accuracy: 0.8604 - val_loss: 0.3398 - val_auc: 0.7905 - val_accuracy: 0.8579\n",
            "Epoch 38/100\n",
            "244/244 [==============================] - 48s 193ms/step - loss: 0.3421 - auc: 0.7815 - accuracy: 0.8601 - val_loss: 0.3392 - val_auc: 0.7915 - val_accuracy: 0.8586\n",
            "Epoch 39/100\n",
            "244/244 [==============================] - 48s 192ms/step - loss: 0.3408 - auc: 0.7824 - accuracy: 0.8607 - val_loss: 0.3389 - val_auc: 0.7926 - val_accuracy: 0.8584\n",
            "Epoch 40/100\n",
            "244/244 [==============================] - 49s 197ms/step - loss: 0.3403 - auc: 0.7834 - accuracy: 0.8606 - val_loss: 0.3382 - val_auc: 0.7927 - val_accuracy: 0.8586\n",
            "Epoch 41/100\n",
            "244/244 [==============================] - 47s 191ms/step - loss: 0.3397 - auc: 0.7842 - accuracy: 0.8607 - val_loss: 0.3381 - val_auc: 0.7929 - val_accuracy: 0.8587\n",
            "Epoch 42/100\n",
            "244/244 [==============================] - 48s 193ms/step - loss: 0.3399 - auc: 0.7833 - accuracy: 0.8618 - val_loss: 0.3377 - val_auc: 0.7931 - val_accuracy: 0.8597\n",
            "Epoch 43/100\n",
            "244/244 [==============================] - 48s 192ms/step - loss: 0.3380 - auc: 0.7872 - accuracy: 0.8617 - val_loss: 0.3371 - val_auc: 0.7942 - val_accuracy: 0.8609\n",
            "Epoch 44/100\n",
            "244/244 [==============================] - 48s 192ms/step - loss: 0.3389 - auc: 0.7849 - accuracy: 0.8613 - val_loss: 0.3379 - val_auc: 0.7936 - val_accuracy: 0.8597\n",
            "Epoch 45/100\n",
            "244/244 [==============================] - 47s 192ms/step - loss: 0.3367 - auc: 0.7898 - accuracy: 0.8620 - val_loss: 0.3374 - val_auc: 0.7945 - val_accuracy: 0.8604\n",
            "Epoch 46/100\n",
            "244/244 [==============================] - 47s 191ms/step - loss: 0.3366 - auc: 0.7892 - accuracy: 0.8619 - val_loss: 0.3363 - val_auc: 0.7957 - val_accuracy: 0.8613\n",
            "Epoch 47/100\n",
            "244/244 [==============================] - 48s 192ms/step - loss: 0.3357 - auc: 0.7899 - accuracy: 0.8631 - val_loss: 0.3359 - val_auc: 0.7956 - val_accuracy: 0.8619\n",
            "Epoch 48/100\n",
            "244/244 [==============================] - 48s 193ms/step - loss: 0.3352 - auc: 0.7911 - accuracy: 0.8646 - val_loss: 0.3355 - val_auc: 0.7961 - val_accuracy: 0.8623\n",
            "Epoch 49/100\n",
            "244/244 [==============================] - 56s 226ms/step - loss: 0.3343 - auc: 0.7927 - accuracy: 0.8649 - val_loss: 0.3353 - val_auc: 0.7965 - val_accuracy: 0.8618\n",
            "Epoch 50/100\n",
            "244/244 [==============================] - 48s 192ms/step - loss: 0.3336 - auc: 0.7929 - accuracy: 0.8648 - val_loss: 0.3349 - val_auc: 0.7968 - val_accuracy: 0.8622\n",
            "Epoch 51/100\n",
            "244/244 [==============================] - 48s 193ms/step - loss: 0.3330 - auc: 0.7946 - accuracy: 0.8652 - val_loss: 0.3347 - val_auc: 0.7975 - val_accuracy: 0.8632\n",
            "Epoch 52/100\n",
            "244/244 [==============================] - 48s 193ms/step - loss: 0.3338 - auc: 0.7926 - accuracy: 0.8655 - val_loss: 0.3350 - val_auc: 0.7969 - val_accuracy: 0.8619\n",
            "Epoch 53/100\n",
            "244/244 [==============================] - 47s 191ms/step - loss: 0.3333 - auc: 0.7933 - accuracy: 0.8655 - val_loss: 0.3342 - val_auc: 0.7980 - val_accuracy: 0.8633\n",
            "Epoch 54/100\n",
            "244/244 [==============================] - 49s 196ms/step - loss: 0.3314 - auc: 0.7967 - accuracy: 0.8664 - val_loss: 0.3337 - val_auc: 0.7988 - val_accuracy: 0.8638\n",
            "Epoch 55/100\n",
            "244/244 [==============================] - 48s 193ms/step - loss: 0.3317 - auc: 0.7956 - accuracy: 0.8673 - val_loss: 0.3336 - val_auc: 0.7991 - val_accuracy: 0.8636\n",
            "Epoch 56/100\n",
            "244/244 [==============================] - 48s 194ms/step - loss: 0.3301 - auc: 0.7985 - accuracy: 0.8679 - val_loss: 0.3332 - val_auc: 0.7990 - val_accuracy: 0.8635\n",
            "Epoch 57/100\n",
            "244/244 [==============================] - 48s 193ms/step - loss: 0.3302 - auc: 0.7980 - accuracy: 0.8689 - val_loss: 0.3342 - val_auc: 0.7989 - val_accuracy: 0.8628\n",
            "Epoch 58/100\n",
            "244/244 [==============================] - 48s 194ms/step - loss: 0.3293 - auc: 0.7988 - accuracy: 0.8681 - val_loss: 0.3330 - val_auc: 0.7993 - val_accuracy: 0.8638\n",
            "Epoch 59/100\n",
            "244/244 [==============================] - 47s 191ms/step - loss: 0.3286 - auc: 0.8004 - accuracy: 0.8689 - val_loss: 0.3331 - val_auc: 0.8004 - val_accuracy: 0.8641\n",
            "Epoch 60/100\n",
            "244/244 [==============================] - 48s 193ms/step - loss: 0.3284 - auc: 0.7997 - accuracy: 0.8698 - val_loss: 0.3321 - val_auc: 0.8004 - val_accuracy: 0.8646\n",
            "Epoch 61/100\n",
            "244/244 [==============================] - 48s 193ms/step - loss: 0.3267 - auc: 0.8028 - accuracy: 0.8694 - val_loss: 0.3328 - val_auc: 0.8006 - val_accuracy: 0.8640\n",
            "Epoch 62/100\n",
            "244/244 [==============================] - 49s 196ms/step - loss: 0.3272 - auc: 0.8017 - accuracy: 0.8703 - val_loss: 0.3318 - val_auc: 0.8007 - val_accuracy: 0.8646\n",
            "Epoch 63/100\n",
            "244/244 [==============================] - 48s 193ms/step - loss: 0.3262 - auc: 0.8038 - accuracy: 0.8709 - val_loss: 0.3325 - val_auc: 0.8010 - val_accuracy: 0.8642\n",
            "Epoch 64/100\n",
            "244/244 [==============================] - 48s 193ms/step - loss: 0.3252 - auc: 0.8042 - accuracy: 0.8718 - val_loss: 0.3312 - val_auc: 0.8014 - val_accuracy: 0.8653\n",
            "Epoch 65/100\n",
            "244/244 [==============================] - 48s 193ms/step - loss: 0.3256 - auc: 0.8036 - accuracy: 0.8709 - val_loss: 0.3313 - val_auc: 0.8014 - val_accuracy: 0.8653\n",
            "Epoch 66/100\n",
            "244/244 [==============================] - 48s 193ms/step - loss: 0.3252 - auc: 0.8048 - accuracy: 0.8718 - val_loss: 0.3317 - val_auc: 0.8023 - val_accuracy: 0.8656\n",
            "Epoch 67/100\n",
            "244/244 [==============================] - 48s 194ms/step - loss: 0.3242 - auc: 0.8048 - accuracy: 0.8722 - val_loss: 0.3307 - val_auc: 0.8021 - val_accuracy: 0.8653\n",
            "Epoch 68/100\n",
            "244/244 [==============================] - 47s 191ms/step - loss: 0.3234 - auc: 0.8058 - accuracy: 0.8732 - val_loss: 0.3303 - val_auc: 0.8027 - val_accuracy: 0.8658\n",
            "Epoch 69/100\n",
            "244/244 [==============================] - 48s 194ms/step - loss: 0.3224 - auc: 0.8089 - accuracy: 0.8724 - val_loss: 0.3313 - val_auc: 0.8028 - val_accuracy: 0.8664\n",
            "Epoch 70/100\n",
            "244/244 [==============================] - 48s 193ms/step - loss: 0.3218 - auc: 0.8084 - accuracy: 0.8730 - val_loss: 0.3306 - val_auc: 0.8031 - val_accuracy: 0.8665\n",
            "Epoch 71/100\n",
            "244/244 [==============================] - 47s 191ms/step - loss: 0.3214 - auc: 0.8093 - accuracy: 0.8743 - val_loss: 0.3300 - val_auc: 0.8032 - val_accuracy: 0.8655\n",
            "Epoch 72/100\n",
            "244/244 [==============================] - 47s 189ms/step - loss: 0.3206 - auc: 0.8115 - accuracy: 0.8736 - val_loss: 0.3296 - val_auc: 0.8037 - val_accuracy: 0.8654\n",
            "Epoch 73/100\n",
            "244/244 [==============================] - 47s 189ms/step - loss: 0.3203 - auc: 0.8104 - accuracy: 0.8750 - val_loss: 0.3297 - val_auc: 0.8039 - val_accuracy: 0.8656\n",
            "Epoch 74/100\n",
            "244/244 [==============================] - 47s 191ms/step - loss: 0.3193 - auc: 0.8119 - accuracy: 0.8748 - val_loss: 0.3295 - val_auc: 0.8039 - val_accuracy: 0.8647\n",
            "Epoch 75/100\n",
            "244/244 [==============================] - 47s 190ms/step - loss: 0.3178 - auc: 0.8147 - accuracy: 0.8755 - val_loss: 0.3299 - val_auc: 0.8046 - val_accuracy: 0.8664\n",
            "Epoch 76/100\n",
            "244/244 [==============================] - 46s 186ms/step - loss: 0.3173 - auc: 0.8142 - accuracy: 0.8762 - val_loss: 0.3287 - val_auc: 0.8050 - val_accuracy: 0.8654\n",
            "Epoch 77/100\n",
            "244/244 [==============================] - 47s 189ms/step - loss: 0.3166 - auc: 0.8155 - accuracy: 0.8762 - val_loss: 0.3291 - val_auc: 0.8042 - val_accuracy: 0.8649\n",
            "Epoch 78/100\n",
            "244/244 [==============================] - 47s 189ms/step - loss: 0.3170 - auc: 0.8148 - accuracy: 0.8765 - val_loss: 0.3288 - val_auc: 0.8048 - val_accuracy: 0.8653\n",
            "Epoch 79/100\n",
            "244/244 [==============================] - 47s 188ms/step - loss: 0.3150 - auc: 0.8174 - accuracy: 0.8775 - val_loss: 0.3286 - val_auc: 0.8054 - val_accuracy: 0.8658\n",
            "Epoch 80/100\n",
            "244/244 [==============================] - 47s 190ms/step - loss: 0.3148 - auc: 0.8176 - accuracy: 0.8766 - val_loss: 0.3282 - val_auc: 0.8060 - val_accuracy: 0.8645\n",
            "Epoch 81/100\n",
            "244/244 [==============================] - 47s 190ms/step - loss: 0.3146 - auc: 0.8176 - accuracy: 0.8776 - val_loss: 0.3282 - val_auc: 0.8058 - val_accuracy: 0.8646\n",
            "Epoch 82/100\n",
            "244/244 [==============================] - 47s 188ms/step - loss: 0.3134 - auc: 0.8183 - accuracy: 0.8793 - val_loss: 0.3283 - val_auc: 0.8058 - val_accuracy: 0.8649\n",
            "Epoch 83/100\n",
            "244/244 [==============================] - 48s 192ms/step - loss: 0.3143 - auc: 0.8183 - accuracy: 0.8782 - val_loss: 0.3281 - val_auc: 0.8064 - val_accuracy: 0.8650\n",
            "Epoch 84/100\n",
            "244/244 [==============================] - 47s 190ms/step - loss: 0.3129 - auc: 0.8207 - accuracy: 0.8781 - val_loss: 0.3276 - val_auc: 0.8065 - val_accuracy: 0.8653\n",
            "Epoch 85/100\n",
            "244/244 [==============================] - 47s 190ms/step - loss: 0.3112 - auc: 0.8222 - accuracy: 0.8799 - val_loss: 0.3277 - val_auc: 0.8065 - val_accuracy: 0.8647\n",
            "Epoch 86/100\n",
            "244/244 [==============================] - 48s 192ms/step - loss: 0.3110 - auc: 0.8228 - accuracy: 0.8784 - val_loss: 0.3277 - val_auc: 0.8069 - val_accuracy: 0.8651\n",
            "Epoch 87/100\n",
            "244/244 [==============================] - 47s 189ms/step - loss: 0.3104 - auc: 0.8235 - accuracy: 0.8800 - val_loss: 0.3272 - val_auc: 0.8072 - val_accuracy: 0.8651\n",
            "Epoch 88/100\n",
            "244/244 [==============================] - 47s 187ms/step - loss: 0.3090 - auc: 0.8263 - accuracy: 0.8788 - val_loss: 0.3272 - val_auc: 0.8072 - val_accuracy: 0.8660\n",
            "Epoch 89/100\n",
            "244/244 [==============================] - 47s 191ms/step - loss: 0.3093 - auc: 0.8226 - accuracy: 0.8797 - val_loss: 0.3284 - val_auc: 0.8071 - val_accuracy: 0.8665\n",
            "Epoch 90/100\n",
            "244/244 [==============================] - 47s 189ms/step - loss: 0.3078 - auc: 0.8268 - accuracy: 0.8802 - val_loss: 0.3271 - val_auc: 0.8073 - val_accuracy: 0.8655\n",
            "Epoch 91/100\n",
            "244/244 [==============================] - 46s 187ms/step - loss: 0.3081 - auc: 0.8259 - accuracy: 0.8793 - val_loss: 0.3285 - val_auc: 0.8076 - val_accuracy: 0.8672\n",
            "Epoch 92/100\n",
            "243/244 [============================>.] - ETA: 0s - loss: 0.3080 - auc: 0.8258 - accuracy: 0.8796Epoch 93/100\n",
            "244/244 [==============================] - 46s 186ms/step - loss: 0.3068 - auc: 0.8269 - accuracy: 0.8807 - val_loss: 0.3265 - val_auc: 0.8088 - val_accuracy: 0.8663\n",
            "Epoch 94/100\n",
            "244/244 [==============================] - 46s 187ms/step - loss: 0.3054 - auc: 0.8302 - accuracy: 0.8820 - val_loss: 0.3260 - val_auc: 0.8087 - val_accuracy: 0.8667\n",
            "Epoch 95/100\n",
            "244/244 [==============================] - 47s 189ms/step - loss: 0.3057 - auc: 0.8290 - accuracy: 0.8829 - val_loss: 0.3262 - val_auc: 0.8090 - val_accuracy: 0.8667\n",
            "Epoch 96/100\n",
            "244/244 [==============================] - 47s 191ms/step - loss: 0.3054 - auc: 0.8289 - accuracy: 0.8808 - val_loss: 0.3262 - val_auc: 0.8086 - val_accuracy: 0.8668\n",
            "Epoch 97/100\n",
            "244/244 [==============================] - 46s 187ms/step - loss: 0.3034 - auc: 0.8321 - accuracy: 0.8818 - val_loss: 0.3259 - val_auc: 0.8087 - val_accuracy: 0.8663\n",
            "Epoch 98/100\n",
            "244/244 [==============================] - 47s 189ms/step - loss: 0.3038 - auc: 0.8302 - accuracy: 0.8838 - val_loss: 0.3256 - val_auc: 0.8099 - val_accuracy: 0.8667\n",
            "Epoch 99/100\n",
            "244/244 [==============================] - 47s 189ms/step - loss: 0.3035 - auc: 0.8306 - accuracy: 0.8841 - val_loss: 0.3252 - val_auc: 0.8096 - val_accuracy: 0.8674\n",
            "Epoch 100/100\n",
            "244/244 [==============================] - 48s 194ms/step - loss: 0.3025 - auc: 0.8328 - accuracy: 0.8844 - val_loss: 0.3248 - val_auc: 0.8105 - val_accuracy: 0.8672\n"
          ]
        }
      ],
      "source": [
        "run_hist = model.fit(normalized_data, validation_data=normalized_val_data, epochs=100,\n",
        "  callbacks=[keras.callbacks.EarlyStopping(\n",
        "                  monitor=\"val_auc\",\n",
        "                  min_delta=0,\n",
        "                  patience=5,\n",
        "                  verbose=1,\n",
        "                  mode=\"auto\",\n",
        "                  baseline=None,\n",
        "                  restore_best_weights=True,\n",
        "              )])"
      ]
    },
    {
      "cell_type": "code",
      "execution_count": null,
      "metadata": {
        "colab": {
          "base_uri": "https://localhost:8080/"
        },
        "id": "l4blABJqR40X",
        "outputId": "489d9721-4f7a-4891-8962-be809c46db9e"
      },
      "outputs": [
        {
          "name": "stdout",
          "output_type": "stream",
          "text": [
            "183/183 [==============================] - 19s 102ms/step - loss: 0.3267 - auc: 0.7995 - accuracy: 0.8691\n",
            "[0.32671087980270386, 0.7995319962501526, 0.8690955638885498]\n"
          ]
        }
      ],
      "source": [
        "results = model.evaluate(normalized_test_data)\n",
        "print(results)"
      ]
    },
    {
      "cell_type": "markdown",
      "metadata": {
        "id": "3tDWlsmgR40X"
      },
      "source": [
        "#### N512-L3-D2"
      ]
    },
    {
      "cell_type": "code",
      "execution_count": null,
      "metadata": {
        "id": "5wYrX3RUR40X"
      },
      "outputs": [],
      "source": [
        "N = 512\n",
        "NAME = \"N512-L3-D2\"\n",
        "keras.backend.clear_session()"
      ]
    },
    {
      "cell_type": "code",
      "execution_count": null,
      "metadata": {
        "colab": {
          "base_uri": "https://localhost:8080/"
        },
        "id": "nkS9LySDR40X",
        "outputId": "a6ed6322-6d0a-4582-e690-461c4a5b1603"
      },
      "outputs": [
        {
          "name": "stdout",
          "output_type": "stream",
          "text": [
            "Model: \"sequential\"\n",
            "_________________________________________________________________\n",
            " Layer (type)                Output Shape              Param #   \n",
            "=================================================================\n",
            " conv2d (Conv2D)             (None, 256, 256, 32)      896       \n",
            "                                                                 \n",
            " max_pooling2d (MaxPooling2D  (None, 128, 128, 32)     0         \n",
            " )                                                               \n",
            "                                                                 \n",
            " conv2d_1 (Conv2D)           (None, 64, 64, 32)        9248      \n",
            "                                                                 \n",
            " max_pooling2d_1 (MaxPooling  (None, 32, 32, 32)       0         \n",
            " 2D)                                                             \n",
            "                                                                 \n",
            " conv2d_2 (Conv2D)           (None, 16, 16, 64)        18496     \n",
            "                                                                 \n",
            " dropout (Dropout)           (None, 16, 16, 64)        0         \n",
            "                                                                 \n",
            " max_pooling2d_2 (MaxPooling  (None, 8, 8, 64)         0         \n",
            " 2D)                                                             \n",
            "                                                                 \n",
            " dense (Dense)               (None, 8, 8, 128)         8320      \n",
            "                                                                 \n",
            " flatten (Flatten)           (None, 8192)              0         \n",
            "                                                                 \n",
            " dense_1 (Dense)             (None, 512)               4194816   \n",
            "                                                                 \n",
            " dense_2 (Dense)             (None, 512)               262656    \n",
            "                                                                 \n",
            " dense_3 (Dense)             (None, 512)               262656    \n",
            "                                                                 \n",
            " dropout_1 (Dropout)         (None, 512)               0         \n",
            "                                                                 \n",
            " dense_4 (Dense)             (None, 1)                 513       \n",
            "                                                                 \n",
            "=================================================================\n",
            "Total params: 4,757,601\n",
            "Trainable params: 4,757,601\n",
            "Non-trainable params: 0\n",
            "_________________________________________________________________\n"
          ]
        }
      ],
      "source": [
        "ins = image_batch.shape[1:]\n",
        "\n",
        "model = Sequential()\n",
        "\n",
        "model.add(Conv2D(32, (3,3), padding=\"same\", activation=\"relu\", input_shape=ins))\n",
        "\n",
        "model.add(MaxPooling2D(pool_size=(2, 2)))\n",
        "\n",
        "model.add(Conv2D(32, (3,3), padding=\"same\", strides = (2,2), activation=\"relu\"))\n",
        "\n",
        "model.add(MaxPooling2D(pool_size=(2, 2)))\n",
        "\n",
        "model.add(Conv2D(64, (3,3), padding=\"same\", strides = (2,2), activation=\"relu\"))\n",
        "\n",
        "model.add(Dropout(0.1))\n",
        "\n",
        "model.add(MaxPooling2D(pool_size=(2, 2)))\n",
        "\n",
        "model.add(Dense(128, activation=\"relu\"))\n",
        "\n",
        "model.add(Flatten())\n",
        "\n",
        "model.add(Dense(N, activation=\"relu\"))\n",
        "\n",
        "model.add(Dense(N, activation=\"relu\"))\n",
        "\n",
        "model.add(Dense(N, activation=\"relu\"))\n",
        "\n",
        "model.add(Dropout(0.5))\n",
        "\n",
        "model.add(Dense(1, activation=\"sigmoid\"))\n",
        "\n",
        "model.summary()"
      ]
    },
    {
      "cell_type": "code",
      "execution_count": null,
      "metadata": {
        "id": "KDvEU_8KR40X"
      },
      "outputs": [],
      "source": [
        "model.compile(loss='binary_crossentropy', optimizer=optimizers.Adam(learning_rate=0.00001), metrics=[keras.metrics.AUC(), 'accuracy'])"
      ]
    },
    {
      "cell_type": "code",
      "execution_count": null,
      "metadata": {
        "colab": {
          "base_uri": "https://localhost:8080/"
        },
        "id": "xs813aOuR40X",
        "outputId": "a5b479ec-3e7d-4b04-ccd0-4b51f106fac1"
      },
      "outputs": [
        {
          "name": "stdout",
          "output_type": "stream",
          "text": [
            "Epoch 1/100\n",
            "244/244 [==============================] - 45s 174ms/step - loss: 0.4785 - auc: 0.5210 - accuracy: 0.8589 - val_loss: 0.4397 - val_auc: 0.6103 - val_accuracy: 0.8581\n",
            "Epoch 2/100\n",
            "244/244 [==============================] - 41s 167ms/step - loss: 0.4107 - auc: 0.6027 - accuracy: 0.8597 - val_loss: 0.3778 - val_auc: 0.7125 - val_accuracy: 0.8581\n",
            "Epoch 3/100\n",
            "244/244 [==============================] - 43s 173ms/step - loss: 0.3688 - auc: 0.7155 - accuracy: 0.8597 - val_loss: 0.3587 - val_auc: 0.7632 - val_accuracy: 0.8581\n",
            "Epoch 4/100\n",
            "244/244 [==============================] - 41s 168ms/step - loss: 0.3589 - auc: 0.7435 - accuracy: 0.8597 - val_loss: 0.3530 - val_auc: 0.7752 - val_accuracy: 0.8581\n",
            "Epoch 5/100\n",
            "244/244 [==============================] - 42s 168ms/step - loss: 0.3535 - auc: 0.7575 - accuracy: 0.8597 - val_loss: 0.3478 - val_auc: 0.7845 - val_accuracy: 0.8581\n",
            "Epoch 6/100\n",
            "244/244 [==============================] - 41s 167ms/step - loss: 0.3494 - auc: 0.7665 - accuracy: 0.8595 - val_loss: 0.3461 - val_auc: 0.7890 - val_accuracy: 0.8582\n",
            "Epoch 7/100\n",
            "244/244 [==============================] - 41s 167ms/step - loss: 0.3438 - auc: 0.7773 - accuracy: 0.8606 - val_loss: 0.3409 - val_auc: 0.7932 - val_accuracy: 0.8586\n",
            "Epoch 8/100\n",
            "244/244 [==============================] - 43s 172ms/step - loss: 0.3416 - auc: 0.7801 - accuracy: 0.8611 - val_loss: 0.3427 - val_auc: 0.7953 - val_accuracy: 0.8604\n",
            "Epoch 9/100\n",
            "244/244 [==============================] - 51s 206ms/step - loss: 0.3388 - auc: 0.7849 - accuracy: 0.8627 - val_loss: 0.3367 - val_auc: 0.8000 - val_accuracy: 0.8615\n",
            "Epoch 10/100\n",
            "244/244 [==============================] - 43s 172ms/step - loss: 0.3349 - auc: 0.7915 - accuracy: 0.8649 - val_loss: 0.3360 - val_auc: 0.8013 - val_accuracy: 0.8629\n",
            "Epoch 11/100\n",
            "244/244 [==============================] - 41s 167ms/step - loss: 0.3327 - auc: 0.7939 - accuracy: 0.8656 - val_loss: 0.3326 - val_auc: 0.8042 - val_accuracy: 0.8635\n",
            "Epoch 12/100\n",
            "244/244 [==============================] - 41s 166ms/step - loss: 0.3281 - auc: 0.8008 - accuracy: 0.8694 - val_loss: 0.3303 - val_auc: 0.8051 - val_accuracy: 0.8640\n",
            "Epoch 13/100\n",
            "244/244 [==============================] - 42s 168ms/step - loss: 0.3261 - auc: 0.8028 - accuracy: 0.8710 - val_loss: 0.3313 - val_auc: 0.8072 - val_accuracy: 0.8660\n",
            "Epoch 14/100\n",
            "244/244 [==============================] - 42s 168ms/step - loss: 0.3223 - auc: 0.8087 - accuracy: 0.8741 - val_loss: 0.3313 - val_auc: 0.8084 - val_accuracy: 0.8663\n",
            "Epoch 15/100\n",
            "244/244 [==============================] - 45s 181ms/step - loss: 0.3217 - auc: 0.8080 - accuracy: 0.8739 - val_loss: 0.3285 - val_auc: 0.8105 - val_accuracy: 0.8683\n",
            "Epoch 16/100\n",
            "244/244 [==============================] - 53s 214ms/step - loss: 0.3163 - auc: 0.8161 - accuracy: 0.8763 - val_loss: 0.3296 - val_auc: 0.8122 - val_accuracy: 0.8678\n",
            "Epoch 17/100\n",
            "244/244 [==============================] - 44s 178ms/step - loss: 0.3136 - auc: 0.8183 - accuracy: 0.8795 - val_loss: 0.3269 - val_auc: 0.8132 - val_accuracy: 0.8691\n",
            "Epoch 18/100\n",
            "244/244 [==============================] - 43s 172ms/step - loss: 0.3106 - auc: 0.8226 - accuracy: 0.8797 - val_loss: 0.3224 - val_auc: 0.8115 - val_accuracy: 0.8704\n",
            "Epoch 19/100\n",
            "244/244 [==============================] - 45s 180ms/step - loss: 0.3077 - auc: 0.8258 - accuracy: 0.8826 - val_loss: 0.3197 - val_auc: 0.8171 - val_accuracy: 0.8712\n",
            "Epoch 20/100\n",
            "244/244 [==============================] - 45s 183ms/step - loss: 0.3065 - auc: 0.8268 - accuracy: 0.8822 - val_loss: 0.3258 - val_auc: 0.8155 - val_accuracy: 0.8703\n",
            "Epoch 21/100\n",
            "244/244 [==============================] - 46s 185ms/step - loss: 0.3023 - auc: 0.8323 - accuracy: 0.8853 - val_loss: 0.3186 - val_auc: 0.8157 - val_accuracy: 0.8710\n",
            "Epoch 22/100\n",
            "244/244 [==============================] - 46s 186ms/step - loss: 0.3019 - auc: 0.8322 - accuracy: 0.8853 - val_loss: 0.3165 - val_auc: 0.8183 - val_accuracy: 0.8731\n",
            "Epoch 23/100\n",
            "244/244 [==============================] - 45s 181ms/step - loss: 0.2986 - auc: 0.8361 - accuracy: 0.8874 - val_loss: 0.3240 - val_auc: 0.8203 - val_accuracy: 0.8710\n",
            "Epoch 24/100\n",
            "244/244 [==============================] - 46s 185ms/step - loss: 0.2961 - auc: 0.8388 - accuracy: 0.8890 - val_loss: 0.3141 - val_auc: 0.8225 - val_accuracy: 0.8735\n",
            "Epoch 25/100\n",
            "244/244 [==============================] - 45s 180ms/step - loss: 0.2944 - auc: 0.8391 - accuracy: 0.8882 - val_loss: 0.3137 - val_auc: 0.8226 - val_accuracy: 0.8727\n",
            "Epoch 26/100\n",
            "244/244 [==============================] - 46s 185ms/step - loss: 0.2902 - auc: 0.8453 - accuracy: 0.8905 - val_loss: 0.3150 - val_auc: 0.8220 - val_accuracy: 0.8741\n",
            "Epoch 27/100\n",
            "244/244 [==============================] - 45s 182ms/step - loss: 0.2886 - auc: 0.8470 - accuracy: 0.8907 - val_loss: 0.3125 - val_auc: 0.8242 - val_accuracy: 0.8737\n",
            "Epoch 28/100\n",
            "244/244 [==============================] - 45s 182ms/step - loss: 0.2847 - auc: 0.8528 - accuracy: 0.8936 - val_loss: 0.3125 - val_auc: 0.8247 - val_accuracy: 0.8740\n",
            "Epoch 29/100\n",
            "244/244 [==============================] - 44s 178ms/step - loss: 0.2854 - auc: 0.8507 - accuracy: 0.8914 - val_loss: 0.3094 - val_auc: 0.8275 - val_accuracy: 0.8757\n",
            "Epoch 30/100\n",
            "244/244 [==============================] - 45s 183ms/step - loss: 0.2813 - auc: 0.8541 - accuracy: 0.8942 - val_loss: 0.3101 - val_auc: 0.8263 - val_accuracy: 0.8744\n",
            "Epoch 31/100\n",
            "244/244 [==============================] - 45s 183ms/step - loss: 0.2802 - auc: 0.8566 - accuracy: 0.8949 - val_loss: 0.3121 - val_auc: 0.8242 - val_accuracy: 0.8735\n",
            "Epoch 32/100\n",
            "244/244 [==============================] - 45s 184ms/step - loss: 0.2762 - auc: 0.8624 - accuracy: 0.8946 - val_loss: 0.3088 - val_auc: 0.8302 - val_accuracy: 0.8777\n",
            "Epoch 33/100\n",
            "244/244 [==============================] - 44s 179ms/step - loss: 0.2754 - auc: 0.8612 - accuracy: 0.8972 - val_loss: 0.3072 - val_auc: 0.8300 - val_accuracy: 0.8763\n",
            "Epoch 34/100\n",
            "244/244 [==============================] - 45s 180ms/step - loss: 0.2719 - auc: 0.8651 - accuracy: 0.8973 - val_loss: 0.3095 - val_auc: 0.8293 - val_accuracy: 0.8766\n",
            "Epoch 35/100\n",
            "244/244 [==============================] - 45s 180ms/step - loss: 0.2707 - auc: 0.8669 - accuracy: 0.8984 - val_loss: 0.3087 - val_auc: 0.8313 - val_accuracy: 0.8780\n",
            "Epoch 36/100\n",
            "244/244 [==============================] - 45s 181ms/step - loss: 0.2699 - auc: 0.8665 - accuracy: 0.8974 - val_loss: 0.3068 - val_auc: 0.8309 - val_accuracy: 0.8782\n",
            "Epoch 37/100\n",
            "244/244 [==============================] - 54s 217ms/step - loss: 0.2648 - auc: 0.8737 - accuracy: 0.8996 - val_loss: 0.3055 - val_auc: 0.8334 - val_accuracy: 0.8788\n",
            "Epoch 38/100\n",
            "244/244 [==============================] - 45s 180ms/step - loss: 0.2628 - auc: 0.8756 - accuracy: 0.9024 - val_loss: 0.3107 - val_auc: 0.8349 - val_accuracy: 0.8759\n",
            "Epoch 39/100\n",
            "244/244 [==============================] - 45s 181ms/step - loss: 0.2604 - auc: 0.8777 - accuracy: 0.9019 - val_loss: 0.3044 - val_auc: 0.8342 - val_accuracy: 0.8800\n",
            "Epoch 40/100\n",
            "244/244 [==============================] - 45s 181ms/step - loss: 0.2589 - auc: 0.8778 - accuracy: 0.9027 - val_loss: 0.3236 - val_auc: 0.8221 - val_accuracy: 0.8759\n",
            "Epoch 41/100\n",
            "244/244 [==============================] - 45s 181ms/step - loss: 0.2570 - auc: 0.8800 - accuracy: 0.9045 - val_loss: 0.3055 - val_auc: 0.8355 - val_accuracy: 0.8781\n",
            "Epoch 42/100\n",
            "244/244 [==============================] - 45s 183ms/step - loss: 0.2545 - auc: 0.8823 - accuracy: 0.9055 - val_loss: 0.3075 - val_auc: 0.8291 - val_accuracy: 0.8798\n",
            "Epoch 43/100\n",
            "244/244 [==============================] - 45s 182ms/step - loss: 0.2512 - auc: 0.8864 - accuracy: 0.9075 - val_loss: 0.3201 - val_auc: 0.8352 - val_accuracy: 0.8685\n",
            "Epoch 44/100\n",
            "244/244 [==============================] - 45s 184ms/step - loss: 0.2544 - auc: 0.8829 - accuracy: 0.9063 - val_loss: 0.3024 - val_auc: 0.8374 - val_accuracy: 0.8797\n",
            "Epoch 45/100\n",
            "244/244 [==============================] - 52s 210ms/step - loss: 0.2501 - auc: 0.8877 - accuracy: 0.9056 - val_loss: 0.3036 - val_auc: 0.8379 - val_accuracy: 0.8788\n",
            "Epoch 46/100\n",
            "244/244 [==============================] - 45s 181ms/step - loss: 0.2423 - auc: 0.8954 - accuracy: 0.9101 - val_loss: 0.3017 - val_auc: 0.8368 - val_accuracy: 0.8812\n",
            "Epoch 47/100\n",
            "244/244 [==============================] - 45s 182ms/step - loss: 0.2443 - auc: 0.8934 - accuracy: 0.9097 - val_loss: 0.3046 - val_auc: 0.8398 - val_accuracy: 0.8808\n",
            "Epoch 48/100\n",
            "244/244 [==============================] - 44s 179ms/step - loss: 0.2411 - auc: 0.8957 - accuracy: 0.9112 - val_loss: 0.3224 - val_auc: 0.8379 - val_accuracy: 0.8656\n",
            "Epoch 49/100\n",
            "244/244 [==============================] - 46s 184ms/step - loss: 0.2387 - auc: 0.8984 - accuracy: 0.9132 - val_loss: 0.3030 - val_auc: 0.8346 - val_accuracy: 0.8821\n",
            "Epoch 50/100\n",
            "244/244 [==============================] - 46s 184ms/step - loss: 0.2374 - auc: 0.8991 - accuracy: 0.9115 - val_loss: 0.3106 - val_auc: 0.8299 - val_accuracy: 0.8803\n",
            "Epoch 51/100\n",
            "244/244 [==============================] - 45s 180ms/step - loss: 0.2350 - auc: 0.9014 - accuracy: 0.9117 - val_loss: 0.3114 - val_auc: 0.8382 - val_accuracy: 0.8726\n",
            "Epoch 52/100\n",
            "243/244 [============================>.] - ETA: 0s - loss: 0.2325 - auc: 0.9037 - accuracy: 0.9140Restoring model weights from the end of the best epoch: 47.\n",
            "244/244 [==============================] - 45s 183ms/step - loss: 0.2325 - auc: 0.9037 - accuracy: 0.9140 - val_loss: 0.3033 - val_auc: 0.8382 - val_accuracy: 0.8786\n",
            "Epoch 52: early stopping\n"
          ]
        }
      ],
      "source": [
        "run_hist = model.fit(normalized_data, validation_data=normalized_val_data, epochs=100,\n",
        "  callbacks=[keras.callbacks.EarlyStopping(\n",
        "                  monitor=\"val_auc\",\n",
        "                  min_delta=0,\n",
        "                  patience=5,\n",
        "                  verbose=1,\n",
        "                  mode=\"auto\",\n",
        "                  baseline=None,\n",
        "                  restore_best_weights=True,\n",
        "              )])"
      ]
    },
    {
      "cell_type": "code",
      "execution_count": null,
      "metadata": {
        "colab": {
          "base_uri": "https://localhost:8080/"
        },
        "id": "y8Fj6466R40X",
        "outputId": "e5be4ce9-9012-4a99-f167-eee609c6efd5"
      },
      "outputs": [
        {
          "name": "stdout",
          "output_type": "stream",
          "text": [
            "183/183 [==============================] - 21s 108ms/step - loss: 0.3119 - auc: 0.8294 - accuracy: 0.8776\n",
            "[0.31190958619117737, 0.8293812274932861, 0.8775824904441833]\n"
          ]
        }
      ],
      "source": [
        "results = model.evaluate(normalized_test_data)\n",
        "print(results)"
      ]
    },
    {
      "cell_type": "markdown",
      "metadata": {
        "id": "WBomrJIQR40X"
      },
      "source": [
        "#### N1024-L1-D4"
      ]
    },
    {
      "cell_type": "code",
      "execution_count": null,
      "metadata": {
        "id": "MKRW3Nm3R40X"
      },
      "outputs": [],
      "source": [
        "N = 1024\n",
        "NAME = \"N1024-L1-D4\"\n",
        "keras.backend.clear_session()"
      ]
    },
    {
      "cell_type": "code",
      "execution_count": null,
      "metadata": {
        "colab": {
          "base_uri": "https://localhost:8080/"
        },
        "id": "nafKQc2xR40Y",
        "outputId": "019a9dee-e050-462d-c8df-ba7de508b21e"
      },
      "outputs": [
        {
          "name": "stdout",
          "output_type": "stream",
          "text": [
            "Model: \"sequential\"\n",
            "_________________________________________________________________\n",
            " Layer (type)                Output Shape              Param #   \n",
            "=================================================================\n",
            " conv2d (Conv2D)             (None, 256, 256, 32)      896       \n",
            "                                                                 \n",
            " max_pooling2d (MaxPooling2D  (None, 128, 128, 32)     0         \n",
            " )                                                               \n",
            "                                                                 \n",
            " conv2d_1 (Conv2D)           (None, 64, 64, 32)        9248      \n",
            "                                                                 \n",
            " max_pooling2d_1 (MaxPooling  (None, 32, 32, 32)       0         \n",
            " 2D)                                                             \n",
            "                                                                 \n",
            " conv2d_2 (Conv2D)           (None, 16, 16, 64)        18496     \n",
            "                                                                 \n",
            " max_pooling2d_2 (MaxPooling  (None, 8, 8, 64)         0         \n",
            " 2D)                                                             \n",
            "                                                                 \n",
            " dense (Dense)               (None, 8, 8, 128)         8320      \n",
            "                                                                 \n",
            " flatten (Flatten)           (None, 8192)              0         \n",
            "                                                                 \n",
            " dense_1 (Dense)             (None, 1024)              8389632   \n",
            "                                                                 \n",
            " dropout (Dropout)           (None, 1024)              0         \n",
            "                                                                 \n",
            " dense_2 (Dense)             (None, 1)                 1025      \n",
            "                                                                 \n",
            "=================================================================\n",
            "Total params: 8,427,617\n",
            "Trainable params: 8,427,617\n",
            "Non-trainable params: 0\n",
            "_________________________________________________________________\n"
          ]
        }
      ],
      "source": [
        "ins = image_batch.shape[1:]\n",
        "\n",
        "model = Sequential()\n",
        "\n",
        "model.add(Conv2D(32, (3,3), padding=\"same\", activation=\"relu\", input_shape=ins))\n",
        "\n",
        "model.add(MaxPooling2D(pool_size=(2, 2)))\n",
        "\n",
        "model.add(Conv2D(32, (3,3), padding=\"same\", strides = (2,2), activation=\"relu\"))\n",
        "\n",
        "model.add(MaxPooling2D(pool_size=(2, 2)))\n",
        "\n",
        "model.add(Conv2D(64, (3,3), padding=\"same\", strides = (2,2), activation=\"relu\"))\n",
        "\n",
        "model.add(MaxPooling2D(pool_size=(2, 2)))\n",
        "\n",
        "model.add(Dense(128, activation=\"relu\"))\n",
        "\n",
        "model.add(Flatten())\n",
        "\n",
        "model.add(Dense(N, activation=\"relu\"))\n",
        "\n",
        "model.add(Dropout(0.5))\n",
        "\n",
        "model.add(Dense(1, activation=\"sigmoid\"))\n",
        "\n",
        "model.summary()"
      ]
    },
    {
      "cell_type": "code",
      "execution_count": null,
      "metadata": {
        "id": "zZltXVXUR40Y"
      },
      "outputs": [],
      "source": [
        "model.compile(loss='binary_crossentropy', optimizer=optimizers.Adam(learning_rate=0.00001), metrics=[keras.metrics.AUC(), 'accuracy'])"
      ]
    },
    {
      "cell_type": "code",
      "execution_count": null,
      "metadata": {
        "colab": {
          "base_uri": "https://localhost:8080/"
        },
        "id": "WwloyLXtR40Y",
        "outputId": "e69a77c9-c0a7-45af-f618-423c3b1f7d50"
      },
      "outputs": [
        {
          "name": "stdout",
          "output_type": "stream",
          "text": [
            "Epoch 1/100\n",
            "244/244 [==============================] - 47s 186ms/step - loss: 0.4639 - auc: 0.5478 - accuracy: 0.8592 - val_loss: 0.4288 - val_auc: 0.6135 - val_accuracy: 0.8581\n",
            "Epoch 2/100\n",
            "244/244 [==============================] - 44s 178ms/step - loss: 0.3980 - auc: 0.6250 - accuracy: 0.8597 - val_loss: 0.3727 - val_auc: 0.7293 - val_accuracy: 0.8581\n",
            "Epoch 3/100\n",
            "244/244 [==============================] - 44s 178ms/step - loss: 0.3683 - auc: 0.7232 - accuracy: 0.8597 - val_loss: 0.3597 - val_auc: 0.7586 - val_accuracy: 0.8581\n",
            "Epoch 4/100\n",
            "244/244 [==============================] - 44s 179ms/step - loss: 0.3608 - auc: 0.7409 - accuracy: 0.8597 - val_loss: 0.3542 - val_auc: 0.7689 - val_accuracy: 0.8581\n",
            "Epoch 5/100\n",
            "244/244 [==============================] - 44s 178ms/step - loss: 0.3559 - auc: 0.7524 - accuracy: 0.8597 - val_loss: 0.3510 - val_auc: 0.7743 - val_accuracy: 0.8581\n",
            "Epoch 6/100\n",
            "244/244 [==============================] - 45s 181ms/step - loss: 0.3531 - auc: 0.7593 - accuracy: 0.8596 - val_loss: 0.3488 - val_auc: 0.7794 - val_accuracy: 0.8581\n",
            "Epoch 7/100\n",
            "244/244 [==============================] - 44s 178ms/step - loss: 0.3497 - auc: 0.7664 - accuracy: 0.8597 - val_loss: 0.3449 - val_auc: 0.7856 - val_accuracy: 0.8581\n",
            "Epoch 8/100\n",
            "244/244 [==============================] - 52s 209ms/step - loss: 0.3471 - auc: 0.7712 - accuracy: 0.8599 - val_loss: 0.3433 - val_auc: 0.7884 - val_accuracy: 0.8581\n",
            "Epoch 9/100\n",
            "244/244 [==============================] - 42s 171ms/step - loss: 0.3446 - auc: 0.7757 - accuracy: 0.8599 - val_loss: 0.3411 - val_auc: 0.7908 - val_accuracy: 0.8591\n",
            "Epoch 10/100\n",
            "244/244 [==============================] - 42s 169ms/step - loss: 0.3429 - auc: 0.7795 - accuracy: 0.8599 - val_loss: 0.3400 - val_auc: 0.7928 - val_accuracy: 0.8590\n",
            "Epoch 11/100\n",
            "244/244 [==============================] - 43s 175ms/step - loss: 0.3405 - auc: 0.7833 - accuracy: 0.8610 - val_loss: 0.3385 - val_auc: 0.7943 - val_accuracy: 0.8601\n",
            "Epoch 12/100\n",
            "244/244 [==============================] - 43s 174ms/step - loss: 0.3403 - auc: 0.7825 - accuracy: 0.8620 - val_loss: 0.3372 - val_auc: 0.7959 - val_accuracy: 0.8608\n",
            "Epoch 13/100\n",
            "244/244 [==============================] - 43s 175ms/step - loss: 0.3381 - auc: 0.7863 - accuracy: 0.8619 - val_loss: 0.3376 - val_auc: 0.7967 - val_accuracy: 0.8602\n",
            "Epoch 14/100\n",
            "244/244 [==============================] - 42s 169ms/step - loss: 0.3358 - auc: 0.7914 - accuracy: 0.8636 - val_loss: 0.3359 - val_auc: 0.7984 - val_accuracy: 0.8605\n",
            "Epoch 15/100\n",
            "244/244 [==============================] - 42s 169ms/step - loss: 0.3333 - auc: 0.7953 - accuracy: 0.8638 - val_loss: 0.3340 - val_auc: 0.7996 - val_accuracy: 0.8622\n",
            "Epoch 16/100\n",
            "244/244 [==============================] - 42s 168ms/step - loss: 0.3319 - auc: 0.7961 - accuracy: 0.8651 - val_loss: 0.3329 - val_auc: 0.8004 - val_accuracy: 0.8620\n",
            "Epoch 17/100\n",
            "244/244 [==============================] - 42s 169ms/step - loss: 0.3300 - auc: 0.7999 - accuracy: 0.8666 - val_loss: 0.3318 - val_auc: 0.8025 - val_accuracy: 0.8651\n",
            "Epoch 18/100\n",
            "244/244 [==============================] - 42s 169ms/step - loss: 0.3284 - auc: 0.8011 - accuracy: 0.8683 - val_loss: 0.3323 - val_auc: 0.8027 - val_accuracy: 0.8626\n",
            "Epoch 19/100\n",
            "244/244 [==============================] - 43s 173ms/step - loss: 0.3272 - auc: 0.8029 - accuracy: 0.8683 - val_loss: 0.3298 - val_auc: 0.8045 - val_accuracy: 0.8647\n",
            "Epoch 20/100\n",
            "244/244 [==============================] - 41s 167ms/step - loss: 0.3253 - auc: 0.8052 - accuracy: 0.8696 - val_loss: 0.3296 - val_auc: 0.8052 - val_accuracy: 0.8645\n",
            "Epoch 21/100\n",
            "244/244 [==============================] - 42s 169ms/step - loss: 0.3248 - auc: 0.8059 - accuracy: 0.8689 - val_loss: 0.3291 - val_auc: 0.8069 - val_accuracy: 0.8676\n",
            "Epoch 22/100\n",
            "244/244 [==============================] - 42s 169ms/step - loss: 0.3239 - auc: 0.8074 - accuracy: 0.8700 - val_loss: 0.3284 - val_auc: 0.8062 - val_accuracy: 0.8655\n",
            "Epoch 23/100\n",
            "244/244 [==============================] - 42s 171ms/step - loss: 0.3212 - auc: 0.8109 - accuracy: 0.8721 - val_loss: 0.3308 - val_auc: 0.8061 - val_accuracy: 0.8647\n",
            "Epoch 24/100\n",
            "244/244 [==============================] - 43s 172ms/step - loss: 0.3204 - auc: 0.8121 - accuracy: 0.8711 - val_loss: 0.3262 - val_auc: 0.8084 - val_accuracy: 0.8677\n",
            "Epoch 25/100\n",
            "244/244 [==============================] - 44s 176ms/step - loss: 0.3185 - auc: 0.8140 - accuracy: 0.8722 - val_loss: 0.3254 - val_auc: 0.8087 - val_accuracy: 0.8686\n",
            "Epoch 26/100\n",
            "244/244 [==============================] - 43s 172ms/step - loss: 0.3170 - auc: 0.8162 - accuracy: 0.8750 - val_loss: 0.3244 - val_auc: 0.8101 - val_accuracy: 0.8705\n",
            "Epoch 27/100\n",
            "244/244 [==============================] - 43s 173ms/step - loss: 0.3157 - auc: 0.8187 - accuracy: 0.8743 - val_loss: 0.3236 - val_auc: 0.8113 - val_accuracy: 0.8705\n",
            "Epoch 28/100\n",
            "244/244 [==============================] - 46s 186ms/step - loss: 0.3140 - auc: 0.8200 - accuracy: 0.8755 - val_loss: 0.3244 - val_auc: 0.8104 - val_accuracy: 0.8695\n",
            "Epoch 29/100\n",
            "244/244 [==============================] - 44s 177ms/step - loss: 0.3131 - auc: 0.8209 - accuracy: 0.8757 - val_loss: 0.3225 - val_auc: 0.8124 - val_accuracy: 0.8705\n",
            "Epoch 30/100\n",
            "244/244 [==============================] - 45s 180ms/step - loss: 0.3123 - auc: 0.8221 - accuracy: 0.8774 - val_loss: 0.3215 - val_auc: 0.8140 - val_accuracy: 0.8721\n",
            "Epoch 31/100\n",
            "244/244 [==============================] - 45s 181ms/step - loss: 0.3102 - auc: 0.8256 - accuracy: 0.8775 - val_loss: 0.3214 - val_auc: 0.8134 - val_accuracy: 0.8713\n",
            "Epoch 32/100\n",
            "244/244 [==============================] - 46s 187ms/step - loss: 0.3088 - auc: 0.8272 - accuracy: 0.8784 - val_loss: 0.3220 - val_auc: 0.8119 - val_accuracy: 0.8709\n",
            "Epoch 33/100\n",
            "244/244 [==============================] - 46s 184ms/step - loss: 0.3081 - auc: 0.8264 - accuracy: 0.8802 - val_loss: 0.3220 - val_auc: 0.8129 - val_accuracy: 0.8712\n",
            "Epoch 34/100\n",
            "244/244 [==============================] - 45s 180ms/step - loss: 0.3074 - auc: 0.8282 - accuracy: 0.8788 - val_loss: 0.3195 - val_auc: 0.8160 - val_accuracy: 0.8734\n",
            "Epoch 35/100\n",
            "244/244 [==============================] - 45s 183ms/step - loss: 0.3057 - auc: 0.8296 - accuracy: 0.8798 - val_loss: 0.3182 - val_auc: 0.8168 - val_accuracy: 0.8743\n",
            "Epoch 36/100\n",
            "244/244 [==============================] - 46s 187ms/step - loss: 0.3049 - auc: 0.8297 - accuracy: 0.8814 - val_loss: 0.3188 - val_auc: 0.8162 - val_accuracy: 0.8731\n",
            "Epoch 37/100\n",
            "244/244 [==============================] - 46s 186ms/step - loss: 0.3036 - auc: 0.8336 - accuracy: 0.8806 - val_loss: 0.3187 - val_auc: 0.8160 - val_accuracy: 0.8727\n",
            "Epoch 38/100\n",
            "244/244 [==============================] - 45s 180ms/step - loss: 0.3025 - auc: 0.8338 - accuracy: 0.8821 - val_loss: 0.3173 - val_auc: 0.8178 - val_accuracy: 0.8739\n",
            "Epoch 39/100\n",
            "244/244 [==============================] - 45s 180ms/step - loss: 0.2995 - auc: 0.8377 - accuracy: 0.8836 - val_loss: 0.3164 - val_auc: 0.8190 - val_accuracy: 0.8740\n",
            "Epoch 40/100\n",
            "244/244 [==============================] - 45s 178ms/step - loss: 0.2994 - auc: 0.8376 - accuracy: 0.8839 - val_loss: 0.3187 - val_auc: 0.8161 - val_accuracy: 0.8739\n",
            "Epoch 41/100\n",
            "244/244 [==============================] - 45s 183ms/step - loss: 0.2994 - auc: 0.8381 - accuracy: 0.8836 - val_loss: 0.3174 - val_auc: 0.8171 - val_accuracy: 0.8743\n",
            "Epoch 42/100\n",
            "243/244 [============================>.] - ETA: 0s - loss: 0.2972 - auc: 0.8397 - accuracy: 0.8849Epoch 43/100\n",
            "244/244 [==============================] - 45s 182ms/step - loss: 0.2951 - auc: 0.8442 - accuracy: 0.8847 - val_loss: 0.3152 - val_auc: 0.8204 - val_accuracy: 0.8752\n",
            "Epoch 44/100\n",
            "244/244 [==============================] - 45s 180ms/step - loss: 0.2946 - auc: 0.8424 - accuracy: 0.8869 - val_loss: 0.3161 - val_auc: 0.8178 - val_accuracy: 0.8737\n",
            "Epoch 45/100\n",
            "244/244 [==============================] - 45s 180ms/step - loss: 0.2937 - auc: 0.8437 - accuracy: 0.8861 - val_loss: 0.3138 - val_auc: 0.8222 - val_accuracy: 0.8750\n",
            "Epoch 46/100\n",
            "244/244 [==============================] - 44s 179ms/step - loss: 0.2935 - auc: 0.8442 - accuracy: 0.8871 - val_loss: 0.3135 - val_auc: 0.8220 - val_accuracy: 0.8759\n",
            "Epoch 47/100\n",
            "244/244 [==============================] - 44s 178ms/step - loss: 0.2935 - auc: 0.8432 - accuracy: 0.8856 - val_loss: 0.3127 - val_auc: 0.8229 - val_accuracy: 0.8762\n",
            "Epoch 48/100\n",
            "244/244 [==============================] - 45s 181ms/step - loss: 0.2913 - auc: 0.8469 - accuracy: 0.8869 - val_loss: 0.3148 - val_auc: 0.8192 - val_accuracy: 0.8748\n",
            "Epoch 49/100\n",
            "244/244 [==============================] - 44s 177ms/step - loss: 0.2899 - auc: 0.8485 - accuracy: 0.8890 - val_loss: 0.3118 - val_auc: 0.8241 - val_accuracy: 0.8766\n",
            "Epoch 50/100\n",
            "244/244 [==============================] - 44s 178ms/step - loss: 0.2889 - auc: 0.8498 - accuracy: 0.8886 - val_loss: 0.3117 - val_auc: 0.8240 - val_accuracy: 0.8768\n",
            "Epoch 51/100\n",
            "244/244 [==============================] - 43s 176ms/step - loss: 0.2871 - auc: 0.8515 - accuracy: 0.8892 - val_loss: 0.3131 - val_auc: 0.8211 - val_accuracy: 0.8757\n",
            "Epoch 52/100\n",
            "244/244 [==============================] - 45s 181ms/step - loss: 0.2860 - auc: 0.8514 - accuracy: 0.8913 - val_loss: 0.3135 - val_auc: 0.8215 - val_accuracy: 0.8749\n",
            "Epoch 53/100\n",
            "244/244 [==============================] - 44s 177ms/step - loss: 0.2860 - auc: 0.8523 - accuracy: 0.8896 - val_loss: 0.3113 - val_auc: 0.8259 - val_accuracy: 0.8750\n",
            "Epoch 54/100\n",
            "244/244 [==============================] - 53s 213ms/step - loss: 0.2851 - auc: 0.8529 - accuracy: 0.8910 - val_loss: 0.3099 - val_auc: 0.8252 - val_accuracy: 0.8768\n",
            "Epoch 55/100\n",
            "244/244 [==============================] - 45s 181ms/step - loss: 0.2856 - auc: 0.8533 - accuracy: 0.8906 - val_loss: 0.3100 - val_auc: 0.8242 - val_accuracy: 0.8764\n",
            "Epoch 56/100\n",
            "244/244 [==============================] - 45s 183ms/step - loss: 0.2818 - auc: 0.8568 - accuracy: 0.8922 - val_loss: 0.3104 - val_auc: 0.8270 - val_accuracy: 0.8771\n",
            "Epoch 57/100\n",
            "244/244 [==============================] - 44s 177ms/step - loss: 0.2819 - auc: 0.8560 - accuracy: 0.8924 - val_loss: 0.3091 - val_auc: 0.8266 - val_accuracy: 0.8775\n",
            "Epoch 58/100\n",
            "244/244 [==============================] - 45s 182ms/step - loss: 0.2806 - auc: 0.8591 - accuracy: 0.8931 - val_loss: 0.3092 - val_auc: 0.8284 - val_accuracy: 0.8773\n",
            "Epoch 59/100\n",
            "244/244 [==============================] - 45s 181ms/step - loss: 0.2810 - auc: 0.8577 - accuracy: 0.8919 - val_loss: 0.3081 - val_auc: 0.8280 - val_accuracy: 0.8780\n",
            "Epoch 60/100\n",
            "244/244 [==============================] - 45s 182ms/step - loss: 0.2785 - auc: 0.8606 - accuracy: 0.8914 - val_loss: 0.3080 - val_auc: 0.8289 - val_accuracy: 0.8791\n",
            "Epoch 61/100\n",
            "244/244 [==============================] - 45s 182ms/step - loss: 0.2770 - auc: 0.8619 - accuracy: 0.8942 - val_loss: 0.3077 - val_auc: 0.8274 - val_accuracy: 0.8775\n",
            "Epoch 62/100\n",
            "244/244 [==============================] - 43s 175ms/step - loss: 0.2769 - auc: 0.8630 - accuracy: 0.8936 - val_loss: 0.3078 - val_auc: 0.8291 - val_accuracy: 0.8788\n",
            "Epoch 63/100\n",
            "244/244 [==============================] - 45s 182ms/step - loss: 0.2762 - auc: 0.8633 - accuracy: 0.8941 - val_loss: 0.3078 - val_auc: 0.8267 - val_accuracy: 0.8773\n",
            "Epoch 64/100\n",
            "244/244 [==============================] - 45s 182ms/step - loss: 0.2740 - auc: 0.8655 - accuracy: 0.8955 - val_loss: 0.3079 - val_auc: 0.8282 - val_accuracy: 0.8785\n",
            "Epoch 65/100\n",
            "244/244 [==============================] - 43s 176ms/step - loss: 0.2746 - auc: 0.8642 - accuracy: 0.8952 - val_loss: 0.3068 - val_auc: 0.8281 - val_accuracy: 0.8794\n",
            "Epoch 66/100\n",
            "244/244 [==============================] - 44s 178ms/step - loss: 0.2721 - auc: 0.8686 - accuracy: 0.8954 - val_loss: 0.3124 - val_auc: 0.8256 - val_accuracy: 0.8758\n",
            "Epoch 67/100\n",
            "243/244 [============================>.] - ETA: 0s - loss: 0.2741 - auc: 0.8656 - accuracy: 0.8953Restoring model weights from the end of the best epoch: 62.\n",
            "244/244 [==============================] - 52s 209ms/step - loss: 0.2740 - auc: 0.8656 - accuracy: 0.8953 - val_loss: 0.3093 - val_auc: 0.8266 - val_accuracy: 0.8776\n",
            "Epoch 67: early stopping\n"
          ]
        }
      ],
      "source": [
        "run_hist = model.fit(normalized_data, validation_data=normalized_val_data, epochs=100,\n",
        "  callbacks=[keras.callbacks.EarlyStopping(\n",
        "                  monitor=\"val_auc\",\n",
        "                  min_delta=0,\n",
        "                  patience=5,\n",
        "                  verbose=1,\n",
        "                  mode=\"auto\",\n",
        "                  baseline=None,\n",
        "                  restore_best_weights=True,\n",
        "              )])"
      ]
    },
    {
      "cell_type": "code",
      "execution_count": null,
      "metadata": {
        "colab": {
          "base_uri": "https://localhost:8080/"
        },
        "id": "WTZOeokSR40Y",
        "outputId": "25cf8035-850c-4a5f-d483-70d5e72fc5d5"
      },
      "outputs": [
        {
          "name": "stdout",
          "output_type": "stream",
          "text": [
            "183/183 [==============================] - 20s 106ms/step - loss: 0.3124 - auc: 0.8209 - accuracy: 0.8770\n",
            "[0.3123529851436615, 0.8208897113800049, 0.8769824504852295]\n"
          ]
        }
      ],
      "source": [
        "results = model.evaluate(normalized_test_data)\n",
        "print(results)"
      ]
    },
    {
      "cell_type": "markdown",
      "metadata": {
        "id": "qaY4xbnr2k0T"
      },
      "source": [
        "# Com class_weights"
      ]
    },
    {
      "cell_type": "markdown",
      "metadata": {
        "id": "TPhOekA72pSX"
      },
      "source": [
        "#### N512-L1-D3"
      ]
    },
    {
      "cell_type": "code",
      "execution_count": null,
      "metadata": {
        "id": "xTKskaaC2pSX"
      },
      "outputs": [],
      "source": [
        "N = 512\n",
        "NAME = \"N512-L1-D3\"\n",
        "keras.backend.clear_session()"
      ]
    },
    {
      "cell_type": "code",
      "execution_count": null,
      "metadata": {
        "colab": {
          "base_uri": "https://localhost:8080/"
        },
        "id": "EbjK8i1O2pSY",
        "outputId": "05d2b769-ace0-41f9-d7ce-e29c45a14b95"
      },
      "outputs": [
        {
          "name": "stdout",
          "output_type": "stream",
          "text": [
            "Model: \"sequential\"\n",
            "_________________________________________________________________\n",
            " Layer (type)                Output Shape              Param #   \n",
            "=================================================================\n",
            " conv2d (Conv2D)             (None, 256, 256, 32)      896       \n",
            "                                                                 \n",
            " conv2d_1 (Conv2D)           (None, 128, 128, 32)      9248      \n",
            "                                                                 \n",
            " conv2d_2 (Conv2D)           (None, 64, 64, 64)        18496     \n",
            "                                                                 \n",
            " max_pooling2d (MaxPooling2D  (None, 32, 32, 64)       0         \n",
            " )                                                               \n",
            "                                                                 \n",
            " dense (Dense)               (None, 32, 32, 128)       8320      \n",
            "                                                                 \n",
            " flatten (Flatten)           (None, 131072)            0         \n",
            "                                                                 \n",
            " dense_1 (Dense)             (None, 512)               67109376  \n",
            "                                                                 \n",
            " dropout (Dropout)           (None, 512)               0         \n",
            "                                                                 \n",
            " dense_2 (Dense)             (None, 1)                 513       \n",
            "                                                                 \n",
            "=================================================================\n",
            "Total params: 67,146,849\n",
            "Trainable params: 67,146,849\n",
            "Non-trainable params: 0\n",
            "_________________________________________________________________\n"
          ]
        }
      ],
      "source": [
        "ins = image_batch.shape[1:]\n",
        "\n",
        "model = Sequential()\n",
        "\n",
        "model.add(Conv2D(32, (3,3), padding=\"same\", activation=\"relu\", input_shape=ins))\n",
        "\n",
        "model.add(Conv2D(32, (3,3), padding=\"same\", strides = (2,2), activation=\"relu\"))\n",
        "\n",
        "model.add(Conv2D(64, (3,3), padding=\"same\", strides = (2,2), activation=\"relu\"))\n",
        "\n",
        "model.add(MaxPooling2D(pool_size=(2, 2)))\n",
        "\n",
        "model.add(Dense(128, activation=\"relu\"))\n",
        "\n",
        "model.add(Flatten())\n",
        "\n",
        "model.add(Dense(N, activation=\"relu\"))\n",
        "\n",
        "model.add(Dropout(0.5))\n",
        "\n",
        "model.add(Dense(1, activation=\"sigmoid\"))\n",
        "\n",
        "model.summary()"
      ]
    },
    {
      "cell_type": "code",
      "execution_count": null,
      "metadata": {
        "id": "p9Zgvn4A2pSY"
      },
      "outputs": [],
      "source": [
        "model.compile(loss='binary_crossentropy', optimizer=optimizers.Adam(learning_rate=0.00001), metrics=[keras.metrics.AUC(), 'accuracy'])"
      ]
    },
    {
      "cell_type": "code",
      "execution_count": null,
      "metadata": {
        "colab": {
          "base_uri": "https://localhost:8080/"
        },
        "id": "G4a-QQVV2pSY",
        "outputId": "84d01531-00a3-45a5-b1ec-dd3f65953fe7"
      },
      "outputs": [
        {
          "name": "stdout",
          "output_type": "stream",
          "text": [
            "Epoch 1/100\n",
            "244/244 [==============================] - 72s 234ms/step - loss: 0.9783 - auc: 0.6881 - accuracy: 0.6707 - val_loss: 0.5615 - val_auc: 0.7580 - val_accuracy: 0.6463\n",
            "Epoch 2/100\n",
            "244/244 [==============================] - 57s 229ms/step - loss: 0.9129 - auc: 0.7481 - accuracy: 0.6810 - val_loss: 0.4919 - val_auc: 0.7840 - val_accuracy: 0.7304\n",
            "Epoch 3/100\n",
            "244/244 [==============================] - 56s 228ms/step - loss: 0.8716 - auc: 0.7793 - accuracy: 0.7144 - val_loss: 0.5109 - val_auc: 0.7973 - val_accuracy: 0.7087\n",
            "Epoch 5/100\n",
            "244/244 [==============================] - 56s 227ms/step - loss: 0.8553 - auc: 0.7900 - accuracy: 0.7204 - val_loss: 0.4949 - val_auc: 0.7994 - val_accuracy: 0.7331\n",
            "Epoch 6/100\n",
            "244/244 [==============================] - 57s 229ms/step - loss: 0.8491 - auc: 0.7940 - accuracy: 0.7265 - val_loss: 0.5016 - val_auc: 0.8007 - val_accuracy: 0.7262\n",
            "Epoch 7/100\n",
            "244/244 [==============================] - 56s 227ms/step - loss: 0.8333 - auc: 0.8009 - accuracy: 0.7380 - val_loss: 0.4699 - val_auc: 0.8030 - val_accuracy: 0.7553\n",
            "Epoch 8/100\n",
            "244/244 [==============================] - 64s 261ms/step - loss: 0.8249 - auc: 0.8068 - accuracy: 0.7442 - val_loss: 0.5020 - val_auc: 0.8058 - val_accuracy: 0.7263\n",
            "Epoch 9/100\n",
            "244/244 [==============================] - 56s 228ms/step - loss: 0.8171 - auc: 0.8111 - accuracy: 0.7457 - val_loss: 0.5119 - val_auc: 0.8074 - val_accuracy: 0.7200\n",
            "Epoch 10/100\n",
            "244/244 [==============================] - 56s 227ms/step - loss: 0.8090 - auc: 0.8146 - accuracy: 0.7515 - val_loss: 0.4808 - val_auc: 0.8082 - val_accuracy: 0.7478\n",
            "Epoch 11/100\n",
            "244/244 [==============================] - 56s 227ms/step - loss: 0.7959 - auc: 0.8226 - accuracy: 0.7632 - val_loss: 0.4569 - val_auc: 0.8083 - val_accuracy: 0.7710\n",
            "Epoch 12/100\n",
            "244/244 [==============================] - 56s 228ms/step - loss: 0.7888 - auc: 0.8259 - accuracy: 0.7647 - val_loss: 0.5206 - val_auc: 0.8110 - val_accuracy: 0.7154\n",
            "Epoch 13/100\n",
            "244/244 [==============================] - 56s 227ms/step - loss: 0.7772 - auc: 0.8325 - accuracy: 0.7700 - val_loss: 0.4615 - val_auc: 0.8090 - val_accuracy: 0.7714\n",
            "Epoch 14/100\n",
            "244/244 [==============================] - 56s 228ms/step - loss: 0.7681 - auc: 0.8375 - accuracy: 0.7742 - val_loss: 0.4873 - val_auc: 0.8131 - val_accuracy: 0.7448\n",
            "Epoch 15/100\n",
            "244/244 [==============================] - 56s 227ms/step - loss: 0.7635 - auc: 0.8391 - accuracy: 0.7800 - val_loss: 0.4710 - val_auc: 0.8153 - val_accuracy: 0.7560\n",
            "Epoch 16/100\n",
            "244/244 [==============================] - 56s 229ms/step - loss: 0.7567 - auc: 0.8425 - accuracy: 0.7827 - val_loss: 0.4968 - val_auc: 0.8166 - val_accuracy: 0.7386\n",
            "Epoch 17/100\n",
            "244/244 [==============================] - 56s 227ms/step - loss: 0.7396 - auc: 0.8514 - accuracy: 0.7884 - val_loss: 0.4428 - val_auc: 0.8144 - val_accuracy: 0.7864\n",
            "Epoch 18/100\n",
            "244/244 [==============================] - 56s 228ms/step - loss: 0.7296 - auc: 0.8563 - accuracy: 0.8005 - val_loss: 0.4993 - val_auc: 0.8177 - val_accuracy: 0.7380\n",
            "Epoch 19/100\n",
            "244/244 [==============================] - 56s 228ms/step - loss: 0.7269 - auc: 0.8574 - accuracy: 0.7942 - val_loss: 0.4655 - val_auc: 0.8178 - val_accuracy: 0.7679\n",
            "Epoch 20/100\n",
            "244/244 [==============================] - 56s 228ms/step - loss: 0.7078 - auc: 0.8663 - accuracy: 0.8055 - val_loss: 0.4259 - val_auc: 0.8172 - val_accuracy: 0.8011\n",
            "Epoch 21/100\n",
            "244/244 [==============================] - 56s 227ms/step - loss: 0.7042 - auc: 0.8675 - accuracy: 0.8098 - val_loss: 0.5218 - val_auc: 0.8188 - val_accuracy: 0.7226\n",
            "Epoch 22/100\n",
            "244/244 [==============================] - 56s 227ms/step - loss: 0.6942 - auc: 0.8719 - accuracy: 0.8134 - val_loss: 0.4588 - val_auc: 0.8177 - val_accuracy: 0.7780\n",
            "Epoch 23/100\n",
            "244/244 [==============================] - 60s 244ms/step - loss: 0.6850 - auc: 0.8758 - accuracy: 0.8151 - val_loss: 0.4565 - val_auc: 0.8175 - val_accuracy: 0.7803\n",
            "Epoch 24/100\n",
            "244/244 [==============================] - 64s 259ms/step - loss: 0.6766 - auc: 0.8796 - accuracy: 0.8205 - val_loss: 0.4050 - val_auc: 0.8174 - val_accuracy: 0.8187\n",
            "Epoch 25/100\n",
            "244/244 [==============================] - 56s 227ms/step - loss: 0.6702 - auc: 0.8815 - accuracy: 0.8256 - val_loss: 0.5061 - val_auc: 0.8210 - val_accuracy: 0.7389\n",
            "Epoch 26/100\n",
            "244/244 [==============================] - 56s 226ms/step - loss: 0.6726 - auc: 0.8806 - accuracy: 0.8200 - val_loss: 0.4432 - val_auc: 0.8209 - val_accuracy: 0.7885\n",
            "Epoch 27/100\n",
            "244/244 [==============================] - 56s 228ms/step - loss: 0.6522 - auc: 0.8892 - accuracy: 0.8289 - val_loss: 0.4394 - val_auc: 0.8198 - val_accuracy: 0.7940\n",
            "Epoch 28/100\n",
            "244/244 [==============================] - 55s 223ms/step - loss: 0.6462 - auc: 0.8914 - accuracy: 0.8329 - val_loss: 0.4185 - val_auc: 0.8201 - val_accuracy: 0.8086\n",
            "Epoch 29/100\n",
            "244/244 [==============================] - 56s 226ms/step - loss: 0.6357 - auc: 0.8961 - accuracy: 0.8394 - val_loss: 0.4410 - val_auc: 0.8208 - val_accuracy: 0.7925\n",
            "Epoch 30/100\n",
            "243/244 [============================>.] - ETA: 0s - loss: 0.6270 - auc: 0.8997 - accuracy: 0.8396Restoring model weights from the end of the best epoch: 25.\n",
            "244/244 [==============================] - 56s 226ms/step - loss: 0.6270 - auc: 0.8997 - accuracy: 0.8394 - val_loss: 0.3730 - val_auc: 0.8140 - val_accuracy: 0.8426\n",
            "Epoch 30: early stopping\n"
          ]
        }
      ],
      "source": [
        "run_hist = model.fit(normalized_data, validation_data=normalized_val_data, epochs=100, class_weight={0:1, 1:5}, \n",
        "  callbacks=[keras.callbacks.EarlyStopping(\n",
        "                  monitor=\"val_auc\",\n",
        "                  min_delta=0,\n",
        "                  patience=5,\n",
        "                  verbose=1,\n",
        "                  mode=\"auto\",\n",
        "                  baseline=None,\n",
        "                  restore_best_weights=True,\n",
        "              )])"
      ]
    },
    {
      "cell_type": "code",
      "execution_count": null,
      "metadata": {
        "colab": {
          "base_uri": "https://localhost:8080/"
        },
        "id": "Vxi7DQsu2pSY",
        "outputId": "e4b1e1b2-a831-4358-9851-2efae3543e74"
      },
      "outputs": [
        {
          "name": "stdout",
          "output_type": "stream",
          "text": [
            "183/183 [==============================] - 22s 115ms/step - loss: 0.5218 - auc: 0.8118 - accuracy: 0.7353\n",
            "[0.5217838883399963, 0.8118057250976562, 0.735276460647583]\n"
          ]
        }
      ],
      "source": [
        "results = model.evaluate(normalized_test_data)\n",
        "print(results)"
      ]
    },
    {
      "cell_type": "markdown",
      "metadata": {
        "id": "3fzt-yfFFbca"
      },
      "source": [
        "#### N512-L1-D3 testando class weights ao contrario"
      ]
    },
    {
      "cell_type": "code",
      "execution_count": null,
      "metadata": {
        "id": "gJwlvEIaFbca"
      },
      "outputs": [],
      "source": [
        "N = 512\n",
        "NAME = \"N512-L1-D3\"\n",
        "keras.backend.clear_session()"
      ]
    },
    {
      "cell_type": "code",
      "execution_count": null,
      "metadata": {
        "colab": {
          "base_uri": "https://localhost:8080/"
        },
        "id": "G8Hik6VaFbca",
        "outputId": "ef90c3b7-5460-487c-a1ee-956446ae100a"
      },
      "outputs": [
        {
          "name": "stdout",
          "output_type": "stream",
          "text": [
            "Model: \"sequential\"\n",
            "_________________________________________________________________\n",
            " Layer (type)                Output Shape              Param #   \n",
            "=================================================================\n",
            " conv2d (Conv2D)             (None, 256, 256, 32)      896       \n",
            "                                                                 \n",
            " conv2d_1 (Conv2D)           (None, 128, 128, 32)      9248      \n",
            "                                                                 \n",
            " conv2d_2 (Conv2D)           (None, 64, 64, 64)        18496     \n",
            "                                                                 \n",
            " max_pooling2d (MaxPooling2D  (None, 32, 32, 64)       0         \n",
            " )                                                               \n",
            "                                                                 \n",
            " dense (Dense)               (None, 32, 32, 128)       8320      \n",
            "                                                                 \n",
            " flatten (Flatten)           (None, 131072)            0         \n",
            "                                                                 \n",
            " dense_1 (Dense)             (None, 512)               67109376  \n",
            "                                                                 \n",
            " dropout (Dropout)           (None, 512)               0         \n",
            "                                                                 \n",
            " dense_2 (Dense)             (None, 1)                 513       \n",
            "                                                                 \n",
            "=================================================================\n",
            "Total params: 67,146,849\n",
            "Trainable params: 67,146,849\n",
            "Non-trainable params: 0\n",
            "_________________________________________________________________\n"
          ]
        }
      ],
      "source": [
        "ins = image_batch.shape[1:]\n",
        "\n",
        "model = Sequential()\n",
        "\n",
        "model.add(Conv2D(32, (3,3), padding=\"same\", activation=\"relu\", input_shape=ins))\n",
        "\n",
        "model.add(Conv2D(32, (3,3), padding=\"same\", strides = (2,2), activation=\"relu\"))\n",
        "\n",
        "model.add(Conv2D(64, (3,3), padding=\"same\", strides = (2,2), activation=\"relu\"))\n",
        "\n",
        "model.add(MaxPooling2D(pool_size=(2, 2)))\n",
        "\n",
        "model.add(Dense(128, activation=\"relu\"))\n",
        "\n",
        "model.add(Flatten())\n",
        "\n",
        "model.add(Dense(N, activation=\"relu\"))\n",
        "\n",
        "model.add(Dropout(0.5))\n",
        "\n",
        "model.add(Dense(1, activation=\"sigmoid\"))\n",
        "\n",
        "model.summary()"
      ]
    },
    {
      "cell_type": "code",
      "execution_count": null,
      "metadata": {
        "id": "73cYseJsFbca"
      },
      "outputs": [],
      "source": [
        "model.compile(loss='binary_crossentropy', optimizer=optimizers.Adam(learning_rate=0.00001), metrics=[keras.metrics.AUC(), 'accuracy'])"
      ]
    },
    {
      "cell_type": "code",
      "execution_count": null,
      "metadata": {
        "colab": {
          "base_uri": "https://localhost:8080/"
        },
        "id": "_VbwfmcoFbca",
        "outputId": "9547cfaa-ea12-46cd-ab37-798728d052d1"
      },
      "outputs": [
        {
          "name": "stdout",
          "output_type": "stream",
          "text": [
            "Epoch 1/100\n",
            "244/244 [==============================] - 59s 232ms/step - loss: 0.8294 - auc: 0.5736 - accuracy: 0.8590 - val_loss: 0.4688 - val_auc: 0.7484 - val_accuracy: 0.8581\n",
            "Epoch 2/100\n",
            "244/244 [==============================] - 56s 228ms/step - loss: 0.5760 - auc: 0.7304 - accuracy: 0.8597 - val_loss: 0.4365 - val_auc: 0.7748 - val_accuracy: 0.8581\n",
            "Epoch 3/100\n",
            "244/244 [==============================] - 56s 228ms/step - loss: 0.5641 - auc: 0.7541 - accuracy: 0.8597 - val_loss: 0.4560 - val_auc: 0.7865 - val_accuracy: 0.8581\n",
            "Epoch 4/100\n",
            "244/244 [==============================] - 56s 226ms/step - loss: 0.5562 - auc: 0.7693 - accuracy: 0.8597 - val_loss: 0.4430 - val_auc: 0.7908 - val_accuracy: 0.8581\n",
            "Epoch 5/100\n",
            "244/244 [==============================] - 56s 227ms/step - loss: 0.5502 - auc: 0.7785 - accuracy: 0.8597 - val_loss: 0.4501 - val_auc: 0.7951 - val_accuracy: 0.8581\n",
            "Epoch 6/100\n",
            "244/244 [==============================] - 57s 231ms/step - loss: 0.5471 - auc: 0.7822 - accuracy: 0.8597 - val_loss: 0.4272 - val_auc: 0.7964 - val_accuracy: 0.8581\n",
            "Epoch 7/100\n",
            "244/244 [==============================] - 56s 228ms/step - loss: 0.5454 - auc: 0.7839 - accuracy: 0.8597 - val_loss: 0.4282 - val_auc: 0.7991 - val_accuracy: 0.8581\n",
            "244/244 [==============================] - 57s 229ms/step - loss: 0.5385 - auc: 0.7926 - accuracy: 0.8597 - val_loss: 0.4467 - val_auc: 0.8009 - val_accuracy: 0.8581\n",
            "Epoch 9/100\n",
            "244/244 [==============================] - 56s 226ms/step - loss: 0.5349 - auc: 0.7956 - accuracy: 0.8597 - val_loss: 0.4175 - val_auc: 0.8037 - val_accuracy: 0.8581\n",
            "Epoch 10/100\n",
            "244/244 [==============================] - 56s 227ms/step - loss: 0.5326 - auc: 0.7997 - accuracy: 0.8597 - val_loss: 0.4323 - val_auc: 0.8034 - val_accuracy: 0.8581\n",
            "Epoch 11/100\n",
            "244/244 [==============================] - 56s 227ms/step - loss: 0.5246 - auc: 0.8076 - accuracy: 0.8597 - val_loss: 0.4176 - val_auc: 0.8054 - val_accuracy: 0.8581\n",
            "Epoch 12/100\n",
            "244/244 [==============================] - 56s 228ms/step - loss: 0.5232 - auc: 0.8082 - accuracy: 0.8597 - val_loss: 0.4211 - val_auc: 0.8072 - val_accuracy: 0.8581\n",
            "Epoch 13/100\n",
            "244/244 [==============================] - 56s 228ms/step - loss: 0.5208 - auc: 0.8110 - accuracy: 0.8597 - val_loss: 0.4184 - val_auc: 0.8082 - val_accuracy: 0.8581\n",
            "Epoch 14/100\n",
            "243/244 [============================>.] - ETA: 0s - loss: 0.5154 - auc: 0.8180 - accuracy: 0.8597Epoch 15/100\n",
            "244/244 [==============================] - 64s 260ms/step - loss: 0.5122 - auc: 0.8199 - accuracy: 0.8597 - val_loss: 0.4029 - val_auc: 0.8087 - val_accuracy: 0.8581\n",
            "Epoch 16/100\n",
            "244/244 [==============================] - 57s 229ms/step - loss: 0.5086 - auc: 0.8249 - accuracy: 0.8597 - val_loss: 0.4100 - val_auc: 0.8099 - val_accuracy: 0.8581\n",
            "Epoch 17/100\n",
            "244/244 [==============================] - 56s 227ms/step - loss: 0.5044 - auc: 0.8267 - accuracy: 0.8597 - val_loss: 0.3828 - val_auc: 0.8116 - val_accuracy: 0.8581\n",
            "Epoch 18/100\n",
            "244/244 [==============================] - 56s 226ms/step - loss: 0.5014 - auc: 0.8305 - accuracy: 0.8597 - val_loss: 0.4117 - val_auc: 0.8116 - val_accuracy: 0.8581\n",
            "Epoch 19/100\n",
            "244/244 [==============================] - 56s 227ms/step - loss: 0.4949 - auc: 0.8363 - accuracy: 0.8597 - val_loss: 0.4107 - val_auc: 0.8134 - val_accuracy: 0.8581\n",
            "Epoch 20/100\n",
            "244/244 [==============================] - 56s 227ms/step - loss: 0.4911 - auc: 0.8393 - accuracy: 0.8597 - val_loss: 0.4374 - val_auc: 0.8116 - val_accuracy: 0.8581\n",
            "Epoch 21/100\n",
            "244/244 [==============================] - 56s 227ms/step - loss: 0.4878 - auc: 0.8430 - accuracy: 0.8597 - val_loss: 0.4138 - val_auc: 0.8147 - val_accuracy: 0.8581\n",
            "Epoch 22/100\n",
            "244/244 [==============================] - 56s 227ms/step - loss: 0.4843 - auc: 0.8461 - accuracy: 0.8597 - val_loss: 0.4356 - val_auc: 0.8127 - val_accuracy: 0.8581\n",
            "Epoch 23/100\n",
            "244/244 [==============================] - 56s 227ms/step - loss: 0.4824 - auc: 0.8457 - accuracy: 0.8597 - val_loss: 0.4510 - val_auc: 0.8105 - val_accuracy: 0.8581\n",
            "Epoch 24/100\n",
            "244/244 [==============================] - 56s 228ms/step - loss: 0.4791 - auc: 0.8483 - accuracy: 0.8597 - val_loss: 0.4172 - val_auc: 0.8145 - val_accuracy: 0.8581\n",
            "Epoch 25/100\n",
            "244/244 [==============================] - 56s 227ms/step - loss: 0.4742 - auc: 0.8542 - accuracy: 0.8599 - val_loss: 0.4512 - val_auc: 0.8097 - val_accuracy: 0.8581\n",
            "Epoch 26/100\n",
            "244/244 [==============================] - 56s 228ms/step - loss: 0.4684 - auc: 0.8589 - accuracy: 0.8599 - val_loss: 0.4263 - val_auc: 0.8152 - val_accuracy: 0.8581\n",
            "Epoch 27/100\n",
            "244/244 [==============================] - 64s 260ms/step - loss: 0.4642 - auc: 0.8629 - accuracy: 0.8599 - val_loss: 0.4349 - val_auc: 0.8129 - val_accuracy: 0.8582\n",
            "Epoch 28/100\n",
            "244/244 [==============================] - 56s 228ms/step - loss: 0.4641 - auc: 0.8606 - accuracy: 0.8601 - val_loss: 0.4287 - val_auc: 0.8137 - val_accuracy: 0.8582\n",
            "Epoch 29/100\n",
            "244/244 [==============================] - 56s 228ms/step - loss: 0.4588 - auc: 0.8670 - accuracy: 0.8604 - val_loss: 0.4109 - val_auc: 0.8156 - val_accuracy: 0.8582\n",
            "Epoch 30/100\n",
            "244/244 [==============================] - 56s 229ms/step - loss: 0.4559 - auc: 0.8691 - accuracy: 0.8600 - val_loss: 0.4280 - val_auc: 0.8169 - val_accuracy: 0.8582\n",
            "Epoch 31/100\n",
            "244/244 [==============================] - 56s 227ms/step - loss: 0.4506 - auc: 0.8731 - accuracy: 0.8603 - val_loss: 0.4102 - val_auc: 0.8161 - val_accuracy: 0.8584\n",
            "Epoch 32/100\n",
            "244/244 [==============================] - 64s 260ms/step - loss: 0.4467 - auc: 0.8732 - accuracy: 0.8608 - val_loss: 0.4123 - val_auc: 0.8157 - val_accuracy: 0.8586\n",
            "Epoch 33/100\n",
            "244/244 [==============================] - 57s 229ms/step - loss: 0.4434 - auc: 0.8759 - accuracy: 0.8619 - val_loss: 0.4347 - val_auc: 0.8135 - val_accuracy: 0.8586\n",
            "Epoch 34/100\n",
            "244/244 [==============================] - 57s 229ms/step - loss: 0.4442 - auc: 0.8748 - accuracy: 0.8622 - val_loss: 0.3893 - val_auc: 0.8174 - val_accuracy: 0.8588\n",
            "Epoch 35/100\n",
            "244/244 [==============================] - 57s 230ms/step - loss: 0.4373 - auc: 0.8813 - accuracy: 0.8614 - val_loss: 0.4384 - val_auc: 0.8133 - val_accuracy: 0.8586\n",
            "Epoch 36/100\n",
            "244/244 [==============================] - 58s 233ms/step - loss: 0.4322 - auc: 0.8850 - accuracy: 0.8628 - val_loss: 0.4091 - val_auc: 0.8176 - val_accuracy: 0.8587\n",
            "Epoch 37/100\n",
            "244/244 [==============================] - 57s 231ms/step - loss: 0.4286 - auc: 0.8868 - accuracy: 0.8624 - val_loss: 0.3881 - val_auc: 0.8171 - val_accuracy: 0.8606\n",
            "Epoch 38/100\n",
            "244/244 [==============================] - 57s 231ms/step - loss: 0.4270 - auc: 0.8874 - accuracy: 0.8633 - val_loss: 0.4520 - val_auc: 0.8104 - val_accuracy: 0.8586\n",
            "Epoch 39/100\n",
            "244/244 [==============================] - 57s 232ms/step - loss: 0.4225 - auc: 0.8897 - accuracy: 0.8631 - val_loss: 0.4010 - val_auc: 0.8176 - val_accuracy: 0.8597\n",
            "Epoch 40/100\n",
            "244/244 [==============================] - 57s 231ms/step - loss: 0.4189 - auc: 0.8932 - accuracy: 0.8638 - val_loss: 0.3846 - val_auc: 0.8199 - val_accuracy: 0.8617\n",
            "Epoch 41/100\n",
            "244/244 [==============================] - 58s 235ms/step - loss: 0.4164 - auc: 0.8946 - accuracy: 0.8664 - val_loss: 0.4226 - val_auc: 0.8163 - val_accuracy: 0.8609\n",
            "Epoch 42/100\n",
            "244/244 [==============================] - 57s 229ms/step - loss: 0.4125 - auc: 0.8956 - accuracy: 0.8665 - val_loss: 0.4182 - val_auc: 0.8157 - val_accuracy: 0.8613\n",
            "Epoch 43/100\n",
            "244/244 [==============================] - 57s 233ms/step - loss: 0.4063 - auc: 0.8995 - accuracy: 0.8682 - val_loss: 0.4100 - val_auc: 0.8178 - val_accuracy: 0.8624\n",
            "Epoch 44/100\n",
            "244/244 [==============================] - 57s 231ms/step - loss: 0.4048 - auc: 0.9011 - accuracy: 0.8689 - val_loss: 0.3836 - val_auc: 0.8171 - val_accuracy: 0.8636\n",
            "Epoch 45/100\n",
            "243/244 [============================>.] - ETA: 0s - loss: 0.4007 - auc: 0.9031 - accuracy: 0.8695Restoring model weights from the end of the best epoch: 40.\n",
            "244/244 [==============================] - 57s 230ms/step - loss: 0.4006 - auc: 0.9031 - accuracy: 0.8696 - val_loss: 0.4101 - val_auc: 0.8148 - val_accuracy: 0.8627\n",
            "Epoch 45: early stopping\n"
          ]
        }
      ],
      "source": [
        "run_hist = model.fit(normalized_data, validation_data=normalized_val_data, epochs=100, class_weight={1:1, 0:5}, \n",
        "  callbacks=[keras.callbacks.EarlyStopping(\n",
        "                  monitor=\"val_auc\",\n",
        "                  min_delta=0,\n",
        "                  patience=5,\n",
        "                  verbose=1,\n",
        "                  mode=\"auto\",\n",
        "                  baseline=None,\n",
        "                  restore_best_weights=True,\n",
        "              )])"
      ]
    },
    {
      "cell_type": "code",
      "execution_count": null,
      "metadata": {
        "colab": {
          "base_uri": "https://localhost:8080/"
        },
        "id": "FRprgFeHFbca",
        "outputId": "68d96ff0-ae1d-4ee7-d710-0eb7fd636d03"
      },
      "outputs": [
        {
          "name": "stdout",
          "output_type": "stream",
          "text": [
            "183/183 [==============================] - 22s 115ms/step - loss: 0.3873 - auc: 0.8096 - accuracy: 0.8624\n",
            "[0.38727813959121704, 0.8095946907997131, 0.8624089360237122]\n"
          ]
        }
      ],
      "source": [
        "results = model.evaluate(normalized_test_data)\n",
        "print(results)"
      ]
    },
    {
      "cell_type": "markdown",
      "metadata": {
        "id": "whm-Mx3imlKp"
      },
      "source": [
        "#### N1024-L1-D4"
      ]
    },
    {
      "cell_type": "code",
      "execution_count": null,
      "metadata": {
        "id": "eV9LPCeXmlKp"
      },
      "outputs": [],
      "source": [
        "N = 1024\n",
        "NAME = \"N1024-L1-D4\"\n",
        "keras.backend.clear_session()"
      ]
    },
    {
      "cell_type": "code",
      "execution_count": null,
      "metadata": {
        "colab": {
          "base_uri": "https://localhost:8080/"
        },
        "id": "fesnVOz2mlKp",
        "outputId": "6022b5f4-eee3-4575-be99-74f3d3f966be"
      },
      "outputs": [
        {
          "name": "stdout",
          "output_type": "stream",
          "text": [
            "Model: \"sequential\"\n",
            "_________________________________________________________________\n",
            " Layer (type)                Output Shape              Param #   \n",
            "=================================================================\n",
            " conv2d (Conv2D)             (None, 256, 256, 32)      896       \n",
            "                                                                 \n",
            " conv2d_1 (Conv2D)           (None, 128, 128, 32)      9248      \n",
            "                                                                 \n",
            " conv2d_2 (Conv2D)           (None, 64, 64, 64)        18496     \n",
            "                                                                 \n",
            " max_pooling2d (MaxPooling2D  (None, 32, 32, 64)       0         \n",
            " )                                                               \n",
            "                                                                 \n",
            " dense (Dense)               (None, 32, 32, 128)       8320      \n",
            "                                                                 \n",
            " flatten (Flatten)           (None, 131072)            0         \n",
            "                                                                 \n",
            " dense_1 (Dense)             (None, 1024)              134218752 \n",
            "                                                                 \n",
            " dropout (Dropout)           (None, 1024)              0         \n",
            "                                                                 \n",
            " dense_2 (Dense)             (None, 1)                 1025      \n",
            "                                                                 \n",
            "=================================================================\n",
            "Total params: 134,256,737\n",
            "Trainable params: 134,256,737\n",
            "Non-trainable params: 0\n",
            "_________________________________________________________________\n"
          ]
        }
      ],
      "source": [
        "ins = image_batch.shape[1:]\n",
        "\n",
        "model = Sequential()\n",
        "\n",
        "model.add(Conv2D(32, (3,3), padding=\"same\", activation=\"relu\", input_shape=ins))\n",
        "\n",
        "model.add(Conv2D(32, (3,3), padding=\"same\", strides = (2,2), activation=\"relu\"))\n",
        "\n",
        "model.add(Conv2D(64, (3,3), padding=\"same\", strides = (2,2), activation=\"relu\"))\n",
        "\n",
        "model.add(MaxPooling2D(pool_size=(2, 2)))\n",
        "\n",
        "model.add(Dense(128, activation=\"relu\"))\n",
        "\n",
        "model.add(Flatten())\n",
        "\n",
        "model.add(Dense(N, activation=\"relu\"))\n",
        "\n",
        "model.add(Dropout(0.5))\n",
        "\n",
        "model.add(Dense(1, activation=\"sigmoid\"))\n",
        "\n",
        "model.summary()"
      ]
    },
    {
      "cell_type": "code",
      "execution_count": null,
      "metadata": {
        "id": "QrU5YUjamlKp"
      },
      "outputs": [],
      "source": [
        "model.compile(loss='binary_crossentropy', optimizer=optimizers.Adam(learning_rate=0.00001), metrics=[keras.metrics.AUC(), 'accuracy'])"
      ]
    },
    {
      "cell_type": "code",
      "execution_count": null,
      "metadata": {
        "colab": {
          "base_uri": "https://localhost:8080/"
        },
        "id": "2Mnb-U5SmlKq",
        "outputId": "1e8a8f47-be13-4e5f-fbab-9e53ebaac4b4"
      },
      "outputs": [
        {
          "name": "stdout",
          "output_type": "stream",
          "text": [
            "Epoch 1/100\n",
            "244/244 [==============================] - 63s 254ms/step - loss: 0.9723 - auc: 0.6941 - accuracy: 0.6750 - val_loss: 0.4922 - val_auc: 0.7691 - val_accuracy: 0.7371\n",
            "Epoch 2/100\n",
            "244/244 [==============================] - 62s 251ms/step - loss: 0.9087 - auc: 0.7523 - accuracy: 0.6948 - val_loss: 0.5129 - val_auc: 0.7858 - val_accuracy: 0.7143\n",
            "Epoch 3/100\n",
            "244/244 [==============================] - 61s 246ms/step - loss: 0.8835 - auc: 0.7709 - accuracy: 0.7148 - val_loss: 0.5862 - val_auc: 0.7917 - val_accuracy: 0.6464\n",
            "Epoch 4/100\n",
            "244/244 [==============================] - 61s 246ms/step - loss: 0.8717 - auc: 0.7773 - accuracy: 0.7185 - val_loss: 0.5764 - val_auc: 0.7969 - val_accuracy: 0.6590\n",
            "Epoch 5/100\n",
            "244/244 [==============================] - 61s 248ms/step - loss: 0.8562 - auc: 0.7883 - accuracy: 0.7252 - val_loss: 0.5059 - val_auc: 0.7985 - val_accuracy: 0.7249\n",
            "Epoch 6/100\n",
            "244/244 [==============================] - 61s 247ms/step - loss: 0.8417 - auc: 0.7960 - accuracy: 0.7352 - val_loss: 0.5551 - val_auc: 0.8022 - val_accuracy: 0.6837\n",
            "Epoch 7/100\n",
            "244/244 [==============================] - 61s 246ms/step - loss: 0.8321 - auc: 0.8034 - accuracy: 0.7380 - val_loss: 0.4832 - val_auc: 0.8054 - val_accuracy: 0.7425\n",
            "Epoch 8/100\n",
            "244/244 [==============================] - 60s 244ms/step - loss: 0.8171 - auc: 0.8101 - accuracy: 0.7460 - val_loss: 0.4975 - val_auc: 0.8073 - val_accuracy: 0.7321\n",
            "Epoch 9/100\n",
            "244/244 [==============================] - 61s 245ms/step - loss: 0.8032 - auc: 0.8188 - accuracy: 0.7546 - val_loss: 0.5389 - val_auc: 0.8097 - val_accuracy: 0.7012\n",
            "Epoch 10/100\n",
            "244/244 [==============================] - 61s 246ms/step - loss: 0.7970 - auc: 0.8205 - accuracy: 0.7589 - val_loss: 0.4530 - val_auc: 0.8101 - val_accuracy: 0.7711\n",
            "Epoch 11/100\n",
            "244/244 [==============================] - 61s 246ms/step - loss: 0.7792 - auc: 0.8316 - accuracy: 0.7692 - val_loss: 0.4578 - val_auc: 0.8110 - val_accuracy: 0.7700\n",
            "Epoch 12/100\n",
            "244/244 [==============================] - 61s 247ms/step - loss: 0.7685 - auc: 0.8374 - accuracy: 0.7762 - val_loss: 0.4683 - val_auc: 0.8125 - val_accuracy: 0.7600\n",
            "Epoch 13/100\n",
            "244/244 [==============================] - 61s 246ms/step - loss: 0.7567 - auc: 0.8438 - accuracy: 0.7807 - val_loss: 0.4340 - val_auc: 0.8139 - val_accuracy: 0.7934\n",
            "Epoch 14/100\n",
            "244/244 [==============================] - 61s 246ms/step - loss: 0.7494 - auc: 0.8466 - accuracy: 0.7831 - val_loss: 0.4103 - val_auc: 0.8142 - val_accuracy: 0.8091\n",
            "Epoch 15/100\n",
            "244/244 [==============================] - 62s 251ms/step - loss: 0.7383 - auc: 0.8516 - accuracy: 0.7893 - val_loss: 0.4860 - val_auc: 0.8190 - val_accuracy: 0.7472\n",
            "Epoch 16/100\n",
            "244/244 [==============================] - 60s 245ms/step - loss: 0.7258 - auc: 0.8570 - accuracy: 0.7944 - val_loss: 0.4098 - val_auc: 0.8163 - val_accuracy: 0.8167\n",
            "Epoch 17/100\n",
            "244/244 [==============================] - 60s 244ms/step - loss: 0.7132 - auc: 0.8644 - accuracy: 0.8050 - val_loss: 0.4238 - val_auc: 0.8161 - val_accuracy: 0.8021\n",
            "Epoch 18/100\n",
            "244/244 [==============================] - 60s 245ms/step - loss: 0.6993 - auc: 0.8704 - accuracy: 0.8072 - val_loss: 0.3832 - val_auc: 0.8135 - val_accuracy: 0.8383\n",
            "Epoch 19/100\n",
            "244/244 [==============================] - 61s 245ms/step - loss: 0.7016 - auc: 0.8697 - accuracy: 0.8110 - val_loss: 0.4993 - val_auc: 0.8211 - val_accuracy: 0.7413\n",
            "Epoch 20/100\n",
            "244/244 [==============================] - 61s 248ms/step - loss: 0.6802 - auc: 0.8781 - accuracy: 0.8167 - val_loss: 0.4253 - val_auc: 0.8185 - val_accuracy: 0.8024\n",
            "Epoch 21/100\n",
            "244/244 [==============================] - 60s 244ms/step - loss: 0.6719 - auc: 0.8814 - accuracy: 0.8208 - val_loss: 0.4629 - val_auc: 0.8201 - val_accuracy: 0.7720\n",
            "Epoch 22/100\n",
            "244/244 [==============================] - 61s 246ms/step - loss: 0.6622 - auc: 0.8853 - accuracy: 0.8246 - val_loss: 0.4141 - val_auc: 0.8190 - val_accuracy: 0.8120\n",
            "Epoch 23/100\n",
            "244/244 [==============================] - 60s 245ms/step - loss: 0.6532 - auc: 0.8890 - accuracy: 0.8286 - val_loss: 0.4080 - val_auc: 0.8201 - val_accuracy: 0.8181\n",
            "Epoch 24/100\n",
            "243/244 [============================>.] - ETA: 0s - loss: 0.6395 - auc: 0.8943 - accuracy: 0.8363Restoring model weights from the end of the best epoch: 19.\n",
            "244/244 [==============================] - 61s 247ms/step - loss: 0.6394 - auc: 0.8943 - accuracy: 0.8363 - val_loss: 0.4060 - val_auc: 0.8190 - val_accuracy: 0.8201\n",
            "Epoch 24: early stopping\n"
          ]
        }
      ],
      "source": [
        "run_hist = model.fit(normalized_data, validation_data=normalized_val_data, epochs=100, class_weight={0:1, 1:5},\n",
        "  callbacks=[keras.callbacks.EarlyStopping(\n",
        "                  monitor=\"val_auc\",\n",
        "                  min_delta=0,\n",
        "                  patience=5,\n",
        "                  verbose=1,\n",
        "                  mode=\"auto\",\n",
        "                  baseline=None,\n",
        "                  restore_best_weights=True,\n",
        "              )])"
      ]
    },
    {
      "cell_type": "code",
      "execution_count": null,
      "metadata": {
        "colab": {
          "base_uri": "https://localhost:8080/"
        },
        "id": "qE98NVwsmlKq",
        "outputId": "734b27bd-7b7e-4005-ab44-0b60a8f029a2"
      },
      "outputs": [
        {
          "name": "stdout",
          "output_type": "stream",
          "text": [
            "183/183 [==============================] - 20s 105ms/step - loss: 0.5143 - auc: 0.8073 - accuracy: 0.7348\n",
            "[0.5142663717269897, 0.8073198795318604, 0.7347621321678162]\n"
          ]
        }
      ],
      "source": [
        "results = model.evaluate(normalized_test_data)\n",
        "print(results)"
      ]
    },
    {
      "cell_type": "markdown",
      "metadata": {
        "id": "wWLkFLl5reEP"
      },
      "source": [
        "#### N512-L1-D3 com + pooling"
      ]
    },
    {
      "cell_type": "code",
      "execution_count": null,
      "metadata": {
        "id": "R7X7-J_JreEQ"
      },
      "outputs": [],
      "source": [
        "N = 512\n",
        "NAME = \"N512-L1-D3\"\n",
        "keras.backend.clear_session()"
      ]
    },
    {
      "cell_type": "code",
      "execution_count": null,
      "metadata": {
        "colab": {
          "base_uri": "https://localhost:8080/"
        },
        "id": "5pREzgK5reEQ",
        "outputId": "3c732369-603e-4b5f-a4fb-cad2672186e8"
      },
      "outputs": [
        {
          "name": "stdout",
          "output_type": "stream",
          "text": [
            "Model: \"sequential\"\n",
            "_________________________________________________________________\n",
            " Layer (type)                Output Shape              Param #   \n",
            "=================================================================\n",
            " conv2d (Conv2D)             (None, 256, 256, 32)      896       \n",
            "                                                                 \n",
            " max_pooling2d (MaxPooling2D  (None, 128, 128, 32)     0         \n",
            " )                                                               \n",
            "                                                                 \n",
            " conv2d_1 (Conv2D)           (None, 64, 64, 32)        9248      \n",
            "                                                                 \n",
            " max_pooling2d_1 (MaxPooling  (None, 32, 32, 32)       0         \n",
            " 2D)                                                             \n",
            "                                                                 \n",
            " conv2d_2 (Conv2D)           (None, 16, 16, 64)        18496     \n",
            "                                                                 \n",
            " max_pooling2d_2 (MaxPooling  (None, 8, 8, 64)         0         \n",
            " 2D)                                                             \n",
            "                                                                 \n",
            " dense (Dense)               (None, 8, 8, 128)         8320      \n",
            "                                                                 \n",
            " flatten (Flatten)           (None, 8192)              0         \n",
            "                                                                 \n",
            " dense_1 (Dense)             (None, 512)               4194816   \n",
            "                                                                 \n",
            " dropout (Dropout)           (None, 512)               0         \n",
            "                                                                 \n",
            " dense_2 (Dense)             (None, 1)                 513       \n",
            "                                                                 \n",
            "=================================================================\n",
            "Total params: 4,232,289\n",
            "Trainable params: 4,232,289\n",
            "Non-trainable params: 0\n",
            "_________________________________________________________________\n"
          ]
        }
      ],
      "source": [
        "ins = image_batch.shape[1:]\n",
        "\n",
        "model = Sequential()\n",
        "\n",
        "model.add(Conv2D(32, (3,3), padding=\"same\", activation=\"relu\", input_shape=ins))\n",
        "\n",
        "model.add(MaxPooling2D(pool_size=(2, 2)))\n",
        "\n",
        "model.add(Conv2D(32, (3,3), padding=\"same\", strides = (2,2), activation=\"relu\"))\n",
        "\n",
        "model.add(MaxPooling2D(pool_size=(2, 2)))\n",
        "\n",
        "model.add(Conv2D(64, (3,3), padding=\"same\", strides = (2,2), activation=\"relu\"))\n",
        "\n",
        "model.add(MaxPooling2D(pool_size=(2, 2)))\n",
        "\n",
        "model.add(Dense(128, activation=\"relu\"))\n",
        "\n",
        "model.add(Flatten())\n",
        "\n",
        "model.add(Dense(N, activation=\"relu\"))\n",
        "\n",
        "model.add(Dropout(0.5))\n",
        "\n",
        "model.add(Dense(1, activation=\"sigmoid\"))\n",
        "\n",
        "model.summary()"
      ]
    },
    {
      "cell_type": "code",
      "execution_count": null,
      "metadata": {
        "id": "G4br9rBTreEQ"
      },
      "outputs": [],
      "source": [
        "model.compile(loss='binary_crossentropy', optimizer=optimizers.Adam(learning_rate=0.00001), metrics=[keras.metrics.AUC(), 'accuracy'])"
      ]
    },
    {
      "cell_type": "code",
      "execution_count": null,
      "metadata": {
        "colab": {
          "base_uri": "https://localhost:8080/"
        },
        "id": "9hmXCcmEreEQ",
        "outputId": "d41361db-24a4-420c-cde9-ed582ed9401c"
      },
      "outputs": [
        {
          "name": "stdout",
          "output_type": "stream",
          "text": [
            "Epoch 1/100\n",
            "244/244 [==============================] - 74s 242ms/step - loss: 1.0367 - auc: 0.6163 - accuracy: 0.7224 - val_loss: 0.6132 - val_auc: 0.6938 - val_accuracy: 0.6525\n",
            "Epoch 2/100\n",
            "244/244 [==============================] - 47s 190ms/step - loss: 0.9774 - auc: 0.6936 - accuracy: 0.6544 - val_loss: 0.5621 - val_auc: 0.7315 - val_accuracy: 0.6674\n",
            "Epoch 3/100\n",
            "244/244 [==============================] - 48s 194ms/step - loss: 0.9441 - auc: 0.7222 - accuracy: 0.6644 - val_loss: 0.5394 - val_auc: 0.7537 - val_accuracy: 0.6716\n",
            "Epoch 4/100\n",
            "244/244 [==============================] - 42s 170ms/step - loss: 0.9251 - auc: 0.7380 - accuracy: 0.6732 - val_loss: 0.5352 - val_auc: 0.7675 - val_accuracy: 0.6785\n",
            "Epoch 5/100\n",
            "244/244 [==============================] - 44s 179ms/step - loss: 0.9078 - auc: 0.7537 - accuracy: 0.6883 - val_loss: 0.5388 - val_auc: 0.7749 - val_accuracy: 0.6813\n",
            "Epoch 6/100\n",
            "244/244 [==============================] - 42s 171ms/step - loss: 0.9025 - auc: 0.7582 - accuracy: 0.6945 - val_loss: 0.5068 - val_auc: 0.7799 - val_accuracy: 0.7235\n",
            "Epoch 7/100\n",
            "244/244 [==============================] - 43s 174ms/step - loss: 0.8943 - auc: 0.7652 - accuracy: 0.7053 - val_loss: 0.5015 - val_auc: 0.7831 - val_accuracy: 0.7283\n",
            "Epoch 8/100\n",
            "244/244 [==============================] - 44s 179ms/step - loss: 0.8872 - auc: 0.7700 - accuracy: 0.7116 - val_loss: 0.5273 - val_auc: 0.7862 - val_accuracy: 0.7051\n",
            "Epoch 9/100\n",
            "244/244 [==============================] - 43s 173ms/step - loss: 0.8829 - auc: 0.7733 - accuracy: 0.7142 - val_loss: 0.5206 - val_auc: 0.7889 - val_accuracy: 0.7109\n",
            "Epoch 10/100\n",
            "244/244 [==============================] - 44s 179ms/step - loss: 0.8784 - auc: 0.7760 - accuracy: 0.7159 - val_loss: 0.5159 - val_auc: 0.7912 - val_accuracy: 0.7190\n",
            "Epoch 11/100\n",
            "244/244 [==============================] - 42s 169ms/step - loss: 0.8711 - auc: 0.7809 - accuracy: 0.7187 - val_loss: 0.4844 - val_auc: 0.7926 - val_accuracy: 0.7534\n",
            "Epoch 12/100\n",
            "244/244 [==============================] - 44s 177ms/step - loss: 0.8677 - auc: 0.7831 - accuracy: 0.7227 - val_loss: 0.5132 - val_auc: 0.7947 - val_accuracy: 0.7228\n",
            "Epoch 13/100\n",
            "244/244 [==============================] - 42s 171ms/step - loss: 0.8645 - auc: 0.7851 - accuracy: 0.7215 - val_loss: 0.5033 - val_auc: 0.7962 - val_accuracy: 0.7310\n",
            "Epoch 14/100\n",
            "244/244 [==============================] - 44s 177ms/step - loss: 0.8588 - auc: 0.7888 - accuracy: 0.7291 - val_loss: 0.4656 - val_auc: 0.7957 - val_accuracy: 0.7697\n",
            "Epoch 15/100\n",
            "244/244 [==============================] - 44s 177ms/step - loss: 0.8549 - auc: 0.7916 - accuracy: 0.7323 - val_loss: 0.5072 - val_auc: 0.7980 - val_accuracy: 0.7263\n",
            "Epoch 16/100\n",
            "244/244 [==============================] - 43s 174ms/step - loss: 0.8530 - auc: 0.7920 - accuracy: 0.7306 - val_loss: 0.5060 - val_auc: 0.7995 - val_accuracy: 0.7269\n",
            "Epoch 17/100\n",
            "244/244 [==============================] - 45s 180ms/step - loss: 0.8454 - auc: 0.7975 - accuracy: 0.7360 - val_loss: 0.4910 - val_auc: 0.8001 - val_accuracy: 0.7436\n",
            "Epoch 18/100\n",
            "244/244 [==============================] - 43s 173ms/step - loss: 0.8425 - auc: 0.7981 - accuracy: 0.7386 - val_loss: 0.4980 - val_auc: 0.8012 - val_accuracy: 0.7370\n",
            "Epoch 19/100\n",
            "244/244 [==============================] - 44s 178ms/step - loss: 0.8389 - auc: 0.8004 - accuracy: 0.7420 - val_loss: 0.4913 - val_auc: 0.8020 - val_accuracy: 0.7435\n",
            "Epoch 20/100\n",
            "244/244 [==============================] - 43s 175ms/step - loss: 0.8398 - auc: 0.7998 - accuracy: 0.7404 - val_loss: 0.4888 - val_auc: 0.8027 - val_accuracy: 0.7456\n",
            "Epoch 21/100\n",
            "244/244 [==============================] - 44s 179ms/step - loss: 0.8354 - auc: 0.8022 - accuracy: 0.7425 - val_loss: 0.4820 - val_auc: 0.8032 - val_accuracy: 0.7480\n",
            "Epoch 22/100\n",
            "244/244 [==============================] - 43s 175ms/step - loss: 0.8324 - auc: 0.8042 - accuracy: 0.7433 - val_loss: 0.4711 - val_auc: 0.8033 - val_accuracy: 0.7605\n",
            "Epoch 23/100\n",
            "244/244 [==============================] - 44s 176ms/step - loss: 0.8263 - auc: 0.8081 - accuracy: 0.7461 - val_loss: 0.5041 - val_auc: 0.8057 - val_accuracy: 0.7359\n",
            "Epoch 24/100\n",
            "244/244 [==============================] - 44s 176ms/step - loss: 0.8241 - auc: 0.8082 - accuracy: 0.7461 - val_loss: 0.4649 - val_auc: 0.8049 - val_accuracy: 0.7647\n",
            "Epoch 25/100\n",
            "244/244 [==============================] - 43s 174ms/step - loss: 0.8255 - auc: 0.8073 - accuracy: 0.7482 - val_loss: 0.4598 - val_auc: 0.8060 - val_accuracy: 0.7709\n",
            "Epoch 26/100\n",
            "244/244 [==============================] - 44s 178ms/step - loss: 0.8187 - auc: 0.8114 - accuracy: 0.7495 - val_loss: 0.4817 - val_auc: 0.8086 - val_accuracy: 0.7526\n",
            "Epoch 27/100\n",
            "244/244 [==============================] - 43s 173ms/step - loss: 0.8156 - auc: 0.8138 - accuracy: 0.7510 - val_loss: 0.4997 - val_auc: 0.8086 - val_accuracy: 0.7415\n",
            "Epoch 28/100\n",
            "244/244 [==============================] - 43s 174ms/step - loss: 0.8129 - auc: 0.8156 - accuracy: 0.7560 - val_loss: 0.4635 - val_auc: 0.8081 - val_accuracy: 0.7642\n",
            "Epoch 29/100\n",
            "244/244 [==============================] - 43s 175ms/step - loss: 0.8109 - auc: 0.8164 - accuracy: 0.7591 - val_loss: 0.4411 - val_auc: 0.8089 - val_accuracy: 0.7875\n",
            "Epoch 30/100\n",
            "244/244 [==============================] - 52s 211ms/step - loss: 0.8048 - auc: 0.8183 - accuracy: 0.7618 - val_loss: 0.4666 - val_auc: 0.8094 - val_accuracy: 0.7623\n",
            "Epoch 31/100\n",
            "244/244 [==============================] - 43s 174ms/step - loss: 0.8060 - auc: 0.8184 - accuracy: 0.7614 - val_loss: 0.5093 - val_auc: 0.8111 - val_accuracy: 0.7353\n",
            "Epoch 32/100\n",
            "244/244 [==============================] - 43s 175ms/step - loss: 0.8034 - auc: 0.8200 - accuracy: 0.7614 - val_loss: 0.4392 - val_auc: 0.8096 - val_accuracy: 0.7916\n",
            "Epoch 33/100\n",
            "244/244 [==============================] - 43s 174ms/step - loss: 0.7976 - auc: 0.8228 - accuracy: 0.7677 - val_loss: 0.4712 - val_auc: 0.8116 - val_accuracy: 0.7636\n",
            "Epoch 34/100\n",
            "244/244 [==============================] - 44s 177ms/step - loss: 0.7954 - auc: 0.8229 - accuracy: 0.7661 - val_loss: 0.4478 - val_auc: 0.8120 - val_accuracy: 0.7863\n",
            "Epoch 35/100\n",
            "244/244 [==============================] - 43s 172ms/step - loss: 0.7928 - auc: 0.8252 - accuracy: 0.7699 - val_loss: 0.4965 - val_auc: 0.8127 - val_accuracy: 0.7463\n",
            "Epoch 36/100\n",
            "244/244 [==============================] - 44s 179ms/step - loss: 0.7890 - auc: 0.8277 - accuracy: 0.7717 - val_loss: 0.4838 - val_auc: 0.8137 - val_accuracy: 0.7551\n",
            "Epoch 37/100\n",
            "244/244 [==============================] - 43s 173ms/step - loss: 0.7857 - auc: 0.8287 - accuracy: 0.7713 - val_loss: 0.4535 - val_auc: 0.8144 - val_accuracy: 0.7769\n",
            "Epoch 38/100\n",
            "244/244 [==============================] - 43s 174ms/step - loss: 0.7827 - auc: 0.8300 - accuracy: 0.7725 - val_loss: 0.4924 - val_auc: 0.8150 - val_accuracy: 0.7493\n",
            "Epoch 39/100\n",
            "244/244 [==============================] - 44s 177ms/step - loss: 0.7810 - auc: 0.8316 - accuracy: 0.7747 - val_loss: 0.4912 - val_auc: 0.8152 - val_accuracy: 0.7508\n",
            "Epoch 40/100\n",
            "244/244 [==============================] - 43s 175ms/step - loss: 0.7806 - auc: 0.8308 - accuracy: 0.7724 - val_loss: 0.4666 - val_auc: 0.8161 - val_accuracy: 0.7672\n",
            "Epoch 41/100\n",
            "244/244 [==============================] - 44s 179ms/step - loss: 0.7763 - auc: 0.8330 - accuracy: 0.7719 - val_loss: 0.4655 - val_auc: 0.8165 - val_accuracy: 0.7690\n",
            "Epoch 42/100\n",
            "244/244 [==============================] - 43s 173ms/step - loss: 0.7722 - auc: 0.8357 - accuracy: 0.7794 - val_loss: 0.5162 - val_auc: 0.8166 - val_accuracy: 0.7314\n",
            "Epoch 43/100\n",
            "244/244 [==============================] - 44s 177ms/step - loss: 0.7753 - auc: 0.8333 - accuracy: 0.7787 - val_loss: 0.4615 - val_auc: 0.8174 - val_accuracy: 0.7735\n",
            "Epoch 44/100\n",
            "244/244 [==============================] - 42s 172ms/step - loss: 0.7693 - auc: 0.8373 - accuracy: 0.7825 - val_loss: 0.4513 - val_auc: 0.8177 - val_accuracy: 0.7843\n",
            "Epoch 45/100\n",
            "244/244 [==============================] - 42s 171ms/step - loss: 0.7649 - auc: 0.8383 - accuracy: 0.7823 - val_loss: 0.4589 - val_auc: 0.8181 - val_accuracy: 0.7751\n",
            "Epoch 46/100\n",
            "244/244 [==============================] - 42s 171ms/step - loss: 0.7618 - auc: 0.8399 - accuracy: 0.7828 - val_loss: 0.4932 - val_auc: 0.8183 - val_accuracy: 0.7499\n",
            "Epoch 47/100\n",
            "244/244 [==============================] - 43s 174ms/step - loss: 0.7610 - auc: 0.8413 - accuracy: 0.7847 - val_loss: 0.4560 - val_auc: 0.8193 - val_accuracy: 0.7774\n",
            "Epoch 48/100\n",
            "244/244 [==============================] - 42s 169ms/step - loss: 0.7580 - auc: 0.8411 - accuracy: 0.7851 - val_loss: 0.4720 - val_auc: 0.8186 - val_accuracy: 0.7691\n",
            "Epoch 49/100\n",
            "244/244 [==============================] - 41s 167ms/step - loss: 0.7578 - auc: 0.8417 - accuracy: 0.7859 - val_loss: 0.4580 - val_auc: 0.8205 - val_accuracy: 0.7777\n",
            "Epoch 50/100\n",
            "244/244 [==============================] - 44s 177ms/step - loss: 0.7532 - auc: 0.8443 - accuracy: 0.7875 - val_loss: 0.4498 - val_auc: 0.8199 - val_accuracy: 0.7849\n",
            "Epoch 51/100\n",
            "244/244 [==============================] - 51s 205ms/step - loss: 0.7507 - auc: 0.8459 - accuracy: 0.7940 - val_loss: 0.4798 - val_auc: 0.8205 - val_accuracy: 0.7645\n",
            "Epoch 52/100\n",
            "244/244 [==============================] - 42s 171ms/step - loss: 0.7468 - auc: 0.8473 - accuracy: 0.7906 - val_loss: 0.4455 - val_auc: 0.8213 - val_accuracy: 0.7886\n",
            "Epoch 53/100\n",
            "244/244 [==============================] - 44s 177ms/step - loss: 0.7461 - auc: 0.8485 - accuracy: 0.7931 - val_loss: 0.4511 - val_auc: 0.8213 - val_accuracy: 0.7876\n",
            "Epoch 54/100\n",
            "244/244 [==============================] - 42s 170ms/step - loss: 0.7434 - auc: 0.8489 - accuracy: 0.7943 - val_loss: 0.4369 - val_auc: 0.8227 - val_accuracy: 0.7956\n",
            "Epoch 55/100\n",
            "244/244 [==============================] - 43s 174ms/step - loss: 0.7382 - auc: 0.8508 - accuracy: 0.7976 - val_loss: 0.4728 - val_auc: 0.8232 - val_accuracy: 0.7681\n",
            "Epoch 56/100\n",
            "244/244 [==============================] - 42s 168ms/step - loss: 0.7330 - auc: 0.8539 - accuracy: 0.8021 - val_loss: 0.4594 - val_auc: 0.8236 - val_accuracy: 0.7773\n",
            "Epoch 57/100\n",
            "244/244 [==============================] - 44s 176ms/step - loss: 0.7340 - auc: 0.8525 - accuracy: 0.8005 - val_loss: 0.4777 - val_auc: 0.8240 - val_accuracy: 0.7629\n",
            "Epoch 58/100\n",
            "244/244 [==============================] - 43s 173ms/step - loss: 0.7328 - auc: 0.8537 - accuracy: 0.7992 - val_loss: 0.4964 - val_auc: 0.8234 - val_accuracy: 0.7529\n",
            "Epoch 59/100\n",
            "244/244 [==============================] - 52s 209ms/step - loss: 0.7312 - auc: 0.8544 - accuracy: 0.8000 - val_loss: 0.4812 - val_auc: 0.8251 - val_accuracy: 0.7633\n",
            "Epoch 60/100\n",
            "244/244 [==============================] - 43s 172ms/step - loss: 0.7302 - auc: 0.8545 - accuracy: 0.8004 - val_loss: 0.4851 - val_auc: 0.8248 - val_accuracy: 0.7616\n",
            "Epoch 61/100\n",
            "244/244 [==============================] - 43s 172ms/step - loss: 0.7288 - auc: 0.8547 - accuracy: 0.8021 - val_loss: 0.5114 - val_auc: 0.8255 - val_accuracy: 0.7391\n",
            "Epoch 62/100\n",
            "244/244 [==============================] - 44s 176ms/step - loss: 0.7205 - auc: 0.8590 - accuracy: 0.8026 - val_loss: 0.4691 - val_auc: 0.8254 - val_accuracy: 0.7727\n",
            "Epoch 63/100\n",
            "244/244 [==============================] - 42s 171ms/step - loss: 0.7172 - auc: 0.8613 - accuracy: 0.8052 - val_loss: 0.4466 - val_auc: 0.8270 - val_accuracy: 0.7876\n",
            "Epoch 64/100\n",
            "244/244 [==============================] - 44s 179ms/step - loss: 0.7154 - auc: 0.8613 - accuracy: 0.8060 - val_loss: 0.4393 - val_auc: 0.8270 - val_accuracy: 0.7956\n",
            "Epoch 65/100\n",
            "244/244 [==============================] - 42s 170ms/step - loss: 0.7121 - auc: 0.8625 - accuracy: 0.8097 - val_loss: 0.4736 - val_auc: 0.8276 - val_accuracy: 0.7696\n",
            "Epoch 66/100\n",
            "244/244 [==============================] - 43s 172ms/step - loss: 0.7116 - auc: 0.8632 - accuracy: 0.8091 - val_loss: 0.4485 - val_auc: 0.8266 - val_accuracy: 0.7917\n",
            "Epoch 67/100\n",
            "244/244 [==============================] - 43s 175ms/step - loss: 0.7108 - auc: 0.8630 - accuracy: 0.8086 - val_loss: 0.4262 - val_auc: 0.8271 - val_accuracy: 0.8028\n",
            "Epoch 68/100\n",
            "244/244 [==============================] - 42s 171ms/step - loss: 0.7088 - auc: 0.8639 - accuracy: 0.8098 - val_loss: 0.4214 - val_auc: 0.8283 - val_accuracy: 0.8055\n",
            "Epoch 69/100\n",
            "244/244 [==============================] - 43s 174ms/step - loss: 0.7058 - auc: 0.8660 - accuracy: 0.8149 - val_loss: 0.4599 - val_auc: 0.8292 - val_accuracy: 0.7798\n",
            "Epoch 70/100\n",
            "244/244 [==============================] - 43s 172ms/step - loss: 0.7035 - auc: 0.8668 - accuracy: 0.8130 - val_loss: 0.4124 - val_auc: 0.8273 - val_accuracy: 0.8134\n",
            "Epoch 71/100\n",
            "244/244 [==============================] - 43s 173ms/step - loss: 0.7004 - auc: 0.8681 - accuracy: 0.8178 - val_loss: 0.4397 - val_auc: 0.8291 - val_accuracy: 0.7933\n",
            "Epoch 72/100\n",
            "244/244 [==============================] - 43s 174ms/step - loss: 0.6965 - auc: 0.8696 - accuracy: 0.8170 - val_loss: 0.4505 - val_auc: 0.8295 - val_accuracy: 0.7872\n",
            "Epoch 73/100\n",
            "244/244 [==============================] - 43s 173ms/step - loss: 0.6977 - auc: 0.8690 - accuracy: 0.8173 - val_loss: 0.4626 - val_auc: 0.8310 - val_accuracy: 0.7769\n",
            "Epoch 74/100\n",
            "244/244 [==============================] - 42s 171ms/step - loss: 0.6956 - auc: 0.8690 - accuracy: 0.8154 - val_loss: 0.4200 - val_auc: 0.8286 - val_accuracy: 0.8084\n",
            "Epoch 75/100\n",
            "244/244 [==============================] - 51s 207ms/step - loss: 0.6907 - auc: 0.8718 - accuracy: 0.8216 - val_loss: 0.4281 - val_auc: 0.8286 - val_accuracy: 0.8044\n",
            "Epoch 76/100\n",
            "244/244 [==============================] - 44s 178ms/step - loss: 0.6887 - auc: 0.8721 - accuracy: 0.8194 - val_loss: 0.4340 - val_auc: 0.8303 - val_accuracy: 0.7974\n",
            "Epoch 77/100\n",
            "244/244 [==============================] - 43s 173ms/step - loss: 0.6872 - auc: 0.8728 - accuracy: 0.8213 - val_loss: 0.4317 - val_auc: 0.8291 - val_accuracy: 0.8017\n",
            "Epoch 78/100\n",
            "243/244 [============================>.] - ETA: 0s - loss: 0.6824 - auc: 0.8769 - accuracy: 0.8188Restoring model weights from the end of the best epoch: 73.\n",
            "244/244 [==============================] - 43s 172ms/step - loss: 0.6823 - auc: 0.8769 - accuracy: 0.8188 - val_loss: 0.3991 - val_auc: 0.8285 - val_accuracy: 0.8239\n",
            "Epoch 78: early stopping\n"
          ]
        }
      ],
      "source": [
        "run_hist = model.fit(normalized_data, validation_data=normalized_val_data, epochs=100, class_weight={0:1, 1:5}, \n",
        "  callbacks=[keras.callbacks.EarlyStopping(\n",
        "                  monitor=\"val_auc\",\n",
        "                  min_delta=0,\n",
        "                  patience=5,\n",
        "                  verbose=1,\n",
        "                  mode=\"auto\",\n",
        "                  baseline=None,\n",
        "                  restore_best_weights=True,\n",
        "              )])"
      ]
    },
    {
      "cell_type": "code",
      "execution_count": null,
      "metadata": {
        "colab": {
          "base_uri": "https://localhost:8080/"
        },
        "id": "RQ-XCxSFreEQ",
        "outputId": "ebdbcda1-6717-414f-ed79-71abe5052a13"
      },
      "outputs": [
        {
          "name": "stdout",
          "output_type": "stream",
          "text": [
            "183/183 [==============================] - 21s 113ms/step - loss: 0.4767 - auc: 0.8197 - accuracy: 0.7679\n",
            "[0.47673022747039795, 0.8196592330932617, 0.7678525447845459]\n"
          ]
        }
      ],
      "source": [
        "results = model.evaluate(normalized_test_data)\n",
        "print(results)"
      ]
    },
    {
      "cell_type": "markdown",
      "metadata": {
        "id": "Pubfqhk5Svoy"
      },
      "source": [
        "### class_weight definido"
      ]
    },
    {
      "cell_type": "code",
      "execution_count": null,
      "metadata": {
        "colab": {
          "base_uri": "https://localhost:8080/"
        },
        "id": "ysSHbVrHS7SQ",
        "outputId": "ca24bcd8-61a7-4112-d200-3ca35c84ccce"
      },
      "outputs": [
        {
          "name": "stdout",
          "output_type": "stream",
          "text": [
            "Peso para a classe 0: 0.58\n",
            "Peso para a classe 1: 3.55\n"
          ]
        }
      ],
      "source": [
        "neg = 20047\n",
        "pos = 3287\n",
        "total = pos+neg\n",
        "\n",
        "w0 = (1 / neg) * (total / 2.0)\n",
        "w1 = (1 / pos) * (total / 2.0)\n",
        "\n",
        "print('Peso para a classe 0: {:.2f}'.format(w0))\n",
        "print('Peso para a classe 1: {:.2f}'.format(w1))"
      ]
    },
    {
      "cell_type": "markdown",
      "metadata": {
        "id": "Bi-OUda-eqc4"
      },
      "source": [
        "#### N512-L1-D3"
      ]
    },
    {
      "cell_type": "code",
      "execution_count": null,
      "metadata": {
        "id": "VJLojVjuSvoy"
      },
      "outputs": [],
      "source": [
        "N = 512\n",
        "NAME = \"N512-L1-D3 cw\"\n",
        "keras.backend.clear_session()"
      ]
    },
    {
      "cell_type": "code",
      "execution_count": null,
      "metadata": {
        "colab": {
          "base_uri": "https://localhost:8080/"
        },
        "id": "EhQbXBxkSvoy",
        "outputId": "c89af7b1-8f67-423f-eb8f-a528dd699672"
      },
      "outputs": [
        {
          "name": "stdout",
          "output_type": "stream",
          "text": [
            "Model: \"sequential\"\n",
            "_________________________________________________________________\n",
            " Layer (type)                Output Shape              Param #   \n",
            "=================================================================\n",
            " conv2d (Conv2D)             (None, 256, 256, 32)      896       \n",
            "                                                                 \n",
            " conv2d_1 (Conv2D)           (None, 128, 128, 32)      9248      \n",
            "                                                                 \n",
            " conv2d_2 (Conv2D)           (None, 64, 64, 64)        18496     \n",
            "                                                                 \n",
            " max_pooling2d (MaxPooling2D  (None, 32, 32, 64)       0         \n",
            " )                                                               \n",
            "                                                                 \n",
            " dense (Dense)               (None, 32, 32, 128)       8320      \n",
            "                                                                 \n",
            " flatten (Flatten)           (None, 131072)            0         \n",
            "                                                                 \n",
            " dense_1 (Dense)             (None, 512)               67109376  \n",
            "                                                                 \n",
            " dropout (Dropout)           (None, 512)               0         \n",
            "                                                                 \n",
            " dense_2 (Dense)             (None, 1)                 513       \n",
            "                                                                 \n",
            "=================================================================\n",
            "Total params: 67,146,849\n",
            "Trainable params: 67,146,849\n",
            "Non-trainable params: 0\n",
            "_________________________________________________________________\n"
          ]
        }
      ],
      "source": [
        "ins = image_batch.shape[1:]\n",
        "\n",
        "model = Sequential()\n",
        "\n",
        "model.add(Conv2D(32, (3,3), padding=\"same\", activation=\"relu\", input_shape=ins))\n",
        "\n",
        "model.add(Conv2D(32, (3,3), padding=\"same\", strides = (2,2), activation=\"relu\"))\n",
        "\n",
        "model.add(Conv2D(64, (3,3), padding=\"same\", strides = (2,2), activation=\"relu\"))\n",
        "\n",
        "model.add(MaxPooling2D(pool_size=(2, 2)))\n",
        "\n",
        "model.add(Dense(128, activation=\"relu\"))\n",
        "\n",
        "model.add(Flatten())\n",
        "\n",
        "model.add(Dense(N, activation=\"relu\"))\n",
        "\n",
        "model.add(Dropout(0.5))\n",
        "\n",
        "model.add(Dense(1, activation=\"sigmoid\"))\n",
        "\n",
        "model.summary()"
      ]
    },
    {
      "cell_type": "code",
      "execution_count": null,
      "metadata": {
        "id": "W7p2AncZSvoy"
      },
      "outputs": [],
      "source": [
        "model.compile(loss='binary_crossentropy', optimizer=optimizers.Adam(learning_rate=0.00001), metrics=[keras.metrics.AUC(), 'accuracy'])"
      ]
    },
    {
      "cell_type": "code",
      "execution_count": null,
      "metadata": {
        "colab": {
          "base_uri": "https://localhost:8080/"
        },
        "id": "qX23bWLVSvoy",
        "outputId": "b235f2ab-2eef-4b95-8452-aa7e4413cf8c"
      },
      "outputs": [
        {
          "name": "stdout",
          "output_type": "stream",
          "text": [
            "Epoch 1/100\n",
            "244/244 [==============================] - 78s 257ms/step - loss: 0.6369 - auc: 0.6777 - accuracy: 0.6106 - val_loss: 0.6187 - val_auc: 0.7475 - val_accuracy: 0.6147\n",
            "Epoch 2/100\n",
            "244/244 [==============================] - 57s 229ms/step - loss: 0.5953 - auc: 0.7354 - accuracy: 0.6388 - val_loss: 0.5527 - val_auc: 0.7743 - val_accuracy: 0.6647\n",
            "Epoch 3/100\n",
            "244/244 [==============================] - 57s 230ms/step - loss: 0.5813 - auc: 0.7554 - accuracy: 0.6554 - val_loss: 0.5078 - val_auc: 0.7809 - val_accuracy: 0.7093\n",
            "Epoch 4/100\n",
            "244/244 [==============================] - 57s 231ms/step - loss: 0.5703 - auc: 0.7664 - accuracy: 0.6675 - val_loss: 0.5838 - val_auc: 0.7881 - val_accuracy: 0.6527\n",
            "Epoch 5/100\n",
            "244/244 [==============================] - 57s 229ms/step - loss: 0.5644 - auc: 0.7736 - accuracy: 0.6755 - val_loss: 0.5705 - val_auc: 0.7921 - val_accuracy: 0.6666\n",
            "Epoch 6/100\n",
            "244/244 [==============================] - 57s 230ms/step - loss: 0.5582 - auc: 0.7808 - accuracy: 0.6788 - val_loss: 0.5559 - val_auc: 0.7926 - val_accuracy: 0.6814\n",
            "Epoch 7/100\n",
            "244/244 [==============================] - 57s 230ms/step - loss: 0.5517 - auc: 0.7867 - accuracy: 0.6901 - val_loss: 0.5315 - val_auc: 0.7951 - val_accuracy: 0.7037\n",
            "Epoch 8/100\n",
            "244/244 [==============================] - 65s 263ms/step - loss: 0.5451 - auc: 0.7924 - accuracy: 0.6967 - val_loss: 0.5966 - val_auc: 0.7964 - val_accuracy: 0.6574\n",
            "Epoch 9/100\n",
            "244/244 [==============================] - 57s 230ms/step - loss: 0.5385 - auc: 0.7979 - accuracy: 0.7027 - val_loss: 0.5852 - val_auc: 0.7987 - val_accuracy: 0.6682\n",
            "Epoch 10/100\n",
            "244/244 [==============================] - 57s 229ms/step - loss: 0.5356 - auc: 0.8013 - accuracy: 0.7018 - val_loss: 0.5508 - val_auc: 0.8010 - val_accuracy: 0.6971\n",
            "Epoch 11/100\n",
            "244/244 [==============================] - 57s 231ms/step - loss: 0.5262 - auc: 0.8092 - accuracy: 0.7146 - val_loss: 0.5191 - val_auc: 0.8019 - val_accuracy: 0.7240\n",
            "Epoch 12/100\n",
            "244/244 [==============================] - 57s 229ms/step - loss: 0.5205 - auc: 0.8139 - accuracy: 0.7211 - val_loss: 0.5530 - val_auc: 0.8043 - val_accuracy: 0.6968\n",
            "Epoch 13/100\n",
            "244/244 [==============================] - 57s 229ms/step - loss: 0.5153 - auc: 0.8182 - accuracy: 0.7235 - val_loss: 0.5266 - val_auc: 0.8026 - val_accuracy: 0.7235\n",
            "Epoch 14/100\n",
            "244/244 [==============================] - 57s 230ms/step - loss: 0.5090 - auc: 0.8240 - accuracy: 0.7278 - val_loss: 0.5490 - val_auc: 0.8072 - val_accuracy: 0.7039\n",
            "Epoch 15/100\n",
            "244/244 [==============================] - 56s 229ms/step - loss: 0.5044 - auc: 0.8286 - accuracy: 0.7365 - val_loss: 0.5398 - val_auc: 0.8087 - val_accuracy: 0.7058\n",
            "Epoch 16/100\n",
            "244/244 [==============================] - 57s 231ms/step - loss: 0.5013 - auc: 0.8307 - accuracy: 0.7380 - val_loss: 0.5535 - val_auc: 0.8098 - val_accuracy: 0.6979\n",
            "Epoch 17/100\n",
            "244/244 [==============================] - 56s 229ms/step - loss: 0.4905 - auc: 0.8396 - accuracy: 0.7462 - val_loss: 0.4995 - val_auc: 0.8092 - val_accuracy: 0.7430\n",
            "Epoch 18/100\n",
            "244/244 [==============================] - 56s 227ms/step - loss: 0.4872 - auc: 0.8416 - accuracy: 0.7499 - val_loss: 0.5947 - val_auc: 0.8109 - val_accuracy: 0.6760\n",
            "Epoch 19/100\n",
            "244/244 [==============================] - 57s 229ms/step - loss: 0.4821 - auc: 0.8453 - accuracy: 0.7540 - val_loss: 0.5257 - val_auc: 0.8132 - val_accuracy: 0.7192\n",
            "Epoch 20/100\n",
            "244/244 [==============================] - 56s 228ms/step - loss: 0.4728 - auc: 0.8524 - accuracy: 0.7600 - val_loss: 0.4588 - val_auc: 0.8099 - val_accuracy: 0.7773\n",
            "Epoch 21/100\n",
            "244/244 [==============================] - 56s 228ms/step - loss: 0.4708 - auc: 0.8538 - accuracy: 0.7634 - val_loss: 0.5411 - val_auc: 0.8150 - val_accuracy: 0.7091\n",
            "Epoch 22/100\n",
            "244/244 [==============================] - 56s 228ms/step - loss: 0.4627 - auc: 0.8604 - accuracy: 0.7686 - val_loss: 0.5155 - val_auc: 0.8140 - val_accuracy: 0.7340\n",
            "Epoch 23/100\n",
            "244/244 [==============================] - 56s 227ms/step - loss: 0.4594 - auc: 0.8621 - accuracy: 0.7697 - val_loss: 0.5226 - val_auc: 0.8149 - val_accuracy: 0.7305\n",
            "Epoch 24/100\n",
            "244/244 [==============================] - 56s 228ms/step - loss: 0.4540 - auc: 0.8666 - accuracy: 0.7729 - val_loss: 0.4174 - val_auc: 0.8066 - val_accuracy: 0.8158\n",
            "Epoch 25/100\n",
            "244/244 [==============================] - 56s 228ms/step - loss: 0.4503 - auc: 0.8671 - accuracy: 0.7837 - val_loss: 0.5418 - val_auc: 0.8161 - val_accuracy: 0.7155\n",
            "Epoch 26/100\n",
            "244/244 [==============================] - 56s 227ms/step - loss: 0.4509 - auc: 0.8681 - accuracy: 0.7776 - val_loss: 0.4934 - val_auc: 0.8155 - val_accuracy: 0.7511\n",
            "Epoch 27/100\n",
            "244/244 [==============================] - 56s 228ms/step - loss: 0.4381 - auc: 0.8775 - accuracy: 0.7858 - val_loss: 0.4761 - val_auc: 0.8150 - val_accuracy: 0.7691\n",
            "Epoch 28/100\n",
            "244/244 [==============================] - 57s 229ms/step - loss: 0.4339 - auc: 0.8798 - accuracy: 0.7913 - val_loss: 0.4837 - val_auc: 0.8150 - val_accuracy: 0.7639\n",
            "Epoch 29/100\n",
            "244/244 [==============================] - 56s 229ms/step - loss: 0.4268 - auc: 0.8847 - accuracy: 0.8009 - val_loss: 0.4767 - val_auc: 0.8148 - val_accuracy: 0.7715\n",
            "Epoch 30/100\n",
            "243/244 [============================>.] - ETA: 0s - loss: 0.4215 - auc: 0.8874 - accuracy: 0.8026Restoring model weights from the end of the best epoch: 25.\n",
            "244/244 [==============================] - 56s 228ms/step - loss: 0.4215 - auc: 0.8874 - accuracy: 0.8025 - val_loss: 0.4036 - val_auc: 0.8079 - val_accuracy: 0.8305\n",
            "Epoch 30: early stopping\n"
          ]
        }
      ],
      "source": [
        "run_hist = model.fit(normalized_data, validation_data=normalized_val_data, epochs=100, class_weight={0: w0, 1: w1}, \n",
        "  callbacks=[keras.callbacks.EarlyStopping(\n",
        "                  monitor=\"val_auc\",\n",
        "                  min_delta=0,\n",
        "                  patience=5,\n",
        "                  verbose=1,\n",
        "                  mode=\"auto\",\n",
        "                  baseline=None,\n",
        "                  restore_best_weights=True,\n",
        "              )])"
      ]
    },
    {
      "cell_type": "code",
      "execution_count": null,
      "metadata": {
        "colab": {
          "base_uri": "https://localhost:8080/"
        },
        "id": "UIDM6CKRSvoy",
        "outputId": "57271927-4844-4ba7-f609-b74a92cb0da2"
      },
      "outputs": [
        {
          "name": "stdout",
          "output_type": "stream",
          "text": [
            "183/183 [==============================] - 23s 119ms/step - loss: 0.5566 - auc: 0.8036 - accuracy: 0.7084\n",
            "[0.5566133260726929, 0.8036072850227356, 0.7084440588951111]\n"
          ]
        }
      ],
      "source": [
        "results = model.evaluate(normalized_test_data)\n",
        "print(results)"
      ]
    },
    {
      "cell_type": "markdown",
      "metadata": {
        "id": "kBfUljt32pSY"
      },
      "source": [
        "#### N512-L3-D2"
      ]
    },
    {
      "cell_type": "code",
      "execution_count": null,
      "metadata": {
        "id": "PajL685L2pSY"
      },
      "outputs": [],
      "source": [
        "N = 512\n",
        "NAME = \"N512-L3-D2\"\n",
        "keras.backend.clear_session()"
      ]
    },
    {
      "cell_type": "code",
      "execution_count": null,
      "metadata": {
        "colab": {
          "base_uri": "https://localhost:8080/"
        },
        "id": "6hKmukRq2pSY",
        "outputId": "db608479-6af4-4428-a63a-b0dab902acc1"
      },
      "outputs": [
        {
          "name": "stdout",
          "output_type": "stream",
          "text": [
            "Model: \"sequential\"\n",
            "_________________________________________________________________\n",
            " Layer (type)                Output Shape              Param #   \n",
            "=================================================================\n",
            " conv2d (Conv2D)             (None, 256, 256, 32)      896       \n",
            "                                                                 \n",
            " conv2d_1 (Conv2D)           (None, 128, 128, 32)      9248      \n",
            "                                                                 \n",
            " conv2d_2 (Conv2D)           (None, 64, 64, 64)        18496     \n",
            "                                                                 \n",
            " dropout (Dropout)           (None, 64, 64, 64)        0         \n",
            "                                                                 \n",
            " max_pooling2d (MaxPooling2D  (None, 32, 32, 64)       0         \n",
            " )                                                               \n",
            "                                                                 \n",
            " dense (Dense)               (None, 32, 32, 128)       8320      \n",
            "                                                                 \n",
            " flatten (Flatten)           (None, 131072)            0         \n",
            "                                                                 \n",
            " dense_1 (Dense)             (None, 512)               67109376  \n",
            "                                                                 \n",
            " dense_2 (Dense)             (None, 512)               262656    \n",
            "                                                                 \n",
            " dense_3 (Dense)             (None, 512)               262656    \n",
            "                                                                 \n",
            " dropout_1 (Dropout)         (None, 512)               0         \n",
            "                                                                 \n",
            " dense_4 (Dense)             (None, 1)                 513       \n",
            "                                                                 \n",
            "=================================================================\n",
            "Total params: 67,672,161\n",
            "Trainable params: 67,672,161\n",
            "Non-trainable params: 0\n",
            "_________________________________________________________________\n"
          ]
        }
      ],
      "source": [
        "ins = image_batch.shape[1:]\n",
        "\n",
        "model = Sequential()\n",
        "\n",
        "model.add(Conv2D(32, (3,3), padding=\"same\", activation=\"relu\", input_shape=ins))\n",
        "\n",
        "model.add(Conv2D(32, (3,3), padding=\"same\", strides = (2,2), activation=\"relu\"))\n",
        "\n",
        "model.add(Conv2D(64, (3,3), padding=\"same\", strides = (2,2), activation=\"relu\"))\n",
        "\n",
        "model.add(Dropout(0.1))\n",
        "\n",
        "model.add(MaxPooling2D(pool_size=(2, 2)))\n",
        "\n",
        "model.add(Dense(128, activation=\"relu\"))\n",
        "\n",
        "model.add(Flatten())\n",
        "\n",
        "model.add(Dense(N, activation=\"relu\"))\n",
        "\n",
        "model.add(Dense(N, activation=\"relu\"))\n",
        "\n",
        "model.add(Dense(N, activation=\"relu\"))\n",
        "\n",
        "model.add(Dropout(0.5))\n",
        "\n",
        "model.add(Dense(1, activation=\"sigmoid\"))\n",
        "\n",
        "model.summary()"
      ]
    },
    {
      "cell_type": "code",
      "execution_count": null,
      "metadata": {
        "id": "leoJ3zdj2pSY"
      },
      "outputs": [],
      "source": [
        "model.compile(loss='binary_crossentropy', optimizer=optimizers.Adam(learning_rate=0.00001), metrics=[keras.metrics.AUC(), 'accuracy'])"
      ]
    },
    {
      "cell_type": "code",
      "execution_count": null,
      "metadata": {
        "colab": {
          "base_uri": "https://localhost:8080/"
        },
        "id": "-Pv-eFJS2pSY",
        "outputId": "04e86e98-b799-4712-b6b2-971bed4dcedd"
      },
      "outputs": [
        {
          "name": "stdout",
          "output_type": "stream",
          "text": [
            "Epoch 1/100\n",
            "244/244 [==============================] - 61s 240ms/step - loss: 0.6430 - auc: 0.6824 - accuracy: 0.6002 - val_loss: 0.5727 - val_auc: 0.7334 - val_accuracy: 0.6561\n",
            "Epoch 2/100\n",
            "244/244 [==============================] - 58s 236ms/step - loss: 0.5939 - auc: 0.7315 - accuracy: 0.6288 - val_loss: 0.5608 - val_auc: 0.7705 - val_accuracy: 0.6549\n",
            "Epoch 3/100\n",
            "244/244 [==============================] - 58s 233ms/step - loss: 0.5743 - auc: 0.7624 - accuracy: 0.6488 - val_loss: 0.4932 - val_auc: 0.7874 - val_accuracy: 0.7336\n",
            "Epoch 4/100\n",
            "244/244 [==============================] - 65s 264ms/step - loss: 0.5573 - auc: 0.7831 - accuracy: 0.6774 - val_loss: 0.4931 - val_auc: 0.7971 - val_accuracy: 0.7373\n",
            "Epoch 5/100\n",
            "244/244 [==============================] - 58s 234ms/step - loss: 0.5432 - auc: 0.7949 - accuracy: 0.6936 - val_loss: 0.5274 - val_auc: 0.8058 - val_accuracy: 0.7114\n",
            "Epoch 6/100\n",
            "244/244 [==============================] - 57s 232ms/step - loss: 0.5257 - auc: 0.8129 - accuracy: 0.7199 - val_loss: 0.5959 - val_auc: 0.8101 - val_accuracy: 0.6612\n",
            "Epoch 7/100\n",
            "244/244 [==============================] - 58s 233ms/step - loss: 0.5151 - auc: 0.8211 - accuracy: 0.7279 - val_loss: 0.5666 - val_auc: 0.8142 - val_accuracy: 0.6860\n",
            "Epoch 8/100\n",
            "244/244 [==============================] - 57s 233ms/step - loss: 0.4981 - auc: 0.8354 - accuracy: 0.7439 - val_loss: 0.4399 - val_auc: 0.8147 - val_accuracy: 0.7978\n",
            "Epoch 9/100\n",
            "244/244 [==============================] - 57s 232ms/step - loss: 0.4868 - auc: 0.8434 - accuracy: 0.7588 - val_loss: 0.7174 - val_auc: 0.8160 - val_accuracy: 0.5982\n",
            "Epoch 10/100\n",
            "244/244 [==============================] - 57s 231ms/step - loss: 0.4758 - auc: 0.8517 - accuracy: 0.7666 - val_loss: 0.5133 - val_auc: 0.8221 - val_accuracy: 0.7340\n",
            "Epoch 11/100\n",
            "244/244 [==============================] - 57s 233ms/step - loss: 0.4633 - auc: 0.8595 - accuracy: 0.7783 - val_loss: 0.4079 - val_auc: 0.8127 - val_accuracy: 0.8289\n",
            "Epoch 12/100\n",
            "244/244 [==============================] - 57s 231ms/step - loss: 0.4489 - auc: 0.8696 - accuracy: 0.7873 - val_loss: 0.3907 - val_auc: 0.8124 - val_accuracy: 0.8415\n",
            "Epoch 13/100\n",
            "244/244 [==============================] - 57s 233ms/step - loss: 0.4407 - auc: 0.8754 - accuracy: 0.7967 - val_loss: 0.4274 - val_auc: 0.8160 - val_accuracy: 0.8098\n",
            "Epoch 14/100\n",
            "244/244 [==============================] - 57s 231ms/step - loss: 0.4263 - auc: 0.8847 - accuracy: 0.8052 - val_loss: 0.4671 - val_auc: 0.8222 - val_accuracy: 0.7756\n",
            "Epoch 15/100\n",
            "244/244 [==============================] - 57s 232ms/step - loss: 0.4223 - auc: 0.8849 - accuracy: 0.8109 - val_loss: 0.5493 - val_auc: 0.8274 - val_accuracy: 0.7188\n",
            "Epoch 16/100\n",
            "244/244 [==============================] - 57s 231ms/step - loss: 0.4019 - auc: 0.8996 - accuracy: 0.8241 - val_loss: 0.4129 - val_auc: 0.8152 - val_accuracy: 0.8212\n",
            "Epoch 17/100\n",
            "244/244 [==============================] - 57s 231ms/step - loss: 0.3917 - auc: 0.9048 - accuracy: 0.8309 - val_loss: 0.4753 - val_auc: 0.8240 - val_accuracy: 0.7745\n",
            "Epoch 18/100\n",
            "244/244 [==============================] - 57s 231ms/step - loss: 0.3807 - auc: 0.9100 - accuracy: 0.8385 - val_loss: 0.5328 - val_auc: 0.8255 - val_accuracy: 0.7404\n",
            "Epoch 19/100\n",
            "244/244 [==============================] - 57s 231ms/step - loss: 0.3754 - auc: 0.9131 - accuracy: 0.8417 - val_loss: 0.4630 - val_auc: 0.8211 - val_accuracy: 0.7845\n",
            "Epoch 20/100\n",
            "243/244 [============================>.] - ETA: 0s - loss: 0.3522 - auc: 0.9248 - accuracy: 0.8572Restoring model weights from the end of the best epoch: 15.\n",
            "244/244 [==============================] - 57s 232ms/step - loss: 0.3521 - auc: 0.9248 - accuracy: 0.8572 - val_loss: 0.4266 - val_auc: 0.8178 - val_accuracy: 0.8127\n",
            "Epoch 20: early stopping\n"
          ]
        }
      ],
      "source": [
        "run_hist = model.fit(normalized_data, validation_data=normalized_val_data, epochs=100, class_weight={0:w0, 1:w1},\n",
        "  callbacks=[keras.callbacks.EarlyStopping(\n",
        "                  monitor=\"val_auc\",\n",
        "                  min_delta=0,\n",
        "                  patience=5,\n",
        "                  verbose=1,\n",
        "                  mode=\"auto\",\n",
        "                  baseline=None,\n",
        "                  restore_best_weights=True,\n",
        "              )])"
      ]
    },
    {
      "cell_type": "code",
      "execution_count": null,
      "metadata": {
        "colab": {
          "base_uri": "https://localhost:8080/"
        },
        "id": "WznLF9yo2pSY",
        "outputId": "73582181-57fc-4fcb-b168-8bd2bef95252"
      },
      "outputs": [
        {
          "name": "stdout",
          "output_type": "stream",
          "text": [
            "183/183 [==============================] - 19s 102ms/step - loss: 0.5662 - auc: 0.8153 - accuracy: 0.7159\n",
            "[0.5661687850952148, 0.8153330683708191, 0.7159022688865662]\n"
          ]
        }
      ],
      "source": [
        "results = model.evaluate(normalized_test_data)\n",
        "print(results)"
      ]
    },
    {
      "cell_type": "markdown",
      "metadata": {
        "id": "MWvmn6g82pSZ"
      },
      "source": [
        "#### N1024-L1-D4"
      ]
    },
    {
      "cell_type": "code",
      "execution_count": null,
      "metadata": {
        "id": "01q1NSRR2pSZ"
      },
      "outputs": [],
      "source": [
        "N = 1024\n",
        "NAME = \"N1024-L1-D4\"\n",
        "keras.backend.clear_session()"
      ]
    },
    {
      "cell_type": "code",
      "execution_count": null,
      "metadata": {
        "colab": {
          "base_uri": "https://localhost:8080/"
        },
        "id": "mj3JDqXg2pSZ",
        "outputId": "30f313bc-c266-42e0-9934-ed38b2a9bc08"
      },
      "outputs": [
        {
          "name": "stdout",
          "output_type": "stream",
          "text": [
            "Model: \"sequential\"\n",
            "_________________________________________________________________\n",
            " Layer (type)                Output Shape              Param #   \n",
            "=================================================================\n",
            " conv2d (Conv2D)             (None, 256, 256, 32)      896       \n",
            "                                                                 \n",
            " conv2d_1 (Conv2D)           (None, 128, 128, 32)      9248      \n",
            "                                                                 \n",
            " conv2d_2 (Conv2D)           (None, 64, 64, 64)        18496     \n",
            "                                                                 \n",
            " max_pooling2d (MaxPooling2D  (None, 32, 32, 64)       0         \n",
            " )                                                               \n",
            "                                                                 \n",
            " dense (Dense)               (None, 32, 32, 128)       8320      \n",
            "                                                                 \n",
            " flatten (Flatten)           (None, 131072)            0         \n",
            "                                                                 \n",
            " dense_1 (Dense)             (None, 1024)              134218752 \n",
            "                                                                 \n",
            " dropout (Dropout)           (None, 1024)              0         \n",
            "                                                                 \n",
            " dense_2 (Dense)             (None, 1)                 1025      \n",
            "                                                                 \n",
            "=================================================================\n",
            "Total params: 134,256,737\n",
            "Trainable params: 134,256,737\n",
            "Non-trainable params: 0\n",
            "_________________________________________________________________\n"
          ]
        }
      ],
      "source": [
        "ins = image_batch.shape[1:]\n",
        "\n",
        "model = Sequential()\n",
        "\n",
        "model.add(Conv2D(32, (3,3), padding=\"same\", activation=\"relu\", input_shape=ins))\n",
        "\n",
        "model.add(Conv2D(32, (3,3), padding=\"same\", strides = (2,2), activation=\"relu\"))\n",
        "\n",
        "model.add(Conv2D(64, (3,3), padding=\"same\", strides = (2,2), activation=\"relu\"))\n",
        "\n",
        "model.add(MaxPooling2D(pool_size=(2, 2)))\n",
        "\n",
        "model.add(Dense(128, activation=\"relu\"))\n",
        "\n",
        "model.add(Flatten())\n",
        "\n",
        "model.add(Dense(N, activation=\"relu\"))\n",
        "\n",
        "model.add(Dropout(0.5))\n",
        "\n",
        "model.add(Dense(1, activation=\"sigmoid\"))\n",
        "\n",
        "model.summary()"
      ]
    },
    {
      "cell_type": "code",
      "execution_count": null,
      "metadata": {
        "id": "q9MIZqzn2pSZ"
      },
      "outputs": [],
      "source": [
        "model.compile(loss='binary_crossentropy', optimizer=optimizers.Adam(learning_rate=0.00001), metrics=[keras.metrics.AUC(), 'accuracy'])"
      ]
    },
    {
      "cell_type": "code",
      "execution_count": null,
      "metadata": {
        "colab": {
          "base_uri": "https://localhost:8080/"
        },
        "id": "F5-3NJxL2pSZ",
        "outputId": "f4ef498e-3e4f-4779-b7bf-f0e45c082b27"
      },
      "outputs": [
        {
          "name": "stdout",
          "output_type": "stream",
          "text": [
            "Epoch 1/100\n",
            "244/244 [==============================] - 62s 248ms/step - loss: 0.6242 - auc: 0.6973 - accuracy: 0.6315 - val_loss: 0.5551 - val_auc: 0.7667 - val_accuracy: 0.6664\n",
            "Epoch 2/100\n",
            "244/244 [==============================] - 61s 249ms/step - loss: 0.5770 - auc: 0.7613 - accuracy: 0.6558 - val_loss: 0.5800 - val_auc: 0.7910 - val_accuracy: 0.6549\n",
            "Epoch 3/100\n",
            "244/244 [==============================] - 61s 246ms/step - loss: 0.5588 - auc: 0.7809 - accuracy: 0.6797 - val_loss: 0.6240 - val_auc: 0.7992 - val_accuracy: 0.6295\n",
            "Epoch 4/100\n",
            "244/244 [==============================] - 61s 247ms/step - loss: 0.5462 - auc: 0.7921 - accuracy: 0.6925 - val_loss: 0.6103 - val_auc: 0.8045 - val_accuracy: 0.6459\n",
            "Epoch 5/100\n",
            "244/244 [==============================] - 61s 246ms/step - loss: 0.5361 - auc: 0.8023 - accuracy: 0.7032 - val_loss: 0.5584 - val_auc: 0.8081 - val_accuracy: 0.6850\n",
            "Epoch 6/100\n",
            "244/244 [==============================] - 69s 281ms/step - loss: 0.5253 - auc: 0.8105 - accuracy: 0.7140 - val_loss: 0.6111 - val_auc: 0.8109 - val_accuracy: 0.6531\n",
            "Epoch 7/100\n",
            "244/244 [==============================] - 61s 248ms/step - loss: 0.5181 - auc: 0.8179 - accuracy: 0.7217 - val_loss: 0.5375 - val_auc: 0.8143 - val_accuracy: 0.7073\n",
            "Epoch 8/100\n",
            "244/244 [==============================] - 61s 247ms/step - loss: 0.5079 - auc: 0.8264 - accuracy: 0.7298 - val_loss: 0.5435 - val_auc: 0.8158 - val_accuracy: 0.7029\n",
            "Epoch 9/100\n",
            "244/244 [==============================] - 61s 248ms/step - loss: 0.4969 - auc: 0.8354 - accuracy: 0.7436 - val_loss: 0.5954 - val_auc: 0.8189 - val_accuracy: 0.6674\n",
            "Epoch 10/100\n",
            "244/244 [==============================] - 60s 244ms/step - loss: 0.4917 - auc: 0.8386 - accuracy: 0.7491 - val_loss: 0.4917 - val_auc: 0.8188 - val_accuracy: 0.7495\n",
            "Epoch 11/100\n",
            "244/244 [==============================] - 61s 249ms/step - loss: 0.4851 - auc: 0.8442 - accuracy: 0.7559 - val_loss: 0.4870 - val_auc: 0.8208 - val_accuracy: 0.7539\n",
            "Epoch 12/100\n",
            "244/244 [==============================] - 61s 247ms/step - loss: 0.4739 - auc: 0.8530 - accuracy: 0.7648 - val_loss: 0.5086 - val_auc: 0.8220 - val_accuracy: 0.7393\n",
            "Epoch 13/100\n",
            "244/244 [==============================] - 61s 249ms/step - loss: 0.4704 - auc: 0.8557 - accuracy: 0.7708 - val_loss: 0.4687 - val_auc: 0.8229 - val_accuracy: 0.7697\n",
            "Epoch 14/100\n",
            "244/244 [==============================] - 61s 247ms/step - loss: 0.4642 - auc: 0.8598 - accuracy: 0.7735 - val_loss: 0.4414 - val_auc: 0.8223 - val_accuracy: 0.7904\n",
            "Epoch 15/100\n",
            "244/244 [==============================] - 61s 247ms/step - loss: 0.4592 - auc: 0.8630 - accuracy: 0.7785 - val_loss: 0.5532 - val_auc: 0.8259 - val_accuracy: 0.7079\n",
            "Epoch 16/100\n",
            "244/244 [==============================] - 61s 246ms/step - loss: 0.4506 - auc: 0.8688 - accuracy: 0.7848 - val_loss: 0.4390 - val_auc: 0.8225 - val_accuracy: 0.7963\n",
            "Epoch 17/100\n",
            "244/244 [==============================] - 61s 246ms/step - loss: 0.4443 - auc: 0.8743 - accuracy: 0.7904 - val_loss: 0.4669 - val_auc: 0.8241 - val_accuracy: 0.7763\n",
            "Epoch 18/100\n",
            "244/244 [==============================] - 61s 246ms/step - loss: 0.4368 - auc: 0.8788 - accuracy: 0.7970 - val_loss: 0.4263 - val_auc: 0.8202 - val_accuracy: 0.8100\n",
            "Epoch 19/100\n",
            "244/244 [==============================] - 61s 247ms/step - loss: 0.4359 - auc: 0.8795 - accuracy: 0.8007 - val_loss: 0.5370 - val_auc: 0.8282 - val_accuracy: 0.7219\n",
            "Epoch 20/100\n",
            "244/244 [==============================] - 61s 247ms/step - loss: 0.4257 - auc: 0.8859 - accuracy: 0.8037 - val_loss: 0.4920 - val_auc: 0.8258 - val_accuracy: 0.7587\n",
            "Epoch 21/100\n",
            "244/244 [==============================] - 61s 246ms/step - loss: 0.4185 - auc: 0.8911 - accuracy: 0.8131 - val_loss: 0.4764 - val_auc: 0.8255 - val_accuracy: 0.7704\n",
            "Epoch 22/100\n",
            "244/244 [==============================] - 69s 280ms/step - loss: 0.4136 - auc: 0.8931 - accuracy: 0.8133 - val_loss: 0.4549 - val_auc: 0.8232 - val_accuracy: 0.7906\n",
            "Epoch 23/100\n",
            "244/244 [==============================] - 69s 279ms/step - loss: 0.4084 - auc: 0.8963 - accuracy: 0.8183 - val_loss: 0.4670 - val_auc: 0.8235 - val_accuracy: 0.7809\n",
            "Epoch 24/100\n",
            "243/244 [============================>.] - ETA: 0s - loss: 0.4012 - auc: 0.9001 - accuracy: 0.8263Restoring model weights from the end of the best epoch: 19.\n",
            "244/244 [==============================] - 61s 247ms/step - loss: 0.4012 - auc: 0.9001 - accuracy: 0.8264 - val_loss: 0.4304 - val_auc: 0.8221 - val_accuracy: 0.8098\n",
            "Epoch 24: early stopping\n"
          ]
        }
      ],
      "source": [
        "run_hist = model.fit(normalized_data, validation_data=normalized_val_data, epochs=100, class_weight={0:w0, 1:w1},\n",
        "  callbacks=[keras.callbacks.EarlyStopping(\n",
        "                  monitor=\"val_auc\",\n",
        "                  min_delta=0,\n",
        "                  patience=5,\n",
        "                  verbose=1,\n",
        "                  mode=\"auto\",\n",
        "                  baseline=None,\n",
        "                  restore_best_weights=True,\n",
        "              )])"
      ]
    },
    {
      "cell_type": "code",
      "execution_count": null,
      "metadata": {
        "colab": {
          "base_uri": "https://localhost:8080/"
        },
        "id": "IsCHsKAf2pSZ",
        "outputId": "832a65b6-6846-4988-b4ec-55e51ad7918b"
      },
      "outputs": [
        {
          "name": "stdout",
          "output_type": "stream",
          "text": [
            "183/183 [==============================] - 20s 104ms/step - loss: 0.5538 - auc: 0.8154 - accuracy: 0.7150\n",
            "[0.5537827014923096, 0.8153848648071289, 0.7149592638015747]\n"
          ]
        }
      ],
      "source": [
        "results = model.evaluate(normalized_test_data)\n",
        "print(results)"
      ]
    },
    {
      "cell_type": "markdown",
      "metadata": {
        "id": "ndMuYQTZwIjA"
      },
      "source": [
        "## Com mais pooling"
      ]
    },
    {
      "cell_type": "markdown",
      "metadata": {
        "id": "K4OSLVKiwRGJ"
      },
      "source": [
        "#### N512-L1-D3"
      ]
    },
    {
      "cell_type": "code",
      "execution_count": null,
      "metadata": {
        "id": "qFWD_bUqwRGJ"
      },
      "outputs": [],
      "source": [
        "N = 512\n",
        "NAME = \"N512-L1-D3\"\n",
        "keras.backend.clear_session()"
      ]
    },
    {
      "cell_type": "code",
      "execution_count": null,
      "metadata": {
        "colab": {
          "base_uri": "https://localhost:8080/"
        },
        "id": "HnLURP6mwRGJ",
        "outputId": "b52e1eae-1a49-4a6a-b1ac-6f075b38ffeb"
      },
      "outputs": [
        {
          "name": "stdout",
          "output_type": "stream",
          "text": [
            "Model: \"sequential\"\n",
            "_________________________________________________________________\n",
            " Layer (type)                Output Shape              Param #   \n",
            "=================================================================\n",
            " conv2d (Conv2D)             (None, 256, 256, 32)      896       \n",
            "                                                                 \n",
            " max_pooling2d (MaxPooling2D  (None, 128, 128, 32)     0         \n",
            " )                                                               \n",
            "                                                                 \n",
            " conv2d_1 (Conv2D)           (None, 64, 64, 32)        9248      \n",
            "                                                                 \n",
            " max_pooling2d_1 (MaxPooling  (None, 32, 32, 32)       0         \n",
            " 2D)                                                             \n",
            "                                                                 \n",
            " conv2d_2 (Conv2D)           (None, 16, 16, 64)        18496     \n",
            "                                                                 \n",
            " max_pooling2d_2 (MaxPooling  (None, 8, 8, 64)         0         \n",
            " 2D)                                                             \n",
            "                                                                 \n",
            " dense (Dense)               (None, 8, 8, 128)         8320      \n",
            "                                                                 \n",
            " flatten (Flatten)           (None, 8192)              0         \n",
            "                                                                 \n",
            " dense_1 (Dense)             (None, 512)               4194816   \n",
            "                                                                 \n",
            " dropout (Dropout)           (None, 512)               0         \n",
            "                                                                 \n",
            " dense_2 (Dense)             (None, 1)                 513       \n",
            "                                                                 \n",
            "=================================================================\n",
            "Total params: 4,232,289\n",
            "Trainable params: 4,232,289\n",
            "Non-trainable params: 0\n",
            "_________________________________________________________________\n"
          ]
        }
      ],
      "source": [
        "ins = image_batch.shape[1:]\n",
        "\n",
        "model = Sequential()\n",
        "\n",
        "model.add(Conv2D(32, (3,3), padding=\"same\", activation=\"relu\", input_shape=ins))\n",
        "\n",
        "model.add(MaxPooling2D(pool_size=(2, 2)))\n",
        "\n",
        "model.add(Conv2D(32, (3,3), padding=\"same\", strides = (2,2), activation=\"relu\"))\n",
        "\n",
        "model.add(MaxPooling2D(pool_size=(2, 2)))\n",
        "\n",
        "model.add(Conv2D(64, (3,3), padding=\"same\", strides = (2,2), activation=\"relu\"))\n",
        "\n",
        "model.add(MaxPooling2D(pool_size=(2, 2)))\n",
        "\n",
        "model.add(Dense(128, activation=\"relu\"))\n",
        "\n",
        "model.add(Flatten())\n",
        "\n",
        "model.add(Dense(N, activation=\"relu\"))\n",
        "\n",
        "model.add(Dropout(0.5))\n",
        "\n",
        "model.add(Dense(1, activation=\"sigmoid\"))\n",
        "\n",
        "model.summary()"
      ]
    },
    {
      "cell_type": "code",
      "execution_count": null,
      "metadata": {
        "id": "P64YIIqbwRGJ"
      },
      "outputs": [],
      "source": [
        "model.compile(loss='binary_crossentropy', optimizer=optimizers.Adam(learning_rate=0.00001), metrics=[keras.metrics.AUC(), 'accuracy'])"
      ]
    },
    {
      "cell_type": "code",
      "execution_count": null,
      "metadata": {
        "colab": {
          "base_uri": "https://localhost:8080/"
        },
        "id": "BZWfYztGwRGJ",
        "outputId": "bac25d09-445a-4e4a-b67f-9b715d5fbb39"
      },
      "outputs": [
        {
          "name": "stdout",
          "output_type": "stream",
          "text": [
            "Epoch 1/100\n",
            "244/244 [==============================] - 43s 169ms/step - loss: 0.6664 - auc: 0.6493 - accuracy: 0.6083 - val_loss: 0.6655 - val_auc: 0.6890 - val_accuracy: 0.6158\n",
            "Epoch 2/100\n",
            "244/244 [==============================] - 42s 169ms/step - loss: 0.6308 - auc: 0.6859 - accuracy: 0.6160 - val_loss: 0.6410 - val_auc: 0.7179 - val_accuracy: 0.6160\n",
            "Epoch 3/100\n",
            "244/244 [==============================] - 41s 167ms/step - loss: 0.6114 - auc: 0.7097 - accuracy: 0.6224 - val_loss: 0.5963 - val_auc: 0.7423 - val_accuracy: 0.6345\n",
            "Epoch 4/100\n",
            "244/244 [==============================] - 42s 168ms/step - loss: 0.5981 - auc: 0.7300 - accuracy: 0.6293 - val_loss: 0.5571 - val_auc: 0.7562 - val_accuracy: 0.6563\n",
            "Epoch 5/100\n",
            "244/244 [==============================] - 42s 168ms/step - loss: 0.5884 - auc: 0.7458 - accuracy: 0.6369 - val_loss: 0.5948 - val_auc: 0.7674 - val_accuracy: 0.6314\n",
            "Epoch 6/100\n",
            "244/244 [==============================] - 42s 168ms/step - loss: 0.5820 - auc: 0.7535 - accuracy: 0.6435 - val_loss: 0.5670 - val_auc: 0.7744 - val_accuracy: 0.6545\n",
            "Epoch 7/100\n",
            "244/244 [==============================] - 42s 168ms/step - loss: 0.5786 - auc: 0.7588 - accuracy: 0.6466 - val_loss: 0.5633 - val_auc: 0.7788 - val_accuracy: 0.6619\n",
            "Epoch 8/100\n",
            "244/244 [==============================] - 42s 170ms/step - loss: 0.5737 - auc: 0.7645 - accuracy: 0.6585 - val_loss: 0.5457 - val_auc: 0.7828 - val_accuracy: 0.6848\n",
            "Epoch 9/100\n",
            "244/244 [==============================] - 42s 168ms/step - loss: 0.5685 - auc: 0.7720 - accuracy: 0.6675 - val_loss: 0.5653 - val_auc: 0.7856 - val_accuracy: 0.6700\n",
            "Epoch 10/100\n",
            "244/244 [==============================] - 42s 169ms/step - loss: 0.5680 - auc: 0.7709 - accuracy: 0.6651 - val_loss: 0.5461 - val_auc: 0.7883 - val_accuracy: 0.6894\n",
            "Epoch 11/100\n",
            "244/244 [==============================] - 42s 168ms/step - loss: 0.5633 - auc: 0.7768 - accuracy: 0.6749 - val_loss: 0.5687 - val_auc: 0.7899 - val_accuracy: 0.6714\n",
            "Epoch 12/100\n",
            "244/244 [==============================] - 42s 168ms/step - loss: 0.5629 - auc: 0.7772 - accuracy: 0.6780 - val_loss: 0.5374 - val_auc: 0.7923 - val_accuracy: 0.7033\n",
            "Epoch 13/100\n",
            "244/244 [==============================] - 41s 167ms/step - loss: 0.5602 - auc: 0.7786 - accuracy: 0.6791 - val_loss: 0.5774 - val_auc: 0.7935 - val_accuracy: 0.6687\n",
            "Epoch 14/100\n",
            "244/244 [==============================] - 41s 167ms/step - loss: 0.5544 - auc: 0.7852 - accuracy: 0.6867 - val_loss: 0.5971 - val_auc: 0.7951 - val_accuracy: 0.6489\n",
            "Epoch 15/100\n",
            "244/244 [==============================] - 49s 200ms/step - loss: 0.5536 - auc: 0.7871 - accuracy: 0.6841 - val_loss: 0.5535 - val_auc: 0.7968 - val_accuracy: 0.6911\n",
            "Epoch 16/100\n",
            "244/244 [==============================] - 42s 168ms/step - loss: 0.5520 - auc: 0.7890 - accuracy: 0.6853 - val_loss: 0.5200 - val_auc: 0.7981 - val_accuracy: 0.7219\n",
            "Epoch 17/100\n",
            "244/244 [==============================] - 41s 167ms/step - loss: 0.5480 - auc: 0.7916 - accuracy: 0.6910 - val_loss: 0.5488 - val_auc: 0.7992 - val_accuracy: 0.6953\n",
            "Epoch 18/100\n",
            "244/244 [==============================] - 42s 170ms/step - loss: 0.5460 - auc: 0.7937 - accuracy: 0.6941 - val_loss: 0.5413 - val_auc: 0.8007 - val_accuracy: 0.7037\n",
            "Epoch 19/100\n",
            "244/244 [==============================] - 42s 168ms/step - loss: 0.5445 - auc: 0.7955 - accuracy: 0.6979 - val_loss: 0.5218 - val_auc: 0.8020 - val_accuracy: 0.7220\n",
            "Epoch 20/100\n",
            "244/244 [==============================] - 42s 168ms/step - loss: 0.5418 - auc: 0.7970 - accuracy: 0.6979 - val_loss: 0.5144 - val_auc: 0.8022 - val_accuracy: 0.7286\n",
            "Epoch 21/100\n",
            "244/244 [==============================] - 41s 167ms/step - loss: 0.5390 - auc: 0.8000 - accuracy: 0.7047 - val_loss: 0.5391 - val_auc: 0.8045 - val_accuracy: 0.7083\n",
            "Epoch 22/100\n",
            "244/244 [==============================] - 42s 168ms/step - loss: 0.5392 - auc: 0.8000 - accuracy: 0.7033 - val_loss: 0.5356 - val_auc: 0.8057 - val_accuracy: 0.7091\n",
            "Epoch 23/100\n",
            "244/244 [==============================] - 41s 167ms/step - loss: 0.5346 - auc: 0.8031 - accuracy: 0.7096 - val_loss: 0.5412 - val_auc: 0.8067 - val_accuracy: 0.7052\n",
            "Epoch 24/100\n",
            "244/244 [==============================] - 41s 167ms/step - loss: 0.5334 - auc: 0.8052 - accuracy: 0.7114 - val_loss: 0.4787 - val_auc: 0.8049 - val_accuracy: 0.7628\n",
            "Epoch 25/100\n",
            "244/244 [==============================] - 42s 168ms/step - loss: 0.5329 - auc: 0.8062 - accuracy: 0.7124 - val_loss: 0.5082 - val_auc: 0.8073 - val_accuracy: 0.7364\n",
            "Epoch 26/100\n",
            "244/244 [==============================] - 42s 168ms/step - loss: 0.5311 - auc: 0.8066 - accuracy: 0.7162 - val_loss: 0.5059 - val_auc: 0.8075 - val_accuracy: 0.7372\n",
            "Epoch 27/100\n",
            "244/244 [==============================] - 42s 168ms/step - loss: 0.5254 - auc: 0.8111 - accuracy: 0.7169 - val_loss: 0.4876 - val_auc: 0.8070 - val_accuracy: 0.7555\n",
            "Epoch 28/100\n",
            "244/244 [==============================] - 42s 169ms/step - loss: 0.5263 - auc: 0.8115 - accuracy: 0.7209 - val_loss: 0.5648 - val_auc: 0.8098 - val_accuracy: 0.6905\n",
            "Epoch 29/100\n",
            "244/244 [==============================] - 41s 166ms/step - loss: 0.5240 - auc: 0.8122 - accuracy: 0.7204 - val_loss: 0.5317 - val_auc: 0.8101 - val_accuracy: 0.7156\n",
            "Epoch 30/100\n",
            "244/244 [==============================] - 41s 167ms/step - loss: 0.5236 - auc: 0.8129 - accuracy: 0.7168 - val_loss: 0.5040 - val_auc: 0.8104 - val_accuracy: 0.7394\n",
            "Epoch 31/100\n",
            "244/244 [==============================] - 41s 166ms/step - loss: 0.5197 - auc: 0.8171 - accuracy: 0.7253 - val_loss: 0.5063 - val_auc: 0.8116 - val_accuracy: 0.7386\n",
            "Epoch 32/100\n",
            "244/244 [==============================] - 41s 167ms/step - loss: 0.5212 - auc: 0.8151 - accuracy: 0.7208 - val_loss: 0.5338 - val_auc: 0.8118 - val_accuracy: 0.7142\n",
            "Epoch 33/100\n",
            "244/244 [==============================] - 41s 167ms/step - loss: 0.5194 - auc: 0.8171 - accuracy: 0.7245 - val_loss: 0.4994 - val_auc: 0.8126 - val_accuracy: 0.7433\n",
            "Epoch 34/100\n",
            "244/244 [==============================] - 42s 168ms/step - loss: 0.5151 - auc: 0.8198 - accuracy: 0.7287 - val_loss: 0.5602 - val_auc: 0.8136 - val_accuracy: 0.6959\n",
            "Epoch 35/100\n",
            "244/244 [==============================] - 41s 166ms/step - loss: 0.5171 - auc: 0.8188 - accuracy: 0.7236 - val_loss: 0.5148 - val_auc: 0.8132 - val_accuracy: 0.7309\n",
            "Epoch 36/100\n",
            "244/244 [==============================] - 41s 166ms/step - loss: 0.5145 - auc: 0.8212 - accuracy: 0.7312 - val_loss: 0.5351 - val_auc: 0.8151 - val_accuracy: 0.7132\n",
            "Epoch 37/100\n",
            "244/244 [==============================] - 42s 168ms/step - loss: 0.5119 - auc: 0.8237 - accuracy: 0.7319 - val_loss: 0.5641 - val_auc: 0.8149 - val_accuracy: 0.6931\n",
            "Epoch 38/100\n",
            "244/244 [==============================] - 42s 168ms/step - loss: 0.5105 - auc: 0.8241 - accuracy: 0.7321 - val_loss: 0.4934 - val_auc: 0.8139 - val_accuracy: 0.7529\n",
            "Epoch 39/100\n",
            "244/244 [==============================] - 42s 168ms/step - loss: 0.5079 - auc: 0.8255 - accuracy: 0.7335 - val_loss: 0.4682 - val_auc: 0.8131 - val_accuracy: 0.7731\n",
            "Epoch 40/100\n",
            "244/244 [==============================] - 41s 167ms/step - loss: 0.5065 - auc: 0.8291 - accuracy: 0.7401 - val_loss: 0.5345 - val_auc: 0.8156 - val_accuracy: 0.7156\n",
            "Epoch 41/100\n",
            "244/244 [==============================] - 50s 201ms/step - loss: 0.5037 - auc: 0.8288 - accuracy: 0.7392 - val_loss: 0.5130 - val_auc: 0.8158 - val_accuracy: 0.7376\n",
            "Epoch 42/100\n",
            "244/244 [==============================] - 41s 168ms/step - loss: 0.5035 - auc: 0.8302 - accuracy: 0.7420 - val_loss: 0.4960 - val_auc: 0.8156 - val_accuracy: 0.7508\n",
            "Epoch 43/100\n",
            "244/244 [==============================] - 42s 168ms/step - loss: 0.5011 - auc: 0.8317 - accuracy: 0.7451 - val_loss: 0.4845 - val_auc: 0.8164 - val_accuracy: 0.7575\n",
            "Epoch 44/100\n",
            "244/244 [==============================] - 41s 168ms/step - loss: 0.4999 - auc: 0.8319 - accuracy: 0.7442 - val_loss: 0.5388 - val_auc: 0.8176 - val_accuracy: 0.7134\n",
            "Epoch 45/100\n",
            "244/244 [==============================] - 42s 169ms/step - loss: 0.5000 - auc: 0.8314 - accuracy: 0.7377 - val_loss: 0.5041 - val_auc: 0.8163 - val_accuracy: 0.7470\n",
            "Epoch 46/100\n",
            "244/244 [==============================] - 42s 169ms/step - loss: 0.4981 - auc: 0.8331 - accuracy: 0.7458 - val_loss: 0.4579 - val_auc: 0.8163 - val_accuracy: 0.7813\n",
            "Epoch 47/100\n",
            "244/244 [==============================] - 50s 202ms/step - loss: 0.4973 - auc: 0.8336 - accuracy: 0.7492 - val_loss: 0.4603 - val_auc: 0.8175 - val_accuracy: 0.7780\n",
            "Epoch 48/100\n",
            "244/244 [==============================] - 42s 168ms/step - loss: 0.4946 - auc: 0.8371 - accuracy: 0.7492 - val_loss: 0.4732 - val_auc: 0.8179 - val_accuracy: 0.7709\n",
            "Epoch 49/100\n",
            "244/244 [==============================] - 42s 168ms/step - loss: 0.4943 - auc: 0.8364 - accuracy: 0.7492 - val_loss: 0.4619 - val_auc: 0.8184 - val_accuracy: 0.7807\n",
            "Epoch 50/100\n",
            "244/244 [==============================] - 42s 168ms/step - loss: 0.4907 - auc: 0.8395 - accuracy: 0.7549 - val_loss: 0.4838 - val_auc: 0.8187 - val_accuracy: 0.7602\n",
            "Epoch 51/100\n",
            "244/244 [==============================] - 42s 169ms/step - loss: 0.4912 - auc: 0.8381 - accuracy: 0.7573 - val_loss: 0.5059 - val_auc: 0.8187 - val_accuracy: 0.7452\n",
            "Epoch 52/100\n",
            "244/244 [==============================] - 42s 168ms/step - loss: 0.4877 - auc: 0.8420 - accuracy: 0.7549 - val_loss: 0.4936 - val_auc: 0.8195 - val_accuracy: 0.7561\n",
            "Epoch 53/100\n",
            "244/244 [==============================] - 42s 169ms/step - loss: 0.4890 - auc: 0.8397 - accuracy: 0.7566 - val_loss: 0.4781 - val_auc: 0.8199 - val_accuracy: 0.7663\n",
            "Epoch 54/100\n",
            "244/244 [==============================] - 42s 168ms/step - loss: 0.4878 - auc: 0.8409 - accuracy: 0.7606 - val_loss: 0.4977 - val_auc: 0.8202 - val_accuracy: 0.7540\n",
            "Epoch 55/100\n",
            "244/244 [==============================] - 42s 170ms/step - loss: 0.4857 - auc: 0.8425 - accuracy: 0.7583 - val_loss: 0.4934 - val_auc: 0.8207 - val_accuracy: 0.7565\n",
            "Epoch 56/100\n",
            "244/244 [==============================] - 42s 168ms/step - loss: 0.4841 - auc: 0.8431 - accuracy: 0.7598 - val_loss: 0.5366 - val_auc: 0.8221 - val_accuracy: 0.7195\n",
            "Epoch 57/100\n",
            "244/244 [==============================] - 42s 170ms/step - loss: 0.4829 - auc: 0.8438 - accuracy: 0.7569 - val_loss: 0.4713 - val_auc: 0.8212 - val_accuracy: 0.7724\n",
            "Epoch 58/100\n",
            "244/244 [==============================] - 42s 169ms/step - loss: 0.4814 - auc: 0.8464 - accuracy: 0.7605 - val_loss: 0.5216 - val_auc: 0.8223 - val_accuracy: 0.7339\n",
            "Epoch 59/100\n",
            "244/244 [==============================] - 42s 168ms/step - loss: 0.4789 - auc: 0.8481 - accuracy: 0.7647 - val_loss: 0.4985 - val_auc: 0.8223 - val_accuracy: 0.7502\n",
            "Epoch 60/100\n",
            "244/244 [==============================] - 50s 203ms/step - loss: 0.4779 - auc: 0.8483 - accuracy: 0.7636 - val_loss: 0.4876 - val_auc: 0.8219 - val_accuracy: 0.7614\n",
            "Epoch 61/100\n",
            "244/244 [==============================] - 42s 169ms/step - loss: 0.4759 - auc: 0.8493 - accuracy: 0.7666 - val_loss: 0.5056 - val_auc: 0.8231 - val_accuracy: 0.7448\n",
            "Epoch 62/100\n",
            "244/244 [==============================] - 42s 168ms/step - loss: 0.4753 - auc: 0.8507 - accuracy: 0.7659 - val_loss: 0.4555 - val_auc: 0.8223 - val_accuracy: 0.7894\n",
            "Epoch 63/100\n",
            "244/244 [==============================] - 41s 167ms/step - loss: 0.4757 - auc: 0.8492 - accuracy: 0.7671 - val_loss: 0.4641 - val_auc: 0.8229 - val_accuracy: 0.7822\n",
            "Epoch 64/100\n",
            "244/244 [==============================] - 41s 168ms/step - loss: 0.4747 - auc: 0.8512 - accuracy: 0.7672 - val_loss: 0.5164 - val_auc: 0.8245 - val_accuracy: 0.7371\n",
            "Epoch 65/100\n",
            "244/244 [==============================] - 42s 169ms/step - loss: 0.4744 - auc: 0.8506 - accuracy: 0.7683 - val_loss: 0.5146 - val_auc: 0.8246 - val_accuracy: 0.7386\n",
            "Epoch 66/100\n",
            "244/244 [==============================] - 42s 168ms/step - loss: 0.4713 - auc: 0.8523 - accuracy: 0.7720 - val_loss: 0.4839 - val_auc: 0.8244 - val_accuracy: 0.7630\n",
            "Epoch 67/100\n",
            "244/244 [==============================] - 42s 168ms/step - loss: 0.4708 - auc: 0.8530 - accuracy: 0.7676 - val_loss: 0.5205 - val_auc: 0.8246 - val_accuracy: 0.7337\n",
            "Epoch 68/100\n",
            "244/244 [==============================] - 42s 169ms/step - loss: 0.4677 - auc: 0.8566 - accuracy: 0.7749 - val_loss: 0.4635 - val_auc: 0.8229 - val_accuracy: 0.7846\n",
            "Epoch 69/100\n",
            "244/244 [==============================] - 42s 168ms/step - loss: 0.4659 - auc: 0.8569 - accuracy: 0.7767 - val_loss: 0.4637 - val_auc: 0.8236 - val_accuracy: 0.7823\n",
            "Epoch 70/100\n",
            "244/244 [==============================] - 50s 202ms/step - loss: 0.4642 - auc: 0.8583 - accuracy: 0.7736 - val_loss: 0.5152 - val_auc: 0.8256 - val_accuracy: 0.7407\n",
            "Epoch 71/100\n",
            "244/244 [==============================] - 42s 168ms/step - loss: 0.4663 - auc: 0.8558 - accuracy: 0.7744 - val_loss: 0.4268 - val_auc: 0.8224 - val_accuracy: 0.8073\n",
            "Epoch 72/100\n",
            "244/244 [==============================] - 42s 168ms/step - loss: 0.4649 - auc: 0.8574 - accuracy: 0.7785 - val_loss: 0.5098 - val_auc: 0.8263 - val_accuracy: 0.7429\n",
            "Epoch 73/100\n",
            "244/244 [==============================] - 42s 169ms/step - loss: 0.4617 - auc: 0.8598 - accuracy: 0.7805 - val_loss: 0.5113 - val_auc: 0.8266 - val_accuracy: 0.7430\n",
            "Epoch 74/100\n",
            "244/244 [==============================] - 41s 167ms/step - loss: 0.4572 - auc: 0.8633 - accuracy: 0.7809 - val_loss: 0.4573 - val_auc: 0.8253 - val_accuracy: 0.7870\n",
            "Epoch 75/100\n",
            "244/244 [==============================] - 42s 168ms/step - loss: 0.4577 - auc: 0.8630 - accuracy: 0.7821 - val_loss: 0.4351 - val_auc: 0.8240 - val_accuracy: 0.8044\n",
            "Epoch 76/100\n",
            "244/244 [==============================] - 42s 169ms/step - loss: 0.4575 - auc: 0.8612 - accuracy: 0.7810 - val_loss: 0.4457 - val_auc: 0.8251 - val_accuracy: 0.7948\n",
            "Epoch 77/100\n",
            "244/244 [==============================] - 42s 168ms/step - loss: 0.4580 - auc: 0.8616 - accuracy: 0.7828 - val_loss: 0.4935 - val_auc: 0.8274 - val_accuracy: 0.7597\n",
            "Epoch 78/100\n",
            "244/244 [==============================] - 42s 168ms/step - loss: 0.4550 - auc: 0.8652 - accuracy: 0.7822 - val_loss: 0.4641 - val_auc: 0.8255 - val_accuracy: 0.7849\n",
            "Epoch 79/100\n",
            "244/244 [==============================] - 42s 169ms/step - loss: 0.4545 - auc: 0.8646 - accuracy: 0.7843 - val_loss: 0.4797 - val_auc: 0.8281 - val_accuracy: 0.7687\n",
            "Epoch 80/100\n",
            "244/244 [==============================] - 42s 168ms/step - loss: 0.4529 - auc: 0.8662 - accuracy: 0.7864 - val_loss: 0.4721 - val_auc: 0.8274 - val_accuracy: 0.7742\n",
            "Epoch 81/100\n",
            "244/244 [==============================] - 41s 166ms/step - loss: 0.4514 - auc: 0.8668 - accuracy: 0.7854 - val_loss: 0.4726 - val_auc: 0.8274 - val_accuracy: 0.7755\n",
            "Epoch 82/100\n",
            "244/244 [==============================] - 41s 167ms/step - loss: 0.4501 - auc: 0.8678 - accuracy: 0.7901 - val_loss: 0.4515 - val_auc: 0.8272 - val_accuracy: 0.7907\n",
            "Epoch 83/100\n",
            "244/244 [==============================] - 42s 168ms/step - loss: 0.4467 - auc: 0.8697 - accuracy: 0.7891 - val_loss: 0.5001 - val_auc: 0.8285 - val_accuracy: 0.7525\n",
            "Epoch 84/100\n",
            "244/244 [==============================] - 42s 168ms/step - loss: 0.4459 - auc: 0.8711 - accuracy: 0.7944 - val_loss: 0.4896 - val_auc: 0.8276 - val_accuracy: 0.7630\n",
            "Epoch 85/100\n",
            "244/244 [==============================] - 41s 167ms/step - loss: 0.4466 - auc: 0.8697 - accuracy: 0.7917 - val_loss: 0.5087 - val_auc: 0.8288 - val_accuracy: 0.7490\n",
            "Epoch 86/100\n",
            "244/244 [==============================] - 49s 200ms/step - loss: 0.4438 - auc: 0.8722 - accuracy: 0.7927 - val_loss: 0.4473 - val_auc: 0.8278 - val_accuracy: 0.7962\n",
            "Epoch 87/100\n",
            "244/244 [==============================] - 41s 166ms/step - loss: 0.4428 - auc: 0.8727 - accuracy: 0.7933 - val_loss: 0.4181 - val_auc: 0.8259 - val_accuracy: 0.8176\n",
            "Epoch 88/100\n",
            "244/244 [==============================] - 41s 167ms/step - loss: 0.4440 - auc: 0.8710 - accuracy: 0.7946 - val_loss: 0.4824 - val_auc: 0.8294 - val_accuracy: 0.7656\n",
            "Epoch 89/100\n",
            "244/244 [==============================] - 42s 168ms/step - loss: 0.4382 - auc: 0.8757 - accuracy: 0.7958 - val_loss: 0.4694 - val_auc: 0.8298 - val_accuracy: 0.7758\n",
            "Epoch 90/100\n",
            "244/244 [==============================] - 42s 168ms/step - loss: 0.4391 - auc: 0.8747 - accuracy: 0.7962 - val_loss: 0.4068 - val_auc: 0.8247 - val_accuracy: 0.8240\n",
            "Epoch 91/100\n",
            "244/244 [==============================] - 42s 168ms/step - loss: 0.4382 - auc: 0.8752 - accuracy: 0.7973 - val_loss: 0.4418 - val_auc: 0.8279 - val_accuracy: 0.7993\n",
            "Epoch 92/100\n",
            "244/244 [==============================] - 41s 167ms/step - loss: 0.4357 - auc: 0.8768 - accuracy: 0.7994 - val_loss: 0.4667 - val_auc: 0.8297 - val_accuracy: 0.7780\n",
            "Epoch 93/100\n",
            "244/244 [==============================] - 42s 168ms/step - loss: 0.4341 - auc: 0.8785 - accuracy: 0.8008 - val_loss: 0.5312 - val_auc: 0.8310 - val_accuracy: 0.7357\n",
            "Epoch 94/100\n",
            "244/244 [==============================] - 42s 169ms/step - loss: 0.4418 - auc: 0.8725 - accuracy: 0.7915 - val_loss: 0.4628 - val_auc: 0.8305 - val_accuracy: 0.7822\n",
            "Epoch 95/100\n",
            "244/244 [==============================] - 42s 169ms/step - loss: 0.4350 - auc: 0.8774 - accuracy: 0.7973 - val_loss: 0.4648 - val_auc: 0.8304 - val_accuracy: 0.7816\n",
            "Epoch 96/100\n",
            "244/244 [==============================] - 42s 168ms/step - loss: 0.4296 - auc: 0.8806 - accuracy: 0.8035 - val_loss: 0.4736 - val_auc: 0.8311 - val_accuracy: 0.7738\n",
            "Epoch 97/100\n",
            "244/244 [==============================] - 42s 168ms/step - loss: 0.4312 - auc: 0.8796 - accuracy: 0.7999 - val_loss: 0.4320 - val_auc: 0.8286 - val_accuracy: 0.8069\n",
            "Epoch 98/100\n",
            "244/244 [==============================] - 42s 168ms/step - loss: 0.4285 - auc: 0.8809 - accuracy: 0.8051 - val_loss: 0.4966 - val_auc: 0.8323 - val_accuracy: 0.7582\n",
            "Epoch 99/100\n",
            "244/244 [==============================] - 42s 169ms/step - loss: 0.4253 - auc: 0.8836 - accuracy: 0.8025 - val_loss: 0.4168 - val_auc: 0.8262 - val_accuracy: 0.8200\n",
            "Epoch 100/100\n",
            "244/244 [==============================] - 42s 169ms/step - loss: 0.4276 - auc: 0.8828 - accuracy: 0.8067 - val_loss: 0.4851 - val_auc: 0.8319 - val_accuracy: 0.7641\n"
          ]
        }
      ],
      "source": [
        "run_hist = model.fit(normalized_data, validation_data=normalized_val_data, epochs=100, class_weight={0:w0, 1:w1}, \n",
        "  callbacks=[keras.callbacks.EarlyStopping(\n",
        "                  monitor=\"val_auc\",\n",
        "                  min_delta=0,\n",
        "                  patience=5,\n",
        "                  verbose=1,\n",
        "                  mode=\"auto\",\n",
        "                  baseline=None,\n",
        "                  restore_best_weights=True,\n",
        "              )])"
      ]
    },
    {
      "cell_type": "code",
      "execution_count": null,
      "metadata": {
        "colab": {
          "base_uri": "https://localhost:8080/"
        },
        "id": "MaSKymwOwRGK",
        "outputId": "22c7ea6d-fd77-4301-bc04-3d9d02fea138"
      },
      "outputs": [
        {
          "name": "stdout",
          "output_type": "stream",
          "text": [
            "183/183 [==============================] - 19s 102ms/step - loss: 0.5008 - auc: 0.8223 - accuracy: 0.7597\n",
            "[0.5007873177528381, 0.8222819566726685, 0.7597085237503052]\n"
          ]
        }
      ],
      "source": [
        "results = model.evaluate(normalized_test_data)\n",
        "print(results)"
      ]
    },
    {
      "cell_type": "markdown",
      "metadata": {
        "id": "jFvebp2XwRGK"
      },
      "source": [
        "#### N512-L3-D2"
      ]
    },
    {
      "cell_type": "code",
      "execution_count": null,
      "metadata": {
        "id": "CjgIhiDjwRGK"
      },
      "outputs": [],
      "source": [
        "N = 512\n",
        "NAME = \"N512-L3-D2\"\n",
        "keras.backend.clear_session()"
      ]
    },
    {
      "cell_type": "code",
      "execution_count": null,
      "metadata": {
        "colab": {
          "base_uri": "https://localhost:8080/"
        },
        "id": "tBG62KkvwRGK",
        "outputId": "56dcb46b-e523-4f3d-94a0-16d8ce657163"
      },
      "outputs": [
        {
          "name": "stdout",
          "output_type": "stream",
          "text": [
            "Model: \"sequential\"\n",
            "_________________________________________________________________\n",
            " Layer (type)                Output Shape              Param #   \n",
            "=================================================================\n",
            " conv2d (Conv2D)             (None, 256, 256, 32)      896       \n",
            "                                                                 \n",
            " max_pooling2d (MaxPooling2D  (None, 128, 128, 32)     0         \n",
            " )                                                               \n",
            "                                                                 \n",
            " conv2d_1 (Conv2D)           (None, 64, 64, 32)        9248      \n",
            "                                                                 \n",
            " max_pooling2d_1 (MaxPooling  (None, 32, 32, 32)       0         \n",
            " 2D)                                                             \n",
            "                                                                 \n",
            " conv2d_2 (Conv2D)           (None, 16, 16, 64)        18496     \n",
            "                                                                 \n",
            " dropout (Dropout)           (None, 16, 16, 64)        0         \n",
            "                                                                 \n",
            " max_pooling2d_2 (MaxPooling  (None, 8, 8, 64)         0         \n",
            " 2D)                                                             \n",
            "                                                                 \n",
            " dense (Dense)               (None, 8, 8, 128)         8320      \n",
            "                                                                 \n",
            " flatten (Flatten)           (None, 8192)              0         \n",
            "                                                                 \n",
            " dense_1 (Dense)             (None, 512)               4194816   \n",
            "                                                                 \n",
            " dense_2 (Dense)             (None, 512)               262656    \n",
            "                                                                 \n",
            " dense_3 (Dense)             (None, 512)               262656    \n",
            "                                                                 \n",
            " dropout_1 (Dropout)         (None, 512)               0         \n",
            "                                                                 \n",
            " dense_4 (Dense)             (None, 1)                 513       \n",
            "                                                                 \n",
            "=================================================================\n",
            "Total params: 4,757,601\n",
            "Trainable params: 4,757,601\n",
            "Non-trainable params: 0\n",
            "_________________________________________________________________\n"
          ]
        }
      ],
      "source": [
        "ins = image_batch.shape[1:]\n",
        "\n",
        "model = Sequential()\n",
        "\n",
        "model.add(Conv2D(32, (3,3), padding=\"same\", activation=\"relu\", input_shape=ins))\n",
        "\n",
        "model.add(MaxPooling2D(pool_size=(2, 2)))\n",
        "\n",
        "model.add(Conv2D(32, (3,3), padding=\"same\", strides = (2,2), activation=\"relu\"))\n",
        "\n",
        "model.add(MaxPooling2D(pool_size=(2, 2)))\n",
        "\n",
        "model.add(Conv2D(64, (3,3), padding=\"same\", strides = (2,2), activation=\"relu\"))\n",
        "\n",
        "model.add(Dropout(0.1))\n",
        "\n",
        "model.add(MaxPooling2D(pool_size=(2, 2)))\n",
        "\n",
        "model.add(Dense(128, activation=\"relu\"))\n",
        "\n",
        "model.add(Flatten())\n",
        "\n",
        "model.add(Dense(N, activation=\"relu\"))\n",
        "\n",
        "model.add(Dense(N, activation=\"relu\"))\n",
        "\n",
        "model.add(Dense(N, activation=\"relu\"))\n",
        "\n",
        "model.add(Dropout(0.5))\n",
        "\n",
        "model.add(Dense(1, activation=\"sigmoid\"))\n",
        "\n",
        "model.summary()"
      ]
    },
    {
      "cell_type": "code",
      "execution_count": null,
      "metadata": {
        "id": "-j8z-GwtwRGK"
      },
      "outputs": [],
      "source": [
        "model.compile(loss='binary_crossentropy', optimizer=optimizers.Adam(learning_rate=0.00001), metrics=[keras.metrics.AUC(), 'accuracy'])"
      ]
    },
    {
      "cell_type": "code",
      "execution_count": null,
      "metadata": {
        "colab": {
          "base_uri": "https://localhost:8080/"
        },
        "id": "EWGrlGP1wRGK",
        "outputId": "c8ab0a86-728a-4f1f-d3f6-2b69bda72de9"
      },
      "outputs": [
        {
          "name": "stdout",
          "output_type": "stream",
          "text": [
            "Epoch 1/100\n",
            "244/244 [==============================] - 63s 197ms/step - loss: 0.6692 - auc: 0.6463 - accuracy: 0.5237 - val_loss: 0.6827 - val_auc: 0.6926 - val_accuracy: 0.5989\n",
            "Epoch 2/100\n",
            "244/244 [==============================] - 47s 191ms/step - loss: 0.6337 - auc: 0.6834 - accuracy: 0.6066 - val_loss: 0.6183 - val_auc: 0.7260 - val_accuracy: 0.6319\n",
            "Epoch 3/100\n",
            "244/244 [==============================] - 46s 188ms/step - loss: 0.6127 - auc: 0.7146 - accuracy: 0.6210 - val_loss: 0.5769 - val_auc: 0.7522 - val_accuracy: 0.6557\n",
            "Epoch 4/100\n",
            "244/244 [==============================] - 47s 191ms/step - loss: 0.5961 - auc: 0.7381 - accuracy: 0.6351 - val_loss: 0.5978 - val_auc: 0.7684 - val_accuracy: 0.6273\n",
            "Epoch 5/100\n",
            "244/244 [==============================] - 46s 188ms/step - loss: 0.5865 - auc: 0.7509 - accuracy: 0.6448 - val_loss: 0.5939 - val_auc: 0.7773 - val_accuracy: 0.6432\n",
            "Epoch 6/100\n",
            "244/244 [==============================] - 47s 188ms/step - loss: 0.5803 - auc: 0.7587 - accuracy: 0.6599 - val_loss: 0.5661 - val_auc: 0.7802 - val_accuracy: 0.6724\n",
            "Epoch 7/100\n",
            "244/244 [==============================] - 48s 194ms/step - loss: 0.5718 - auc: 0.7686 - accuracy: 0.6718 - val_loss: 0.5508 - val_auc: 0.7827 - val_accuracy: 0.6939\n",
            "Epoch 8/100\n",
            "244/244 [==============================] - 48s 193ms/step - loss: 0.5682 - auc: 0.7725 - accuracy: 0.6794 - val_loss: 0.5790 - val_auc: 0.7864 - val_accuracy: 0.6664\n",
            "Epoch 9/100\n",
            "244/244 [==============================] - 55s 222ms/step - loss: 0.5620 - auc: 0.7786 - accuracy: 0.6822 - val_loss: 0.5961 - val_auc: 0.7904 - val_accuracy: 0.6554\n",
            "Epoch 10/100\n",
            "244/244 [==============================] - 47s 190ms/step - loss: 0.5599 - auc: 0.7804 - accuracy: 0.6837 - val_loss: 0.5838 - val_auc: 0.7922 - val_accuracy: 0.6691\n",
            "Epoch 11/100\n",
            "244/244 [==============================] - 48s 193ms/step - loss: 0.5544 - auc: 0.7860 - accuracy: 0.6990 - val_loss: 0.5417 - val_auc: 0.7939 - val_accuracy: 0.7100\n",
            "Epoch 12/100\n",
            "244/244 [==============================] - 47s 189ms/step - loss: 0.5522 - auc: 0.7883 - accuracy: 0.7009 - val_loss: 0.5759 - val_auc: 0.7954 - val_accuracy: 0.6800\n",
            "Epoch 13/100\n",
            "244/244 [==============================] - 47s 190ms/step - loss: 0.5445 - auc: 0.7937 - accuracy: 0.7015 - val_loss: 0.5547 - val_auc: 0.7951 - val_accuracy: 0.7053\n",
            "Epoch 14/100\n",
            "244/244 [==============================] - 47s 191ms/step - loss: 0.5436 - auc: 0.7962 - accuracy: 0.7081 - val_loss: 0.5837 - val_auc: 0.7974 - val_accuracy: 0.6796\n",
            "Epoch 15/100\n",
            "244/244 [==============================] - 55s 222ms/step - loss: 0.5424 - auc: 0.7969 - accuracy: 0.7114 - val_loss: 0.5526 - val_auc: 0.7993 - val_accuracy: 0.7025\n",
            "Epoch 16/100\n",
            "244/244 [==============================] - 46s 188ms/step - loss: 0.5403 - auc: 0.7977 - accuracy: 0.7094 - val_loss: 0.5950 - val_auc: 0.8013 - val_accuracy: 0.6662\n",
            "Epoch 17/100\n",
            "244/244 [==============================] - 46s 188ms/step - loss: 0.5323 - auc: 0.8057 - accuracy: 0.7170 - val_loss: 0.5089 - val_auc: 0.8009 - val_accuracy: 0.7449\n",
            "Epoch 18/100\n",
            "244/244 [==============================] - 47s 191ms/step - loss: 0.5296 - auc: 0.8082 - accuracy: 0.7223 - val_loss: 0.5872 - val_auc: 0.8021 - val_accuracy: 0.6831\n",
            "Epoch 19/100\n",
            "244/244 [==============================] - 47s 191ms/step - loss: 0.5240 - auc: 0.8123 - accuracy: 0.7262 - val_loss: 0.5451 - val_auc: 0.8026 - val_accuracy: 0.7191\n",
            "Epoch 20/100\n",
            "244/244 [==============================] - 55s 221ms/step - loss: 0.5263 - auc: 0.8104 - accuracy: 0.7217 - val_loss: 0.5036 - val_auc: 0.8031 - val_accuracy: 0.7511\n",
            "Epoch 21/100\n",
            "244/244 [==============================] - 46s 187ms/step - loss: 0.5197 - auc: 0.8154 - accuracy: 0.7305 - val_loss: 0.5881 - val_auc: 0.8049 - val_accuracy: 0.6759\n",
            "Epoch 22/100\n",
            "244/244 [==============================] - 56s 225ms/step - loss: 0.5199 - auc: 0.8150 - accuracy: 0.7306 - val_loss: 0.5299 - val_auc: 0.8036 - val_accuracy: 0.7332\n",
            "Epoch 23/100\n",
            "244/244 [==============================] - 48s 193ms/step - loss: 0.5167 - auc: 0.8181 - accuracy: 0.7324 - val_loss: 0.5537 - val_auc: 0.8048 - val_accuracy: 0.7146\n",
            "Epoch 24/100\n",
            "244/244 [==============================] - 47s 189ms/step - loss: 0.5164 - auc: 0.8185 - accuracy: 0.7294 - val_loss: 0.4854 - val_auc: 0.8029 - val_accuracy: 0.7738\n",
            "Epoch 25/100\n",
            "244/244 [==============================] - 47s 191ms/step - loss: 0.5117 - auc: 0.8214 - accuracy: 0.7403 - val_loss: 0.5501 - val_auc: 0.8078 - val_accuracy: 0.7123\n",
            "Epoch 26/100\n",
            "244/244 [==============================] - 47s 190ms/step - loss: 0.5119 - auc: 0.8216 - accuracy: 0.7312 - val_loss: 0.5460 - val_auc: 0.8105 - val_accuracy: 0.7141\n",
            "Epoch 27/100\n",
            "244/244 [==============================] - 46s 188ms/step - loss: 0.5054 - auc: 0.8265 - accuracy: 0.7390 - val_loss: 0.4917 - val_auc: 0.8059 - val_accuracy: 0.7693\n",
            "Epoch 28/100\n",
            "244/244 [==============================] - 47s 188ms/step - loss: 0.5025 - auc: 0.8295 - accuracy: 0.7456 - val_loss: 0.5233 - val_auc: 0.8093 - val_accuracy: 0.7372\n",
            "Epoch 29/100\n",
            "244/244 [==============================] - 46s 187ms/step - loss: 0.4965 - auc: 0.8340 - accuracy: 0.7503 - val_loss: 0.5113 - val_auc: 0.8121 - val_accuracy: 0.7476\n",
            "Epoch 30/100\n",
            "244/244 [==============================] - 46s 188ms/step - loss: 0.4952 - auc: 0.8344 - accuracy: 0.7500 - val_loss: 0.4491 - val_auc: 0.8074 - val_accuracy: 0.7987\n",
            "Epoch 31/100\n",
            "244/244 [==============================] - 47s 190ms/step - loss: 0.4935 - auc: 0.8357 - accuracy: 0.7537 - val_loss: 0.4977 - val_auc: 0.8115 - val_accuracy: 0.7571\n",
            "Epoch 32/100\n",
            "244/244 [==============================] - 47s 189ms/step - loss: 0.4901 - auc: 0.8383 - accuracy: 0.7578 - val_loss: 0.4557 - val_auc: 0.8080 - val_accuracy: 0.7956\n",
            "Epoch 33/100\n",
            "244/244 [==============================] - 47s 192ms/step - loss: 0.4861 - auc: 0.8409 - accuracy: 0.7601 - val_loss: 0.5659 - val_auc: 0.8136 - val_accuracy: 0.7078\n",
            "Epoch 34/100\n",
            "244/244 [==============================] - 46s 188ms/step - loss: 0.4876 - auc: 0.8394 - accuracy: 0.7593 - val_loss: 0.5188 - val_auc: 0.8149 - val_accuracy: 0.7393\n",
            "Epoch 35/100\n",
            "244/244 [==============================] - 47s 191ms/step - loss: 0.4815 - auc: 0.8449 - accuracy: 0.7633 - val_loss: 0.4386 - val_auc: 0.8110 - val_accuracy: 0.8020\n",
            "Epoch 36/100\n",
            "244/244 [==============================] - 47s 189ms/step - loss: 0.4826 - auc: 0.8430 - accuracy: 0.7658 - val_loss: 0.4365 - val_auc: 0.8115 - val_accuracy: 0.8061\n",
            "Epoch 37/100\n",
            "244/244 [==============================] - 46s 186ms/step - loss: 0.4805 - auc: 0.8459 - accuracy: 0.7648 - val_loss: 0.4471 - val_auc: 0.8122 - val_accuracy: 0.7944\n",
            "Epoch 38/100\n",
            "244/244 [==============================] - 47s 191ms/step - loss: 0.4737 - auc: 0.8501 - accuracy: 0.7680 - val_loss: 0.4612 - val_auc: 0.8159 - val_accuracy: 0.7871\n",
            "Epoch 39/100\n",
            "244/244 [==============================] - 47s 191ms/step - loss: 0.4657 - auc: 0.8570 - accuracy: 0.7803 - val_loss: 0.5299 - val_auc: 0.8202 - val_accuracy: 0.7308\n",
            "Epoch 40/100\n",
            "244/244 [==============================] - 47s 191ms/step - loss: 0.4661 - auc: 0.8552 - accuracy: 0.7769 - val_loss: 0.5593 - val_auc: 0.8208 - val_accuracy: 0.7107\n",
            "Epoch 41/100\n",
            "244/244 [==============================] - 46s 188ms/step - loss: 0.4622 - auc: 0.8574 - accuracy: 0.7776 - val_loss: 0.4617 - val_auc: 0.8185 - val_accuracy: 0.7867\n",
            "Epoch 42/100\n",
            "244/244 [==============================] - 48s 192ms/step - loss: 0.4596 - auc: 0.8593 - accuracy: 0.7814 - val_loss: 0.6057 - val_auc: 0.8191 - val_accuracy: 0.6831\n",
            "Epoch 43/100\n",
            "244/244 [==============================] - 47s 189ms/step - loss: 0.4646 - auc: 0.8568 - accuracy: 0.7797 - val_loss: 0.4865 - val_auc: 0.8223 - val_accuracy: 0.7624\n",
            "Epoch 44/100\n",
            "244/244 [==============================] - 46s 186ms/step - loss: 0.4557 - auc: 0.8634 - accuracy: 0.7842 - val_loss: 0.4387 - val_auc: 0.8165 - val_accuracy: 0.8041\n",
            "Epoch 45/100\n",
            "244/244 [==============================] - 47s 191ms/step - loss: 0.4551 - auc: 0.8626 - accuracy: 0.7828 - val_loss: 0.4282 - val_auc: 0.8179 - val_accuracy: 0.8187\n",
            "Epoch 46/100\n",
            "244/244 [==============================] - 46s 185ms/step - loss: 0.4516 - auc: 0.8647 - accuracy: 0.7872 - val_loss: 0.4613 - val_auc: 0.8179 - val_accuracy: 0.7889\n",
            "Epoch 47/100\n",
            "244/244 [==============================] - 47s 190ms/step - loss: 0.4447 - auc: 0.8700 - accuracy: 0.7922 - val_loss: 0.4511 - val_auc: 0.8210 - val_accuracy: 0.7948\n",
            "Epoch 48/100\n",
            "244/244 [==============================] - 47s 191ms/step - loss: 0.4494 - auc: 0.8677 - accuracy: 0.7902 - val_loss: 0.5586 - val_auc: 0.8261 - val_accuracy: 0.7156\n",
            "Epoch 49/100\n",
            "244/244 [==============================] - 47s 192ms/step - loss: 0.4448 - auc: 0.8700 - accuracy: 0.7908 - val_loss: 0.4246 - val_auc: 0.8192 - val_accuracy: 0.8113\n",
            "Epoch 50/100\n",
            "244/244 [==============================] - 46s 187ms/step - loss: 0.4419 - auc: 0.8716 - accuracy: 0.7962 - val_loss: 0.4643 - val_auc: 0.8225 - val_accuracy: 0.7837\n",
            "Epoch 51/100\n",
            "244/244 [==============================] - 48s 193ms/step - loss: 0.4392 - auc: 0.8734 - accuracy: 0.7987 - val_loss: 0.5947 - val_auc: 0.8228 - val_accuracy: 0.6994\n",
            "Epoch 52/100\n",
            "244/244 [==============================] - 46s 188ms/step - loss: 0.4400 - auc: 0.8734 - accuracy: 0.7963 - val_loss: 0.5253 - val_auc: 0.8263 - val_accuracy: 0.7399\n",
            "Epoch 53/100\n",
            "244/244 [==============================] - 47s 191ms/step - loss: 0.4306 - auc: 0.8782 - accuracy: 0.8033 - val_loss: 0.4799 - val_auc: 0.8246 - val_accuracy: 0.7733\n",
            "Epoch 54/100\n",
            "244/244 [==============================] - 46s 186ms/step - loss: 0.4285 - auc: 0.8808 - accuracy: 0.8046 - val_loss: 0.3825 - val_auc: 0.8123 - val_accuracy: 0.8493\n",
            "Epoch 55/100\n",
            "244/244 [==============================] - 47s 189ms/step - loss: 0.4251 - auc: 0.8823 - accuracy: 0.8082 - val_loss: 0.4411 - val_auc: 0.8240 - val_accuracy: 0.8028\n",
            "Epoch 56/100\n",
            "244/244 [==============================] - 47s 190ms/step - loss: 0.4209 - auc: 0.8844 - accuracy: 0.8097 - val_loss: 0.4240 - val_auc: 0.8210 - val_accuracy: 0.8133\n",
            "Epoch 57/100\n",
            "243/244 [============================>.] - ETA: 0s - loss: 0.4195 - auc: 0.8855 - accuracy: 0.8117Restoring model weights from the end of the best epoch: 52.\n",
            "244/244 [==============================] - 46s 186ms/step - loss: 0.4195 - auc: 0.8856 - accuracy: 0.8118 - val_loss: 0.4264 - val_auc: 0.8235 - val_accuracy: 0.8134\n",
            "Epoch 57: early stopping\n"
          ]
        }
      ],
      "source": [
        "run_hist = model.fit(normalized_data, validation_data=normalized_val_data, epochs=100, class_weight={0:w0, 1:w1},\n",
        "  callbacks=[keras.callbacks.EarlyStopping(\n",
        "                  monitor=\"val_auc\",\n",
        "                  min_delta=0,\n",
        "                  patience=5,\n",
        "                  verbose=1,\n",
        "                  mode=\"auto\",\n",
        "                  baseline=None,\n",
        "                  restore_best_weights=True,\n",
        "              )])"
      ]
    },
    {
      "cell_type": "code",
      "execution_count": null,
      "metadata": {
        "colab": {
          "base_uri": "https://localhost:8080/"
        },
        "id": "fcRFY-5YwRGK",
        "outputId": "c5db6787-cb7c-4e09-ca72-a289d871358f"
      },
      "outputs": [
        {
          "name": "stdout",
          "output_type": "stream",
          "text": [
            "183/183 [==============================] - 21s 113ms/step - loss: 0.5362 - auc: 0.8151 - accuracy: 0.7385\n",
            "[0.5362021923065186, 0.8151167631149292, 0.7385340929031372]\n"
          ]
        }
      ],
      "source": [
        "results = model.evaluate(normalized_test_data)\n",
        "print(results)"
      ]
    },
    {
      "cell_type": "markdown",
      "metadata": {
        "id": "mslBBRD6wRGK"
      },
      "source": [
        "#### N1024-L1-D4"
      ]
    },
    {
      "cell_type": "code",
      "execution_count": null,
      "metadata": {
        "id": "RR5Mx4A5wRGK"
      },
      "outputs": [],
      "source": [
        "N = 1024\n",
        "NAME = \"N1024-L1-D4\"\n",
        "keras.backend.clear_session()"
      ]
    },
    {
      "cell_type": "code",
      "execution_count": null,
      "metadata": {
        "colab": {
          "base_uri": "https://localhost:8080/"
        },
        "id": "_n7o9_5bwRGK",
        "outputId": "56d147ac-20fb-4de6-89e0-4eb9d70a7b88"
      },
      "outputs": [
        {
          "name": "stdout",
          "output_type": "stream",
          "text": [
            "Model: \"sequential\"\n",
            "_________________________________________________________________\n",
            " Layer (type)                Output Shape              Param #   \n",
            "=================================================================\n",
            " conv2d (Conv2D)             (None, 256, 256, 32)      896       \n",
            "                                                                 \n",
            " max_pooling2d (MaxPooling2D  (None, 128, 128, 32)     0         \n",
            " )                                                               \n",
            "                                                                 \n",
            " conv2d_1 (Conv2D)           (None, 64, 64, 32)        9248      \n",
            "                                                                 \n",
            " max_pooling2d_1 (MaxPooling  (None, 32, 32, 32)       0         \n",
            " 2D)                                                             \n",
            "                                                                 \n",
            " conv2d_2 (Conv2D)           (None, 16, 16, 64)        18496     \n",
            "                                                                 \n",
            " max_pooling2d_2 (MaxPooling  (None, 8, 8, 64)         0         \n",
            " 2D)                                                             \n",
            "                                                                 \n",
            " dense (Dense)               (None, 8, 8, 128)         8320      \n",
            "                                                                 \n",
            " flatten (Flatten)           (None, 8192)              0         \n",
            "                                                                 \n",
            " dense_1 (Dense)             (None, 1024)              8389632   \n",
            "                                                                 \n",
            " dropout (Dropout)           (None, 1024)              0         \n",
            "                                                                 \n",
            " dense_2 (Dense)             (None, 1)                 1025      \n",
            "                                                                 \n",
            "=================================================================\n",
            "Total params: 8,427,617\n",
            "Trainable params: 8,427,617\n",
            "Non-trainable params: 0\n",
            "_________________________________________________________________\n"
          ]
        }
      ],
      "source": [
        "ins = image_batch.shape[1:]\n",
        "\n",
        "model = Sequential()\n",
        "\n",
        "model.add(Conv2D(32, (3,3), padding=\"same\", activation=\"relu\", input_shape=ins))\n",
        "\n",
        "model.add(MaxPooling2D(pool_size=(2, 2)))\n",
        "\n",
        "model.add(Conv2D(32, (3,3), padding=\"same\", strides = (2,2), activation=\"relu\"))\n",
        "\n",
        "model.add(MaxPooling2D(pool_size=(2, 2)))\n",
        "\n",
        "model.add(Conv2D(64, (3,3), padding=\"same\", strides = (2,2), activation=\"relu\"))\n",
        "\n",
        "model.add(MaxPooling2D(pool_size=(2, 2)))\n",
        "\n",
        "model.add(Dense(128, activation=\"relu\"))\n",
        "\n",
        "model.add(Flatten())\n",
        "\n",
        "model.add(Dense(N, activation=\"relu\"))\n",
        "\n",
        "model.add(Dropout(0.5))\n",
        "\n",
        "model.add(Dense(1, activation=\"sigmoid\"))\n",
        "\n",
        "model.summary()"
      ]
    },
    {
      "cell_type": "code",
      "execution_count": null,
      "metadata": {
        "id": "TYdY5fZvwRGK"
      },
      "outputs": [],
      "source": [
        "model.compile(loss='binary_crossentropy', optimizer=optimizers.Adam(learning_rate=0.00001), metrics=[keras.metrics.AUC(), 'accuracy'])"
      ]
    },
    {
      "cell_type": "code",
      "execution_count": null,
      "metadata": {
        "colab": {
          "base_uri": "https://localhost:8080/"
        },
        "id": "xxA3SNF6wRGK",
        "outputId": "df15f937-f2a2-45ca-f7ab-750002e611a6"
      },
      "outputs": [
        {
          "name": "stdout",
          "output_type": "stream",
          "text": [
            "Epoch 1/100\n",
            "244/244 [==============================] - 53s 211ms/step - loss: 0.6623 - auc: 0.6585 - accuracy: 0.5984 - val_loss: 0.6449 - val_auc: 0.6960 - val_accuracy: 0.6287\n",
            "Epoch 2/100\n",
            "244/244 [==============================] - 48s 193ms/step - loss: 0.6226 - auc: 0.6967 - accuracy: 0.6211 - val_loss: 0.6170 - val_auc: 0.7311 - val_accuracy: 0.6314\n",
            "Epoch 3/100\n",
            "244/244 [==============================] - 49s 197ms/step - loss: 0.6033 - auc: 0.7225 - accuracy: 0.6298 - val_loss: 0.6374 - val_auc: 0.7544 - val_accuracy: 0.6153\n",
            "Epoch 4/100\n",
            "244/244 [==============================] - 42s 171ms/step - loss: 0.5908 - auc: 0.7407 - accuracy: 0.6360 - val_loss: 0.5844 - val_auc: 0.7672 - val_accuracy: 0.6446\n",
            "Epoch 5/100\n",
            "244/244 [==============================] - 42s 169ms/step - loss: 0.5838 - auc: 0.7519 - accuracy: 0.6429 - val_loss: 0.5581 - val_auc: 0.7739 - val_accuracy: 0.6665\n",
            "Epoch 6/100\n",
            "244/244 [==============================] - 42s 170ms/step - loss: 0.5783 - auc: 0.7603 - accuracy: 0.6504 - val_loss: 0.5530 - val_auc: 0.7793 - val_accuracy: 0.6776\n",
            "Epoch 7/100\n",
            "244/244 [==============================] - 51s 206ms/step - loss: 0.5735 - auc: 0.7646 - accuracy: 0.6599 - val_loss: 0.5783 - val_auc: 0.7826 - val_accuracy: 0.6575\n",
            "Epoch 8/100\n",
            "244/244 [==============================] - 44s 176ms/step - loss: 0.5689 - auc: 0.7710 - accuracy: 0.6653 - val_loss: 0.5498 - val_auc: 0.7849 - val_accuracy: 0.6893\n",
            "Epoch 9/100\n",
            "244/244 [==============================] - 43s 172ms/step - loss: 0.5654 - auc: 0.7737 - accuracy: 0.6690 - val_loss: 0.5380 - val_auc: 0.7874 - val_accuracy: 0.7006\n",
            "Epoch 10/100\n",
            "244/244 [==============================] - 42s 169ms/step - loss: 0.5626 - auc: 0.7770 - accuracy: 0.6734 - val_loss: 0.5254 - val_auc: 0.7893 - val_accuracy: 0.7154\n",
            "Epoch 11/100\n",
            "244/244 [==============================] - 42s 168ms/step - loss: 0.5606 - auc: 0.7798 - accuracy: 0.6788 - val_loss: 0.5714 - val_auc: 0.7912 - val_accuracy: 0.6723\n",
            "Epoch 12/100\n",
            "244/244 [==============================] - 44s 178ms/step - loss: 0.5569 - auc: 0.7828 - accuracy: 0.6824 - val_loss: 0.5273 - val_auc: 0.7929 - val_accuracy: 0.7150\n",
            "Epoch 13/100\n",
            "244/244 [==============================] - 41s 167ms/step - loss: 0.5546 - auc: 0.7845 - accuracy: 0.6880 - val_loss: 0.5800 - val_auc: 0.7941 - val_accuracy: 0.6678\n",
            "Epoch 14/100\n",
            "244/244 [==============================] - 44s 177ms/step - loss: 0.5519 - auc: 0.7876 - accuracy: 0.6879 - val_loss: 0.5381 - val_auc: 0.7952 - val_accuracy: 0.7058\n",
            "Epoch 15/100\n",
            "244/244 [==============================] - 41s 166ms/step - loss: 0.5516 - auc: 0.7879 - accuracy: 0.6895 - val_loss: 0.5528 - val_auc: 0.7963 - val_accuracy: 0.6927\n",
            "Epoch 16/100\n",
            "244/244 [==============================] - 42s 170ms/step - loss: 0.5476 - auc: 0.7919 - accuracy: 0.6912 - val_loss: 0.5338 - val_auc: 0.7974 - val_accuracy: 0.7120\n",
            "Epoch 17/100\n",
            "244/244 [==============================] - 42s 171ms/step - loss: 0.5447 - auc: 0.7957 - accuracy: 0.6959 - val_loss: 0.5557 - val_auc: 0.7985 - val_accuracy: 0.6943\n",
            "Epoch 18/100\n",
            "244/244 [==============================] - 42s 170ms/step - loss: 0.5430 - auc: 0.7962 - accuracy: 0.6963 - val_loss: 0.5303 - val_auc: 0.7994 - val_accuracy: 0.7138\n",
            "Epoch 19/100\n",
            "244/244 [==============================] - 43s 174ms/step - loss: 0.5395 - auc: 0.7991 - accuracy: 0.6999 - val_loss: 0.5655 - val_auc: 0.8002 - val_accuracy: 0.6880\n",
            "Epoch 20/100\n",
            "244/244 [==============================] - 42s 169ms/step - loss: 0.5389 - auc: 0.7991 - accuracy: 0.7002 - val_loss: 0.5016 - val_auc: 0.7995 - val_accuracy: 0.7395\n",
            "Epoch 21/100\n",
            "244/244 [==============================] - 42s 169ms/step - loss: 0.5374 - auc: 0.8006 - accuracy: 0.7036 - val_loss: 0.5341 - val_auc: 0.8021 - val_accuracy: 0.7128\n",
            "244/244 [==============================] - 41s 167ms/step - loss: 0.5368 - auc: 0.8015 - accuracy: 0.7083 - val_loss: 0.5385 - val_auc: 0.8030 - val_accuracy: 0.7110\n",
            "Epoch 23/100\n",
            "244/244 [==============================] - 43s 174ms/step - loss: 0.5338 - auc: 0.8044 - accuracy: 0.7091 - val_loss: 0.5692 - val_auc: 0.8042 - val_accuracy: 0.6857\n",
            "Epoch 24/100\n",
            "244/244 [==============================] - 43s 174ms/step - loss: 0.5322 - auc: 0.8056 - accuracy: 0.7096 - val_loss: 0.5288 - val_auc: 0.8045 - val_accuracy: 0.7197\n",
            "Epoch 25/100\n",
            "244/244 [==============================] - 41s 167ms/step - loss: 0.5278 - auc: 0.8093 - accuracy: 0.7148 - val_loss: 0.5057 - val_auc: 0.8034 - val_accuracy: 0.7379\n",
            "Epoch 26/100\n",
            "244/244 [==============================] - 42s 168ms/step - loss: 0.5279 - auc: 0.8089 - accuracy: 0.7115 - val_loss: 0.5476 - val_auc: 0.8058 - val_accuracy: 0.7062\n",
            "Epoch 27/100\n",
            "244/244 [==============================] - 41s 167ms/step - loss: 0.5252 - auc: 0.8118 - accuracy: 0.7156 - val_loss: 0.5321 - val_auc: 0.8059 - val_accuracy: 0.7208\n",
            "Epoch 28/100\n",
            "244/244 [==============================] - 42s 170ms/step - loss: 0.5231 - auc: 0.8136 - accuracy: 0.7169 - val_loss: 0.5281 - val_auc: 0.8062 - val_accuracy: 0.7235\n",
            "Epoch 29/100\n",
            "244/244 [==============================] - 43s 175ms/step - loss: 0.5204 - auc: 0.8158 - accuracy: 0.7202 - val_loss: 0.4953 - val_auc: 0.8057 - val_accuracy: 0.7488\n",
            "Epoch 30/100\n",
            "244/244 [==============================] - 42s 169ms/step - loss: 0.5177 - auc: 0.8182 - accuracy: 0.7271 - val_loss: 0.5440 - val_auc: 0.8092 - val_accuracy: 0.7133\n",
            "Epoch 31/100\n",
            "244/244 [==============================] - 43s 173ms/step - loss: 0.5176 - auc: 0.8176 - accuracy: 0.7229 - val_loss: 0.5024 - val_auc: 0.8081 - val_accuracy: 0.7426\n",
            "Epoch 32/100\n",
            "244/244 [==============================] - 41s 167ms/step - loss: 0.5139 - auc: 0.8210 - accuracy: 0.7308 - val_loss: 0.5502 - val_auc: 0.8103 - val_accuracy: 0.7076\n",
            "Epoch 33/100\n",
            "244/244 [==============================] - 52s 210ms/step - loss: 0.5131 - auc: 0.8221 - accuracy: 0.7284 - val_loss: 0.4935 - val_auc: 0.8086 - val_accuracy: 0.7497\n",
            "Epoch 34/100\n",
            "244/244 [==============================] - 44s 176ms/step - loss: 0.5130 - auc: 0.8218 - accuracy: 0.7283 - val_loss: 0.5469 - val_auc: 0.8107 - val_accuracy: 0.7133\n",
            "Epoch 35/100\n",
            "244/244 [==============================] - 44s 178ms/step - loss: 0.5106 - auc: 0.8238 - accuracy: 0.7323 - val_loss: 0.5798 - val_auc: 0.8120 - val_accuracy: 0.6848\n",
            "Epoch 36/100\n",
            "244/244 [==============================] - 43s 172ms/step - loss: 0.5075 - auc: 0.8267 - accuracy: 0.7294 - val_loss: 0.5262 - val_auc: 0.8115 - val_accuracy: 0.7291\n",
            "Epoch 37/100\n",
            "244/244 [==============================] - 44s 176ms/step - loss: 0.5076 - auc: 0.8265 - accuracy: 0.7326 - val_loss: 0.5027 - val_auc: 0.8116 - val_accuracy: 0.7465\n",
            "Epoch 38/100\n",
            "244/244 [==============================] - 42s 170ms/step - loss: 0.5062 - auc: 0.8275 - accuracy: 0.7344 - val_loss: 0.5330 - val_auc: 0.8131 - val_accuracy: 0.7240\n",
            "Epoch 39/100\n",
            "244/244 [==============================] - 42s 170ms/step - loss: 0.5033 - auc: 0.8295 - accuracy: 0.7400 - val_loss: 0.5064 - val_auc: 0.8130 - val_accuracy: 0.7431\n",
            "Epoch 40/100\n",
            "244/244 [==============================] - 41s 166ms/step - loss: 0.5011 - auc: 0.8308 - accuracy: 0.7403 - val_loss: 0.5113 - val_auc: 0.8137 - val_accuracy: 0.7391\n",
            "Epoch 41/100\n",
            "244/244 [==============================] - 43s 176ms/step - loss: 0.4967 - auc: 0.8348 - accuracy: 0.7424 - val_loss: 0.4810 - val_auc: 0.8131 - val_accuracy: 0.7624\n",
            "Epoch 42/100\n",
            "244/244 [==============================] - 43s 174ms/step - loss: 0.4988 - auc: 0.8339 - accuracy: 0.7413 - val_loss: 0.5120 - val_auc: 0.8148 - val_accuracy: 0.7418\n",
            "Epoch 43/100\n",
            "244/244 [==============================] - 42s 167ms/step - loss: 0.4988 - auc: 0.8328 - accuracy: 0.7432 - val_loss: 0.5108 - val_auc: 0.8155 - val_accuracy: 0.7433\n",
            "Epoch 44/100\n",
            "244/244 [==============================] - 43s 172ms/step - loss: 0.4918 - auc: 0.8385 - accuracy: 0.7499 - val_loss: 0.5182 - val_auc: 0.8166 - val_accuracy: 0.7354\n",
            "Epoch 45/100\n",
            "244/244 [==============================] - 42s 171ms/step - loss: 0.4926 - auc: 0.8382 - accuracy: 0.7521 - val_loss: 0.4653 - val_auc: 0.8150 - val_accuracy: 0.7772\n",
            "Epoch 46/100\n",
            "244/244 [==============================] - 42s 168ms/step - loss: 0.4901 - auc: 0.8387 - accuracy: 0.7491 - val_loss: 0.4838 - val_auc: 0.8162 - val_accuracy: 0.7637\n",
            "Epoch 47/100\n",
            "244/244 [==============================] - 42s 168ms/step - loss: 0.4880 - auc: 0.8410 - accuracy: 0.7567 - val_loss: 0.4950 - val_auc: 0.8172 - val_accuracy: 0.7551\n",
            "Epoch 48/100\n",
            "244/244 [==============================] - 44s 176ms/step - loss: 0.4851 - auc: 0.8448 - accuracy: 0.7535 - val_loss: 0.4706 - val_auc: 0.8174 - val_accuracy: 0.7745\n",
            "Epoch 49/100\n",
            "244/244 [==============================] - 42s 168ms/step - loss: 0.4847 - auc: 0.8430 - accuracy: 0.7551 - val_loss: 0.5476 - val_auc: 0.8180 - val_accuracy: 0.7146\n",
            "Epoch 50/100\n",
            "244/244 [==============================] - 43s 173ms/step - loss: 0.4823 - auc: 0.8467 - accuracy: 0.7594 - val_loss: 0.5069 - val_auc: 0.8186 - val_accuracy: 0.7494\n",
            "Epoch 51/100\n",
            "244/244 [==============================] - 43s 173ms/step - loss: 0.4814 - auc: 0.8478 - accuracy: 0.7539 - val_loss: 0.4890 - val_auc: 0.8192 - val_accuracy: 0.7615\n",
            "Epoch 52/100\n",
            "244/244 [==============================] - 42s 171ms/step - loss: 0.4793 - auc: 0.8485 - accuracy: 0.7612 - val_loss: 0.4912 - val_auc: 0.8194 - val_accuracy: 0.7609\n",
            "Epoch 53/100\n",
            "244/244 [==============================] - 50s 201ms/step - loss: 0.4767 - auc: 0.8504 - accuracy: 0.7608 - val_loss: 0.4970 - val_auc: 0.8188 - val_accuracy: 0.7601\n",
            "Epoch 54/100\n",
            "244/244 [==============================] - 42s 169ms/step - loss: 0.4757 - auc: 0.8506 - accuracy: 0.7670 - val_loss: 0.4782 - val_auc: 0.8204 - val_accuracy: 0.7713\n",
            "Epoch 55/100\n",
            "244/244 [==============================] - 41s 166ms/step - loss: 0.4764 - auc: 0.8504 - accuracy: 0.7672 - val_loss: 0.5407 - val_auc: 0.8206 - val_accuracy: 0.7206\n",
            "Epoch 56/100\n",
            "244/244 [==============================] - 41s 167ms/step - loss: 0.4733 - auc: 0.8519 - accuracy: 0.7631 - val_loss: 0.4880 - val_auc: 0.8210 - val_accuracy: 0.7637\n",
            "Epoch 57/100\n",
            "244/244 [==============================] - 41s 165ms/step - loss: 0.4717 - auc: 0.8536 - accuracy: 0.7683 - val_loss: 0.5115 - val_auc: 0.8224 - val_accuracy: 0.7445\n",
            "Epoch 58/100\n",
            "244/244 [==============================] - 41s 167ms/step - loss: 0.4707 - auc: 0.8533 - accuracy: 0.7685 - val_loss: 0.5339 - val_auc: 0.8222 - val_accuracy: 0.7258\n",
            "Epoch 59/100\n",
            "244/244 [==============================] - 42s 171ms/step - loss: 0.4684 - auc: 0.8564 - accuracy: 0.7721 - val_loss: 0.4755 - val_auc: 0.8217 - val_accuracy: 0.7767\n",
            "Epoch 60/100\n",
            "244/244 [==============================] - 41s 166ms/step - loss: 0.4655 - auc: 0.8572 - accuracy: 0.7724 - val_loss: 0.4468 - val_auc: 0.8202 - val_accuracy: 0.7958\n",
            "Epoch 61/100\n",
            "244/244 [==============================] - 41s 167ms/step - loss: 0.4620 - auc: 0.8606 - accuracy: 0.7792 - val_loss: 0.5247 - val_auc: 0.8239 - val_accuracy: 0.7343\n",
            "Epoch 62/100\n",
            "244/244 [==============================] - 42s 168ms/step - loss: 0.4635 - auc: 0.8587 - accuracy: 0.7759 - val_loss: 0.5038 - val_auc: 0.8235 - val_accuracy: 0.7520\n",
            "Epoch 63/100\n",
            "244/244 [==============================] - 51s 205ms/step - loss: 0.4607 - auc: 0.8613 - accuracy: 0.7784 - val_loss: 0.4728 - val_auc: 0.8233 - val_accuracy: 0.7768\n",
            "Epoch 64/100\n",
            "244/244 [==============================] - 42s 170ms/step - loss: 0.4591 - auc: 0.8626 - accuracy: 0.7819 - val_loss: 0.4585 - val_auc: 0.8235 - val_accuracy: 0.7866\n",
            "Epoch 65/100\n",
            "244/244 [==============================] - 41s 166ms/step - loss: 0.4568 - auc: 0.8645 - accuracy: 0.7835 - val_loss: 0.5208 - val_auc: 0.8242 - val_accuracy: 0.7420\n",
            "Epoch 66/100\n",
            "244/244 [==============================] - 42s 168ms/step - loss: 0.4552 - auc: 0.8651 - accuracy: 0.7809 - val_loss: 0.4726 - val_auc: 0.8235 - val_accuracy: 0.7755\n",
            "Epoch 67/100\n",
            "244/244 [==============================] - 51s 208ms/step - loss: 0.4548 - auc: 0.8651 - accuracy: 0.7855 - val_loss: 0.4317 - val_auc: 0.8222 - val_accuracy: 0.8077\n",
            "Epoch 68/100\n",
            "243/244 [============================>.] - ETA: 0s - loss: 0.4520 - auc: 0.8672 - accuracy: 0.7836Epoch 69/100\n",
            "244/244 [==============================] - 42s 170ms/step - loss: 0.4514 - auc: 0.8686 - accuracy: 0.7869 - val_loss: 0.4549 - val_auc: 0.8236 - val_accuracy: 0.7947\n",
            "Epoch 70/100\n",
            "243/244 [============================>.] - ETA: 0s - loss: 0.4487 - auc: 0.8693 - accuracy: 0.7906Restoring model weights from the end of the best epoch: 65.\n",
            "244/244 [==============================] - 42s 168ms/step - loss: 0.4486 - auc: 0.8694 - accuracy: 0.7907 - val_loss: 0.4407 - val_auc: 0.8236 - val_accuracy: 0.8026\n",
            "Epoch 70: early stopping\n"
          ]
        }
      ],
      "source": [
        "run_hist = model.fit(normalized_data, validation_data=normalized_val_data, epochs=100, class_weight={0:w0, 1:w1},\n",
        "  callbacks=[keras.callbacks.EarlyStopping(\n",
        "                  monitor=\"val_auc\",\n",
        "                  min_delta=0,\n",
        "                  patience=5,\n",
        "                  verbose=1,\n",
        "                  mode=\"auto\",\n",
        "                  baseline=None,\n",
        "                  restore_best_weights=True,\n",
        "              )])"
      ]
    },
    {
      "cell_type": "code",
      "execution_count": null,
      "metadata": {
        "colab": {
          "base_uri": "https://localhost:8080/"
        },
        "id": "dHE1leVswRGK",
        "outputId": "7c46283a-7e85-44ff-d4b1-082dedb88cd3"
      },
      "outputs": [
        {
          "name": "stdout",
          "output_type": "stream",
          "text": [
            "183/183 [==============================] - 19s 100ms/step - loss: 0.5365 - auc: 0.8113 - accuracy: 0.7271\n",
            "[0.5365164279937744, 0.8113262057304382, 0.7271324396133423]\n"
          ]
        }
      ],
      "source": [
        "results = model.evaluate(normalized_test_data)\n",
        "print(results)"
      ]
    },
    {
      "cell_type": "markdown",
      "metadata": {
        "id": "PhxbuPDvwNov"
      },
      "source": [
        "## Com mais pooling & mais conv"
      ]
    },
    {
      "cell_type": "markdown",
      "metadata": {
        "id": "i4qho7UYwtPQ"
      },
      "source": [
        "#### N512-L1-D3"
      ]
    },
    {
      "cell_type": "code",
      "execution_count": null,
      "metadata": {
        "id": "QpYGqCU0wtPQ"
      },
      "outputs": [],
      "source": [
        "N = 512\n",
        "NAME = \"N512-L1-D3\"\n",
        "keras.backend.clear_session()"
      ]
    },
    {
      "cell_type": "code",
      "execution_count": null,
      "metadata": {
        "colab": {
          "base_uri": "https://localhost:8080/"
        },
        "id": "cLi0zv_fwtPQ",
        "outputId": "da896982-7c8a-4b7b-fbde-ab8cf4fbdbbd"
      },
      "outputs": [
        {
          "name": "stdout",
          "output_type": "stream",
          "text": [
            "Model: \"sequential\"\n",
            "_________________________________________________________________\n",
            " Layer (type)                Output Shape              Param #   \n",
            "=================================================================\n",
            " conv2d (Conv2D)             (None, 256, 256, 32)      896       \n",
            "                                                                 \n",
            " conv2d_1 (Conv2D)           (None, 128, 128, 32)      9248      \n",
            "                                                                 \n",
            " max_pooling2d (MaxPooling2D  (None, 64, 64, 32)       0         \n",
            " )                                                               \n",
            "                                                                 \n",
            " conv2d_2 (Conv2D)           (None, 32, 32, 32)        9248      \n",
            "                                                                 \n",
            " conv2d_3 (Conv2D)           (None, 16, 16, 32)        9248      \n",
            "                                                                 \n",
            " max_pooling2d_1 (MaxPooling  (None, 8, 8, 32)         0         \n",
            " 2D)                                                             \n",
            "                                                                 \n",
            " conv2d_4 (Conv2D)           (None, 4, 4, 64)          18496     \n",
            "                                                                 \n",
            " conv2d_5 (Conv2D)           (None, 2, 2, 32)          18464     \n",
            "                                                                 \n",
            " max_pooling2d_2 (MaxPooling  (None, 1, 1, 32)         0         \n",
            " 2D)                                                             \n",
            "                                                                 \n",
            " dense (Dense)               (None, 1, 1, 128)         4224      \n",
            "                                                                 \n",
            " flatten (Flatten)           (None, 128)               0         \n",
            "                                                                 \n",
            " dense_1 (Dense)             (None, 512)               66048     \n",
            "                                                                 \n",
            " dropout (Dropout)           (None, 512)               0         \n",
            "                                                                 \n",
            " dense_2 (Dense)             (None, 1)                 513       \n",
            "                                                                 \n",
            "=================================================================\n",
            "Total params: 136,385\n",
            "Trainable params: 136,385\n",
            "Non-trainable params: 0\n",
            "_________________________________________________________________\n"
          ]
        }
      ],
      "source": [
        "ins = image_batch.shape[1:]\n",
        "\n",
        "model = Sequential()\n",
        "\n",
        "model.add(Conv2D(32, (3,3), padding=\"same\", activation=\"relu\", input_shape=ins))\n",
        "\n",
        "model.add(Conv2D(32, (3,3), padding=\"same\", strides = (2,2), activation=\"relu\"))\n",
        "\n",
        "model.add(MaxPooling2D(pool_size=(2, 2)))\n",
        "\n",
        "model.add(Conv2D(32, (3,3), padding=\"same\", strides = (2,2), activation=\"relu\"))\n",
        "\n",
        "model.add(Conv2D(32, (3,3), padding=\"same\", strides = (2,2), activation=\"relu\"))\n",
        "\n",
        "model.add(MaxPooling2D(pool_size=(2, 2)))\n",
        "\n",
        "model.add(Conv2D(64, (3,3), padding=\"same\", strides = (2,2), activation=\"relu\"))\n",
        "\n",
        "model.add(Conv2D(32, (3,3), padding=\"same\", strides = (2,2), activation=\"relu\"))\n",
        "\n",
        "model.add(MaxPooling2D(pool_size=(2, 2)))\n",
        "\n",
        "model.add(Dense(128, activation=\"relu\"))\n",
        "\n",
        "model.add(Flatten())\n",
        "\n",
        "model.add(Dense(N, activation=\"relu\"))\n",
        "\n",
        "model.add(Dropout(0.5))\n",
        "\n",
        "model.add(Dense(1, activation=\"sigmoid\"))\n",
        "\n",
        "model.summary()"
      ]
    },
    {
      "cell_type": "code",
      "execution_count": null,
      "metadata": {
        "id": "yQwyY_NKwtPQ"
      },
      "outputs": [],
      "source": [
        "model.compile(loss='binary_crossentropy', optimizer=optimizers.Adam(learning_rate=0.00001), metrics=[keras.metrics.AUC(), 'accuracy'])"
      ]
    },
    {
      "cell_type": "code",
      "execution_count": null,
      "metadata": {
        "colab": {
          "background_save": true,
          "base_uri": "https://localhost:8080/"
        },
        "id": "0nkzh-s6wtPQ",
        "outputId": "da3e6336-7761-4322-8be5-f716d564437d"
      },
      "outputs": [
        {
          "name": "stdout",
          "output_type": "stream",
          "text": [
            "Epoch 1/100\n",
            "244/244 [==============================] - 49s 193ms/step - loss: 0.6912 - auc: 0.5532 - accuracy: 0.3739 - val_loss: 0.6986 - val_auc: 0.6568 - val_accuracy: 0.3024\n",
            "Epoch 2/100\n",
            "244/244 [==============================] - 47s 189ms/step - loss: 0.6878 - auc: 0.6311 - accuracy: 0.4282 - val_loss: 0.6994 - val_auc: 0.6910 - val_accuracy: 0.5397\n",
            "Epoch 3/100\n",
            "244/244 [==============================] - 46s 188ms/step - loss: 0.6745 - auc: 0.6570 - accuracy: 0.5601 - val_loss: 0.6798 - val_auc: 0.6817 - val_accuracy: 0.5981\n",
            "Epoch 4/100\n",
            "244/244 [==============================] - 46s 187ms/step - loss: 0.6475 - auc: 0.6652 - accuracy: 0.5978 - val_loss: 0.6625 - val_auc: 0.6908 - val_accuracy: 0.6005\n",
            "Epoch 5/100\n",
            "244/244 [==============================] - 46s 187ms/step - loss: 0.6317 - auc: 0.6834 - accuracy: 0.6022 - val_loss: 0.6482 - val_auc: 0.7075 - val_accuracy: 0.6022\n",
            "Epoch 6/100\n",
            "244/244 [==============================] - 48s 193ms/step - loss: 0.6220 - auc: 0.6978 - accuracy: 0.6050 - val_loss: 0.6293 - val_auc: 0.7222 - val_accuracy: 0.6125\n",
            "Epoch 7/100\n",
            "244/244 [==============================] - 47s 188ms/step - loss: 0.6160 - auc: 0.7036 - accuracy: 0.6061 - val_loss: 0.6335 - val_auc: 0.7354 - val_accuracy: 0.6052\n",
            "Epoch 8/100\n",
            "244/244 [==============================] - 47s 190ms/step - loss: 0.6055 - auc: 0.7204 - accuracy: 0.6147 - val_loss: 0.6158 - val_auc: 0.7441 - val_accuracy: 0.6084\n",
            "Epoch 9/100\n",
            "244/244 [==============================] - 47s 189ms/step - loss: 0.6008 - auc: 0.7238 - accuracy: 0.6214 - val_loss: 0.5935 - val_auc: 0.7492 - val_accuracy: 0.6246\n",
            "Epoch 10/100\n",
            "244/244 [==============================] - 46s 188ms/step - loss: 0.5959 - auc: 0.7330 - accuracy: 0.6232 - val_loss: 0.5964 - val_auc: 0.7533 - val_accuracy: 0.6194\n",
            "Epoch 11/100\n",
            "244/244 [==============================] - 47s 188ms/step - loss: 0.5934 - auc: 0.7337 - accuracy: 0.6247 - val_loss: 0.5872 - val_auc: 0.7558 - val_accuracy: 0.6250\n",
            "Epoch 12/100\n",
            "244/244 [==============================] - 48s 193ms/step - loss: 0.5897 - auc: 0.7403 - accuracy: 0.6302 - val_loss: 0.5816 - val_auc: 0.7585 - val_accuracy: 0.6313\n",
            "Epoch 13/100\n",
            "244/244 [==============================] - 47s 188ms/step - loss: 0.5884 - auc: 0.7430 - accuracy: 0.6322 - val_loss: 0.5874 - val_auc: 0.7613 - val_accuracy: 0.6269\n",
            "Epoch 14/100\n",
            "244/244 [==============================] - 47s 190ms/step - loss: 0.5873 - auc: 0.7439 - accuracy: 0.6356 - val_loss: 0.5889 - val_auc: 0.7629 - val_accuracy: 0.6263\n",
            "Epoch 15/100\n",
            "244/244 [==============================] - 55s 224ms/step - loss: 0.5843 - auc: 0.7493 - accuracy: 0.6374 - val_loss: 0.5797 - val_auc: 0.7644 - val_accuracy: 0.6341\n",
            "Epoch 16/100\n",
            "244/244 [==============================] - 47s 192ms/step - loss: 0.5824 - auc: 0.7506 - accuracy: 0.6380 - val_loss: 0.5695 - val_auc: 0.7656 - val_accuracy: 0.6431\n",
            "Epoch 17/100\n",
            "244/244 [==============================] - 47s 190ms/step - loss: 0.5820 - auc: 0.7520 - accuracy: 0.6412 - val_loss: 0.5839 - val_auc: 0.7683 - val_accuracy: 0.6347\n",
            "Epoch 18/100\n",
            "244/244 [==============================] - 47s 189ms/step - loss: 0.5812 - auc: 0.7524 - accuracy: 0.6401 - val_loss: 0.5776 - val_auc: 0.7692 - val_accuracy: 0.6401\n",
            "Epoch 19/100\n",
            "244/244 [==============================] - 47s 190ms/step - loss: 0.5775 - auc: 0.7577 - accuracy: 0.6444 - val_loss: 0.5758 - val_auc: 0.7703 - val_accuracy: 0.6432\n",
            "Epoch 20/100\n",
            "244/244 [==============================] - 47s 189ms/step - loss: 0.5764 - auc: 0.7590 - accuracy: 0.6407 - val_loss: 0.5699 - val_auc: 0.7722 - val_accuracy: 0.6440\n",
            "Epoch 21/100\n",
            "244/244 [==============================] - 47s 189ms/step - loss: 0.5748 - auc: 0.7625 - accuracy: 0.6425 - val_loss: 0.5631 - val_auc: 0.7729 - val_accuracy: 0.6502\n",
            "Epoch 22/100\n",
            "244/244 [==============================] - 47s 188ms/step - loss: 0.5728 - auc: 0.7651 - accuracy: 0.6497 - val_loss: 0.5805 - val_auc: 0.7746 - val_accuracy: 0.6404\n",
            "Epoch 23/100\n",
            "244/244 [==============================] - 47s 189ms/step - loss: 0.5709 - auc: 0.7676 - accuracy: 0.6515 - val_loss: 0.5585 - val_auc: 0.7743 - val_accuracy: 0.6560\n",
            "Epoch 24/100\n",
            "244/244 [==============================] - 47s 189ms/step - loss: 0.5669 - auc: 0.7705 - accuracy: 0.6551 - val_loss: 0.5599 - val_auc: 0.7758 - val_accuracy: 0.6574\n",
            "Epoch 25/100\n",
            "244/244 [==============================] - 47s 190ms/step - loss: 0.5669 - auc: 0.7712 - accuracy: 0.6570 - val_loss: 0.5612 - val_auc: 0.7771 - val_accuracy: 0.6576\n",
            "Epoch 26/100\n",
            "244/244 [==============================] - 47s 189ms/step - loss: 0.5669 - auc: 0.7725 - accuracy: 0.6567 - val_loss: 0.5801 - val_auc: 0.7789 - val_accuracy: 0.6446\n",
            "Epoch 27/100\n",
            "244/244 [==============================] - 47s 188ms/step - loss: 0.5653 - auc: 0.7751 - accuracy: 0.6589 - val_loss: 0.5587 - val_auc: 0.7795 - val_accuracy: 0.6606\n",
            "Epoch 28/100\n",
            "244/244 [==============================] - 47s 191ms/step - loss: 0.5617 - auc: 0.7792 - accuracy: 0.6628 - val_loss: 0.5566 - val_auc: 0.7803 - val_accuracy: 0.6630\n",
            "Epoch 29/100\n",
            "223/244 [==========================>...] - ETA: 2s - loss: 0.5602 - auc: 0.7800 - accuracy: 0.6651"
          ]
        }
      ],
      "source": [
        "run_hist = model.fit(normalized_data, validation_data=normalized_val_data, epochs=100, class_weight={0:w0, 1:w1}, \n",
        "  callbacks=[keras.callbacks.EarlyStopping(\n",
        "                  monitor=\"val_auc\",\n",
        "                  min_delta=0,\n",
        "                  patience=5,\n",
        "                  verbose=1,\n",
        "                  mode=\"auto\",\n",
        "                  baseline=None,\n",
        "                  restore_best_weights=True,\n",
        "              )])"
      ]
    },
    {
      "cell_type": "code",
      "execution_count": null,
      "metadata": {
        "id": "AE4y5bekwtPQ"
      },
      "outputs": [],
      "source": [
        "results = model.evaluate(normalized_test_data)\n",
        "print(results)"
      ]
    },
    {
      "cell_type": "markdown",
      "metadata": {
        "id": "i88l4nMVwtPQ"
      },
      "source": [
        "#### N512-L3-D2"
      ]
    },
    {
      "cell_type": "code",
      "execution_count": null,
      "metadata": {
        "id": "ISc4BXJdwtPQ"
      },
      "outputs": [],
      "source": [
        "N = 512\n",
        "NAME = \"N512-L3-D2\"\n",
        "keras.backend.clear_session()"
      ]
    },
    {
      "cell_type": "code",
      "execution_count": null,
      "metadata": {
        "id": "hxEMZv2RwtPQ"
      },
      "outputs": [],
      "source": [
        "ins = image_batch.shape[1:]\n",
        "\n",
        "model = Sequential()\n",
        "\n",
        "model.add(Conv2D(32, (3,3), padding=\"same\", activation=\"relu\", input_shape=ins))\n",
        "\n",
        "model.add(Conv2D(32, (3,3), padding=\"same\", strides = (2,2), activation=\"relu\"))\n",
        "\n",
        "model.add(MaxPooling2D(pool_size=(2, 2)))\n",
        "\n",
        "model.add(Conv2D(32, (3,3), padding=\"same\", strides = (2,2), activation=\"relu\"))\n",
        "\n",
        "model.add(Conv2D(32, (3,3), padding=\"same\", strides = (2,2), activation=\"relu\"))\n",
        "\n",
        "model.add(MaxPooling2D(pool_size=(2, 2)))\n",
        "\n",
        "model.add(Conv2D(64, (3,3), padding=\"same\", strides = (2,2), activation=\"relu\"))\n",
        "\n",
        "model.add(Conv2D(32, (3,3), padding=\"same\", strides = (2,2), activation=\"relu\"))\n",
        "\n",
        "model.add(Dropout(0.1))\n",
        "\n",
        "model.add(MaxPooling2D(pool_size=(2, 2)))\n",
        "\n",
        "model.add(Dense(128, activation=\"relu\"))\n",
        "\n",
        "model.add(Flatten())\n",
        "\n",
        "model.add(Dense(N, activation=\"relu\"))\n",
        "\n",
        "model.add(Dense(N, activation=\"relu\"))\n",
        "\n",
        "model.add(Dense(N, activation=\"relu\"))\n",
        "\n",
        "model.add(Dropout(0.5))\n",
        "\n",
        "model.add(Dense(1, activation=\"sigmoid\"))\n",
        "\n",
        "model.summary()"
      ]
    },
    {
      "cell_type": "code",
      "execution_count": null,
      "metadata": {
        "id": "2vAZjt1fwtPQ"
      },
      "outputs": [],
      "source": [
        "model.compile(loss='binary_crossentropy', optimizer=optimizers.Adam(learning_rate=0.00001), metrics=[keras.metrics.AUC(), 'accuracy'])"
      ]
    },
    {
      "cell_type": "code",
      "execution_count": null,
      "metadata": {
        "id": "6Ik6W8XDwtPQ"
      },
      "outputs": [],
      "source": [
        "run_hist = model.fit(normalized_data, validation_data=normalized_val_data, epochs=100, class_weight={0:w0, 1:w1},\n",
        "  callbacks=[keras.callbacks.EarlyStopping(\n",
        "                  monitor=\"val_auc\",\n",
        "                  min_delta=0,\n",
        "                  patience=5,\n",
        "                  verbose=1,\n",
        "                  mode=\"auto\",\n",
        "                  baseline=None,\n",
        "                  restore_best_weights=True,\n",
        "              )])"
      ]
    },
    {
      "cell_type": "code",
      "execution_count": null,
      "metadata": {
        "id": "auEn6O9TwtPR"
      },
      "outputs": [],
      "source": [
        "results = model.evaluate(normalized_test_data)\n",
        "print(results)"
      ]
    },
    {
      "cell_type": "markdown",
      "metadata": {
        "id": "HkORlXuywtPR"
      },
      "source": [
        "#### N1024-L1-D4"
      ]
    },
    {
      "cell_type": "code",
      "execution_count": null,
      "metadata": {
        "id": "FSTQSUUswtPR"
      },
      "outputs": [],
      "source": [
        "N = 1024\n",
        "NAME = \"N1024-L1-D4\"\n",
        "keras.backend.clear_session()"
      ]
    },
    {
      "cell_type": "code",
      "execution_count": null,
      "metadata": {
        "id": "RUaYkJR8wtPR"
      },
      "outputs": [],
      "source": [
        "ins = image_batch.shape[1:]\n",
        "\n",
        "model = Sequential()\n",
        "\n",
        "model.add(Conv2D(32, (3,3), padding=\"same\", activation=\"relu\", input_shape=ins))\n",
        "\n",
        "model.add(Conv2D(32, (3,3), padding=\"same\", strides = (2,2), activation=\"relu\"))\n",
        "\n",
        "model.add(MaxPooling2D(pool_size=(2, 2)))\n",
        "\n",
        "model.add(Conv2D(32, (3,3), padding=\"same\", strides = (2,2), activation=\"relu\"))\n",
        "\n",
        "model.add(Conv2D(32, (3,3), padding=\"same\", strides = (2,2), activation=\"relu\"))\n",
        "\n",
        "model.add(MaxPooling2D(pool_size=(2, 2)))\n",
        "\n",
        "model.add(Conv2D(64, (3,3), padding=\"same\", strides = (2,2), activation=\"relu\"))\n",
        "\n",
        "model.add(Conv2D(32, (3,3), padding=\"same\", strides = (2,2), activation=\"relu\"))\n",
        "\n",
        "model.add(MaxPooling2D(pool_size=(2, 2)))\n",
        "\n",
        "model.add(Dense(128, activation=\"relu\"))\n",
        "\n",
        "model.add(Flatten())\n",
        "\n",
        "model.add(Dense(N, activation=\"relu\"))\n",
        "\n",
        "model.add(Dropout(0.5))\n",
        "\n",
        "model.add(Dense(1, activation=\"sigmoid\"))\n",
        "\n",
        "model.summary()"
      ]
    },
    {
      "cell_type": "code",
      "execution_count": null,
      "metadata": {
        "id": "4bqVHizQwtPR"
      },
      "outputs": [],
      "source": [
        "model.compile(loss='binary_crossentropy', optimizer=optimizers.Adam(learning_rate=0.00001), metrics=[keras.metrics.AUC(), 'accuracy'])"
      ]
    },
    {
      "cell_type": "code",
      "execution_count": null,
      "metadata": {
        "id": "0OLr0L_TwtPR"
      },
      "outputs": [],
      "source": [
        "run_hist = model.fit(normalized_data, validation_data=normalized_val_data, epochs=100, class_weight={0:w0, 1:w1},\n",
        "  callbacks=[keras.callbacks.EarlyStopping(\n",
        "                  monitor=\"val_auc\",\n",
        "                  min_delta=0,\n",
        "                  patience=5,\n",
        "                  verbose=1,\n",
        "                  mode=\"auto\",\n",
        "                  baseline=None,\n",
        "                  restore_best_weights=True,\n",
        "              )])"
      ]
    },
    {
      "cell_type": "code",
      "execution_count": null,
      "metadata": {
        "id": "6bEnvYBmwtPR"
      },
      "outputs": [],
      "source": [
        "results = model.evaluate(normalized_test_data)\n",
        "print(results)"
      ]
    }
  ],
  "metadata": {
    "accelerator": "GPU",
    "colab": {
      "collapsed_sections": [
        "kh6HufBFBOQW",
        "k7yjVCRxBvcy",
        "Q4Rp5hVzN0f0",
        "1vLx4FnN9pTL",
        "9F0cjcFhC6wf",
        "XeMyU1i-Mvf9",
        "MrGz9IdWO2Ql",
        "QS6UkRK4v1D-",
        "3I2ulDVXRocH",
        "8m41UAzSRocI",
        "fK883WoXRocI",
        "nsCUvfI3RocI",
        "WhMlAbnyR40W",
        "TPhOekA72pSX",
        "3fzt-yfFFbca",
        "whm-Mx3imlKp",
        "wWLkFLl5reEP",
        "Bi-OUda-eqc4",
        "kBfUljt32pSY",
        "MWvmn6g82pSZ",
        "K4OSLVKiwRGJ",
        "jFvebp2XwRGK",
        "i88l4nMVwtPQ",
        "HkORlXuywtPR"
      ],
      "name": "Novos Experimentos Dense Layers",
      "provenance": []
    },
    "gpuClass": "standard",
    "kernelspec": {
      "display_name": "Python 3",
      "name": "python3"
    },
    "language_info": {
      "name": "python"
    }
  },
  "nbformat": 4,
  "nbformat_minor": 0
}