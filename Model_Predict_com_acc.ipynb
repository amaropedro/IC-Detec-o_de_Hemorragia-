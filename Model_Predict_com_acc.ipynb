{
  "nbformat": 4,
  "nbformat_minor": 0,
  "metadata": {
    "colab": {
      "provenance": [],
      "collapsed_sections": []
    },
    "kernelspec": {
      "name": "python3",
      "display_name": "Python 3"
    },
    "language_info": {
      "name": "python"
    }
  },
  "cells": [
    {
      "cell_type": "markdown",
      "source": [
        "#imports e divisões"
      ],
      "metadata": {
        "id": "fGRaE5SBT0CK"
      }
    },
    {
      "cell_type": "code",
      "source": [
        "!pip install pydicom\n",
        "\n",
        "import os\n",
        "import shutil\n",
        "import pydicom\n",
        "import numpy as np\n",
        "from PIL import Image\n",
        "\n",
        "import keras\n",
        "from keras.models import Sequential\n",
        "from keras.layers import Dense, Dropout, Activation, Flatten, Rescaling\n",
        "from keras.layers import Conv2D, MaxPooling2D\n",
        "from tensorflow.keras import optimizers\n",
        "from tensorflow.keras.utils import image_dataset_from_directory"
      ],
      "metadata": {
        "colab": {
          "base_uri": "https://localhost:8080/"
        },
        "id": "HMuKJ7ldSIs7",
        "outputId": "2ce54c3f-bce1-4fcd-fdf8-16c9611b7693"
      },
      "execution_count": null,
      "outputs": [
        {
          "output_type": "stream",
          "name": "stdout",
          "text": [
            "Looking in indexes: https://pypi.org/simple, https://us-python.pkg.dev/colab-wheels/public/simple/\n",
            "Collecting pydicom\n",
            "  Downloading pydicom-2.3.0-py3-none-any.whl (2.0 MB)\n",
            "\u001b[K     |████████████████████████████████| 2.0 MB 6.0 MB/s \n",
            "\u001b[?25hInstalling collected packages: pydicom\n",
            "Successfully installed pydicom-2.3.0\n"
          ]
        }
      ]
    },
    {
      "cell_type": "code",
      "execution_count": null,
      "metadata": {
        "id": "b5sn97j3RLmI"
      },
      "outputs": [],
      "source": [
        "!mkdir ~/.kaggle\n",
        "!cp kaggle.json ~/.kaggle/\n",
        "!chmod 600 /root/.kaggle/kaggle.json"
      ]
    },
    {
      "cell_type": "code",
      "source": [
        "!kaggle datasets download -d pedroamaro/rsana-test-ds\n",
        "!unzip /content/rsana-test-ds.zip\n",
        "!rm /content/rsana-test-ds.zip"
      ],
      "metadata": {
        "id": "BmTWugXfRPv9"
      },
      "execution_count": null,
      "outputs": []
    },
    {
      "cell_type": "code",
      "source": [
        "!mkdir /content/test\n",
        "!mkdir /content/test/no\n",
        "!mkdir /content/test/yes\n",
        "\n",
        "!mkdir /content/train\n",
        "!mkdir /content/train/no\n",
        "!mkdir /content/train/yes"
      ],
      "metadata": {
        "id": "fkHH0rx5R4Sb"
      },
      "execution_count": null,
      "outputs": []
    },
    {
      "cell_type": "code",
      "source": [
        "!mkdir ds_jpg\n",
        "!mkdir /content/ds_jpg/no\n",
        "!mkdir /content/ds_jpg/yes"
      ],
      "metadata": {
        "id": "-0YUsQ5a9uok"
      },
      "execution_count": null,
      "outputs": []
    },
    {
      "cell_type": "code",
      "source": [
        "def window_image(img, window_center, window_width):\n",
        "    img_min = window_center - window_width // 2\n",
        "    img_max = window_center + window_width // 2\n",
        "    img = np.clip(img, img_min, img_max)\n",
        "    return img\n",
        "\n",
        "def save_brainW_as_jpg(path, id, dest_folder):\n",
        "  dcm = pydicom.dcmread(path)\n",
        "  \n",
        "  sample = dcm.pixel_array.astype(float) * dcm.RescaleSlope + dcm.RescaleIntercept\n",
        "\n",
        "  im = window_image(sample, 40, 80)\n",
        "\n",
        "  rescaled_im = (np.maximum(im, 0)/im.max())*255.0\n",
        "  final_im = np.uint8(rescaled_im)\n",
        "\n",
        "  final_im = Image.fromarray(final_im)\n",
        "  final_im.save(dest_folder+id+'.jpg')"
      ],
      "metadata": {
        "id": "bPDf68wT9ykv"
      },
      "execution_count": null,
      "outputs": []
    },
    {
      "cell_type": "code",
      "source": [
        "train_path = \"/content/small_rsna_ds/yes/\"\n",
        "folder = os.listdir(\"/content/small_rsna_ds/yes/\")\n",
        "dest_folder = \"/content/ds_jpg/yes/\"\n",
        "\n",
        "for id_ in folder:\n",
        "  img_id = id_[:12]\n",
        "  save_brainW_as_jpg(train_path + f\"{id_}\", img_id, dest_folder)"
      ],
      "metadata": {
        "id": "XUcLXxQt9z5b"
      },
      "execution_count": null,
      "outputs": []
    },
    {
      "cell_type": "code",
      "source": [
        "train_path = \"/content/small_rsna_ds/no/\"\n",
        "folder = os.listdir(\"/content/small_rsna_ds/no/\")\n",
        "dest_folder = \"/content/ds_jpg/no/\"\n",
        "\n",
        "for id_ in folder:\n",
        "  img_id = id_[:12]\n",
        "  save_brainW_as_jpg(train_path + f\"{id_}\", img_id, dest_folder)"
      ],
      "metadata": {
        "id": "rOjiLkNp91hy",
        "colab": {
          "base_uri": "https://localhost:8080/"
        },
        "outputId": "619c9566-9125-495f-ba7d-7cc65c46aee4"
      },
      "execution_count": null,
      "outputs": [
        {
          "output_type": "stream",
          "name": "stderr",
          "text": [
            "/usr/local/lib/python3.7/dist-packages/ipykernel_launcher.py:14: RuntimeWarning: invalid value encountered in true_divide\n",
            "  \n"
          ]
        }
      ]
    },
    {
      "cell_type": "code",
      "source": [
        "print('Numero de imagens: NO')\n",
        "!ls /content/ds_jpg/no/ | wc -l\n",
        "print('Numero de imagens: YES')\n",
        "!ls /content/ds_jpg/yes/ | wc -l"
      ],
      "metadata": {
        "colab": {
          "base_uri": "https://localhost:8080/"
        },
        "id": "685g4iwg-6ow",
        "outputId": "77242d6f-e976-4efe-dd83-763d2a962086"
      },
      "execution_count": null,
      "outputs": [
        {
          "output_type": "stream",
          "name": "stdout",
          "text": [
            "Numero de imagens: NO\n",
            "117\n",
            "Numero de imagens: YES\n",
            "32\n"
          ]
        }
      ]
    },
    {
      "cell_type": "code",
      "source": [
        "cont = 0\n",
        "for file in os.listdir('/content/ds_jpg/yes'):\n",
        "  if cont <= 10:\n",
        "    shutil.copy('/content/ds_jpg/yes/' + file, '/content/test/yes')\n",
        "  else:\n",
        "      shutil.copy('/content/ds_jpg/yes/' + file, '/content/train/yes')\n",
        "  cont+=1"
      ],
      "metadata": {
        "id": "DhKPpFmqSHmO"
      },
      "execution_count": null,
      "outputs": []
    },
    {
      "cell_type": "code",
      "source": [
        "cont = 0\n",
        "for file in os.listdir('/content/ds_jpg/no'):\n",
        "  if cont <= 35:\n",
        "    shutil.copy('/content/ds_jpg/no/' + file, '/content/test/no')\n",
        "  else:\n",
        "      shutil.copy('/content/ds_jpg/no/' + file, '/content/train/no')\n",
        "  cont+=1"
      ],
      "metadata": {
        "id": "zMgWOTq1S9Cn"
      },
      "execution_count": null,
      "outputs": []
    },
    {
      "cell_type": "code",
      "source": [
        "print('Numero de imagens: NO')\n",
        "!ls /content/train/no | wc -l\n",
        "print('Numero de imagens: YES')\n",
        "!ls /content/train/yes | wc -l\n",
        "\n",
        "print('Numero de imagens: NO')\n",
        "!ls /content/test/no | wc -l\n",
        "print('Numero de imagens: YES')\n",
        "!ls /content/test/yes | wc -l"
      ],
      "metadata": {
        "colab": {
          "base_uri": "https://localhost:8080/"
        },
        "id": "dsiGZmwHTGbz",
        "outputId": "79879e16-d33e-4807-a12d-8be36610977c"
      },
      "execution_count": null,
      "outputs": [
        {
          "output_type": "stream",
          "name": "stdout",
          "text": [
            "Numero de imagens: NO\n",
            "81\n",
            "Numero de imagens: YES\n",
            "21\n",
            "Numero de imagens: NO\n",
            "36\n",
            "Numero de imagens: YES\n",
            "11\n"
          ]
        }
      ]
    },
    {
      "cell_type": "markdown",
      "source": [
        "#Modelo train"
      ],
      "metadata": {
        "id": "3k2OlF4yT5e0"
      }
    },
    {
      "cell_type": "code",
      "source": [
        "train_data = image_dataset_from_directory(\n",
        "    \"/content/train\",\n",
        "     labels='inferred',\n",
        "     validation_split=0.25,\n",
        "     subset=\"training\",\n",
        "     seed=123,\n",
        "     batch_size = 64,\n",
        "     color_mode = \"grayscale\"\n",
        "     )"
      ],
      "metadata": {
        "colab": {
          "base_uri": "https://localhost:8080/"
        },
        "id": "Y9-K7AMD10NK",
        "outputId": "d7f39872-c5e7-4642-cd18-82eaf5407489"
      },
      "execution_count": null,
      "outputs": [
        {
          "output_type": "stream",
          "name": "stdout",
          "text": [
            "Found 102 files belonging to 2 classes.\n",
            "Using 77 files for training.\n"
          ]
        }
      ]
    },
    {
      "cell_type": "code",
      "source": [
        "val_data = image_dataset_from_directory(\n",
        "    \"/content/train\",\n",
        "     labels='inferred',\n",
        "     validation_split=0.25,\n",
        "     subset=\"validation\",\n",
        "     seed=123,\n",
        "     batch_size = 64,\n",
        "     color_mode = \"grayscale\"\n",
        ")"
      ],
      "metadata": {
        "colab": {
          "base_uri": "https://localhost:8080/"
        },
        "id": "1tdF_VgO425w",
        "outputId": "4587bc8f-6ec6-4a86-bd82-fec34562e6f3"
      },
      "execution_count": null,
      "outputs": [
        {
          "output_type": "stream",
          "name": "stdout",
          "text": [
            "Found 102 files belonging to 2 classes.\n",
            "Using 25 files for validation.\n"
          ]
        }
      ]
    },
    {
      "cell_type": "code",
      "source": [
        "class_names = train_data.class_names"
      ],
      "metadata": {
        "id": "QV4OSt9S20R3"
      },
      "execution_count": null,
      "outputs": []
    },
    {
      "cell_type": "code",
      "source": [
        "for image_batch, labels_batch in train_data:\n",
        "  print(image_batch.shape)\n",
        "  print(labels_batch.shape)\n",
        "  break"
      ],
      "metadata": {
        "colab": {
          "base_uri": "https://localhost:8080/"
        },
        "id": "2VNwEKeA8MGV",
        "outputId": "60a0edfd-0031-44bb-9215-65f08ab67565"
      },
      "execution_count": null,
      "outputs": [
        {
          "output_type": "stream",
          "name": "stdout",
          "text": [
            "(64, 256, 256, 1)\n",
            "(64,)\n"
          ]
        }
      ]
    },
    {
      "cell_type": "code",
      "source": [
        "normalization_layer = Rescaling(1./255)\n",
        "\n",
        "normalized_data = train_data.map(lambda x, y: (normalization_layer(x), y))\n",
        "image_batch, labels_batch = next(iter(normalized_data))\n",
        "first_image = image_batch[0]\n",
        "# Notice the pixel values are now in `[0,1]`.\n",
        "print(np.min(first_image), np.max(first_image))"
      ],
      "metadata": {
        "colab": {
          "base_uri": "https://localhost:8080/"
        },
        "id": "rWyT6SWbCpKK",
        "outputId": "1ee0358b-ec96-4bab-c6ca-af229d589c9e"
      },
      "execution_count": null,
      "outputs": [
        {
          "output_type": "stream",
          "name": "stdout",
          "text": [
            "0.0 1.0\n"
          ]
        }
      ]
    },
    {
      "cell_type": "code",
      "source": [
        "keras.backend.clear_session()"
      ],
      "metadata": {
        "id": "CA957PZrWiLa"
      },
      "execution_count": null,
      "outputs": []
    },
    {
      "cell_type": "code",
      "source": [
        "ins = image_batch.shape[1:]\n",
        "\n",
        "model = Sequential()\n",
        "\n",
        "model.add(Conv2D(32, (3,3), padding=\"same\", activation=\"relu\", input_shape=ins))\n",
        "\n",
        "model.add(Conv2D(32, (3,3), padding=\"same\", strides = (2,2), activation=\"relu\"))\n",
        "\n",
        "model.add(Conv2D(64, (3,3), padding=\"same\", strides = (2,2), activation=\"relu\"))\n",
        "\n",
        "model.add(Dropout(0.2))\n",
        "\n",
        "model.add(MaxPooling2D(pool_size=(2, 2)))\n",
        "\n",
        "model.add(Dense(128, activation=\"relu\"))\n",
        "\n",
        "model.add(Flatten())\n",
        "\n",
        "model.add(Dense(1024, activation=\"relu\"))\n",
        "\n",
        "model.add(Dropout(0.5))\n",
        "\n",
        "model.add(Dense(1024, activation=\"relu\"))\n",
        "\n",
        "model.add(Dense(1, activation=\"sigmoid\"))\n",
        "\n",
        "model.summary()"
      ],
      "metadata": {
        "colab": {
          "base_uri": "https://localhost:8080/"
        },
        "id": "5PXnb8opT4rO",
        "outputId": "e1b9d229-45cd-4965-b580-3fed61e87501"
      },
      "execution_count": null,
      "outputs": [
        {
          "output_type": "stream",
          "name": "stdout",
          "text": [
            "Model: \"sequential\"\n",
            "_________________________________________________________________\n",
            " Layer (type)                Output Shape              Param #   \n",
            "=================================================================\n",
            " conv2d (Conv2D)             (None, 256, 256, 32)      320       \n",
            "                                                                 \n",
            " conv2d_1 (Conv2D)           (None, 128, 128, 32)      9248      \n",
            "                                                                 \n",
            " conv2d_2 (Conv2D)           (None, 64, 64, 64)        18496     \n",
            "                                                                 \n",
            " dropout (Dropout)           (None, 64, 64, 64)        0         \n",
            "                                                                 \n",
            " max_pooling2d (MaxPooling2D  (None, 32, 32, 64)       0         \n",
            " )                                                               \n",
            "                                                                 \n",
            " dense (Dense)               (None, 32, 32, 128)       8320      \n",
            "                                                                 \n",
            " flatten (Flatten)           (None, 131072)            0         \n",
            "                                                                 \n",
            " dense_1 (Dense)             (None, 1024)              134218752 \n",
            "                                                                 \n",
            " dropout_1 (Dropout)         (None, 1024)              0         \n",
            "                                                                 \n",
            " dense_2 (Dense)             (None, 1024)              1049600   \n",
            "                                                                 \n",
            " dense_3 (Dense)             (None, 1)                 1025      \n",
            "                                                                 \n",
            "=================================================================\n",
            "Total params: 135,305,761\n",
            "Trainable params: 135,305,761\n",
            "Non-trainable params: 0\n",
            "_________________________________________________________________\n"
          ]
        }
      ]
    },
    {
      "cell_type": "code",
      "source": [
        "model.compile(loss='binary_crossentropy', optimizer=optimizers.Adam(learning_rate=0.00001), metrics=[keras.metrics.AUC(), 'accuracy'])"
      ],
      "metadata": {
        "id": "kxEJDCaJWCTx"
      },
      "execution_count": null,
      "outputs": []
    },
    {
      "cell_type": "code",
      "source": [
        "run_hist = model.fit(train_data, validation_data=val_data, epochs=10)"
      ],
      "metadata": {
        "colab": {
          "base_uri": "https://localhost:8080/"
        },
        "id": "VQaW9xjtWIMx",
        "outputId": "0c1d7df6-ac32-4947-a710-2f624ab34a98"
      },
      "execution_count": null,
      "outputs": [
        {
          "output_type": "stream",
          "name": "stdout",
          "text": [
            "Epoch 1/10\n",
            "2/2 [==============================] - 12s 3s/step - loss: 1.3388 - auc: 0.5856 - accuracy: 0.6234 - val_loss: 3.5660 - val_auc: 0.4444 - val_accuracy: 0.7200\n",
            "Epoch 2/10\n",
            "2/2 [==============================] - 8s 3s/step - loss: 2.0851 - auc: 0.5641 - accuracy: 0.8182 - val_loss: 0.7217 - val_auc: 0.8016 - val_accuracy: 0.8400\n",
            "Epoch 3/10\n",
            "2/2 [==============================] - 8s 3s/step - loss: 0.8071 - auc: 0.7540 - accuracy: 0.8831 - val_loss: 1.2866 - val_auc: 0.8730 - val_accuracy: 0.5600\n",
            "Epoch 4/10\n",
            "2/2 [==============================] - 8s 3s/step - loss: 0.6281 - auc: 0.9246 - accuracy: 0.7532 - val_loss: 0.6667 - val_auc: 0.7976 - val_accuracy: 0.7200\n",
            "Epoch 5/10\n",
            "2/2 [==============================] - 8s 3s/step - loss: 0.2796 - auc: 0.9325 - accuracy: 0.9481 - val_loss: 1.4066 - val_auc: 0.6786 - val_accuracy: 0.8000\n",
            "Epoch 6/10\n",
            "2/2 [==============================] - 8s 3s/step - loss: 0.2713 - auc: 0.9484 - accuracy: 0.9091 - val_loss: 1.9096 - val_auc: 0.6746 - val_accuracy: 0.7600\n",
            "Epoch 7/10\n",
            "2/2 [==============================] - 8s 3s/step - loss: 0.4994 - auc: 0.8719 - accuracy: 0.8831 - val_loss: 1.6268 - val_auc: 0.6825 - val_accuracy: 0.7600\n",
            "Epoch 8/10\n",
            "2/2 [==============================] - 9s 3s/step - loss: 0.3567 - auc: 0.9110 - accuracy: 0.9221 - val_loss: 1.2087 - val_auc: 0.6468 - val_accuracy: 0.7600\n",
            "Epoch 9/10\n",
            "2/2 [==============================] - 9s 3s/step - loss: 0.1748 - auc: 0.9512 - accuracy: 0.9481 - val_loss: 1.3013 - val_auc: 0.7063 - val_accuracy: 0.6400\n",
            "Epoch 10/10\n",
            "2/2 [==============================] - 9s 3s/step - loss: 0.2747 - auc: 0.9921 - accuracy: 0.9221 - val_loss: 1.4991 - val_auc: 0.7341 - val_accuracy: 0.5600\n"
          ]
        }
      ]
    },
    {
      "cell_type": "markdown",
      "source": [
        "# Evalueate"
      ],
      "metadata": {
        "id": "eNY7zr5eZh1b"
      }
    },
    {
      "cell_type": "code",
      "source": [
        "test_data = image_dataset_from_directory(\n",
        "    \"/content/test\",\n",
        "     labels='inferred',\n",
        "     label_mode=\"int\",\n",
        "     batch_size = 64,\n",
        "     color_mode = \"grayscale\"\n",
        "     )"
      ],
      "metadata": {
        "colab": {
          "base_uri": "https://localhost:8080/"
        },
        "id": "WIwu6hPsWwGV",
        "outputId": "46ee8d58-d474-4d01-db6f-3a57a979017d"
      },
      "execution_count": null,
      "outputs": [
        {
          "output_type": "stream",
          "name": "stdout",
          "text": [
            "Found 47 files belonging to 2 classes.\n"
          ]
        }
      ]
    },
    {
      "cell_type": "code",
      "source": [
        "results = model.evaluate(test_data)\n",
        "print(results)"
      ],
      "metadata": {
        "colab": {
          "base_uri": "https://localhost:8080/"
        },
        "id": "jTG0vUtGc-Qw",
        "outputId": "59fa338e-7370-4334-f815-2fb70352bab1"
      },
      "execution_count": null,
      "outputs": [
        {
          "output_type": "stream",
          "name": "stdout",
          "text": [
            "1/1 [==============================] - 1s 1s/step - loss: 2.0144 - auc: 0.5480 - accuracy: 0.5319\n",
            "[2.0144248008728027, 0.5479798316955566, 0.5319148898124695]\n"
          ]
        }
      ]
    },
    {
      "cell_type": "markdown",
      "source": [
        "#Predict"
      ],
      "metadata": {
        "id": "nAZbU7t_dfb2"
      }
    },
    {
      "cell_type": "code",
      "source": [
        "import matplotlib.pyplot as plt\n",
        "from sklearn.metrics import confusion_matrix, precision_recall_curve, roc_auc_score, roc_curve, accuracy_score"
      ],
      "metadata": {
        "id": "_JtQ_zEhZu0C"
      },
      "execution_count": null,
      "outputs": []
    },
    {
      "cell_type": "code",
      "source": [
        "def plot_roc(y_test, y_pred, model_name):\n",
        "    fpr, tpr, thr = roc_curve(y_test, y_pred)\n",
        "    fig, ax = plt.subplots(figsize=(8, 8))\n",
        "    ax.plot(fpr, tpr, 'k-')\n",
        "    ax.plot([0, 1], [0, 1], 'k--', linewidth=.5)  # roc curve for random model\n",
        "    ax.grid(True)\n",
        "    ax.set(title='ROC Curve for {}'.format(model_name),\n",
        "           xlim=[-0.01, 1.01], ylim=[-0.01, 1.01])"
      ],
      "metadata": {
        "id": "EU0SlZKFZkK_"
      },
      "execution_count": null,
      "outputs": []
    },
    {
      "cell_type": "code",
      "source": [
        "test_data = image_dataset_from_directory(\n",
        "    \"/content/test\",\n",
        "     labels='inferred',\n",
        "     label_mode=\"int\",\n",
        "     batch_size = 64,\n",
        "     color_mode = \"grayscale\"\n",
        "     )"
      ],
      "metadata": {
        "colab": {
          "base_uri": "https://localhost:8080/"
        },
        "id": "PzB3jHoVeEE2",
        "outputId": "93e52d7f-5199-4770-e010-04011b764c6b"
      },
      "execution_count": null,
      "outputs": [
        {
          "output_type": "stream",
          "name": "stdout",
          "text": [
            "Found 47 files belonging to 2 classes.\n"
          ]
        }
      ]
    },
    {
      "cell_type": "code",
      "source": [
        "for x, y in test_data:\n",
        "  y_test = y"
      ],
      "metadata": {
        "id": "snJxRzF4gtrb"
      },
      "execution_count": null,
      "outputs": []
    },
    {
      "cell_type": "code",
      "source": [
        "y_test"
      ],
      "metadata": {
        "colab": {
          "base_uri": "https://localhost:8080/"
        },
        "id": "CQnab_VUkxJA",
        "outputId": "dacd5e7b-72a4-4ab2-cd5b-1e2d505011fc"
      },
      "execution_count": null,
      "outputs": [
        {
          "output_type": "execute_result",
          "data": {
            "text/plain": [
              "<tf.Tensor: shape=(47,), dtype=int32, numpy=\n",
              "array([0, 1, 0, 0, 1, 1, 1, 1, 1, 0, 0, 0, 0, 0, 0, 0, 1, 0, 0, 0, 1, 1,\n",
              "       0, 0, 0, 0, 0, 0, 0, 0, 1, 0, 0, 0, 1, 0, 0, 0, 0, 0, 0, 0, 0, 0,\n",
              "       0, 0, 0], dtype=int32)>"
            ]
          },
          "metadata": {},
          "execution_count": 74
        }
      ]
    },
    {
      "cell_type": "code",
      "source": [
        "y_hat = model.predict(test_data)\n",
        "y_hat"
      ],
      "metadata": {
        "colab": {
          "base_uri": "https://localhost:8080/"
        },
        "id": "EugiRPvEXGZB",
        "outputId": "07a361da-7ccb-4b5e-974e-31711d98cf9d"
      },
      "execution_count": null,
      "outputs": [
        {
          "output_type": "execute_result",
          "data": {
            "text/plain": [
              "array([[7.9317391e-03],\n",
              "       [1.9508302e-02],\n",
              "       [1.4111036e-07],\n",
              "       [8.2547069e-02],\n",
              "       [6.0770929e-02],\n",
              "       [1.2920358e-07],\n",
              "       [5.2852027e-08],\n",
              "       [6.3120948e-05],\n",
              "       [4.9092770e-03],\n",
              "       [1.1950565e-05],\n",
              "       [2.7953859e-06],\n",
              "       [1.7440319e-04],\n",
              "       [6.4217734e-06],\n",
              "       [3.4448345e-05],\n",
              "       [6.0623288e-03],\n",
              "       [6.5588951e-04],\n",
              "       [3.5038590e-04],\n",
              "       [5.5182689e-01],\n",
              "       [1.0493064e-05],\n",
              "       [7.8323483e-04],\n",
              "       [3.7386626e-02],\n",
              "       [3.4717685e-01],\n",
              "       [2.5032103e-02],\n",
              "       [5.2490830e-04],\n",
              "       [2.1356419e-01],\n",
              "       [1.7447829e-02],\n",
              "       [9.9235761e-01],\n",
              "       [8.4573710e-01],\n",
              "       [1.4030294e-07],\n",
              "       [9.9240273e-01],\n",
              "       [9.4450748e-01],\n",
              "       [1.9893212e-08],\n",
              "       [8.8362056e-01],\n",
              "       [1.3217993e-07],\n",
              "       [1.5534839e-08],\n",
              "       [5.1394131e-06],\n",
              "       [7.8164339e-03],\n",
              "       [6.5715947e-05],\n",
              "       [6.1881429e-01],\n",
              "       [1.5305266e-05],\n",
              "       [1.9927621e-03],\n",
              "       [6.9764114e-09],\n",
              "       [7.6827407e-04],\n",
              "       [2.2857035e-05],\n",
              "       [3.1320200e-05],\n",
              "       [1.7419457e-04],\n",
              "       [9.9946505e-01]], dtype=float32)"
            ]
          },
          "metadata": {},
          "execution_count": 42
        }
      ]
    },
    {
      "cell_type": "code",
      "source": [
        "plot_roc(y_test, y_hat, \"Test\")"
      ],
      "metadata": {
        "colab": {
          "base_uri": "https://localhost:8080/",
          "height": 499
        },
        "id": "A5sp_f2vk7AA",
        "outputId": "0dbe4d5d-9efa-430c-ad0e-b80402516878"
      },
      "execution_count": null,
      "outputs": [
        {
          "output_type": "display_data",
          "data": {
            "text/plain": [
              "<Figure size 576x576 with 1 Axes>"
            ],
            "image/png": "[encoded data removed]"
          },
          "metadata": {
            "needs_background": "light"
          }
        }
      ]
    }
  ]
}